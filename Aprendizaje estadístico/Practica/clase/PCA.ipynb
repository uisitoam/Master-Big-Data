{
 "cells": [
  {
   "cell_type": "code",
   "execution_count": 29,
   "metadata": {
    "vscode": {
     "languageId": "r"
    }
   },
   "outputs": [
    {
     "data": {
      "text/html": [
       "'es_ES.UTF-8/es_ES.UTF-8/es_ES.UTF-8/C/es_ES.UTF-8/C'"
      ],
      "text/latex": [
       "'es\\_ES.UTF-8/es\\_ES.UTF-8/es\\_ES.UTF-8/C/es\\_ES.UTF-8/C'"
      ],
      "text/markdown": [
       "'es_ES.UTF-8/es_ES.UTF-8/es_ES.UTF-8/C/es_ES.UTF-8/C'"
      ],
      "text/plain": [
       "[1] \"es_ES.UTF-8/es_ES.UTF-8/es_ES.UTF-8/C/es_ES.UTF-8/C\""
      ]
     },
     "metadata": {},
     "output_type": "display_data"
    }
   ],
   "source": [
    "Sys.setlocale(\"LC_ALL\", \"es_ES.UTF-8\") # principlamente para mostrar tildes en las gráficas"
   ]
  },
  {
   "cell_type": "markdown",
   "metadata": {},
   "source": [
    "# Análisis de componentes principales"
   ]
  },
  {
   "cell_type": "markdown",
   "metadata": {},
   "source": [
    "En esta sesión práctica veremos como llevar a cabo un Análisis de Componentes Principales con R. El análisis\n",
    "de componentes principales se concibe como una técnica de reducción de la dimensión, pues permite pasar de\n",
    "una gran cantidad de variables interrelacionadas a unas pocas componentes principales. El método consiste\n",
    "en buscar combinaciones lineales de las variables originales que representen lo mejor posible a la variabilidad\n",
    "presente en los datos. De este modo, con unas pocas combinaciones lineales, que serán las componentes\n",
    "principales, sería suficiente para entender la información contenida en los datos. Al mismo tiempo, la forma\n",
    "en que se construyen las componentes, y su relación con unas u otras variables originales, sirven para entender\n",
    "la estructura de correlación inherente a los datos. Por último, las componentes principales, que forman un\n",
    "vector aleatorio de dimensión menor, pueden ser empleadas en análisis estadísticos posteriores, como por\n",
    "ejemplo en regresión."
   ]
  },
  {
   "cell_type": "markdown",
   "metadata": {},
   "source": [
    "## Análisis de componentes principales con `princomp`"
   ]
  },
  {
   "cell_type": "markdown",
   "metadata": {},
   "source": [
    "Trabajaremos a lo largo de este laboratorio con el siguiente ejemplo. Se ha examinado a 25 alumnos, aspirantes\n",
    "a ingresar en el Máster Interuniversitario en Big Data, de 5 materias diferentes: Programación (cuyo resultado\n",
    "se almacena en la variable `prog`), Ingeniería de Computadores (`ingcom`), Ingeniería del Software (`ingsof`),\n",
    "Sistemas de la Información (`sist`) y Estadística (`estad`). Las puntuaciones obtenidas se encuentran en el\n",
    "fichero 'aspirantes.txt' y se muestran a continuación."
   ]
  },
  {
   "cell_type": "code",
   "execution_count": 30,
   "metadata": {
    "vscode": {
     "languageId": "r"
    }
   },
   "outputs": [
    {
     "data": {
      "text/html": [
       "<table class=\"dataframe\">\n",
       "<caption>A data.frame: 25 x 5</caption>\n",
       "<thead>\n",
       "\t<tr><th scope=col>prog</th><th scope=col>ingcom</th><th scope=col>ingsof</th><th scope=col>sist</th><th scope=col>estad</th></tr>\n",
       "\t<tr><th scope=col>&lt;int&gt;</th><th scope=col>&lt;int&gt;</th><th scope=col>&lt;int&gt;</th><th scope=col>&lt;int&gt;</th><th scope=col>&lt;int&gt;</th></tr>\n",
       "</thead>\n",
       "<tbody>\n",
       "\t<tr><td>36</td><td>58</td><td>43</td><td>36</td><td>37</td></tr>\n",
       "\t<tr><td>62</td><td>54</td><td>50</td><td>46</td><td>52</td></tr>\n",
       "\t<tr><td>31</td><td>42</td><td>41</td><td>40</td><td>29</td></tr>\n",
       "\t<tr><td>76</td><td>78</td><td>69</td><td>66</td><td>81</td></tr>\n",
       "\t<tr><td>46</td><td>56</td><td>52</td><td>56</td><td>40</td></tr>\n",
       "\t<tr><td>12</td><td>42</td><td>38</td><td>38</td><td>28</td></tr>\n",
       "\t<tr><td>39</td><td>46</td><td>51</td><td>54</td><td>41</td></tr>\n",
       "\t<tr><td>30</td><td>51</td><td>54</td><td>52</td><td>32</td></tr>\n",
       "\t<tr><td>22</td><td>32</td><td>43</td><td>28</td><td>22</td></tr>\n",
       "\t<tr><td> 9</td><td>40</td><td>47</td><td>30</td><td>24</td></tr>\n",
       "\t<tr><td>32</td><td>49</td><td>54</td><td>37</td><td>52</td></tr>\n",
       "\t<tr><td>40</td><td>62</td><td>51</td><td>40</td><td>49</td></tr>\n",
       "\t<tr><td>64</td><td>75</td><td>70</td><td>66</td><td>63</td></tr>\n",
       "\t<tr><td>36</td><td>38</td><td>58</td><td>62</td><td>62</td></tr>\n",
       "\t<tr><td>24</td><td>46</td><td>44</td><td>55</td><td>49</td></tr>\n",
       "\t<tr><td>50</td><td>50</td><td>54</td><td>52</td><td>51</td></tr>\n",
       "\t<tr><td>42</td><td>42</td><td>52</td><td>38</td><td>50</td></tr>\n",
       "\t<tr><td> 2</td><td>35</td><td>32</td><td>22</td><td>16</td></tr>\n",
       "\t<tr><td>56</td><td>53</td><td>42</td><td>40</td><td>32</td></tr>\n",
       "\t<tr><td>59</td><td>72</td><td>70</td><td>66</td><td>62</td></tr>\n",
       "\t<tr><td>28</td><td>50</td><td>50</td><td>42</td><td>63</td></tr>\n",
       "\t<tr><td>19</td><td>46</td><td>49</td><td>40</td><td>30</td></tr>\n",
       "\t<tr><td>36</td><td>56</td><td>56</td><td>54</td><td>52</td></tr>\n",
       "\t<tr><td>54</td><td>57</td><td>59</td><td>62</td><td>58</td></tr>\n",
       "\t<tr><td>14</td><td>35</td><td>38</td><td>29</td><td>20</td></tr>\n",
       "</tbody>\n",
       "</table>\n"
      ],
      "text/latex": [
       "A data.frame: 25 x 5\n",
       "\\begin{tabular}{lllll}\n",
       " prog & ingcom & ingsof & sist & estad\\\\\n",
       " <int> & <int> & <int> & <int> & <int>\\\\\n",
       "\\hline\n",
       "\t 36 & 58 & 43 & 36 & 37\\\\\n",
       "\t 62 & 54 & 50 & 46 & 52\\\\\n",
       "\t 31 & 42 & 41 & 40 & 29\\\\\n",
       "\t 76 & 78 & 69 & 66 & 81\\\\\n",
       "\t 46 & 56 & 52 & 56 & 40\\\\\n",
       "\t 12 & 42 & 38 & 38 & 28\\\\\n",
       "\t 39 & 46 & 51 & 54 & 41\\\\\n",
       "\t 30 & 51 & 54 & 52 & 32\\\\\n",
       "\t 22 & 32 & 43 & 28 & 22\\\\\n",
       "\t  9 & 40 & 47 & 30 & 24\\\\\n",
       "\t 32 & 49 & 54 & 37 & 52\\\\\n",
       "\t 40 & 62 & 51 & 40 & 49\\\\\n",
       "\t 64 & 75 & 70 & 66 & 63\\\\\n",
       "\t 36 & 38 & 58 & 62 & 62\\\\\n",
       "\t 24 & 46 & 44 & 55 & 49\\\\\n",
       "\t 50 & 50 & 54 & 52 & 51\\\\\n",
       "\t 42 & 42 & 52 & 38 & 50\\\\\n",
       "\t  2 & 35 & 32 & 22 & 16\\\\\n",
       "\t 56 & 53 & 42 & 40 & 32\\\\\n",
       "\t 59 & 72 & 70 & 66 & 62\\\\\n",
       "\t 28 & 50 & 50 & 42 & 63\\\\\n",
       "\t 19 & 46 & 49 & 40 & 30\\\\\n",
       "\t 36 & 56 & 56 & 54 & 52\\\\\n",
       "\t 54 & 57 & 59 & 62 & 58\\\\\n",
       "\t 14 & 35 & 38 & 29 & 20\\\\\n",
       "\\end{tabular}\n"
      ],
      "text/markdown": [
       "\n",
       "A data.frame: 25 x 5\n",
       "\n",
       "| prog &lt;int&gt; | ingcom &lt;int&gt; | ingsof &lt;int&gt; | sist &lt;int&gt; | estad &lt;int&gt; |\n",
       "|---|---|---|---|---|\n",
       "| 36 | 58 | 43 | 36 | 37 |\n",
       "| 62 | 54 | 50 | 46 | 52 |\n",
       "| 31 | 42 | 41 | 40 | 29 |\n",
       "| 76 | 78 | 69 | 66 | 81 |\n",
       "| 46 | 56 | 52 | 56 | 40 |\n",
       "| 12 | 42 | 38 | 38 | 28 |\n",
       "| 39 | 46 | 51 | 54 | 41 |\n",
       "| 30 | 51 | 54 | 52 | 32 |\n",
       "| 22 | 32 | 43 | 28 | 22 |\n",
       "|  9 | 40 | 47 | 30 | 24 |\n",
       "| 32 | 49 | 54 | 37 | 52 |\n",
       "| 40 | 62 | 51 | 40 | 49 |\n",
       "| 64 | 75 | 70 | 66 | 63 |\n",
       "| 36 | 38 | 58 | 62 | 62 |\n",
       "| 24 | 46 | 44 | 55 | 49 |\n",
       "| 50 | 50 | 54 | 52 | 51 |\n",
       "| 42 | 42 | 52 | 38 | 50 |\n",
       "|  2 | 35 | 32 | 22 | 16 |\n",
       "| 56 | 53 | 42 | 40 | 32 |\n",
       "| 59 | 72 | 70 | 66 | 62 |\n",
       "| 28 | 50 | 50 | 42 | 63 |\n",
       "| 19 | 46 | 49 | 40 | 30 |\n",
       "| 36 | 56 | 56 | 54 | 52 |\n",
       "| 54 | 57 | 59 | 62 | 58 |\n",
       "| 14 | 35 | 38 | 29 | 20 |\n",
       "\n"
      ],
      "text/plain": [
       "   prog ingcom ingsof sist estad\n",
       "1  36   58     43     36   37   \n",
       "2  62   54     50     46   52   \n",
       "3  31   42     41     40   29   \n",
       "4  76   78     69     66   81   \n",
       "5  46   56     52     56   40   \n",
       "6  12   42     38     38   28   \n",
       "7  39   46     51     54   41   \n",
       "8  30   51     54     52   32   \n",
       "9  22   32     43     28   22   \n",
       "10  9   40     47     30   24   \n",
       "11 32   49     54     37   52   \n",
       "12 40   62     51     40   49   \n",
       "13 64   75     70     66   63   \n",
       "14 36   38     58     62   62   \n",
       "15 24   46     44     55   49   \n",
       "16 50   50     54     52   51   \n",
       "17 42   42     52     38   50   \n",
       "18  2   35     32     22   16   \n",
       "19 56   53     42     40   32   \n",
       "20 59   72     70     66   62   \n",
       "21 28   50     50     42   63   \n",
       "22 19   46     49     40   30   \n",
       "23 36   56     56     54   52   \n",
       "24 54   57     59     62   58   \n",
       "25 14   35     38     29   20   "
      ]
     },
     "metadata": {},
     "output_type": "display_data"
    }
   ],
   "source": [
    "dat <- read.table(\"Datos/aspirantes.txt\", header = TRUE)\n",
    "dat"
   ]
  },
  {
   "cell_type": "markdown",
   "metadata": {},
   "source": [
    "El objetivo de este estudio es obtener un ranking global de alumnos para la entrada en el máster, a través de\n",
    "una puntuación global, extraída como cierta combinación lineal de las calificaciones en las cinco materias\n",
    "examinadas.\n",
    "\n",
    "Vamos a realizar entonces un Análisis de Componentes Principales con R. El comando básico de R que\n",
    "ejecuta el análisis de componentes principales es `princomp`. También se pueden obtener resultados similares\n",
    "con el comando `prcomp`. La diferencia principal entre uno y otro es que `princomp` diagonaliza la matriz S,\n",
    "mientras que `prcomp` diagonaliza la matriz $S_c$. Esto modifica los autovalores en la proporción $n/(n − 1)$, pero\n",
    "no supone ningún cambio en los autovectores. Hemos optado por el comando `princomp`. A continuación\n",
    "se muestran las instrucciones que permiten realizar un análisis de componentes principales para el ejemplo,\n",
    "utilizando R. En primer lugar, como salida del objeto se muestran las desviaciones típicas de las componentes,\n",
    "que son las raíces cuadradas de los autovalores de S."
   ]
  },
  {
   "cell_type": "code",
   "execution_count": 31,
   "metadata": {
    "vscode": {
     "languageId": "r"
    }
   },
   "outputs": [
    {
     "data": {
      "text/plain": [
       "Call:\n",
       "princomp(x = dat)\n",
       "\n",
       "Standard deviations:\n",
       "   Comp.1    Comp.2    Comp.3    Comp.4    Comp.5 \n",
       "28.489680  9.035471  6.600955  6.133582  3.723358 \n",
       "\n",
       " 5  variables and  25 observations."
      ]
     },
     "metadata": {},
     "output_type": "display_data"
    }
   ],
   "source": [
    "test.pca <- princomp(dat)\n",
    "test.pca"
   ]
  },
  {
   "cell_type": "markdown",
   "metadata": {},
   "source": [
    "Si hacemos un `summary` del objeto, obtenemos además la proporción de varianza explicada y sus valores acumulados"
   ]
  },
  {
   "cell_type": "code",
   "execution_count": 32,
   "metadata": {
    "vscode": {
     "languageId": "r"
    }
   },
   "outputs": [
    {
     "data": {
      "text/plain": [
       "Importance of components:\n",
       "                           Comp.1     Comp.2     Comp.3     Comp.4     Comp.5\n",
       "Standard deviation     28.4896795 9.03547104 6.60095491 6.13358179 3.72335754\n",
       "Proportion of Variance  0.8212222 0.08260135 0.04408584 0.03806395 0.01402668\n",
       "Cumulative Proportion   0.8212222 0.90382353 0.94790936 0.98597332 1.00000000"
      ]
     },
     "metadata": {},
     "output_type": "display_data"
    }
   ],
   "source": [
    "summary(test.pca)"
   ]
  },
  {
   "cell_type": "markdown",
   "metadata": {},
   "source": [
    "Además de esta información, el objeto `test.pca` almacena otra información relevante"
   ]
  },
  {
   "cell_type": "code",
   "execution_count": 33,
   "metadata": {
    "vscode": {
     "languageId": "r"
    }
   },
   "outputs": [
    {
     "data": {
      "text/html": [
       "<style>\n",
       ".list-inline {list-style: none; margin:0; padding: 0}\n",
       ".list-inline>li {display: inline-block}\n",
       ".list-inline>li:not(:last-child)::after {content: \"\\00b7\"; padding: 0 .5ex}\n",
       "</style>\n",
       "<ol class=list-inline><li>'sdev'</li><li>'loadings'</li><li>'center'</li><li>'scale'</li><li>'n.obs'</li><li>'scores'</li><li>'call'</li></ol>\n"
      ],
      "text/latex": [
       "\\begin{enumerate*}\n",
       "\\item 'sdev'\n",
       "\\item 'loadings'\n",
       "\\item 'center'\n",
       "\\item 'scale'\n",
       "\\item 'n.obs'\n",
       "\\item 'scores'\n",
       "\\item 'call'\n",
       "\\end{enumerate*}\n"
      ],
      "text/markdown": [
       "1. 'sdev'\n",
       "2. 'loadings'\n",
       "3. 'center'\n",
       "4. 'scale'\n",
       "5. 'n.obs'\n",
       "6. 'scores'\n",
       "7. 'call'\n",
       "\n",
       "\n"
      ],
      "text/plain": [
       "[1] \"sdev\"     \"loadings\" \"center\"   \"scale\"    \"n.obs\"    \"scores\"   \"call\"    "
      ]
     },
     "metadata": {},
     "output_type": "display_data"
    }
   ],
   "source": [
    "names(test.pca)"
   ]
  },
  {
   "cell_type": "markdown",
   "metadata": {},
   "source": [
    "Como hemos visto, podemos obtener las desviaciones típicas de las componentes. De este modo, podemos obtener las varianzas de las componentes principales, que son los autovalores. "
   ]
  },
  {
   "cell_type": "code",
   "execution_count": 34,
   "metadata": {
    "vscode": {
     "languageId": "r"
    }
   },
   "outputs": [
    {
     "data": {
      "text/html": [
       "<style>\n",
       ".dl-inline {width: auto; margin:0; padding: 0}\n",
       ".dl-inline>dt, .dl-inline>dd {float: none; width: auto; display: inline-block}\n",
       ".dl-inline>dt::after {content: \":\\0020\"; padding-right: .5ex}\n",
       ".dl-inline>dt:not(:first-of-type) {padding-left: .5ex}\n",
       "</style><dl class=dl-inline><dt>Comp.1</dt><dd>28.489679539765</dd><dt>Comp.2</dt><dd>9.03547104309133</dd><dt>Comp.3</dt><dd>6.60095491445106</dd><dt>Comp.4</dt><dd>6.13358179190017</dd><dt>Comp.5</dt><dd>3.72335753996372</dd></dl>\n"
      ],
      "text/latex": [
       "\\begin{description*}\n",
       "\\item[Comp.1] 28.489679539765\n",
       "\\item[Comp.2] 9.03547104309133\n",
       "\\item[Comp.3] 6.60095491445106\n",
       "\\item[Comp.4] 6.13358179190017\n",
       "\\item[Comp.5] 3.72335753996372\n",
       "\\end{description*}\n"
      ],
      "text/markdown": [
       "Comp.1\n",
       ":   28.489679539765Comp.2\n",
       ":   9.03547104309133Comp.3\n",
       ":   6.60095491445106Comp.4\n",
       ":   6.13358179190017Comp.5\n",
       ":   3.72335753996372\n",
       "\n"
      ],
      "text/plain": [
       "   Comp.1    Comp.2    Comp.3    Comp.4    Comp.5 \n",
       "28.489680  9.035471  6.600955  6.133582  3.723358 "
      ]
     },
     "metadata": {},
     "output_type": "display_data"
    },
    {
     "data": {
      "text/html": [
       "<style>\n",
       ".dl-inline {width: auto; margin:0; padding: 0}\n",
       ".dl-inline>dt, .dl-inline>dd {float: none; width: auto; display: inline-block}\n",
       ".dl-inline>dt::after {content: \":\\0020\"; padding-right: .5ex}\n",
       ".dl-inline>dt:not(:first-of-type) {padding-left: .5ex}\n",
       "</style><dl class=dl-inline><dt>Comp.1</dt><dd>811.661840278507</dd><dt>Comp.2</dt><dd>81.639736970542</dd><dt>Comp.3</dt><dd>43.5726057826155</dd><dt>Comp.4</dt><dd>37.6208255979293</dd><dt>Comp.5</dt><dd>13.8633913704047</dd></dl>\n"
      ],
      "text/latex": [
       "\\begin{description*}\n",
       "\\item[Comp.1] 811.661840278507\n",
       "\\item[Comp.2] 81.639736970542\n",
       "\\item[Comp.3] 43.5726057826155\n",
       "\\item[Comp.4] 37.6208255979293\n",
       "\\item[Comp.5] 13.8633913704047\n",
       "\\end{description*}\n"
      ],
      "text/markdown": [
       "Comp.1\n",
       ":   811.661840278507Comp.2\n",
       ":   81.639736970542Comp.3\n",
       ":   43.5726057826155Comp.4\n",
       ":   37.6208255979293Comp.5\n",
       ":   13.8633913704047\n",
       "\n"
      ],
      "text/plain": [
       "   Comp.1    Comp.2    Comp.3    Comp.4    Comp.5 \n",
       "811.66184  81.63974  43.57261  37.62083  13.86339 "
      ]
     },
     "metadata": {},
     "output_type": "display_data"
    }
   ],
   "source": [
    "test.pca$sdev\n",
    "av <- test.pca$sdev**2\n",
    "av"
   ]
  },
  {
   "cell_type": "markdown",
   "metadata": {},
   "source": [
    "Recordamos que si extraemos una componente principal, obtenemos la variable aleatoria unidimensional\n",
    "\\begin{equation}\n",
    "z_1 = v_1' x\n",
    "\\end{equation}\n",
    "\n",
    "Si en lugar de recoger todo el vector aleatorio, solo aportamos $z_1$ reduciendo la información a una variable unidimensional, junto con la simplificación se produce una reducción de variabilidad, que pasa a ser \n",
    "\\begin{equation}\n",
    "\\text{Var}(z_1) = \\lambda_1\n",
    "\\end{equation}"
   ]
  },
  {
   "cell_type": "code",
   "execution_count": 35,
   "metadata": {
    "vscode": {
     "languageId": "r"
    }
   },
   "outputs": [
    {
     "data": {
      "text/html": [
       "<strong>Comp.1:</strong> 0.821222180414016"
      ],
      "text/latex": [
       "\\textbf{Comp.1:} 0.821222180414016"
      ],
      "text/markdown": [
       "**Comp.1:** 0.821222180414016"
      ],
      "text/plain": [
       "   Comp.1 \n",
       "0.8212222 "
      ]
     },
     "metadata": {},
     "output_type": "display_data"
    },
    {
     "data": {
      "text/html": [
       "0.903823529247134"
      ],
      "text/latex": [
       "0.903823529247134"
      ],
      "text/markdown": [
       "0.903823529247134"
      ],
      "text/plain": [
       "[1] 0.9038235"
      ]
     },
     "metadata": {},
     "output_type": "display_data"
    }
   ],
   "source": [
    "av <- test.pca$sdev**2\n",
    "av[1]/sum(av)\n",
    "sum(av[1:2])/sum(av)"
   ]
  },
  {
   "cell_type": "markdown",
   "metadata": {},
   "source": [
    "Decimos que el cociente\n",
    "\\begin{equation}\n",
    "\\frac{\\lambda_1}{\\sum_{i = 1}^d \\lambda_i}\n",
    "\\end{equation}\n",
    "\n",
    "es la proporción de variabilidad explicada por la primera componente principal. "
   ]
  },
  {
   "cell_type": "code",
   "execution_count": 36,
   "metadata": {
    "vscode": {
     "languageId": "r"
    }
   },
   "outputs": [
    {
     "data": {
      "text/html": [
       "0.903823529247134"
      ],
      "text/latex": [
       "0.903823529247134"
      ],
      "text/markdown": [
       "0.903823529247134"
      ],
      "text/plain": [
       "[1] 0.9038235"
      ]
     },
     "metadata": {},
     "output_type": "display_data"
    }
   ],
   "source": [
    "# Las dos primeras componentes explican un 90% de la variabilidad\n",
    "sum(av[1:2])/sum(av)"
   ]
  },
  {
   "cell_type": "markdown",
   "metadata": {},
   "source": [
    "Si en lugar de una única componente principal extraemos $r$ componentes resulta que\n",
    "\\begin{equation}\n",
    "\\frac{\\sum_{i = 1}^r \\lambda_i}{\\sum_{i = 1}^d \\lambda_i}\n",
    "\\end{equation}\n",
    "\n",
    "es la proporción de variabilidad explicada por las $r$ primeras componentes principales. \n",
    "\n",
    "Debemos decidir entre la simplificación que supone la reducción de la dimensión y la pérdida de información\n",
    "resultante de la variabilidad no explicada. Como criterios para tomar esta decisión, se suelen emplear los\n",
    "siguientes:\n",
    "* Criterio de la varianza explicada. Consiste en retener el número de componentes que conjuntamente expliquen una proporción de varianza establecida, habitualmente un 90\\% o 95\\% del total.\n",
    "* Gráfico de sedimentación (*screeplot*). Representar en un gráfico los valores propios $\\lambda_1 \\geq \\lambda_2 \\geq \\cdots \\geq \\lambda_d$ en orden decreciente, y buscar un “codo” en el gráfico, entendiendo por codo un punto a partir del cual los valores propios son claramente más pequeños que los anteriores, y muy similares entre sí.\n",
    "* Retener un número preestablecido de componentes principales. Por ejemplo, es costumbre retener dos componentes, pues se pueden representar fácilmente en el plano.\n",
    "\n",
    "Podemos hacer un gráfico de las varianzas de las componentes con `screeplot`."
   ]
  },
  {
   "cell_type": "code",
   "execution_count": 37,
   "metadata": {
    "vscode": {
     "languageId": "r"
    }
   },
   "outputs": [
    {
     "data": {
      "image/png": "[encoded data removed]",
      "text/plain": [
       "Plot with title “test.pca”"
      ]
     },
     "metadata": {
      "image/png": {
       "height": 420,
       "width": 420
      }
     },
     "output_type": "display_data"
    },
    {
     "data": {
      "image/png": "[encoded data removed]",
      "text/plain": [
       "Plot with title “Screeplot de los autovalores”"
      ]
     },
     "metadata": {
      "image/png": {
       "height": 420,
       "width": 420
      }
     },
     "output_type": "display_data"
    }
   ],
   "source": [
    "# reresentacion de los autovalores (grafico de sedimentacion)\n",
    "screeplot(test.pca)\n",
    "# mismo grafico con lineas\n",
    "screeplot(test.pca, type = \"lines\", main=\"Screeplot de los autovalores\")"
   ]
  },
  {
   "cell_type": "markdown",
   "metadata": {},
   "source": [
    "Además, podemos obtener los autovectores asociados (columnas de la matriz `test.pca$loadings`)"
   ]
  },
  {
   "cell_type": "code",
   "execution_count": 38,
   "metadata": {
    "vscode": {
     "languageId": "r"
    }
   },
   "outputs": [
    {
     "data": {
      "text/plain": [
       "\n",
       "Loadings:\n",
       "       Comp.1 Comp.2 Comp.3 Comp.4 Comp.5\n",
       "prog    0.598  0.675  0.185  0.386       \n",
       "ingcom  0.361  0.245 -0.249 -0.829 -0.247\n",
       "ingsof  0.302 -0.214 -0.211 -0.135  0.894\n",
       "sist    0.389 -0.338 -0.700  0.375 -0.321\n",
       "estad   0.519 -0.570  0.607        -0.179\n",
       "\n",
       "               Comp.1 Comp.2 Comp.3 Comp.4 Comp.5\n",
       "SS loadings       1.0    1.0    1.0    1.0    1.0\n",
       "Proportion Var    0.2    0.2    0.2    0.2    0.2\n",
       "Cumulative Var    0.2    0.4    0.6    0.8    1.0"
      ]
     },
     "metadata": {},
     "output_type": "display_data"
    }
   ],
   "source": [
    "test.pca$loadings"
   ]
  },
  {
   "cell_type": "markdown",
   "metadata": {},
   "source": [
    "Observamos que la primera componente principal es la variable con máxima varianza y tiene todos sus\n",
    "coeficientes positivos. Se puede interpretar como una componente de tamaño que determina la “calificación\n",
    "general de los estudiantes”. La primera componente ordena a los estudiantes según su tamaño (calificación\n",
    "general), del más pequeño al más grande. La segunda componente tiene coeficientes positivos y negativos\n",
    "y se interpreta como una componente de *forma* que ordena a los estudiantes contrastando los buenos en\n",
    "Programación e Ingeniería de Computadores frente a los buenos en el resto de materias.\n",
    "\n",
    "Representamos los coeficientes de las componentes principales mediante el siguiente gráfico."
   ]
  },
  {
   "cell_type": "code",
   "execution_count": 39,
   "metadata": {
    "vscode": {
     "languageId": "r"
    }
   },
   "outputs": [
    {
     "data": {
      "image/png": "[encoded data removed]",
      "text/plain": [
       "plot without title"
      ]
     },
     "metadata": {
      "image/png": {
       "height": 420,
       "width": 420
      }
     },
     "output_type": "display_data"
    }
   ],
   "source": [
    "barplot(loadings(test.pca), beside = TRUE)"
   ]
  },
  {
   "cell_type": "markdown",
   "metadata": {},
   "source": [
    "Podemos obtener también el número de observaciones, el vector de medias y los escalados aplicados a cada variable"
   ]
  },
  {
   "cell_type": "code",
   "execution_count": 40,
   "metadata": {
    "vscode": {
     "languageId": "r"
    }
   },
   "outputs": [
    {
     "data": {
      "text/html": [
       "25"
      ],
      "text/latex": [
       "25"
      ],
      "text/markdown": [
       "25"
      ],
      "text/plain": [
       "[1] 25"
      ]
     },
     "metadata": {},
     "output_type": "display_data"
    }
   ],
   "source": [
    "test.pca$n.obs"
   ]
  },
  {
   "cell_type": "code",
   "execution_count": 41,
   "metadata": {
    "vscode": {
     "languageId": "r"
    }
   },
   "outputs": [
    {
     "data": {
      "text/html": [
       "<style>\n",
       ".dl-inline {width: auto; margin:0; padding: 0}\n",
       ".dl-inline>dt, .dl-inline>dd {float: none; width: auto; display: inline-block}\n",
       ".dl-inline>dt::after {content: \":\\0020\"; padding-right: .5ex}\n",
       ".dl-inline>dt:not(:first-of-type) {padding-left: .5ex}\n",
       "</style><dl class=dl-inline><dt>prog</dt><dd>36.76</dd><dt>ingcom</dt><dd>50.6</dd><dt>ingsof</dt><dd>50.68</dd><dt>sist</dt><dd>46.04</dd><dt>estad</dt><dd>43.8</dd></dl>\n"
      ],
      "text/latex": [
       "\\begin{description*}\n",
       "\\item[prog] 36.76\n",
       "\\item[ingcom] 50.6\n",
       "\\item[ingsof] 50.68\n",
       "\\item[sist] 46.04\n",
       "\\item[estad] 43.8\n",
       "\\end{description*}\n"
      ],
      "text/markdown": [
       "prog\n",
       ":   36.76ingcom\n",
       ":   50.6ingsof\n",
       ":   50.68sist\n",
       ":   46.04estad\n",
       ":   43.8\n",
       "\n"
      ],
      "text/plain": [
       "  prog ingcom ingsof   sist  estad \n",
       " 36.76  50.60  50.68  46.04  43.80 "
      ]
     },
     "metadata": {},
     "output_type": "display_data"
    }
   ],
   "source": [
    "test.pca$center"
   ]
  },
  {
   "cell_type": "code",
   "execution_count": 42,
   "metadata": {
    "vscode": {
     "languageId": "r"
    }
   },
   "outputs": [
    {
     "data": {
      "text/html": [
       "<style>\n",
       ".dl-inline {width: auto; margin:0; padding: 0}\n",
       ".dl-inline>dt, .dl-inline>dd {float: none; width: auto; display: inline-block}\n",
       ".dl-inline>dt::after {content: \":\\0020\"; padding-right: .5ex}\n",
       ".dl-inline>dt:not(:first-of-type) {padding-left: .5ex}\n",
       "</style><dl class=dl-inline><dt>prog</dt><dd>1</dd><dt>ingcom</dt><dd>1</dd><dt>ingsof</dt><dd>1</dd><dt>sist</dt><dd>1</dd><dt>estad</dt><dd>1</dd></dl>\n"
      ],
      "text/latex": [
       "\\begin{description*}\n",
       "\\item[prog] 1\n",
       "\\item[ingcom] 1\n",
       "\\item[ingsof] 1\n",
       "\\item[sist] 1\n",
       "\\item[estad] 1\n",
       "\\end{description*}\n"
      ],
      "text/markdown": [
       "prog\n",
       ":   1ingcom\n",
       ":   1ingsof\n",
       ":   1sist\n",
       ":   1estad\n",
       ":   1\n",
       "\n"
      ],
      "text/plain": [
       "  prog ingcom ingsof   sist  estad \n",
       "     1      1      1      1      1 "
      ]
     },
     "metadata": {},
     "output_type": "display_data"
    }
   ],
   "source": [
    "test.pca$scale"
   ]
  },
  {
   "cell_type": "markdown",
   "metadata": {},
   "source": [
    "Por último, obtenemos los `scores`, que son el resultado de $XP$, siendo $P$ la matriz que tiene como columnas los autovectores de $S$. "
   ]
  },
  {
   "cell_type": "code",
   "execution_count": 43,
   "metadata": {
    "vscode": {
     "languageId": "r"
    }
   },
   "outputs": [
    {
     "data": {
      "text/html": [
       "<table class=\"dataframe\">\n",
       "<caption>A matrix: 25 x 5 of type dbl</caption>\n",
       "<thead>\n",
       "\t<tr><th scope=col>Comp.1</th><th scope=col>Comp.2</th><th scope=col>Comp.3</th><th scope=col>Comp.4</th><th scope=col>Comp.5</th></tr>\n",
       "</thead>\n",
       "<tbody>\n",
       "\t<tr><td> -7.5403215</td><td> 10.2167650</td><td>  2.5374713</td><td> -8.6708997</td><td>-4.3011164</td></tr>\n",
       "\t<tr><td> 20.3610372</td><td> 13.3460340</td><td>  8.9820585</td><td>  6.4124949</td><td>-1.3548711</td></tr>\n",
       "\t<tr><td>-19.5031539</td><td>  6.5552439</td><td> -1.6414327</td><td>  5.0042015</td><td>-2.2980498</td></tr>\n",
       "\t<tr><td> 65.9652730</td><td>  1.3136646</td><td>  5.1988159</td><td> -5.2093505</td><td>-1.0457668</td></tr>\n",
       "\t<tr><td>  9.7780565</td><td>  6.0680143</td><td> -9.1921582</td><td>  2.9249303</td><td>-2.1069944</td></tr>\n",
       "\t<tr><td>-33.0739529</td><td> -4.3722312</td><td> -3.7345190</td><td> -2.6038323</td><td>-5.3246839</td></tr>\n",
       "\t<tr><td>  1.4212177</td><td> -0.7833317</td><td> -5.7800406</td><td>  7.8225646</td><td>-0.4967347</td></tr>\n",
       "\t<tr><td> -6.7011638</td><td> -0.4667798</td><td>-13.3936497</td><td> -0.3040531</td><td> 2.6525120</td></tr>\n",
       "\t<tr><td>-36.1916160</td><td>  5.6543609</td><td>  2.9062814</td><td>  5.5458471</td><td> 6.5171961</td></tr>\n",
       "\t<tr><td>-38.0586178</td><td> -3.8266815</td><td> -2.5248244</td><td> -6.0338259</td><td> 6.3212284</td></tr>\n",
       "\t<tr><td> -1.6837296</td><td> -5.9262762</td><td> 10.1237093</td><td> -4.9410716</td><td> 4.5102357</td></tr>\n",
       "\t<tr><td>  6.4961788</td><td>  3.9922267</td><td>  5.0805842</td><td>-10.8805481</td><td>-1.3208797</td></tr>\n",
       "\t<tr><td> 48.6656614</td><td>  2.5248899</td><td> -7.4227003</td><td> -6.1976282</td><td> 3.0745497</td></tr>\n",
       "\t<tr><td> 12.8648106</td><td>-20.9375616</td><td>  1.3328311</td><td> 13.8459667</td><td> 1.2286291</td></tr>\n",
       "\t<tr><td> -5.1279619</td><td>-14.2990082</td><td> -2.9194088</td><td>  2.7778854</td><td>-9.4299722</td></tr>\n",
       "\t<tr><td> 14.7627376</td><td>  1.9542134</td><td>  2.1019732</td><td>  6.8802981</td><td> 0.7262472</td></tr>\n",
       "\t<tr><td>  0.5206666</td><td>  0.3328352</td><td> 12.2272438</td><td>  5.5083908</td><td> 5.1001830</td></tr>\n",
       "\t<tr><td>-55.8465116</td><td>  0.7024956</td><td>  1.3349377</td><td> -4.9981377</td><td>-2.2873123</td></tr>\n",
       "\t<tr><td>  1.2809636</td><td> 24.1913016</td><td>  1.8618184</td><td>  5.1875656</td><td>-3.1248129</td></tr>\n",
       "\t<tr><td> 44.0731110</td><td> -1.0133086</td><td> -8.2094067</td><td> -5.5695807</td><td> 3.6879677</td></tr>\n",
       "\t<tr><td>  2.7282968</td><td>-15.4819784</td><td> 13.1612877</td><td> -5.6870830</td><td>-3.1343155</td></tr>\n",
       "\t<tr><td>-22.3031608</td><td> -2.8413762</td><td> -5.9443642</td><td> -4.0929718</td><td> 2.9545412</td></tr>\n",
       "\t<tr><td> 10.4526967</td><td> -7.6936163</td><td> -3.2010012</td><td> -3.0864389</td><td>-0.6469043</td></tr>\n",
       "\t<tr><td> 28.7147101</td><td> -2.0746379</td><td> -2.7048913</td><td>  5.2002364</td><td>-0.7510021</td></tr>\n",
       "\t<tr><td>-42.0552279</td><td>  2.8647426</td><td> -0.1806153</td><td>  1.1650401</td><td> 0.8501260</td></tr>\n",
       "</tbody>\n",
       "</table>\n"
      ],
      "text/latex": [
       "A matrix: 25 x 5 of type dbl\n",
       "\\begin{tabular}{lllll}\n",
       " Comp.1 & Comp.2 & Comp.3 & Comp.4 & Comp.5\\\\\n",
       "\\hline\n",
       "\t  -7.5403215 &  10.2167650 &   2.5374713 &  -8.6708997 & -4.3011164\\\\\n",
       "\t  20.3610372 &  13.3460340 &   8.9820585 &   6.4124949 & -1.3548711\\\\\n",
       "\t -19.5031539 &   6.5552439 &  -1.6414327 &   5.0042015 & -2.2980498\\\\\n",
       "\t  65.9652730 &   1.3136646 &   5.1988159 &  -5.2093505 & -1.0457668\\\\\n",
       "\t   9.7780565 &   6.0680143 &  -9.1921582 &   2.9249303 & -2.1069944\\\\\n",
       "\t -33.0739529 &  -4.3722312 &  -3.7345190 &  -2.6038323 & -5.3246839\\\\\n",
       "\t   1.4212177 &  -0.7833317 &  -5.7800406 &   7.8225646 & -0.4967347\\\\\n",
       "\t  -6.7011638 &  -0.4667798 & -13.3936497 &  -0.3040531 &  2.6525120\\\\\n",
       "\t -36.1916160 &   5.6543609 &   2.9062814 &   5.5458471 &  6.5171961\\\\\n",
       "\t -38.0586178 &  -3.8266815 &  -2.5248244 &  -6.0338259 &  6.3212284\\\\\n",
       "\t  -1.6837296 &  -5.9262762 &  10.1237093 &  -4.9410716 &  4.5102357\\\\\n",
       "\t   6.4961788 &   3.9922267 &   5.0805842 & -10.8805481 & -1.3208797\\\\\n",
       "\t  48.6656614 &   2.5248899 &  -7.4227003 &  -6.1976282 &  3.0745497\\\\\n",
       "\t  12.8648106 & -20.9375616 &   1.3328311 &  13.8459667 &  1.2286291\\\\\n",
       "\t  -5.1279619 & -14.2990082 &  -2.9194088 &   2.7778854 & -9.4299722\\\\\n",
       "\t  14.7627376 &   1.9542134 &   2.1019732 &   6.8802981 &  0.7262472\\\\\n",
       "\t   0.5206666 &   0.3328352 &  12.2272438 &   5.5083908 &  5.1001830\\\\\n",
       "\t -55.8465116 &   0.7024956 &   1.3349377 &  -4.9981377 & -2.2873123\\\\\n",
       "\t   1.2809636 &  24.1913016 &   1.8618184 &   5.1875656 & -3.1248129\\\\\n",
       "\t  44.0731110 &  -1.0133086 &  -8.2094067 &  -5.5695807 &  3.6879677\\\\\n",
       "\t   2.7282968 & -15.4819784 &  13.1612877 &  -5.6870830 & -3.1343155\\\\\n",
       "\t -22.3031608 &  -2.8413762 &  -5.9443642 &  -4.0929718 &  2.9545412\\\\\n",
       "\t  10.4526967 &  -7.6936163 &  -3.2010012 &  -3.0864389 & -0.6469043\\\\\n",
       "\t  28.7147101 &  -2.0746379 &  -2.7048913 &   5.2002364 & -0.7510021\\\\\n",
       "\t -42.0552279 &   2.8647426 &  -0.1806153 &   1.1650401 &  0.8501260\\\\\n",
       "\\end{tabular}\n"
      ],
      "text/markdown": [
       "\n",
       "A matrix: 25 x 5 of type dbl\n",
       "\n",
       "| Comp.1 | Comp.2 | Comp.3 | Comp.4 | Comp.5 |\n",
       "|---|---|---|---|---|\n",
       "|  -7.5403215 |  10.2167650 |   2.5374713 |  -8.6708997 | -4.3011164 |\n",
       "|  20.3610372 |  13.3460340 |   8.9820585 |   6.4124949 | -1.3548711 |\n",
       "| -19.5031539 |   6.5552439 |  -1.6414327 |   5.0042015 | -2.2980498 |\n",
       "|  65.9652730 |   1.3136646 |   5.1988159 |  -5.2093505 | -1.0457668 |\n",
       "|   9.7780565 |   6.0680143 |  -9.1921582 |   2.9249303 | -2.1069944 |\n",
       "| -33.0739529 |  -4.3722312 |  -3.7345190 |  -2.6038323 | -5.3246839 |\n",
       "|   1.4212177 |  -0.7833317 |  -5.7800406 |   7.8225646 | -0.4967347 |\n",
       "|  -6.7011638 |  -0.4667798 | -13.3936497 |  -0.3040531 |  2.6525120 |\n",
       "| -36.1916160 |   5.6543609 |   2.9062814 |   5.5458471 |  6.5171961 |\n",
       "| -38.0586178 |  -3.8266815 |  -2.5248244 |  -6.0338259 |  6.3212284 |\n",
       "|  -1.6837296 |  -5.9262762 |  10.1237093 |  -4.9410716 |  4.5102357 |\n",
       "|   6.4961788 |   3.9922267 |   5.0805842 | -10.8805481 | -1.3208797 |\n",
       "|  48.6656614 |   2.5248899 |  -7.4227003 |  -6.1976282 |  3.0745497 |\n",
       "|  12.8648106 | -20.9375616 |   1.3328311 |  13.8459667 |  1.2286291 |\n",
       "|  -5.1279619 | -14.2990082 |  -2.9194088 |   2.7778854 | -9.4299722 |\n",
       "|  14.7627376 |   1.9542134 |   2.1019732 |   6.8802981 |  0.7262472 |\n",
       "|   0.5206666 |   0.3328352 |  12.2272438 |   5.5083908 |  5.1001830 |\n",
       "| -55.8465116 |   0.7024956 |   1.3349377 |  -4.9981377 | -2.2873123 |\n",
       "|   1.2809636 |  24.1913016 |   1.8618184 |   5.1875656 | -3.1248129 |\n",
       "|  44.0731110 |  -1.0133086 |  -8.2094067 |  -5.5695807 |  3.6879677 |\n",
       "|   2.7282968 | -15.4819784 |  13.1612877 |  -5.6870830 | -3.1343155 |\n",
       "| -22.3031608 |  -2.8413762 |  -5.9443642 |  -4.0929718 |  2.9545412 |\n",
       "|  10.4526967 |  -7.6936163 |  -3.2010012 |  -3.0864389 | -0.6469043 |\n",
       "|  28.7147101 |  -2.0746379 |  -2.7048913 |   5.2002364 | -0.7510021 |\n",
       "| -42.0552279 |   2.8647426 |  -0.1806153 |   1.1650401 |  0.8501260 |\n",
       "\n"
      ],
      "text/plain": [
       "      Comp.1      Comp.2      Comp.3      Comp.4      Comp.5    \n",
       " [1,]  -7.5403215  10.2167650   2.5374713  -8.6708997 -4.3011164\n",
       " [2,]  20.3610372  13.3460340   8.9820585   6.4124949 -1.3548711\n",
       " [3,] -19.5031539   6.5552439  -1.6414327   5.0042015 -2.2980498\n",
       " [4,]  65.9652730   1.3136646   5.1988159  -5.2093505 -1.0457668\n",
       " [5,]   9.7780565   6.0680143  -9.1921582   2.9249303 -2.1069944\n",
       " [6,] -33.0739529  -4.3722312  -3.7345190  -2.6038323 -5.3246839\n",
       " [7,]   1.4212177  -0.7833317  -5.7800406   7.8225646 -0.4967347\n",
       " [8,]  -6.7011638  -0.4667798 -13.3936497  -0.3040531  2.6525120\n",
       " [9,] -36.1916160   5.6543609   2.9062814   5.5458471  6.5171961\n",
       "[10,] -38.0586178  -3.8266815  -2.5248244  -6.0338259  6.3212284\n",
       "[11,]  -1.6837296  -5.9262762  10.1237093  -4.9410716  4.5102357\n",
       "[12,]   6.4961788   3.9922267   5.0805842 -10.8805481 -1.3208797\n",
       "[13,]  48.6656614   2.5248899  -7.4227003  -6.1976282  3.0745497\n",
       "[14,]  12.8648106 -20.9375616   1.3328311  13.8459667  1.2286291\n",
       "[15,]  -5.1279619 -14.2990082  -2.9194088   2.7778854 -9.4299722\n",
       "[16,]  14.7627376   1.9542134   2.1019732   6.8802981  0.7262472\n",
       "[17,]   0.5206666   0.3328352  12.2272438   5.5083908  5.1001830\n",
       "[18,] -55.8465116   0.7024956   1.3349377  -4.9981377 -2.2873123\n",
       "[19,]   1.2809636  24.1913016   1.8618184   5.1875656 -3.1248129\n",
       "[20,]  44.0731110  -1.0133086  -8.2094067  -5.5695807  3.6879677\n",
       "[21,]   2.7282968 -15.4819784  13.1612877  -5.6870830 -3.1343155\n",
       "[22,] -22.3031608  -2.8413762  -5.9443642  -4.0929718  2.9545412\n",
       "[23,]  10.4526967  -7.6936163  -3.2010012  -3.0864389 -0.6469043\n",
       "[24,]  28.7147101  -2.0746379  -2.7048913   5.2002364 -0.7510021\n",
       "[25,] -42.0552279   2.8647426  -0.1806153   1.1650401  0.8501260"
      ]
     },
     "metadata": {},
     "output_type": "display_data"
    }
   ],
   "source": [
    "test.pca$scores"
   ]
  },
  {
   "cell_type": "markdown",
   "metadata": {},
   "source": [
    "## Análisis de componentes principales a través de la descomposición espectral de la matriz de covarianza"
   ]
  },
  {
   "cell_type": "markdown",
   "metadata": {},
   "source": [
    "Comprobamos que, efectivamente, los resultados proporcionados por la función `princomp` coinciden con los obtenidos a partir de la descomposición espectral de la matriz de covarianzas. En primer lugar, calculamos el número de observaciones y el vector de medias."
   ]
  },
  {
   "cell_type": "code",
   "execution_count": 44,
   "metadata": {
    "vscode": {
     "languageId": "r"
    }
   },
   "outputs": [
    {
     "data": {
      "text/html": [
       "<style>\n",
       ".dl-inline {width: auto; margin:0; padding: 0}\n",
       ".dl-inline>dt, .dl-inline>dd {float: none; width: auto; display: inline-block}\n",
       ".dl-inline>dt::after {content: \":\\0020\"; padding-right: .5ex}\n",
       ".dl-inline>dt:not(:first-of-type) {padding-left: .5ex}\n",
       "</style><dl class=dl-inline><dt>prog</dt><dd>36.76</dd><dt>ingcom</dt><dd>50.6</dd><dt>ingsof</dt><dd>50.68</dd><dt>sist</dt><dd>46.04</dd><dt>estad</dt><dd>43.8</dd></dl>\n"
      ],
      "text/latex": [
       "\\begin{description*}\n",
       "\\item[prog] 36.76\n",
       "\\item[ingcom] 50.6\n",
       "\\item[ingsof] 50.68\n",
       "\\item[sist] 46.04\n",
       "\\item[estad] 43.8\n",
       "\\end{description*}\n"
      ],
      "text/markdown": [
       "prog\n",
       ":   36.76ingcom\n",
       ":   50.6ingsof\n",
       ":   50.68sist\n",
       ":   46.04estad\n",
       ":   43.8\n",
       "\n"
      ],
      "text/plain": [
       "  prog ingcom ingsof   sist  estad \n",
       " 36.76  50.60  50.68  46.04  43.80 "
      ]
     },
     "metadata": {},
     "output_type": "display_data"
    }
   ],
   "source": [
    "n <- nrow(dat)\n",
    "apply(dat, 2, mean)"
   ]
  },
  {
   "cell_type": "markdown",
   "metadata": {},
   "source": [
    "A continuacion, calculamos la matriz de covarianzas muestral, sus autovalores y autovectores y comprobamos que coinciden con los resultados de `test.pca$sdev**2` y `test.pca$loadings`"
   ]
  },
  {
   "cell_type": "code",
   "execution_count": 45,
   "metadata": {
    "vscode": {
     "languageId": "r"
    }
   },
   "outputs": [
    {
     "data": {
      "text/html": [
       "<style>\n",
       ".list-inline {list-style: none; margin:0; padding: 0}\n",
       ".list-inline>li {display: inline-block}\n",
       ".list-inline>li:not(:last-child)::after {content: \"\\00b7\"; padding: 0 .5ex}\n",
       "</style>\n",
       "<ol class=list-inline><li>811.661840278507</li><li>81.639736970542</li><li>43.5726057826156</li><li>37.6208255979294</li><li>13.8633913704047</li></ol>\n"
      ],
      "text/latex": [
       "\\begin{enumerate*}\n",
       "\\item 811.661840278507\n",
       "\\item 81.639736970542\n",
       "\\item 43.5726057826156\n",
       "\\item 37.6208255979294\n",
       "\\item 13.8633913704047\n",
       "\\end{enumerate*}\n"
      ],
      "text/markdown": [
       "1. 811.661840278507\n",
       "2. 81.639736970542\n",
       "3. 43.5726057826156\n",
       "4. 37.6208255979294\n",
       "5. 13.8633913704047\n",
       "\n",
       "\n"
      ],
      "text/plain": [
       "[1] 811.66184  81.63974  43.57261  37.62083  13.86339"
      ]
     },
     "metadata": {},
     "output_type": "display_data"
    }
   ],
   "source": [
    "S <- cov(dat) * (n - 1) / n  # divide entre n-1 asi que multiplicamos por n-1/n\n",
    "auto <- eigen(S)  # mismo que antes pero en negativo (porque es la matriz de covarianzas) \n",
    "lambda <- auto$values\n",
    "lambda"
   ]
  },
  {
   "cell_type": "code",
   "execution_count": 46,
   "metadata": {
    "vscode": {
     "languageId": "r"
    }
   },
   "outputs": [
    {
     "data": {
      "text/html": [
       "<table class=\"dataframe\">\n",
       "<caption>A matrix: 5 x 5 of type dbl</caption>\n",
       "<tbody>\n",
       "\t<tr><td>-0.5982782</td><td> 0.6745404</td><td> 0.1852556</td><td>-0.38597894</td><td> 0.06131111</td></tr>\n",
       "\t<tr><td>-0.3607532</td><td> 0.2450733</td><td>-0.2490064</td><td> 0.82871854</td><td>-0.24701742</td></tr>\n",
       "\t<tr><td>-0.3021774</td><td>-0.2140882</td><td>-0.2114109</td><td> 0.13484564</td><td> 0.89441442</td></tr>\n",
       "\t<tr><td>-0.3890403</td><td>-0.3384022</td><td>-0.6999921</td><td>-0.37537871</td><td>-0.32129949</td></tr>\n",
       "\t<tr><td>-0.5188995</td><td>-0.5697232</td><td> 0.6074477</td><td> 0.07178665</td><td>-0.17892129</td></tr>\n",
       "</tbody>\n",
       "</table>\n"
      ],
      "text/latex": [
       "A matrix: 5 x 5 of type dbl\n",
       "\\begin{tabular}{lllll}\n",
       "\t -0.5982782 &  0.6745404 &  0.1852556 & -0.38597894 &  0.06131111\\\\\n",
       "\t -0.3607532 &  0.2450733 & -0.2490064 &  0.82871854 & -0.24701742\\\\\n",
       "\t -0.3021774 & -0.2140882 & -0.2114109 &  0.13484564 &  0.89441442\\\\\n",
       "\t -0.3890403 & -0.3384022 & -0.6999921 & -0.37537871 & -0.32129949\\\\\n",
       "\t -0.5188995 & -0.5697232 &  0.6074477 &  0.07178665 & -0.17892129\\\\\n",
       "\\end{tabular}\n"
      ],
      "text/markdown": [
       "\n",
       "A matrix: 5 x 5 of type dbl\n",
       "\n",
       "| -0.5982782 |  0.6745404 |  0.1852556 | -0.38597894 |  0.06131111 |\n",
       "| -0.3607532 |  0.2450733 | -0.2490064 |  0.82871854 | -0.24701742 |\n",
       "| -0.3021774 | -0.2140882 | -0.2114109 |  0.13484564 |  0.89441442 |\n",
       "| -0.3890403 | -0.3384022 | -0.6999921 | -0.37537871 | -0.32129949 |\n",
       "| -0.5188995 | -0.5697232 |  0.6074477 |  0.07178665 | -0.17892129 |\n",
       "\n"
      ],
      "text/plain": [
       "     [,1]       [,2]       [,3]       [,4]        [,5]       \n",
       "[1,] -0.5982782  0.6745404  0.1852556 -0.38597894  0.06131111\n",
       "[2,] -0.3607532  0.2450733 -0.2490064  0.82871854 -0.24701742\n",
       "[3,] -0.3021774 -0.2140882 -0.2114109  0.13484564  0.89441442\n",
       "[4,] -0.3890403 -0.3384022 -0.6999921 -0.37537871 -0.32129949\n",
       "[5,] -0.5188995 -0.5697232  0.6074477  0.07178665 -0.17892129"
      ]
     },
     "metadata": {},
     "output_type": "display_data"
    }
   ],
   "source": [
    "v <- auto$vectors\n",
    "v"
   ]
  },
  {
   "cell_type": "markdown",
   "metadata": {},
   "source": [
    "A continuación, calculamos la proporción de varianza explicada y sus valores acumulados"
   ]
  },
  {
   "cell_type": "code",
   "execution_count": 47,
   "metadata": {
    "vscode": {
     "languageId": "r"
    }
   },
   "outputs": [
    {
     "data": {
      "text/html": [
       "<style>\n",
       ".list-inline {list-style: none; margin:0; padding: 0}\n",
       ".list-inline>li {display: inline-block}\n",
       ".list-inline>li:not(:last-child)::after {content: \"\\00b7\"; padding: 0 .5ex}\n",
       "</style>\n",
       "<ol class=list-inline><li>0.821222180414016</li><li>0.0826013488331177</li><li>0.0440858354445267</li><li>0.0380639508885941</li><li>0.0140266844197457</li></ol>\n"
      ],
      "text/latex": [
       "\\begin{enumerate*}\n",
       "\\item 0.821222180414016\n",
       "\\item 0.0826013488331177\n",
       "\\item 0.0440858354445267\n",
       "\\item 0.0380639508885941\n",
       "\\item 0.0140266844197457\n",
       "\\end{enumerate*}\n"
      ],
      "text/markdown": [
       "1. 0.821222180414016\n",
       "2. 0.0826013488331177\n",
       "3. 0.0440858354445267\n",
       "4. 0.0380639508885941\n",
       "5. 0.0140266844197457\n",
       "\n",
       "\n"
      ],
      "text/plain": [
       "[1] 0.82122218 0.08260135 0.04408584 0.03806395 0.01402668"
      ]
     },
     "metadata": {},
     "output_type": "display_data"
    }
   ],
   "source": [
    "lambda / sum(lambda)"
   ]
  },
  {
   "cell_type": "code",
   "execution_count": 48,
   "metadata": {
    "vscode": {
     "languageId": "r"
    }
   },
   "outputs": [
    {
     "data": {
      "text/html": [
       "<style>\n",
       ".list-inline {list-style: none; margin:0; padding: 0}\n",
       ".list-inline>li {display: inline-block}\n",
       ".list-inline>li:not(:last-child)::after {content: \"\\00b7\"; padding: 0 .5ex}\n",
       "</style>\n",
       "<ol class=list-inline><li>0.821222180414016</li><li>0.903823529247134</li><li>0.94790936469166</li><li>0.985973315580254</li><li>1</li></ol>\n"
      ],
      "text/latex": [
       "\\begin{enumerate*}\n",
       "\\item 0.821222180414016\n",
       "\\item 0.903823529247134\n",
       "\\item 0.94790936469166\n",
       "\\item 0.985973315580254\n",
       "\\item 1\n",
       "\\end{enumerate*}\n"
      ],
      "text/markdown": [
       "1. 0.821222180414016\n",
       "2. 0.903823529247134\n",
       "3. 0.94790936469166\n",
       "4. 0.985973315580254\n",
       "5. 1\n",
       "\n",
       "\n"
      ],
      "text/plain": [
       "[1] 0.8212222 0.9038235 0.9479094 0.9859733 1.0000000"
      ]
     },
     "metadata": {},
     "output_type": "display_data"
    }
   ],
   "source": [
    "cumsum(lambda / sum(lambda))"
   ]
  },
  {
   "cell_type": "markdown",
   "metadata": {},
   "source": [
    "## Biplot"
   ]
  },
  {
   "cell_type": "markdown",
   "metadata": {},
   "source": [
    "El biplot es una representación gráfica simultánea de los individuos (mediante puntos) y las variables\n",
    "(mediante flechas), en un mismo sistema de coordenadas bidimensional construido en base a las dos primeras\n",
    "componentes principales. Permite interpretar el significado de las componentes (la primera en el eje horizontal y la segunda en el eje vertical) en base a las direcciones de las flechas. A su vez, se valoran como parecidos los individuos cuyos puntos están próximos en el biplot. De igual modo tendrán correlación positiva las variables con flechas semejantes. Asimismo, los individuos que se encuentran en la dirección de cierta flecha tendrán observaciones altas en la variable representada por la flecha."
   ]
  },
  {
   "cell_type": "code",
   "execution_count": 49,
   "metadata": {
    "vscode": {
     "languageId": "r"
    }
   },
   "outputs": [
    {
     "data": {
      "image/png": "[encoded data removed]",
      "text/plain": [
       "plot without title"
      ]
     },
     "metadata": {
      "image/png": {
       "height": 420,
       "width": 420
      }
     },
     "output_type": "display_data"
    }
   ],
   "source": [
    "biplot(test.pca)"
   ]
  },
  {
   "cell_type": "markdown",
   "metadata": {},
   "source": [
    "## Las componentes principales y los cambios de escala"
   ]
  },
  {
   "cell_type": "markdown",
   "metadata": {},
   "source": [
    "Un problema importante del análisis de componentes principales es que sus resultados dependen de la escala\n",
    "de medida de las variables originales. Así, si se cambia de escala una variable (dejando las demás fijas) las\n",
    "componentes principales se modifican, cambiando incluso la posible interpretación de las mismas. En concreto,\n",
    "si se aumenta la escala de una variable, ésta verá incrementada su varianza y su aportación proporcional a la varianza total, atrayendo de este modo a la primera componente principal, que se asemejará a esta variable.\n",
    "\n",
    "Claro está que si se realiza el mismo cambio de escala en todas las variables, entonces los resultados del\n",
    "análisis de componentes principales se mantendrán idénticos.\n",
    "\n",
    "Este problema se puede solventar de dos maneras:\n",
    "\n",
    "* Midiendo todas las variables en la misma escala (siempre que sean de la misma naturaleza).\n",
    "* Aplicando el análisis de componentes principales a las variables estandarizadas. Esto último equivale a trabajar con la matriz de correlaciones, en lugar de la matriz de covarianzas.\n",
    "\n",
    "El archivo 'decatlon.txt' contiene los resultados de 33 participantes en la prueba combinada de atletismo\n",
    "durante una competición. Las filas corresponden a los participantes y las columnas a los resultados en las diez\n",
    "pruebas (cuatro carreras, tres lanzamientos y tres saltos). Las variables correspondientes son: 100 metros\n",
    "(`X100`), salto de longitud (`long`), lanzamiento de peso (`poid`), salto de altura (`haut`), 400 metros (`X400`),110 metros vallas (`X110`), lanzamiento de disco (`disq`), salto con pértiga (`perc`), lanzamiento de jabalina (`jave`) y 1500 metros (`X1500`).\n",
    "1. Realiza un Análisis de Componentes Principales con los datos de decatlón. Justifica el uso de la matriz de covarianzas o de la matriz de correlaciones muestrales para llevar a cabo el análisis.\n",
    "2. Haz una interpretación de las dos primeras componentes principales. ¿Cuál es la proporción de variabilidad explicada por las dos primeras componentes principales?\n",
    "3. Realiza el biplot correspondiente y comenta la gráfica obtenida."
   ]
  },
  {
   "cell_type": "code",
   "execution_count": 50,
   "metadata": {
    "vscode": {
     "languageId": "r"
    }
   },
   "outputs": [
    {
     "data": {
      "text/html": [
       "<table class=\"dataframe\">\n",
       "<caption>A data.frame: 6 x 10</caption>\n",
       "<thead>\n",
       "\t<tr><th></th><th scope=col>X100</th><th scope=col>long</th><th scope=col>poid</th><th scope=col>haut</th><th scope=col>X400</th><th scope=col>X110</th><th scope=col>disq</th><th scope=col>perc</th><th scope=col>jave</th><th scope=col>X1500</th></tr>\n",
       "\t<tr><th></th><th scope=col>&lt;dbl&gt;</th><th scope=col>&lt;dbl&gt;</th><th scope=col>&lt;dbl&gt;</th><th scope=col>&lt;dbl&gt;</th><th scope=col>&lt;dbl&gt;</th><th scope=col>&lt;dbl&gt;</th><th scope=col>&lt;dbl&gt;</th><th scope=col>&lt;dbl&gt;</th><th scope=col>&lt;dbl&gt;</th><th scope=col>&lt;dbl&gt;</th></tr>\n",
       "</thead>\n",
       "<tbody>\n",
       "\t<tr><th scope=row>1</th><td>11.25</td><td>7.43</td><td>15.48</td><td>2.27</td><td>48.90</td><td>15.13</td><td>49.28</td><td>4.7</td><td>61.32</td><td>268.95</td></tr>\n",
       "\t<tr><th scope=row>2</th><td>10.87</td><td>7.45</td><td>14.97</td><td>1.97</td><td>47.71</td><td>14.46</td><td>44.36</td><td>5.1</td><td>61.76</td><td>273.02</td></tr>\n",
       "\t<tr><th scope=row>3</th><td>11.18</td><td>7.44</td><td>14.20</td><td>1.97</td><td>48.29</td><td>14.81</td><td>43.66</td><td>5.2</td><td>64.16</td><td>263.20</td></tr>\n",
       "\t<tr><th scope=row>4</th><td>10.62</td><td>7.38</td><td>15.02</td><td>2.03</td><td>49.06</td><td>14.72</td><td>44.80</td><td>4.9</td><td>64.04</td><td>285.11</td></tr>\n",
       "\t<tr><th scope=row>5</th><td>11.02</td><td>7.43</td><td>12.92</td><td>1.97</td><td>47.44</td><td>14.40</td><td>41.20</td><td>5.2</td><td>57.46</td><td>256.64</td></tr>\n",
       "\t<tr><th scope=row>6</th><td>10.83</td><td>7.72</td><td>13.58</td><td>2.12</td><td>48.34</td><td>14.18</td><td>43.06</td><td>4.9</td><td>52.18</td><td>274.07</td></tr>\n",
       "</tbody>\n",
       "</table>\n"
      ],
      "text/latex": [
       "A data.frame: 6 x 10\n",
       "\\begin{tabular}{r|llllllllll}\n",
       "  & X100 & long & poid & haut & X400 & X110 & disq & perc & jave & X1500\\\\\n",
       "  & <dbl> & <dbl> & <dbl> & <dbl> & <dbl> & <dbl> & <dbl> & <dbl> & <dbl> & <dbl>\\\\\n",
       "\\hline\n",
       "\t1 & 11.25 & 7.43 & 15.48 & 2.27 & 48.90 & 15.13 & 49.28 & 4.7 & 61.32 & 268.95\\\\\n",
       "\t2 & 10.87 & 7.45 & 14.97 & 1.97 & 47.71 & 14.46 & 44.36 & 5.1 & 61.76 & 273.02\\\\\n",
       "\t3 & 11.18 & 7.44 & 14.20 & 1.97 & 48.29 & 14.81 & 43.66 & 5.2 & 64.16 & 263.20\\\\\n",
       "\t4 & 10.62 & 7.38 & 15.02 & 2.03 & 49.06 & 14.72 & 44.80 & 4.9 & 64.04 & 285.11\\\\\n",
       "\t5 & 11.02 & 7.43 & 12.92 & 1.97 & 47.44 & 14.40 & 41.20 & 5.2 & 57.46 & 256.64\\\\\n",
       "\t6 & 10.83 & 7.72 & 13.58 & 2.12 & 48.34 & 14.18 & 43.06 & 4.9 & 52.18 & 274.07\\\\\n",
       "\\end{tabular}\n"
      ],
      "text/markdown": [
       "\n",
       "A data.frame: 6 x 10\n",
       "\n",
       "| <!--/--> | X100 &lt;dbl&gt; | long &lt;dbl&gt; | poid &lt;dbl&gt; | haut &lt;dbl&gt; | X400 &lt;dbl&gt; | X110 &lt;dbl&gt; | disq &lt;dbl&gt; | perc &lt;dbl&gt; | jave &lt;dbl&gt; | X1500 &lt;dbl&gt; |\n",
       "|---|---|---|---|---|---|---|---|---|---|---|\n",
       "| 1 | 11.25 | 7.43 | 15.48 | 2.27 | 48.90 | 15.13 | 49.28 | 4.7 | 61.32 | 268.95 |\n",
       "| 2 | 10.87 | 7.45 | 14.97 | 1.97 | 47.71 | 14.46 | 44.36 | 5.1 | 61.76 | 273.02 |\n",
       "| 3 | 11.18 | 7.44 | 14.20 | 1.97 | 48.29 | 14.81 | 43.66 | 5.2 | 64.16 | 263.20 |\n",
       "| 4 | 10.62 | 7.38 | 15.02 | 2.03 | 49.06 | 14.72 | 44.80 | 4.9 | 64.04 | 285.11 |\n",
       "| 5 | 11.02 | 7.43 | 12.92 | 1.97 | 47.44 | 14.40 | 41.20 | 5.2 | 57.46 | 256.64 |\n",
       "| 6 | 10.83 | 7.72 | 13.58 | 2.12 | 48.34 | 14.18 | 43.06 | 4.9 | 52.18 | 274.07 |\n",
       "\n"
      ],
      "text/plain": [
       "  X100  long poid  haut X400  X110  disq  perc jave  X1500 \n",
       "1 11.25 7.43 15.48 2.27 48.90 15.13 49.28 4.7  61.32 268.95\n",
       "2 10.87 7.45 14.97 1.97 47.71 14.46 44.36 5.1  61.76 273.02\n",
       "3 11.18 7.44 14.20 1.97 48.29 14.81 43.66 5.2  64.16 263.20\n",
       "4 10.62 7.38 15.02 2.03 49.06 14.72 44.80 4.9  64.04 285.11\n",
       "5 11.02 7.43 12.92 1.97 47.44 14.40 41.20 5.2  57.46 256.64\n",
       "6 10.83 7.72 13.58 2.12 48.34 14.18 43.06 4.9  52.18 274.07"
      ]
     },
     "metadata": {},
     "output_type": "display_data"
    }
   ],
   "source": [
    "datos_decatlon <- read.table(\"Datos/decatlon.txt\", header = TRUE)\n",
    "head(datos_decatlon)"
   ]
  },
  {
   "cell_type": "code",
   "execution_count": 51,
   "metadata": {
    "vscode": {
     "languageId": "r"
    }
   },
   "outputs": [
    {
     "data": {
      "text/plain": [
       "      X100            long            poid            haut      \n",
       " Min.   :10.62   Min.   :6.220   Min.   :10.27   Min.   :1.790  \n",
       " 1st Qu.:11.02   1st Qu.:7.000   1st Qu.:13.15   1st Qu.:1.940  \n",
       " Median :11.18   Median :7.090   Median :14.12   Median :1.970  \n",
       " Mean   :11.20   Mean   :7.133   Mean   :13.98   Mean   :1.983  \n",
       " 3rd Qu.:11.43   3rd Qu.:7.370   3rd Qu.:14.97   3rd Qu.:2.030  \n",
       " Max.   :11.57   Max.   :7.720   Max.   :16.60   Max.   :2.270  \n",
       "      X400            X110            disq            perc      \n",
       " Min.   :47.44   Min.   :14.18   Min.   :34.36   Min.   :4.000  \n",
       " 1st Qu.:48.34   1st Qu.:14.72   1st Qu.:39.08   1st Qu.:4.600  \n",
       " Median :49.15   Median :15.00   Median :42.32   Median :4.700  \n",
       " Mean   :49.28   Mean   :15.05   Mean   :42.35   Mean   :4.739  \n",
       " 3rd Qu.:49.98   3rd Qu.:15.38   3rd Qu.:44.80   3rd Qu.:4.900  \n",
       " Max.   :51.28   Max.   :16.20   Max.   :50.66   Max.   :5.700  \n",
       "      jave           X1500      \n",
       " Min.   :49.52   Min.   :256.6  \n",
       " 1st Qu.:55.42   1st Qu.:266.4  \n",
       " Median :59.48   Median :272.1  \n",
       " Mean   :59.44   Mean   :276.0  \n",
       " 3rd Qu.:64.00   3rd Qu.:286.0  \n",
       " Max.   :72.60   Max.   :303.2  "
      ]
     },
     "metadata": {},
     "output_type": "display_data"
    }
   ],
   "source": [
    "summary(datos_decatlon)"
   ]
  },
  {
   "cell_type": "markdown",
   "metadata": {},
   "source": [
    "En un Análisis de Componentes Principales (PCA), la elección entre usar la matriz de covarianzas o la matriz de correlaciones muestrales depende de las características de los datos:\n",
    "\n",
    "* Matriz de Covarianzas:\n",
    "    * Es adecuada cuando las variables están en la misma escala o tienen unidades comparables.\n",
    "    * Se utiliza cuando las magnitudes de las variables son importantes y se desea preservar la varianza original de los datos.\n",
    "* Matriz de Correlaciones Muestrales:\n",
    "    * Es adecuada cuando las variables están en diferentes escalas o unidades.\n",
    "    * Se utiliza cuando se desea estandarizar las variables para que todas tengan la misma importancia en el análisis, eliminando el efecto de las diferentes escalas.\n",
    "    * Es útil cuando se quiere comparar la estructura de correlación entre las variables, independientemente de sus magnitudes.\n",
    "    \n",
    "En resumen, usa la matriz de covarianzas cuando las variables tienen escalas comparables y la matriz de correlaciones muestrales cuando las variables tienen diferentes escalas o unidades."
   ]
  },
  {
   "cell_type": "markdown",
   "metadata": {},
   "source": [
    "Comencemos viendo los resultados que hacen uso de la matriz de covarianzas:"
   ]
  },
  {
   "cell_type": "code",
   "execution_count": 52,
   "metadata": {
    "vscode": {
     "languageId": "r"
    }
   },
   "outputs": [
    {
     "data": {
      "text/plain": [
       "Importance of components:\n",
       "                           Comp.1    Comp.2    Comp.3      Comp.4      Comp.5\n",
       "Standard deviation     13.5703138 5.7156823 2.9154554 0.926253946 0.687453789\n",
       "Proportion of Variance  0.8115669 0.1439729 0.0374591 0.003780982 0.002082723\n",
       "Cumulative Proportion   0.8115669 0.9555397 0.9929988 0.996779816 0.998862539\n",
       "                             Comp.6       Comp.7       Comp.8       Comp.9\n",
       "Standard deviation     0.3412388755 0.2436593218 0.2279377697 0.1539025888\n",
       "Proportion of Variance 0.0005131703 0.0002616439 0.0002289692 0.0001043846\n",
       "Cumulative Proportion  0.9993757093 0.9996373532 0.9998663224 0.9999707070\n",
       "                            Comp.10\n",
       "Standard deviation     8.152850e-02\n",
       "Proportion of Variance 2.929297e-05\n",
       "Cumulative Proportion  1.000000e+00"
      ]
     },
     "metadata": {},
     "output_type": "display_data"
    }
   ],
   "source": [
    "pca_decatlon <- princomp(datos_decatlon)\n",
    "summary(pca_decatlon)"
   ]
  },
  {
   "cell_type": "code",
   "execution_count": 53,
   "metadata": {
    "vscode": {
     "languageId": "r"
    }
   },
   "outputs": [
    {
     "data": {
      "text/plain": [
       "\n",
       "Loadings:\n",
       "      Comp.1 Comp.2 Comp.3 Comp.4 Comp.5 Comp.6 Comp.7 Comp.8 Comp.9 Comp.10\n",
       "X100                        0.168         0.116  0.103  0.233  0.944        \n",
       "long                       -0.136        -0.274        -0.908  0.280        \n",
       "poid         -0.156 -0.205 -0.177 -0.887  0.323                             \n",
       "haut                                     -0.110                      -0.993 \n",
       "X400                        0.848 -0.332 -0.394                             \n",
       "X110                        0.398  0.186  0.763  0.298 -0.334 -0.122        \n",
       "disq   0.118 -0.352 -0.891  0.120  0.222                                    \n",
       "perc                       -0.164 -0.107 -0.231  0.947                      \n",
       "jave         -0.918  0.387                                                  \n",
       "X1500  0.990                                                                \n",
       "\n",
       "               Comp.1 Comp.2 Comp.3 Comp.4 Comp.5 Comp.6 Comp.7 Comp.8 Comp.9\n",
       "SS loadings       1.0    1.0    1.0    1.0    1.0    1.0    1.0    1.0    1.0\n",
       "Proportion Var    0.1    0.1    0.1    0.1    0.1    0.1    0.1    0.1    0.1\n",
       "Cumulative Var    0.1    0.2    0.3    0.4    0.5    0.6    0.7    0.8    0.9\n",
       "               Comp.10\n",
       "SS loadings        1.0\n",
       "Proportion Var     0.1\n",
       "Cumulative Var     1.0"
      ]
     },
     "metadata": {},
     "output_type": "display_data"
    }
   ],
   "source": [
    "pca_decatlon$loadings"
   ]
  },
  {
   "cell_type": "markdown",
   "metadata": {},
   "source": [
    "Hay un problema claro en la unidad de medida, no todas usan la misma escala. En este caso, lo adecuado es usar la matriz de correlación muestral para normalizar los datos. Esto se puede hacer fijando `cor = TRUE`"
   ]
  },
  {
   "cell_type": "code",
   "execution_count": 54,
   "metadata": {
    "vscode": {
     "languageId": "r"
    }
   },
   "outputs": [
    {
     "data": {
      "text/plain": [
       "Importance of components:\n",
       "                          Comp.1    Comp.2     Comp.3     Comp.4     Comp.5\n",
       "Standard deviation     1.8488478 1.6144328 0.97123448 0.93702788 0.74607416\n",
       "Proportion of Variance 0.3418238 0.2606393 0.09432964 0.08780212 0.05566267\n",
       "Cumulative Proportion  0.3418238 0.6024631 0.69679277 0.78459489 0.84025756\n",
       "                           Comp.6     Comp.7     Comp.8     Comp.9    Comp.10\n",
       "Standard deviation     0.70087625 0.65619754 0.55389360 0.51667148 0.31914597\n",
       "Proportion of Variance 0.04912275 0.04305952 0.03067981 0.02669494 0.01018542\n",
       "Cumulative Proportion  0.88938031 0.93243983 0.96311964 0.98981458 1.00000000"
      ]
     },
     "metadata": {},
     "output_type": "display_data"
    }
   ],
   "source": [
    "pca_decatlon_muestral <- princomp(datos_decatlon, cor=TRUE)\n",
    "summary(pca_decatlon_muestral)\n",
    "\n",
    "# Usando princomp con cor=TRUE, que estandariza las variables\n",
    "#pca1 <- princomp(datos_decatlon, cor=TRUE)\n",
    "\n",
    "# O escalando primero y luego aplicando princomp\n",
    "#datos_escalados <- scale(datos_decatlon)\n",
    "#pca2 <- princomp(datos_escalados)"
   ]
  },
  {
   "cell_type": "code",
   "execution_count": 55,
   "metadata": {
    "vscode": {
     "languageId": "r"
    }
   },
   "outputs": [
    {
     "ename": "ERROR",
     "evalue": "Error in eval(expr, envir, enclos): objeto 'pca_model' no encontrado\n",
     "output_type": "error",
     "traceback": [
      "Error in eval(expr, envir, enclos): objeto 'pca_model' no encontrado\nTraceback:\n"
     ]
    }
   ],
   "source": [
    "# Verificar la proporción de varianza explicada por cada componente\n",
    "prop_var <- pca_model$sdev^2 / sum(pca_model$sdev^2)"
   ]
  },
  {
   "cell_type": "code",
   "execution_count": null,
   "metadata": {
    "vscode": {
     "languageId": "r"
    }
   },
   "outputs": [
    {
     "ename": "ERROR",
     "evalue": "Error in eval(expr, envir, enclos): objeto 'prop_var' no encontrado\n",
     "output_type": "error",
     "traceback": [
      "Error in eval(expr, envir, enclos): objeto 'prop_var' no encontrado\nTraceback:\n"
     ]
    }
   ],
   "source": [
    "# Graficar la proporción de varianza explicada acumulativa\n",
    "cumulative_prop_var <- cumsum(prop_var)\n",
    "plot(cumulative_prop_var, type = \"b\", xlab = \"Número de Componentes\", ylab = \"Proporción de Varianza Explicada Acumulativa\")"
   ]
  },
  {
   "cell_type": "code",
   "execution_count": 56,
   "metadata": {
    "vscode": {
     "languageId": "r"
    }
   },
   "outputs": [
    {
     "ename": "ERROR",
     "evalue": "Error in eval(expr, envir, enclos): objeto 'pca_model' no encontrado\n",
     "output_type": "error",
     "traceback": [
      "Error in eval(expr, envir, enclos): objeto 'pca_model' no encontrado\nTraceback:\n",
      "1. predict(pca_model, newdata = scaled_X_train)"
     ]
    }
   ],
   "source": [
    "# Seleccionar el número de componentes principales deseado\n",
    "num_components <- 5  # Puedes ajustar este valor según tus necesidades\n",
    "\n",
    "# Reducir dimensionalidad con PCA\n",
    "reduced_X_train_pca <- predict(pca_model, newdata = scaled_X_train)[, 1:num_components]\n",
    "\n",
    "# Aplicar la misma reducción a los datos de prueba\n",
    "scaled_X_test <- scale(X_test)\n",
    "reduced_X_test_pca <- predict(pca_model, newdata = scaled_X_test)[, 1:num_components]\n"
   ]
  },
  {
   "cell_type": "code",
   "execution_count": 57,
   "metadata": {
    "vscode": {
     "languageId": "r"
    }
   },
   "outputs": [
    {
     "data": {
      "image/png": "[encoded data removed]",
      "text/plain": [
       "Plot with title “Screeplot de los autovalores”"
      ]
     },
     "metadata": {
      "image/png": {
       "height": 420,
       "width": 420
      }
     },
     "output_type": "display_data"
    }
   ],
   "source": [
    "screeplot(pca_decatlon_muestral, type=\"lines\", main=\"Screeplot de los autovalores\") "
   ]
  },
  {
   "cell_type": "code",
   "execution_count": 58,
   "metadata": {
    "vscode": {
     "languageId": "r"
    }
   },
   "outputs": [
    {
     "data": {
      "image/png": "[encoded data removed]",
      "text/plain": [
       "plot without title"
      ]
     },
     "metadata": {
      "image/png": {
       "height": 420,
       "width": 420
      }
     },
     "output_type": "display_data"
    }
   ],
   "source": [
    "biplot(pca_decatlon_muestral) # aqui deberia quedarme con 2"
   ]
  },
  {
   "cell_type": "markdown",
   "metadata": {},
   "source": [
    "Ahora, en la primera componente principal entran todas la variables"
   ]
  },
  {
   "cell_type": "code",
   "execution_count": 59,
   "metadata": {
    "vscode": {
     "languageId": "r"
    }
   },
   "outputs": [
    {
     "data": {
      "text/plain": [
       "\n",
       "Loadings:\n",
       "      Comp.1 Comp.2 Comp.3 Comp.4 Comp.5 Comp.6 Comp.7 Comp.8 Comp.9 Comp.10\n",
       "X100   0.416  0.149  0.267         0.442         0.254  0.664  0.108  0.109 \n",
       "long  -0.394 -0.152  0.169  0.244 -0.369         0.751  0.141               \n",
       "poid  -0.269  0.484         0.108         0.230 -0.111        -0.422  0.651 \n",
       "haut  -0.212         0.855 -0.388               -0.135 -0.155  0.102  0.119 \n",
       "X400   0.356  0.352  0.189        -0.147 -0.327  0.141 -0.147 -0.651 -0.337 \n",
       "X110   0.433         0.126  0.382         0.210  0.273 -0.639  0.207  0.260 \n",
       "disq  -0.176  0.503                       0.615  0.144         0.167 -0.535 \n",
       "perc  -0.384  0.150 -0.137 -0.144  0.717 -0.348  0.273 -0.277               \n",
       "jave  -0.180  0.372  0.192  0.600        -0.437 -0.342         0.306 -0.131 \n",
       "X1500  0.170  0.421 -0.223 -0.486 -0.340 -0.300  0.187         0.457  0.243 \n",
       "\n",
       "               Comp.1 Comp.2 Comp.3 Comp.4 Comp.5 Comp.6 Comp.7 Comp.8 Comp.9\n",
       "SS loadings       1.0    1.0    1.0    1.0    1.0    1.0    1.0    1.0    1.0\n",
       "Proportion Var    0.1    0.1    0.1    0.1    0.1    0.1    0.1    0.1    0.1\n",
       "Cumulative Var    0.1    0.2    0.3    0.4    0.5    0.6    0.7    0.8    0.9\n",
       "               Comp.10\n",
       "SS loadings        1.0\n",
       "Proportion Var     0.1\n",
       "Cumulative Var     1.0"
      ]
     },
     "metadata": {},
     "output_type": "display_data"
    }
   ],
   "source": [
    "pca_decatlon_muestral$loading"
   ]
  },
  {
   "cell_type": "markdown",
   "metadata": {},
   "source": [
    "La Primera Componente Principal contrasta principalmente las disciplinas de velocidad y resistencia (carreras de 100 metros, 400 metros y 110 metros vallas) con las disciplinas de salto y lanzamiento (salto de longitud, salto con pértiga, lanzamiento de peso, lanzamiento de disco y lanzamiento de jabalina).\n",
    "\n",
    "Cargas positivas altas indican que los atletas que obtienen buenos resultados en las carreras tienden a tener puntuaciones altas en esta componente.\n",
    "Cargas negativas altas sugieren que aquellos que sobresalen en las disciplinas de salto y lanzamiento tienen puntuaciones bajas en esta componente.\n",
    "Por lo tanto, Comp.1 puede interpretarse como una dimensión que distingue a los atletas según su rendimiento en pruebas de velocidad/resistencia frente a pruebas de salto/lanzamiento"
   ]
  },
  {
   "cell_type": "markdown",
   "metadata": {},
   "source": [
    "## Regresión de componentes principales"
   ]
  },
  {
   "cell_type": "markdown",
   "metadata": {},
   "source": [
    "Cargamos un conjunto de datos de 215 muestras de carne picada. Para cada muestra, se tiene el contenido de grasa, `fat` junto con el espectro de canal de 100 absorbancias, `V1`, `V2`, ..., `V100`. Es decir, tenemos el contenido de grasa en función de 100 variables."
   ]
  },
  {
   "cell_type": "code",
   "execution_count": 60,
   "metadata": {
    "vscode": {
     "languageId": "r"
    }
   },
   "outputs": [
    {
     "name": "stderr",
     "output_type": "stream",
     "text": [
      "Cargando paquete requerido: faraway\n",
      "\n"
     ]
    },
    {
     "data": {
      "text/html": [
       "<table class=\"dataframe\">\n",
       "<caption>A data.frame: 6 x 101</caption>\n",
       "<thead>\n",
       "\t<tr><th></th><th scope=col>V1</th><th scope=col>V2</th><th scope=col>V3</th><th scope=col>V4</th><th scope=col>V5</th><th scope=col>V6</th><th scope=col>V7</th><th scope=col>V8</th><th scope=col>V9</th><th scope=col>V10</th><th scope=col>...</th><th scope=col>V92</th><th scope=col>V93</th><th scope=col>V94</th><th scope=col>V95</th><th scope=col>V96</th><th scope=col>V97</th><th scope=col>V98</th><th scope=col>V99</th><th scope=col>V100</th><th scope=col>fat</th></tr>\n",
       "\t<tr><th></th><th scope=col>&lt;dbl&gt;</th><th scope=col>&lt;dbl&gt;</th><th scope=col>&lt;dbl&gt;</th><th scope=col>&lt;dbl&gt;</th><th scope=col>&lt;dbl&gt;</th><th scope=col>&lt;dbl&gt;</th><th scope=col>&lt;dbl&gt;</th><th scope=col>&lt;dbl&gt;</th><th scope=col>&lt;dbl&gt;</th><th scope=col>&lt;dbl&gt;</th><th scope=col>...</th><th scope=col>&lt;dbl&gt;</th><th scope=col>&lt;dbl&gt;</th><th scope=col>&lt;dbl&gt;</th><th scope=col>&lt;dbl&gt;</th><th scope=col>&lt;dbl&gt;</th><th scope=col>&lt;dbl&gt;</th><th scope=col>&lt;dbl&gt;</th><th scope=col>&lt;dbl&gt;</th><th scope=col>&lt;dbl&gt;</th><th scope=col>&lt;dbl&gt;</th></tr>\n",
       "</thead>\n",
       "<tbody>\n",
       "\t<tr><th scope=row>1</th><td>2.61776</td><td>2.61814</td><td>2.61859</td><td>2.61912</td><td>2.61981</td><td>2.62071</td><td>2.62186</td><td>2.62334</td><td>2.62511</td><td>2.62722</td><td>...</td><td>2.98145</td><td>2.96072</td><td>2.94013</td><td>2.91978</td><td>2.89966</td><td>2.87964</td><td>2.85960</td><td>2.83940</td><td>2.81920</td><td>22.5</td></tr>\n",
       "\t<tr><th scope=row>2</th><td>2.83454</td><td>2.83871</td><td>2.84283</td><td>2.84705</td><td>2.85138</td><td>2.85587</td><td>2.86060</td><td>2.86566</td><td>2.87093</td><td>2.87661</td><td>...</td><td>3.29186</td><td>3.27921</td><td>3.26655</td><td>3.25369</td><td>3.24045</td><td>3.22659</td><td>3.21181</td><td>3.19600</td><td>3.17942</td><td>40.1</td></tr>\n",
       "\t<tr><th scope=row>3</th><td>2.58284</td><td>2.58458</td><td>2.58629</td><td>2.58808</td><td>2.58996</td><td>2.59192</td><td>2.59401</td><td>2.59627</td><td>2.59873</td><td>2.60131</td><td>...</td><td>2.68951</td><td>2.67009</td><td>2.65112</td><td>2.63262</td><td>2.61461</td><td>2.59718</td><td>2.58034</td><td>2.56404</td><td>2.54816</td><td> 8.4</td></tr>\n",
       "\t<tr><th scope=row>4</th><td>2.82286</td><td>2.82460</td><td>2.82630</td><td>2.82814</td><td>2.83001</td><td>2.83192</td><td>2.83392</td><td>2.83606</td><td>2.83842</td><td>2.84097</td><td>...</td><td>2.97367</td><td>2.94951</td><td>2.92576</td><td>2.90251</td><td>2.87988</td><td>2.85794</td><td>2.83672</td><td>2.81617</td><td>2.79622</td><td> 5.9</td></tr>\n",
       "\t<tr><th scope=row>5</th><td>2.78813</td><td>2.78989</td><td>2.79167</td><td>2.79350</td><td>2.79538</td><td>2.79746</td><td>2.79984</td><td>2.80254</td><td>2.80553</td><td>2.80890</td><td>...</td><td>3.30025</td><td>3.27907</td><td>3.25831</td><td>3.23784</td><td>3.21765</td><td>3.19766</td><td>3.17770</td><td>3.15770</td><td>3.13753</td><td>25.5</td></tr>\n",
       "\t<tr><th scope=row>6</th><td>3.00993</td><td>3.01540</td><td>3.02086</td><td>3.02634</td><td>3.03190</td><td>3.03756</td><td>3.04341</td><td>3.04955</td><td>3.05599</td><td>3.06274</td><td>...</td><td>3.55877</td><td>3.54651</td><td>3.53442</td><td>3.52221</td><td>3.50972</td><td>3.49682</td><td>3.48325</td><td>3.46870</td><td>3.45307</td><td>42.7</td></tr>\n",
       "</tbody>\n",
       "</table>\n"
      ],
      "text/latex": [
       "A data.frame: 6 x 101\n",
       "\\begin{tabular}{r|lllllllllllllllllllll}\n",
       "  & V1 & V2 & V3 & V4 & V5 & V6 & V7 & V8 & V9 & V10 & ... & V92 & V93 & V94 & V95 & V96 & V97 & V98 & V99 & V100 & fat\\\\\n",
       "  & <dbl> & <dbl> & <dbl> & <dbl> & <dbl> & <dbl> & <dbl> & <dbl> & <dbl> & <dbl> & ... & <dbl> & <dbl> & <dbl> & <dbl> & <dbl> & <dbl> & <dbl> & <dbl> & <dbl> & <dbl>\\\\\n",
       "\\hline\n",
       "\t1 & 2.61776 & 2.61814 & 2.61859 & 2.61912 & 2.61981 & 2.62071 & 2.62186 & 2.62334 & 2.62511 & 2.62722 & ... & 2.98145 & 2.96072 & 2.94013 & 2.91978 & 2.89966 & 2.87964 & 2.85960 & 2.83940 & 2.81920 & 22.5\\\\\n",
       "\t2 & 2.83454 & 2.83871 & 2.84283 & 2.84705 & 2.85138 & 2.85587 & 2.86060 & 2.86566 & 2.87093 & 2.87661 & ... & 3.29186 & 3.27921 & 3.26655 & 3.25369 & 3.24045 & 3.22659 & 3.21181 & 3.19600 & 3.17942 & 40.1\\\\\n",
       "\t3 & 2.58284 & 2.58458 & 2.58629 & 2.58808 & 2.58996 & 2.59192 & 2.59401 & 2.59627 & 2.59873 & 2.60131 & ... & 2.68951 & 2.67009 & 2.65112 & 2.63262 & 2.61461 & 2.59718 & 2.58034 & 2.56404 & 2.54816 &  8.4\\\\\n",
       "\t4 & 2.82286 & 2.82460 & 2.82630 & 2.82814 & 2.83001 & 2.83192 & 2.83392 & 2.83606 & 2.83842 & 2.84097 & ... & 2.97367 & 2.94951 & 2.92576 & 2.90251 & 2.87988 & 2.85794 & 2.83672 & 2.81617 & 2.79622 &  5.9\\\\\n",
       "\t5 & 2.78813 & 2.78989 & 2.79167 & 2.79350 & 2.79538 & 2.79746 & 2.79984 & 2.80254 & 2.80553 & 2.80890 & ... & 3.30025 & 3.27907 & 3.25831 & 3.23784 & 3.21765 & 3.19766 & 3.17770 & 3.15770 & 3.13753 & 25.5\\\\\n",
       "\t6 & 3.00993 & 3.01540 & 3.02086 & 3.02634 & 3.03190 & 3.03756 & 3.04341 & 3.04955 & 3.05599 & 3.06274 & ... & 3.55877 & 3.54651 & 3.53442 & 3.52221 & 3.50972 & 3.49682 & 3.48325 & 3.46870 & 3.45307 & 42.7\\\\\n",
       "\\end{tabular}\n"
      ],
      "text/markdown": [
       "\n",
       "A data.frame: 6 x 101\n",
       "\n",
       "| <!--/--> | V1 &lt;dbl&gt; | V2 &lt;dbl&gt; | V3 &lt;dbl&gt; | V4 &lt;dbl&gt; | V5 &lt;dbl&gt; | V6 &lt;dbl&gt; | V7 &lt;dbl&gt; | V8 &lt;dbl&gt; | V9 &lt;dbl&gt; | V10 &lt;dbl&gt; | ... ... | V92 &lt;dbl&gt; | V93 &lt;dbl&gt; | V94 &lt;dbl&gt; | V95 &lt;dbl&gt; | V96 &lt;dbl&gt; | V97 &lt;dbl&gt; | V98 &lt;dbl&gt; | V99 &lt;dbl&gt; | V100 &lt;dbl&gt; | fat &lt;dbl&gt; |\n",
       "|---|---|---|---|---|---|---|---|---|---|---|---|---|---|---|---|---|---|---|---|---|---|\n",
       "| 1 | 2.61776 | 2.61814 | 2.61859 | 2.61912 | 2.61981 | 2.62071 | 2.62186 | 2.62334 | 2.62511 | 2.62722 | ... | 2.98145 | 2.96072 | 2.94013 | 2.91978 | 2.89966 | 2.87964 | 2.85960 | 2.83940 | 2.81920 | 22.5 |\n",
       "| 2 | 2.83454 | 2.83871 | 2.84283 | 2.84705 | 2.85138 | 2.85587 | 2.86060 | 2.86566 | 2.87093 | 2.87661 | ... | 3.29186 | 3.27921 | 3.26655 | 3.25369 | 3.24045 | 3.22659 | 3.21181 | 3.19600 | 3.17942 | 40.1 |\n",
       "| 3 | 2.58284 | 2.58458 | 2.58629 | 2.58808 | 2.58996 | 2.59192 | 2.59401 | 2.59627 | 2.59873 | 2.60131 | ... | 2.68951 | 2.67009 | 2.65112 | 2.63262 | 2.61461 | 2.59718 | 2.58034 | 2.56404 | 2.54816 |  8.4 |\n",
       "| 4 | 2.82286 | 2.82460 | 2.82630 | 2.82814 | 2.83001 | 2.83192 | 2.83392 | 2.83606 | 2.83842 | 2.84097 | ... | 2.97367 | 2.94951 | 2.92576 | 2.90251 | 2.87988 | 2.85794 | 2.83672 | 2.81617 | 2.79622 |  5.9 |\n",
       "| 5 | 2.78813 | 2.78989 | 2.79167 | 2.79350 | 2.79538 | 2.79746 | 2.79984 | 2.80254 | 2.80553 | 2.80890 | ... | 3.30025 | 3.27907 | 3.25831 | 3.23784 | 3.21765 | 3.19766 | 3.17770 | 3.15770 | 3.13753 | 25.5 |\n",
       "| 6 | 3.00993 | 3.01540 | 3.02086 | 3.02634 | 3.03190 | 3.03756 | 3.04341 | 3.04955 | 3.05599 | 3.06274 | ... | 3.55877 | 3.54651 | 3.53442 | 3.52221 | 3.50972 | 3.49682 | 3.48325 | 3.46870 | 3.45307 | 42.7 |\n",
       "\n"
      ],
      "text/plain": [
       "  V1      V2      V3      V4      V5      V6      V7      V8      V9     \n",
       "1 2.61776 2.61814 2.61859 2.61912 2.61981 2.62071 2.62186 2.62334 2.62511\n",
       "2 2.83454 2.83871 2.84283 2.84705 2.85138 2.85587 2.86060 2.86566 2.87093\n",
       "3 2.58284 2.58458 2.58629 2.58808 2.58996 2.59192 2.59401 2.59627 2.59873\n",
       "4 2.82286 2.82460 2.82630 2.82814 2.83001 2.83192 2.83392 2.83606 2.83842\n",
       "5 2.78813 2.78989 2.79167 2.79350 2.79538 2.79746 2.79984 2.80254 2.80553\n",
       "6 3.00993 3.01540 3.02086 3.02634 3.03190 3.03756 3.04341 3.04955 3.05599\n",
       "  V10     ... V92     V93     V94     V95     V96     V97     V98     V99    \n",
       "1 2.62722 ... 2.98145 2.96072 2.94013 2.91978 2.89966 2.87964 2.85960 2.83940\n",
       "2 2.87661 ... 3.29186 3.27921 3.26655 3.25369 3.24045 3.22659 3.21181 3.19600\n",
       "3 2.60131 ... 2.68951 2.67009 2.65112 2.63262 2.61461 2.59718 2.58034 2.56404\n",
       "4 2.84097 ... 2.97367 2.94951 2.92576 2.90251 2.87988 2.85794 2.83672 2.81617\n",
       "5 2.80890 ... 3.30025 3.27907 3.25831 3.23784 3.21765 3.19766 3.17770 3.15770\n",
       "6 3.06274 ... 3.55877 3.54651 3.53442 3.52221 3.50972 3.49682 3.48325 3.46870\n",
       "  V100    fat \n",
       "1 2.81920 22.5\n",
       "2 3.17942 40.1\n",
       "3 2.54816  8.4\n",
       "4 2.79622  5.9\n",
       "5 3.13753 25.5\n",
       "6 3.45307 42.7"
      ]
     },
     "metadata": {},
     "output_type": "display_data"
    }
   ],
   "source": [
    "if(!require(faraway)) install.packages(\"faraway\")\n",
    "library(faraway)\n",
    "data(meatspec)\n",
    "head(meatspec)"
   ]
  },
  {
   "cell_type": "markdown",
   "metadata": {},
   "source": [
    "En este caso estamos ante un problema de gran dimensión"
   ]
  },
  {
   "cell_type": "code",
   "execution_count": 61,
   "metadata": {
    "vscode": {
     "languageId": "r"
    }
   },
   "outputs": [
    {
     "data": {
      "text/html": [
       "<style>\n",
       ".list-inline {list-style: none; margin:0; padding: 0}\n",
       ".list-inline>li {display: inline-block}\n",
       ".list-inline>li:not(:last-child)::after {content: \"\\00b7\"; padding: 0 .5ex}\n",
       "</style>\n",
       "<ol class=list-inline><li>215</li><li>101</li></ol>\n"
      ],
      "text/latex": [
       "\\begin{enumerate*}\n",
       "\\item 215\n",
       "\\item 101\n",
       "\\end{enumerate*}\n"
      ],
      "text/markdown": [
       "1. 215\n",
       "2. 101\n",
       "\n",
       "\n"
      ],
      "text/plain": [
       "[1] 215 101"
      ]
     },
     "metadata": {},
     "output_type": "display_data"
    }
   ],
   "source": [
    "dim(meatspec)"
   ]
  },
  {
   "cell_type": "markdown",
   "metadata": {},
   "source": [
    "Dividimos la muestra en un conjunto de entrenamiento y otro de *test*"
   ]
  },
  {
   "cell_type": "code",
   "execution_count": 62,
   "metadata": {
    "vscode": {
     "languageId": "r"
    }
   },
   "outputs": [
    {
     "name": "stdout",
     "output_type": "stream",
     "text": [
      "Dimensión del conjunto de entrenamiento:  172 101 \n",
      "Dimensión del conjunto de entrenamiento:  43 101"
     ]
    }
   ],
   "source": [
    "train= meatspec[1:172,]\n",
    "cat(\"Dimensión del conjunto de entrenamiento: \", dim(train), \"\\n\")\n",
    "test= meatspec[173:215,]\n",
    "cat(\"Dimensión del conjunto de entrenamiento: \", dim(test))"
   ]
  },
  {
   "cell_type": "markdown",
   "metadata": {},
   "source": [
    "Al tener un número $p$ de predictores tan grande, la regresión lineal clásica con `lm` no funcionará de forma adecuada"
   ]
  },
  {
   "cell_type": "code",
   "execution_count": 63,
   "metadata": {
    "vscode": {
     "languageId": "r"
    }
   },
   "outputs": [
    {
     "data": {
      "text/plain": [
       "\n",
       "Call:\n",
       "lm(formula = fat ~ ., data = train)\n",
       "\n",
       "Residuals:\n",
       "     Min       1Q   Median       3Q      Max \n",
       "-2.09837 -0.35779  0.04555  0.38080  2.33860 \n",
       "\n",
       "Coefficients:\n",
       "              Estimate Std. Error t value Pr(>|t|)    \n",
       "(Intercept)      6.324      2.012   3.143 0.002439 ** \n",
       "V1           12134.077   3659.798   3.316 0.001443 ** \n",
       "V2          -12585.857   5971.891  -2.108 0.038605 *  \n",
       "V3           -5107.556   9390.265  -0.544 0.588200    \n",
       "V4           23880.493  17143.644   1.393 0.167977    \n",
       "V5          -40509.555  22129.359  -1.831 0.071360 .  \n",
       "V6           28469.416  19569.400   1.455 0.150134    \n",
       "V7          -20901.082  12501.639  -1.672 0.098952 .  \n",
       "V8            8369.465   7515.467   1.114 0.269193    \n",
       "V9           -1539.328   5397.505  -0.285 0.776327    \n",
       "V10           4706.267   7406.895   0.635 0.527217    \n",
       "V11           7012.943  11720.620   0.598 0.551516    \n",
       "V12          14891.444  20169.170   0.738 0.462749    \n",
       "V13         -30963.902  26186.839  -1.182 0.240983    \n",
       "V14          34338.612  22323.830   1.538 0.128444    \n",
       "V15         -22235.237  13842.268  -1.606 0.112640    \n",
       "V16          -7466.797   8558.172  -0.872 0.385890    \n",
       "V17           6716.653   6561.805   1.024 0.309500    \n",
       "V18          -2033.071   6741.330  -0.302 0.763851    \n",
       "V19           8541.212   9419.998   0.907 0.367627    \n",
       "V20          -1667.207  17300.433  -0.096 0.923500    \n",
       "V21         -31972.494  24622.615  -1.299 0.198317    \n",
       "V22          59526.389  27730.712   2.147 0.035244 *  \n",
       "V23         -49241.388  23117.226  -2.130 0.036632 *  \n",
       "V24          16184.597  16679.609   0.970 0.335180    \n",
       "V25          12077.951  10751.912   1.123 0.265081    \n",
       "V26         -12632.330   6774.573  -1.865 0.066361 .  \n",
       "V27          -6298.837   7032.334  -0.896 0.373442    \n",
       "V28          29625.988   9011.227   3.288 0.001573 ** \n",
       "V29         -39374.835  13561.228  -2.903 0.004914 ** \n",
       "V30          31251.427  18742.000   1.667 0.099829 .  \n",
       "V31         -27238.189  21335.756  -1.277 0.205887    \n",
       "V32          23009.543  19776.156   1.163 0.248522    \n",
       "V33          -4584.373  14572.471  -0.315 0.753995    \n",
       "V34          -5437.943  10344.728  -0.526 0.600754    \n",
       "V35          -6128.931   8762.663  -0.699 0.486564    \n",
       "V36           5599.605   6652.640   0.842 0.402776    \n",
       "V37          -5569.160   6670.198  -0.835 0.406557    \n",
       "V38             97.451   9291.480   0.010 0.991661    \n",
       "V39          36021.407  12574.711   2.865 0.005488 ** \n",
       "V40         -54273.400  17144.384  -3.166 0.002280 ** \n",
       "V41          52084.876  21758.024   2.394 0.019318 *  \n",
       "V42         -48458.089  23950.549  -2.023 0.046813 *  \n",
       "V43          29334.488  20232.617   1.450 0.151500    \n",
       "V44         -18282.834  13508.157  -1.353 0.180200    \n",
       "V45          22110.934   9725.348   2.274 0.026020 *  \n",
       "V46         -11735.692   6631.245  -1.770 0.081061 .  \n",
       "V47           -514.521   3800.612  -0.135 0.892696    \n",
       "V48           2551.480   6131.893   0.416 0.678592    \n",
       "V49           3707.639   8970.401   0.413 0.680618    \n",
       "V50         -25762.703  10934.783  -2.356 0.021236 *  \n",
       "V51          46844.468  15367.852   3.048 0.003233 ** \n",
       "V52         -47783.626  18069.344  -2.644 0.010065 *  \n",
       "V53          26233.604  18822.491   1.394 0.167744    \n",
       "V54             87.825  17403.836   0.005 0.995988    \n",
       "V55          -8475.119  13232.005  -0.641 0.523908    \n",
       "V56           3488.507   7228.428   0.483 0.630858    \n",
       "V57          -1520.733   4988.093  -0.305 0.761355    \n",
       "V58           2275.175   5495.630   0.414 0.680124    \n",
       "V59          -5415.427   5721.475  -0.947 0.347099    \n",
       "V60           7152.015   4754.317   1.504 0.136935    \n",
       "V61          -4494.234   4512.937  -0.996 0.322702    \n",
       "V62           3662.045   4811.634   0.761 0.449129    \n",
       "V63          13993.987   7098.106   1.972 0.052563 .  \n",
       "V64         -23252.133   8973.839  -2.591 0.011604 *  \n",
       "V65           4373.731  10048.591   0.435 0.664695    \n",
       "V66           4580.913  10146.146   0.451 0.653011    \n",
       "V67           -837.676  10747.974  -0.078 0.938097    \n",
       "V68          -7074.425  10852.430  -0.652 0.516587    \n",
       "V69           9506.571   9739.256   0.976 0.332325    \n",
       "V70          -2765.100   9519.031  -0.290 0.772295    \n",
       "V71          -1125.135   8586.061  -0.131 0.896113    \n",
       "V72          -7295.096   7489.488  -0.974 0.333341    \n",
       "V73          17059.811   6522.093   2.616 0.010870 *  \n",
       "V74          -9889.553   6543.945  -1.511 0.135162    \n",
       "V75           -325.615   6125.973  -0.053 0.957759    \n",
       "V76            782.219   5421.002   0.144 0.885677    \n",
       "V77           8058.935   5793.416   1.391 0.168554    \n",
       "V78         -15869.978   6448.208  -2.461 0.016282 *  \n",
       "V79          21768.619   6435.678   3.382 0.001172 ** \n",
       "V80         -28338.145   8180.874  -3.464 0.000906 ***\n",
       "V81           8523.317  10053.153   0.848 0.399384    \n",
       "V82          22319.451  12098.046   1.845 0.069226 .  \n",
       "V83         -17244.722  13991.685  -1.232 0.221829    \n",
       "V84         -18325.836  14959.964  -1.225 0.224627    \n",
       "V85          33345.457  13868.197   2.404 0.018808 *  \n",
       "V86          -7955.157  14571.278  -0.546 0.586813    \n",
       "V87          -7837.966  16141.553  -0.486 0.628762    \n",
       "V88          -1815.552  17261.928  -0.105 0.916532    \n",
       "V89            631.595  15684.751   0.040 0.967992    \n",
       "V90          -2701.955  16187.612  -0.167 0.867911    \n",
       "V91           4375.678  19400.005   0.226 0.822199    \n",
       "V92          12925.188  16456.244   0.785 0.434816    \n",
       "V93          -7441.235  12417.883  -0.599 0.550923    \n",
       "V94          -2464.532  11815.234  -0.209 0.835366    \n",
       "V95          -2090.635   9666.576  -0.216 0.829394    \n",
       "V96          10912.352   9950.716   1.097 0.276505    \n",
       "V97         -20331.405  11022.234  -1.845 0.069270 .  \n",
       "V98           3948.443   8227.133   0.480 0.632753    \n",
       "V99           6358.930   8652.372   0.735 0.464800    \n",
       "V100          -263.365   4104.463  -0.064 0.949019    \n",
       "---\n",
       "Signif. codes:  0 ‘***’ 0.001 ‘**’ 0.01 ‘*’ 0.05 ‘.’ 0.1 ‘ ’ 1\n",
       "\n",
       "Residual standard error: 1.074 on 71 degrees of freedom\n",
       "Multiple R-squared:  0.997,\tAdjusted R-squared:  0.9928 \n",
       "F-statistic: 237.5 on 100 and 71 DF,  p-value: < 2.2e-16\n"
      ]
     },
     "metadata": {},
     "output_type": "display_data"
    }
   ],
   "source": [
    "modelo1 <- lm(fat ~ ., data=train)\n",
    "summary(modelo1)"
   ]
  },
  {
   "cell_type": "markdown",
   "metadata": {},
   "source": [
    "Veamos que tal ajusta esto. Si usamos el MSE como criterio de error"
   ]
  },
  {
   "cell_type": "code",
   "execution_count": 64,
   "metadata": {
    "vscode": {
     "languageId": "r"
    }
   },
   "outputs": [
    {
     "data": {
      "text/html": [
       "0.47653716871691"
      ],
      "text/latex": [
       "0.47653716871691"
      ],
      "text/markdown": [
       "0.47653716871691"
      ],
      "text/plain": [
       "[1] 0.4765372"
      ]
     },
     "metadata": {},
     "output_type": "display_data"
    }
   ],
   "source": [
    "mean(modelo1$residuals^2) # MSE train "
   ]
  },
  {
   "cell_type": "markdown",
   "metadata": {},
   "source": [
    "Se tiene un valor muy bajo porque $p$ es del orden de $n$, estamos cerca de un poroblema de *overfitting*. Veamos con el conjunto de *test*"
   ]
  },
  {
   "cell_type": "code",
   "execution_count": 65,
   "metadata": {
    "vscode": {
     "languageId": "r"
    }
   },
   "outputs": [
    {
     "data": {
      "text/html": [
       "14.5465922677195"
      ],
      "text/latex": [
       "14.5465922677195"
      ],
      "text/markdown": [
       "14.5465922677195"
      ],
      "text/plain": [
       "[1] 14.54659"
      ]
     },
     "metadata": {},
     "output_type": "display_data"
    }
   ],
   "source": [
    "pred1 <- predict(modelo1, newdata = test)\n",
    "mean((pred1 - test$fat)**2)"
   ]
  },
  {
   "cell_type": "markdown",
   "metadata": {},
   "source": [
    "Este problema se podría resolver con Ridge o Lasso, pero usaremos PCA. A continuación reducimos el número de características"
   ]
  },
  {
   "cell_type": "code",
   "execution_count": 66,
   "metadata": {
    "vscode": {
     "languageId": "r"
    }
   },
   "outputs": [
    {
     "data": {
      "text/plain": [
       "Importance of components:\n",
       "                          Comp.1     Comp.2      Comp.3      Comp.4\n",
       "Standard deviation     5.0406702 0.50965678 0.280936190 0.167220963\n",
       "Proportion of Variance 0.9856833 0.01007666 0.003061796 0.001084781\n",
       "Cumulative Proportion  0.9856833 0.99575991 0.998821709 0.999906491\n",
       "                             Comp.5       Comp.6       Comp.7       Comp.8\n",
       "Standard deviation     3.805410e-02 2.450229e-02 1.427535e-02 1.076746e-02\n",
       "Proportion of Variance 5.617766e-05 2.329025e-05 7.905589e-06 4.497665e-06\n",
       "Cumulative Proportion  9.999627e-01 9.999860e-01 9.999939e-01 9.999984e-01\n",
       "                             Comp.9      Comp.10      Comp.11      Comp.12\n",
       "Standard deviation     4.519595e-03 3.421886e-03 2.092611e-03 1.753515e-03\n",
       "Proportion of Variance 7.924282e-07 4.542469e-07 1.698782e-07 1.192833e-07\n",
       "Cumulative Proportion  9.999992e-01 9.999996e-01 9.999998e-01 9.999999e-01\n",
       "                            Comp.13      Comp.14      Comp.15      Comp.16\n",
       "Standard deviation     9.950833e-04 7.286111e-04 5.424928e-04 4.413563e-04\n",
       "Proportion of Variance 3.841313e-08 2.059455e-08 1.141691e-08 7.556826e-09\n",
       "Cumulative Proportion  9.999999e-01 1.000000e+00 1.000000e+00 1.000000e+00\n",
       "                            Comp.17      Comp.18      Comp.19      Comp.20\n",
       "Standard deviation     3.921611e-04 3.399240e-04 2.879782e-04 2.039761e-04\n",
       "Proportion of Variance 5.966092e-09 4.482542e-09 3.217214e-09 1.614059e-09\n",
       "Cumulative Proportion  1.000000e+00 1.000000e+00 1.000000e+00 1.000000e+00\n",
       "                            Comp.21      Comp.22      Comp.23      Comp.24\n",
       "Standard deviation     1.952562e-04 1.898515e-04 1.641685e-04 1.418870e-04\n",
       "Proportion of Variance 1.479009e-09 1.398263e-09 1.045540e-09 7.809906e-10\n",
       "Cumulative Proportion  1.000000e+00 1.000000e+00 1.000000e+00 1.000000e+00\n",
       "                            Comp.25      Comp.26      Comp.27      Comp.28\n",
       "Standard deviation     1.121376e-04 1.055883e-04 1.016008e-04 9.586411e-05\n",
       "Proportion of Variance 4.878246e-10 4.325061e-10 4.004565e-10 3.565110e-10\n",
       "Cumulative Proportion  1.000000e+00 1.000000e+00 1.000000e+00 1.000000e+00\n",
       "                            Comp.29      Comp.30      Comp.31      Comp.32\n",
       "Standard deviation     8.870095e-05 8.058008e-05 7.715661e-05 7.350445e-05\n",
       "Proportion of Variance 3.052231e-10 2.518930e-10 2.309442e-10 2.095984e-10\n",
       "Cumulative Proportion  1.000000e+00 1.000000e+00 1.000000e+00 1.000000e+00\n",
       "                            Comp.33      Comp.34      Comp.35      Comp.36\n",
       "Standard deviation     6.840904e-05 6.307705e-05 5.743788e-05 5.376425e-05\n",
       "Proportion of Variance 1.815465e-10 1.543489e-10 1.279846e-10 1.121368e-10\n",
       "Cumulative Proportion  1.000000e+00 1.000000e+00 1.000000e+00 1.000000e+00\n",
       "                            Comp.37      Comp.38     Comp.39      Comp.40\n",
       "Standard deviation     4.787287e-05 4.670873e-05 4.40490e-05 4.258519e-05\n",
       "Proportion of Variance 8.890778e-11 8.463633e-11 7.52719e-11 7.035225e-11\n",
       "Cumulative Proportion  1.000000e+00 1.000000e+00 1.00000e+00 1.000000e+00\n",
       "                            Comp.41      Comp.42      Comp.43      Comp.44\n",
       "Standard deviation     3.756895e-05 3.524154e-05 3.424863e-05 3.281440e-05\n",
       "Proportion of Variance 5.475439e-11 4.818043e-11 4.550375e-11 4.177242e-11\n",
       "Cumulative Proportion  1.000000e+00 1.000000e+00 1.000000e+00 1.000000e+00\n",
       "                            Comp.45      Comp.46      Comp.47      Comp.48\n",
       "Standard deviation     3.107956e-05 2.794782e-05 2.654509e-05 2.627275e-05\n",
       "Proportion of Variance 3.747231e-11 3.030098e-11 2.733564e-11 2.677762e-11\n",
       "Cumulative Proportion  1.000000e+00 1.000000e+00 1.000000e+00 1.000000e+00\n",
       "                            Comp.49      Comp.50      Comp.51      Comp.52\n",
       "Standard deviation     2.335705e-05 2.186572e-05 2.133945e-05 2.075879e-05\n",
       "Proportion of Variance 2.116395e-11 1.854764e-11 1.766556e-11 1.671724e-11\n",
       "Cumulative Proportion  1.000000e+00 1.000000e+00 1.000000e+00 1.000000e+00\n",
       "                            Comp.53      Comp.54      Comp.55      Comp.56\n",
       "Standard deviation     1.944322e-05 1.844216e-05 1.746959e-05 1.740648e-05\n",
       "Proportion of Variance 1.466552e-11 1.319424e-11 1.183931e-11 1.175392e-11\n",
       "Cumulative Proportion  1.000000e+00 1.000000e+00 1.000000e+00 1.000000e+00\n",
       "                            Comp.57      Comp.58      Comp.59      Comp.60\n",
       "Standard deviation     1.628441e-05 1.591678e-05 1.547519e-05 1.480451e-05\n",
       "Proportion of Variance 1.028738e-11 9.828136e-12 9.290364e-12 8.502547e-12\n",
       "Cumulative Proportion  1.000000e+00 1.000000e+00 1.000000e+00 1.000000e+00\n",
       "                            Comp.61      Comp.62      Comp.63      Comp.64\n",
       "Standard deviation     1.410423e-05 1.353610e-05 1.270886e-05 1.252049e-05\n",
       "Proportion of Variance 7.717194e-12 7.108009e-12 6.265762e-12 6.081397e-12\n",
       "Cumulative Proportion  1.000000e+00 1.000000e+00 1.000000e+00 1.000000e+00\n",
       "                            Comp.65      Comp.66      Comp.67      Comp.68\n",
       "Standard deviation     1.227137e-05 1.154866e-05 1.127532e-05 1.088670e-05\n",
       "Proportion of Variance 5.841799e-12 5.173973e-12 4.931951e-12 4.597834e-12\n",
       "Cumulative Proportion  1.000000e+00 1.000000e+00 1.000000e+00 1.000000e+00\n",
       "                            Comp.69      Comp.70      Comp.71      Comp.72\n",
       "Standard deviation     1.003019e-05 9.649522e-06 9.402407e-06 9.117064e-06\n",
       "Proportion of Variance 3.902827e-12 3.612205e-12 3.429564e-12 3.224562e-12\n",
       "Cumulative Proportion  1.000000e+00 1.000000e+00 1.000000e+00 1.000000e+00\n",
       "                            Comp.73      Comp.74      Comp.75      Comp.76\n",
       "Standard deviation     9.012097e-06 8.804764e-06 8.359173e-06 8.087973e-06\n",
       "Proportion of Variance 3.150740e-12 3.007435e-12 2.710737e-12 2.537700e-12\n",
       "Cumulative Proportion  1.000000e+00 1.000000e+00 1.000000e+00 1.000000e+00\n",
       "                            Comp.77      Comp.78      Comp.79      Comp.80\n",
       "Standard deviation     7.877097e-06 7.617314e-06 7.053839e-06 6.986473e-06\n",
       "Proportion of Variance 2.407095e-12 2.250943e-12 1.930243e-12 1.893550e-12\n",
       "Cumulative Proportion  1.000000e+00 1.000000e+00 1.000000e+00 1.000000e+00\n",
       "                            Comp.81      Comp.82      Comp.83      Comp.84\n",
       "Standard deviation     6.492722e-06 6.094917e-06 5.884871e-06 5.704334e-06\n",
       "Proportion of Variance 1.635364e-12 1.441108e-12 1.343491e-12 1.262324e-12\n",
       "Cumulative Proportion  1.000000e+00 1.000000e+00 1.000000e+00 1.000000e+00\n",
       "                            Comp.85      Comp.86      Comp.87      Comp.88\n",
       "Standard deviation     5.562585e-06 5.032514e-06 4.517876e-06 4.386597e-06\n",
       "Proportion of Variance 1.200367e-12 9.824960e-13 7.918253e-13 7.464767e-13\n",
       "Cumulative Proportion  1.000000e+00 1.000000e+00 1.000000e+00 1.000000e+00\n",
       "                            Comp.89      Comp.90      Comp.91      Comp.92\n",
       "Standard deviation     4.024933e-06 3.977913e-06 3.844505e-06 3.653710e-06\n",
       "Proportion of Variance 6.284606e-13 6.138629e-13 5.733790e-13 5.178797e-13\n",
       "Cumulative Proportion  1.000000e+00 1.000000e+00 1.000000e+00 1.000000e+00\n",
       "                            Comp.93      Comp.94      Comp.95      Comp.96\n",
       "Standard deviation     3.349429e-06 2.802099e-06 2.503141e-06 2.305249e-06\n",
       "Proportion of Variance 4.352135e-13 3.045986e-13 2.430700e-13 2.061563e-13\n",
       "Cumulative Proportion  1.000000e+00 1.000000e+00 1.000000e+00 1.000000e+00\n",
       "                            Comp.97      Comp.98      Comp.99     Comp.100\n",
       "Standard deviation     2.173952e-06 1.954040e-06 1.822585e-06 1.541795e-06\n",
       "Proportion of Variance 1.833415e-13 1.481247e-13 1.288654e-13 9.221765e-14\n",
       "Cumulative Proportion  1.000000e+00 1.000000e+00 1.000000e+00 1.000000e+00"
      ]
     },
     "metadata": {},
     "output_type": "display_data"
    },
    {
     "data": {
      "image/png": "[encoded data removed]",
      "text/plain": [
       "Plot with title “Screeplot de los autovalores”"
      ]
     },
     "metadata": {
      "image/png": {
       "height": 420,
       "width": 420
      }
     },
     "output_type": "display_data"
    }
   ],
   "source": [
    "train_vars <- train[, 1:100] # nos quedamos con todas las carcateristicas (100), y quitamos fat \n",
    "pca_train <- princomp(train_vars) # la variabilidad es la misma asi que no usamos cor=TRUE\n",
    "summary(pca_train)\n",
    "screeplot(pca_train, type=\"lines\", main=\"Screeplot de los autovalores\")"
   ]
  },
  {
   "cell_type": "markdown",
   "metadata": {},
   "source": [
    "Vemos que se puede prescindir de un gran número de dimensiones. Usamos entonces un numero pequeño de componentes principales, por ejemplo 4:"
   ]
  },
  {
   "cell_type": "code",
   "execution_count": 67,
   "metadata": {
    "vscode": {
     "languageId": "r"
    }
   },
   "outputs": [
    {
     "data": {
      "text/html": [
       "<table class=\"dataframe\">\n",
       "<caption>A matrix: 6 x 4 of type dbl</caption>\n",
       "<thead>\n",
       "\t<tr><th></th><th scope=col>Comp.1</th><th scope=col>Comp.2</th><th scope=col>Comp.3</th><th scope=col>Comp.4</th></tr>\n",
       "</thead>\n",
       "<tbody>\n",
       "\t<tr><th scope=row>1</th><td>-2.2445444</td><td>-0.2216308</td><td>-0.10548430</td><td> 0.042954038</td></tr>\n",
       "\t<tr><th scope=row>2</th><td> 0.4415824</td><td> 0.3120856</td><td>-0.63344048</td><td>-0.025670967</td></tr>\n",
       "\t<tr><th scope=row>3</th><td>-3.8305205</td><td> 0.6705955</td><td> 0.12088701</td><td>-0.104286449</td></tr>\n",
       "\t<tr><th scope=row>4</th><td>-1.0845207</td><td> 0.5214110</td><td> 0.30353775</td><td> 0.028880391</td></tr>\n",
       "\t<tr><th scope=row>5</th><td> 0.5382648</td><td>-0.5896383</td><td>-0.07649802</td><td> 0.009048980</td></tr>\n",
       "\t<tr><th scope=row>6</th><td> 2.8074461</td><td> 0.1999868</td><td>-0.66350471</td><td> 0.008467464</td></tr>\n",
       "</tbody>\n",
       "</table>\n"
      ],
      "text/latex": [
       "A matrix: 6 x 4 of type dbl\n",
       "\\begin{tabular}{r|llll}\n",
       "  & Comp.1 & Comp.2 & Comp.3 & Comp.4\\\\\n",
       "\\hline\n",
       "\t1 & -2.2445444 & -0.2216308 & -0.10548430 &  0.042954038\\\\\n",
       "\t2 &  0.4415824 &  0.3120856 & -0.63344048 & -0.025670967\\\\\n",
       "\t3 & -3.8305205 &  0.6705955 &  0.12088701 & -0.104286449\\\\\n",
       "\t4 & -1.0845207 &  0.5214110 &  0.30353775 &  0.028880391\\\\\n",
       "\t5 &  0.5382648 & -0.5896383 & -0.07649802 &  0.009048980\\\\\n",
       "\t6 &  2.8074461 &  0.1999868 & -0.66350471 &  0.008467464\\\\\n",
       "\\end{tabular}\n"
      ],
      "text/markdown": [
       "\n",
       "A matrix: 6 x 4 of type dbl\n",
       "\n",
       "| <!--/--> | Comp.1 | Comp.2 | Comp.3 | Comp.4 |\n",
       "|---|---|---|---|---|\n",
       "| 1 | -2.2445444 | -0.2216308 | -0.10548430 |  0.042954038 |\n",
       "| 2 |  0.4415824 |  0.3120856 | -0.63344048 | -0.025670967 |\n",
       "| 3 | -3.8305205 |  0.6705955 |  0.12088701 | -0.104286449 |\n",
       "| 4 | -1.0845207 |  0.5214110 |  0.30353775 |  0.028880391 |\n",
       "| 5 |  0.5382648 | -0.5896383 | -0.07649802 |  0.009048980 |\n",
       "| 6 |  2.8074461 |  0.1999868 | -0.66350471 |  0.008467464 |\n",
       "\n"
      ],
      "text/plain": [
       "  Comp.1     Comp.2     Comp.3      Comp.4      \n",
       "1 -2.2445444 -0.2216308 -0.10548430  0.042954038\n",
       "2  0.4415824  0.3120856 -0.63344048 -0.025670967\n",
       "3 -3.8305205  0.6705955  0.12088701 -0.104286449\n",
       "4 -1.0845207  0.5214110  0.30353775  0.028880391\n",
       "5  0.5382648 -0.5896383 -0.07649802  0.009048980\n",
       "6  2.8074461  0.1999868 -0.66350471  0.008467464"
      ]
     },
     "metadata": {},
     "output_type": "display_data"
    }
   ],
   "source": [
    "num_componentes <- 4\n",
    "head(pca_train$scores[, 1:num_componentes]) # para cada individuo, cual es el valor de c/u de las componentes principales\n",
    "\n",
    "# valores del input una vez proyectados sobre las 4 componentes principales"
   ]
  },
  {
   "cell_type": "markdown",
   "metadata": {},
   "source": [
    "Ahora, usamos esto como *input* del entrenamiento proyectado. Construimos de nuevo el conjunto de entrenamiento:"
   ]
  },
  {
   "cell_type": "code",
   "execution_count": 68,
   "metadata": {
    "vscode": {
     "languageId": "r"
    }
   },
   "outputs": [],
   "source": [
    "train_vars_pred <- pca_train$scores[, 1:num_componentes]\n",
    "#input del train proyectado y el output\n",
    "# mezclamos en un dataframe el input proyectado y el output\n",
    "train_pred <- as.data.frame(cbind(train_vars_pred, train$fat))"
   ]
  },
  {
   "cell_type": "markdown",
   "metadata": {},
   "source": [
    "El entrenamiento proyectado es el valor de $Z_1, Z_2, Z_3, Z_4$ y el *output*. Ahora que hemos reducido la dimensión, probamos a hacer una regresión lineal proyectada "
   ]
  },
  {
   "cell_type": "code",
   "execution_count": 69,
   "metadata": {
    "vscode": {
     "languageId": "r"
    }
   },
   "outputs": [
    {
     "data": {
      "text/plain": [
       "\n",
       "Call:\n",
       "lm(formula = fat ~ ., data = train_pred)\n",
       "\n",
       "Residuals:\n",
       "     Min       1Q   Median       3Q      Max \n",
       "-11.4646  -2.7601   0.5251   2.8479   9.7824 \n",
       "\n",
       "Coefficients:\n",
       "            Estimate Std. Error t value Pr(>|t|)    \n",
       "(Intercept)  18.0930     0.3145  57.522  < 2e-16 ***\n",
       "Comp.1        1.1987     0.0624  19.210  < 2e-16 ***\n",
       "Comp.2       -3.3870     0.6172  -5.488 1.49e-07 ***\n",
       "Comp.3      -27.0937     1.1196 -24.199  < 2e-16 ***\n",
       "Comp.4      -40.5339     1.8810 -21.549  < 2e-16 ***\n",
       "---\n",
       "Signif. codes:  0 ‘***’ 0.001 ‘**’ 0.01 ‘*’ 0.05 ‘.’ 0.1 ‘ ’ 1\n",
       "\n",
       "Residual standard error: 4.125 on 167 degrees of freedom\n",
       "Multiple R-squared:  0.8967,\tAdjusted R-squared:  0.8942 \n",
       "F-statistic: 362.3 on 4 and 167 DF,  p-value: < 2.2e-16\n"
      ]
     },
     "metadata": {},
     "output_type": "display_data"
    }
   ],
   "source": [
    "names(train_pred)[num_componentes + 1] <- \"fat\"  # cambiamos el nombre de V5 a fat\n",
    "modelo2 <- lm(fat ~ ., data = train_pred) \n",
    "summary(modelo2)"
   ]
  },
  {
   "cell_type": "code",
   "execution_count": 70,
   "metadata": {
    "vscode": {
     "languageId": "r"
    }
   },
   "outputs": [
    {
     "data": {
      "text/html": [
       "16.522153658128"
      ],
      "text/latex": [
       "16.522153658128"
      ],
      "text/markdown": [
       "16.522153658128"
      ],
      "text/plain": [
       "[1] 16.52215"
      ]
     },
     "metadata": {},
     "output_type": "display_data"
    }
   ],
   "source": [
    "mean(modelo2$residuals^2) # MSE train"
   ]
  },
  {
   "cell_type": "markdown",
   "metadata": {},
   "source": [
    "Primero proyectamos el el entrenamiento para entrenar el modelo. Luego con esos pesos proyetamos a *test*. Hay que varlo más como un conjunto de proyección."
   ]
  },
  {
   "cell_type": "code",
   "execution_count": 71,
   "metadata": {
    "vscode": {
     "languageId": "r"
    }
   },
   "outputs": [
    {
     "data": {
      "text/html": [
       "20.5569891625434"
      ],
      "text/latex": [
       "20.5569891625434"
      ],
      "text/markdown": [
       "20.5569891625434"
      ],
      "text/plain": [
       "[1] 20.55699"
      ]
     },
     "metadata": {},
     "output_type": "display_data"
    }
   ],
   "source": [
    "# MSE test\n",
    "test_vars_pred <- predict(pca_train, newdata = test[, 1:100]) # proyectamos el test\n",
    "test_vars_pred <- as.data.frame(test_vars_pred[, 1:num_componentes]) # cuanto vale la proyeccion de cada individuo en cada componente principal\n",
    "\n",
    "# prediccion del input test proyectado\n",
    "yhat <- predict(modelo2, newdata = test_vars_pred)\n",
    "\n",
    "# MSE test\n",
    "mean((yhat - test$fat)**2)"
   ]
  },
  {
   "cell_type": "markdown",
   "metadata": {},
   "source": [
    "La reducción de dimensionalidad mediante PCA para luego aplicar regresión lineal es una buena técnica que permite abordar problemas de gran dimensionalidad en su forma original. Sin embargo, se pierde interpretabilidad, ya que estamos ajustando un modelo de la forma \n",
    "\\begin{equation}\n",
    "Y = \\hat{\\beta_0} + \\hat{\\beta}_1 Z_1 + \\cdots + \\hat{\\beta}_l Z_l\n",
    "\\end{equation}\n",
    "\n",
    "donde $Z_i$ son las componentes principales que se tomen."
   ]
  }
 ],
 "metadata": {
  "kernelspec": {
   "display_name": "R",
   "language": "R",
   "name": "ir"
  },
  "language_info": {
   "codemirror_mode": "r",
   "file_extension": ".r",
   "mimetype": "text/x-r-source",
   "name": "R",
   "pygments_lexer": "r",
   "version": "4.4.1"
  }
 },
 "nbformat": 4,
 "nbformat_minor": 2
}
