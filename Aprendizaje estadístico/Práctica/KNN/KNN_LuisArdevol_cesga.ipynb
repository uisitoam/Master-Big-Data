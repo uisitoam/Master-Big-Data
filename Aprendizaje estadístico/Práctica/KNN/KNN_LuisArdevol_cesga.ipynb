{
 "cells": [
  {
   "cell_type": "markdown",
   "metadata": {},
   "source": [
    "# KNN\n",
    "\n",
    "### Autor: Luis Ardévol Mesa"
   ]
  },
  {
   "cell_type": "markdown",
   "metadata": {},
   "source": [
    "## Ejercicio 1"
   ]
  },
  {
   "cell_type": "markdown",
   "metadata": {},
   "source": [
    "La idea de este ejercicio es hacerlo \"a mano\", es decir, sin usar funciones de `scikit-learn`. Tampoco usaremos ningún tipo de librería adicional.\n",
    "\n",
    "Dado el siguiente conjunto de datos de clasificación con 6 observaciones, 3 variables de entrada y una variable de salida:\n",
    "\n",
    "| Observación | X1 | X2 | X3 | Y |\n",
    "|-|-|-|-|-|\n",
    "| 1 | 0 | 3 | 2 | 1 |\n",
    "| 2 | 3 | 0 | 3 | 0 |\n",
    "| 3 | 0 | 3 | -1 | 0 |\n",
    "| 4 | 3 | 0 | 0 | 1 |\n",
    "| 5 | 1 | 2 | 1 | 1 |\n",
    "| 6 | 2 | 1 | 0 | 0 |"
   ]
  },
  {
   "cell_type": "markdown",
   "metadata": {},
   "source": [
    "Suponiendo que se quiere hace la predicción de la variable de salida para $X_i = 0, \\; i = 1, 2, 3$ mediante KNN.\n",
    "1. Computar la distancia entre cada observación y el punto de *test*.  \n",
    "2. ¿Cuál es la predicción para $K = 1$?¿Por qué?  \n",
    "3. ¿Cuál es la predicción para $K = 3$?¿Por qué?  \n",
    "\n",
    "**Nota:** este ejercicio debe hacerse sin utilizar ninguna función de `scikit-learn`. No es necesario estandarizar las variables."
   ]
  },
  {
   "cell_type": "markdown",
   "metadata": {},
   "source": [
    "Primero, calculamos la distancia de cada punto al punto de *test* y guardamos los resultados en un diccionario (como clave-valor = distancia observación $i$ - variable de salida de la observación $i$)para posteriormente aplicar manualmente KNN."
   ]
  },
  {
   "cell_type": "code",
   "execution_count": 1,
   "metadata": {},
   "outputs": [
    {
     "name": "stdout",
     "output_type": "stream",
     "text": [
      "Distancia a la observación 1: sqrt(13) = 3.605551275463989, Y = 1\n",
      "Distancia a la observación 2: sqrt(18) = 4.242640687119285, Y = 0\n",
      "Distancia a la observación 3: sqrt(10) = 3.1622776601683795, Y = 0\n",
      "Distancia a la observación 4: sqrt(9) = 3.0, Y = 1\n",
      "Distancia a la observación 5: sqrt(6) = 2.449489742783178, Y = 1\n",
      "Distancia a la observación 6: sqrt(5) = 2.23606797749979, Y = 0\n"
     ]
    }
   ],
   "source": [
    "datos = [{'X1': 0, 'X2': 3, 'X3':  2, 'Y': 1}, \n",
    "         {'X1': 3, 'X2': 0, 'X3':  3, 'Y': 0}, \n",
    "         {'X1': 0, 'X2': 3, 'X3': -1, 'Y': 0}, \n",
    "         {'X1': 3, 'X2': 0, 'X3':  0, 'Y': 1}, \n",
    "         {'X1': 1, 'X2': 2, 'X3':  1, 'Y': 1}, \n",
    "         {'X1': 2, 'X2': 1, 'X3':  0, 'Y': 0}]\n",
    "\n",
    "# Punto de prueba\n",
    "punto_test = {'X1': 0, 'X2': 0, 'X3': 0}\n",
    "\n",
    "distancias_preds = {}\n",
    "\n",
    "# Calcular distancias\n",
    "for i, dato in enumerate(datos, 1):\n",
    "    dx = dato['X1'] - punto_test['X1']\n",
    "    dy = dato['X2'] - punto_test['X2']\n",
    "    dz = dato['X3'] - punto_test['X3']\n",
    "    ds2 = dx**2 + dy**2 + dz**2\n",
    "    ds = f\"sqrt({ds2})\"\n",
    "    ds_aprox = (ds2)**0.5\n",
    "    print(f\"Distancia a la observación {i}: {ds} = {ds_aprox}, Y = {dato['Y']}\")\n",
    "\n",
    "    distancias_preds[ds_aprox] = dato['Y']"
   ]
  },
  {
   "cell_type": "markdown",
   "metadata": {},
   "source": [
    "Definimos una función para hacer predicciones mediante KNN. Simplemente ordena las claves (distancias) del diccionario con los resultados y se queda con los k primeros (vecinos más cercanos. Obtenemos los valores (variable de salida) de esos vecinos y los devolvemos en una lista, junto con la predicción para ese número de vecinos (la moda de los valores de salida de los vecinos)."
   ]
  },
  {
   "cell_type": "code",
   "execution_count": 2,
   "metadata": {},
   "outputs": [],
   "source": [
    "def knn(k, resultados = distancias_preds):\n",
    "    distancias_ord = sorted(list(distancias_preds.keys()))\n",
    "    vecinos = distancias_ord[:k]\n",
    "    vecinosIndex = [list(distancias_preds.keys()).index(dist)+1 for dist in vecinos]\n",
    "    valores_Y = [resultados[dist] for dist in vecinos]\n",
    "    if k == 1:\n",
    "        print(f\"El vecino más cercano {vecinosIndex} tiene Y = {valores_Y[0]}\", end='. ')\n",
    "        print(f\"La predicción para k={k} será {valores_Y[0]}\")\n",
    "    \n",
    "    else:\n",
    "        print(f\"Los {k} vecinos más cercanos {vecinosIndex} tienen Y = {valores_Y}\", end='. ')\n",
    "        print(f\"La predicción para k={k} será {max(valores_Y, key = valores_Y.count)}\")"
   ]
  },
  {
   "cell_type": "markdown",
   "metadata": {},
   "source": [
    "Probamos para $k = 1$ y $k = 3$"
   ]
  },
  {
   "cell_type": "code",
   "execution_count": 3,
   "metadata": {},
   "outputs": [
    {
     "name": "stdout",
     "output_type": "stream",
     "text": [
      "El vecino más cercano [6] tiene Y = 0. La predicción para k=1 será 0\n",
      "Los 3 vecinos más cercanos [6, 5, 4] tienen Y = [0, 1, 1]. La predicción para k=3 será 1\n"
     ]
    }
   ],
   "source": [
    "knn(1)\n",
    "knn(3)"
   ]
  },
  {
   "cell_type": "markdown",
   "metadata": {},
   "source": [
    "## Ejercicio 2"
   ]
  },
  {
   "cell_type": "markdown",
   "metadata": {},
   "source": [
    "Antes de comenzar, verificamos que el entorno de ejecución esté configurado con las librerías necesarias."
   ]
  },
  {
   "cell_type": "code",
   "execution_count": 4,
   "metadata": {},
   "outputs": [
    {
     "name": "stdout",
     "output_type": "stream",
     "text": [
      "Todos los paquetes necesarios ya están instalados.\n"
     ]
    }
   ],
   "source": [
    "import subprocess\n",
    "import sys\n",
    "import pkg_resources\n",
    "\n",
    "def check_and_install_packages():\n",
    "    required_packages = {\n",
    "        'pandas': 'pandas',\n",
    "        'numpy': 'numpy',\n",
    "        'scikit-learn': 'scikit-learn',\n",
    "        'matplotlib': 'matplotlib'\n",
    "    }\n",
    "    \n",
    "    missing_packages = []\n",
    "    \n",
    "    # Verificar paquetes instalados\n",
    "    installed_packages = {pkg.key for pkg in pkg_resources.working_set}\n",
    "    \n",
    "    for package, pip_name in required_packages.items():\n",
    "        if package not in installed_packages:\n",
    "            missing_packages.append(pip_name)\n",
    "    \n",
    "    # Instalar paquetes faltantes\n",
    "    if missing_packages:\n",
    "        print(\"Instalando paquetes necesarios...\")\n",
    "        for package in missing_packages:\n",
    "            subprocess.check_call([sys.executable, '-m', 'pip', 'install', package])\n",
    "        print(\"Instalación completada.\")\n",
    "    else:\n",
    "        print(\"Todos los paquetes necesarios ya están instalados.\")\n",
    "\n",
    "check_and_install_packages()"
   ]
  },
  {
   "cell_type": "markdown",
   "metadata": {},
   "source": [
    "Ahora importamos las librerías a utilizar"
   ]
  },
  {
   "cell_type": "code",
   "execution_count": 5,
   "metadata": {},
   "outputs": [],
   "source": [
    "import numpy as np\n",
    "import pandas as pd\n",
    "from sklearn.model_selection import train_test_split\n",
    "from sklearn.impute import SimpleImputer\n",
    "from sklearn.preprocessing import StandardScaler\n",
    "from sklearn.model_selection import PredefinedSplit\n",
    "from sklearn.model_selection import GridSearchCV\n",
    "from sklearn.neighbors import KNeighborsClassifier, KNeighborsRegressor\n",
    "from sklearn.metrics import accuracy_score\n",
    "import pickle\n",
    "import matplotlib.pyplot as plt\n",
    "import matplotlib\n",
    "\n",
    "%matplotlib inline\n",
    "#matplotlib.style.use('seaborn-v0_8-ticks')"
   ]
  },
  {
   "cell_type": "markdown",
   "metadata": {},
   "source": [
    "**Definición de variables globales**"
   ]
  },
  {
   "cell_type": "code",
   "execution_count": 6,
   "metadata": {},
   "outputs": [],
   "source": [
    "DATASET_NAME = 'bloodTransfusion.data'\n",
    "DATASET_DELIMITER = ','\n",
    "SEED_VALUE = 1  # NO CAMBIES ESTA SEMILLA, así todos tendremos los mismos resultados"
   ]
  },
  {
   "cell_type": "markdown",
   "metadata": {},
   "source": [
    "**Lectura del fichero de datos**"
   ]
  },
  {
   "cell_type": "code",
   "execution_count": 7,
   "metadata": {
    "scrolled": true
   },
   "outputs": [
    {
     "data": {
      "text/html": [
       "<div>\n",
       "<style scoped>\n",
       "    .dataframe tbody tr th:only-of-type {\n",
       "        vertical-align: middle;\n",
       "    }\n",
       "\n",
       "    .dataframe tbody tr th {\n",
       "        vertical-align: top;\n",
       "    }\n",
       "\n",
       "    .dataframe thead th {\n",
       "        text-align: right;\n",
       "    }\n",
       "</style>\n",
       "<table border=\"1\" class=\"dataframe\">\n",
       "  <thead>\n",
       "    <tr style=\"text-align: right;\">\n",
       "      <th></th>\n",
       "      <th>X0</th>\n",
       "      <th>X1</th>\n",
       "      <th>X2</th>\n",
       "      <th>X3</th>\n",
       "      <th>Y</th>\n",
       "    </tr>\n",
       "  </thead>\n",
       "  <tbody>\n",
       "    <tr>\n",
       "      <th>0</th>\n",
       "      <td>2</td>\n",
       "      <td>50</td>\n",
       "      <td>12500</td>\n",
       "      <td>98</td>\n",
       "      <td>1</td>\n",
       "    </tr>\n",
       "    <tr>\n",
       "      <th>1</th>\n",
       "      <td>0</td>\n",
       "      <td>13</td>\n",
       "      <td>3250</td>\n",
       "      <td>28</td>\n",
       "      <td>1</td>\n",
       "    </tr>\n",
       "    <tr>\n",
       "      <th>2</th>\n",
       "      <td>1</td>\n",
       "      <td>16</td>\n",
       "      <td>4000</td>\n",
       "      <td>35</td>\n",
       "      <td>1</td>\n",
       "    </tr>\n",
       "    <tr>\n",
       "      <th>3</th>\n",
       "      <td>2</td>\n",
       "      <td>20</td>\n",
       "      <td>5000</td>\n",
       "      <td>45</td>\n",
       "      <td>1</td>\n",
       "    </tr>\n",
       "    <tr>\n",
       "      <th>4</th>\n",
       "      <td>1</td>\n",
       "      <td>24</td>\n",
       "      <td>6000</td>\n",
       "      <td>77</td>\n",
       "      <td>0</td>\n",
       "    </tr>\n",
       "    <tr>\n",
       "      <th>...</th>\n",
       "      <td>...</td>\n",
       "      <td>...</td>\n",
       "      <td>...</td>\n",
       "      <td>...</td>\n",
       "      <td>...</td>\n",
       "    </tr>\n",
       "    <tr>\n",
       "      <th>743</th>\n",
       "      <td>23</td>\n",
       "      <td>2</td>\n",
       "      <td>500</td>\n",
       "      <td>38</td>\n",
       "      <td>0</td>\n",
       "    </tr>\n",
       "    <tr>\n",
       "      <th>744</th>\n",
       "      <td>21</td>\n",
       "      <td>2</td>\n",
       "      <td>500</td>\n",
       "      <td>52</td>\n",
       "      <td>0</td>\n",
       "    </tr>\n",
       "    <tr>\n",
       "      <th>745</th>\n",
       "      <td>23</td>\n",
       "      <td>3</td>\n",
       "      <td>750</td>\n",
       "      <td>62</td>\n",
       "      <td>0</td>\n",
       "    </tr>\n",
       "    <tr>\n",
       "      <th>746</th>\n",
       "      <td>39</td>\n",
       "      <td>1</td>\n",
       "      <td>250</td>\n",
       "      <td>39</td>\n",
       "      <td>0</td>\n",
       "    </tr>\n",
       "    <tr>\n",
       "      <th>747</th>\n",
       "      <td>72</td>\n",
       "      <td>1</td>\n",
       "      <td>250</td>\n",
       "      <td>72</td>\n",
       "      <td>0</td>\n",
       "    </tr>\n",
       "  </tbody>\n",
       "</table>\n",
       "<p>748 rows × 5 columns</p>\n",
       "</div>"
      ],
      "text/plain": [
       "     X0  X1     X2  X3  Y\n",
       "0     2  50  12500  98  1\n",
       "1     0  13   3250  28  1\n",
       "2     1  16   4000  35  1\n",
       "3     2  20   5000  45  1\n",
       "4     1  24   6000  77  0\n",
       "..   ..  ..    ...  .. ..\n",
       "743  23   2    500  38  0\n",
       "744  21   2    500  52  0\n",
       "745  23   3    750  62  0\n",
       "746  39   1    250  39  0\n",
       "747  72   1    250  72  0\n",
       "\n",
       "[748 rows x 5 columns]"
      ]
     },
     "execution_count": 7,
     "metadata": {},
     "output_type": "execute_result"
    }
   ],
   "source": [
    "dataset = pd.read_csv(DATASET_NAME, \n",
    "                      delimiter=DATASET_DELIMITER,\n",
    "                      skiprows=1, # la primera fila no contiene datos\n",
    "                      header=None,\n",
    "                      names = [\"X0\", \"X1\", \"X2\", \"X3\", \"Y\"])\n",
    "dataset"
   ]
  },
  {
   "cell_type": "markdown",
   "metadata": {},
   "source": [
    "**Exploración de los datos**\n",
    "\n",
    "A continuación, vemos si hay valores perdidos en nuestro conjunto de datos (en caso afirmativo, haremos el tratamiento más adelante). Visualizamos también estadísticas descriptivas de las variables predictoras. En este caso, Y no interesa tanto ya que es una variable binaria. Veremos su distribución de clases más adelante. "
   ]
  },
  {
   "cell_type": "code",
   "execution_count": 8,
   "metadata": {},
   "outputs": [
    {
     "name": "stdout",
     "output_type": "stream",
     "text": [
      "Valores faltantes: \n",
      "X0    0\n",
      "X1    0\n",
      "X2    0\n",
      "X3    0\n",
      "Y     0\n",
      "dtype: int64\n",
      "\n",
      "Estadísticas de los predictores:\n"
     ]
    },
    {
     "data": {
      "text/html": [
       "<div>\n",
       "<style scoped>\n",
       "    .dataframe tbody tr th:only-of-type {\n",
       "        vertical-align: middle;\n",
       "    }\n",
       "\n",
       "    .dataframe tbody tr th {\n",
       "        vertical-align: top;\n",
       "    }\n",
       "\n",
       "    .dataframe thead th {\n",
       "        text-align: right;\n",
       "    }\n",
       "</style>\n",
       "<table border=\"1\" class=\"dataframe\">\n",
       "  <thead>\n",
       "    <tr style=\"text-align: right;\">\n",
       "      <th></th>\n",
       "      <th>X0</th>\n",
       "      <th>X1</th>\n",
       "      <th>X2</th>\n",
       "      <th>X3</th>\n",
       "    </tr>\n",
       "  </thead>\n",
       "  <tbody>\n",
       "    <tr>\n",
       "      <th>count</th>\n",
       "      <td>748.000000</td>\n",
       "      <td>748.000000</td>\n",
       "      <td>748.000000</td>\n",
       "      <td>748.000000</td>\n",
       "    </tr>\n",
       "    <tr>\n",
       "      <th>mean</th>\n",
       "      <td>9.506684</td>\n",
       "      <td>5.514706</td>\n",
       "      <td>1378.676471</td>\n",
       "      <td>34.282086</td>\n",
       "    </tr>\n",
       "    <tr>\n",
       "      <th>std</th>\n",
       "      <td>8.095396</td>\n",
       "      <td>5.839307</td>\n",
       "      <td>1459.826781</td>\n",
       "      <td>24.376714</td>\n",
       "    </tr>\n",
       "    <tr>\n",
       "      <th>min</th>\n",
       "      <td>0.000000</td>\n",
       "      <td>1.000000</td>\n",
       "      <td>250.000000</td>\n",
       "      <td>2.000000</td>\n",
       "    </tr>\n",
       "    <tr>\n",
       "      <th>25%</th>\n",
       "      <td>2.750000</td>\n",
       "      <td>2.000000</td>\n",
       "      <td>500.000000</td>\n",
       "      <td>16.000000</td>\n",
       "    </tr>\n",
       "    <tr>\n",
       "      <th>50%</th>\n",
       "      <td>7.000000</td>\n",
       "      <td>4.000000</td>\n",
       "      <td>1000.000000</td>\n",
       "      <td>28.000000</td>\n",
       "    </tr>\n",
       "    <tr>\n",
       "      <th>75%</th>\n",
       "      <td>14.000000</td>\n",
       "      <td>7.000000</td>\n",
       "      <td>1750.000000</td>\n",
       "      <td>50.000000</td>\n",
       "    </tr>\n",
       "    <tr>\n",
       "      <th>max</th>\n",
       "      <td>74.000000</td>\n",
       "      <td>50.000000</td>\n",
       "      <td>12500.000000</td>\n",
       "      <td>98.000000</td>\n",
       "    </tr>\n",
       "  </tbody>\n",
       "</table>\n",
       "</div>"
      ],
      "text/plain": [
       "               X0          X1            X2          X3\n",
       "count  748.000000  748.000000    748.000000  748.000000\n",
       "mean     9.506684    5.514706   1378.676471   34.282086\n",
       "std      8.095396    5.839307   1459.826781   24.376714\n",
       "min      0.000000    1.000000    250.000000    2.000000\n",
       "25%      2.750000    2.000000    500.000000   16.000000\n",
       "50%      7.000000    4.000000   1000.000000   28.000000\n",
       "75%     14.000000    7.000000   1750.000000   50.000000\n",
       "max     74.000000   50.000000  12500.000000   98.000000"
      ]
     },
     "execution_count": 8,
     "metadata": {},
     "output_type": "execute_result"
    }
   ],
   "source": [
    "print(f\"Valores faltantes: \\n{dataset.isnull().sum()}\\n\")\n",
    "print(\"Estadísticas de los predictores:\")\n",
    "dataset.loc[:, \"X0\":\"X3\"].describe()"
   ]
  },
  {
   "cell_type": "markdown",
   "metadata": {},
   "source": [
    "El fichero contiene 5 variables y 748 observaciones distintas. Las variables predictoras son `X0`, `X1`, `X2`, `X3`, y la variable dependiente sería `Y`. Estamos ante un problema de clasificación binario (dada la naturaleza booleana de `Y`, existen 2 clases)."
   ]
  },
  {
   "cell_type": "markdown",
   "metadata": {},
   "source": [
    "**Visualización de los datos**"
   ]
  },
  {
   "cell_type": "code",
   "execution_count": 9,
   "metadata": {},
   "outputs": [
    {
     "name": "stdout",
     "output_type": "stream",
     "text": [
      "Distribución de clases en la variable de salida: \n",
      "0    570\n",
      "1    178\n",
      "Name: Y, dtype: int64\n"
     ]
    },
    {
     "name": "stderr",
     "output_type": "stream",
     "text": [
      "/mnt/netapp1/Optcesga_FT2_RHEL7/2020/gentoo/22072020/usr/lib/python3.7/site-packages/numpy/core/_asarray.py:83: VisibleDeprecationWarning: Creating an ndarray from ragged nested sequences (which is a list-or-tuple of lists-or-tuples-or ndarrays with different lengths or shapes) is deprecated. If you meant to do this, you must specify 'dtype=object' when creating the ndarray\n",
      "  return array(a, dtype, copy=False, order=order)\n"
     ]
    },
    {
     "data": {
      "image/png": "[encoded data removed]",
      "text/plain": [
       "<Figure size 432x288 with 1 Axes>"
      ]
     },
     "metadata": {
      "needs_background": "light"
     },
     "output_type": "display_data"
    },
    {
     "data": {
      "image/png": "[encoded data removed]",
      "text/plain": [
       "<Figure size 432x288 with 1 Axes>"
      ]
     },
     "metadata": {
      "needs_background": "light"
     },
     "output_type": "display_data"
    },
    {
     "data": {
      "image/png": "[encoded data removed]",
      "text/plain": [
       "<Figure size 432x288 with 1 Axes>"
      ]
     },
     "metadata": {
      "needs_background": "light"
     },
     "output_type": "display_data"
    },
    {
     "data": {
      "image/png": "[encoded data removed]",
      "text/plain": [
       "<Figure size 432x288 with 1 Axes>"
      ]
     },
     "metadata": {
      "needs_background": "light"
     },
     "output_type": "display_data"
    },
    {
     "data": {
      "image/png": "[encoded data removed]",
      "text/plain": [
       "<Figure size 432x288 with 1 Axes>"
      ]
     },
     "metadata": {
      "needs_background": "light"
     },
     "output_type": "display_data"
    }
   ],
   "source": [
    "def distClases(data, etiquetas = ['1', '0'], colores=['springgreen', 'crimson']):\n",
    "    print(f\"Distribución de clases en la variable de salida: \\n{data['Y'].value_counts()}\")\n",
    "    \n",
    "    for column in data:  # Visualizamos la distribución de variables por clases\n",
    "        plt.title(column)\n",
    "        clases = [data[data['Y'] == eval(i)][column] for i in etiquetas]\n",
    "        plt.hist(clases, label=etiquetas, color=colores)\n",
    "        plt.legend(loc='upper right')\n",
    "        plt.show()\n",
    "\n",
    "\n",
    "distClases(dataset)"
   ]
  },
  {
   "cell_type": "markdown",
   "metadata": {},
   "source": [
    "También podemos visualizar los datos y sus clases por pares de atributos:"
   ]
  },
  {
   "cell_type": "code",
   "execution_count": 10,
   "metadata": {},
   "outputs": [
    {
     "name": "stdout",
     "output_type": "stream",
     "text": [
      "Correlación numérica entre las variables: \n",
      "          X0        X1        X2        X3         Y\n",
      "X0  1.000000 -0.182745 -0.182745  0.160618 -0.279869\n",
      "X1 -0.182745  1.000000  1.000000  0.634940  0.218633\n",
      "X2 -0.182745  1.000000  1.000000  0.634940  0.218633\n",
      "X3  0.160618  0.634940  0.634940  1.000000 -0.035854\n",
      "Y  -0.279869  0.218633  0.218633 -0.035854  1.000000\n"
     ]
    },
    {
     "data": {
      "image/png": "[encoded data removed]",
      "text/plain": [
       "<Figure size 432x288 with 1 Axes>"
      ]
     },
     "metadata": {
      "needs_background": "light"
     },
     "output_type": "display_data"
    },
    {
     "data": {
      "image/png": "[encoded data removed]",
      "text/plain": [
       "<Figure size 432x288 with 1 Axes>"
      ]
     },
     "metadata": {
      "needs_background": "light"
     },
     "output_type": "display_data"
    },
    {
     "data": {
      "image/png": "[encoded data removed]",
      "text/plain": [
       "<Figure size 432x288 with 1 Axes>"
      ]
     },
     "metadata": {
      "needs_background": "light"
     },
     "output_type": "display_data"
    },
    {
     "data": {
      "image/png": "[encoded data removed]",
      "text/plain": [
       "<Figure size 432x288 with 1 Axes>"
      ]
     },
     "metadata": {
      "needs_background": "light"
     },
     "output_type": "display_data"
    },
    {
     "data": {
      "image/png": "[encoded data removed]",
      "text/plain": [
       "<Figure size 432x288 with 1 Axes>"
      ]
     },
     "metadata": {
      "needs_background": "light"
     },
     "output_type": "display_data"
    },
    {
     "data": {
      "image/png": "[encoded data removed]",
      "text/plain": [
       "<Figure size 432x288 with 1 Axes>"
      ]
     },
     "metadata": {
      "needs_background": "light"
     },
     "output_type": "display_data"
    }
   ],
   "source": [
    "def distPares(data):\n",
    "    print(f\"Correlación numérica entre las variables: \\n{data.corr()}\") # correlación entre las variables\n",
    "\n",
    "    column_names = data.columns[:-1]  # Omitimos la variable dependiente\n",
    "    # Ahora representamos atributos por pares (mostrando también la clase)\n",
    "    column_names = data.columns[:-1]  # Omitimos la variable dependiente\n",
    "    for i, columna_i in enumerate(column_names):\n",
    "        for j, columna_j in enumerate(column_names):\n",
    "            if i < j:\n",
    "                fig, ax = plt.subplots()\n",
    "                data.plot.scatter(columna_i, columna_j, c='crimson', ax=ax)\n",
    "\n",
    "distPares(dataset)"
   ]
  },
  {
   "cell_type": "markdown",
   "metadata": {},
   "source": [
    "### División de los datos en entrenamiento (80%) y test (20%)\n",
    "\n",
    "Para la división de datos entre entrenamiento (80%) y test (20%) usamos `train_test_split`."
   ]
  },
  {
   "cell_type": "code",
   "execution_count": 11,
   "metadata": {},
   "outputs": [
    {
     "data": {
      "text/html": [
       "<div>\n",
       "<style scoped>\n",
       "    .dataframe tbody tr th:only-of-type {\n",
       "        vertical-align: middle;\n",
       "    }\n",
       "\n",
       "    .dataframe tbody tr th {\n",
       "        vertical-align: top;\n",
       "    }\n",
       "\n",
       "    .dataframe thead th {\n",
       "        text-align: right;\n",
       "    }\n",
       "</style>\n",
       "<table border=\"1\" class=\"dataframe\">\n",
       "  <thead>\n",
       "    <tr style=\"text-align: right;\">\n",
       "      <th></th>\n",
       "      <th>X0</th>\n",
       "      <th>X1</th>\n",
       "      <th>X2</th>\n",
       "      <th>X3</th>\n",
       "      <th>Y</th>\n",
       "    </tr>\n",
       "  </thead>\n",
       "  <tbody>\n",
       "    <tr>\n",
       "      <th>309</th>\n",
       "      <td>16</td>\n",
       "      <td>3</td>\n",
       "      <td>750</td>\n",
       "      <td>19</td>\n",
       "      <td>0</td>\n",
       "    </tr>\n",
       "    <tr>\n",
       "      <th>711</th>\n",
       "      <td>23</td>\n",
       "      <td>6</td>\n",
       "      <td>1500</td>\n",
       "      <td>45</td>\n",
       "      <td>0</td>\n",
       "    </tr>\n",
       "    <tr>\n",
       "      <th>343</th>\n",
       "      <td>11</td>\n",
       "      <td>1</td>\n",
       "      <td>250</td>\n",
       "      <td>11</td>\n",
       "      <td>0</td>\n",
       "    </tr>\n",
       "    <tr>\n",
       "      <th>462</th>\n",
       "      <td>21</td>\n",
       "      <td>1</td>\n",
       "      <td>250</td>\n",
       "      <td>21</td>\n",
       "      <td>1</td>\n",
       "    </tr>\n",
       "    <tr>\n",
       "      <th>646</th>\n",
       "      <td>14</td>\n",
       "      <td>2</td>\n",
       "      <td>500</td>\n",
       "      <td>14</td>\n",
       "      <td>0</td>\n",
       "    </tr>\n",
       "    <tr>\n",
       "      <th>...</th>\n",
       "      <td>...</td>\n",
       "      <td>...</td>\n",
       "      <td>...</td>\n",
       "      <td>...</td>\n",
       "      <td>...</td>\n",
       "    </tr>\n",
       "    <tr>\n",
       "      <th>315</th>\n",
       "      <td>4</td>\n",
       "      <td>2</td>\n",
       "      <td>500</td>\n",
       "      <td>29</td>\n",
       "      <td>0</td>\n",
       "    </tr>\n",
       "    <tr>\n",
       "      <th>473</th>\n",
       "      <td>14</td>\n",
       "      <td>3</td>\n",
       "      <td>750</td>\n",
       "      <td>83</td>\n",
       "      <td>0</td>\n",
       "    </tr>\n",
       "    <tr>\n",
       "      <th>661</th>\n",
       "      <td>16</td>\n",
       "      <td>2</td>\n",
       "      <td>500</td>\n",
       "      <td>16</td>\n",
       "      <td>0</td>\n",
       "    </tr>\n",
       "    <tr>\n",
       "      <th>362</th>\n",
       "      <td>4</td>\n",
       "      <td>3</td>\n",
       "      <td>750</td>\n",
       "      <td>71</td>\n",
       "      <td>0</td>\n",
       "    </tr>\n",
       "    <tr>\n",
       "      <th>721</th>\n",
       "      <td>23</td>\n",
       "      <td>3</td>\n",
       "      <td>750</td>\n",
       "      <td>35</td>\n",
       "      <td>0</td>\n",
       "    </tr>\n",
       "  </tbody>\n",
       "</table>\n",
       "<p>150 rows × 5 columns</p>\n",
       "</div>"
      ],
      "text/plain": [
       "     X0  X1    X2  X3  Y\n",
       "309  16   3   750  19  0\n",
       "711  23   6  1500  45  0\n",
       "343  11   1   250  11  0\n",
       "462  21   1   250  21  1\n",
       "646  14   2   500  14  0\n",
       "..   ..  ..   ...  .. ..\n",
       "315   4   2   500  29  0\n",
       "473  14   3   750  83  0\n",
       "661  16   2   500  16  0\n",
       "362   4   3   750  71  0\n",
       "721  23   3   750  35  0\n",
       "\n",
       "[150 rows x 5 columns]"
      ]
     },
     "execution_count": 11,
     "metadata": {},
     "output_type": "execute_result"
    }
   ],
   "source": [
    "dataset_train, dataset_test = train_test_split(dataset, test_size=0.2, random_state=SEED_VALUE, stratify=dataset[\"Y\"])\n",
    "dataset_test"
   ]
  },
  {
   "cell_type": "markdown",
   "metadata": {},
   "source": [
    "**Gestión de valores faltantes**\n",
    "\n",
    "Como ya vimos en la breve exploración e los datos, nuestro dataset no tiene valores faltantes.\n",
    "Sin embargo, la sustitución de las variables predictoras por la media se llevaría a cabo de la siguiente manera. `SimpleImputer` convierte nuestros valores a un array NumPy, por lo que sería bueno que se vuelven a convertir a formato dataframe."
   ]
  },
  {
   "cell_type": "code",
   "execution_count": 12,
   "metadata": {},
   "outputs": [
    {
     "data": {
      "text/html": [
       "<div>\n",
       "<style scoped>\n",
       "    .dataframe tbody tr th:only-of-type {\n",
       "        vertical-align: middle;\n",
       "    }\n",
       "\n",
       "    .dataframe tbody tr th {\n",
       "        vertical-align: top;\n",
       "    }\n",
       "\n",
       "    .dataframe thead th {\n",
       "        text-align: right;\n",
       "    }\n",
       "</style>\n",
       "<table border=\"1\" class=\"dataframe\">\n",
       "  <thead>\n",
       "    <tr style=\"text-align: right;\">\n",
       "      <th></th>\n",
       "      <th>X0</th>\n",
       "      <th>X1</th>\n",
       "      <th>X2</th>\n",
       "      <th>X3</th>\n",
       "      <th>Y</th>\n",
       "    </tr>\n",
       "  </thead>\n",
       "  <tbody>\n",
       "    <tr>\n",
       "      <th>309</th>\n",
       "      <td>16.0</td>\n",
       "      <td>3.0</td>\n",
       "      <td>750.0</td>\n",
       "      <td>19.0</td>\n",
       "      <td>0.0</td>\n",
       "    </tr>\n",
       "    <tr>\n",
       "      <th>711</th>\n",
       "      <td>23.0</td>\n",
       "      <td>6.0</td>\n",
       "      <td>1500.0</td>\n",
       "      <td>45.0</td>\n",
       "      <td>0.0</td>\n",
       "    </tr>\n",
       "    <tr>\n",
       "      <th>343</th>\n",
       "      <td>11.0</td>\n",
       "      <td>1.0</td>\n",
       "      <td>250.0</td>\n",
       "      <td>11.0</td>\n",
       "      <td>0.0</td>\n",
       "    </tr>\n",
       "    <tr>\n",
       "      <th>462</th>\n",
       "      <td>21.0</td>\n",
       "      <td>1.0</td>\n",
       "      <td>250.0</td>\n",
       "      <td>21.0</td>\n",
       "      <td>1.0</td>\n",
       "    </tr>\n",
       "    <tr>\n",
       "      <th>646</th>\n",
       "      <td>14.0</td>\n",
       "      <td>2.0</td>\n",
       "      <td>500.0</td>\n",
       "      <td>14.0</td>\n",
       "      <td>0.0</td>\n",
       "    </tr>\n",
       "    <tr>\n",
       "      <th>...</th>\n",
       "      <td>...</td>\n",
       "      <td>...</td>\n",
       "      <td>...</td>\n",
       "      <td>...</td>\n",
       "      <td>...</td>\n",
       "    </tr>\n",
       "    <tr>\n",
       "      <th>315</th>\n",
       "      <td>4.0</td>\n",
       "      <td>2.0</td>\n",
       "      <td>500.0</td>\n",
       "      <td>29.0</td>\n",
       "      <td>0.0</td>\n",
       "    </tr>\n",
       "    <tr>\n",
       "      <th>473</th>\n",
       "      <td>14.0</td>\n",
       "      <td>3.0</td>\n",
       "      <td>750.0</td>\n",
       "      <td>83.0</td>\n",
       "      <td>0.0</td>\n",
       "    </tr>\n",
       "    <tr>\n",
       "      <th>661</th>\n",
       "      <td>16.0</td>\n",
       "      <td>2.0</td>\n",
       "      <td>500.0</td>\n",
       "      <td>16.0</td>\n",
       "      <td>0.0</td>\n",
       "    </tr>\n",
       "    <tr>\n",
       "      <th>362</th>\n",
       "      <td>4.0</td>\n",
       "      <td>3.0</td>\n",
       "      <td>750.0</td>\n",
       "      <td>71.0</td>\n",
       "      <td>0.0</td>\n",
       "    </tr>\n",
       "    <tr>\n",
       "      <th>721</th>\n",
       "      <td>23.0</td>\n",
       "      <td>3.0</td>\n",
       "      <td>750.0</td>\n",
       "      <td>35.0</td>\n",
       "      <td>0.0</td>\n",
       "    </tr>\n",
       "  </tbody>\n",
       "</table>\n",
       "<p>150 rows × 5 columns</p>\n",
       "</div>"
      ],
      "text/plain": [
       "       X0   X1      X2    X3    Y\n",
       "309  16.0  3.0   750.0  19.0  0.0\n",
       "711  23.0  6.0  1500.0  45.0  0.0\n",
       "343  11.0  1.0   250.0  11.0  0.0\n",
       "462  21.0  1.0   250.0  21.0  1.0\n",
       "646  14.0  2.0   500.0  14.0  0.0\n",
       "..    ...  ...     ...   ...  ...\n",
       "315   4.0  2.0   500.0  29.0  0.0\n",
       "473  14.0  3.0   750.0  83.0  0.0\n",
       "661  16.0  2.0   500.0  16.0  0.0\n",
       "362   4.0  3.0   750.0  71.0  0.0\n",
       "721  23.0  3.0   750.0  35.0  0.0\n",
       "\n",
       "[150 rows x 5 columns]"
      ]
     },
     "execution_count": 12,
     "metadata": {},
     "output_type": "execute_result"
    }
   ],
   "source": [
    "def valoresFaltantes(trainData, testData, mis_val=np.nan, fill_val='mean'):\n",
    "    imp = SimpleImputer(missing_values=mis_val, fill_value=fill_val) # definimos el mapa\n",
    "    imp = imp.fit(trainData)  # La media la calculamos SÓLO a partir del conjunto de train \n",
    "\n",
    "    # Los valores van a ser los mismos que antes, pues no tenemos datos faltantes\n",
    "    dataset_train_prep = imp.transform(trainData) # aqui modificamos los datos de train\n",
    "    dataset_test_prep = imp.transform(testData) # aqui modificamos los datos de test (se usa la media de entrenamiento)\n",
    "\n",
    "    dataset_train = pd.DataFrame(dataset_train_prep, \n",
    "                                 columns=trainData.columns, \n",
    "                                 index=trainData.index)\n",
    "    dataset_test = pd.DataFrame(dataset_test_prep, \n",
    "                                columns=testData.columns, \n",
    "                                index=testData.index)\n",
    "\n",
    "    return dataset_train, dataset_test\n",
    "\n",
    "dataset_train, dataset_test = valoresFaltantes(dataset_train, dataset_test)\n",
    "dataset_test"
   ]
  },
  {
   "cell_type": "markdown",
   "metadata": {},
   "source": [
    "### Separación de variables predictoras y dependientes y estandarización de los datos\n",
    "\n",
    "Es recomendable hacer siempre la estandarización de los datos. Esto hay que hacerlo **DESPUÉS** de dividir en conjuntos de entrenamiento y test. En los problemas de clasificación, **NO** estandarizaremos la variable dependiente, pero esto sí es necesario en problemas de regresión.\n",
    "\n",
    "Definimos una función que, dada los datos de entrenamiento y *test*, separa las varibles predictoras y dependientes (especificadas en los parámetros `preds` y `dep`), y estandariza las variables predictoras o las predictoras y las dependientes (el parámetro `escalar = [True, True]` controla el escalado de las variables: el primer elemento indica si se estandarizan las variables predictoras o no (en este último caso da error, ya que es necesario), y el segundo elemento hace lo mismo con las variables dependientes). "
   ]
  },
  {
   "cell_type": "code",
   "execution_count": 13,
   "metadata": {},
   "outputs": [],
   "source": [
    "def splitScale(trainData, testData, preds = ['X0', 'X1', 'X2', 'X3'], dep = 'Y', escalar = [True, True]):\n",
    "\n",
    "    dataset_train_X = trainData.loc[:, preds[0]:preds[-1]].astype(float)\n",
    "    dataset_train_Y = trainData.loc[:, dep].astype(float)\n",
    "\n",
    "    dataset_test_X = testData.loc[:, preds[0]:preds[-1]].astype(float)\n",
    "    dataset_test_Y = testData.loc[:, dep].astype(float)\n",
    "\n",
    "    if escalar[0]:\n",
    "        scalerX = StandardScaler() # creamos el scaler\n",
    "        scalerX.fit(dataset_train_X) # ajustamos a los datos de TRAIN\n",
    "\n",
    "        dataset_train_X_scaled = scalerX.transform(dataset_train_X)\n",
    "        dataset_test_X_scaled = scalerX.transform(dataset_test_X)\n",
    "\n",
    "        print(\"Valores con los que se ha estandarizado:\\n\")\n",
    "        statsPreds = pd.DataFrame([scalerX.mean_, scalerX.scale_], \n",
    "                                  index = ['Mean', 'std'], \n",
    "                                  columns = preds)\n",
    "        print(f\"{statsPreds}\\n\")\n",
    "\n",
    "        if escalar[1]:\n",
    "            \n",
    "            dataset_train_Y = dataset_train_Y.to_frame()\n",
    "            dataset_test_Y = dataset_test_Y.to_frame()\n",
    "            \n",
    "            scalerY = StandardScaler()\n",
    "            scalerY.fit(dataset_train_Y) # ajustamos a los datos de TRAIN\n",
    "\n",
    "            dataset_train_Y_scaled = scalerY.transform(dataset_train_Y)\n",
    "            dataset_test_Y_scaled = scalerY.transform(dataset_test_Y)\n",
    "\n",
    "            statsDep = pd.DataFrame([scalerY.mean_, scalerY.scale_], \n",
    "                                    index = ['Mean', 'std'], \n",
    "                                    columns = [dep])\n",
    "            print(statsDep)\n",
    "\n",
    "            return dataset_train_X_scaled, dataset_train_Y_scaled, dataset_test_X_scaled, dataset_test_Y_scaled, [scalerX, scalerY]\n",
    "        \n",
    "        return dataset_train_X_scaled, dataset_train_Y, dataset_test_X_scaled, dataset_test_Y, scalerX\n",
    "    \n",
    "    else: \n",
    "        raise ValueError(\"Es necesario escalar los predictores\")"
   ]
  },
  {
   "cell_type": "code",
   "execution_count": 14,
   "metadata": {},
   "outputs": [
    {
     "name": "stdout",
     "output_type": "stream",
     "text": [
      "Valores con los que se ha estandarizado:\n",
      "\n",
      "            X0        X1           X2         X3\n",
      "Mean  9.508361  5.637124  1409.280936  34.879599\n",
      "std   7.893041  5.893176  1473.294031  24.729957\n",
      "\n"
     ]
    }
   ],
   "source": [
    "dataset_train_X_scaled, dataset_train_Y, dataset_test_X_scaled, dataset_test_Y, scalerX = splitScale(dataset_train, dataset_test, preds = ['X0', 'X1', 'X2', 'X3'], dep = 'Y', escalar=[True, False])"
   ]
  },
  {
   "cell_type": "markdown",
   "metadata": {},
   "source": [
    "### Exploración de hiperparámetros"
   ]
  },
  {
   "cell_type": "markdown",
   "metadata": {},
   "source": [
    "Hemos visualizado y preprocesado los datos. Vamos a empezar a trabajar con nuestro predictor. Importante conocer los hiperparámetros del modelo a usar. Debemos sobreaprender y subaprender. Primero hacemos exploracion de hiperparámetros de grano grueso y luego de grano fino.\n",
    "\n",
    "`GridSearch` admite una gran variedad de modelos, por lo que definir una función que lo aplique resultará de utilidad. Pasando el modelo a usar el *grid* de hiperparámetros, obtenemos los resultados de los modelos explorados. Además, como lo usaremos con frecuencia, añadimos una columna a los resultados calculando el error medio. "
   ]
  },
  {
   "cell_type": "code",
   "execution_count": 15,
   "metadata": {},
   "outputs": [],
   "source": [
    "def crossVal(trainDataX, trainDataY, modelo, hiperparametros, cv = 5, scoring = 'accuracy'):\n",
    "    modelCV = GridSearchCV(modelo, \n",
    "                           param_grid = hiperparametros, # grid de hiperparametros\n",
    "                           cv = cv, # conjuntos de validacion cruzada (folds)\n",
    "                           scoring = scoring, # metrica de evaluacion \n",
    "                           return_train_score = True)\n",
    "    \n",
    "    np.random.seed(SEED_VALUE) \n",
    "    modelCV.fit(trainDataX, trainDataY)\n",
    "    resultados = pd.DataFrame(modelCV.cv_results_)\n",
    "    \n",
    "    if scoring == 'accuracy': \n",
    "        resultados['mean_test_error'] = 1 - resultados.loc[:, 'mean_test_score']\n",
    "\n",
    "    return modelCV, resultados"
   ]
  },
  {
   "cell_type": "markdown",
   "metadata": {},
   "source": [
    "**Regla de una desviación estándar**\n",
    "\n",
    "Definimos también una función para aplicar el método de una desviación estándar sobre nuestros resultados. Esta función devuelve un DataFrame con los modelos cuyo error se aleja en, como mucho, una desviación estándar del modelo con un error mínimo, así como el valor numérico de esta cota (error mínimo más su desviación estándar)."
   ]
  },
  {
   "cell_type": "code",
   "execution_count": 16,
   "metadata": {},
   "outputs": [],
   "source": [
    "def onestdRule(resultados, classification = True):\n",
    "    best_model = resultados[resultados['rank_test_score'] == 1]\n",
    "    if classification:\n",
    "        cota_std = best_model['mean_test_error'].item() + best_model['std_test_score'].item()\n",
    "        modelos_menores = resultados[resultados['mean_test_error'] <= cota_std]\n",
    "    \n",
    "    else: \n",
    "        cota_std = best_model['mean_test_score'].item() + best_model['std_test_score'].item()\n",
    "        modelos_menores = resultados[resultados['mean_test_score'] <= cota_std]\n",
    "\n",
    "    return modelos_menores, cota_std"
   ]
  },
  {
   "cell_type": "markdown",
   "metadata": {},
   "source": [
    "**Exploración de grano grueso**\n",
    "\n",
    "En esta práctica, el único parámetro a explorar es el número de vecino. Hacemos primero una \n",
    "exploración de valores en un rango amplio (gg), para subaprender y sobreaprender. De este modo, luego seleccionaremos un rango más limitado de este parámetro y podremos explorar todas las posibilidades en el mismo."
   ]
  },
  {
   "cell_type": "code",
   "execution_count": 17,
   "metadata": {},
   "outputs": [
    {
     "data": {
      "text/plain": [
       "GridSearchCV(cv=5, estimator=KNeighborsClassifier(),\n",
       "             param_grid={'n_neighbors': range(1, 100, 5)},\n",
       "             return_train_score=True, scoring='accuracy')"
      ]
     },
     "execution_count": 17,
     "metadata": {},
     "output_type": "execute_result"
    }
   ],
   "source": [
    "hyperparameters_gg = {'n_neighbors': range(1, 100, 5)}\n",
    "k_neigh = KNeighborsClassifier()\n",
    "\n",
    "modeloCV_gg, cv_results_gg = crossVal(dataset_train_X_scaled, dataset_train_Y, k_neigh, hyperparameters_gg)\n",
    "modeloCV_gg"
   ]
  },
  {
   "cell_type": "markdown",
   "metadata": {},
   "source": [
    "Como también queremos encontrar el mejor modelo en caso de aplicar la regla de una desviación estándar, calcularemos esta cota para ver visualmente el rango que habrá que explorar luego en mayor detalle."
   ]
  },
  {
   "cell_type": "code",
   "execution_count": 18,
   "metadata": {},
   "outputs": [],
   "source": [
    "_, cota_std_gg = onestdRule(cv_results_gg)"
   ]
  },
  {
   "cell_type": "markdown",
   "metadata": {},
   "source": [
    "**Gráfica de entrenamiento (primera aproximación)**\n",
    "\n",
    "Aqui deberiamos tener una grafica más o menos convexa para ver que ahi esta el minimo. Hacemos una función que grafique el error frente al hiperparámetro explorado. Además, se incorpora la posibilidad de representar una cota fijada por el error mínimo más una desviación estándar, para aplicar visualemente el método de una desviación estándar. "
   ]
  },
  {
   "cell_type": "code",
   "execution_count": 19,
   "metadata": {},
   "outputs": [],
   "source": [
    "def errorVal(resultados, hiperparams_name, ax, label = 'uniform', color = 'crimson', cota_std = None, classification = True):\n",
    "    ejex = resultados[hiperparams_name]\n",
    "    if classification:\n",
    "        ejey = 1 - resultados['mean_test_score']\n",
    "    \n",
    "    else: \n",
    "        ejey = resultados['mean_test_score']\n",
    "\n",
    "    errory = resultados['std_test_score']\n",
    "\n",
    "    ax.errorbar(ejex, ejey, yerr = errory, label = label, color = color, capsize = 3)\n",
    "    ax.axhline(y = cota_std, linestyle = 'dashed', color = 'springgreen', label = 'one-std') if cota_std else None\n",
    "    ax.set_xlim(min(ejex) - 2, max(ejex) + 2)\n",
    "    ax.set_ylim(min(ejey) / 1.2, max(ejey) * 1.15)\n",
    "    ax.grid(axis = 'y', alpha = 0.5)\n",
    "    ax.legend(loc='upper right')\n",
    "\n",
    "    return ax"
   ]
  },
  {
   "cell_type": "markdown",
   "metadata": {},
   "source": [
    "Visualizamos los modelos encontrados en este rango de vecinos."
   ]
  },
  {
   "cell_type": "code",
   "execution_count": 20,
   "metadata": {},
   "outputs": [
    {
     "data": {
      "image/png": "[encoded data removed]",
      "text/plain": [
       "<Figure size 864x576 with 1 Axes>"
      ]
     },
     "metadata": {
      "needs_background": "light"
     },
     "output_type": "display_data"
    }
   ],
   "source": [
    "fig_gg, ax_gg = plt.subplots(figsize=(12,8))\n",
    "ax_gg.set_title(\"Error de validacion\")\n",
    "ax_gg.set_xlabel(\"Número de vecinos (K)\")\n",
    "ax_gg.set_ylabel(\"Error de entrenamiento\")\n",
    "ax_gg.set_xticks(np.arange(0, 101, 10))\n",
    "\n",
    "errorVal(cv_results_gg, 'param_n_neighbors', ax_gg, cota_std=cota_std_gg)\n",
    "\n",
    "plt.show()"
   ]
  },
  {
   "cell_type": "markdown",
   "metadata": {},
   "source": [
    "El mejor modelo está con casi total seguridad entre $K = 30$ y $K = 40$. Sin embargo, también queremos el mejor modelo según la regla de una desviación estándar. Por ello, debemos recorrer los valores en las proximidades de la línea verde, que fija la cota de la desviación estándar. Barreremos el rango de $K \\in [1, 70]$. Incluimos valores ligeramente por encima de la cota ya que, haciendo una exploración en mayor profundidad, puede haber algún modelo en ese rango que entre dentro de la cota."
   ]
  },
  {
   "cell_type": "markdown",
   "metadata": {},
   "source": [
    "**Exploración de grano fino**\n",
    "\n",
    "Repetimos la exploración, esta vez barriendo todos los valores $K$ en ese intervalo. Así encontraremos el modelo con el menor error de validación cruzada para este problema."
   ]
  },
  {
   "cell_type": "code",
   "execution_count": 21,
   "metadata": {},
   "outputs": [
    {
     "data": {
      "text/plain": [
       "GridSearchCV(cv=5, estimator=KNeighborsClassifier(),\n",
       "             param_grid={'n_neighbors': range(1, 70)}, return_train_score=True,\n",
       "             scoring='accuracy')"
      ]
     },
     "execution_count": 21,
     "metadata": {},
     "output_type": "execute_result"
    }
   ],
   "source": [
    "hyperparameters_gf = {'n_neighbors': range(1, 70, 1)}\n",
    "k_neigh = KNeighborsClassifier()\n",
    "\n",
    "modeloCV_gf, cv_results_gf = crossVal(dataset_train_X_scaled, dataset_train_Y, k_neigh, hyperparameters_gf)\n",
    "modeloCV_gf"
   ]
  },
  {
   "cell_type": "markdown",
   "metadata": {},
   "source": [
    "Los mejores modelos y sus estadísticas son los siguientes:"
   ]
  },
  {
   "cell_type": "code",
   "execution_count": 22,
   "metadata": {},
   "outputs": [
    {
     "data": {
      "text/html": [
       "<div>\n",
       "<style scoped>\n",
       "    .dataframe tbody tr th:only-of-type {\n",
       "        vertical-align: middle;\n",
       "    }\n",
       "\n",
       "    .dataframe tbody tr th {\n",
       "        vertical-align: top;\n",
       "    }\n",
       "\n",
       "    .dataframe thead th {\n",
       "        text-align: right;\n",
       "    }\n",
       "</style>\n",
       "<table border=\"1\" class=\"dataframe\">\n",
       "  <thead>\n",
       "    <tr style=\"text-align: right;\">\n",
       "      <th></th>\n",
       "      <th>param_n_neighbors</th>\n",
       "      <th>mean_test_score</th>\n",
       "      <th>std_test_score</th>\n",
       "      <th>mean_test_error</th>\n",
       "      <th>rank_test_score</th>\n",
       "    </tr>\n",
       "  </thead>\n",
       "  <tbody>\n",
       "    <tr>\n",
       "      <th>31</th>\n",
       "      <td>32</td>\n",
       "      <td>0.797717</td>\n",
       "      <td>0.022126</td>\n",
       "      <td>0.202283</td>\n",
       "      <td>1</td>\n",
       "    </tr>\n",
       "    <tr>\n",
       "      <th>21</th>\n",
       "      <td>22</td>\n",
       "      <td>0.797689</td>\n",
       "      <td>0.012865</td>\n",
       "      <td>0.202311</td>\n",
       "      <td>2</td>\n",
       "    </tr>\n",
       "    <tr>\n",
       "      <th>32</th>\n",
       "      <td>33</td>\n",
       "      <td>0.796064</td>\n",
       "      <td>0.028712</td>\n",
       "      <td>0.203936</td>\n",
       "      <td>3</td>\n",
       "    </tr>\n",
       "    <tr>\n",
       "      <th>35</th>\n",
       "      <td>36</td>\n",
       "      <td>0.796022</td>\n",
       "      <td>0.021826</td>\n",
       "      <td>0.203978</td>\n",
       "      <td>4</td>\n",
       "    </tr>\n",
       "    <tr>\n",
       "      <th>24</th>\n",
       "      <td>25</td>\n",
       "      <td>0.795994</td>\n",
       "      <td>0.017062</td>\n",
       "      <td>0.204006</td>\n",
       "      <td>5</td>\n",
       "    </tr>\n",
       "    <tr>\n",
       "      <th>33</th>\n",
       "      <td>34</td>\n",
       "      <td>0.794384</td>\n",
       "      <td>0.026208</td>\n",
       "      <td>0.205616</td>\n",
       "      <td>6</td>\n",
       "    </tr>\n",
       "    <tr>\n",
       "      <th>30</th>\n",
       "      <td>31</td>\n",
       "      <td>0.794356</td>\n",
       "      <td>0.015830</td>\n",
       "      <td>0.205644</td>\n",
       "      <td>7</td>\n",
       "    </tr>\n",
       "    <tr>\n",
       "      <th>25</th>\n",
       "      <td>26</td>\n",
       "      <td>0.794356</td>\n",
       "      <td>0.015830</td>\n",
       "      <td>0.205644</td>\n",
       "      <td>7</td>\n",
       "    </tr>\n",
       "    <tr>\n",
       "      <th>23</th>\n",
       "      <td>24</td>\n",
       "      <td>0.794356</td>\n",
       "      <td>0.019018</td>\n",
       "      <td>0.205644</td>\n",
       "      <td>7</td>\n",
       "    </tr>\n",
       "    <tr>\n",
       "      <th>40</th>\n",
       "      <td>41</td>\n",
       "      <td>0.794342</td>\n",
       "      <td>0.026032</td>\n",
       "      <td>0.205658</td>\n",
       "      <td>10</td>\n",
       "    </tr>\n",
       "  </tbody>\n",
       "</table>\n",
       "</div>"
      ],
      "text/plain": [
       "   param_n_neighbors  mean_test_score  std_test_score  mean_test_error  \\\n",
       "31                32         0.797717        0.022126         0.202283   \n",
       "21                22         0.797689        0.012865         0.202311   \n",
       "32                33         0.796064        0.028712         0.203936   \n",
       "35                36         0.796022        0.021826         0.203978   \n",
       "24                25         0.795994        0.017062         0.204006   \n",
       "33                34         0.794384        0.026208         0.205616   \n",
       "30                31         0.794356        0.015830         0.205644   \n",
       "25                26         0.794356        0.015830         0.205644   \n",
       "23                24         0.794356        0.019018         0.205644   \n",
       "40                41         0.794342        0.026032         0.205658   \n",
       "\n",
       "    rank_test_score  \n",
       "31                1  \n",
       "21                2  \n",
       "32                3  \n",
       "35                4  \n",
       "24                5  \n",
       "33                6  \n",
       "30                7  \n",
       "25                7  \n",
       "23                7  \n",
       "40               10  "
      ]
     },
     "execution_count": 22,
     "metadata": {},
     "output_type": "execute_result"
    }
   ],
   "source": [
    "cv_results_gf.sort_values('rank_test_score')[['param_n_neighbors', 'mean_test_score', 'std_test_score', 'mean_test_error', 'rank_test_score']].head(10)"
   ]
  },
  {
   "cell_type": "markdown",
   "metadata": {},
   "source": [
    "Los mejores hiperparámetros en validación cruzada serían los siguientes:"
   ]
  },
  {
   "cell_type": "code",
   "execution_count": 23,
   "metadata": {},
   "outputs": [
    {
     "data": {
      "text/html": [
       "<div>\n",
       "<style scoped>\n",
       "    .dataframe tbody tr th:only-of-type {\n",
       "        vertical-align: middle;\n",
       "    }\n",
       "\n",
       "    .dataframe tbody tr th {\n",
       "        vertical-align: top;\n",
       "    }\n",
       "\n",
       "    .dataframe thead th {\n",
       "        text-align: right;\n",
       "    }\n",
       "</style>\n",
       "<table border=\"1\" class=\"dataframe\">\n",
       "  <thead>\n",
       "    <tr style=\"text-align: right;\">\n",
       "      <th></th>\n",
       "      <th>param_n_neighbors</th>\n",
       "      <th>mean_test_score</th>\n",
       "      <th>mean_test_error</th>\n",
       "      <th>std_test_score</th>\n",
       "      <th>rank_test_score</th>\n",
       "    </tr>\n",
       "  </thead>\n",
       "  <tbody>\n",
       "    <tr>\n",
       "      <th>31</th>\n",
       "      <td>32</td>\n",
       "      <td>0.797717</td>\n",
       "      <td>0.202283</td>\n",
       "      <td>0.022126</td>\n",
       "      <td>1</td>\n",
       "    </tr>\n",
       "  </tbody>\n",
       "</table>\n",
       "</div>"
      ],
      "text/plain": [
       "   param_n_neighbors  mean_test_score  mean_test_error  std_test_score  \\\n",
       "31                32         0.797717         0.202283        0.022126   \n",
       "\n",
       "    rank_test_score  \n",
       "31                1  "
      ]
     },
     "execution_count": 23,
     "metadata": {},
     "output_type": "execute_result"
    }
   ],
   "source": [
    "cv_results_best_gf = cv_results_gf[cv_results_gf['rank_test_score'] == 1]\n",
    "cv_results_best_gf.loc[:, ['param_n_neighbors', 'mean_test_score', 'mean_test_error', 'std_test_score', 'rank_test_score']]"
   ]
  },
  {
   "cell_type": "markdown",
   "metadata": {},
   "source": [
    "**Regla de una desviacion estandar**\n",
    "\n",
    "Podemos seleccionar el mejor modelo según la regla de una desviación estándar de forma numérica, así como su hiperparámetro."
   ]
  },
  {
   "cell_type": "code",
   "execution_count": 24,
   "metadata": {},
   "outputs": [
    {
     "data": {
      "text/html": [
       "<div>\n",
       "<style scoped>\n",
       "    .dataframe tbody tr th:only-of-type {\n",
       "        vertical-align: middle;\n",
       "    }\n",
       "\n",
       "    .dataframe tbody tr th {\n",
       "        vertical-align: top;\n",
       "    }\n",
       "\n",
       "    .dataframe thead th {\n",
       "        text-align: right;\n",
       "    }\n",
       "</style>\n",
       "<table border=\"1\" class=\"dataframe\">\n",
       "  <thead>\n",
       "    <tr style=\"text-align: right;\">\n",
       "      <th></th>\n",
       "      <th>param_n_neighbors</th>\n",
       "      <th>mean_test_score</th>\n",
       "      <th>mean_test_error</th>\n",
       "      <th>std_test_score</th>\n",
       "      <th>rank_test_score</th>\n",
       "    </tr>\n",
       "  </thead>\n",
       "  <tbody>\n",
       "    <tr>\n",
       "      <th>5</th>\n",
       "      <td>6</td>\n",
       "      <td>0.782605</td>\n",
       "      <td>0.217395</td>\n",
       "      <td>0.013973</td>\n",
       "      <td>38</td>\n",
       "    </tr>\n",
       "    <tr>\n",
       "      <th>6</th>\n",
       "      <td>7</td>\n",
       "      <td>0.780896</td>\n",
       "      <td>0.219104</td>\n",
       "      <td>0.026946</td>\n",
       "      <td>42</td>\n",
       "    </tr>\n",
       "    <tr>\n",
       "      <th>7</th>\n",
       "      <td>8</td>\n",
       "      <td>0.784314</td>\n",
       "      <td>0.215686</td>\n",
       "      <td>0.020409</td>\n",
       "      <td>36</td>\n",
       "    </tr>\n",
       "    <tr>\n",
       "      <th>8</th>\n",
       "      <td>9</td>\n",
       "      <td>0.785938</td>\n",
       "      <td>0.214062</td>\n",
       "      <td>0.024039</td>\n",
       "      <td>33</td>\n",
       "    </tr>\n",
       "    <tr>\n",
       "      <th>9</th>\n",
       "      <td>10</td>\n",
       "      <td>0.787633</td>\n",
       "      <td>0.212367</td>\n",
       "      <td>0.019384</td>\n",
       "      <td>28</td>\n",
       "    </tr>\n",
       "    <tr>\n",
       "      <th>10</th>\n",
       "      <td>11</td>\n",
       "      <td>0.789258</td>\n",
       "      <td>0.210742</td>\n",
       "      <td>0.030783</td>\n",
       "      <td>25</td>\n",
       "    </tr>\n",
       "    <tr>\n",
       "      <th>11</th>\n",
       "      <td>12</td>\n",
       "      <td>0.784272</td>\n",
       "      <td>0.215728</td>\n",
       "      <td>0.027148</td>\n",
       "      <td>37</td>\n",
       "    </tr>\n",
       "    <tr>\n",
       "      <th>12</th>\n",
       "      <td>13</td>\n",
       "      <td>0.785924</td>\n",
       "      <td>0.214076</td>\n",
       "      <td>0.025314</td>\n",
       "      <td>34</td>\n",
       "    </tr>\n",
       "    <tr>\n",
       "      <th>13</th>\n",
       "      <td>14</td>\n",
       "      <td>0.785924</td>\n",
       "      <td>0.214076</td>\n",
       "      <td>0.017535</td>\n",
       "      <td>34</td>\n",
       "    </tr>\n",
       "    <tr>\n",
       "      <th>14</th>\n",
       "      <td>15</td>\n",
       "      <td>0.792605</td>\n",
       "      <td>0.207395</td>\n",
       "      <td>0.019735</td>\n",
       "      <td>18</td>\n",
       "    </tr>\n",
       "    <tr>\n",
       "      <th>15</th>\n",
       "      <td>16</td>\n",
       "      <td>0.794300</td>\n",
       "      <td>0.205700</td>\n",
       "      <td>0.013755</td>\n",
       "      <td>12</td>\n",
       "    </tr>\n",
       "    <tr>\n",
       "      <th>16</th>\n",
       "      <td>17</td>\n",
       "      <td>0.794300</td>\n",
       "      <td>0.205700</td>\n",
       "      <td>0.016551</td>\n",
       "      <td>12</td>\n",
       "    </tr>\n",
       "    <tr>\n",
       "      <th>17</th>\n",
       "      <td>18</td>\n",
       "      <td>0.785966</td>\n",
       "      <td>0.214034</td>\n",
       "      <td>0.015267</td>\n",
       "      <td>32</td>\n",
       "    </tr>\n",
       "    <tr>\n",
       "      <th>18</th>\n",
       "      <td>19</td>\n",
       "      <td>0.787605</td>\n",
       "      <td>0.212395</td>\n",
       "      <td>0.022335</td>\n",
       "      <td>30</td>\n",
       "    </tr>\n",
       "    <tr>\n",
       "      <th>19</th>\n",
       "      <td>20</td>\n",
       "      <td>0.790994</td>\n",
       "      <td>0.209006</td>\n",
       "      <td>0.012496</td>\n",
       "      <td>19</td>\n",
       "    </tr>\n",
       "    <tr>\n",
       "      <th>20</th>\n",
       "      <td>21</td>\n",
       "      <td>0.789300</td>\n",
       "      <td>0.210700</td>\n",
       "      <td>0.016950</td>\n",
       "      <td>24</td>\n",
       "    </tr>\n",
       "    <tr>\n",
       "      <th>21</th>\n",
       "      <td>22</td>\n",
       "      <td>0.797689</td>\n",
       "      <td>0.202311</td>\n",
       "      <td>0.012865</td>\n",
       "      <td>2</td>\n",
       "    </tr>\n",
       "    <tr>\n",
       "      <th>22</th>\n",
       "      <td>23</td>\n",
       "      <td>0.790980</td>\n",
       "      <td>0.209020</td>\n",
       "      <td>0.013768</td>\n",
       "      <td>22</td>\n",
       "    </tr>\n",
       "    <tr>\n",
       "      <th>23</th>\n",
       "      <td>24</td>\n",
       "      <td>0.794356</td>\n",
       "      <td>0.205644</td>\n",
       "      <td>0.019018</td>\n",
       "      <td>7</td>\n",
       "    </tr>\n",
       "    <tr>\n",
       "      <th>24</th>\n",
       "      <td>25</td>\n",
       "      <td>0.795994</td>\n",
       "      <td>0.204006</td>\n",
       "      <td>0.017062</td>\n",
       "      <td>5</td>\n",
       "    </tr>\n",
       "    <tr>\n",
       "      <th>25</th>\n",
       "      <td>26</td>\n",
       "      <td>0.794356</td>\n",
       "      <td>0.205644</td>\n",
       "      <td>0.015830</td>\n",
       "      <td>7</td>\n",
       "    </tr>\n",
       "    <tr>\n",
       "      <th>26</th>\n",
       "      <td>27</td>\n",
       "      <td>0.792661</td>\n",
       "      <td>0.207339</td>\n",
       "      <td>0.014112</td>\n",
       "      <td>15</td>\n",
       "    </tr>\n",
       "    <tr>\n",
       "      <th>27</th>\n",
       "      <td>28</td>\n",
       "      <td>0.787647</td>\n",
       "      <td>0.212353</td>\n",
       "      <td>0.014233</td>\n",
       "      <td>27</td>\n",
       "    </tr>\n",
       "    <tr>\n",
       "      <th>28</th>\n",
       "      <td>29</td>\n",
       "      <td>0.785994</td>\n",
       "      <td>0.214006</td>\n",
       "      <td>0.012906</td>\n",
       "      <td>31</td>\n",
       "    </tr>\n",
       "    <tr>\n",
       "      <th>29</th>\n",
       "      <td>30</td>\n",
       "      <td>0.787675</td>\n",
       "      <td>0.212325</td>\n",
       "      <td>0.013821</td>\n",
       "      <td>26</td>\n",
       "    </tr>\n",
       "    <tr>\n",
       "      <th>30</th>\n",
       "      <td>31</td>\n",
       "      <td>0.794356</td>\n",
       "      <td>0.205644</td>\n",
       "      <td>0.015830</td>\n",
       "      <td>7</td>\n",
       "    </tr>\n",
       "    <tr>\n",
       "      <th>31</th>\n",
       "      <td>32</td>\n",
       "      <td>0.797717</td>\n",
       "      <td>0.202283</td>\n",
       "      <td>0.022126</td>\n",
       "      <td>1</td>\n",
       "    </tr>\n",
       "    <tr>\n",
       "      <th>32</th>\n",
       "      <td>33</td>\n",
       "      <td>0.796064</td>\n",
       "      <td>0.203936</td>\n",
       "      <td>0.028712</td>\n",
       "      <td>3</td>\n",
       "    </tr>\n",
       "    <tr>\n",
       "      <th>33</th>\n",
       "      <td>34</td>\n",
       "      <td>0.794384</td>\n",
       "      <td>0.205616</td>\n",
       "      <td>0.026208</td>\n",
       "      <td>6</td>\n",
       "    </tr>\n",
       "    <tr>\n",
       "      <th>34</th>\n",
       "      <td>35</td>\n",
       "      <td>0.792689</td>\n",
       "      <td>0.207311</td>\n",
       "      <td>0.018815</td>\n",
       "      <td>14</td>\n",
       "    </tr>\n",
       "    <tr>\n",
       "      <th>35</th>\n",
       "      <td>36</td>\n",
       "      <td>0.796022</td>\n",
       "      <td>0.203978</td>\n",
       "      <td>0.021826</td>\n",
       "      <td>4</td>\n",
       "    </tr>\n",
       "    <tr>\n",
       "      <th>36</th>\n",
       "      <td>37</td>\n",
       "      <td>0.794342</td>\n",
       "      <td>0.205658</td>\n",
       "      <td>0.016009</td>\n",
       "      <td>10</td>\n",
       "    </tr>\n",
       "    <tr>\n",
       "      <th>37</th>\n",
       "      <td>38</td>\n",
       "      <td>0.792661</td>\n",
       "      <td>0.207339</td>\n",
       "      <td>0.017614</td>\n",
       "      <td>15</td>\n",
       "    </tr>\n",
       "    <tr>\n",
       "      <th>38</th>\n",
       "      <td>39</td>\n",
       "      <td>0.790994</td>\n",
       "      <td>0.209006</td>\n",
       "      <td>0.018019</td>\n",
       "      <td>19</td>\n",
       "    </tr>\n",
       "    <tr>\n",
       "      <th>39</th>\n",
       "      <td>40</td>\n",
       "      <td>0.789356</td>\n",
       "      <td>0.210644</td>\n",
       "      <td>0.026687</td>\n",
       "      <td>23</td>\n",
       "    </tr>\n",
       "    <tr>\n",
       "      <th>40</th>\n",
       "      <td>41</td>\n",
       "      <td>0.794342</td>\n",
       "      <td>0.205658</td>\n",
       "      <td>0.026032</td>\n",
       "      <td>10</td>\n",
       "    </tr>\n",
       "    <tr>\n",
       "      <th>41</th>\n",
       "      <td>42</td>\n",
       "      <td>0.790994</td>\n",
       "      <td>0.209006</td>\n",
       "      <td>0.023386</td>\n",
       "      <td>19</td>\n",
       "    </tr>\n",
       "    <tr>\n",
       "      <th>42</th>\n",
       "      <td>43</td>\n",
       "      <td>0.792619</td>\n",
       "      <td>0.207381</td>\n",
       "      <td>0.019554</td>\n",
       "      <td>17</td>\n",
       "    </tr>\n",
       "    <tr>\n",
       "      <th>43</th>\n",
       "      <td>44</td>\n",
       "      <td>0.780938</td>\n",
       "      <td>0.219062</td>\n",
       "      <td>0.023810</td>\n",
       "      <td>41</td>\n",
       "    </tr>\n",
       "    <tr>\n",
       "      <th>44</th>\n",
       "      <td>45</td>\n",
       "      <td>0.787633</td>\n",
       "      <td>0.212367</td>\n",
       "      <td>0.026628</td>\n",
       "      <td>28</td>\n",
       "    </tr>\n",
       "    <tr>\n",
       "      <th>45</th>\n",
       "      <td>46</td>\n",
       "      <td>0.780980</td>\n",
       "      <td>0.219020</td>\n",
       "      <td>0.025146</td>\n",
       "      <td>39</td>\n",
       "    </tr>\n",
       "    <tr>\n",
       "      <th>46</th>\n",
       "      <td>47</td>\n",
       "      <td>0.780966</td>\n",
       "      <td>0.219034</td>\n",
       "      <td>0.021042</td>\n",
       "      <td>40</td>\n",
       "    </tr>\n",
       "    <tr>\n",
       "      <th>48</th>\n",
       "      <td>49</td>\n",
       "      <td>0.777619</td>\n",
       "      <td>0.222381</td>\n",
       "      <td>0.018379</td>\n",
       "      <td>44</td>\n",
       "    </tr>\n",
       "    <tr>\n",
       "      <th>50</th>\n",
       "      <td>51</td>\n",
       "      <td>0.775938</td>\n",
       "      <td>0.224062</td>\n",
       "      <td>0.012995</td>\n",
       "      <td>49</td>\n",
       "    </tr>\n",
       "    <tr>\n",
       "      <th>52</th>\n",
       "      <td>53</td>\n",
       "      <td>0.775938</td>\n",
       "      <td>0.224062</td>\n",
       "      <td>0.009248</td>\n",
       "      <td>49</td>\n",
       "    </tr>\n",
       "    <tr>\n",
       "      <th>53</th>\n",
       "      <td>54</td>\n",
       "      <td>0.779286</td>\n",
       "      <td>0.220714</td>\n",
       "      <td>0.013208</td>\n",
       "      <td>43</td>\n",
       "    </tr>\n",
       "    <tr>\n",
       "      <th>54</th>\n",
       "      <td>55</td>\n",
       "      <td>0.777605</td>\n",
       "      <td>0.222395</td>\n",
       "      <td>0.011034</td>\n",
       "      <td>47</td>\n",
       "    </tr>\n",
       "    <tr>\n",
       "      <th>56</th>\n",
       "      <td>57</td>\n",
       "      <td>0.777619</td>\n",
       "      <td>0.222381</td>\n",
       "      <td>0.022523</td>\n",
       "      <td>44</td>\n",
       "    </tr>\n",
       "    <tr>\n",
       "      <th>58</th>\n",
       "      <td>59</td>\n",
       "      <td>0.775966</td>\n",
       "      <td>0.224034</td>\n",
       "      <td>0.022165</td>\n",
       "      <td>48</td>\n",
       "    </tr>\n",
       "    <tr>\n",
       "      <th>60</th>\n",
       "      <td>61</td>\n",
       "      <td>0.775938</td>\n",
       "      <td>0.224062</td>\n",
       "      <td>0.018330</td>\n",
       "      <td>49</td>\n",
       "    </tr>\n",
       "    <tr>\n",
       "      <th>64</th>\n",
       "      <td>65</td>\n",
       "      <td>0.775924</td>\n",
       "      <td>0.224076</td>\n",
       "      <td>0.029487</td>\n",
       "      <td>52</td>\n",
       "    </tr>\n",
       "    <tr>\n",
       "      <th>65</th>\n",
       "      <td>66</td>\n",
       "      <td>0.775924</td>\n",
       "      <td>0.224076</td>\n",
       "      <td>0.029487</td>\n",
       "      <td>52</td>\n",
       "    </tr>\n",
       "    <tr>\n",
       "      <th>66</th>\n",
       "      <td>67</td>\n",
       "      <td>0.777605</td>\n",
       "      <td>0.222395</td>\n",
       "      <td>0.029992</td>\n",
       "      <td>46</td>\n",
       "    </tr>\n",
       "  </tbody>\n",
       "</table>\n",
       "</div>"
      ],
      "text/plain": [
       "   param_n_neighbors  mean_test_score  mean_test_error  std_test_score  \\\n",
       "5                  6         0.782605         0.217395        0.013973   \n",
       "6                  7         0.780896         0.219104        0.026946   \n",
       "7                  8         0.784314         0.215686        0.020409   \n",
       "8                  9         0.785938         0.214062        0.024039   \n",
       "9                 10         0.787633         0.212367        0.019384   \n",
       "10                11         0.789258         0.210742        0.030783   \n",
       "11                12         0.784272         0.215728        0.027148   \n",
       "12                13         0.785924         0.214076        0.025314   \n",
       "13                14         0.785924         0.214076        0.017535   \n",
       "14                15         0.792605         0.207395        0.019735   \n",
       "15                16         0.794300         0.205700        0.013755   \n",
       "16                17         0.794300         0.205700        0.016551   \n",
       "17                18         0.785966         0.214034        0.015267   \n",
       "18                19         0.787605         0.212395        0.022335   \n",
       "19                20         0.790994         0.209006        0.012496   \n",
       "20                21         0.789300         0.210700        0.016950   \n",
       "21                22         0.797689         0.202311        0.012865   \n",
       "22                23         0.790980         0.209020        0.013768   \n",
       "23                24         0.794356         0.205644        0.019018   \n",
       "24                25         0.795994         0.204006        0.017062   \n",
       "25                26         0.794356         0.205644        0.015830   \n",
       "26                27         0.792661         0.207339        0.014112   \n",
       "27                28         0.787647         0.212353        0.014233   \n",
       "28                29         0.785994         0.214006        0.012906   \n",
       "29                30         0.787675         0.212325        0.013821   \n",
       "30                31         0.794356         0.205644        0.015830   \n",
       "31                32         0.797717         0.202283        0.022126   \n",
       "32                33         0.796064         0.203936        0.028712   \n",
       "33                34         0.794384         0.205616        0.026208   \n",
       "34                35         0.792689         0.207311        0.018815   \n",
       "35                36         0.796022         0.203978        0.021826   \n",
       "36                37         0.794342         0.205658        0.016009   \n",
       "37                38         0.792661         0.207339        0.017614   \n",
       "38                39         0.790994         0.209006        0.018019   \n",
       "39                40         0.789356         0.210644        0.026687   \n",
       "40                41         0.794342         0.205658        0.026032   \n",
       "41                42         0.790994         0.209006        0.023386   \n",
       "42                43         0.792619         0.207381        0.019554   \n",
       "43                44         0.780938         0.219062        0.023810   \n",
       "44                45         0.787633         0.212367        0.026628   \n",
       "45                46         0.780980         0.219020        0.025146   \n",
       "46                47         0.780966         0.219034        0.021042   \n",
       "48                49         0.777619         0.222381        0.018379   \n",
       "50                51         0.775938         0.224062        0.012995   \n",
       "52                53         0.775938         0.224062        0.009248   \n",
       "53                54         0.779286         0.220714        0.013208   \n",
       "54                55         0.777605         0.222395        0.011034   \n",
       "56                57         0.777619         0.222381        0.022523   \n",
       "58                59         0.775966         0.224034        0.022165   \n",
       "60                61         0.775938         0.224062        0.018330   \n",
       "64                65         0.775924         0.224076        0.029487   \n",
       "65                66         0.775924         0.224076        0.029487   \n",
       "66                67         0.777605         0.222395        0.029992   \n",
       "\n",
       "    rank_test_score  \n",
       "5                38  \n",
       "6                42  \n",
       "7                36  \n",
       "8                33  \n",
       "9                28  \n",
       "10               25  \n",
       "11               37  \n",
       "12               34  \n",
       "13               34  \n",
       "14               18  \n",
       "15               12  \n",
       "16               12  \n",
       "17               32  \n",
       "18               30  \n",
       "19               19  \n",
       "20               24  \n",
       "21                2  \n",
       "22               22  \n",
       "23                7  \n",
       "24                5  \n",
       "25                7  \n",
       "26               15  \n",
       "27               27  \n",
       "28               31  \n",
       "29               26  \n",
       "30                7  \n",
       "31                1  \n",
       "32                3  \n",
       "33                6  \n",
       "34               14  \n",
       "35                4  \n",
       "36               10  \n",
       "37               15  \n",
       "38               19  \n",
       "39               23  \n",
       "40               10  \n",
       "41               19  \n",
       "42               17  \n",
       "43               41  \n",
       "44               28  \n",
       "45               39  \n",
       "46               40  \n",
       "48               44  \n",
       "50               49  \n",
       "52               49  \n",
       "53               43  \n",
       "54               47  \n",
       "56               44  \n",
       "58               48  \n",
       "60               49  \n",
       "64               52  \n",
       "65               52  \n",
       "66               46  "
      ]
     },
     "execution_count": 24,
     "metadata": {},
     "output_type": "execute_result"
    }
   ],
   "source": [
    "modelos_una_std_gf, cota_std_gf = onestdRule(cv_results_gf)\n",
    "modelos_una_std_gf.loc[:, ['param_n_neighbors', 'mean_test_score', 'mean_test_error', 'std_test_score', 'rank_test_score']]"
   ]
  },
  {
   "cell_type": "markdown",
   "metadata": {},
   "source": [
    "Así, el modelo que habría que seleccionar según esta regla es el siguiente, con $K = 47$."
   ]
  },
  {
   "cell_type": "code",
   "execution_count": 25,
   "metadata": {},
   "outputs": [
    {
     "data": {
      "text/html": [
       "<div>\n",
       "<style scoped>\n",
       "    .dataframe tbody tr th:only-of-type {\n",
       "        vertical-align: middle;\n",
       "    }\n",
       "\n",
       "    .dataframe tbody tr th {\n",
       "        vertical-align: top;\n",
       "    }\n",
       "\n",
       "    .dataframe thead th {\n",
       "        text-align: right;\n",
       "    }\n",
       "</style>\n",
       "<table border=\"1\" class=\"dataframe\">\n",
       "  <thead>\n",
       "    <tr style=\"text-align: right;\">\n",
       "      <th></th>\n",
       "      <th>param_n_neighbors</th>\n",
       "      <th>mean_test_score</th>\n",
       "      <th>mean_test_error</th>\n",
       "      <th>std_test_score</th>\n",
       "      <th>rank_test_score</th>\n",
       "    </tr>\n",
       "  </thead>\n",
       "  <tbody>\n",
       "    <tr>\n",
       "      <th>46</th>\n",
       "      <td>47</td>\n",
       "      <td>0.780966</td>\n",
       "      <td>0.219034</td>\n",
       "      <td>0.021042</td>\n",
       "      <td>40</td>\n",
       "    </tr>\n",
       "  </tbody>\n",
       "</table>\n",
       "</div>"
      ],
      "text/plain": [
       "   param_n_neighbors  mean_test_score  mean_test_error  std_test_score  \\\n",
       "46                47         0.780966         0.219034        0.021042   \n",
       "\n",
       "    rank_test_score  \n",
       "46               40  "
      ]
     },
     "execution_count": 25,
     "metadata": {},
     "output_type": "execute_result"
    }
   ],
   "source": [
    "cv_results_una_std_gf = cv_results_gf[cv_results_gf['param_n_neighbors'] == 47]\n",
    "cv_results_una_std_gf.loc[:, ['param_n_neighbors', 'mean_test_score', 'mean_test_error', 'std_test_score', 'rank_test_score']]"
   ]
  },
  {
   "cell_type": "markdown",
   "metadata": {},
   "source": [
    "**Gráfica de entrenamiento**\n",
    "\n",
    "A continuación mostramos la gráfica del error de entrenamiento con validación cruzada frente al valor del hiperparámetro."
   ]
  },
  {
   "cell_type": "code",
   "execution_count": 26,
   "metadata": {},
   "outputs": [
    {
     "data": {
      "image/png": "[encoded data removed]",
      "text/plain": [
       "<Figure size 1440x720 with 1 Axes>"
      ]
     },
     "metadata": {
      "needs_background": "light"
     },
     "output_type": "display_data"
    }
   ],
   "source": [
    "fig_gf, ax_gf = plt.subplots(figsize=(20,10))\n",
    "ax_gf.set_title(\"Error de validacion\")\n",
    "ax_gf.set_xlabel(\"Número de vecinos (K)\")\n",
    "ax_gf.set_ylabel(\"Error de entrenamiento\")\n",
    "ax_gf.set_xticks(np.arange(1, 70, 1))\n",
    "\n",
    "errorVal(cv_results_gf, 'param_n_neighbors', ax_gf, cota_std = cota_std_gf)\n",
    "\n",
    "plt.savefig(\"ej2_1.pdf\", dpi=150)\n",
    "plt.show()"
   ]
  },
  {
   "cell_type": "markdown",
   "metadata": {},
   "source": [
    "Aquí podemos ver visualmente los resultados anteriores: el mejor modelo es para $K = 32$, mientras que el mejor modelo según la regla de una desviación estándar es para $K = 47$"
   ]
  },
  {
   "cell_type": "markdown",
   "metadata": {},
   "source": [
    "### Verificación de hiperparámetros en *test*"
   ]
  },
  {
   "cell_type": "markdown",
   "metadata": {},
   "source": [
    "Esto no se haría **JAMÁS** en una situación real. Pero como este es un ejemplo para aprender, vamos a ver cómo de lejos nos hemos quedado de los hiperparámetros \"ideales\". Hacemos un Grid Search utilizando el conjunto de entrenamiento al completo (80% de los datos) y nuestro conjunto de validación va a ser el conjunto de test (20% de los datos)."
   ]
  },
  {
   "cell_type": "code",
   "execution_count": 27,
   "metadata": {},
   "outputs": [
    {
     "data": {
      "text/plain": [
       "GridSearchCV(cv=PredefinedSplit(test_fold=array([-1, -1, ...,  0,  0])),\n",
       "             estimator=KNeighborsClassifier(),\n",
       "             param_grid={'n_neighbors': range(1, 70)}, return_train_score=True,\n",
       "             scoring='accuracy')"
      ]
     },
     "execution_count": 27,
     "metadata": {},
     "output_type": "execute_result"
    }
   ],
   "source": [
    "split_test_fold = [-1]*len(dataset_train_Y) + [0]*len(dataset_test_Y)\n",
    "ps = PredefinedSplit(test_fold=split_test_fold) # fijamos una particion de datos (forzamos al metodo a que particione como queremos)\n",
    "\n",
    "# Juntamos los conjuntos de entrenamiento y test, fingiendo que son un sólo conjunto de entrenamiento-validación\n",
    "dataset_all_X_scaled = np.vstack([dataset_train_X_scaled, dataset_test_X_scaled])\n",
    "dataset_all_Y = pd.concat([dataset_train_Y, dataset_test_Y])\n",
    "\n",
    "k_neigh = KNeighborsClassifier()\n",
    "modeloCV_test, cv_results_test = crossVal(dataset_all_X_scaled, dataset_all_Y, k_neigh, hyperparameters_gf, cv = ps)\n",
    "modeloCV_test"
   ]
  },
  {
   "cell_type": "markdown",
   "metadata": {},
   "source": [
    "Numéricamente, los mejores modelos son los siguientes:"
   ]
  },
  {
   "cell_type": "code",
   "execution_count": 28,
   "metadata": {},
   "outputs": [
    {
     "data": {
      "text/html": [
       "<div>\n",
       "<style scoped>\n",
       "    .dataframe tbody tr th:only-of-type {\n",
       "        vertical-align: middle;\n",
       "    }\n",
       "\n",
       "    .dataframe tbody tr th {\n",
       "        vertical-align: top;\n",
       "    }\n",
       "\n",
       "    .dataframe thead th {\n",
       "        text-align: right;\n",
       "    }\n",
       "</style>\n",
       "<table border=\"1\" class=\"dataframe\">\n",
       "  <thead>\n",
       "    <tr style=\"text-align: right;\">\n",
       "      <th></th>\n",
       "      <th>param_n_neighbors</th>\n",
       "      <th>mean_test_score</th>\n",
       "      <th>mean_test_error</th>\n",
       "      <th>rank_test_score</th>\n",
       "    </tr>\n",
       "  </thead>\n",
       "  <tbody>\n",
       "    <tr>\n",
       "      <th>22</th>\n",
       "      <td>23</td>\n",
       "      <td>0.800000</td>\n",
       "      <td>0.200000</td>\n",
       "      <td>1</td>\n",
       "    </tr>\n",
       "    <tr>\n",
       "      <th>24</th>\n",
       "      <td>25</td>\n",
       "      <td>0.800000</td>\n",
       "      <td>0.200000</td>\n",
       "      <td>1</td>\n",
       "    </tr>\n",
       "    <tr>\n",
       "      <th>16</th>\n",
       "      <td>17</td>\n",
       "      <td>0.800000</td>\n",
       "      <td>0.200000</td>\n",
       "      <td>1</td>\n",
       "    </tr>\n",
       "    <tr>\n",
       "      <th>21</th>\n",
       "      <td>22</td>\n",
       "      <td>0.793333</td>\n",
       "      <td>0.206667</td>\n",
       "      <td>4</td>\n",
       "    </tr>\n",
       "    <tr>\n",
       "      <th>20</th>\n",
       "      <td>21</td>\n",
       "      <td>0.793333</td>\n",
       "      <td>0.206667</td>\n",
       "      <td>4</td>\n",
       "    </tr>\n",
       "    <tr>\n",
       "      <th>23</th>\n",
       "      <td>24</td>\n",
       "      <td>0.793333</td>\n",
       "      <td>0.206667</td>\n",
       "      <td>4</td>\n",
       "    </tr>\n",
       "    <tr>\n",
       "      <th>29</th>\n",
       "      <td>30</td>\n",
       "      <td>0.793333</td>\n",
       "      <td>0.206667</td>\n",
       "      <td>4</td>\n",
       "    </tr>\n",
       "    <tr>\n",
       "      <th>18</th>\n",
       "      <td>19</td>\n",
       "      <td>0.793333</td>\n",
       "      <td>0.206667</td>\n",
       "      <td>4</td>\n",
       "    </tr>\n",
       "    <tr>\n",
       "      <th>5</th>\n",
       "      <td>6</td>\n",
       "      <td>0.793333</td>\n",
       "      <td>0.206667</td>\n",
       "      <td>4</td>\n",
       "    </tr>\n",
       "    <tr>\n",
       "      <th>32</th>\n",
       "      <td>33</td>\n",
       "      <td>0.793333</td>\n",
       "      <td>0.206667</td>\n",
       "      <td>4</td>\n",
       "    </tr>\n",
       "  </tbody>\n",
       "</table>\n",
       "</div>"
      ],
      "text/plain": [
       "   param_n_neighbors  mean_test_score  mean_test_error  rank_test_score\n",
       "22                23         0.800000         0.200000                1\n",
       "24                25         0.800000         0.200000                1\n",
       "16                17         0.800000         0.200000                1\n",
       "21                22         0.793333         0.206667                4\n",
       "20                21         0.793333         0.206667                4\n",
       "23                24         0.793333         0.206667                4\n",
       "29                30         0.793333         0.206667                4\n",
       "18                19         0.793333         0.206667                4\n",
       "5                  6         0.793333         0.206667                4\n",
       "32                33         0.793333         0.206667                4"
      ]
     },
     "execution_count": 28,
     "metadata": {},
     "output_type": "execute_result"
    }
   ],
   "source": [
    "cv_results_test.sort_values('rank_test_score')[['param_n_neighbors', 'mean_test_score', 'mean_test_error', 'rank_test_score']].head(10)"
   ]
  },
  {
   "cell_type": "markdown",
   "metadata": {},
   "source": [
    "Vemos que hay 3 modelos empatados a primer puesto. En este caso, nos interesaría el modelo más simple, es decir, el de un mayor número de vecinos. Concretamente, se seleccionaría $K = 25$. \n",
    "\n",
    "Ahora mostramos la gráfica del error de *test* frente al valor del hiperparámetro junto con la del error de entrenamiento, lo que permitirá comparar si la gráfica del error de entrenamiento con validación cruzada ha hecho una buena estimación del error de *test*."
   ]
  },
  {
   "cell_type": "code",
   "execution_count": 29,
   "metadata": {},
   "outputs": [
    {
     "data": {
      "image/png": "[encoded data removed]",
      "text/plain": [
       "<Figure size 1440x720 with 1 Axes>"
      ]
     },
     "metadata": {
      "needs_background": "light"
     },
     "output_type": "display_data"
    }
   ],
   "source": [
    "fig_test, ax_test = plt.subplots(figsize=(20, 10))\n",
    "ax_test.set_title(\"Error de validacion junto a error de test\")\n",
    "ax_test.set_xlabel(\"Número de vecinos (K)\")\n",
    "ax_test.set_ylabel(\"Error de entrenamiento\")\n",
    "ax_test.set_xticks(np.arange(1, 70, 1))\n",
    "\n",
    "errorVal(cv_results_gf, 'param_n_neighbors', ax_test, label = 'validation (uniform)')\n",
    "errorVal(cv_results_test, 'param_n_neighbors', ax_test, label = 'test (uniform)', color = 'navy')\n",
    "plt.savefig(\"ej2_2.pdf\", dpi=150)\n",
    "plt.show()"
   ]
  },
  {
   "cell_type": "markdown",
   "metadata": {},
   "source": [
    "El error de *test* para el valor del hiperparámetro seleccionado por la validación cruzada será:"
   ]
  },
  {
   "cell_type": "code",
   "execution_count": 30,
   "metadata": {},
   "outputs": [
    {
     "data": {
      "text/html": [
       "<div>\n",
       "<style scoped>\n",
       "    .dataframe tbody tr th:only-of-type {\n",
       "        vertical-align: middle;\n",
       "    }\n",
       "\n",
       "    .dataframe tbody tr th {\n",
       "        vertical-align: top;\n",
       "    }\n",
       "\n",
       "    .dataframe thead th {\n",
       "        text-align: right;\n",
       "    }\n",
       "</style>\n",
       "<table border=\"1\" class=\"dataframe\">\n",
       "  <thead>\n",
       "    <tr style=\"text-align: right;\">\n",
       "      <th></th>\n",
       "      <th>param_n_neighbors</th>\n",
       "      <th>mean_test_score</th>\n",
       "      <th>mean_test_error</th>\n",
       "      <th>std_test_score</th>\n",
       "      <th>rank_test_score</th>\n",
       "    </tr>\n",
       "  </thead>\n",
       "  <tbody>\n",
       "    <tr>\n",
       "      <th>31</th>\n",
       "      <td>32</td>\n",
       "      <td>0.786667</td>\n",
       "      <td>0.213333</td>\n",
       "      <td>0.0</td>\n",
       "      <td>12</td>\n",
       "    </tr>\n",
       "  </tbody>\n",
       "</table>\n",
       "</div>"
      ],
      "text/plain": [
       "   param_n_neighbors  mean_test_score  mean_test_error  std_test_score  \\\n",
       "31                32         0.786667         0.213333             0.0   \n",
       "\n",
       "    rank_test_score  \n",
       "31               12  "
      ]
     },
     "execution_count": 30,
     "metadata": {},
     "output_type": "execute_result"
    }
   ],
   "source": [
    "best_cv_results_test = cv_results_test[cv_results_test['param_n_neighbors'] == 32]\n",
    "best_cv_results_test.loc[:, ['param_n_neighbors', 'mean_test_score', 'mean_test_error', 'std_test_score', 'rank_test_score']]"
   ]
  },
  {
   "cell_type": "markdown",
   "metadata": {},
   "source": [
    "### Evaluación del modelo con datos de *test*"
   ]
  },
  {
   "cell_type": "markdown",
   "metadata": {},
   "source": [
    "A continuación, usamos los datos de *test* para hacer predicciones. Usamos el `GridSearch` de grano fino."
   ]
  },
  {
   "cell_type": "code",
   "execution_count": 31,
   "metadata": {},
   "outputs": [],
   "source": [
    "Z = modeloCV_gf.predict(dataset_test_X_scaled)"
   ]
  },
  {
   "cell_type": "markdown",
   "metadata": {},
   "source": [
    "Para evaluar las predicciones del modelo, usaremos una matriz de confusión junto con el propio reporte de clasificación. Creamos una función que, dados los valores reales y los predichos, nos da toda la información necesaria"
   ]
  },
  {
   "cell_type": "code",
   "execution_count": 32,
   "metadata": {},
   "outputs": [],
   "source": [
    "from sklearn.metrics import classification_report, confusion_matrix\n",
    "import seaborn as sns\n",
    "\n",
    "def evaluacion(y_true, y_pred):\n",
    "    print(f\"Accuracy: {accuracy_score(y_true, y_pred):.4f}\", end='. ')\n",
    "    print(f\"Error: {1 - accuracy_score(y_true, y_pred):.4f}\")\n",
    "    print(\"\\nReporte de clasificación:\")\n",
    "    print(classification_report(y_true, y_pred))\n",
    "    # Calcular matriz de confusión\n",
    "    cm = confusion_matrix(y_true, y_pred)\n",
    "\n",
    "    # Crear visualización\n",
    "    fig, ax = plt.subplots(figsize=(6, 4))\n",
    "    sns.heatmap(cm, annot=True, fmt='d', cmap='Blues', ax=ax)\n",
    "    ax.set_title('Matriz de Confusión')\n",
    "    ax.set_xlabel('Predicción')\n",
    "    ax.set_ylabel('Valor Real')\n",
    "    plt.show()\n",
    "    return "
   ]
  },
  {
   "cell_type": "code",
   "execution_count": 33,
   "metadata": {},
   "outputs": [
    {
     "name": "stdout",
     "output_type": "stream",
     "text": [
      "Accuracy: 0.7867. Error: 0.2133\n",
      "\n",
      "Reporte de clasificación:\n",
      "              precision    recall  f1-score   support\n",
      "\n",
      "         0.0       0.81      0.95      0.87       114\n",
      "         1.0       0.62      0.28      0.38        36\n",
      "\n",
      "    accuracy                           0.79       150\n",
      "   macro avg       0.72      0.61      0.63       150\n",
      "weighted avg       0.76      0.79      0.75       150\n",
      "\n"
     ]
    },
    {
     "data": {
      "image/png": "[encoded data removed]",
      "text/plain": [
       "<Figure size 432x288 with 2 Axes>"
      ]
     },
     "metadata": {
      "needs_background": "light"
     },
     "output_type": "display_data"
    }
   ],
   "source": [
    "evaluacion(dataset_test_Y, Z)"
   ]
  },
  {
   "cell_type": "markdown",
   "metadata": {},
   "source": [
    "# Ejercicio 3"
   ]
  },
  {
   "cell_type": "markdown",
   "metadata": {},
   "source": [
    "**Definición de variables globales**"
   ]
  },
  {
   "cell_type": "code",
   "execution_count": 34,
   "metadata": {},
   "outputs": [],
   "source": [
    "DATASET_NAME3 = 'EnergyEfficiency.data'"
   ]
  },
  {
   "cell_type": "markdown",
   "metadata": {},
   "source": [
    "**Lectura del fichero de datos**"
   ]
  },
  {
   "cell_type": "code",
   "execution_count": 35,
   "metadata": {},
   "outputs": [
    {
     "data": {
      "text/html": [
       "<div>\n",
       "<style scoped>\n",
       "    .dataframe tbody tr th:only-of-type {\n",
       "        vertical-align: middle;\n",
       "    }\n",
       "\n",
       "    .dataframe tbody tr th {\n",
       "        vertical-align: top;\n",
       "    }\n",
       "\n",
       "    .dataframe thead th {\n",
       "        text-align: right;\n",
       "    }\n",
       "</style>\n",
       "<table border=\"1\" class=\"dataframe\">\n",
       "  <thead>\n",
       "    <tr style=\"text-align: right;\">\n",
       "      <th></th>\n",
       "      <th>X1</th>\n",
       "      <th>X2</th>\n",
       "      <th>X3</th>\n",
       "      <th>X4</th>\n",
       "      <th>X5</th>\n",
       "      <th>X6</th>\n",
       "      <th>X7</th>\n",
       "      <th>X8</th>\n",
       "      <th>Y2</th>\n",
       "    </tr>\n",
       "  </thead>\n",
       "  <tbody>\n",
       "    <tr>\n",
       "      <th>0</th>\n",
       "      <td>0.98</td>\n",
       "      <td>514.5</td>\n",
       "      <td>294.0</td>\n",
       "      <td>110.25</td>\n",
       "      <td>7.0</td>\n",
       "      <td>2</td>\n",
       "      <td>0.0</td>\n",
       "      <td>0</td>\n",
       "      <td>21.33</td>\n",
       "    </tr>\n",
       "    <tr>\n",
       "      <th>1</th>\n",
       "      <td>0.98</td>\n",
       "      <td>514.5</td>\n",
       "      <td>294.0</td>\n",
       "      <td>110.25</td>\n",
       "      <td>7.0</td>\n",
       "      <td>3</td>\n",
       "      <td>0.0</td>\n",
       "      <td>0</td>\n",
       "      <td>21.33</td>\n",
       "    </tr>\n",
       "    <tr>\n",
       "      <th>2</th>\n",
       "      <td>0.98</td>\n",
       "      <td>514.5</td>\n",
       "      <td>294.0</td>\n",
       "      <td>110.25</td>\n",
       "      <td>7.0</td>\n",
       "      <td>4</td>\n",
       "      <td>0.0</td>\n",
       "      <td>0</td>\n",
       "      <td>21.33</td>\n",
       "    </tr>\n",
       "    <tr>\n",
       "      <th>3</th>\n",
       "      <td>0.98</td>\n",
       "      <td>514.5</td>\n",
       "      <td>294.0</td>\n",
       "      <td>110.25</td>\n",
       "      <td>7.0</td>\n",
       "      <td>5</td>\n",
       "      <td>0.0</td>\n",
       "      <td>0</td>\n",
       "      <td>21.33</td>\n",
       "    </tr>\n",
       "    <tr>\n",
       "      <th>4</th>\n",
       "      <td>0.90</td>\n",
       "      <td>563.5</td>\n",
       "      <td>318.5</td>\n",
       "      <td>122.50</td>\n",
       "      <td>7.0</td>\n",
       "      <td>2</td>\n",
       "      <td>0.0</td>\n",
       "      <td>0</td>\n",
       "      <td>28.28</td>\n",
       "    </tr>\n",
       "    <tr>\n",
       "      <th>...</th>\n",
       "      <td>...</td>\n",
       "      <td>...</td>\n",
       "      <td>...</td>\n",
       "      <td>...</td>\n",
       "      <td>...</td>\n",
       "      <td>...</td>\n",
       "      <td>...</td>\n",
       "      <td>...</td>\n",
       "      <td>...</td>\n",
       "    </tr>\n",
       "    <tr>\n",
       "      <th>763</th>\n",
       "      <td>0.64</td>\n",
       "      <td>784.0</td>\n",
       "      <td>343.0</td>\n",
       "      <td>220.50</td>\n",
       "      <td>3.5</td>\n",
       "      <td>5</td>\n",
       "      <td>0.4</td>\n",
       "      <td>5</td>\n",
       "      <td>21.40</td>\n",
       "    </tr>\n",
       "    <tr>\n",
       "      <th>764</th>\n",
       "      <td>0.62</td>\n",
       "      <td>808.5</td>\n",
       "      <td>367.5</td>\n",
       "      <td>220.50</td>\n",
       "      <td>3.5</td>\n",
       "      <td>2</td>\n",
       "      <td>0.4</td>\n",
       "      <td>5</td>\n",
       "      <td>16.88</td>\n",
       "    </tr>\n",
       "    <tr>\n",
       "      <th>765</th>\n",
       "      <td>0.62</td>\n",
       "      <td>808.5</td>\n",
       "      <td>367.5</td>\n",
       "      <td>220.50</td>\n",
       "      <td>3.5</td>\n",
       "      <td>3</td>\n",
       "      <td>0.4</td>\n",
       "      <td>5</td>\n",
       "      <td>17.11</td>\n",
       "    </tr>\n",
       "    <tr>\n",
       "      <th>766</th>\n",
       "      <td>0.62</td>\n",
       "      <td>808.5</td>\n",
       "      <td>367.5</td>\n",
       "      <td>220.50</td>\n",
       "      <td>3.5</td>\n",
       "      <td>4</td>\n",
       "      <td>0.4</td>\n",
       "      <td>5</td>\n",
       "      <td>16.61</td>\n",
       "    </tr>\n",
       "    <tr>\n",
       "      <th>767</th>\n",
       "      <td>0.62</td>\n",
       "      <td>808.5</td>\n",
       "      <td>367.5</td>\n",
       "      <td>220.50</td>\n",
       "      <td>3.5</td>\n",
       "      <td>5</td>\n",
       "      <td>0.4</td>\n",
       "      <td>5</td>\n",
       "      <td>16.03</td>\n",
       "    </tr>\n",
       "  </tbody>\n",
       "</table>\n",
       "<p>768 rows × 9 columns</p>\n",
       "</div>"
      ],
      "text/plain": [
       "       X1     X2     X3      X4   X5  X6   X7  X8     Y2\n",
       "0    0.98  514.5  294.0  110.25  7.0   2  0.0   0  21.33\n",
       "1    0.98  514.5  294.0  110.25  7.0   3  0.0   0  21.33\n",
       "2    0.98  514.5  294.0  110.25  7.0   4  0.0   0  21.33\n",
       "3    0.98  514.5  294.0  110.25  7.0   5  0.0   0  21.33\n",
       "4    0.90  563.5  318.5  122.50  7.0   2  0.0   0  28.28\n",
       "..    ...    ...    ...     ...  ...  ..  ...  ..    ...\n",
       "763  0.64  784.0  343.0  220.50  3.5   5  0.4   5  21.40\n",
       "764  0.62  808.5  367.5  220.50  3.5   2  0.4   5  16.88\n",
       "765  0.62  808.5  367.5  220.50  3.5   3  0.4   5  17.11\n",
       "766  0.62  808.5  367.5  220.50  3.5   4  0.4   5  16.61\n",
       "767  0.62  808.5  367.5  220.50  3.5   5  0.4   5  16.03\n",
       "\n",
       "[768 rows x 9 columns]"
      ]
     },
     "execution_count": 35,
     "metadata": {},
     "output_type": "execute_result"
    }
   ],
   "source": [
    "dataset3 = pd.read_csv(DATASET_NAME3, \n",
    "                      delimiter=DATASET_DELIMITER,\n",
    "                      skiprows=1, # la primera fila no contiene datos\n",
    "                      header=None,\n",
    "                      names = [\"X1\", \"X2\", \"X3\", \"X4\", \"X5\", \"X6\", \"X7\", \"X8\", \"Y2\"])\n",
    "dataset3"
   ]
  },
  {
   "cell_type": "markdown",
   "metadata": {},
   "source": [
    "**Exploración de los datos**\n",
    "\n",
    "A continuación, vemos si hay valores perdidos en nuestro conjunto de datos (en caso afirmativo, haremos el tratamiento más adelante). Visualizamos también estadísticas descriptivas de las variables predictoras. "
   ]
  },
  {
   "cell_type": "code",
   "execution_count": 36,
   "metadata": {},
   "outputs": [
    {
     "name": "stdout",
     "output_type": "stream",
     "text": [
      "Valores faltantes: \n",
      "X1    0\n",
      "X2    0\n",
      "X3    0\n",
      "X4    0\n",
      "X5    0\n",
      "X6    0\n",
      "X7    0\n",
      "X8    0\n",
      "Y2    0\n",
      "dtype: int64\n",
      "\n",
      "Estadísticas de los predictores y la variable dependiente:\n"
     ]
    },
    {
     "data": {
      "text/html": [
       "<div>\n",
       "<style scoped>\n",
       "    .dataframe tbody tr th:only-of-type {\n",
       "        vertical-align: middle;\n",
       "    }\n",
       "\n",
       "    .dataframe tbody tr th {\n",
       "        vertical-align: top;\n",
       "    }\n",
       "\n",
       "    .dataframe thead th {\n",
       "        text-align: right;\n",
       "    }\n",
       "</style>\n",
       "<table border=\"1\" class=\"dataframe\">\n",
       "  <thead>\n",
       "    <tr style=\"text-align: right;\">\n",
       "      <th></th>\n",
       "      <th>X1</th>\n",
       "      <th>X2</th>\n",
       "      <th>X3</th>\n",
       "      <th>X4</th>\n",
       "      <th>X5</th>\n",
       "      <th>X6</th>\n",
       "      <th>X7</th>\n",
       "      <th>X8</th>\n",
       "      <th>Y2</th>\n",
       "    </tr>\n",
       "  </thead>\n",
       "  <tbody>\n",
       "    <tr>\n",
       "      <th>count</th>\n",
       "      <td>768.000000</td>\n",
       "      <td>768.000000</td>\n",
       "      <td>768.000000</td>\n",
       "      <td>768.000000</td>\n",
       "      <td>768.00000</td>\n",
       "      <td>768.000000</td>\n",
       "      <td>768.000000</td>\n",
       "      <td>768.00000</td>\n",
       "      <td>768.000000</td>\n",
       "    </tr>\n",
       "    <tr>\n",
       "      <th>mean</th>\n",
       "      <td>0.764167</td>\n",
       "      <td>671.708333</td>\n",
       "      <td>318.500000</td>\n",
       "      <td>176.604167</td>\n",
       "      <td>5.25000</td>\n",
       "      <td>3.500000</td>\n",
       "      <td>0.234375</td>\n",
       "      <td>2.81250</td>\n",
       "      <td>24.587760</td>\n",
       "    </tr>\n",
       "    <tr>\n",
       "      <th>std</th>\n",
       "      <td>0.105777</td>\n",
       "      <td>88.086116</td>\n",
       "      <td>43.626481</td>\n",
       "      <td>45.165950</td>\n",
       "      <td>1.75114</td>\n",
       "      <td>1.118763</td>\n",
       "      <td>0.133221</td>\n",
       "      <td>1.55096</td>\n",
       "      <td>9.513306</td>\n",
       "    </tr>\n",
       "    <tr>\n",
       "      <th>min</th>\n",
       "      <td>0.620000</td>\n",
       "      <td>514.500000</td>\n",
       "      <td>245.000000</td>\n",
       "      <td>110.250000</td>\n",
       "      <td>3.50000</td>\n",
       "      <td>2.000000</td>\n",
       "      <td>0.000000</td>\n",
       "      <td>0.00000</td>\n",
       "      <td>10.900000</td>\n",
       "    </tr>\n",
       "    <tr>\n",
       "      <th>25%</th>\n",
       "      <td>0.682500</td>\n",
       "      <td>606.375000</td>\n",
       "      <td>294.000000</td>\n",
       "      <td>140.875000</td>\n",
       "      <td>3.50000</td>\n",
       "      <td>2.750000</td>\n",
       "      <td>0.100000</td>\n",
       "      <td>1.75000</td>\n",
       "      <td>15.620000</td>\n",
       "    </tr>\n",
       "    <tr>\n",
       "      <th>50%</th>\n",
       "      <td>0.750000</td>\n",
       "      <td>673.750000</td>\n",
       "      <td>318.500000</td>\n",
       "      <td>183.750000</td>\n",
       "      <td>5.25000</td>\n",
       "      <td>3.500000</td>\n",
       "      <td>0.250000</td>\n",
       "      <td>3.00000</td>\n",
       "      <td>22.080000</td>\n",
       "    </tr>\n",
       "    <tr>\n",
       "      <th>75%</th>\n",
       "      <td>0.830000</td>\n",
       "      <td>741.125000</td>\n",
       "      <td>343.000000</td>\n",
       "      <td>220.500000</td>\n",
       "      <td>7.00000</td>\n",
       "      <td>4.250000</td>\n",
       "      <td>0.400000</td>\n",
       "      <td>4.00000</td>\n",
       "      <td>33.132500</td>\n",
       "    </tr>\n",
       "    <tr>\n",
       "      <th>max</th>\n",
       "      <td>0.980000</td>\n",
       "      <td>808.500000</td>\n",
       "      <td>416.500000</td>\n",
       "      <td>220.500000</td>\n",
       "      <td>7.00000</td>\n",
       "      <td>5.000000</td>\n",
       "      <td>0.400000</td>\n",
       "      <td>5.00000</td>\n",
       "      <td>48.030000</td>\n",
       "    </tr>\n",
       "  </tbody>\n",
       "</table>\n",
       "</div>"
      ],
      "text/plain": [
       "               X1          X2          X3          X4         X5          X6  \\\n",
       "count  768.000000  768.000000  768.000000  768.000000  768.00000  768.000000   \n",
       "mean     0.764167  671.708333  318.500000  176.604167    5.25000    3.500000   \n",
       "std      0.105777   88.086116   43.626481   45.165950    1.75114    1.118763   \n",
       "min      0.620000  514.500000  245.000000  110.250000    3.50000    2.000000   \n",
       "25%      0.682500  606.375000  294.000000  140.875000    3.50000    2.750000   \n",
       "50%      0.750000  673.750000  318.500000  183.750000    5.25000    3.500000   \n",
       "75%      0.830000  741.125000  343.000000  220.500000    7.00000    4.250000   \n",
       "max      0.980000  808.500000  416.500000  220.500000    7.00000    5.000000   \n",
       "\n",
       "               X7         X8          Y2  \n",
       "count  768.000000  768.00000  768.000000  \n",
       "mean     0.234375    2.81250   24.587760  \n",
       "std      0.133221    1.55096    9.513306  \n",
       "min      0.000000    0.00000   10.900000  \n",
       "25%      0.100000    1.75000   15.620000  \n",
       "50%      0.250000    3.00000   22.080000  \n",
       "75%      0.400000    4.00000   33.132500  \n",
       "max      0.400000    5.00000   48.030000  "
      ]
     },
     "execution_count": 36,
     "metadata": {},
     "output_type": "execute_result"
    }
   ],
   "source": [
    "print(f\"Valores faltantes: \\n{dataset3.isnull().sum()}\\n\")\n",
    "print(\"Estadísticas de los predictores y la variable dependiente:\")\n",
    "dataset3.describe()"
   ]
  },
  {
   "cell_type": "markdown",
   "metadata": {},
   "source": [
    "El fichero contiene 9 variables y 748 observaciones distintas. Las variables predictoras son `X1`, `X2`, `X3`, `X4`, `X5`, `X6`, `X7`, `X8`, y la variable dependiente sería `Y2`. Estamos ante un problema de regresión, dada la naturaleza continua de `Y2`."
   ]
  },
  {
   "cell_type": "markdown",
   "metadata": {},
   "source": [
    "**Visualización de los datos**"
   ]
  },
  {
   "cell_type": "markdown",
   "metadata": {},
   "source": [
    "Muchas variables, si bien cuantitativas, solo discretas, por lo que esperamos gran superposición de los puntos al representar las relaciones por pares."
   ]
  },
  {
   "cell_type": "code",
   "execution_count": 37,
   "metadata": {},
   "outputs": [
    {
     "name": "stdout",
     "output_type": "stream",
     "text": [
      "Correlación numérica entre las variables: \n",
      "              X1            X2            X3            X4            X5  \\\n",
      "X1  1.000000e+00 -9.919015e-01 -2.037817e-01 -8.688234e-01  8.277473e-01   \n",
      "X2 -9.919015e-01  1.000000e+00  1.955016e-01  8.807195e-01 -8.581477e-01   \n",
      "X3 -2.037817e-01  1.955016e-01  1.000000e+00 -2.923165e-01  2.809757e-01   \n",
      "X4 -8.688234e-01  8.807195e-01 -2.923165e-01  1.000000e+00 -9.725122e-01   \n",
      "X5  8.277473e-01 -8.581477e-01  2.809757e-01 -9.725122e-01  1.000000e+00   \n",
      "X6  0.000000e+00  0.000000e+00  0.000000e+00  0.000000e+00  0.000000e+00   \n",
      "X7  1.283986e-17  1.318356e-16 -7.969726e-19 -1.381805e-16  1.861418e-18   \n",
      "X8  1.764620e-17 -3.558613e-16  0.000000e+00 -1.079129e-16  0.000000e+00   \n",
      "Y2  6.343391e-01 -6.729989e-01  4.271170e-01 -8.625466e-01  8.957852e-01   \n",
      "\n",
      "         X6            X7            X8        Y2  \n",
      "X1  0.00000  1.283986e-17  1.764620e-17  0.634339  \n",
      "X2  0.00000  1.318356e-16 -3.558613e-16 -0.672999  \n",
      "X3  0.00000 -7.969726e-19  0.000000e+00  0.427117  \n",
      "X4  0.00000 -1.381805e-16 -1.079129e-16 -0.862547  \n",
      "X5  0.00000  1.861418e-18  0.000000e+00  0.895785  \n",
      "X6  1.00000  0.000000e+00  0.000000e+00  0.014290  \n",
      "X7  0.00000  1.000000e+00  2.129642e-01  0.207505  \n",
      "X8  0.00000  2.129642e-01  1.000000e+00  0.050525  \n",
      "Y2  0.01429  2.075050e-01  5.052512e-02  1.000000  \n"
     ]
    },
    {
     "name": "stderr",
     "output_type": "stream",
     "text": [
      "/mnt/netapp1/Optcesga_FT2_RHEL7/2020/gentoo/22072020/usr/lib/python3.7/site-packages/ipykernel_launcher.py:10: RuntimeWarning: More than 20 figures have been opened. Figures created through the pyplot interface (`matplotlib.pyplot.figure`) are retained until explicitly closed and may consume too much memory. (To control this warning, see the rcParam `figure.max_open_warning`).\n",
      "  # Remove the CWD from sys.path while we load stuff.\n"
     ]
    },
    {
     "data": {
      "image/png": "[encoded data removed]",
      "text/plain": [
       "<Figure size 432x288 with 1 Axes>"
      ]
     },
     "metadata": {
      "needs_background": "light"
     },
     "output_type": "display_data"
    },
    {
     "data": {
      "image/png": "[encoded data removed]",
      "text/plain": [
       "<Figure size 432x288 with 1 Axes>"
      ]
     },
     "metadata": {
      "needs_background": "light"
     },
     "output_type": "display_data"
    },
    {
     "data": {
      "image/png": "[encoded data removed]",
      "text/plain": [
       "<Figure size 432x288 with 1 Axes>"
      ]
     },
     "metadata": {
      "needs_background": "light"
     },
     "output_type": "display_data"
    },
    {
     "data": {
      "image/png": "[encoded data removed]",
      "text/plain": [
       "<Figure size 432x288 with 1 Axes>"
      ]
     },
     "metadata": {
      "needs_background": "light"
     },
     "output_type": "display_data"
    },
    {
     "data": {
      "image/png": "[encoded data removed]",
      "text/plain": [
       "<Figure size 432x288 with 1 Axes>"
      ]
     },
     "metadata": {
      "needs_background": "light"
     },
     "output_type": "display_data"
    },
    {
     "data": {
      "image/png": "[encoded data removed]",
      "text/plain": [
       "<Figure size 432x288 with 1 Axes>"
      ]
     },
     "metadata": {
      "needs_background": "light"
     },
     "output_type": "display_data"
    },
    {
     "data": {
      "image/png": "[encoded data removed]",
      "text/plain": [
       "<Figure size 432x288 with 1 Axes>"
      ]
     },
     "metadata": {
      "needs_background": "light"
     },
     "output_type": "display_data"
    },
    {
     "data": {
      "image/png": "[encoded data removed]",
      "text/plain": [
       "<Figure size 432x288 with 1 Axes>"
      ]
     },
     "metadata": {
      "needs_background": "light"
     },
     "output_type": "display_data"
    },
    {
     "data": {
      "image/png": "[encoded data removed]",
      "text/plain": [
       "<Figure size 432x288 with 1 Axes>"
      ]
     },
     "metadata": {
      "needs_background": "light"
     },
     "output_type": "display_data"
    },
    {
     "data": {
      "image/png": "[encoded data removed]",
      "text/plain": [
       "<Figure size 432x288 with 1 Axes>"
      ]
     },
     "metadata": {
      "needs_background": "light"
     },
     "output_type": "display_data"
    },
    {
     "data": {
      "image/png": "[encoded data removed]",
      "text/plain": [
       "<Figure size 432x288 with 1 Axes>"
      ]
     },
     "metadata": {
      "needs_background": "light"
     },
     "output_type": "display_data"
    },
    {
     "data": {
      "image/png": "[encoded data removed]",
      "text/plain": [
       "<Figure size 432x288 with 1 Axes>"
      ]
     },
     "metadata": {
      "needs_background": "light"
     },
     "output_type": "display_data"
    },
    {
     "data": {
      "image/png": "[encoded data removed]",
      "text/plain": [
       "<Figure size 432x288 with 1 Axes>"
      ]
     },
     "metadata": {
      "needs_background": "light"
     },
     "output_type": "display_data"
    },
    {
     "data": {
      "image/png": "[encoded data removed]",
      "text/plain": [
       "<Figure size 432x288 with 1 Axes>"
      ]
     },
     "metadata": {
      "needs_background": "light"
     },
     "output_type": "display_data"
    },
    {
     "data": {
      "image/png": "[encoded data removed]",
      "text/plain": [
       "<Figure size 432x288 with 1 Axes>"
      ]
     },
     "metadata": {
      "needs_background": "light"
     },
     "output_type": "display_data"
    },
    {
     "data": {
      "image/png": "[encoded data removed]",
      "text/plain": [
       "<Figure size 432x288 with 1 Axes>"
      ]
     },
     "metadata": {
      "needs_background": "light"
     },
     "output_type": "display_data"
    },
    {
     "data": {
      "image/png": "[encoded data removed]",
      "text/plain": [
       "<Figure size 432x288 with 1 Axes>"
      ]
     },
     "metadata": {
      "needs_background": "light"
     },
     "output_type": "display_data"
    },
    {
     "data": {
      "image/png": "[encoded data removed]",
      "text/plain": [
       "<Figure size 432x288 with 1 Axes>"
      ]
     },
     "metadata": {
      "needs_background": "light"
     },
     "output_type": "display_data"
    },
    {
     "data": {
      "image/png": "[encoded data removed]",
      "text/plain": [
       "<Figure size 432x288 with 1 Axes>"
      ]
     },
     "metadata": {
      "needs_background": "light"
     },
     "output_type": "display_data"
    },
    {
     "data": {
      "image/png": "[encoded data removed]",
      "text/plain": [
       "<Figure size 432x288 with 1 Axes>"
      ]
     },
     "metadata": {
      "needs_background": "light"
     },
     "output_type": "display_data"
    },
    {
     "data": {
      "image/png": "[encoded data removed]",
      "text/plain": [
       "<Figure size 432x288 with 1 Axes>"
      ]
     },
     "metadata": {
      "needs_background": "light"
     },
     "output_type": "display_data"
    },
    {
     "data": {
      "image/png": "[encoded data removed]",
      "text/plain": [
       "<Figure size 432x288 with 1 Axes>"
      ]
     },
     "metadata": {
      "needs_background": "light"
     },
     "output_type": "display_data"
    },
    {
     "data": {
      "image/png": "[encoded data removed]",
      "text/plain": [
       "<Figure size 432x288 with 1 Axes>"
      ]
     },
     "metadata": {
      "needs_background": "light"
     },
     "output_type": "display_data"
    },
    {
     "data": {
      "image/png": "[encoded data removed]",
      "text/plain": [
       "<Figure size 432x288 with 1 Axes>"
      ]
     },
     "metadata": {
      "needs_background": "light"
     },
     "output_type": "display_data"
    },
    {
     "data": {
      "image/png": "[encoded data removed]",
      "text/plain": [
       "<Figure size 432x288 with 1 Axes>"
      ]
     },
     "metadata": {
      "needs_background": "light"
     },
     "output_type": "display_data"
    },
    {
     "data": {
      "image/png": "[encoded data removed]",
      "text/plain": [
       "<Figure size 432x288 with 1 Axes>"
      ]
     },
     "metadata": {
      "needs_background": "light"
     },
     "output_type": "display_data"
    },
    {
     "data": {
      "image/png": "[encoded data removed]",
      "text/plain": [
       "<Figure size 432x288 with 1 Axes>"
      ]
     },
     "metadata": {
      "needs_background": "light"
     },
     "output_type": "display_data"
    },
    {
     "data": {
      "image/png": "[encoded data removed]",
      "text/plain": [
       "<Figure size 432x288 with 1 Axes>"
      ]
     },
     "metadata": {
      "needs_background": "light"
     },
     "output_type": "display_data"
    }
   ],
   "source": [
    "distPares(dataset3)"
   ]
  },
  {
   "cell_type": "markdown",
   "metadata": {},
   "source": [
    "### División de los datos en entrenamiento (80%) y test (20%)\n",
    "\n",
    "Para la división de datos entre entrenamiento (80%) y test (20%) usamos `train_test_split`."
   ]
  },
  {
   "cell_type": "code",
   "execution_count": 38,
   "metadata": {},
   "outputs": [
    {
     "data": {
      "text/html": [
       "<div>\n",
       "<style scoped>\n",
       "    .dataframe tbody tr th:only-of-type {\n",
       "        vertical-align: middle;\n",
       "    }\n",
       "\n",
       "    .dataframe tbody tr th {\n",
       "        vertical-align: top;\n",
       "    }\n",
       "\n",
       "    .dataframe thead th {\n",
       "        text-align: right;\n",
       "    }\n",
       "</style>\n",
       "<table border=\"1\" class=\"dataframe\">\n",
       "  <thead>\n",
       "    <tr style=\"text-align: right;\">\n",
       "      <th></th>\n",
       "      <th>X1</th>\n",
       "      <th>X2</th>\n",
       "      <th>X3</th>\n",
       "      <th>X4</th>\n",
       "      <th>X5</th>\n",
       "      <th>X6</th>\n",
       "      <th>X7</th>\n",
       "      <th>X8</th>\n",
       "      <th>Y2</th>\n",
       "    </tr>\n",
       "  </thead>\n",
       "  <tbody>\n",
       "    <tr>\n",
       "      <th>285</th>\n",
       "      <td>0.62</td>\n",
       "      <td>808.5</td>\n",
       "      <td>367.5</td>\n",
       "      <td>220.5</td>\n",
       "      <td>3.5</td>\n",
       "      <td>3</td>\n",
       "      <td>0.10</td>\n",
       "      <td>5</td>\n",
       "      <td>13.97</td>\n",
       "    </tr>\n",
       "    <tr>\n",
       "      <th>101</th>\n",
       "      <td>0.90</td>\n",
       "      <td>563.5</td>\n",
       "      <td>318.5</td>\n",
       "      <td>122.5</td>\n",
       "      <td>7.0</td>\n",
       "      <td>3</td>\n",
       "      <td>0.10</td>\n",
       "      <td>2</td>\n",
       "      <td>29.44</td>\n",
       "    </tr>\n",
       "    <tr>\n",
       "      <th>581</th>\n",
       "      <td>0.90</td>\n",
       "      <td>563.5</td>\n",
       "      <td>318.5</td>\n",
       "      <td>122.5</td>\n",
       "      <td>7.0</td>\n",
       "      <td>3</td>\n",
       "      <td>0.40</td>\n",
       "      <td>2</td>\n",
       "      <td>35.39</td>\n",
       "    </tr>\n",
       "    <tr>\n",
       "      <th>352</th>\n",
       "      <td>0.79</td>\n",
       "      <td>637.0</td>\n",
       "      <td>343.0</td>\n",
       "      <td>147.0</td>\n",
       "      <td>7.0</td>\n",
       "      <td>2</td>\n",
       "      <td>0.25</td>\n",
       "      <td>2</td>\n",
       "      <td>43.86</td>\n",
       "    </tr>\n",
       "    <tr>\n",
       "      <th>726</th>\n",
       "      <td>0.90</td>\n",
       "      <td>563.5</td>\n",
       "      <td>318.5</td>\n",
       "      <td>122.5</td>\n",
       "      <td>7.0</td>\n",
       "      <td>4</td>\n",
       "      <td>0.40</td>\n",
       "      <td>5</td>\n",
       "      <td>38.79</td>\n",
       "    </tr>\n",
       "    <tr>\n",
       "      <th>...</th>\n",
       "      <td>...</td>\n",
       "      <td>...</td>\n",
       "      <td>...</td>\n",
       "      <td>...</td>\n",
       "      <td>...</td>\n",
       "      <td>...</td>\n",
       "      <td>...</td>\n",
       "      <td>...</td>\n",
       "      <td>...</td>\n",
       "    </tr>\n",
       "    <tr>\n",
       "      <th>563</th>\n",
       "      <td>0.69</td>\n",
       "      <td>735.0</td>\n",
       "      <td>294.0</td>\n",
       "      <td>220.5</td>\n",
       "      <td>3.5</td>\n",
       "      <td>5</td>\n",
       "      <td>0.40</td>\n",
       "      <td>1</td>\n",
       "      <td>17.20</td>\n",
       "    </tr>\n",
       "    <tr>\n",
       "      <th>318</th>\n",
       "      <td>0.71</td>\n",
       "      <td>710.5</td>\n",
       "      <td>269.5</td>\n",
       "      <td>220.5</td>\n",
       "      <td>3.5</td>\n",
       "      <td>4</td>\n",
       "      <td>0.25</td>\n",
       "      <td>1</td>\n",
       "      <td>15.44</td>\n",
       "    </tr>\n",
       "    <tr>\n",
       "      <th>154</th>\n",
       "      <td>0.86</td>\n",
       "      <td>588.0</td>\n",
       "      <td>294.0</td>\n",
       "      <td>147.0</td>\n",
       "      <td>7.0</td>\n",
       "      <td>4</td>\n",
       "      <td>0.10</td>\n",
       "      <td>3</td>\n",
       "      <td>25.90</td>\n",
       "    </tr>\n",
       "    <tr>\n",
       "      <th>684</th>\n",
       "      <td>0.82</td>\n",
       "      <td>612.5</td>\n",
       "      <td>318.5</td>\n",
       "      <td>147.0</td>\n",
       "      <td>7.0</td>\n",
       "      <td>2</td>\n",
       "      <td>0.40</td>\n",
       "      <td>4</td>\n",
       "      <td>28.20</td>\n",
       "    </tr>\n",
       "    <tr>\n",
       "      <th>643</th>\n",
       "      <td>0.79</td>\n",
       "      <td>637.0</td>\n",
       "      <td>343.0</td>\n",
       "      <td>147.0</td>\n",
       "      <td>7.0</td>\n",
       "      <td>5</td>\n",
       "      <td>0.40</td>\n",
       "      <td>3</td>\n",
       "      <td>38.23</td>\n",
       "    </tr>\n",
       "  </tbody>\n",
       "</table>\n",
       "<p>154 rows × 9 columns</p>\n",
       "</div>"
      ],
      "text/plain": [
       "       X1     X2     X3     X4   X5  X6    X7  X8     Y2\n",
       "285  0.62  808.5  367.5  220.5  3.5   3  0.10   5  13.97\n",
       "101  0.90  563.5  318.5  122.5  7.0   3  0.10   2  29.44\n",
       "581  0.90  563.5  318.5  122.5  7.0   3  0.40   2  35.39\n",
       "352  0.79  637.0  343.0  147.0  7.0   2  0.25   2  43.86\n",
       "726  0.90  563.5  318.5  122.5  7.0   4  0.40   5  38.79\n",
       "..    ...    ...    ...    ...  ...  ..   ...  ..    ...\n",
       "563  0.69  735.0  294.0  220.5  3.5   5  0.40   1  17.20\n",
       "318  0.71  710.5  269.5  220.5  3.5   4  0.25   1  15.44\n",
       "154  0.86  588.0  294.0  147.0  7.0   4  0.10   3  25.90\n",
       "684  0.82  612.5  318.5  147.0  7.0   2  0.40   4  28.20\n",
       "643  0.79  637.0  343.0  147.0  7.0   5  0.40   3  38.23\n",
       "\n",
       "[154 rows x 9 columns]"
      ]
     },
     "execution_count": 38,
     "metadata": {},
     "output_type": "execute_result"
    }
   ],
   "source": [
    "dataset_train3, dataset_test3 = train_test_split(dataset3, test_size=0.2, random_state=SEED_VALUE)\n",
    "dataset_test3"
   ]
  },
  {
   "cell_type": "markdown",
   "metadata": {},
   "source": [
    "**Gestión de valores faltantes**\n",
    "\n",
    "Como ya vimos en la breve exploración e los datos, nuestro dataset no tiene valores faltantes."
   ]
  },
  {
   "cell_type": "code",
   "execution_count": 39,
   "metadata": {},
   "outputs": [
    {
     "data": {
      "text/html": [
       "<div>\n",
       "<style scoped>\n",
       "    .dataframe tbody tr th:only-of-type {\n",
       "        vertical-align: middle;\n",
       "    }\n",
       "\n",
       "    .dataframe tbody tr th {\n",
       "        vertical-align: top;\n",
       "    }\n",
       "\n",
       "    .dataframe thead th {\n",
       "        text-align: right;\n",
       "    }\n",
       "</style>\n",
       "<table border=\"1\" class=\"dataframe\">\n",
       "  <thead>\n",
       "    <tr style=\"text-align: right;\">\n",
       "      <th></th>\n",
       "      <th>X1</th>\n",
       "      <th>X2</th>\n",
       "      <th>X3</th>\n",
       "      <th>X4</th>\n",
       "      <th>X5</th>\n",
       "      <th>X6</th>\n",
       "      <th>X7</th>\n",
       "      <th>X8</th>\n",
       "      <th>Y2</th>\n",
       "    </tr>\n",
       "  </thead>\n",
       "  <tbody>\n",
       "    <tr>\n",
       "      <th>285</th>\n",
       "      <td>0.62</td>\n",
       "      <td>808.5</td>\n",
       "      <td>367.5</td>\n",
       "      <td>220.5</td>\n",
       "      <td>3.5</td>\n",
       "      <td>3.0</td>\n",
       "      <td>0.10</td>\n",
       "      <td>5.0</td>\n",
       "      <td>13.97</td>\n",
       "    </tr>\n",
       "    <tr>\n",
       "      <th>101</th>\n",
       "      <td>0.90</td>\n",
       "      <td>563.5</td>\n",
       "      <td>318.5</td>\n",
       "      <td>122.5</td>\n",
       "      <td>7.0</td>\n",
       "      <td>3.0</td>\n",
       "      <td>0.10</td>\n",
       "      <td>2.0</td>\n",
       "      <td>29.44</td>\n",
       "    </tr>\n",
       "    <tr>\n",
       "      <th>581</th>\n",
       "      <td>0.90</td>\n",
       "      <td>563.5</td>\n",
       "      <td>318.5</td>\n",
       "      <td>122.5</td>\n",
       "      <td>7.0</td>\n",
       "      <td>3.0</td>\n",
       "      <td>0.40</td>\n",
       "      <td>2.0</td>\n",
       "      <td>35.39</td>\n",
       "    </tr>\n",
       "    <tr>\n",
       "      <th>352</th>\n",
       "      <td>0.79</td>\n",
       "      <td>637.0</td>\n",
       "      <td>343.0</td>\n",
       "      <td>147.0</td>\n",
       "      <td>7.0</td>\n",
       "      <td>2.0</td>\n",
       "      <td>0.25</td>\n",
       "      <td>2.0</td>\n",
       "      <td>43.86</td>\n",
       "    </tr>\n",
       "    <tr>\n",
       "      <th>726</th>\n",
       "      <td>0.90</td>\n",
       "      <td>563.5</td>\n",
       "      <td>318.5</td>\n",
       "      <td>122.5</td>\n",
       "      <td>7.0</td>\n",
       "      <td>4.0</td>\n",
       "      <td>0.40</td>\n",
       "      <td>5.0</td>\n",
       "      <td>38.79</td>\n",
       "    </tr>\n",
       "    <tr>\n",
       "      <th>...</th>\n",
       "      <td>...</td>\n",
       "      <td>...</td>\n",
       "      <td>...</td>\n",
       "      <td>...</td>\n",
       "      <td>...</td>\n",
       "      <td>...</td>\n",
       "      <td>...</td>\n",
       "      <td>...</td>\n",
       "      <td>...</td>\n",
       "    </tr>\n",
       "    <tr>\n",
       "      <th>563</th>\n",
       "      <td>0.69</td>\n",
       "      <td>735.0</td>\n",
       "      <td>294.0</td>\n",
       "      <td>220.5</td>\n",
       "      <td>3.5</td>\n",
       "      <td>5.0</td>\n",
       "      <td>0.40</td>\n",
       "      <td>1.0</td>\n",
       "      <td>17.20</td>\n",
       "    </tr>\n",
       "    <tr>\n",
       "      <th>318</th>\n",
       "      <td>0.71</td>\n",
       "      <td>710.5</td>\n",
       "      <td>269.5</td>\n",
       "      <td>220.5</td>\n",
       "      <td>3.5</td>\n",
       "      <td>4.0</td>\n",
       "      <td>0.25</td>\n",
       "      <td>1.0</td>\n",
       "      <td>15.44</td>\n",
       "    </tr>\n",
       "    <tr>\n",
       "      <th>154</th>\n",
       "      <td>0.86</td>\n",
       "      <td>588.0</td>\n",
       "      <td>294.0</td>\n",
       "      <td>147.0</td>\n",
       "      <td>7.0</td>\n",
       "      <td>4.0</td>\n",
       "      <td>0.10</td>\n",
       "      <td>3.0</td>\n",
       "      <td>25.90</td>\n",
       "    </tr>\n",
       "    <tr>\n",
       "      <th>684</th>\n",
       "      <td>0.82</td>\n",
       "      <td>612.5</td>\n",
       "      <td>318.5</td>\n",
       "      <td>147.0</td>\n",
       "      <td>7.0</td>\n",
       "      <td>2.0</td>\n",
       "      <td>0.40</td>\n",
       "      <td>4.0</td>\n",
       "      <td>28.20</td>\n",
       "    </tr>\n",
       "    <tr>\n",
       "      <th>643</th>\n",
       "      <td>0.79</td>\n",
       "      <td>637.0</td>\n",
       "      <td>343.0</td>\n",
       "      <td>147.0</td>\n",
       "      <td>7.0</td>\n",
       "      <td>5.0</td>\n",
       "      <td>0.40</td>\n",
       "      <td>3.0</td>\n",
       "      <td>38.23</td>\n",
       "    </tr>\n",
       "  </tbody>\n",
       "</table>\n",
       "<p>154 rows × 9 columns</p>\n",
       "</div>"
      ],
      "text/plain": [
       "       X1     X2     X3     X4   X5   X6    X7   X8     Y2\n",
       "285  0.62  808.5  367.5  220.5  3.5  3.0  0.10  5.0  13.97\n",
       "101  0.90  563.5  318.5  122.5  7.0  3.0  0.10  2.0  29.44\n",
       "581  0.90  563.5  318.5  122.5  7.0  3.0  0.40  2.0  35.39\n",
       "352  0.79  637.0  343.0  147.0  7.0  2.0  0.25  2.0  43.86\n",
       "726  0.90  563.5  318.5  122.5  7.0  4.0  0.40  5.0  38.79\n",
       "..    ...    ...    ...    ...  ...  ...   ...  ...    ...\n",
       "563  0.69  735.0  294.0  220.5  3.5  5.0  0.40  1.0  17.20\n",
       "318  0.71  710.5  269.5  220.5  3.5  4.0  0.25  1.0  15.44\n",
       "154  0.86  588.0  294.0  147.0  7.0  4.0  0.10  3.0  25.90\n",
       "684  0.82  612.5  318.5  147.0  7.0  2.0  0.40  4.0  28.20\n",
       "643  0.79  637.0  343.0  147.0  7.0  5.0  0.40  3.0  38.23\n",
       "\n",
       "[154 rows x 9 columns]"
      ]
     },
     "execution_count": 39,
     "metadata": {},
     "output_type": "execute_result"
    }
   ],
   "source": [
    "dataset_train3, dataset_test3 = valoresFaltantes(dataset_train3, dataset_test3)\n",
    "dataset_test3"
   ]
  },
  {
   "cell_type": "markdown",
   "metadata": {},
   "source": [
    "### Separación de variables predictoras y dependientes y estandarización de los datos\n",
    "\n",
    "Como ahora estamos en un problema de regresión, es necesario estandarizar también la variable dependiente."
   ]
  },
  {
   "cell_type": "code",
   "execution_count": 40,
   "metadata": {},
   "outputs": [
    {
     "name": "stdout",
     "output_type": "stream",
     "text": [
      "Valores con los que se ha estandarizado:\n",
      "\n",
      "            X1          X2          X3          X4        X5        X6  \\\n",
      "Mean  0.762769  673.191368  318.140879  177.525244  5.198697  3.473941   \n",
      "std   0.106922   88.806099   43.961322   45.464442  1.749248  1.119186   \n",
      "\n",
      "            X7        X8  \n",
      "Mean  0.231922  2.838762  \n",
      "std   0.132407  1.542576  \n",
      "\n",
      "             Y2\n",
      "Mean  24.324870\n",
      "std    9.453206\n"
     ]
    }
   ],
   "source": [
    "dataset_train_X_scaled3, dataset_train_Y_scaled3, dataset_test_X_scaled3, dataset_test_Y_scaled3, scaler3 = splitScale(dataset_train3, dataset_test3, preds = ['X1', 'X2', 'X3', 'X4', 'X5', 'X6', 'X7', 'X8'], dep = 'Y2', escalar=[True, True])"
   ]
  },
  {
   "cell_type": "markdown",
   "metadata": {},
   "source": [
    "### Exploración de hiperparámetros"
   ]
  },
  {
   "cell_type": "markdown",
   "metadata": {},
   "source": [
    "Hemos visualizado y preprocesado los datos. Vamos a empezar a trabajar con nuestro predictor. Importante conocer los hiperparámetros del modelo a usar. Debemos sobreaprender y subaprender. Primero hacemos exploracion de hiperparámetros de grano grueso y luego de grano fino."
   ]
  },
  {
   "cell_type": "markdown",
   "metadata": {},
   "source": [
    "**Exploración de grano grueso**\n",
    "\n",
    "En esta práctica, el único parámetro a explorar es el número de vecino. Hacemos primero una \n",
    "exploración de valores en un rango amplio (gg), para subaprender y sobreaprender. De este modo, luego seleccionaremos un rango más limitado de este parámetro y podremos explorar todas las posibilidades en el mismo. Esta vez, el `scoring` será el MSE, aunque `scikit-learn` implementa el -MSE, por lo que deberemos cambiarle el signo"
   ]
  },
  {
   "cell_type": "code",
   "execution_count": 41,
   "metadata": {},
   "outputs": [
    {
     "data": {
      "text/plain": [
       "GridSearchCV(cv=5, estimator=KNeighborsRegressor(),\n",
       "             param_grid={'n_neighbors': range(1, 100, 5)},\n",
       "             return_train_score=True, scoring='neg_mean_squared_error')"
      ]
     },
     "execution_count": 41,
     "metadata": {},
     "output_type": "execute_result"
    }
   ],
   "source": [
    "hyperparameters_gg3 = {'n_neighbors': range(1, 100, 5)}\n",
    "k_neigh3 = KNeighborsRegressor()\n",
    "\n",
    "modeloCV_gg3, cv_results_gg3 = crossVal(dataset_train_X_scaled3, dataset_train_Y_scaled3, \n",
    "                                        k_neigh3, hyperparameters_gg3, \n",
    "                                        scoring = 'neg_mean_squared_error')\n",
    "modeloCV_gg3"
   ]
  },
  {
   "cell_type": "markdown",
   "metadata": {},
   "source": [
    "Es importante tener en cuenta que, al estandarizar la variable dependiente, hay que desestandarizar los campos 'mean_test_score' y 'std_test_score', sin más que multiplicarlo por la varianza de las observaciones de Y del conjunto de entrenamiento. Esta información la tenemos guardada en el `scaler` de estas observaciones."
   ]
  },
  {
   "cell_type": "markdown",
   "metadata": {},
   "source": [
    "Como también queremos encontrar el mejor modelo en caso de aplicar la regla de una desviación estándar, calcularemos esta cota para ver visualmente el rango que habrá que explorar luego en mayor detalle."
   ]
  },
  {
   "cell_type": "code",
   "execution_count": 42,
   "metadata": {},
   "outputs": [],
   "source": [
    "_, scalerY3 = scaler3\n",
    "std_Y_reg = scalerY3.scale_ \n",
    "cv_results_gg3['mean_test_score'] = -cv_results_gg3['mean_test_score'] * (std_Y_reg.item())**2\n",
    "cv_results_gg3['std_test_score'] = cv_results_gg3['std_test_score'] * (std_Y_reg.item())**2"
   ]
  },
  {
   "cell_type": "code",
   "execution_count": 43,
   "metadata": {},
   "outputs": [],
   "source": [
    "_, cota_std_gg3 = onestdRule(cv_results_gg3, classification = False)"
   ]
  },
  {
   "cell_type": "markdown",
   "metadata": {},
   "source": [
    "Visualizamos los modelos encontrados en este rango de vecinos. "
   ]
  },
  {
   "cell_type": "code",
   "execution_count": 44,
   "metadata": {},
   "outputs": [
    {
     "data": {
      "image/png": "[encoded data removed]",
      "text/plain": [
       "<Figure size 864x576 with 1 Axes>"
      ]
     },
     "metadata": {
      "needs_background": "light"
     },
     "output_type": "display_data"
    }
   ],
   "source": [
    "fig_gg3, ax_gg3 = plt.subplots(figsize=(12,8))\n",
    "ax_gg3.set_title(\"Error de validacion\")\n",
    "ax_gg3.set_xlabel(\"Número de vecinos (K)\")\n",
    "ax_gg3.set_ylabel(\"Error de entrenamiento\")\n",
    "ax_gg3.set_xticks(np.arange(0, 101, 10))\n",
    "\n",
    "errorVal(cv_results_gg3, 'param_n_neighbors', ax_gg3, cota_std=cota_std_gg3, classification = False)\n",
    "\n",
    "ax_gg3.set_ylim(6.5, 13)\n",
    "\n",
    "plt.savefig(\"ej3_1.pdf\", dpi=150)\n",
    "\n",
    "plt.show()"
   ]
  },
  {
   "cell_type": "markdown",
   "metadata": {},
   "source": [
    "El mejor modelo está con casi total seguridad entre $K = 1$ y $K = 15$. Sin embargo, también queremos el mejor modelo según la regla de una desviación estándar. Barreremos el rango de $K \\in [1, 20]$."
   ]
  },
  {
   "cell_type": "markdown",
   "metadata": {},
   "source": [
    "**Exploración de grano fino**\n",
    "\n",
    "Repetimos la exploración, esta vez barriendo todos los valores $K$ en ese intervalo. Así encontraremos el modelo con el menor error de validación cruzada para este problema."
   ]
  },
  {
   "cell_type": "code",
   "execution_count": 45,
   "metadata": {},
   "outputs": [
    {
     "data": {
      "text/plain": [
       "GridSearchCV(cv=5, estimator=KNeighborsRegressor(),\n",
       "             param_grid={'n_neighbors': range(1, 21)}, return_train_score=True,\n",
       "             scoring='neg_mean_squared_error')"
      ]
     },
     "execution_count": 45,
     "metadata": {},
     "output_type": "execute_result"
    }
   ],
   "source": [
    "hyperparameters_gf3 = {'n_neighbors': range(1, 21, 1)}\n",
    "k_neigh3 = KNeighborsRegressor()\n",
    "\n",
    "modeloCV_gf3, cv_results_gf3 = crossVal(dataset_train_X_scaled3, dataset_train_Y_scaled3, \n",
    "                                        k_neigh3, hyperparameters_gf3, \n",
    "                                        scoring = 'neg_mean_squared_error')\n",
    "modeloCV_gf3"
   ]
  },
  {
   "cell_type": "markdown",
   "metadata": {},
   "source": [
    "Desestadarizamos el error y la desviación estándar del mismo modo que antes"
   ]
  },
  {
   "cell_type": "code",
   "execution_count": 46,
   "metadata": {},
   "outputs": [],
   "source": [
    "cv_results_gf3['mean_test_score'] = -cv_results_gf3['mean_test_score'] * (std_Y_reg.item())**2\n",
    "cv_results_gf3['std_test_score'] = cv_results_gf3['std_test_score'] * (std_Y_reg.item())**2"
   ]
  },
  {
   "cell_type": "markdown",
   "metadata": {},
   "source": [
    "Los mejores modelos y sus estadísticas son los siguientes:"
   ]
  },
  {
   "cell_type": "code",
   "execution_count": 47,
   "metadata": {},
   "outputs": [
    {
     "data": {
      "text/html": [
       "<div>\n",
       "<style scoped>\n",
       "    .dataframe tbody tr th:only-of-type {\n",
       "        vertical-align: middle;\n",
       "    }\n",
       "\n",
       "    .dataframe tbody tr th {\n",
       "        vertical-align: top;\n",
       "    }\n",
       "\n",
       "    .dataframe thead th {\n",
       "        text-align: right;\n",
       "    }\n",
       "</style>\n",
       "<table border=\"1\" class=\"dataframe\">\n",
       "  <thead>\n",
       "    <tr style=\"text-align: right;\">\n",
       "      <th></th>\n",
       "      <th>param_n_neighbors</th>\n",
       "      <th>mean_test_score</th>\n",
       "      <th>std_test_score</th>\n",
       "      <th>rank_test_score</th>\n",
       "    </tr>\n",
       "  </thead>\n",
       "  <tbody>\n",
       "    <tr>\n",
       "      <th>1</th>\n",
       "      <td>2</td>\n",
       "      <td>6.115019</td>\n",
       "      <td>0.577814</td>\n",
       "      <td>1</td>\n",
       "    </tr>\n",
       "    <tr>\n",
       "      <th>2</th>\n",
       "      <td>3</td>\n",
       "      <td>6.729269</td>\n",
       "      <td>0.352912</td>\n",
       "      <td>2</td>\n",
       "    </tr>\n",
       "    <tr>\n",
       "      <th>3</th>\n",
       "      <td>4</td>\n",
       "      <td>6.973982</td>\n",
       "      <td>0.541308</td>\n",
       "      <td>3</td>\n",
       "    </tr>\n",
       "    <tr>\n",
       "      <th>6</th>\n",
       "      <td>7</td>\n",
       "      <td>7.434758</td>\n",
       "      <td>0.757746</td>\n",
       "      <td>4</td>\n",
       "    </tr>\n",
       "    <tr>\n",
       "      <th>5</th>\n",
       "      <td>6</td>\n",
       "      <td>7.581701</td>\n",
       "      <td>0.461356</td>\n",
       "      <td>5</td>\n",
       "    </tr>\n",
       "    <tr>\n",
       "      <th>4</th>\n",
       "      <td>5</td>\n",
       "      <td>7.605131</td>\n",
       "      <td>0.568841</td>\n",
       "      <td>6</td>\n",
       "    </tr>\n",
       "    <tr>\n",
       "      <th>7</th>\n",
       "      <td>8</td>\n",
       "      <td>7.654956</td>\n",
       "      <td>0.519451</td>\n",
       "      <td>7</td>\n",
       "    </tr>\n",
       "    <tr>\n",
       "      <th>8</th>\n",
       "      <td>9</td>\n",
       "      <td>7.745328</td>\n",
       "      <td>0.425741</td>\n",
       "      <td>8</td>\n",
       "    </tr>\n",
       "    <tr>\n",
       "      <th>9</th>\n",
       "      <td>10</td>\n",
       "      <td>8.065908</td>\n",
       "      <td>0.530732</td>\n",
       "      <td>9</td>\n",
       "    </tr>\n",
       "    <tr>\n",
       "      <th>10</th>\n",
       "      <td>11</td>\n",
       "      <td>8.220981</td>\n",
       "      <td>0.580317</td>\n",
       "      <td>10</td>\n",
       "    </tr>\n",
       "  </tbody>\n",
       "</table>\n",
       "</div>"
      ],
      "text/plain": [
       "   param_n_neighbors  mean_test_score  std_test_score  rank_test_score\n",
       "1                  2         6.115019        0.577814                1\n",
       "2                  3         6.729269        0.352912                2\n",
       "3                  4         6.973982        0.541308                3\n",
       "6                  7         7.434758        0.757746                4\n",
       "5                  6         7.581701        0.461356                5\n",
       "4                  5         7.605131        0.568841                6\n",
       "7                  8         7.654956        0.519451                7\n",
       "8                  9         7.745328        0.425741                8\n",
       "9                 10         8.065908        0.530732                9\n",
       "10                11         8.220981        0.580317               10"
      ]
     },
     "execution_count": 47,
     "metadata": {},
     "output_type": "execute_result"
    }
   ],
   "source": [
    "cv_results_gf3.sort_values('rank_test_score')[['param_n_neighbors', 'mean_test_score', 'std_test_score', 'rank_test_score']].head(10)"
   ]
  },
  {
   "cell_type": "markdown",
   "metadata": {},
   "source": [
    "Los mejores hiperparámetros en validación cruzada serían los siguientes:"
   ]
  },
  {
   "cell_type": "code",
   "execution_count": 48,
   "metadata": {},
   "outputs": [
    {
     "data": {
      "text/html": [
       "<div>\n",
       "<style scoped>\n",
       "    .dataframe tbody tr th:only-of-type {\n",
       "        vertical-align: middle;\n",
       "    }\n",
       "\n",
       "    .dataframe tbody tr th {\n",
       "        vertical-align: top;\n",
       "    }\n",
       "\n",
       "    .dataframe thead th {\n",
       "        text-align: right;\n",
       "    }\n",
       "</style>\n",
       "<table border=\"1\" class=\"dataframe\">\n",
       "  <thead>\n",
       "    <tr style=\"text-align: right;\">\n",
       "      <th></th>\n",
       "      <th>param_n_neighbors</th>\n",
       "      <th>mean_test_score</th>\n",
       "      <th>std_test_score</th>\n",
       "      <th>rank_test_score</th>\n",
       "    </tr>\n",
       "  </thead>\n",
       "  <tbody>\n",
       "    <tr>\n",
       "      <th>1</th>\n",
       "      <td>2</td>\n",
       "      <td>6.115019</td>\n",
       "      <td>0.577814</td>\n",
       "      <td>1</td>\n",
       "    </tr>\n",
       "  </tbody>\n",
       "</table>\n",
       "</div>"
      ],
      "text/plain": [
       "  param_n_neighbors  mean_test_score  std_test_score  rank_test_score\n",
       "1                 2         6.115019        0.577814                1"
      ]
     },
     "execution_count": 48,
     "metadata": {},
     "output_type": "execute_result"
    }
   ],
   "source": [
    "cv_results_best_gf3 = cv_results_gf3[cv_results_gf3['rank_test_score'] == 1]\n",
    "cv_results_best_gf3.loc[:, ['param_n_neighbors', 'mean_test_score', 'std_test_score', 'rank_test_score']]"
   ]
  },
  {
   "cell_type": "markdown",
   "metadata": {},
   "source": [
    "**Regla de una desviacion estandar**\n",
    "\n",
    "Podemos seleccionar el mejor modelo según la regla de una desviación estándar de forma numérica, así como su hiperparámetro."
   ]
  },
  {
   "cell_type": "code",
   "execution_count": 49,
   "metadata": {},
   "outputs": [
    {
     "data": {
      "text/html": [
       "<div>\n",
       "<style scoped>\n",
       "    .dataframe tbody tr th:only-of-type {\n",
       "        vertical-align: middle;\n",
       "    }\n",
       "\n",
       "    .dataframe tbody tr th {\n",
       "        vertical-align: top;\n",
       "    }\n",
       "\n",
       "    .dataframe thead th {\n",
       "        text-align: right;\n",
       "    }\n",
       "</style>\n",
       "<table border=\"1\" class=\"dataframe\">\n",
       "  <thead>\n",
       "    <tr style=\"text-align: right;\">\n",
       "      <th></th>\n",
       "      <th>param_n_neighbors</th>\n",
       "      <th>mean_test_score</th>\n",
       "      <th>std_test_score</th>\n",
       "      <th>rank_test_score</th>\n",
       "    </tr>\n",
       "  </thead>\n",
       "  <tbody>\n",
       "    <tr>\n",
       "      <th>1</th>\n",
       "      <td>2</td>\n",
       "      <td>6.115019</td>\n",
       "      <td>0.577814</td>\n",
       "      <td>1</td>\n",
       "    </tr>\n",
       "  </tbody>\n",
       "</table>\n",
       "</div>"
      ],
      "text/plain": [
       "  param_n_neighbors  mean_test_score  std_test_score  rank_test_score\n",
       "1                 2         6.115019        0.577814                1"
      ]
     },
     "execution_count": 49,
     "metadata": {},
     "output_type": "execute_result"
    }
   ],
   "source": [
    "modelos_una_std_gf3, cota_std_gf3 = onestdRule(cv_results_gf3, classification = False)\n",
    "modelos_una_std_gf3.loc[:, ['param_n_neighbors', 'mean_test_score', 'std_test_score', 'rank_test_score']]"
   ]
  },
  {
   "cell_type": "markdown",
   "metadata": {},
   "source": [
    "Así, el modelo que habría que seleccionar según esta regla es de nuevo el mejor. "
   ]
  },
  {
   "cell_type": "markdown",
   "metadata": {},
   "source": [
    "**Gráfica de entrenamiento**\n",
    "\n",
    "A continuación mostramos la gráfica del error de entrenamiento con validación cruzada frente al valor del hiperparámetro."
   ]
  },
  {
   "cell_type": "code",
   "execution_count": 50,
   "metadata": {},
   "outputs": [
    {
     "data": {
      "image/png": "[encoded data removed]",
      "text/plain": [
       "<Figure size 720x576 with 1 Axes>"
      ]
     },
     "metadata": {
      "needs_background": "light"
     },
     "output_type": "display_data"
    }
   ],
   "source": [
    "fig_gf3, ax_gf3 = plt.subplots(figsize=(10,8))\n",
    "ax_gf3.set_title(\"Error de validacion\")\n",
    "ax_gf3.set_xlabel(\"Número de vecinos (K)\")\n",
    "ax_gf3.set_ylabel(\"Error de entrenamiento\")\n",
    "ax_gf3.set_xticks(np.arange(0, 22, 1))\n",
    "\n",
    "errorVal(cv_results_gf3, 'param_n_neighbors', ax_gf3, cota_std = cota_std_gf3, classification = False)\n",
    "\n",
    "ax_gf3.set_xlim(0, 21)\n",
    "#ax_gf3.set_ylim(1.055, 1.12)\n",
    "\n",
    "plt.savefig(\"ej3_2.pdf\", dpi=150)\n",
    "\n",
    "plt.show()"
   ]
  },
  {
   "cell_type": "markdown",
   "metadata": {},
   "source": [
    "Aquí podemos ver visualmente los resultados anteriores: el mejor modelo es para $K = 2$, mientras que el mejor modelo según la regla de una desviación estándar es, de nuevo, para $K = 2$."
   ]
  },
  {
   "cell_type": "markdown",
   "metadata": {},
   "source": [
    "### Verificación de hiperparámetros en *test*"
   ]
  },
  {
   "cell_type": "markdown",
   "metadata": {},
   "source": [
    "Esto no se haría **JAMÁS** en una situación real. Pero como este es un ejemplo para aprender, vamos a ver cómo de lejos nos hemos quedado de los hiperparámetros \"ideales\". Hacemos un Grid Search utilizando el conjunto de entrenamiento al completo (80% de los datos) y nuestro conjunto de validación va a ser el conjunto de test (20% de los datos)."
   ]
  },
  {
   "cell_type": "code",
   "execution_count": 51,
   "metadata": {},
   "outputs": [
    {
     "data": {
      "text/plain": [
       "GridSearchCV(cv=PredefinedSplit(test_fold=array([-1, -1, ...,  0,  0])),\n",
       "             estimator=KNeighborsRegressor(),\n",
       "             param_grid={'n_neighbors': range(1, 21)}, return_train_score=True,\n",
       "             scoring='neg_mean_squared_error')"
      ]
     },
     "execution_count": 51,
     "metadata": {},
     "output_type": "execute_result"
    }
   ],
   "source": [
    "split_test_fold3 = [-1]*len(dataset_train_Y_scaled3) + [0]*len(dataset_test_Y_scaled3)\n",
    "ps3 = PredefinedSplit(test_fold=split_test_fold3) # fijamos una particion de datos (forzamos al metodo a que particione como queremos)\n",
    "\n",
    "# Juntamos los conjuntos de entrenamiento y test, fingiendo que son un sólo conjunto de entrenamiento-validación\n",
    "dataset_all_X_scaled3 = np.vstack([dataset_train_X_scaled3, dataset_test_X_scaled3])\n",
    "dataset_all_Y3 = np.vstack([dataset_train_Y_scaled3, dataset_test_Y_scaled3])\n",
    "\n",
    "k_neigh3 = KNeighborsRegressor()\n",
    "modeloCV_test3, cv_results_test3 = crossVal(dataset_all_X_scaled3, dataset_all_Y3, \n",
    "                                            k_neigh3, hyperparameters_gf3, \n",
    "                                            cv = ps3, scoring = 'neg_mean_squared_error')\n",
    "modeloCV_test3"
   ]
  },
  {
   "cell_type": "markdown",
   "metadata": {},
   "source": [
    "Desestandarizamos el error y la desviación estándar"
   ]
  },
  {
   "cell_type": "code",
   "execution_count": 52,
   "metadata": {},
   "outputs": [],
   "source": [
    "cv_results_test3['mean_test_score'] = -cv_results_test3['mean_test_score'] * (std_Y_reg.item())**2\n",
    "cv_results_test3['std_test_score'] = cv_results_test3['std_test_score'] * (std_Y_reg.item())**2"
   ]
  },
  {
   "cell_type": "markdown",
   "metadata": {},
   "source": [
    "Numéricamente, los mejores modelos son los siguientes:"
   ]
  },
  {
   "cell_type": "code",
   "execution_count": 53,
   "metadata": {},
   "outputs": [
    {
     "data": {
      "text/html": [
       "<div>\n",
       "<style scoped>\n",
       "    .dataframe tbody tr th:only-of-type {\n",
       "        vertical-align: middle;\n",
       "    }\n",
       "\n",
       "    .dataframe tbody tr th {\n",
       "        vertical-align: top;\n",
       "    }\n",
       "\n",
       "    .dataframe thead th {\n",
       "        text-align: right;\n",
       "    }\n",
       "</style>\n",
       "<table border=\"1\" class=\"dataframe\">\n",
       "  <thead>\n",
       "    <tr style=\"text-align: right;\">\n",
       "      <th></th>\n",
       "      <th>param_n_neighbors</th>\n",
       "      <th>mean_test_score</th>\n",
       "      <th>rank_test_score</th>\n",
       "    </tr>\n",
       "  </thead>\n",
       "  <tbody>\n",
       "    <tr>\n",
       "      <th>8</th>\n",
       "      <td>9</td>\n",
       "      <td>9.603207</td>\n",
       "      <td>1</td>\n",
       "    </tr>\n",
       "    <tr>\n",
       "      <th>7</th>\n",
       "      <td>8</td>\n",
       "      <td>9.650452</td>\n",
       "      <td>2</td>\n",
       "    </tr>\n",
       "    <tr>\n",
       "      <th>6</th>\n",
       "      <td>7</td>\n",
       "      <td>9.724561</td>\n",
       "      <td>3</td>\n",
       "    </tr>\n",
       "    <tr>\n",
       "      <th>9</th>\n",
       "      <td>10</td>\n",
       "      <td>9.800067</td>\n",
       "      <td>4</td>\n",
       "    </tr>\n",
       "    <tr>\n",
       "      <th>12</th>\n",
       "      <td>13</td>\n",
       "      <td>9.906309</td>\n",
       "      <td>5</td>\n",
       "    </tr>\n",
       "    <tr>\n",
       "      <th>2</th>\n",
       "      <td>3</td>\n",
       "      <td>9.959396</td>\n",
       "      <td>6</td>\n",
       "    </tr>\n",
       "    <tr>\n",
       "      <th>10</th>\n",
       "      <td>11</td>\n",
       "      <td>10.019019</td>\n",
       "      <td>7</td>\n",
       "    </tr>\n",
       "    <tr>\n",
       "      <th>11</th>\n",
       "      <td>12</td>\n",
       "      <td>10.076418</td>\n",
       "      <td>8</td>\n",
       "    </tr>\n",
       "    <tr>\n",
       "      <th>13</th>\n",
       "      <td>14</td>\n",
       "      <td>10.296141</td>\n",
       "      <td>9</td>\n",
       "    </tr>\n",
       "    <tr>\n",
       "      <th>14</th>\n",
       "      <td>15</td>\n",
       "      <td>10.476957</td>\n",
       "      <td>10</td>\n",
       "    </tr>\n",
       "  </tbody>\n",
       "</table>\n",
       "</div>"
      ],
      "text/plain": [
       "   param_n_neighbors  mean_test_score  rank_test_score\n",
       "8                  9         9.603207                1\n",
       "7                  8         9.650452                2\n",
       "6                  7         9.724561                3\n",
       "9                 10         9.800067                4\n",
       "12                13         9.906309                5\n",
       "2                  3         9.959396                6\n",
       "10                11        10.019019                7\n",
       "11                12        10.076418                8\n",
       "13                14        10.296141                9\n",
       "14                15        10.476957               10"
      ]
     },
     "execution_count": 53,
     "metadata": {},
     "output_type": "execute_result"
    }
   ],
   "source": [
    "cv_results_test3.sort_values('rank_test_score')[['param_n_neighbors', 'mean_test_score', 'rank_test_score']].head(10)"
   ]
  },
  {
   "cell_type": "markdown",
   "metadata": {},
   "source": [
    "Ahora mostramos la gráfica del error de *test* frente al valor del hiperparámetro junto con la del error de entrenamiento, lo que permitirá comparar si la gráfica del error de entrenamiento con validación cruzada ha hecho una buena estimación del error de *test*."
   ]
  },
  {
   "cell_type": "code",
   "execution_count": 54,
   "metadata": {},
   "outputs": [
    {
     "data": {
      "image/png": "[encoded data removed]",
      "text/plain": [
       "<Figure size 720x576 with 1 Axes>"
      ]
     },
     "metadata": {
      "needs_background": "light"
     },
     "output_type": "display_data"
    }
   ],
   "source": [
    "fig_test3, ax_test3 = plt.subplots(figsize=(10, 8))\n",
    "ax_test3.set_title(\"Error de validacion junto a error de test\")\n",
    "ax_test3.set_xlabel(\"Número de vecinos (K)\")\n",
    "ax_test3.set_ylabel(\"Error de entrenamiento\")\n",
    "ax_test3.set_xticks(np.arange(0, 21, 1))\n",
    "\n",
    "errorVal(cv_results_gf3, 'param_n_neighbors', ax_test3, label = 'validation (uniform)', classification = False)\n",
    "errorVal(cv_results_test3, 'param_n_neighbors', ax_test3, label = 'test (uniform)', color = 'navy', classification = False)\n",
    "\n",
    "ax_test3.set_xlim(0, 21)\n",
    "ax_test3.set_ylim(5, 16)\n",
    "\n",
    "plt.savefig(\"ej3_3.pdf\", dpi=150)\n",
    "plt.show()"
   ]
  },
  {
   "cell_type": "markdown",
   "metadata": {},
   "source": [
    "El error de *test* para el valor del hiperparámetro seleccionado por la validación cruzada será:"
   ]
  },
  {
   "cell_type": "code",
   "execution_count": 55,
   "metadata": {},
   "outputs": [
    {
     "data": {
      "text/html": [
       "<div>\n",
       "<style scoped>\n",
       "    .dataframe tbody tr th:only-of-type {\n",
       "        vertical-align: middle;\n",
       "    }\n",
       "\n",
       "    .dataframe tbody tr th {\n",
       "        vertical-align: top;\n",
       "    }\n",
       "\n",
       "    .dataframe thead th {\n",
       "        text-align: right;\n",
       "    }\n",
       "</style>\n",
       "<table border=\"1\" class=\"dataframe\">\n",
       "  <thead>\n",
       "    <tr style=\"text-align: right;\">\n",
       "      <th></th>\n",
       "      <th>param_n_neighbors</th>\n",
       "      <th>mean_test_score</th>\n",
       "      <th>std_test_score</th>\n",
       "      <th>rank_test_score</th>\n",
       "    </tr>\n",
       "  </thead>\n",
       "  <tbody>\n",
       "    <tr>\n",
       "      <th>1</th>\n",
       "      <td>2</td>\n",
       "      <td>12.588656</td>\n",
       "      <td>0.0</td>\n",
       "      <td>19</td>\n",
       "    </tr>\n",
       "  </tbody>\n",
       "</table>\n",
       "</div>"
      ],
      "text/plain": [
       "  param_n_neighbors  mean_test_score  std_test_score  rank_test_score\n",
       "1                 2        12.588656             0.0               19"
      ]
     },
     "execution_count": 55,
     "metadata": {},
     "output_type": "execute_result"
    }
   ],
   "source": [
    "best_cv_results_test3 = cv_results_test3[cv_results_test3['param_n_neighbors'] == 2]\n",
    "best_cv_results_test3.loc[:, ['param_n_neighbors', 'mean_test_score', 'std_test_score', 'rank_test_score']]"
   ]
  }
 ],
 "metadata": {
  "kernelspec": {
   "display_name": "Python 3",
   "language": "python",
   "name": "python3"
  },
  "language_info": {
   "codemirror_mode": {
    "name": "ipython",
    "version": 3
   },
   "file_extension": ".py",
   "mimetype": "text/x-python",
   "name": "python",
   "nbconvert_exporter": "python",
   "pygments_lexer": "ipython3",
   "version": "3.7.8"
  }
 },
 "nbformat": 4,
 "nbformat_minor": 2
}
