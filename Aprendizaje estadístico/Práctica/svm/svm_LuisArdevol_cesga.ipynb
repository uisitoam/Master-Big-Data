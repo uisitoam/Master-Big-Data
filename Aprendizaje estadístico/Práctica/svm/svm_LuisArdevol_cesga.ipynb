{
 "cells": [
  {
   "cell_type": "markdown",
   "metadata": {},
   "source": [
    "# Máquinas de vectores de soporte\n",
    "\n",
    "### Autor: Luis Ardévol Mesa"
   ]
  },
  {
   "cell_type": "markdown",
   "metadata": {},
   "source": [
    "## Ejercicio 2"
   ]
  },
  {
   "cell_type": "markdown",
   "metadata": {},
   "source": [
    "Antes de comenzar, verificamos que el entorno de ejecución esté configurado con las librerías necesarias (no ejecutar en cesga)."
   ]
  },
  {
   "cell_type": "code",
   "execution_count": 1,
   "metadata": {},
   "outputs": [
    {
     "name": "stdout",
     "output_type": "stream",
     "text": [
      "Todos los paquetes necesarios ya están instalados.\n"
     ]
    }
   ],
   "source": [
    "import subprocess\n",
    "import sys\n",
    "import pkg_resources\n",
    "\n",
    "def check_and_install_packages():\n",
    "    required_packages = {\n",
    "        'pandas': 'pandas',\n",
    "        'numpy': 'numpy',\n",
    "        'scikit-learn': 'scikit-learn',\n",
    "        'matplotlib': 'matplotlib'\n",
    "    }\n",
    "    \n",
    "    missing_packages = []\n",
    "    \n",
    "    # Verificar paquetes instalados\n",
    "    installed_packages = {pkg.key for pkg in pkg_resources.working_set}\n",
    "    \n",
    "    for package, pip_name in required_packages.items():\n",
    "        if package not in installed_packages:\n",
    "            missing_packages.append(pip_name)\n",
    "    \n",
    "    # Instalar paquetes faltantes\n",
    "    if missing_packages:\n",
    "        print(\"Instalando paquetes necesarios...\")\n",
    "        for package in missing_packages:\n",
    "            subprocess.check_call([sys.executable, '-m', 'pip', 'install', package])\n",
    "        print(\"Instalación completada.\")\n",
    "    else:\n",
    "        print(\"Todos los paquetes necesarios ya están instalados.\")\n",
    "\n",
    "check_and_install_packages()"
   ]
  },
  {
   "cell_type": "markdown",
   "metadata": {},
   "source": [
    "Ahora importamos las librerías a utilizar"
   ]
  },
  {
   "cell_type": "code",
   "execution_count": 1,
   "metadata": {},
   "outputs": [],
   "source": [
    "import numpy as np\n",
    "import pandas as pd\n",
    "from sklearn.model_selection import train_test_split\n",
    "from sklearn.impute import SimpleImputer\n",
    "from sklearn.preprocessing import StandardScaler\n",
    "from sklearn.model_selection import PredefinedSplit\n",
    "from sklearn.model_selection import GridSearchCV\n",
    "from sklearn.svm import SVC\n",
    "from sklearn.metrics import accuracy_score\n",
    "import matplotlib.pyplot as plt\n",
    "import pickle\n",
    "\n",
    "%matplotlib inline\n",
    "#matplotlib.style.use('seaborn-v0_8-ticks')"
   ]
  },
  {
   "cell_type": "markdown",
   "metadata": {},
   "source": [
    "**Definición de variables globales**"
   ]
  },
  {
   "cell_type": "code",
   "execution_count": 2,
   "metadata": {},
   "outputs": [],
   "source": [
    "DATASET_NAME = 'bloodTransfusion.data'\n",
    "DATASET_DELIMITER = ','\n",
    "SEED_VALUE = 1  # NO CAMBIES ESTA SEMILLA, así todos tendremos los mismos resultados"
   ]
  },
  {
   "cell_type": "markdown",
   "metadata": {},
   "source": [
    "**Lectura del fichero de datos**"
   ]
  },
  {
   "cell_type": "code",
   "execution_count": 3,
   "metadata": {},
   "outputs": [
    {
     "data": {
      "text/html": [
       "<div>\n",
       "<style scoped>\n",
       "    .dataframe tbody tr th:only-of-type {\n",
       "        vertical-align: middle;\n",
       "    }\n",
       "\n",
       "    .dataframe tbody tr th {\n",
       "        vertical-align: top;\n",
       "    }\n",
       "\n",
       "    .dataframe thead th {\n",
       "        text-align: right;\n",
       "    }\n",
       "</style>\n",
       "<table border=\"1\" class=\"dataframe\">\n",
       "  <thead>\n",
       "    <tr style=\"text-align: right;\">\n",
       "      <th></th>\n",
       "      <th>X0</th>\n",
       "      <th>X1</th>\n",
       "      <th>X2</th>\n",
       "      <th>X3</th>\n",
       "      <th>Y</th>\n",
       "    </tr>\n",
       "  </thead>\n",
       "  <tbody>\n",
       "    <tr>\n",
       "      <th>0</th>\n",
       "      <td>2</td>\n",
       "      <td>50</td>\n",
       "      <td>12500</td>\n",
       "      <td>98</td>\n",
       "      <td>1</td>\n",
       "    </tr>\n",
       "    <tr>\n",
       "      <th>1</th>\n",
       "      <td>0</td>\n",
       "      <td>13</td>\n",
       "      <td>3250</td>\n",
       "      <td>28</td>\n",
       "      <td>1</td>\n",
       "    </tr>\n",
       "    <tr>\n",
       "      <th>2</th>\n",
       "      <td>1</td>\n",
       "      <td>16</td>\n",
       "      <td>4000</td>\n",
       "      <td>35</td>\n",
       "      <td>1</td>\n",
       "    </tr>\n",
       "    <tr>\n",
       "      <th>3</th>\n",
       "      <td>2</td>\n",
       "      <td>20</td>\n",
       "      <td>5000</td>\n",
       "      <td>45</td>\n",
       "      <td>1</td>\n",
       "    </tr>\n",
       "    <tr>\n",
       "      <th>4</th>\n",
       "      <td>1</td>\n",
       "      <td>24</td>\n",
       "      <td>6000</td>\n",
       "      <td>77</td>\n",
       "      <td>0</td>\n",
       "    </tr>\n",
       "    <tr>\n",
       "      <th>...</th>\n",
       "      <td>...</td>\n",
       "      <td>...</td>\n",
       "      <td>...</td>\n",
       "      <td>...</td>\n",
       "      <td>...</td>\n",
       "    </tr>\n",
       "    <tr>\n",
       "      <th>743</th>\n",
       "      <td>23</td>\n",
       "      <td>2</td>\n",
       "      <td>500</td>\n",
       "      <td>38</td>\n",
       "      <td>0</td>\n",
       "    </tr>\n",
       "    <tr>\n",
       "      <th>744</th>\n",
       "      <td>21</td>\n",
       "      <td>2</td>\n",
       "      <td>500</td>\n",
       "      <td>52</td>\n",
       "      <td>0</td>\n",
       "    </tr>\n",
       "    <tr>\n",
       "      <th>745</th>\n",
       "      <td>23</td>\n",
       "      <td>3</td>\n",
       "      <td>750</td>\n",
       "      <td>62</td>\n",
       "      <td>0</td>\n",
       "    </tr>\n",
       "    <tr>\n",
       "      <th>746</th>\n",
       "      <td>39</td>\n",
       "      <td>1</td>\n",
       "      <td>250</td>\n",
       "      <td>39</td>\n",
       "      <td>0</td>\n",
       "    </tr>\n",
       "    <tr>\n",
       "      <th>747</th>\n",
       "      <td>72</td>\n",
       "      <td>1</td>\n",
       "      <td>250</td>\n",
       "      <td>72</td>\n",
       "      <td>0</td>\n",
       "    </tr>\n",
       "  </tbody>\n",
       "</table>\n",
       "<p>748 rows × 5 columns</p>\n",
       "</div>"
      ],
      "text/plain": [
       "     X0  X1     X2  X3  Y\n",
       "0     2  50  12500  98  1\n",
       "1     0  13   3250  28  1\n",
       "2     1  16   4000  35  1\n",
       "3     2  20   5000  45  1\n",
       "4     1  24   6000  77  0\n",
       "..   ..  ..    ...  .. ..\n",
       "743  23   2    500  38  0\n",
       "744  21   2    500  52  0\n",
       "745  23   3    750  62  0\n",
       "746  39   1    250  39  0\n",
       "747  72   1    250  72  0\n",
       "\n",
       "[748 rows x 5 columns]"
      ]
     },
     "execution_count": 3,
     "metadata": {},
     "output_type": "execute_result"
    }
   ],
   "source": [
    "dataset = pd.read_csv(DATASET_NAME, \n",
    "                      delimiter=DATASET_DELIMITER,\n",
    "                      skiprows=1, # la primera fila no contiene datos\n",
    "                      header=None,\n",
    "                      names = [\"X0\", \"X1\", \"X2\", \"X3\", \"Y\"])\n",
    "dataset"
   ]
  },
  {
   "cell_type": "markdown",
   "metadata": {},
   "source": [
    "**Exploración de los datos**\n",
    "\n",
    "A continuación, vemos si hay valores perdidos en nuestro conjunto de datos (en caso afirmativo, haremos el tratamiento más adelante). Visualizamos también estadísticas descriptivas de las variables predictoras. En este caso, Y no interesa tanto ya que es una variable binaria. Veremos su distribución de clases más adelante. "
   ]
  },
  {
   "cell_type": "code",
   "execution_count": 4,
   "metadata": {
    "collapsed": true
   },
   "outputs": [
    {
     "name": "stdout",
     "output_type": "stream",
     "text": [
      "Valores faltantes: \n",
      "X0    0\n",
      "X1    0\n",
      "X2    0\n",
      "X3    0\n",
      "Y     0\n",
      "dtype: int64\n",
      "\n",
      "Estadísticas de los predictores:\n"
     ]
    },
    {
     "data": {
      "text/html": [
       "<div>\n",
       "<style scoped>\n",
       "    .dataframe tbody tr th:only-of-type {\n",
       "        vertical-align: middle;\n",
       "    }\n",
       "\n",
       "    .dataframe tbody tr th {\n",
       "        vertical-align: top;\n",
       "    }\n",
       "\n",
       "    .dataframe thead th {\n",
       "        text-align: right;\n",
       "    }\n",
       "</style>\n",
       "<table border=\"1\" class=\"dataframe\">\n",
       "  <thead>\n",
       "    <tr style=\"text-align: right;\">\n",
       "      <th></th>\n",
       "      <th>X0</th>\n",
       "      <th>X1</th>\n",
       "      <th>X2</th>\n",
       "      <th>X3</th>\n",
       "    </tr>\n",
       "  </thead>\n",
       "  <tbody>\n",
       "    <tr>\n",
       "      <th>count</th>\n",
       "      <td>748.000000</td>\n",
       "      <td>748.000000</td>\n",
       "      <td>748.000000</td>\n",
       "      <td>748.000000</td>\n",
       "    </tr>\n",
       "    <tr>\n",
       "      <th>mean</th>\n",
       "      <td>9.506684</td>\n",
       "      <td>5.514706</td>\n",
       "      <td>1378.676471</td>\n",
       "      <td>34.282086</td>\n",
       "    </tr>\n",
       "    <tr>\n",
       "      <th>std</th>\n",
       "      <td>8.095396</td>\n",
       "      <td>5.839307</td>\n",
       "      <td>1459.826781</td>\n",
       "      <td>24.376714</td>\n",
       "    </tr>\n",
       "    <tr>\n",
       "      <th>min</th>\n",
       "      <td>0.000000</td>\n",
       "      <td>1.000000</td>\n",
       "      <td>250.000000</td>\n",
       "      <td>2.000000</td>\n",
       "    </tr>\n",
       "    <tr>\n",
       "      <th>25%</th>\n",
       "      <td>2.750000</td>\n",
       "      <td>2.000000</td>\n",
       "      <td>500.000000</td>\n",
       "      <td>16.000000</td>\n",
       "    </tr>\n",
       "    <tr>\n",
       "      <th>50%</th>\n",
       "      <td>7.000000</td>\n",
       "      <td>4.000000</td>\n",
       "      <td>1000.000000</td>\n",
       "      <td>28.000000</td>\n",
       "    </tr>\n",
       "    <tr>\n",
       "      <th>75%</th>\n",
       "      <td>14.000000</td>\n",
       "      <td>7.000000</td>\n",
       "      <td>1750.000000</td>\n",
       "      <td>50.000000</td>\n",
       "    </tr>\n",
       "    <tr>\n",
       "      <th>max</th>\n",
       "      <td>74.000000</td>\n",
       "      <td>50.000000</td>\n",
       "      <td>12500.000000</td>\n",
       "      <td>98.000000</td>\n",
       "    </tr>\n",
       "  </tbody>\n",
       "</table>\n",
       "</div>"
      ],
      "text/plain": [
       "               X0          X1            X2          X3\n",
       "count  748.000000  748.000000    748.000000  748.000000\n",
       "mean     9.506684    5.514706   1378.676471   34.282086\n",
       "std      8.095396    5.839307   1459.826781   24.376714\n",
       "min      0.000000    1.000000    250.000000    2.000000\n",
       "25%      2.750000    2.000000    500.000000   16.000000\n",
       "50%      7.000000    4.000000   1000.000000   28.000000\n",
       "75%     14.000000    7.000000   1750.000000   50.000000\n",
       "max     74.000000   50.000000  12500.000000   98.000000"
      ]
     },
     "execution_count": 4,
     "metadata": {},
     "output_type": "execute_result"
    }
   ],
   "source": [
    "print(f\"Valores faltantes: \\n{dataset.isnull().sum()}\\n\")\n",
    "print(\"Estadísticas de los predictores:\")\n",
    "dataset.loc[:, \"X0\":\"X3\"].describe()"
   ]
  },
  {
   "cell_type": "markdown",
   "metadata": {},
   "source": [
    "El fichero contiene 5 variables y 748 observaciones distintas. Las variables predictoras son `X0`, `X1`, `X2`, `X3`, y la variable dependiente sería `Y`. Estamos ante un problema de clasificación binario (dada la naturaleza booleana de `Y`, existen 2 clases)."
   ]
  },
  {
   "cell_type": "markdown",
   "metadata": {},
   "source": [
    "**Visualización de los datos**"
   ]
  },
  {
   "cell_type": "code",
   "execution_count": 5,
   "metadata": {
    "collapsed": true
   },
   "outputs": [
    {
     "name": "stdout",
     "output_type": "stream",
     "text": [
      "Distribución de clases en la variable de salida: \n",
      "0    570\n",
      "1    178\n",
      "Name: Y, dtype: int64\n"
     ]
    },
    {
     "name": "stderr",
     "output_type": "stream",
     "text": [
      "/mnt/netapp1/Optcesga_FT2_RHEL7/2020/gentoo/22072020/usr/lib/python3.7/site-packages/numpy/core/_asarray.py:83: VisibleDeprecationWarning: Creating an ndarray from ragged nested sequences (which is a list-or-tuple of lists-or-tuples-or ndarrays with different lengths or shapes) is deprecated. If you meant to do this, you must specify 'dtype=object' when creating the ndarray\n",
      "  return array(a, dtype, copy=False, order=order)\n"
     ]
    },
    {
     "data": {
      "image/png": "[encoded data removed]",
      "text/plain": [
       "<Figure size 432x288 with 1 Axes>"
      ]
     },
     "metadata": {
      "needs_background": "light"
     },
     "output_type": "display_data"
    },
    {
     "data": {
      "image/png": "[encoded data removed]",
      "text/plain": [
       "<Figure size 432x288 with 1 Axes>"
      ]
     },
     "metadata": {
      "needs_background": "light"
     },
     "output_type": "display_data"
    },
    {
     "data": {
      "image/png": "[encoded data removed]",
      "text/plain": [
       "<Figure size 432x288 with 1 Axes>"
      ]
     },
     "metadata": {
      "needs_background": "light"
     },
     "output_type": "display_data"
    },
    {
     "data": {
      "image/png": "[encoded data removed]",
      "text/plain": [
       "<Figure size 432x288 with 1 Axes>"
      ]
     },
     "metadata": {
      "needs_background": "light"
     },
     "output_type": "display_data"
    },
    {
     "data": {
      "image/png": "[encoded data removed]",
      "text/plain": [
       "<Figure size 432x288 with 1 Axes>"
      ]
     },
     "metadata": {
      "needs_background": "light"
     },
     "output_type": "display_data"
    }
   ],
   "source": [
    "def distClases(data, etiquetas = ['1', '0'], colores=['springgreen', 'crimson']):\n",
    "    print(f\"Distribución de clases en la variable de salida: \\n{data['Y'].value_counts()}\")\n",
    "    \n",
    "    for column in data:  # Visualizamos la distribución de variables por clases\n",
    "        plt.title(column)\n",
    "        clases = [data[data['Y'] == eval(i)][column] for i in etiquetas]\n",
    "        plt.hist(clases, label=etiquetas, color=colores)\n",
    "        plt.legend(loc='upper right')\n",
    "        plt.show()\n",
    "\n",
    "\n",
    "distClases(dataset)"
   ]
  },
  {
   "cell_type": "markdown",
   "metadata": {},
   "source": [
    "También podemos visualizar los datos y sus clases por pares de atributos:"
   ]
  },
  {
   "cell_type": "code",
   "execution_count": 6,
   "metadata": {
    "collapsed": true
   },
   "outputs": [
    {
     "name": "stdout",
     "output_type": "stream",
     "text": [
      "Correlación numérica entre las variables: \n",
      "          X0        X1        X2        X3         Y\n",
      "X0  1.000000 -0.182745 -0.182745  0.160618 -0.279869\n",
      "X1 -0.182745  1.000000  1.000000  0.634940  0.218633\n",
      "X2 -0.182745  1.000000  1.000000  0.634940  0.218633\n",
      "X3  0.160618  0.634940  0.634940  1.000000 -0.035854\n",
      "Y  -0.279869  0.218633  0.218633 -0.035854  1.000000\n"
     ]
    },
    {
     "data": {
      "image/png": "[encoded data removed]",
      "text/plain": [
       "<Figure size 432x288 with 1 Axes>"
      ]
     },
     "metadata": {
      "needs_background": "light"
     },
     "output_type": "display_data"
    },
    {
     "data": {
      "image/png": "[encoded data removed]",
      "text/plain": [
       "<Figure size 432x288 with 1 Axes>"
      ]
     },
     "metadata": {
      "needs_background": "light"
     },
     "output_type": "display_data"
    },
    {
     "data": {
      "image/png": "[encoded data removed]",
      "text/plain": [
       "<Figure size 432x288 with 1 Axes>"
      ]
     },
     "metadata": {
      "needs_background": "light"
     },
     "output_type": "display_data"
    },
    {
     "data": {
      "image/png": "[encoded data removed]",
      "text/plain": [
       "<Figure size 432x288 with 1 Axes>"
      ]
     },
     "metadata": {
      "needs_background": "light"
     },
     "output_type": "display_data"
    },
    {
     "data": {
      "image/png": "[encoded data removed]",
      "text/plain": [
       "<Figure size 432x288 with 1 Axes>"
      ]
     },
     "metadata": {
      "needs_background": "light"
     },
     "output_type": "display_data"
    },
    {
     "data": {
      "image/png": "[encoded data removed]",
      "text/plain": [
       "<Figure size 432x288 with 1 Axes>"
      ]
     },
     "metadata": {
      "needs_background": "light"
     },
     "output_type": "display_data"
    }
   ],
   "source": [
    "def distPares(data):\n",
    "    print(f\"Correlación numérica entre las variables: \\n{data.corr()}\") # correlación entre las variables\n",
    "\n",
    "    column_names = data.columns[:-1]  # Omitimos la variable dependiente\n",
    "    # Ahora representamos atributos por pares (mostrando también la clase)\n",
    "    column_names = data.columns[:-1]  # Omitimos la variable dependiente\n",
    "    for i, columna_i in enumerate(column_names):\n",
    "        for j, columna_j in enumerate(column_names):\n",
    "            if i < j:\n",
    "                fig, ax = plt.subplots()\n",
    "                data.plot.scatter(columna_i, columna_j, c='crimson', ax=ax)\n",
    "\n",
    "distPares(dataset)"
   ]
  },
  {
   "cell_type": "markdown",
   "metadata": {},
   "source": [
    "### División de los datos en entrenamiento (80%) y test (20%)\n",
    "\n",
    "Para la división de datos entre entrenamiento (80%) y test (20%) usamos `train_test_split`."
   ]
  },
  {
   "cell_type": "code",
   "execution_count": 7,
   "metadata": {},
   "outputs": [
    {
     "data": {
      "text/html": [
       "<div>\n",
       "<style scoped>\n",
       "    .dataframe tbody tr th:only-of-type {\n",
       "        vertical-align: middle;\n",
       "    }\n",
       "\n",
       "    .dataframe tbody tr th {\n",
       "        vertical-align: top;\n",
       "    }\n",
       "\n",
       "    .dataframe thead th {\n",
       "        text-align: right;\n",
       "    }\n",
       "</style>\n",
       "<table border=\"1\" class=\"dataframe\">\n",
       "  <thead>\n",
       "    <tr style=\"text-align: right;\">\n",
       "      <th></th>\n",
       "      <th>X0</th>\n",
       "      <th>X1</th>\n",
       "      <th>X2</th>\n",
       "      <th>X3</th>\n",
       "      <th>Y</th>\n",
       "    </tr>\n",
       "  </thead>\n",
       "  <tbody>\n",
       "    <tr>\n",
       "      <th>309</th>\n",
       "      <td>16</td>\n",
       "      <td>3</td>\n",
       "      <td>750</td>\n",
       "      <td>19</td>\n",
       "      <td>0</td>\n",
       "    </tr>\n",
       "    <tr>\n",
       "      <th>711</th>\n",
       "      <td>23</td>\n",
       "      <td>6</td>\n",
       "      <td>1500</td>\n",
       "      <td>45</td>\n",
       "      <td>0</td>\n",
       "    </tr>\n",
       "    <tr>\n",
       "      <th>343</th>\n",
       "      <td>11</td>\n",
       "      <td>1</td>\n",
       "      <td>250</td>\n",
       "      <td>11</td>\n",
       "      <td>0</td>\n",
       "    </tr>\n",
       "    <tr>\n",
       "      <th>462</th>\n",
       "      <td>21</td>\n",
       "      <td>1</td>\n",
       "      <td>250</td>\n",
       "      <td>21</td>\n",
       "      <td>1</td>\n",
       "    </tr>\n",
       "    <tr>\n",
       "      <th>646</th>\n",
       "      <td>14</td>\n",
       "      <td>2</td>\n",
       "      <td>500</td>\n",
       "      <td>14</td>\n",
       "      <td>0</td>\n",
       "    </tr>\n",
       "    <tr>\n",
       "      <th>...</th>\n",
       "      <td>...</td>\n",
       "      <td>...</td>\n",
       "      <td>...</td>\n",
       "      <td>...</td>\n",
       "      <td>...</td>\n",
       "    </tr>\n",
       "    <tr>\n",
       "      <th>315</th>\n",
       "      <td>4</td>\n",
       "      <td>2</td>\n",
       "      <td>500</td>\n",
       "      <td>29</td>\n",
       "      <td>0</td>\n",
       "    </tr>\n",
       "    <tr>\n",
       "      <th>473</th>\n",
       "      <td>14</td>\n",
       "      <td>3</td>\n",
       "      <td>750</td>\n",
       "      <td>83</td>\n",
       "      <td>0</td>\n",
       "    </tr>\n",
       "    <tr>\n",
       "      <th>661</th>\n",
       "      <td>16</td>\n",
       "      <td>2</td>\n",
       "      <td>500</td>\n",
       "      <td>16</td>\n",
       "      <td>0</td>\n",
       "    </tr>\n",
       "    <tr>\n",
       "      <th>362</th>\n",
       "      <td>4</td>\n",
       "      <td>3</td>\n",
       "      <td>750</td>\n",
       "      <td>71</td>\n",
       "      <td>0</td>\n",
       "    </tr>\n",
       "    <tr>\n",
       "      <th>721</th>\n",
       "      <td>23</td>\n",
       "      <td>3</td>\n",
       "      <td>750</td>\n",
       "      <td>35</td>\n",
       "      <td>0</td>\n",
       "    </tr>\n",
       "  </tbody>\n",
       "</table>\n",
       "<p>150 rows × 5 columns</p>\n",
       "</div>"
      ],
      "text/plain": [
       "     X0  X1    X2  X3  Y\n",
       "309  16   3   750  19  0\n",
       "711  23   6  1500  45  0\n",
       "343  11   1   250  11  0\n",
       "462  21   1   250  21  1\n",
       "646  14   2   500  14  0\n",
       "..   ..  ..   ...  .. ..\n",
       "315   4   2   500  29  0\n",
       "473  14   3   750  83  0\n",
       "661  16   2   500  16  0\n",
       "362   4   3   750  71  0\n",
       "721  23   3   750  35  0\n",
       "\n",
       "[150 rows x 5 columns]"
      ]
     },
     "execution_count": 7,
     "metadata": {},
     "output_type": "execute_result"
    }
   ],
   "source": [
    "dataset_train, dataset_test = train_test_split(dataset, test_size=0.2, random_state=SEED_VALUE, stratify=dataset[\"Y\"])\n",
    "dataset_test"
   ]
  },
  {
   "cell_type": "markdown",
   "metadata": {},
   "source": [
    "**Gestión de valores faltantes**\n",
    "\n",
    "Como ya vimos en la breve exploración e los datos, nuestro dataset no tiene valores faltantes.\n",
    "Sin embargo, la sustitución de las variables predictoras por la media se llevaría a cabo de la siguiente manera. `SimpleImputer` convierte nuestros valores a un array NumPy, por lo que sería bueno que se vuelven a convertir a formato dataframe."
   ]
  },
  {
   "cell_type": "code",
   "execution_count": 8,
   "metadata": {},
   "outputs": [
    {
     "data": {
      "text/html": [
       "<div>\n",
       "<style scoped>\n",
       "    .dataframe tbody tr th:only-of-type {\n",
       "        vertical-align: middle;\n",
       "    }\n",
       "\n",
       "    .dataframe tbody tr th {\n",
       "        vertical-align: top;\n",
       "    }\n",
       "\n",
       "    .dataframe thead th {\n",
       "        text-align: right;\n",
       "    }\n",
       "</style>\n",
       "<table border=\"1\" class=\"dataframe\">\n",
       "  <thead>\n",
       "    <tr style=\"text-align: right;\">\n",
       "      <th></th>\n",
       "      <th>X0</th>\n",
       "      <th>X1</th>\n",
       "      <th>X2</th>\n",
       "      <th>X3</th>\n",
       "      <th>Y</th>\n",
       "    </tr>\n",
       "  </thead>\n",
       "  <tbody>\n",
       "    <tr>\n",
       "      <th>309</th>\n",
       "      <td>16.0</td>\n",
       "      <td>3.0</td>\n",
       "      <td>750.0</td>\n",
       "      <td>19.0</td>\n",
       "      <td>0.0</td>\n",
       "    </tr>\n",
       "    <tr>\n",
       "      <th>711</th>\n",
       "      <td>23.0</td>\n",
       "      <td>6.0</td>\n",
       "      <td>1500.0</td>\n",
       "      <td>45.0</td>\n",
       "      <td>0.0</td>\n",
       "    </tr>\n",
       "    <tr>\n",
       "      <th>343</th>\n",
       "      <td>11.0</td>\n",
       "      <td>1.0</td>\n",
       "      <td>250.0</td>\n",
       "      <td>11.0</td>\n",
       "      <td>0.0</td>\n",
       "    </tr>\n",
       "    <tr>\n",
       "      <th>462</th>\n",
       "      <td>21.0</td>\n",
       "      <td>1.0</td>\n",
       "      <td>250.0</td>\n",
       "      <td>21.0</td>\n",
       "      <td>1.0</td>\n",
       "    </tr>\n",
       "    <tr>\n",
       "      <th>646</th>\n",
       "      <td>14.0</td>\n",
       "      <td>2.0</td>\n",
       "      <td>500.0</td>\n",
       "      <td>14.0</td>\n",
       "      <td>0.0</td>\n",
       "    </tr>\n",
       "    <tr>\n",
       "      <th>...</th>\n",
       "      <td>...</td>\n",
       "      <td>...</td>\n",
       "      <td>...</td>\n",
       "      <td>...</td>\n",
       "      <td>...</td>\n",
       "    </tr>\n",
       "    <tr>\n",
       "      <th>315</th>\n",
       "      <td>4.0</td>\n",
       "      <td>2.0</td>\n",
       "      <td>500.0</td>\n",
       "      <td>29.0</td>\n",
       "      <td>0.0</td>\n",
       "    </tr>\n",
       "    <tr>\n",
       "      <th>473</th>\n",
       "      <td>14.0</td>\n",
       "      <td>3.0</td>\n",
       "      <td>750.0</td>\n",
       "      <td>83.0</td>\n",
       "      <td>0.0</td>\n",
       "    </tr>\n",
       "    <tr>\n",
       "      <th>661</th>\n",
       "      <td>16.0</td>\n",
       "      <td>2.0</td>\n",
       "      <td>500.0</td>\n",
       "      <td>16.0</td>\n",
       "      <td>0.0</td>\n",
       "    </tr>\n",
       "    <tr>\n",
       "      <th>362</th>\n",
       "      <td>4.0</td>\n",
       "      <td>3.0</td>\n",
       "      <td>750.0</td>\n",
       "      <td>71.0</td>\n",
       "      <td>0.0</td>\n",
       "    </tr>\n",
       "    <tr>\n",
       "      <th>721</th>\n",
       "      <td>23.0</td>\n",
       "      <td>3.0</td>\n",
       "      <td>750.0</td>\n",
       "      <td>35.0</td>\n",
       "      <td>0.0</td>\n",
       "    </tr>\n",
       "  </tbody>\n",
       "</table>\n",
       "<p>150 rows × 5 columns</p>\n",
       "</div>"
      ],
      "text/plain": [
       "       X0   X1      X2    X3    Y\n",
       "309  16.0  3.0   750.0  19.0  0.0\n",
       "711  23.0  6.0  1500.0  45.0  0.0\n",
       "343  11.0  1.0   250.0  11.0  0.0\n",
       "462  21.0  1.0   250.0  21.0  1.0\n",
       "646  14.0  2.0   500.0  14.0  0.0\n",
       "..    ...  ...     ...   ...  ...\n",
       "315   4.0  2.0   500.0  29.0  0.0\n",
       "473  14.0  3.0   750.0  83.0  0.0\n",
       "661  16.0  2.0   500.0  16.0  0.0\n",
       "362   4.0  3.0   750.0  71.0  0.0\n",
       "721  23.0  3.0   750.0  35.0  0.0\n",
       "\n",
       "[150 rows x 5 columns]"
      ]
     },
     "execution_count": 8,
     "metadata": {},
     "output_type": "execute_result"
    }
   ],
   "source": [
    "def valoresFaltantes(trainData, testData, mis_val=np.nan, fill_val='mean'):\n",
    "    imp = SimpleImputer(missing_values=mis_val, fill_value=fill_val) # definimos el mapa\n",
    "    imp = imp.fit(trainData)  # La media la calculamos SÓLO a partir del conjunto de train \n",
    "\n",
    "    # Los valores van a ser los mismos que antes, pues no tenemos datos faltantes\n",
    "    dataset_train_prep = imp.transform(trainData) # aqui modificamos los datos de train\n",
    "    dataset_test_prep = imp.transform(testData) # aqui modificamos los datos de test (se usa la media de entrenamiento)\n",
    "\n",
    "    dataset_train = pd.DataFrame(dataset_train_prep, \n",
    "                                 columns=trainData.columns, \n",
    "                                 index=trainData.index)\n",
    "    dataset_test = pd.DataFrame(dataset_test_prep, \n",
    "                                columns=testData.columns, \n",
    "                                index=testData.index)\n",
    "\n",
    "    return dataset_train, dataset_test\n",
    "\n",
    "dataset_train, dataset_test = valoresFaltantes(dataset_train, dataset_test)\n",
    "dataset_test"
   ]
  },
  {
   "cell_type": "markdown",
   "metadata": {},
   "source": [
    "### Separación de variables predictoras y dependientes y estandarización de los datos\n",
    "\n",
    "Es recomendable hacer siempre la estandarización de los datos. Esto hay que hacerlo **DESPUÉS** de dividir en conjuntos de entrenamiento y test. En los problemas de clasificación, **NO** estandarizaremos la variable dependiente, pero esto sí es necesario en problemas de regresión.\n",
    "\n",
    "Definimos una función que, dada los datos de entrenamiento y *test*, separa las varibles predictoras y dependientes (especificadas en los parámetros `preds` y `dep`), y estandariza las variables predictoras o las predictoras y las dependientes (el parámetro `escalar = [True, True]` controla el escalado de las variables: el primer elemento indica si se estandarizan las variables predictoras o no (en este último caso da error, ya que es necesario), y el segundo elemento hace lo mismo con las variables dependientes). "
   ]
  },
  {
   "cell_type": "code",
   "execution_count": 9,
   "metadata": {},
   "outputs": [],
   "source": [
    "def splitScale(trainData, testData, preds = ['X0', 'X1', 'X2', 'X3'], dep = 'Y', escalar = [True, True]):\n",
    "\n",
    "    dataset_train_X = trainData.loc[:, preds[0]:preds[-1]].astype(float)\n",
    "    dataset_train_Y = trainData.loc[:, dep].astype(float)\n",
    "\n",
    "    dataset_test_X = testData.loc[:, preds[0]:preds[-1]].astype(float)\n",
    "    dataset_test_Y = testData.loc[:, dep].astype(float)\n",
    "\n",
    "    if escalar[0]:\n",
    "        scalerX = StandardScaler() # creamos el scaler\n",
    "        scalerX.fit(dataset_train_X) # ajustamos a los datos de TRAIN\n",
    "\n",
    "        dataset_train_X_scaled = scalerX.transform(dataset_train_X)\n",
    "        dataset_test_X_scaled = scalerX.transform(dataset_test_X)\n",
    "\n",
    "        print(\"Valores con los que se ha estandarizado:\\n\")\n",
    "        \n",
    "        statsPreds = pd.DataFrame([scalerX.mean_, scalerX.scale_], \n",
    "                                  index = ['Mean', 'std'], \n",
    "                                  columns = preds)\n",
    "        print(f\"{statsPreds}\\n\")\n",
    "\n",
    "        if escalar[1]:\n",
    "            \n",
    "            dataset_train_Y = dataset_train_Y.to_frame()\n",
    "            dataset_test_Y = dataset_test_Y.to_frame()\n",
    "            \n",
    "            scalerY = StandardScaler()\n",
    "            scalerY.fit(dataset_train_Y) # ajustamos a los datos de TRAIN\n",
    "\n",
    "            dataset_train_Y_scaled = scalerY.transform(dataset_train_Y)\n",
    "            dataset_test_Y_scaled = scalerY.transform(dataset_test_Y)\n",
    "\n",
    "            statsDep = pd.DataFrame([scalerY.mean_, scalerY.scale_], \n",
    "                                    index = ['Mean', 'std'], \n",
    "                                    columns = [dep])\n",
    "            print(statsDep)\n",
    "\n",
    "            return dataset_train_X_scaled, dataset_train_Y_scaled, dataset_test_X_scaled, dataset_test_Y_scaled, [scalerX, scalerY]\n",
    "        \n",
    "        return dataset_train_X_scaled, dataset_train_Y, dataset_test_X_scaled, dataset_test_Y, scalerX\n",
    "    \n",
    "    else: \n",
    "        raise ValueError(\"Es necesario escalar los predictores\")"
   ]
  },
  {
   "cell_type": "code",
   "execution_count": 10,
   "metadata": {},
   "outputs": [
    {
     "name": "stdout",
     "output_type": "stream",
     "text": [
      "Valores con los que se ha estandarizado:\n",
      "\n",
      "            X0        X1           X2         X3\n",
      "Mean  9.508361  5.637124  1409.280936  34.879599\n",
      "std   7.893041  5.893176  1473.294031  24.729957\n",
      "\n"
     ]
    }
   ],
   "source": [
    "dataset_train_X_scaled, dataset_train_Y, dataset_test_X_scaled, dataset_test_Y, scaler = splitScale(dataset_train, dataset_test, preds = ['X0', 'X1', 'X2', 'X3'], dep = 'Y', escalar=[True, False])"
   ]
  },
  {
   "cell_type": "markdown",
   "metadata": {},
   "source": [
    "### Exploración de hiperparámetros"
   ]
  },
  {
   "cell_type": "markdown",
   "metadata": {},
   "source": [
    "Hemos visualizado y preprocesado los datos. Vamos a empezar a trabajar con nuestro predictor. Importante conocer los hiperparámetros del modelo a usar. Debemos sobreaprender y subaprender. Primero hacemos exploracion de hiperparámetros de grano grueso y luego de grano fino.\n",
    "\n",
    "`GridSearch` admite una gran variedad de modelos, por lo que definir una función que lo aplique resultará de utilidad. Pasando el modelo a usar el *grid* de hiperparámetros, obtenemos los resultados de los modelos explorados. Además, como lo usaremos con frecuencia, añadimos una columna a los resultados calculando el error medio. "
   ]
  },
  {
   "cell_type": "code",
   "execution_count": 11,
   "metadata": {},
   "outputs": [],
   "source": [
    "def crossVal(trainDataX, trainDataY, modelo, hiperparametros, cv = 5, scoring = 'accuracy'):\n",
    "    modelCV = GridSearchCV(modelo, \n",
    "                           param_grid = hiperparametros, # grid de hiperparametros\n",
    "                           cv = cv, # conjuntos de validacion cruzada (folds)\n",
    "                           scoring = scoring, # metrica de evaluacion \n",
    "                           return_train_score = True, \n",
    "                           verbose = 3)\n",
    "    \n",
    "    np.random.seed(SEED_VALUE) \n",
    "    modelCV.fit(trainDataX, trainDataY)\n",
    "    resultados = pd.DataFrame(modelCV.cv_results_)\n",
    "    \n",
    "    if scoring == 'accuracy': \n",
    "        resultados['mean_test_error'] = 1 - resultados.loc[:, 'mean_test_score']\n",
    "\n",
    "    return modelCV, resultados"
   ]
  },
  {
   "cell_type": "markdown",
   "metadata": {},
   "source": [
    "**Exploración de grano grueso**\n",
    "\n",
    "En esta práctica, exploraremos distintos tipos de *kernel* (lineal, polinómico y radial), así como los valores del parámetro de regularización `C` (para todos los *kernel*, `gamma` para el *kernel* radial y el grado del polinomio para el *kernel* polinómico). Hacemos primero una exploración de valores en un rango amplio (gg), para subaprender y sobreaprender. De este modo, luego seleccionaremos un rango más limitado de este parámetro y podremos explorar todas las posibilidades en el mismo. \n",
    "\n",
    "Debido a la cantidad de modelos a explorar, lo haremos para cada kernel por separado y guardaremos los resultados del entrenamiento."
   ]
  },
  {
   "cell_type": "markdown",
   "metadata": {},
   "source": [
    "**Kernel lineal**"
   ]
  },
  {
   "cell_type": "markdown",
   "metadata": {},
   "source": [
    "Para el *kernel* lineal buscaremos con valores de `C' desde $10^{-4}$ hasta $10^8$, dando saltos de dos en la potencia. "
   ]
  },
  {
   "cell_type": "code",
   "execution_count": 39,
   "metadata": {},
   "outputs": [
    {
     "name": "stdout",
     "output_type": "stream",
     "text": [
      "Fitting 5 folds for each of 7 candidates, totalling 35 fits\n",
      "[CV 1/5] END ........................C=0.0001, kernel=linear; total time=   0.0s\n",
      "[CV 2/5] END ........................C=0.0001, kernel=linear; total time=   0.0s\n",
      "[CV 3/5] END ........................C=0.0001, kernel=linear; total time=   0.0s\n",
      "[CV 4/5] END ........................C=0.0001, kernel=linear; total time=   0.0s\n",
      "[CV 5/5] END ........................C=0.0001, kernel=linear; total time=   0.0s\n",
      "[CV 1/5] END ..........................C=0.01, kernel=linear; total time=   0.0s\n",
      "[CV 2/5] END ..........................C=0.01, kernel=linear; total time=   0.0s\n",
      "[CV 3/5] END ..........................C=0.01, kernel=linear; total time=   0.0s\n",
      "[CV 4/5] END ..........................C=0.01, kernel=linear; total time=   0.0s\n",
      "[CV 5/5] END ..........................C=0.01, kernel=linear; total time=   0.0s\n",
      "[CV 1/5] END .............................C=1, kernel=linear; total time=   0.0s\n",
      "[CV 2/5] END .............................C=1, kernel=linear; total time=   0.0s\n",
      "[CV 3/5] END .............................C=1, kernel=linear; total time=   0.0s\n",
      "[CV 4/5] END .............................C=1, kernel=linear; total time=   0.0s\n",
      "[CV 5/5] END .............................C=1, kernel=linear; total time=   0.0s\n",
      "[CV 1/5] END ...........................C=100, kernel=linear; total time=   0.0s\n",
      "[CV 2/5] END ...........................C=100, kernel=linear; total time=   0.2s\n",
      "[CV 3/5] END ...........................C=100, kernel=linear; total time=   0.5s\n",
      "[CV 4/5] END ...........................C=100, kernel=linear; total time=   0.1s\n",
      "[CV 5/5] END ...........................C=100, kernel=linear; total time=   0.1s\n",
      "[CV 1/5] END .........................C=10000, kernel=linear; total time=  22.7s\n",
      "[CV 2/5] END .........................C=10000, kernel=linear; total time=  30.7s\n",
      "[CV 3/5] END .........................C=10000, kernel=linear; total time=  30.9s\n",
      "[CV 4/5] END .........................C=10000, kernel=linear; total time=  16.0s\n",
      "[CV 5/5] END .........................C=10000, kernel=linear; total time=  23.2s\n",
      "[CV 1/5] END .......................C=1000000, kernel=linear; total time= 1.8min\n",
      "[CV 2/5] END .......................C=1000000, kernel=linear; total time= 1.6min\n",
      "[CV 3/5] END .......................C=1000000, kernel=linear; total time= 1.4min\n",
      "[CV 4/5] END .......................C=1000000, kernel=linear; total time= 3.9min\n",
      "[CV 5/5] END .......................C=1000000, kernel=linear; total time= 4.3min\n",
      "[CV 1/5] END .....................C=100000000, kernel=linear; total time= 4.6min\n",
      "[CV 2/5] END .....................C=100000000, kernel=linear; total time= 2.0min\n",
      "[CV 3/5] END .....................C=100000000, kernel=linear; total time= 3.0min\n",
      "[CV 4/5] END .....................C=100000000, kernel=linear; total time= 2.2min\n",
      "[CV 5/5] END .....................C=100000000, kernel=linear; total time= 2.0min\n"
     ]
    }
   ],
   "source": [
    "valoresC_gg_lineal = [10**i for i in range(-4, 9, 2)] # -4, -2, 0, 2, 4, 6, 8 \n",
    "\n",
    "hyperparameters_gg_lineal = {'kernel': ['linear'], 'C': valoresC_gg_lineal}\n",
    "\n",
    "svm_gg_lineal = SVC(random_state=SEED_VALUE)\n",
    "\n",
    "modeloCV_gg_lineal, cv_results_gg_lineal = crossVal(dataset_train_X_scaled, np.ravel(dataset_train_Y.astype(int)), \n",
    "                                                    svm_gg_lineal, hyperparameters_gg_lineal)\n",
    "with open('cv_results_gg_lineal.pkl', 'wb') as f:\n",
    "    pickle.dump(cv_results_gg_lineal, f)"
   ]
  },
  {
   "cell_type": "markdown",
   "metadata": {},
   "source": [
    "**Kernel polinómico**"
   ]
  },
  {
   "cell_type": "markdown",
   "metadata": {},
   "source": [
    "Para el *kernel* polinómico fijamos $\\gamma = 1$. Buscaremos valores del grado del polinomio, desde 2 hasta 5. Debido al tiempo de cómputo, haremos la exploración de cada grado del polinomio por separado. El rango por donde buscaremos los valores de `C` irá variando para cada grado del polinomio."
   ]
  },
  {
   "cell_type": "markdown",
   "metadata": {},
   "source": [
    "**Polinomio de grado 2**\n",
    "\n",
    "Buscamos valores de `C` desde $10^{-4}$ hasta $10^8$, dando saltos de tres en la potencia."
   ]
  },
  {
   "cell_type": "code",
   "execution_count": 15,
   "metadata": {
    "collapsed": true
   },
   "outputs": [
    {
     "name": "stdout",
     "output_type": "stream",
     "text": [
      "Fitting 5 folds for each of 5 candidates, totalling 25 fits\n",
      "[CV 1/5] END .......C=0.0001, degree=2, gamma=1, kernel=poly; total time=   0.0s\n",
      "[CV 2/5] END .......C=0.0001, degree=2, gamma=1, kernel=poly; total time=   0.0s\n",
      "[CV 3/5] END .......C=0.0001, degree=2, gamma=1, kernel=poly; total time=   0.0s\n",
      "[CV 4/5] END .......C=0.0001, degree=2, gamma=1, kernel=poly; total time=   0.0s\n",
      "[CV 5/5] END .......C=0.0001, degree=2, gamma=1, kernel=poly; total time=   0.0s\n",
      "[CV 1/5] END ..........C=0.1, degree=2, gamma=1, kernel=poly; total time=   0.0s\n",
      "[CV 2/5] END ..........C=0.1, degree=2, gamma=1, kernel=poly; total time=   0.0s\n",
      "[CV 3/5] END ..........C=0.1, degree=2, gamma=1, kernel=poly; total time=   0.0s\n",
      "[CV 4/5] END ..........C=0.1, degree=2, gamma=1, kernel=poly; total time=   0.0s\n",
      "[CV 5/5] END ..........C=0.1, degree=2, gamma=1, kernel=poly; total time=   0.0s\n",
      "[CV 1/5] END ..........C=100, degree=2, gamma=1, kernel=poly; total time=  27.2s\n",
      "[CV 2/5] END ..........C=100, degree=2, gamma=1, kernel=poly; total time=   5.2s\n",
      "[CV 3/5] END ..........C=100, degree=2, gamma=1, kernel=poly; total time=   9.3s\n",
      "[CV 4/5] END ..........C=100, degree=2, gamma=1, kernel=poly; total time=   6.3s\n",
      "[CV 5/5] END ..........C=100, degree=2, gamma=1, kernel=poly; total time=   9.3s\n",
      "[CV 1/5] END .......C=100000, degree=2, gamma=1, kernel=poly; total time= 1.9min\n",
      "[CV 2/5] END .......C=100000, degree=2, gamma=1, kernel=poly; total time= 3.7min\n",
      "[CV 3/5] END .......C=100000, degree=2, gamma=1, kernel=poly; total time= 3.0min\n",
      "[CV 4/5] END .......C=100000, degree=2, gamma=1, kernel=poly; total time= 3.1min\n",
      "[CV 5/5] END .......C=100000, degree=2, gamma=1, kernel=poly; total time= 4.6min\n",
      "[CV 1/5] END ....C=100000000, degree=2, gamma=1, kernel=poly; total time= 5.9min\n",
      "[CV 2/5] END ....C=100000000, degree=2, gamma=1, kernel=poly; total time= 5.3min\n",
      "[CV 3/5] END ....C=100000000, degree=2, gamma=1, kernel=poly; total time= 9.7min\n",
      "[CV 4/5] END ....C=100000000, degree=2, gamma=1, kernel=poly; total time= 9.6min\n",
      "[CV 5/5] END ....C=100000000, degree=2, gamma=1, kernel=poly; total time=12.4min\n"
     ]
    }
   ],
   "source": [
    "valoresC_gg_poly2 = [10**i for i in range(-4, 9, 3)] # -4, -1, 2, 5, 8\n",
    "\n",
    "hyperparameters_gg_poly2 = {'kernel': ['poly'], 'C': valoresC_gg_poly2, 'degree': [2], 'gamma': [1]}\n",
    "\n",
    "svm_gg_poly2 = SVC(random_state=SEED_VALUE)\n",
    "\n",
    "modeloCV_gg_poly2, cv_results_gg_poly2 = crossVal(dataset_train_X_scaled, \n",
    "                                                 np.ravel(dataset_train_Y.astype(int)),\n",
    "                                                 svm_gg_poly2, \n",
    "                                                 hyperparameters_gg_poly2)\n",
    "\n",
    "with open('cv_results_gg_poly2.pkl', 'wb') as f:\n",
    "    pickle.dump(cv_results_gg_poly2, f)"
   ]
  },
  {
   "cell_type": "markdown",
   "metadata": {},
   "source": [
    "**Polinomio de grado 3**\n",
    "\n",
    "Buscamos valores de `C` desde $10^{-3}$ hasta $10^5$, dando saltos de dos en la potencia."
   ]
  },
  {
   "cell_type": "code",
   "execution_count": 12,
   "metadata": {
    "collapsed": true
   },
   "outputs": [
    {
     "name": "stdout",
     "output_type": "stream",
     "text": [
      "Fitting 5 folds for each of 5 candidates, totalling 25 fits\n",
      "[CV 1/5] END ........C=0.001, degree=3, gamma=1, kernel=poly; total time=   0.0s\n",
      "[CV 2/5] END ........C=0.001, degree=3, gamma=1, kernel=poly; total time=   0.0s\n",
      "[CV 3/5] END ........C=0.001, degree=3, gamma=1, kernel=poly; total time=   0.0s\n",
      "[CV 4/5] END ........C=0.001, degree=3, gamma=1, kernel=poly; total time=   0.0s\n",
      "[CV 5/5] END ........C=0.001, degree=3, gamma=1, kernel=poly; total time=   0.0s\n",
      "[CV 1/5] END ..........C=0.1, degree=3, gamma=1, kernel=poly; total time=   0.0s\n",
      "[CV 2/5] END ..........C=0.1, degree=3, gamma=1, kernel=poly; total time=   0.0s\n",
      "[CV 3/5] END ..........C=0.1, degree=3, gamma=1, kernel=poly; total time=   0.0s\n",
      "[CV 4/5] END ..........C=0.1, degree=3, gamma=1, kernel=poly; total time=   0.1s\n",
      "[CV 5/5] END ..........C=0.1, degree=3, gamma=1, kernel=poly; total time=   0.0s\n",
      "[CV 1/5] END ...........C=10, degree=3, gamma=1, kernel=poly; total time=   3.1s\n",
      "[CV 2/5] END ...........C=10, degree=3, gamma=1, kernel=poly; total time=   2.9s\n",
      "[CV 3/5] END ...........C=10, degree=3, gamma=1, kernel=poly; total time=   5.3s\n",
      "[CV 4/5] END ...........C=10, degree=3, gamma=1, kernel=poly; total time=   3.2s\n",
      "[CV 5/5] END ...........C=10, degree=3, gamma=1, kernel=poly; total time=   1.0s\n",
      "[CV 1/5] END .........C=1000, degree=3, gamma=1, kernel=poly; total time= 2.2min\n",
      "[CV 2/5] END .........C=1000, degree=3, gamma=1, kernel=poly; total time= 1.5min\n",
      "[CV 3/5] END .........C=1000, degree=3, gamma=1, kernel=poly; total time= 2.3min\n",
      "[CV 4/5] END .........C=1000, degree=3, gamma=1, kernel=poly; total time=  49.0s\n",
      "[CV 5/5] END .........C=1000, degree=3, gamma=1, kernel=poly; total time= 3.6min\n",
      "[CV 1/5] END .......C=100000, degree=3, gamma=1, kernel=poly; total time= 2.8min\n",
      "[CV 2/5] END .......C=100000, degree=3, gamma=1, kernel=poly; total time= 9.9min\n",
      "[CV 3/5] END .......C=100000, degree=3, gamma=1, kernel=poly; total time=12.8min\n",
      "[CV 4/5] END .......C=100000, degree=3, gamma=1, kernel=poly; total time= 2.8min\n",
      "[CV 5/5] END .......C=100000, degree=3, gamma=1, kernel=poly; total time=16.3min\n"
     ]
    }
   ],
   "source": [
    "valoresC_gg_poly3 = [10**i for i in range(-3, 6, 2)] # -3, -1, 1, 3, 5\n",
    "\n",
    "hyperparameters_gg_poly3 = {'kernel': ['poly'], 'C': valoresC_gg_poly3, 'degree': [3], 'gamma': [1]}\n",
    "\n",
    "svm_gg_poly3 = SVC(random_state=SEED_VALUE)\n",
    "modeloCV_gg_poly3, cv_results_gg_poly3 = crossVal(dataset_train_X_scaled, \n",
    "                                                 np.ravel(dataset_train_Y.astype(int)),\n",
    "                                                 svm_gg_poly3, \n",
    "                                                 hyperparameters_gg_poly3)\n",
    "\n",
    "with open('cv_results_gg_poly3.pkl', 'wb') as f:\n",
    "    pickle.dump(cv_results_gg_poly3, f)"
   ]
  },
  {
   "cell_type": "markdown",
   "metadata": {},
   "source": [
    "**Polinomio de grado 4**\n",
    "\n",
    "Buscamos valores de `C` [$10^{-4}$, $10^{-2}$, $10^0$ y $10^1$]. "
   ]
  },
  {
   "cell_type": "code",
   "execution_count": 13,
   "metadata": {
    "collapsed": true
   },
   "outputs": [
    {
     "name": "stdout",
     "output_type": "stream",
     "text": [
      "Fitting 5 folds for each of 4 candidates, totalling 20 fits\n",
      "[CV 1/5] END .......C=0.0001, degree=4, gamma=1, kernel=poly; total time=   0.0s\n",
      "[CV 2/5] END .......C=0.0001, degree=4, gamma=1, kernel=poly; total time=   0.0s\n",
      "[CV 3/5] END .......C=0.0001, degree=4, gamma=1, kernel=poly; total time=   0.0s\n",
      "[CV 4/5] END .......C=0.0001, degree=4, gamma=1, kernel=poly; total time=   0.0s\n",
      "[CV 5/5] END .......C=0.0001, degree=4, gamma=1, kernel=poly; total time=   0.0s\n",
      "[CV 1/5] END .........C=0.01, degree=4, gamma=1, kernel=poly; total time=   0.1s\n",
      "[CV 2/5] END .........C=0.01, degree=4, gamma=1, kernel=poly; total time=   0.1s\n",
      "[CV 3/5] END .........C=0.01, degree=4, gamma=1, kernel=poly; total time=   0.1s\n",
      "[CV 4/5] END .........C=0.01, degree=4, gamma=1, kernel=poly; total time=   0.1s\n",
      "[CV 5/5] END .........C=0.01, degree=4, gamma=1, kernel=poly; total time=   0.0s\n",
      "[CV 1/5] END ............C=1, degree=4, gamma=1, kernel=poly; total time=  29.4s\n",
      "[CV 2/5] END ............C=1, degree=4, gamma=1, kernel=poly; total time=   7.1s\n",
      "[CV 3/5] END ............C=1, degree=4, gamma=1, kernel=poly; total time=  24.4s\n",
      "[CV 4/5] END ............C=1, degree=4, gamma=1, kernel=poly; total time=  19.0s\n",
      "[CV 5/5] END ............C=1, degree=4, gamma=1, kernel=poly; total time=   0.5s\n",
      "[CV 1/5] END ...........C=10, degree=4, gamma=1, kernel=poly; total time= 1.3min\n",
      "[CV 2/5] END ...........C=10, degree=4, gamma=1, kernel=poly; total time=  57.7s\n",
      "[CV 3/5] END ...........C=10, degree=4, gamma=1, kernel=poly; total time=  53.3s\n",
      "[CV 4/5] END ...........C=10, degree=4, gamma=1, kernel=poly; total time= 1.6min\n",
      "[CV 5/5] END ...........C=10, degree=4, gamma=1, kernel=poly; total time=  10.3s\n"
     ]
    }
   ],
   "source": [
    "valoresC_gg_poly4 = [10**i for i in range(-4, 2, 2)] + [10] # -4, -2, 0, 1\n",
    "\n",
    "hyperparameters_gg_poly4 = {'kernel': ['poly'], 'C': valoresC_gg_poly4, 'degree': [4], 'gamma': [1]}\n",
    "\n",
    "svm_gg_poly4 = SVC(random_state=SEED_VALUE)\n",
    "modeloCV_gg_poly4, cv_results_gg_poly4 = crossVal(dataset_train_X_scaled, \n",
    "                                                 np.ravel(dataset_train_Y.astype(int)),\n",
    "                                                 svm_gg_poly4, \n",
    "                                                 hyperparameters_gg_poly4)\n",
    "\n",
    "with open('cv_results_gg_poly4.pkl', 'wb') as f:\n",
    "    pickle.dump(cv_results_gg_poly4, f)"
   ]
  },
  {
   "cell_type": "markdown",
   "metadata": {},
   "source": [
    "**Polinomio de grado 5**\n",
    "\n",
    "Buscamos valores de `C` [$10^{-4}$, $10^{-1}$ y $10^1$."
   ]
  },
  {
   "cell_type": "code",
   "execution_count": 14,
   "metadata": {
    "collapsed": true
   },
   "outputs": [
    {
     "name": "stdout",
     "output_type": "stream",
     "text": [
      "Fitting 5 folds for each of 3 candidates, totalling 15 fits\n",
      "[CV 1/5] END .......C=0.0001, degree=5, gamma=1, kernel=poly; total time=   0.3s\n",
      "[CV 2/5] END .......C=0.0001, degree=5, gamma=1, kernel=poly; total time=   0.0s\n",
      "[CV 3/5] END .......C=0.0001, degree=5, gamma=1, kernel=poly; total time=   0.1s\n",
      "[CV 4/5] END .......C=0.0001, degree=5, gamma=1, kernel=poly; total time=   0.1s\n",
      "[CV 5/5] END .......C=0.0001, degree=5, gamma=1, kernel=poly; total time=   0.0s\n",
      "[CV 1/5] END ..........C=0.1, degree=5, gamma=1, kernel=poly; total time=  19.8s\n",
      "[CV 2/5] END ..........C=0.1, degree=5, gamma=1, kernel=poly; total time=   6.5s\n",
      "[CV 3/5] END ..........C=0.1, degree=5, gamma=1, kernel=poly; total time=  41.2s\n",
      "[CV 4/5] END ..........C=0.1, degree=5, gamma=1, kernel=poly; total time= 1.1min\n",
      "[CV 5/5] END ..........C=0.1, degree=5, gamma=1, kernel=poly; total time=   0.7s\n",
      "[CV 1/5] END ............C=1, degree=5, gamma=1, kernel=poly; total time=  28.4s\n",
      "[CV 2/5] END ............C=1, degree=5, gamma=1, kernel=poly; total time= 1.6min\n",
      "[CV 3/5] END ............C=1, degree=5, gamma=1, kernel=poly; total time= 3.0min\n",
      "[CV 4/5] END ............C=1, degree=5, gamma=1, kernel=poly; total time= 2.1min\n",
      "[CV 5/5] END ............C=1, degree=5, gamma=1, kernel=poly; total time=   5.6s\n"
     ]
    }
   ],
   "source": [
    "valoresC_gg_poly5 = [10**(-4), 10**(-1), 1] # -4, -1, 1\n",
    "\n",
    "hyperparameters_gg_poly5 = {'kernel': ['poly'], 'C': valoresC_gg_poly5, 'degree': [5], 'gamma': [1]}\n",
    "\n",
    "svm_gg_poly5 = SVC(random_state=SEED_VALUE)\n",
    "modeloCV_gg_poly5, cv_results_gg_poly5 = crossVal(dataset_train_X_scaled, \n",
    "                                                 np.ravel(dataset_train_Y.astype(int)),\n",
    "                                                 svm_gg_poly5, \n",
    "                                                 hyperparameters_gg_poly5)\n",
    "\n",
    "with open('cv_results_gg_poly5.pkl', 'wb') as f:\n",
    "    pickle.dump(cv_results_gg_poly5, f)"
   ]
  },
  {
   "cell_type": "markdown",
   "metadata": {},
   "source": [
    "Abrimos los archivos guardados para cada grado del polinimio y los concatenamos en un solo dataframe para visualizar los resultados."
   ]
  },
  {
   "cell_type": "code",
   "execution_count": 2,
   "metadata": {},
   "outputs": [],
   "source": [
    "with open('resultados/cv_results_gg_poly2.pkl', 'rb') as f:\n",
    "    cv_results_gg_poly2 = pickle.load(f)\n",
    "\n",
    "with open('resultados/cv_results_gg_poly3.pkl', 'rb') as f:\n",
    "    cv_results_gg_poly3 = pickle.load(f)\n",
    "\n",
    "with open('resultados/cv_results_gg_poly4.pkl', 'rb') as f:\n",
    "    cv_results_gg_poly4 = pickle.load(f)\n",
    "\n",
    "with open('resultados/cv_results_gg_poly5.pkl', 'rb') as f:\n",
    "    cv_results_gg_poly5 = pickle.load(f)\n",
    "    \n",
    "cv_results_gg_poly = pd.concat([cv_results_gg_poly2, cv_results_gg_poly3, \n",
    "                                cv_results_gg_poly4, cv_results_gg_poly5], ignore_index=True)\n",
    "\n",
    "cv_results_gg_poly = cv_results_gg_poly.sort_values(['param_degree', 'param_C'])"
   ]
  },
  {
   "cell_type": "markdown",
   "metadata": {},
   "source": [
    "**Kernel radial**"
   ]
  },
  {
   "cell_type": "markdown",
   "metadata": {},
   "source": [
    "Buscamos valores de `C` desde $10^{-4}$ hasta $10^5$, dando saltos de tres en la potencia, y valores de `gamma` en el mismo rango y con los mismos saltos."
   ]
  },
  {
   "cell_type": "code",
   "execution_count": 20,
   "metadata": {
    "collapsed": true
   },
   "outputs": [
    {
     "name": "stdout",
     "output_type": "stream",
     "text": [
      "Fitting 5 folds for each of 16 candidates, totalling 80 fits\n",
      "[CV 1/5] END .............C=0.0001, gamma=0.0001, kernel=rbf; total time=   0.0s\n",
      "[CV 2/5] END .............C=0.0001, gamma=0.0001, kernel=rbf; total time=   0.0s\n",
      "[CV 3/5] END .............C=0.0001, gamma=0.0001, kernel=rbf; total time=   0.0s\n",
      "[CV 4/5] END .............C=0.0001, gamma=0.0001, kernel=rbf; total time=   0.0s\n",
      "[CV 5/5] END .............C=0.0001, gamma=0.0001, kernel=rbf; total time=   0.0s\n",
      "[CV 1/5] END ................C=0.0001, gamma=0.1, kernel=rbf; total time=   0.0s\n",
      "[CV 2/5] END ................C=0.0001, gamma=0.1, kernel=rbf; total time=   0.0s\n",
      "[CV 3/5] END ................C=0.0001, gamma=0.1, kernel=rbf; total time=   0.0s\n",
      "[CV 4/5] END ................C=0.0001, gamma=0.1, kernel=rbf; total time=   0.0s\n",
      "[CV 5/5] END ................C=0.0001, gamma=0.1, kernel=rbf; total time=   0.0s\n",
      "[CV 1/5] END ................C=0.0001, gamma=100, kernel=rbf; total time=   0.0s\n",
      "[CV 2/5] END ................C=0.0001, gamma=100, kernel=rbf; total time=   0.0s\n",
      "[CV 3/5] END ................C=0.0001, gamma=100, kernel=rbf; total time=   0.0s\n",
      "[CV 4/5] END ................C=0.0001, gamma=100, kernel=rbf; total time=   0.0s\n",
      "[CV 5/5] END ................C=0.0001, gamma=100, kernel=rbf; total time=   0.0s\n",
      "[CV 1/5] END .............C=0.0001, gamma=100000, kernel=rbf; total time=   0.0s\n",
      "[CV 2/5] END .............C=0.0001, gamma=100000, kernel=rbf; total time=   0.0s\n",
      "[CV 3/5] END .............C=0.0001, gamma=100000, kernel=rbf; total time=   0.0s\n",
      "[CV 4/5] END .............C=0.0001, gamma=100000, kernel=rbf; total time=   0.0s\n",
      "[CV 5/5] END .............C=0.0001, gamma=100000, kernel=rbf; total time=   0.0s\n",
      "[CV 1/5] END ................C=0.1, gamma=0.0001, kernel=rbf; total time=   0.0s\n",
      "[CV 2/5] END ................C=0.1, gamma=0.0001, kernel=rbf; total time=   0.0s\n",
      "[CV 3/5] END ................C=0.1, gamma=0.0001, kernel=rbf; total time=   0.0s\n",
      "[CV 4/5] END ................C=0.1, gamma=0.0001, kernel=rbf; total time=   0.0s\n",
      "[CV 5/5] END ................C=0.1, gamma=0.0001, kernel=rbf; total time=   0.0s\n",
      "[CV 1/5] END ...................C=0.1, gamma=0.1, kernel=rbf; total time=   0.0s\n",
      "[CV 2/5] END ...................C=0.1, gamma=0.1, kernel=rbf; total time=   0.0s\n",
      "[CV 3/5] END ...................C=0.1, gamma=0.1, kernel=rbf; total time=   0.0s\n",
      "[CV 4/5] END ...................C=0.1, gamma=0.1, kernel=rbf; total time=   0.0s\n",
      "[CV 5/5] END ...................C=0.1, gamma=0.1, kernel=rbf; total time=   0.0s\n",
      "[CV 1/5] END ...................C=0.1, gamma=100, kernel=rbf; total time=   0.0s\n",
      "[CV 2/5] END ...................C=0.1, gamma=100, kernel=rbf; total time=   0.0s\n",
      "[CV 3/5] END ...................C=0.1, gamma=100, kernel=rbf; total time=   0.0s\n",
      "[CV 4/5] END ...................C=0.1, gamma=100, kernel=rbf; total time=   0.0s\n",
      "[CV 5/5] END ...................C=0.1, gamma=100, kernel=rbf; total time=   0.0s\n",
      "[CV 1/5] END ................C=0.1, gamma=100000, kernel=rbf; total time=   0.0s\n",
      "[CV 2/5] END ................C=0.1, gamma=100000, kernel=rbf; total time=   0.0s\n",
      "[CV 3/5] END ................C=0.1, gamma=100000, kernel=rbf; total time=   0.0s\n",
      "[CV 4/5] END ................C=0.1, gamma=100000, kernel=rbf; total time=   0.0s\n",
      "[CV 5/5] END ................C=0.1, gamma=100000, kernel=rbf; total time=   0.0s\n",
      "[CV 1/5] END ................C=100, gamma=0.0001, kernel=rbf; total time=   0.0s\n",
      "[CV 2/5] END ................C=100, gamma=0.0001, kernel=rbf; total time=   0.0s\n",
      "[CV 3/5] END ................C=100, gamma=0.0001, kernel=rbf; total time=   0.0s\n",
      "[CV 4/5] END ................C=100, gamma=0.0001, kernel=rbf; total time=   0.0s\n",
      "[CV 5/5] END ................C=100, gamma=0.0001, kernel=rbf; total time=   0.0s\n",
      "[CV 1/5] END ...................C=100, gamma=0.1, kernel=rbf; total time=   0.0s\n",
      "[CV 2/5] END ...................C=100, gamma=0.1, kernel=rbf; total time=   0.0s\n",
      "[CV 3/5] END ...................C=100, gamma=0.1, kernel=rbf; total time=   0.0s\n",
      "[CV 4/5] END ...................C=100, gamma=0.1, kernel=rbf; total time=   0.0s\n",
      "[CV 5/5] END ...................C=100, gamma=0.1, kernel=rbf; total time=   0.0s\n",
      "[CV 1/5] END ...................C=100, gamma=100, kernel=rbf; total time=   0.0s\n",
      "[CV 2/5] END ...................C=100, gamma=100, kernel=rbf; total time=   0.0s\n",
      "[CV 3/5] END ...................C=100, gamma=100, kernel=rbf; total time=   0.0s\n",
      "[CV 4/5] END ...................C=100, gamma=100, kernel=rbf; total time=   0.0s\n",
      "[CV 5/5] END ...................C=100, gamma=100, kernel=rbf; total time=   0.0s\n",
      "[CV 1/5] END ................C=100, gamma=100000, kernel=rbf; total time=   0.0s\n",
      "[CV 2/5] END ................C=100, gamma=100000, kernel=rbf; total time=   0.0s\n",
      "[CV 3/5] END ................C=100, gamma=100000, kernel=rbf; total time=   0.0s\n",
      "[CV 4/5] END ................C=100, gamma=100000, kernel=rbf; total time=   0.0s\n",
      "[CV 5/5] END ................C=100, gamma=100000, kernel=rbf; total time=   0.0s\n",
      "[CV 1/5] END .............C=100000, gamma=0.0001, kernel=rbf; total time=   0.0s\n",
      "[CV 2/5] END .............C=100000, gamma=0.0001, kernel=rbf; total time=   0.0s\n",
      "[CV 3/5] END .............C=100000, gamma=0.0001, kernel=rbf; total time=   0.0s\n",
      "[CV 4/5] END .............C=100000, gamma=0.0001, kernel=rbf; total time=   0.0s\n",
      "[CV 5/5] END .............C=100000, gamma=0.0001, kernel=rbf; total time=   0.0s\n",
      "[CV 1/5] END ................C=100000, gamma=0.1, kernel=rbf; total time=   7.1s\n",
      "[CV 2/5] END ................C=100000, gamma=0.1, kernel=rbf; total time=   5.5s\n",
      "[CV 3/5] END ................C=100000, gamma=0.1, kernel=rbf; total time=   8.7s\n",
      "[CV 4/5] END ................C=100000, gamma=0.1, kernel=rbf; total time=   4.8s\n",
      "[CV 5/5] END ................C=100000, gamma=0.1, kernel=rbf; total time=   9.1s\n",
      "[CV 1/5] END ................C=100000, gamma=100, kernel=rbf; total time=   0.0s\n",
      "[CV 2/5] END ................C=100000, gamma=100, kernel=rbf; total time=   0.0s\n",
      "[CV 3/5] END ................C=100000, gamma=100, kernel=rbf; total time=   0.0s\n",
      "[CV 4/5] END ................C=100000, gamma=100, kernel=rbf; total time=   0.0s\n",
      "[CV 5/5] END ................C=100000, gamma=100, kernel=rbf; total time=   0.0s\n",
      "[CV 1/5] END .............C=100000, gamma=100000, kernel=rbf; total time=   0.0s\n",
      "[CV 2/5] END .............C=100000, gamma=100000, kernel=rbf; total time=   0.0s\n",
      "[CV 3/5] END .............C=100000, gamma=100000, kernel=rbf; total time=   0.0s\n",
      "[CV 4/5] END .............C=100000, gamma=100000, kernel=rbf; total time=   0.0s\n",
      "[CV 5/5] END .............C=100000, gamma=100000, kernel=rbf; total time=   0.0s\n"
     ]
    },
    {
     "data": {
      "text/plain": [
       "GridSearchCV(cv=5, estimator=SVC(random_state=1),\n",
       "             param_grid=[{'C': [0.0001, 0.1, 100, 100000],\n",
       "                          'gamma': [0.0001, 0.1, 100, 100000],\n",
       "                          'kernel': ['rbf']}],\n",
       "             return_train_score=True, scoring='accuracy', verbose=3)"
      ]
     },
     "execution_count": 20,
     "metadata": {},
     "output_type": "execute_result"
    }
   ],
   "source": [
    "valoresC_gg_rbf = [10**i for i in range(-4, 6, 3)] # -4, -1, 2, 5\n",
    "\n",
    "gamma_gg_rbf = [10**i for i in range(-4, 6, 3)] # -4, -1, 2, 5\n",
    "\n",
    "hyperparameters_gg_rbf = [{'kernel': ['rbf'], 'C': valoresC_gg_rbf, 'gamma': gamma_gg_rbf}]\n",
    "\n",
    "\n",
    "svm_gg_rbf = SVC(random_state=SEED_VALUE)\n",
    "\n",
    "modeloCV_gg_rbf, cv_results_gg_rbf = crossVal(dataset_train_X_scaled, np.ravel(dataset_train_Y.astype(int)), \n",
    "                                                svm_gg_rbf, hyperparameters_gg_rbf)\n",
    "\n",
    "with open('cv_results_gg_rbf.pkl', 'wb') as f:\n",
    "    pickle.dump(cv_results_gg_rbf, f)"
   ]
  },
  {
   "cell_type": "markdown",
   "metadata": {},
   "source": [
    "**Gráfica de entrenamiento (primera aproximación)**\n",
    "\n",
    "Aqui deberiamos tener una grafica más o menos convexa para ver que ahi esta el minimo. Hacemos una función que grafique el error frente al parámetro de regularización `C` para cada kernel. Particularizamos para que mostrar, en el caso del *kernel* polinómico, todos los grados del polinomio en el mismo gráfico y, para el *kernel* radial, los valores de `gamma` en el mismo gráfico."
   ]
  },
  {
   "cell_type": "code",
   "execution_count": 5,
   "metadata": {},
   "outputs": [],
   "source": [
    "def errorVal(resultados, fig, kernel_type='linear', label='SVM', color='crimson', \n",
    "            classification=True, ejex='C'):\n",
    "\n",
    "    if classification:\n",
    "        resultados['mean_test_error'] = 1 - resultados['mean_test_score']\n",
    "    else:\n",
    "        resultados['mean_test_error'] = resultados['mean_test_score']\n",
    "    \n",
    "    results = pd.DataFrame({'param_C': resultados['param_C'], \n",
    "                            'mean_test_error': resultados['mean_test_error'], \n",
    "                            'std_test_score': resultados['std_test_score'], \n",
    "                            'rank_test_score': resultados['rank_test_score']})\n",
    "    \n",
    "    ax = fig.axes[0]\n",
    "    colores = ['crimson', 'royalblue', 'orange', 'navy', 'indigo'] if isinstance(color, str) else color\n",
    "    \n",
    "    if kernel_type == 'poly':\n",
    "        results['grado'] = resultados['param_degree']\n",
    "\n",
    "        if ejex == 'C':\n",
    "            x_param = 'param_C'\n",
    "            group_param = 'grado'\n",
    "            label_prefix = 'grado'\n",
    "            xlabel = \"C\"\n",
    "            use_log = True\n",
    "        else:  \n",
    "            x_param = 'grado'\n",
    "            group_param = 'param_C'\n",
    "            label_prefix = 'C'\n",
    "            xlabel = \"Grado del polinomio\"\n",
    "            use_log = False\n",
    "\n",
    "        param_values = sorted(results[group_param].unique())\n",
    "        for idx, param_val in enumerate(param_values):\n",
    "            datos = results[results[group_param] == param_val]\n",
    "            ax.errorbar(datos[x_param], datos['mean_test_error'], yerr=datos['std_test_score'], \n",
    "                        label=f\"{label_prefix}={param_val} ({label})\", color=colores[idx % len(colores)], \n",
    "                        capsize=3)\n",
    "\n",
    "        ax.set_xlabel(xlabel)\n",
    "        if use_log:\n",
    "            ax.set_xscale('log')\n",
    "            \n",
    "    elif kernel_type == 'rbf':\n",
    "        results['gamma'] = resultados['param_gamma']\n",
    "        gamma_values = sorted(results['gamma'].unique())\n",
    "        \n",
    "        for idx, gamma_val in enumerate(gamma_values):\n",
    "            datos = results[results['gamma'] == gamma_val]\n",
    "            ax.errorbar(datos['param_C'], datos['mean_test_error'], yerr=datos['std_test_score'], \n",
    "                        label=f\"gamma={gamma_val} ({label})\", color=colores[idx % len(colores)], \n",
    "                        capsize=3)\n",
    "            \n",
    "        ax.set_xlabel(\"C\")\n",
    "        ax.set_xscale('log')\n",
    "        \n",
    "    else:  # linear\n",
    "        ax.errorbar(results['param_C'], results['mean_test_error'], yerr=results['std_test_score'], \n",
    "                    label=label, color=colores[0], capsize=3)\n",
    "        \n",
    "        ax.set_xlabel(\"C\")\n",
    "        ax.set_xscale('log')\n",
    "    \n",
    "    ax.set_ylabel(\"Error de validación cruzada\")\n",
    "    ax.set_title(f'Kernel {kernel_type}')\n",
    "    ax.legend()\n",
    "    ax.grid(True, alpha=0.5)\n",
    "    \n",
    "    return ax"
   ]
  },
  {
   "cell_type": "markdown",
   "metadata": {},
   "source": [
    "**Gráfica de grano grueso para el *kernel* lineal**"
   ]
  },
  {
   "cell_type": "code",
   "execution_count": 15,
   "metadata": {},
   "outputs": [
    {
     "data": {
      "image/png": "[encoded data removed]",
      "text/plain": [
       "<Figure size 640x480 with 1 Axes>"
      ]
     },
     "metadata": {},
     "output_type": "display_data"
    }
   ],
   "source": [
    "with open('resultados/cv_results_gg_lineal.pkl', 'rb') as f:\n",
    "    cv_results_gg_lineal = pickle.load(f)\n",
    "\n",
    "fig_gg, axes_gg = plt.subplots(1,1)\n",
    "\n",
    "errorVal(cv_results_gg_lineal[cv_results_gg_lineal['param_kernel'] == 'linear'], fig_gg, kernel_type='linear')\n",
    "\n",
    "fig_gg.savefig('lineal_gg.pdf')\n",
    "\n",
    "plt.tight_layout()\n",
    "plt.show()"
   ]
  },
  {
   "cell_type": "markdown",
   "metadata": {},
   "source": [
    "En vista de estos resultados, buscaremos en el entorno de $C = 10^6$. Concretamente, buscaremos valores de `C` en el rango $[10^4, 10^7]$."
   ]
  },
  {
   "cell_type": "markdown",
   "metadata": {},
   "source": [
    "**Gráfica de grano grueso para el *kernel* polinómico**"
   ]
  },
  {
   "cell_type": "code",
   "execution_count": 16,
   "metadata": {
    "scrolled": true
   },
   "outputs": [
    {
     "data": {
      "image/png": "[encoded data removed]",
      "text/plain": [
       "<Figure size 640x480 with 1 Axes>"
      ]
     },
     "metadata": {},
     "output_type": "display_data"
    }
   ],
   "source": [
    "fig_gg_poly, axes_gg_poly = plt.subplots(1,1)\n",
    "\n",
    "errorVal(cv_results_gg_poly[cv_results_gg_poly['param_kernel'] == 'poly'], fig_gg_poly, kernel_type='poly', ejex='C')\n",
    "\n",
    "fig_gg_poly.savefig('poly_gg.pdf')\n",
    "\n",
    "plt.tight_layout()\n",
    "plt.show()"
   ]
  },
  {
   "cell_type": "markdown",
   "metadata": {},
   "source": [
    "En vista de los resultados, fijaremos el grado del polinomio en 3 y buscaremos valores de `C` en el rango $[10^1, 10^4]$."
   ]
  },
  {
   "cell_type": "markdown",
   "metadata": {},
   "source": [
    "**Gráfica de grano grueso para el *kernel* radial**"
   ]
  },
  {
   "cell_type": "code",
   "execution_count": 17,
   "metadata": {},
   "outputs": [
    {
     "data": {
      "image/png": "[encoded data removed]",
      "text/plain": [
       "<Figure size 640x480 with 1 Axes>"
      ]
     },
     "metadata": {},
     "output_type": "display_data"
    }
   ],
   "source": [
    "with open('resultados/cv_results_gg_rbf.pkl', 'rb') as f:\n",
    "    cv_results_gg_rbf = pickle.load(f)\n",
    "\n",
    "fig_gg_rbf, axes_gg_rbf = plt.subplots(1,1)\n",
    "\n",
    "errorVal(cv_results_gg_rbf[cv_results_gg_rbf['param_kernel'] == 'rbf'], fig_gg_rbf, kernel_type='rbf')\n",
    "\n",
    "fig_gg_rbf.savefig('rbf_gg.pdf')\n",
    "\n",
    "plt.tight_layout()\n",
    "plt.show()"
   ]
  },
  {
   "cell_type": "markdown",
   "metadata": {},
   "source": [
    "En vista de los resultados, buscaremos valores de `C` en el rango $[10^0, 10^4]$ y valores de `gamma` en el rango $[10^{-2}, 10^0]$."
   ]
  },
  {
   "cell_type": "markdown",
   "metadata": {},
   "source": [
    "**Exploración de grano fino**\n",
    "\n",
    "Repetimos la exploración, esta vez barriendo todos los valores del intervalo. Así encontraremos el modelo con el menor error de validación cruzada para este problema."
   ]
  },
  {
   "cell_type": "markdown",
   "metadata": {},
   "source": [
    "***Kernel* lineal**\n",
    "\n",
    "Concretamente, para el *kernel* lineal buscaremos valores de `C` en el rango $[10^4, 10^7]$."
   ]
  },
  {
   "cell_type": "code",
   "execution_count": 41,
   "metadata": {},
   "outputs": [
    {
     "name": "stdout",
     "output_type": "stream",
     "text": [
      "Fitting 5 folds for each of 4 candidates, totalling 20 fits\n",
      "[CV 1/5] END .........................C=10000, kernel=linear; total time=  22.6s\n",
      "[CV 2/5] END .........................C=10000, kernel=linear; total time=  30.6s\n",
      "[CV 3/5] END .........................C=10000, kernel=linear; total time=  31.0s\n",
      "[CV 4/5] END .........................C=10000, kernel=linear; total time=  15.9s\n",
      "[CV 5/5] END .........................C=10000, kernel=linear; total time=  23.1s\n",
      "[CV 1/5] END ........................C=100000, kernel=linear; total time=  39.6s\n",
      "[CV 2/5] END ........................C=100000, kernel=linear; total time= 1.4min\n",
      "[CV 3/5] END ........................C=100000, kernel=linear; total time= 1.0min\n",
      "[CV 4/5] END ........................C=100000, kernel=linear; total time=  54.5s\n",
      "[CV 5/5] END ........................C=100000, kernel=linear; total time=  35.7s\n",
      "[CV 1/5] END .......................C=1000000, kernel=linear; total time= 1.8min\n",
      "[CV 2/5] END .......................C=1000000, kernel=linear; total time= 1.6min\n",
      "[CV 3/5] END .......................C=1000000, kernel=linear; total time= 1.4min\n",
      "[CV 4/5] END .......................C=1000000, kernel=linear; total time= 3.9min\n",
      "[CV 5/5] END .......................C=1000000, kernel=linear; total time= 4.3min\n",
      "[CV 1/5] END ......................C=10000000, kernel=linear; total time= 2.4min\n",
      "[CV 2/5] END ......................C=10000000, kernel=linear; total time= 2.5min\n",
      "[CV 3/5] END ......................C=10000000, kernel=linear; total time= 2.7min\n",
      "[CV 4/5] END ......................C=10000000, kernel=linear; total time= 1.8min\n",
      "[CV 5/5] END ......................C=10000000, kernel=linear; total time= 4.9min\n"
     ]
    }
   ],
   "source": [
    "valoresC_gf_lineal = [10**i for i in range(4, 8, 1)] \n",
    "\n",
    "hyperparameters_gf_lineal = {'kernel': ['linear'], 'C': valoresC_gf_lineal}\n",
    "\n",
    "svm_gf_lineal = SVC(random_state=SEED_VALUE)\n",
    "\n",
    "modeloCV_gf_lineal, cv_results_gf_lineal = crossVal(dataset_train_X_scaled, np.ravel(dataset_train_Y.astype(int)), \n",
    "                                                    svm_gf_lineal, hyperparameters_gf_lineal)\n",
    "with open('cv_results_gf_lineal.pkl', 'wb') as f:\n",
    "    pickle.dump(cv_results_gf_lineal, f)"
   ]
  },
  {
   "cell_type": "markdown",
   "metadata": {},
   "source": [
    "***Kernel* polinómico**\n",
    "\n",
    "Concretamente, para el *kernel* polinómico fijaremos el grado del polinomio en 3 y buscaremos valores de `C` en el rango $[10^1, 10^4]$."
   ]
  },
  {
   "cell_type": "code",
   "execution_count": 25,
   "metadata": {
    "collapsed": true
   },
   "outputs": [
    {
     "name": "stdout",
     "output_type": "stream",
     "text": [
      "Fitting 5 folds for each of 4 candidates, totalling 20 fits\n",
      "[CV 1/5] END ...........C=10, degree=3, gamma=1, kernel=poly; total time=   3.1s\n",
      "[CV 2/5] END ...........C=10, degree=3, gamma=1, kernel=poly; total time=   2.9s\n",
      "[CV 3/5] END ...........C=10, degree=3, gamma=1, kernel=poly; total time=   5.3s\n",
      "[CV 4/5] END ...........C=10, degree=3, gamma=1, kernel=poly; total time=   3.2s\n",
      "[CV 5/5] END ...........C=10, degree=3, gamma=1, kernel=poly; total time=   1.0s\n",
      "[CV 1/5] END ..........C=100, degree=3, gamma=1, kernel=poly; total time=  23.2s\n",
      "[CV 2/5] END ..........C=100, degree=3, gamma=1, kernel=poly; total time=  39.6s\n",
      "[CV 3/5] END ..........C=100, degree=3, gamma=1, kernel=poly; total time=  23.3s\n",
      "[CV 4/5] END ..........C=100, degree=3, gamma=1, kernel=poly; total time=  32.9s\n",
      "[CV 5/5] END ..........C=100, degree=3, gamma=1, kernel=poly; total time=  17.0s\n",
      "[CV 1/5] END .........C=1000, degree=3, gamma=1, kernel=poly; total time= 2.3min\n",
      "[CV 2/5] END .........C=1000, degree=3, gamma=1, kernel=poly; total time= 1.5min\n",
      "[CV 3/5] END .........C=1000, degree=3, gamma=1, kernel=poly; total time= 2.3min\n",
      "[CV 4/5] END .........C=1000, degree=3, gamma=1, kernel=poly; total time=  49.1s\n",
      "[CV 5/5] END .........C=1000, degree=3, gamma=1, kernel=poly; total time= 3.6min\n",
      "[CV 1/5] END ........C=10000, degree=3, gamma=1, kernel=poly; total time=  51.1s\n",
      "[CV 2/5] END ........C=10000, degree=3, gamma=1, kernel=poly; total time= 2.9min\n",
      "[CV 3/5] END ........C=10000, degree=3, gamma=1, kernel=poly; total time= 6.6min\n",
      "[CV 4/5] END ........C=10000, degree=3, gamma=1, kernel=poly; total time= 2.9min\n",
      "[CV 5/5] END ........C=10000, degree=3, gamma=1, kernel=poly; total time= 4.2min\n"
     ]
    }
   ],
   "source": [
    "valoresC_gf_poly = [10**i for i in range(1, 5, 1)] # 1, 2, 3, 4\n",
    "\n",
    "hyperparameters_gf_poly = {'kernel': ['poly'], 'C': valoresC_gf_poly, 'degree': [3], 'gamma': [1]}\n",
    "\n",
    "svm_gf_poly = SVC(random_state=SEED_VALUE)\n",
    "modeloCV_gf_poly, cv_results_gf_poly = crossVal(dataset_train_X_scaled, np.ravel(dataset_train_Y.astype(int)), \n",
    "                                                svm_gf_poly, hyperparameters_gf_poly)\n",
    "\n",
    "with open('cv_results_gf_poly.pkl', 'wb') as f:\n",
    "    pickle.dump(cv_results_gf_poly, f)"
   ]
  },
  {
   "cell_type": "markdown",
   "metadata": {},
   "source": [
    "***Kernel* radial**\n",
    "\n",
    "Concretamente, para el *kernel* radial buscaremos valores de `C` en el rango $[10^0, 10^4]$ y valores de `gamma` en el rango $[10^{-2}, 10^0]$."
   ]
  },
  {
   "cell_type": "code",
   "execution_count": 26,
   "metadata": {
    "collapsed": true
   },
   "outputs": [
    {
     "name": "stdout",
     "output_type": "stream",
     "text": [
      "Fitting 5 folds for each of 15 candidates, totalling 75 fits\n",
      "[CV 1/5] END ....................C=1, gamma=0.01, kernel=rbf; total time=   0.0s\n",
      "[CV 2/5] END ....................C=1, gamma=0.01, kernel=rbf; total time=   0.0s\n",
      "[CV 3/5] END ....................C=1, gamma=0.01, kernel=rbf; total time=   0.0s\n",
      "[CV 4/5] END ....................C=1, gamma=0.01, kernel=rbf; total time=   0.0s\n",
      "[CV 5/5] END ....................C=1, gamma=0.01, kernel=rbf; total time=   0.0s\n",
      "[CV 1/5] END .....................C=1, gamma=0.1, kernel=rbf; total time=   0.0s\n",
      "[CV 2/5] END .....................C=1, gamma=0.1, kernel=rbf; total time=   0.0s\n",
      "[CV 3/5] END .....................C=1, gamma=0.1, kernel=rbf; total time=   0.0s\n",
      "[CV 4/5] END .....................C=1, gamma=0.1, kernel=rbf; total time=   0.0s\n",
      "[CV 5/5] END .....................C=1, gamma=0.1, kernel=rbf; total time=   0.0s\n",
      "[CV 1/5] END .......................C=1, gamma=1, kernel=rbf; total time=   0.0s\n",
      "[CV 2/5] END .......................C=1, gamma=1, kernel=rbf; total time=   0.0s\n",
      "[CV 3/5] END .......................C=1, gamma=1, kernel=rbf; total time=   0.0s\n",
      "[CV 4/5] END .......................C=1, gamma=1, kernel=rbf; total time=   0.0s\n",
      "[CV 5/5] END .......................C=1, gamma=1, kernel=rbf; total time=   0.0s\n",
      "[CV 1/5] END ...................C=10, gamma=0.01, kernel=rbf; total time=   0.0s\n",
      "[CV 2/5] END ...................C=10, gamma=0.01, kernel=rbf; total time=   0.0s\n",
      "[CV 3/5] END ...................C=10, gamma=0.01, kernel=rbf; total time=   0.0s\n",
      "[CV 4/5] END ...................C=10, gamma=0.01, kernel=rbf; total time=   0.0s\n",
      "[CV 5/5] END ...................C=10, gamma=0.01, kernel=rbf; total time=   0.0s\n",
      "[CV 1/5] END ....................C=10, gamma=0.1, kernel=rbf; total time=   0.0s\n",
      "[CV 2/5] END ....................C=10, gamma=0.1, kernel=rbf; total time=   0.0s\n",
      "[CV 3/5] END ....................C=10, gamma=0.1, kernel=rbf; total time=   0.0s\n",
      "[CV 4/5] END ....................C=10, gamma=0.1, kernel=rbf; total time=   0.0s\n",
      "[CV 5/5] END ....................C=10, gamma=0.1, kernel=rbf; total time=   0.0s\n",
      "[CV 1/5] END ......................C=10, gamma=1, kernel=rbf; total time=   0.0s\n",
      "[CV 2/5] END ......................C=10, gamma=1, kernel=rbf; total time=   0.0s\n",
      "[CV 3/5] END ......................C=10, gamma=1, kernel=rbf; total time=   0.0s\n",
      "[CV 4/5] END ......................C=10, gamma=1, kernel=rbf; total time=   0.0s\n",
      "[CV 5/5] END ......................C=10, gamma=1, kernel=rbf; total time=   0.0s\n",
      "[CV 1/5] END ..................C=100, gamma=0.01, kernel=rbf; total time=   0.0s\n",
      "[CV 2/5] END ..................C=100, gamma=0.01, kernel=rbf; total time=   0.0s\n",
      "[CV 3/5] END ..................C=100, gamma=0.01, kernel=rbf; total time=   0.0s\n",
      "[CV 4/5] END ..................C=100, gamma=0.01, kernel=rbf; total time=   0.0s\n",
      "[CV 5/5] END ..................C=100, gamma=0.01, kernel=rbf; total time=   0.0s\n",
      "[CV 1/5] END ...................C=100, gamma=0.1, kernel=rbf; total time=   0.0s\n",
      "[CV 2/5] END ...................C=100, gamma=0.1, kernel=rbf; total time=   0.0s\n",
      "[CV 3/5] END ...................C=100, gamma=0.1, kernel=rbf; total time=   0.0s\n",
      "[CV 4/5] END ...................C=100, gamma=0.1, kernel=rbf; total time=   0.0s\n",
      "[CV 5/5] END ...................C=100, gamma=0.1, kernel=rbf; total time=   0.0s\n",
      "[CV 1/5] END .....................C=100, gamma=1, kernel=rbf; total time=   0.0s\n",
      "[CV 2/5] END .....................C=100, gamma=1, kernel=rbf; total time=   0.0s\n",
      "[CV 3/5] END .....................C=100, gamma=1, kernel=rbf; total time=   0.0s\n",
      "[CV 4/5] END .....................C=100, gamma=1, kernel=rbf; total time=   0.0s\n",
      "[CV 5/5] END .....................C=100, gamma=1, kernel=rbf; total time=   0.0s\n",
      "[CV 1/5] END .................C=1000, gamma=0.01, kernel=rbf; total time=   0.0s\n",
      "[CV 2/5] END .................C=1000, gamma=0.01, kernel=rbf; total time=   0.0s\n",
      "[CV 3/5] END .................C=1000, gamma=0.01, kernel=rbf; total time=   0.0s\n",
      "[CV 4/5] END .................C=1000, gamma=0.01, kernel=rbf; total time=   0.0s\n",
      "[CV 5/5] END .................C=1000, gamma=0.01, kernel=rbf; total time=   0.0s\n",
      "[CV 1/5] END ..................C=1000, gamma=0.1, kernel=rbf; total time=   0.1s\n",
      "[CV 2/5] END ..................C=1000, gamma=0.1, kernel=rbf; total time=   0.1s\n",
      "[CV 3/5] END ..................C=1000, gamma=0.1, kernel=rbf; total time=   0.1s\n",
      "[CV 4/5] END ..................C=1000, gamma=0.1, kernel=rbf; total time=   0.1s\n",
      "[CV 5/5] END ..................C=1000, gamma=0.1, kernel=rbf; total time=   0.1s\n",
      "[CV 1/5] END ....................C=1000, gamma=1, kernel=rbf; total time=   0.1s\n",
      "[CV 2/5] END ....................C=1000, gamma=1, kernel=rbf; total time=   0.1s\n",
      "[CV 3/5] END ....................C=1000, gamma=1, kernel=rbf; total time=   0.1s\n",
      "[CV 4/5] END ....................C=1000, gamma=1, kernel=rbf; total time=   0.0s\n",
      "[CV 5/5] END ....................C=1000, gamma=1, kernel=rbf; total time=   0.1s\n",
      "[CV 1/5] END ................C=10000, gamma=0.01, kernel=rbf; total time=   0.1s\n",
      "[CV 2/5] END ................C=10000, gamma=0.01, kernel=rbf; total time=   0.1s\n",
      "[CV 3/5] END ................C=10000, gamma=0.01, kernel=rbf; total time=   0.2s\n",
      "[CV 4/5] END ................C=10000, gamma=0.01, kernel=rbf; total time=   0.2s\n",
      "[CV 5/5] END ................C=10000, gamma=0.01, kernel=rbf; total time=   0.1s\n",
      "[CV 1/5] END .................C=10000, gamma=0.1, kernel=rbf; total time=   0.9s\n",
      "[CV 2/5] END .................C=10000, gamma=0.1, kernel=rbf; total time=   1.3s\n",
      "[CV 3/5] END .................C=10000, gamma=0.1, kernel=rbf; total time=   0.8s\n",
      "[CV 4/5] END .................C=10000, gamma=0.1, kernel=rbf; total time=   1.0s\n",
      "[CV 5/5] END .................C=10000, gamma=0.1, kernel=rbf; total time=   0.6s\n",
      "[CV 1/5] END ...................C=10000, gamma=1, kernel=rbf; total time=   0.4s\n",
      "[CV 2/5] END ...................C=10000, gamma=1, kernel=rbf; total time=   0.2s\n",
      "[CV 3/5] END ...................C=10000, gamma=1, kernel=rbf; total time=   0.5s\n",
      "[CV 4/5] END ...................C=10000, gamma=1, kernel=rbf; total time=   0.4s\n",
      "[CV 5/5] END ...................C=10000, gamma=1, kernel=rbf; total time=   0.4s\n"
     ]
    },
    {
     "data": {
      "text/plain": [
       "GridSearchCV(cv=5, estimator=SVC(random_state=1),\n",
       "             param_grid=[{'C': [1, 10, 100, 1000, 10000],\n",
       "                          'gamma': [0.01, 0.1, 1], 'kernel': ['rbf']}],\n",
       "             return_train_score=True, scoring='accuracy', verbose=3)"
      ]
     },
     "execution_count": 26,
     "metadata": {},
     "output_type": "execute_result"
    }
   ],
   "source": [
    "valoresC_gf_rbf = [10**i for i in range(0, 5, 1)] # 0, 1, 2, 3, 4\n",
    "\n",
    "gamma_gf_rbf = [10**i for i in range(-2, 1, 1)] # 0.01, 0.1, 1\n",
    "\n",
    "hyperparameters_gf_rbf = {'kernel': ['rbf'], 'C': valoresC_gf_rbf, 'gamma': gamma_gf_rbf}\n",
    "\n",
    "\n",
    "svm_gf_rbf = SVC(random_state=SEED_VALUE)\n",
    "\n",
    "modeloCV_gf_rbf, cv_results_gf_rbf = crossVal(dataset_train_X_scaled, np.ravel(dataset_train_Y.astype(int)), \n",
    "                                                svm_gf_rbf, hyperparameters_gf_rbf)\n",
    "\n",
    "with open('cv_results_gf_rbf.pkl', 'wb') as f:\n",
    "    pickle.dump(cv_results_gf_rbf, f)"
   ]
  },
  {
   "cell_type": "markdown",
   "metadata": {},
   "source": [
    "Veamos el mejor modelo para cada kernel y sus estadísticas:"
   ]
  },
  {
   "cell_type": "markdown",
   "metadata": {},
   "source": [
    "**Resultados *kernel* lineal: gráfica de entrenamiento y mejor modelo**"
   ]
  },
  {
   "cell_type": "code",
   "execution_count": 3,
   "metadata": {},
   "outputs": [
    {
     "data": {
      "text/html": [
       "<div>\n",
       "<style scoped>\n",
       "    .dataframe tbody tr th:only-of-type {\n",
       "        vertical-align: middle;\n",
       "    }\n",
       "\n",
       "    .dataframe tbody tr th {\n",
       "        vertical-align: top;\n",
       "    }\n",
       "\n",
       "    .dataframe thead th {\n",
       "        text-align: right;\n",
       "    }\n",
       "</style>\n",
       "<table border=\"1\" class=\"dataframe\">\n",
       "  <thead>\n",
       "    <tr style=\"text-align: right;\">\n",
       "      <th></th>\n",
       "      <th>param_C</th>\n",
       "      <th>param_kernel</th>\n",
       "      <th>mean_test_score</th>\n",
       "      <th>mean_test_error</th>\n",
       "      <th>std_test_score</th>\n",
       "      <th>rank_test_score</th>\n",
       "    </tr>\n",
       "  </thead>\n",
       "  <tbody>\n",
       "    <tr>\n",
       "      <th>1</th>\n",
       "      <td>100000</td>\n",
       "      <td>linear</td>\n",
       "      <td>0.765854</td>\n",
       "      <td>0.234146</td>\n",
       "      <td>0.01123</td>\n",
       "      <td>1</td>\n",
       "    </tr>\n",
       "  </tbody>\n",
       "</table>\n",
       "</div>"
      ],
      "text/plain": [
       "  param_C param_kernel  mean_test_score  mean_test_error  std_test_score  \\\n",
       "1  100000       linear         0.765854         0.234146         0.01123   \n",
       "\n",
       "   rank_test_score  \n",
       "1                1  "
      ]
     },
     "execution_count": 3,
     "metadata": {},
     "output_type": "execute_result"
    }
   ],
   "source": [
    "with open('resultados/cv_results_gf_lineal.pkl', 'rb') as f:\n",
    "    cv_results_gf_lineal = pickle.load(f)\n",
    "    \n",
    "best_lineal = cv_results_gf_lineal[cv_results_gf_lineal['rank_test_score'] == min(list(cv_results_gf_lineal['rank_test_score']))]\n",
    "best_lineal.loc[:, ['param_C', 'param_kernel', 'mean_test_score', 'mean_test_error', 'std_test_score', 'rank_test_score']]"
   ]
  },
  {
   "cell_type": "code",
   "execution_count": 6,
   "metadata": {},
   "outputs": [
    {
     "data": {
      "image/png": "[encoded data removed]",
      "text/plain": [
       "<Figure size 640x480 with 1 Axes>"
      ]
     },
     "metadata": {},
     "output_type": "display_data"
    }
   ],
   "source": [
    "fig_gf, axes_gf = plt.subplots(1,1)\n",
    "\n",
    "errorVal(cv_results_gf_lineal, fig_gf, kernel_type='linear')\n",
    "\n",
    "fig_gf.savefig('lineal_gf.pdf')\n",
    "\n",
    "plt.tight_layout()\n",
    "plt.show()"
   ]
  },
  {
   "cell_type": "markdown",
   "metadata": {},
   "source": [
    "El mejor modelo con *kernel* lineal lo tenemos para un valor de $C = 10^5$."
   ]
  },
  {
   "cell_type": "markdown",
   "metadata": {},
   "source": [
    "**Resultados *kernel* polinómico: gráfica de entrenamiento y mejor modelo**"
   ]
  },
  {
   "cell_type": "code",
   "execution_count": 7,
   "metadata": {},
   "outputs": [
    {
     "data": {
      "text/html": [
       "<div>\n",
       "<style scoped>\n",
       "    .dataframe tbody tr th:only-of-type {\n",
       "        vertical-align: middle;\n",
       "    }\n",
       "\n",
       "    .dataframe tbody tr th {\n",
       "        vertical-align: top;\n",
       "    }\n",
       "\n",
       "    .dataframe thead th {\n",
       "        text-align: right;\n",
       "    }\n",
       "</style>\n",
       "<table border=\"1\" class=\"dataframe\">\n",
       "  <thead>\n",
       "    <tr style=\"text-align: right;\">\n",
       "      <th></th>\n",
       "      <th>param_C</th>\n",
       "      <th>param_kernel</th>\n",
       "      <th>param_degree</th>\n",
       "      <th>param_gamma</th>\n",
       "      <th>mean_test_score</th>\n",
       "      <th>mean_test_error</th>\n",
       "      <th>std_test_score</th>\n",
       "      <th>rank_test_score</th>\n",
       "    </tr>\n",
       "  </thead>\n",
       "  <tbody>\n",
       "    <tr>\n",
       "      <th>3</th>\n",
       "      <td>10000</td>\n",
       "      <td>poly</td>\n",
       "      <td>3</td>\n",
       "      <td>1</td>\n",
       "      <td>0.779272</td>\n",
       "      <td>0.220728</td>\n",
       "      <td>0.037121</td>\n",
       "      <td>1</td>\n",
       "    </tr>\n",
       "  </tbody>\n",
       "</table>\n",
       "</div>"
      ],
      "text/plain": [
       "  param_C param_kernel param_degree param_gamma  mean_test_score  \\\n",
       "3   10000         poly            3           1         0.779272   \n",
       "\n",
       "   mean_test_error  std_test_score  rank_test_score  \n",
       "3         0.220728        0.037121                1  "
      ]
     },
     "execution_count": 7,
     "metadata": {},
     "output_type": "execute_result"
    }
   ],
   "source": [
    "with open('resultados/cv_results_gf_poly.pkl', 'rb') as f:\n",
    "    cv_results_gf_poly = pickle.load(f)\n",
    "    \n",
    "best_poly = cv_results_gf_poly[cv_results_gf_poly['rank_test_score'] == min(list(cv_results_gf_poly['rank_test_score']))]\n",
    "best_poly.loc[:, ['param_C', 'param_kernel', 'param_degree', 'param_gamma', 'mean_test_score', 'mean_test_error', 'std_test_score', 'rank_test_score']]"
   ]
  },
  {
   "cell_type": "code",
   "execution_count": 8,
   "metadata": {},
   "outputs": [
    {
     "data": {
      "image/png": "[encoded data removed]",
      "text/plain": [
       "<Figure size 640x480 with 1 Axes>"
      ]
     },
     "metadata": {},
     "output_type": "display_data"
    }
   ],
   "source": [
    "fig_gf_poly, axes_gf_poly = plt.subplots(1,1)\n",
    "\n",
    "errorVal(cv_results_gf_poly, fig_gf_poly, kernel_type='poly')\n",
    "\n",
    "fig_gf_poly.savefig('poly_gf.pdf')\n",
    "\n",
    "plt.tight_layout()\n",
    "plt.show()"
   ]
  },
  {
   "cell_type": "markdown",
   "metadata": {},
   "source": [
    "El mejor modelo con *kernel* polinómico lo tenemos para grado 3, $\\gamma = 1$ y un valor de $C = 10^4$ (aunque la gráfica parece que descienda, ya vimos en la exploración gruesa que el error de validación cruzada en $10^5$ era mayor)."
   ]
  },
  {
   "cell_type": "markdown",
   "metadata": {},
   "source": [
    "**Resultados *kernel* radial: gráfica de entrenamiento y mejor modelo**"
   ]
  },
  {
   "cell_type": "code",
   "execution_count": 9,
   "metadata": {},
   "outputs": [
    {
     "data": {
      "text/html": [
       "<div>\n",
       "<style scoped>\n",
       "    .dataframe tbody tr th:only-of-type {\n",
       "        vertical-align: middle;\n",
       "    }\n",
       "\n",
       "    .dataframe tbody tr th {\n",
       "        vertical-align: top;\n",
       "    }\n",
       "\n",
       "    .dataframe thead th {\n",
       "        text-align: right;\n",
       "    }\n",
       "</style>\n",
       "<table border=\"1\" class=\"dataframe\">\n",
       "  <thead>\n",
       "    <tr style=\"text-align: right;\">\n",
       "      <th></th>\n",
       "      <th>param_C</th>\n",
       "      <th>param_kernel</th>\n",
       "      <th>param_gamma</th>\n",
       "      <th>mean_test_score</th>\n",
       "      <th>mean_test_error</th>\n",
       "      <th>std_test_score</th>\n",
       "      <th>rank_test_score</th>\n",
       "    </tr>\n",
       "  </thead>\n",
       "  <tbody>\n",
       "    <tr>\n",
       "      <th>2</th>\n",
       "      <td>1</td>\n",
       "      <td>rbf</td>\n",
       "      <td>1</td>\n",
       "      <td>0.804384</td>\n",
       "      <td>0.195616</td>\n",
       "      <td>0.021161</td>\n",
       "      <td>1</td>\n",
       "    </tr>\n",
       "  </tbody>\n",
       "</table>\n",
       "</div>"
      ],
      "text/plain": [
       "  param_C param_kernel param_gamma  mean_test_score  mean_test_error  \\\n",
       "2       1          rbf           1         0.804384         0.195616   \n",
       "\n",
       "   std_test_score  rank_test_score  \n",
       "2        0.021161                1  "
      ]
     },
     "execution_count": 9,
     "metadata": {},
     "output_type": "execute_result"
    }
   ],
   "source": [
    "with open('resultados/cv_results_gf_rbf.pkl', 'rb') as f:\n",
    "    cv_results_gf_rbf = pickle.load(f)\n",
    "\n",
    "best_rbf = cv_results_gf_rbf[cv_results_gf_rbf['rank_test_score'] == min(list(cv_results_gf_rbf['rank_test_score']))]\n",
    "best_rbf.loc[:, ['param_C', 'param_kernel', 'param_gamma', 'mean_test_score', 'mean_test_error', 'std_test_score', 'rank_test_score']]"
   ]
  },
  {
   "cell_type": "code",
   "execution_count": 10,
   "metadata": {},
   "outputs": [
    {
     "data": {
      "image/png": "[encoded data removed]",
      "text/plain": [
       "<Figure size 640x480 with 1 Axes>"
      ]
     },
     "metadata": {},
     "output_type": "display_data"
    }
   ],
   "source": [
    "fig_gf_rbf, axes_gf_rbf = plt.subplots(1,1)\n",
    "\n",
    "errorVal(cv_results_gf_rbf, fig_gf_rbf, kernel_type='rbf')\n",
    "\n",
    "fig_gf_rbf.savefig('radial_gf.pdf')\n",
    "\n",
    "plt.tight_layout()\n",
    "plt.show()"
   ]
  },
  {
   "cell_type": "markdown",
   "metadata": {},
   "source": [
    "El mejor modelo con *kernel* radial lo tenemos para un valor de $C = 1$ y $\\gamma = 1$. "
   ]
  },
  {
   "cell_type": "markdown",
   "metadata": {},
   "source": [
    "### Verificación de hiperparámetros en *test*"
   ]
  },
  {
   "cell_type": "markdown",
   "metadata": {},
   "source": [
    "Esto no se haría **JAMÁS** en una situación real. Pero como este es un ejemplo para aprender, vamos a ver cómo de lejos nos hemos quedado de los hiperparámetros \"ideales\". Hacemos un Grid Search utilizando el conjunto de entrenamiento al completo (80% de los datos) y nuestro conjunto de validación va a ser el conjunto de test (20% de los datos). \n",
    "\n",
    "Recogemos el rango de hiperparámetros que usamos para la exploración de grano fino. Como esto no requiere mucho tiempo de cómputo, pasaremos los tres *kernel* directamente en el mismo *grid* de hiperparámetros."
   ]
  },
  {
   "cell_type": "code",
   "execution_count": 47,
   "metadata": {},
   "outputs": [],
   "source": [
    "hyperparameters_gf = [{'kernel': ['linear'], 'C': [10**i for i in range(4, 8, 1)]}, \n",
    "                      {'kernel': ['poly'], 'C': [10**i for i in range(1, 5, 1)], 'degree': [3], 'gamma': [1]}, \n",
    "                      {'kernel': ['rbf'], 'C': [10**i for i in range(0, 5, 1)], 'gamma': [10**i for i in range(-2, 1, 1)]}]"
   ]
  },
  {
   "cell_type": "code",
   "execution_count": 48,
   "metadata": {
    "scrolled": true
   },
   "outputs": [
    {
     "name": "stdout",
     "output_type": "stream",
     "text": [
      "Fitting 1 folds for each of 23 candidates, totalling 23 fits\n",
      "[CV 1/1] END .........................C=10000, kernel=linear; total time=  37.5s\n",
      "[CV 1/1] END ........................C=100000, kernel=linear; total time= 1.0min\n",
      "[CV 1/1] END .......................C=1000000, kernel=linear; total time= 1.7min\n",
      "[CV 1/1] END ......................C=10000000, kernel=linear; total time= 2.8min\n",
      "[CV 1/1] END ...........C=10, degree=3, gamma=1, kernel=poly; total time=   7.1s\n",
      "[CV 1/1] END ..........C=100, degree=3, gamma=1, kernel=poly; total time=  52.6s\n",
      "[CV 1/1] END .........C=1000, degree=3, gamma=1, kernel=poly; total time= 1.2min\n",
      "[CV 1/1] END ........C=10000, degree=3, gamma=1, kernel=poly; total time= 2.6min\n",
      "[CV 1/1] END ....................C=1, gamma=0.01, kernel=rbf; total time=   0.0s\n",
      "[CV 1/1] END .....................C=1, gamma=0.1, kernel=rbf; total time=   0.0s\n",
      "[CV 1/1] END .......................C=1, gamma=1, kernel=rbf; total time=   0.0s\n",
      "[CV 1/1] END ...................C=10, gamma=0.01, kernel=rbf; total time=   0.0s\n",
      "[CV 1/1] END ....................C=10, gamma=0.1, kernel=rbf; total time=   0.0s\n",
      "[CV 1/1] END ......................C=10, gamma=1, kernel=rbf; total time=   0.0s\n",
      "[CV 1/1] END ..................C=100, gamma=0.01, kernel=rbf; total time=   0.0s\n",
      "[CV 1/1] END ...................C=100, gamma=0.1, kernel=rbf; total time=   0.0s\n",
      "[CV 1/1] END .....................C=100, gamma=1, kernel=rbf; total time=   0.0s\n",
      "[CV 1/1] END .................C=1000, gamma=0.01, kernel=rbf; total time=   0.0s\n",
      "[CV 1/1] END ..................C=1000, gamma=0.1, kernel=rbf; total time=   0.1s\n",
      "[CV 1/1] END ....................C=1000, gamma=1, kernel=rbf; total time=   0.2s\n",
      "[CV 1/1] END ................C=10000, gamma=0.01, kernel=rbf; total time=   0.3s\n",
      "[CV 1/1] END .................C=10000, gamma=0.1, kernel=rbf; total time=   1.0s\n",
      "[CV 1/1] END ...................C=10000, gamma=1, kernel=rbf; total time=   0.5s\n"
     ]
    },
    {
     "data": {
      "text/plain": [
       "GridSearchCV(cv=PredefinedSplit(test_fold=array([-1, -1, ...,  0,  0])),\n",
       "             estimator=SVC(random_state=1),\n",
       "             param_grid=[{'C': [10000, 100000, 1000000, 10000000],\n",
       "                          'kernel': ['linear']},\n",
       "                         {'C': [10, 100, 1000, 10000], 'degree': [3],\n",
       "                          'gamma': [1], 'kernel': ['poly']},\n",
       "                         {'C': [1, 10, 100, 1000, 10000],\n",
       "                          'gamma': [0.01, 0.1, 1], 'kernel': ['rbf']}],\n",
       "             return_train_score=True, scoring='accuracy', verbose=3)"
      ]
     },
     "execution_count": 48,
     "metadata": {},
     "output_type": "execute_result"
    }
   ],
   "source": [
    "split_test_fold = [-1]*len(dataset_train_Y) + [0]*len(dataset_test_Y)\n",
    "ps = PredefinedSplit(test_fold=split_test_fold) # fijamos una particion de datos (forzamos al metodo a que particione como queremos)\n",
    "\n",
    "# Juntamos los conjuntos de entrenamiento y test, fingiendo que son un sólo conjunto de entrenamiento-validación\n",
    "dataset_all_X_scaled = np.vstack([dataset_train_X_scaled, dataset_test_X_scaled])\n",
    "dataset_all_Y = pd.concat([dataset_train_Y, dataset_test_Y])\n",
    "\n",
    "svm_test = SVC(random_state=SEED_VALUE)\n",
    "\n",
    "modeloCV_test, cv_results_test = crossVal(dataset_all_X_scaled, np.ravel(dataset_all_Y.astype(int)), \n",
    "                                          svm_test, hyperparameters_gf, cv = ps)\n",
    "modeloCV_test"
   ]
  },
  {
   "cell_type": "markdown",
   "metadata": {},
   "source": [
    "Separamos los resultados de los distintos *kernel*."
   ]
  },
  {
   "cell_type": "code",
   "execution_count": 49,
   "metadata": {},
   "outputs": [],
   "source": [
    "linear_test = cv_results_test[cv_results_test['param_kernel'] == 'linear']\n",
    "poly_test = cv_results_test[cv_results_test['param_kernel'] == 'poly']\n",
    "rbf_test = cv_results_test[cv_results_test['param_kernel'] == 'rbf']"
   ]
  },
  {
   "cell_type": "markdown",
   "metadata": {},
   "source": [
    "Cogemos los resultados del modelo que mostró un menor error de validación cruzada en el conjunto de entrenamiento y vemos los resultados numéricos y gráficos en el conjunto de test, comparando con los resultados de validación."
   ]
  },
  {
   "cell_type": "code",
   "execution_count": 56,
   "metadata": {},
   "outputs": [],
   "source": [
    "best_linear_test = linear_test[linear_test['param_C'] == 100000] \n",
    "\n",
    "best_poly_test = poly_test[(poly_test['param_C'] == 10000) & \n",
    "                           (poly_test['param_degree'] == 3)]\n",
    "\n",
    "best_rbf_test = rbf_test[(rbf_test['param_C'] == 1) & \n",
    "                         (rbf_test['param_gamma'] == 1)]"
   ]
  },
  {
   "cell_type": "markdown",
   "metadata": {},
   "source": [
    "**Resultados kernel lineal**"
   ]
  },
  {
   "cell_type": "code",
   "execution_count": 57,
   "metadata": {},
   "outputs": [
    {
     "data": {
      "text/html": [
       "<div>\n",
       "<style scoped>\n",
       "    .dataframe tbody tr th:only-of-type {\n",
       "        vertical-align: middle;\n",
       "    }\n",
       "\n",
       "    .dataframe tbody tr th {\n",
       "        vertical-align: top;\n",
       "    }\n",
       "\n",
       "    .dataframe thead th {\n",
       "        text-align: right;\n",
       "    }\n",
       "</style>\n",
       "<table border=\"1\" class=\"dataframe\">\n",
       "  <thead>\n",
       "    <tr style=\"text-align: right;\">\n",
       "      <th></th>\n",
       "      <th>param_C</th>\n",
       "      <th>param_kernel</th>\n",
       "      <th>mean_test_score</th>\n",
       "      <th>mean_test_error</th>\n",
       "      <th>std_test_score</th>\n",
       "      <th>rank_test_score</th>\n",
       "    </tr>\n",
       "  </thead>\n",
       "  <tbody>\n",
       "    <tr>\n",
       "      <th>1</th>\n",
       "      <td>100000</td>\n",
       "      <td>linear</td>\n",
       "      <td>0.78</td>\n",
       "      <td>0.22</td>\n",
       "      <td>0.0</td>\n",
       "      <td>4</td>\n",
       "    </tr>\n",
       "  </tbody>\n",
       "</table>\n",
       "</div>"
      ],
      "text/plain": [
       "  param_C param_kernel  mean_test_score  mean_test_error  std_test_score  \\\n",
       "1  100000       linear             0.78             0.22             0.0   \n",
       "\n",
       "   rank_test_score  \n",
       "1                4  "
      ]
     },
     "execution_count": 57,
     "metadata": {},
     "output_type": "execute_result"
    }
   ],
   "source": [
    "best_linear_test.loc[:, ['param_C', 'param_kernel', 'mean_test_score', 'mean_test_error', 'std_test_score', 'rank_test_score']]"
   ]
  },
  {
   "cell_type": "markdown",
   "metadata": {},
   "source": [
    "**Resultados kernel polinómico**"
   ]
  },
  {
   "cell_type": "code",
   "execution_count": 58,
   "metadata": {},
   "outputs": [
    {
     "data": {
      "text/html": [
       "<div>\n",
       "<style scoped>\n",
       "    .dataframe tbody tr th:only-of-type {\n",
       "        vertical-align: middle;\n",
       "    }\n",
       "\n",
       "    .dataframe tbody tr th {\n",
       "        vertical-align: top;\n",
       "    }\n",
       "\n",
       "    .dataframe thead th {\n",
       "        text-align: right;\n",
       "    }\n",
       "</style>\n",
       "<table border=\"1\" class=\"dataframe\">\n",
       "  <thead>\n",
       "    <tr style=\"text-align: right;\">\n",
       "      <th></th>\n",
       "      <th>param_C</th>\n",
       "      <th>param_kernel</th>\n",
       "      <th>param_degree</th>\n",
       "      <th>param_gamma</th>\n",
       "      <th>mean_test_score</th>\n",
       "      <th>mean_test_error</th>\n",
       "      <th>std_test_score</th>\n",
       "      <th>rank_test_score</th>\n",
       "    </tr>\n",
       "  </thead>\n",
       "  <tbody>\n",
       "    <tr>\n",
       "      <th>7</th>\n",
       "      <td>10000</td>\n",
       "      <td>poly</td>\n",
       "      <td>3</td>\n",
       "      <td>1</td>\n",
       "      <td>0.766667</td>\n",
       "      <td>0.233333</td>\n",
       "      <td>0.0</td>\n",
       "      <td>13</td>\n",
       "    </tr>\n",
       "  </tbody>\n",
       "</table>\n",
       "</div>"
      ],
      "text/plain": [
       "  param_C param_kernel param_degree param_gamma  mean_test_score  \\\n",
       "7   10000         poly            3           1         0.766667   \n",
       "\n",
       "   mean_test_error  std_test_score  rank_test_score  \n",
       "7         0.233333             0.0               13  "
      ]
     },
     "execution_count": 58,
     "metadata": {},
     "output_type": "execute_result"
    }
   ],
   "source": [
    "best_poly_test.loc[:, ['param_C', 'param_kernel', 'param_degree', 'param_gamma', 'mean_test_score', 'mean_test_error', 'std_test_score', 'rank_test_score']]"
   ]
  },
  {
   "cell_type": "markdown",
   "metadata": {},
   "source": [
    "**Resultados kernel radial**"
   ]
  },
  {
   "cell_type": "code",
   "execution_count": 59,
   "metadata": {},
   "outputs": [
    {
     "data": {
      "text/html": [
       "<div>\n",
       "<style scoped>\n",
       "    .dataframe tbody tr th:only-of-type {\n",
       "        vertical-align: middle;\n",
       "    }\n",
       "\n",
       "    .dataframe tbody tr th {\n",
       "        vertical-align: top;\n",
       "    }\n",
       "\n",
       "    .dataframe thead th {\n",
       "        text-align: right;\n",
       "    }\n",
       "</style>\n",
       "<table border=\"1\" class=\"dataframe\">\n",
       "  <thead>\n",
       "    <tr style=\"text-align: right;\">\n",
       "      <th></th>\n",
       "      <th>param_C</th>\n",
       "      <th>param_kernel</th>\n",
       "      <th>param_gamma</th>\n",
       "      <th>mean_test_score</th>\n",
       "      <th>mean_test_error</th>\n",
       "      <th>std_test_score</th>\n",
       "      <th>rank_test_score</th>\n",
       "    </tr>\n",
       "  </thead>\n",
       "  <tbody>\n",
       "    <tr>\n",
       "      <th>10</th>\n",
       "      <td>1</td>\n",
       "      <td>rbf</td>\n",
       "      <td>1</td>\n",
       "      <td>0.773333</td>\n",
       "      <td>0.226667</td>\n",
       "      <td>0.0</td>\n",
       "      <td>7</td>\n",
       "    </tr>\n",
       "  </tbody>\n",
       "</table>\n",
       "</div>"
      ],
      "text/plain": [
       "   param_C param_kernel param_gamma  mean_test_score  mean_test_error  \\\n",
       "10       1          rbf           1         0.773333         0.226667   \n",
       "\n",
       "    std_test_score  rank_test_score  \n",
       "10             0.0                7  "
      ]
     },
     "execution_count": 59,
     "metadata": {},
     "output_type": "execute_result"
    }
   ],
   "source": [
    "best_rbf_test.loc[:, ['param_C', 'param_kernel', 'param_gamma', 'mean_test_score', 'mean_test_error', 'std_test_score', 'rank_test_score']]"
   ]
  },
  {
   "cell_type": "markdown",
   "metadata": {},
   "source": [
    "**Error de validación vs test**\n",
    "\n",
    "Ahora mostramos la gráfica del error de *test* frente al valor del hiperparámetro junto con la del error de entrenamiento, lo que permitirá comparar si la gráfica del error de entrenamiento con validación cruzada ha hecho una buena estimación del error de *test*."
   ]
  },
  {
   "cell_type": "code",
   "execution_count": 74,
   "metadata": {},
   "outputs": [
    {
     "name": "stderr",
     "output_type": "stream",
     "text": [
      "/mnt/netapp1/Optcesga_FT2_RHEL7/2020/gentoo/22072020/usr/lib/python3.7/site-packages/ipykernel_launcher.py:5: SettingWithCopyWarning: \n",
      "A value is trying to be set on a copy of a slice from a DataFrame.\n",
      "Try using .loc[row_indexer,col_indexer] = value instead\n",
      "\n",
      "See the caveats in the documentation: https://pandas.pydata.org/pandas-docs/stable/user_guide/indexing.html#returning-a-view-versus-a-copy\n",
      "  \"\"\"\n"
     ]
    },
    {
     "data": {
      "image/png": "[encoded data removed]",
      "text/plain": [
       "<Figure size 432x288 with 1 Axes>"
      ]
     },
     "metadata": {
      "needs_background": "light"
     },
     "output_type": "display_data"
    },
    {
     "data": {
      "image/png": "[encoded data removed]",
      "text/plain": [
       "<Figure size 432x288 with 1 Axes>"
      ]
     },
     "metadata": {
      "needs_background": "light"
     },
     "output_type": "display_data"
    },
    {
     "data": {
      "image/png": "[encoded data removed]",
      "text/plain": [
       "<Figure size 432x288 with 1 Axes>"
      ]
     },
     "metadata": {
      "needs_background": "light"
     },
     "output_type": "display_data"
    }
   ],
   "source": [
    "fig_test, axes_test = plt.subplots(1,1)\n",
    "fig_test2, axes_test2 = plt.subplots(1,1)\n",
    "fig_test3, axes_test3 = plt.subplots(1,1)\n",
    "\n",
    "errorVal(cv_results_gf_lineal, fig_test, kernel_type='linear', label='validacion')\n",
    "errorVal(linear_test, fig_test, kernel_type='linear', color=['navy'], label='test')\n",
    "\n",
    "errorVal(cv_results_gf_poly, fig_test2, kernel_type='poly', label='validacion')\n",
    "errorVal(poly_test, fig_test2, kernel_type='poly', color=['navy'], label='test')\n",
    "\n",
    "errorVal(cv_results_gf_rbf[cv_results_gf_rbf['param_gamma'] == 1], fig_test3, kernel_type='rbf', label='validacion')\n",
    "errorVal(rbf_test[rbf_test['param_gamma'] == 1], fig_test3, kernel_type='rbf', color=['navy'], label='test')\n",
    "\n",
    "fig_test.savefig('linealTest.png')\n",
    "fig_test2.savefig('polyTest.png')\n",
    "fig_test3.savefig('radialTest.png')\n",
    "plt.tight_layout()\n",
    "plt.show()"
   ]
  },
  {
   "cell_type": "markdown",
   "metadata": {},
   "source": [
    "Vemos que el error de *test* sigue de forma aproximada la tendencia del error de validación, pero los valores son distintos. "
   ]
  }
 ],
 "metadata": {
  "kernelspec": {
   "display_name": ".venv",
   "language": "python",
   "name": "python3"
  },
  "language_info": {
   "codemirror_mode": {
    "name": "ipython",
    "version": 3
   },
   "file_extension": ".py",
   "mimetype": "text/x-python",
   "name": "python",
   "nbconvert_exporter": "python",
   "pygments_lexer": "ipython3",
   "version": "3.11.9"
  }
 },
 "nbformat": 4,
 "nbformat_minor": 2
}
