{
 "cells": [
  {
   "cell_type": "code",
   "execution_count": 2,
   "metadata": {
    "vscode": {
     "languageId": "r"
    }
   },
   "outputs": [
    {
     "data": {
      "text/html": [
       "'es_ES.UTF-8/es_ES.UTF-8/es_ES.UTF-8/C/es_ES.UTF-8/C'"
      ],
      "text/latex": [
       "'es\\_ES.UTF-8/es\\_ES.UTF-8/es\\_ES.UTF-8/C/es\\_ES.UTF-8/C'"
      ],
      "text/markdown": [
       "'es_ES.UTF-8/es_ES.UTF-8/es_ES.UTF-8/C/es_ES.UTF-8/C'"
      ],
      "text/plain": [
       "[1] \"es_ES.UTF-8/es_ES.UTF-8/es_ES.UTF-8/C/es_ES.UTF-8/C\""
      ]
     },
     "metadata": {},
     "output_type": "display_data"
    }
   ],
   "source": [
    "Sys.setlocale(\"LC_ALL\", \"es_ES.UTF-8\") # principlamente para mostrar tildes en las gráficas"
   ]
  },
  {
   "cell_type": "markdown",
   "metadata": {},
   "source": [
    "# Ejercicio 1"
   ]
  },
  {
   "cell_type": "code",
   "execution_count": 63,
   "metadata": {
    "vscode": {
     "languageId": "r"
    }
   },
   "outputs": [
    {
     "data": {
      "text/html": [
       "<table class=\"dataframe\">\n",
       "<caption>A data.frame: 4521 x 17</caption>\n",
       "<thead>\n",
       "\t<tr><th scope=col>age</th><th scope=col>job</th><th scope=col>marital</th><th scope=col>education</th><th scope=col>default</th><th scope=col>balance</th><th scope=col>housing</th><th scope=col>loan</th><th scope=col>contact</th><th scope=col>day</th><th scope=col>month</th><th scope=col>duration</th><th scope=col>campaign</th><th scope=col>pdays</th><th scope=col>previous</th><th scope=col>poutcome</th><th scope=col>y</th></tr>\n",
       "\t<tr><th scope=col>&lt;int&gt;</th><th scope=col>&lt;chr&gt;</th><th scope=col>&lt;chr&gt;</th><th scope=col>&lt;chr&gt;</th><th scope=col>&lt;chr&gt;</th><th scope=col>&lt;int&gt;</th><th scope=col>&lt;chr&gt;</th><th scope=col>&lt;chr&gt;</th><th scope=col>&lt;chr&gt;</th><th scope=col>&lt;int&gt;</th><th scope=col>&lt;chr&gt;</th><th scope=col>&lt;int&gt;</th><th scope=col>&lt;int&gt;</th><th scope=col>&lt;int&gt;</th><th scope=col>&lt;int&gt;</th><th scope=col>&lt;chr&gt;</th><th scope=col>&lt;chr&gt;</th></tr>\n",
       "</thead>\n",
       "<tbody>\n",
       "\t<tr><td>30</td><td>unemployed   </td><td>married </td><td>primary  </td><td>no</td><td>1787</td><td>no </td><td>no </td><td>cellular </td><td>19</td><td>oct</td><td> 79</td><td>1</td><td> -1</td><td>0</td><td>unknown</td><td>no </td></tr>\n",
       "\t<tr><td>33</td><td>services     </td><td>married </td><td>secondary</td><td>no</td><td>4789</td><td>yes</td><td>yes</td><td>cellular </td><td>11</td><td>may</td><td>220</td><td>1</td><td>339</td><td>4</td><td>failure</td><td>no </td></tr>\n",
       "\t<tr><td>35</td><td>management   </td><td>single  </td><td>tertiary </td><td>no</td><td>1350</td><td>yes</td><td>no </td><td>cellular </td><td>16</td><td>apr</td><td>185</td><td>1</td><td>330</td><td>1</td><td>failure</td><td>no </td></tr>\n",
       "\t<tr><td>30</td><td>management   </td><td>married </td><td>tertiary </td><td>no</td><td>1476</td><td>yes</td><td>yes</td><td>unknown  </td><td> 3</td><td>jun</td><td>199</td><td>4</td><td> -1</td><td>0</td><td>unknown</td><td>no </td></tr>\n",
       "\t<tr><td>59</td><td>blue-collar  </td><td>married </td><td>secondary</td><td>no</td><td>   0</td><td>yes</td><td>no </td><td>unknown  </td><td> 5</td><td>may</td><td>226</td><td>1</td><td> -1</td><td>0</td><td>unknown</td><td>no </td></tr>\n",
       "\t<tr><td>35</td><td>management   </td><td>single  </td><td>tertiary </td><td>no</td><td> 747</td><td>no </td><td>no </td><td>cellular </td><td>23</td><td>feb</td><td>141</td><td>2</td><td>176</td><td>3</td><td>failure</td><td>no </td></tr>\n",
       "\t<tr><td>36</td><td>self-employed</td><td>married </td><td>tertiary </td><td>no</td><td> 307</td><td>yes</td><td>no </td><td>cellular </td><td>14</td><td>may</td><td>341</td><td>1</td><td>330</td><td>2</td><td>other  </td><td>no </td></tr>\n",
       "\t<tr><td>39</td><td>technician   </td><td>married </td><td>secondary</td><td>no</td><td> 147</td><td>yes</td><td>no </td><td>cellular </td><td> 6</td><td>may</td><td>151</td><td>2</td><td> -1</td><td>0</td><td>unknown</td><td>no </td></tr>\n",
       "\t<tr><td>41</td><td>entrepreneur </td><td>married </td><td>tertiary </td><td>no</td><td> 221</td><td>yes</td><td>no </td><td>unknown  </td><td>14</td><td>may</td><td> 57</td><td>2</td><td> -1</td><td>0</td><td>unknown</td><td>no </td></tr>\n",
       "\t<tr><td>43</td><td>services     </td><td>married </td><td>primary  </td><td>no</td><td> -88</td><td>yes</td><td>yes</td><td>cellular </td><td>17</td><td>apr</td><td>313</td><td>1</td><td>147</td><td>2</td><td>failure</td><td>no </td></tr>\n",
       "\t<tr><td>39</td><td>services     </td><td>married </td><td>secondary</td><td>no</td><td>9374</td><td>yes</td><td>no </td><td>unknown  </td><td>20</td><td>may</td><td>273</td><td>1</td><td> -1</td><td>0</td><td>unknown</td><td>no </td></tr>\n",
       "\t<tr><td>43</td><td>admin.       </td><td>married </td><td>secondary</td><td>no</td><td> 264</td><td>yes</td><td>no </td><td>cellular </td><td>17</td><td>apr</td><td>113</td><td>2</td><td> -1</td><td>0</td><td>unknown</td><td>no </td></tr>\n",
       "\t<tr><td>36</td><td>technician   </td><td>married </td><td>tertiary </td><td>no</td><td>1109</td><td>no </td><td>no </td><td>cellular </td><td>13</td><td>aug</td><td>328</td><td>2</td><td> -1</td><td>0</td><td>unknown</td><td>no </td></tr>\n",
       "\t<tr><td>20</td><td>student      </td><td>single  </td><td>secondary</td><td>no</td><td> 502</td><td>no </td><td>no </td><td>cellular </td><td>30</td><td>apr</td><td>261</td><td>1</td><td> -1</td><td>0</td><td>unknown</td><td>yes</td></tr>\n",
       "\t<tr><td>31</td><td>blue-collar  </td><td>married </td><td>secondary</td><td>no</td><td> 360</td><td>yes</td><td>yes</td><td>cellular </td><td>29</td><td>jan</td><td> 89</td><td>1</td><td>241</td><td>1</td><td>failure</td><td>no </td></tr>\n",
       "\t<tr><td>40</td><td>management   </td><td>married </td><td>tertiary </td><td>no</td><td> 194</td><td>no </td><td>yes</td><td>cellular </td><td>29</td><td>aug</td><td>189</td><td>2</td><td> -1</td><td>0</td><td>unknown</td><td>no </td></tr>\n",
       "\t<tr><td>56</td><td>technician   </td><td>married </td><td>secondary</td><td>no</td><td>4073</td><td>no </td><td>no </td><td>cellular </td><td>27</td><td>aug</td><td>239</td><td>5</td><td> -1</td><td>0</td><td>unknown</td><td>no </td></tr>\n",
       "\t<tr><td>37</td><td>admin.       </td><td>single  </td><td>tertiary </td><td>no</td><td>2317</td><td>yes</td><td>no </td><td>cellular </td><td>20</td><td>apr</td><td>114</td><td>1</td><td>152</td><td>2</td><td>failure</td><td>no </td></tr>\n",
       "\t<tr><td>25</td><td>blue-collar  </td><td>single  </td><td>primary  </td><td>no</td><td>-221</td><td>yes</td><td>no </td><td>unknown  </td><td>23</td><td>may</td><td>250</td><td>1</td><td> -1</td><td>0</td><td>unknown</td><td>no </td></tr>\n",
       "\t<tr><td>31</td><td>services     </td><td>married </td><td>secondary</td><td>no</td><td> 132</td><td>no </td><td>no </td><td>cellular </td><td> 7</td><td>jul</td><td>148</td><td>1</td><td>152</td><td>1</td><td>other  </td><td>no </td></tr>\n",
       "\t<tr><td>38</td><td>management   </td><td>divorced</td><td>unknown  </td><td>no</td><td>   0</td><td>yes</td><td>no </td><td>cellular </td><td>18</td><td>nov</td><td> 96</td><td>2</td><td> -1</td><td>0</td><td>unknown</td><td>no </td></tr>\n",
       "\t<tr><td>42</td><td>management   </td><td>divorced</td><td>tertiary </td><td>no</td><td>  16</td><td>no </td><td>no </td><td>cellular </td><td>19</td><td>nov</td><td>140</td><td>3</td><td> -1</td><td>0</td><td>unknown</td><td>no </td></tr>\n",
       "\t<tr><td>44</td><td>services     </td><td>single  </td><td>secondary</td><td>no</td><td> 106</td><td>no </td><td>no </td><td>unknown  </td><td>12</td><td>jun</td><td>109</td><td>2</td><td> -1</td><td>0</td><td>unknown</td><td>no </td></tr>\n",
       "\t<tr><td>44</td><td>entrepreneur </td><td>married </td><td>secondary</td><td>no</td><td>  93</td><td>no </td><td>no </td><td>cellular </td><td> 7</td><td>jul</td><td>125</td><td>2</td><td> -1</td><td>0</td><td>unknown</td><td>no </td></tr>\n",
       "\t<tr><td>26</td><td>housemaid    </td><td>married </td><td>tertiary </td><td>no</td><td> 543</td><td>no </td><td>no </td><td>cellular </td><td>30</td><td>jan</td><td>169</td><td>3</td><td> -1</td><td>0</td><td>unknown</td><td>no </td></tr>\n",
       "\t<tr><td>41</td><td>management   </td><td>married </td><td>tertiary </td><td>no</td><td>5883</td><td>no </td><td>no </td><td>cellular </td><td>20</td><td>nov</td><td>182</td><td>2</td><td> -1</td><td>0</td><td>unknown</td><td>no </td></tr>\n",
       "\t<tr><td>55</td><td>blue-collar  </td><td>married </td><td>primary  </td><td>no</td><td> 627</td><td>yes</td><td>no </td><td>unknown  </td><td> 5</td><td>may</td><td>247</td><td>1</td><td> -1</td><td>0</td><td>unknown</td><td>no </td></tr>\n",
       "\t<tr><td>67</td><td>retired      </td><td>married </td><td>unknown  </td><td>no</td><td> 696</td><td>no </td><td>no </td><td>telephone</td><td>17</td><td>aug</td><td>119</td><td>1</td><td>105</td><td>2</td><td>failure</td><td>no </td></tr>\n",
       "\t<tr><td>56</td><td>self-employed</td><td>married </td><td>secondary</td><td>no</td><td> 784</td><td>no </td><td>yes</td><td>cellular </td><td>30</td><td>jul</td><td>149</td><td>2</td><td> -1</td><td>0</td><td>unknown</td><td>no </td></tr>\n",
       "\t<tr><td>53</td><td>admin.       </td><td>married </td><td>secondary</td><td>no</td><td> 105</td><td>no </td><td>yes</td><td>cellular </td><td>21</td><td>aug</td><td> 74</td><td>2</td><td> -1</td><td>0</td><td>unknown</td><td>no </td></tr>\n",
       "\t<tr><td>...</td><td>...</td><td>...</td><td>...</td><td>...</td><td>...</td><td>...</td><td>...</td><td>...</td><td>...</td><td>...</td><td>...</td><td>...</td><td>...</td><td>...</td><td>...</td><td>...</td></tr>\n",
       "\t<tr><td>35</td><td>blue-collar  </td><td>single  </td><td>secondary</td><td>no </td><td>    0</td><td>yes</td><td>no </td><td>cellular </td><td>16</td><td>apr</td><td> 169</td><td> 1</td><td> -1</td><td>0</td><td>unknown</td><td>no </td></tr>\n",
       "\t<tr><td>32</td><td>technician   </td><td>single  </td><td>secondary</td><td>no </td><td>  309</td><td>yes</td><td>yes</td><td>cellular </td><td>16</td><td>apr</td><td> 346</td><td> 1</td><td>234</td><td>3</td><td>failure</td><td>no </td></tr>\n",
       "\t<tr><td>28</td><td>technician   </td><td>single  </td><td>tertiary </td><td>no </td><td>    0</td><td>yes</td><td>no </td><td>unknown  </td><td> 4</td><td>jun</td><td> 205</td><td> 6</td><td> -1</td><td>0</td><td>unknown</td><td>no </td></tr>\n",
       "\t<tr><td>26</td><td>technician   </td><td>single  </td><td>secondary</td><td>no </td><td>  668</td><td>yes</td><td>no </td><td>unknown  </td><td>28</td><td>may</td><td> 576</td><td> 3</td><td> -1</td><td>0</td><td>unknown</td><td>yes</td></tr>\n",
       "\t<tr><td>48</td><td>management   </td><td>married </td><td>tertiary </td><td>no </td><td> 1175</td><td>yes</td><td>no </td><td>telephone</td><td>18</td><td>nov</td><td>1476</td><td> 3</td><td> -1</td><td>0</td><td>unknown</td><td>no </td></tr>\n",
       "\t<tr><td>30</td><td>blue-collar  </td><td>single  </td><td>secondary</td><td>no </td><td>  363</td><td>no </td><td>no </td><td>cellular </td><td>28</td><td>jul</td><td> 171</td><td> 3</td><td> -1</td><td>0</td><td>unknown</td><td>no </td></tr>\n",
       "\t<tr><td>31</td><td>entrepreneur </td><td>single  </td><td>tertiary </td><td>no </td><td>   38</td><td>no </td><td>no </td><td>cellular </td><td>20</td><td>nov</td><td> 185</td><td> 2</td><td> -1</td><td>0</td><td>unknown</td><td>no </td></tr>\n",
       "\t<tr><td>31</td><td>management   </td><td>married </td><td>tertiary </td><td>no </td><td> 1183</td><td>yes</td><td>no </td><td>unknown  </td><td>27</td><td>may</td><td> 676</td><td> 6</td><td> -1</td><td>0</td><td>unknown</td><td>no </td></tr>\n",
       "\t<tr><td>45</td><td>blue-collar  </td><td>divorced</td><td>primary  </td><td>no </td><td>  942</td><td>no </td><td>no </td><td>cellular </td><td>21</td><td>nov</td><td> 362</td><td> 1</td><td> -1</td><td>0</td><td>unknown</td><td>no </td></tr>\n",
       "\t<tr><td>38</td><td>admin.       </td><td>married </td><td>secondary</td><td>no </td><td> 4196</td><td>yes</td><td>no </td><td>cellular </td><td>12</td><td>may</td><td> 193</td><td> 2</td><td> -1</td><td>0</td><td>unknown</td><td>no </td></tr>\n",
       "\t<tr><td>34</td><td>management   </td><td>married </td><td>tertiary </td><td>no </td><td>  297</td><td>yes</td><td>no </td><td>cellular </td><td>26</td><td>aug</td><td>  63</td><td> 4</td><td> -1</td><td>0</td><td>unknown</td><td>no </td></tr>\n",
       "\t<tr><td>42</td><td>services     </td><td>married </td><td>secondary</td><td>no </td><td>  -91</td><td>yes</td><td>yes</td><td>cellular </td><td> 5</td><td>feb</td><td>  43</td><td> 1</td><td> -1</td><td>0</td><td>unknown</td><td>no </td></tr>\n",
       "\t<tr><td>60</td><td>self-employed</td><td>married </td><td>primary  </td><td>no </td><td>  362</td><td>no </td><td>yes</td><td>cellular </td><td>29</td><td>jul</td><td> 816</td><td> 6</td><td> -1</td><td>0</td><td>unknown</td><td>yes</td></tr>\n",
       "\t<tr><td>42</td><td>blue-collar  </td><td>single  </td><td>secondary</td><td>no </td><td> 1080</td><td>yes</td><td>yes</td><td>cellular </td><td>13</td><td>may</td><td> 951</td><td> 3</td><td>370</td><td>4</td><td>failure</td><td>yes</td></tr>\n",
       "\t<tr><td>32</td><td>admin.       </td><td>single  </td><td>secondary</td><td>no </td><td>  620</td><td>yes</td><td>no </td><td>unknown  </td><td>26</td><td>may</td><td>1234</td><td> 3</td><td> -1</td><td>0</td><td>unknown</td><td>yes</td></tr>\n",
       "\t<tr><td>42</td><td>unemployed   </td><td>divorced</td><td>tertiary </td><td>no </td><td> -166</td><td>no </td><td>no </td><td>cellular </td><td>29</td><td>aug</td><td>  85</td><td> 4</td><td> -1</td><td>0</td><td>unknown</td><td>no </td></tr>\n",
       "\t<tr><td>33</td><td>services     </td><td>married </td><td>secondary</td><td>no </td><td>  288</td><td>yes</td><td>no </td><td>cellular </td><td>17</td><td>apr</td><td> 306</td><td> 1</td><td> -1</td><td>0</td><td>unknown</td><td>no </td></tr>\n",
       "\t<tr><td>42</td><td>admin.       </td><td>married </td><td>unknown  </td><td>no </td><td>  642</td><td>yes</td><td>yes</td><td>unknown  </td><td>16</td><td>may</td><td> 509</td><td> 2</td><td> -1</td><td>0</td><td>unknown</td><td>no </td></tr>\n",
       "\t<tr><td>51</td><td>technician   </td><td>married </td><td>tertiary </td><td>no </td><td> 2506</td><td>no </td><td>no </td><td>cellular </td><td>30</td><td>nov</td><td> 210</td><td> 3</td><td> -1</td><td>0</td><td>unknown</td><td>no </td></tr>\n",
       "\t<tr><td>36</td><td>technician   </td><td>divorced</td><td>secondary</td><td>no </td><td>  566</td><td>yes</td><td>no </td><td>unknown  </td><td>20</td><td>may</td><td> 129</td><td> 2</td><td> -1</td><td>0</td><td>unknown</td><td>no </td></tr>\n",
       "\t<tr><td>46</td><td>blue-collar  </td><td>married </td><td>secondary</td><td>no </td><td>  668</td><td>yes</td><td>no </td><td>unknown  </td><td>15</td><td>may</td><td>1263</td><td> 2</td><td> -1</td><td>0</td><td>unknown</td><td>yes</td></tr>\n",
       "\t<tr><td>40</td><td>blue-collar  </td><td>married </td><td>secondary</td><td>no </td><td> 1100</td><td>yes</td><td>no </td><td>unknown  </td><td>29</td><td>may</td><td> 660</td><td> 2</td><td> -1</td><td>0</td><td>unknown</td><td>no </td></tr>\n",
       "\t<tr><td>49</td><td>blue-collar  </td><td>married </td><td>secondary</td><td>no </td><td>  322</td><td>no </td><td>no </td><td>cellular </td><td>14</td><td>aug</td><td> 356</td><td> 2</td><td> -1</td><td>0</td><td>unknown</td><td>no </td></tr>\n",
       "\t<tr><td>38</td><td>blue-collar  </td><td>married </td><td>secondary</td><td>no </td><td> 1205</td><td>yes</td><td>no </td><td>cellular </td><td>20</td><td>apr</td><td>  45</td><td> 4</td><td>153</td><td>1</td><td>failure</td><td>no </td></tr>\n",
       "\t<tr><td>32</td><td>services     </td><td>single  </td><td>secondary</td><td>no </td><td>  473</td><td>yes</td><td>no </td><td>cellular </td><td> 7</td><td>jul</td><td> 624</td><td> 5</td><td> -1</td><td>0</td><td>unknown</td><td>no </td></tr>\n",
       "\t<tr><td>33</td><td>services     </td><td>married </td><td>secondary</td><td>no </td><td> -333</td><td>yes</td><td>no </td><td>cellular </td><td>30</td><td>jul</td><td> 329</td><td> 5</td><td> -1</td><td>0</td><td>unknown</td><td>no </td></tr>\n",
       "\t<tr><td>57</td><td>self-employed</td><td>married </td><td>tertiary </td><td>yes</td><td>-3313</td><td>yes</td><td>yes</td><td>unknown  </td><td> 9</td><td>may</td><td> 153</td><td> 1</td><td> -1</td><td>0</td><td>unknown</td><td>no </td></tr>\n",
       "\t<tr><td>57</td><td>technician   </td><td>married </td><td>secondary</td><td>no </td><td>  295</td><td>no </td><td>no </td><td>cellular </td><td>19</td><td>aug</td><td> 151</td><td>11</td><td> -1</td><td>0</td><td>unknown</td><td>no </td></tr>\n",
       "\t<tr><td>28</td><td>blue-collar  </td><td>married </td><td>secondary</td><td>no </td><td> 1137</td><td>no </td><td>no </td><td>cellular </td><td> 6</td><td>feb</td><td> 129</td><td> 4</td><td>211</td><td>3</td><td>other  </td><td>no </td></tr>\n",
       "\t<tr><td>44</td><td>entrepreneur </td><td>single  </td><td>tertiary </td><td>no </td><td> 1136</td><td>yes</td><td>yes</td><td>cellular </td><td> 3</td><td>apr</td><td> 345</td><td> 2</td><td>249</td><td>7</td><td>other  </td><td>no </td></tr>\n",
       "</tbody>\n",
       "</table>\n"
      ],
      "text/latex": [
       "A data.frame: 4521 x 17\n",
       "\\begin{tabular}{lllllllllllllllll}\n",
       " age & job & marital & education & default & balance & housing & loan & contact & day & month & duration & campaign & pdays & previous & poutcome & y\\\\\n",
       " <int> & <chr> & <chr> & <chr> & <chr> & <int> & <chr> & <chr> & <chr> & <int> & <chr> & <int> & <int> & <int> & <int> & <chr> & <chr>\\\\\n",
       "\\hline\n",
       "\t 30 & unemployed    & married  & primary   & no & 1787 & no  & no  & cellular  & 19 & oct &  79 & 1 &  -1 & 0 & unknown & no \\\\\n",
       "\t 33 & services      & married  & secondary & no & 4789 & yes & yes & cellular  & 11 & may & 220 & 1 & 339 & 4 & failure & no \\\\\n",
       "\t 35 & management    & single   & tertiary  & no & 1350 & yes & no  & cellular  & 16 & apr & 185 & 1 & 330 & 1 & failure & no \\\\\n",
       "\t 30 & management    & married  & tertiary  & no & 1476 & yes & yes & unknown   &  3 & jun & 199 & 4 &  -1 & 0 & unknown & no \\\\\n",
       "\t 59 & blue-collar   & married  & secondary & no &    0 & yes & no  & unknown   &  5 & may & 226 & 1 &  -1 & 0 & unknown & no \\\\\n",
       "\t 35 & management    & single   & tertiary  & no &  747 & no  & no  & cellular  & 23 & feb & 141 & 2 & 176 & 3 & failure & no \\\\\n",
       "\t 36 & self-employed & married  & tertiary  & no &  307 & yes & no  & cellular  & 14 & may & 341 & 1 & 330 & 2 & other   & no \\\\\n",
       "\t 39 & technician    & married  & secondary & no &  147 & yes & no  & cellular  &  6 & may & 151 & 2 &  -1 & 0 & unknown & no \\\\\n",
       "\t 41 & entrepreneur  & married  & tertiary  & no &  221 & yes & no  & unknown   & 14 & may &  57 & 2 &  -1 & 0 & unknown & no \\\\\n",
       "\t 43 & services      & married  & primary   & no &  -88 & yes & yes & cellular  & 17 & apr & 313 & 1 & 147 & 2 & failure & no \\\\\n",
       "\t 39 & services      & married  & secondary & no & 9374 & yes & no  & unknown   & 20 & may & 273 & 1 &  -1 & 0 & unknown & no \\\\\n",
       "\t 43 & admin.        & married  & secondary & no &  264 & yes & no  & cellular  & 17 & apr & 113 & 2 &  -1 & 0 & unknown & no \\\\\n",
       "\t 36 & technician    & married  & tertiary  & no & 1109 & no  & no  & cellular  & 13 & aug & 328 & 2 &  -1 & 0 & unknown & no \\\\\n",
       "\t 20 & student       & single   & secondary & no &  502 & no  & no  & cellular  & 30 & apr & 261 & 1 &  -1 & 0 & unknown & yes\\\\\n",
       "\t 31 & blue-collar   & married  & secondary & no &  360 & yes & yes & cellular  & 29 & jan &  89 & 1 & 241 & 1 & failure & no \\\\\n",
       "\t 40 & management    & married  & tertiary  & no &  194 & no  & yes & cellular  & 29 & aug & 189 & 2 &  -1 & 0 & unknown & no \\\\\n",
       "\t 56 & technician    & married  & secondary & no & 4073 & no  & no  & cellular  & 27 & aug & 239 & 5 &  -1 & 0 & unknown & no \\\\\n",
       "\t 37 & admin.        & single   & tertiary  & no & 2317 & yes & no  & cellular  & 20 & apr & 114 & 1 & 152 & 2 & failure & no \\\\\n",
       "\t 25 & blue-collar   & single   & primary   & no & -221 & yes & no  & unknown   & 23 & may & 250 & 1 &  -1 & 0 & unknown & no \\\\\n",
       "\t 31 & services      & married  & secondary & no &  132 & no  & no  & cellular  &  7 & jul & 148 & 1 & 152 & 1 & other   & no \\\\\n",
       "\t 38 & management    & divorced & unknown   & no &    0 & yes & no  & cellular  & 18 & nov &  96 & 2 &  -1 & 0 & unknown & no \\\\\n",
       "\t 42 & management    & divorced & tertiary  & no &   16 & no  & no  & cellular  & 19 & nov & 140 & 3 &  -1 & 0 & unknown & no \\\\\n",
       "\t 44 & services      & single   & secondary & no &  106 & no  & no  & unknown   & 12 & jun & 109 & 2 &  -1 & 0 & unknown & no \\\\\n",
       "\t 44 & entrepreneur  & married  & secondary & no &   93 & no  & no  & cellular  &  7 & jul & 125 & 2 &  -1 & 0 & unknown & no \\\\\n",
       "\t 26 & housemaid     & married  & tertiary  & no &  543 & no  & no  & cellular  & 30 & jan & 169 & 3 &  -1 & 0 & unknown & no \\\\\n",
       "\t 41 & management    & married  & tertiary  & no & 5883 & no  & no  & cellular  & 20 & nov & 182 & 2 &  -1 & 0 & unknown & no \\\\\n",
       "\t 55 & blue-collar   & married  & primary   & no &  627 & yes & no  & unknown   &  5 & may & 247 & 1 &  -1 & 0 & unknown & no \\\\\n",
       "\t 67 & retired       & married  & unknown   & no &  696 & no  & no  & telephone & 17 & aug & 119 & 1 & 105 & 2 & failure & no \\\\\n",
       "\t 56 & self-employed & married  & secondary & no &  784 & no  & yes & cellular  & 30 & jul & 149 & 2 &  -1 & 0 & unknown & no \\\\\n",
       "\t 53 & admin.        & married  & secondary & no &  105 & no  & yes & cellular  & 21 & aug &  74 & 2 &  -1 & 0 & unknown & no \\\\\n",
       "\t ... & ... & ... & ... & ... & ... & ... & ... & ... & ... & ... & ... & ... & ... & ... & ... & ...\\\\\n",
       "\t 35 & blue-collar   & single   & secondary & no  &     0 & yes & no  & cellular  & 16 & apr &  169 &  1 &  -1 & 0 & unknown & no \\\\\n",
       "\t 32 & technician    & single   & secondary & no  &   309 & yes & yes & cellular  & 16 & apr &  346 &  1 & 234 & 3 & failure & no \\\\\n",
       "\t 28 & technician    & single   & tertiary  & no  &     0 & yes & no  & unknown   &  4 & jun &  205 &  6 &  -1 & 0 & unknown & no \\\\\n",
       "\t 26 & technician    & single   & secondary & no  &   668 & yes & no  & unknown   & 28 & may &  576 &  3 &  -1 & 0 & unknown & yes\\\\\n",
       "\t 48 & management    & married  & tertiary  & no  &  1175 & yes & no  & telephone & 18 & nov & 1476 &  3 &  -1 & 0 & unknown & no \\\\\n",
       "\t 30 & blue-collar   & single   & secondary & no  &   363 & no  & no  & cellular  & 28 & jul &  171 &  3 &  -1 & 0 & unknown & no \\\\\n",
       "\t 31 & entrepreneur  & single   & tertiary  & no  &    38 & no  & no  & cellular  & 20 & nov &  185 &  2 &  -1 & 0 & unknown & no \\\\\n",
       "\t 31 & management    & married  & tertiary  & no  &  1183 & yes & no  & unknown   & 27 & may &  676 &  6 &  -1 & 0 & unknown & no \\\\\n",
       "\t 45 & blue-collar   & divorced & primary   & no  &   942 & no  & no  & cellular  & 21 & nov &  362 &  1 &  -1 & 0 & unknown & no \\\\\n",
       "\t 38 & admin.        & married  & secondary & no  &  4196 & yes & no  & cellular  & 12 & may &  193 &  2 &  -1 & 0 & unknown & no \\\\\n",
       "\t 34 & management    & married  & tertiary  & no  &   297 & yes & no  & cellular  & 26 & aug &   63 &  4 &  -1 & 0 & unknown & no \\\\\n",
       "\t 42 & services      & married  & secondary & no  &   -91 & yes & yes & cellular  &  5 & feb &   43 &  1 &  -1 & 0 & unknown & no \\\\\n",
       "\t 60 & self-employed & married  & primary   & no  &   362 & no  & yes & cellular  & 29 & jul &  816 &  6 &  -1 & 0 & unknown & yes\\\\\n",
       "\t 42 & blue-collar   & single   & secondary & no  &  1080 & yes & yes & cellular  & 13 & may &  951 &  3 & 370 & 4 & failure & yes\\\\\n",
       "\t 32 & admin.        & single   & secondary & no  &   620 & yes & no  & unknown   & 26 & may & 1234 &  3 &  -1 & 0 & unknown & yes\\\\\n",
       "\t 42 & unemployed    & divorced & tertiary  & no  &  -166 & no  & no  & cellular  & 29 & aug &   85 &  4 &  -1 & 0 & unknown & no \\\\\n",
       "\t 33 & services      & married  & secondary & no  &   288 & yes & no  & cellular  & 17 & apr &  306 &  1 &  -1 & 0 & unknown & no \\\\\n",
       "\t 42 & admin.        & married  & unknown   & no  &   642 & yes & yes & unknown   & 16 & may &  509 &  2 &  -1 & 0 & unknown & no \\\\\n",
       "\t 51 & technician    & married  & tertiary  & no  &  2506 & no  & no  & cellular  & 30 & nov &  210 &  3 &  -1 & 0 & unknown & no \\\\\n",
       "\t 36 & technician    & divorced & secondary & no  &   566 & yes & no  & unknown   & 20 & may &  129 &  2 &  -1 & 0 & unknown & no \\\\\n",
       "\t 46 & blue-collar   & married  & secondary & no  &   668 & yes & no  & unknown   & 15 & may & 1263 &  2 &  -1 & 0 & unknown & yes\\\\\n",
       "\t 40 & blue-collar   & married  & secondary & no  &  1100 & yes & no  & unknown   & 29 & may &  660 &  2 &  -1 & 0 & unknown & no \\\\\n",
       "\t 49 & blue-collar   & married  & secondary & no  &   322 & no  & no  & cellular  & 14 & aug &  356 &  2 &  -1 & 0 & unknown & no \\\\\n",
       "\t 38 & blue-collar   & married  & secondary & no  &  1205 & yes & no  & cellular  & 20 & apr &   45 &  4 & 153 & 1 & failure & no \\\\\n",
       "\t 32 & services      & single   & secondary & no  &   473 & yes & no  & cellular  &  7 & jul &  624 &  5 &  -1 & 0 & unknown & no \\\\\n",
       "\t 33 & services      & married  & secondary & no  &  -333 & yes & no  & cellular  & 30 & jul &  329 &  5 &  -1 & 0 & unknown & no \\\\\n",
       "\t 57 & self-employed & married  & tertiary  & yes & -3313 & yes & yes & unknown   &  9 & may &  153 &  1 &  -1 & 0 & unknown & no \\\\\n",
       "\t 57 & technician    & married  & secondary & no  &   295 & no  & no  & cellular  & 19 & aug &  151 & 11 &  -1 & 0 & unknown & no \\\\\n",
       "\t 28 & blue-collar   & married  & secondary & no  &  1137 & no  & no  & cellular  &  6 & feb &  129 &  4 & 211 & 3 & other   & no \\\\\n",
       "\t 44 & entrepreneur  & single   & tertiary  & no  &  1136 & yes & yes & cellular  &  3 & apr &  345 &  2 & 249 & 7 & other   & no \\\\\n",
       "\\end{tabular}\n"
      ],
      "text/markdown": [
       "\n",
       "A data.frame: 4521 x 17\n",
       "\n",
       "| age &lt;int&gt; | job &lt;chr&gt; | marital &lt;chr&gt; | education &lt;chr&gt; | default &lt;chr&gt; | balance &lt;int&gt; | housing &lt;chr&gt; | loan &lt;chr&gt; | contact &lt;chr&gt; | day &lt;int&gt; | month &lt;chr&gt; | duration &lt;int&gt; | campaign &lt;int&gt; | pdays &lt;int&gt; | previous &lt;int&gt; | poutcome &lt;chr&gt; | y &lt;chr&gt; |\n",
       "|---|---|---|---|---|---|---|---|---|---|---|---|---|---|---|---|---|\n",
       "| 30 | unemployed    | married  | primary   | no | 1787 | no  | no  | cellular  | 19 | oct |  79 | 1 |  -1 | 0 | unknown | no  |\n",
       "| 33 | services      | married  | secondary | no | 4789 | yes | yes | cellular  | 11 | may | 220 | 1 | 339 | 4 | failure | no  |\n",
       "| 35 | management    | single   | tertiary  | no | 1350 | yes | no  | cellular  | 16 | apr | 185 | 1 | 330 | 1 | failure | no  |\n",
       "| 30 | management    | married  | tertiary  | no | 1476 | yes | yes | unknown   |  3 | jun | 199 | 4 |  -1 | 0 | unknown | no  |\n",
       "| 59 | blue-collar   | married  | secondary | no |    0 | yes | no  | unknown   |  5 | may | 226 | 1 |  -1 | 0 | unknown | no  |\n",
       "| 35 | management    | single   | tertiary  | no |  747 | no  | no  | cellular  | 23 | feb | 141 | 2 | 176 | 3 | failure | no  |\n",
       "| 36 | self-employed | married  | tertiary  | no |  307 | yes | no  | cellular  | 14 | may | 341 | 1 | 330 | 2 | other   | no  |\n",
       "| 39 | technician    | married  | secondary | no |  147 | yes | no  | cellular  |  6 | may | 151 | 2 |  -1 | 0 | unknown | no  |\n",
       "| 41 | entrepreneur  | married  | tertiary  | no |  221 | yes | no  | unknown   | 14 | may |  57 | 2 |  -1 | 0 | unknown | no  |\n",
       "| 43 | services      | married  | primary   | no |  -88 | yes | yes | cellular  | 17 | apr | 313 | 1 | 147 | 2 | failure | no  |\n",
       "| 39 | services      | married  | secondary | no | 9374 | yes | no  | unknown   | 20 | may | 273 | 1 |  -1 | 0 | unknown | no  |\n",
       "| 43 | admin.        | married  | secondary | no |  264 | yes | no  | cellular  | 17 | apr | 113 | 2 |  -1 | 0 | unknown | no  |\n",
       "| 36 | technician    | married  | tertiary  | no | 1109 | no  | no  | cellular  | 13 | aug | 328 | 2 |  -1 | 0 | unknown | no  |\n",
       "| 20 | student       | single   | secondary | no |  502 | no  | no  | cellular  | 30 | apr | 261 | 1 |  -1 | 0 | unknown | yes |\n",
       "| 31 | blue-collar   | married  | secondary | no |  360 | yes | yes | cellular  | 29 | jan |  89 | 1 | 241 | 1 | failure | no  |\n",
       "| 40 | management    | married  | tertiary  | no |  194 | no  | yes | cellular  | 29 | aug | 189 | 2 |  -1 | 0 | unknown | no  |\n",
       "| 56 | technician    | married  | secondary | no | 4073 | no  | no  | cellular  | 27 | aug | 239 | 5 |  -1 | 0 | unknown | no  |\n",
       "| 37 | admin.        | single   | tertiary  | no | 2317 | yes | no  | cellular  | 20 | apr | 114 | 1 | 152 | 2 | failure | no  |\n",
       "| 25 | blue-collar   | single   | primary   | no | -221 | yes | no  | unknown   | 23 | may | 250 | 1 |  -1 | 0 | unknown | no  |\n",
       "| 31 | services      | married  | secondary | no |  132 | no  | no  | cellular  |  7 | jul | 148 | 1 | 152 | 1 | other   | no  |\n",
       "| 38 | management    | divorced | unknown   | no |    0 | yes | no  | cellular  | 18 | nov |  96 | 2 |  -1 | 0 | unknown | no  |\n",
       "| 42 | management    | divorced | tertiary  | no |   16 | no  | no  | cellular  | 19 | nov | 140 | 3 |  -1 | 0 | unknown | no  |\n",
       "| 44 | services      | single   | secondary | no |  106 | no  | no  | unknown   | 12 | jun | 109 | 2 |  -1 | 0 | unknown | no  |\n",
       "| 44 | entrepreneur  | married  | secondary | no |   93 | no  | no  | cellular  |  7 | jul | 125 | 2 |  -1 | 0 | unknown | no  |\n",
       "| 26 | housemaid     | married  | tertiary  | no |  543 | no  | no  | cellular  | 30 | jan | 169 | 3 |  -1 | 0 | unknown | no  |\n",
       "| 41 | management    | married  | tertiary  | no | 5883 | no  | no  | cellular  | 20 | nov | 182 | 2 |  -1 | 0 | unknown | no  |\n",
       "| 55 | blue-collar   | married  | primary   | no |  627 | yes | no  | unknown   |  5 | may | 247 | 1 |  -1 | 0 | unknown | no  |\n",
       "| 67 | retired       | married  | unknown   | no |  696 | no  | no  | telephone | 17 | aug | 119 | 1 | 105 | 2 | failure | no  |\n",
       "| 56 | self-employed | married  | secondary | no |  784 | no  | yes | cellular  | 30 | jul | 149 | 2 |  -1 | 0 | unknown | no  |\n",
       "| 53 | admin.        | married  | secondary | no |  105 | no  | yes | cellular  | 21 | aug |  74 | 2 |  -1 | 0 | unknown | no  |\n",
       "| ... | ... | ... | ... | ... | ... | ... | ... | ... | ... | ... | ... | ... | ... | ... | ... | ... |\n",
       "| 35 | blue-collar   | single   | secondary | no  |     0 | yes | no  | cellular  | 16 | apr |  169 |  1 |  -1 | 0 | unknown | no  |\n",
       "| 32 | technician    | single   | secondary | no  |   309 | yes | yes | cellular  | 16 | apr |  346 |  1 | 234 | 3 | failure | no  |\n",
       "| 28 | technician    | single   | tertiary  | no  |     0 | yes | no  | unknown   |  4 | jun |  205 |  6 |  -1 | 0 | unknown | no  |\n",
       "| 26 | technician    | single   | secondary | no  |   668 | yes | no  | unknown   | 28 | may |  576 |  3 |  -1 | 0 | unknown | yes |\n",
       "| 48 | management    | married  | tertiary  | no  |  1175 | yes | no  | telephone | 18 | nov | 1476 |  3 |  -1 | 0 | unknown | no  |\n",
       "| 30 | blue-collar   | single   | secondary | no  |   363 | no  | no  | cellular  | 28 | jul |  171 |  3 |  -1 | 0 | unknown | no  |\n",
       "| 31 | entrepreneur  | single   | tertiary  | no  |    38 | no  | no  | cellular  | 20 | nov |  185 |  2 |  -1 | 0 | unknown | no  |\n",
       "| 31 | management    | married  | tertiary  | no  |  1183 | yes | no  | unknown   | 27 | may |  676 |  6 |  -1 | 0 | unknown | no  |\n",
       "| 45 | blue-collar   | divorced | primary   | no  |   942 | no  | no  | cellular  | 21 | nov |  362 |  1 |  -1 | 0 | unknown | no  |\n",
       "| 38 | admin.        | married  | secondary | no  |  4196 | yes | no  | cellular  | 12 | may |  193 |  2 |  -1 | 0 | unknown | no  |\n",
       "| 34 | management    | married  | tertiary  | no  |   297 | yes | no  | cellular  | 26 | aug |   63 |  4 |  -1 | 0 | unknown | no  |\n",
       "| 42 | services      | married  | secondary | no  |   -91 | yes | yes | cellular  |  5 | feb |   43 |  1 |  -1 | 0 | unknown | no  |\n",
       "| 60 | self-employed | married  | primary   | no  |   362 | no  | yes | cellular  | 29 | jul |  816 |  6 |  -1 | 0 | unknown | yes |\n",
       "| 42 | blue-collar   | single   | secondary | no  |  1080 | yes | yes | cellular  | 13 | may |  951 |  3 | 370 | 4 | failure | yes |\n",
       "| 32 | admin.        | single   | secondary | no  |   620 | yes | no  | unknown   | 26 | may | 1234 |  3 |  -1 | 0 | unknown | yes |\n",
       "| 42 | unemployed    | divorced | tertiary  | no  |  -166 | no  | no  | cellular  | 29 | aug |   85 |  4 |  -1 | 0 | unknown | no  |\n",
       "| 33 | services      | married  | secondary | no  |   288 | yes | no  | cellular  | 17 | apr |  306 |  1 |  -1 | 0 | unknown | no  |\n",
       "| 42 | admin.        | married  | unknown   | no  |   642 | yes | yes | unknown   | 16 | may |  509 |  2 |  -1 | 0 | unknown | no  |\n",
       "| 51 | technician    | married  | tertiary  | no  |  2506 | no  | no  | cellular  | 30 | nov |  210 |  3 |  -1 | 0 | unknown | no  |\n",
       "| 36 | technician    | divorced | secondary | no  |   566 | yes | no  | unknown   | 20 | may |  129 |  2 |  -1 | 0 | unknown | no  |\n",
       "| 46 | blue-collar   | married  | secondary | no  |   668 | yes | no  | unknown   | 15 | may | 1263 |  2 |  -1 | 0 | unknown | yes |\n",
       "| 40 | blue-collar   | married  | secondary | no  |  1100 | yes | no  | unknown   | 29 | may |  660 |  2 |  -1 | 0 | unknown | no  |\n",
       "| 49 | blue-collar   | married  | secondary | no  |   322 | no  | no  | cellular  | 14 | aug |  356 |  2 |  -1 | 0 | unknown | no  |\n",
       "| 38 | blue-collar   | married  | secondary | no  |  1205 | yes | no  | cellular  | 20 | apr |   45 |  4 | 153 | 1 | failure | no  |\n",
       "| 32 | services      | single   | secondary | no  |   473 | yes | no  | cellular  |  7 | jul |  624 |  5 |  -1 | 0 | unknown | no  |\n",
       "| 33 | services      | married  | secondary | no  |  -333 | yes | no  | cellular  | 30 | jul |  329 |  5 |  -1 | 0 | unknown | no  |\n",
       "| 57 | self-employed | married  | tertiary  | yes | -3313 | yes | yes | unknown   |  9 | may |  153 |  1 |  -1 | 0 | unknown | no  |\n",
       "| 57 | technician    | married  | secondary | no  |   295 | no  | no  | cellular  | 19 | aug |  151 | 11 |  -1 | 0 | unknown | no  |\n",
       "| 28 | blue-collar   | married  | secondary | no  |  1137 | no  | no  | cellular  |  6 | feb |  129 |  4 | 211 | 3 | other   | no  |\n",
       "| 44 | entrepreneur  | single   | tertiary  | no  |  1136 | yes | yes | cellular  |  3 | apr |  345 |  2 | 249 | 7 | other   | no  |\n",
       "\n"
      ],
      "text/plain": [
       "     age job           marital  education default balance housing loan\n",
       "1    30  unemployed    married  primary   no      1787    no      no  \n",
       "2    33  services      married  secondary no      4789    yes     yes \n",
       "3    35  management    single   tertiary  no      1350    yes     no  \n",
       "4    30  management    married  tertiary  no      1476    yes     yes \n",
       "5    59  blue-collar   married  secondary no         0    yes     no  \n",
       "6    35  management    single   tertiary  no       747    no      no  \n",
       "7    36  self-employed married  tertiary  no       307    yes     no  \n",
       "8    39  technician    married  secondary no       147    yes     no  \n",
       "9    41  entrepreneur  married  tertiary  no       221    yes     no  \n",
       "10   43  services      married  primary   no       -88    yes     yes \n",
       "11   39  services      married  secondary no      9374    yes     no  \n",
       "12   43  admin.        married  secondary no       264    yes     no  \n",
       "13   36  technician    married  tertiary  no      1109    no      no  \n",
       "14   20  student       single   secondary no       502    no      no  \n",
       "15   31  blue-collar   married  secondary no       360    yes     yes \n",
       "16   40  management    married  tertiary  no       194    no      yes \n",
       "17   56  technician    married  secondary no      4073    no      no  \n",
       "18   37  admin.        single   tertiary  no      2317    yes     no  \n",
       "19   25  blue-collar   single   primary   no      -221    yes     no  \n",
       "20   31  services      married  secondary no       132    no      no  \n",
       "21   38  management    divorced unknown   no         0    yes     no  \n",
       "22   42  management    divorced tertiary  no        16    no      no  \n",
       "23   44  services      single   secondary no       106    no      no  \n",
       "24   44  entrepreneur  married  secondary no        93    no      no  \n",
       "25   26  housemaid     married  tertiary  no       543    no      no  \n",
       "26   41  management    married  tertiary  no      5883    no      no  \n",
       "27   55  blue-collar   married  primary   no       627    yes     no  \n",
       "28   67  retired       married  unknown   no       696    no      no  \n",
       "29   56  self-employed married  secondary no       784    no      yes \n",
       "30   53  admin.        married  secondary no       105    no      yes \n",
       "...  ... ...           ...      ...       ...     ...     ...     ... \n",
       "4492 35  blue-collar   single   secondary no          0   yes     no  \n",
       "4493 32  technician    single   secondary no        309   yes     yes \n",
       "4494 28  technician    single   tertiary  no          0   yes     no  \n",
       "4495 26  technician    single   secondary no        668   yes     no  \n",
       "4496 48  management    married  tertiary  no       1175   yes     no  \n",
       "4497 30  blue-collar   single   secondary no        363   no      no  \n",
       "4498 31  entrepreneur  single   tertiary  no         38   no      no  \n",
       "4499 31  management    married  tertiary  no       1183   yes     no  \n",
       "4500 45  blue-collar   divorced primary   no        942   no      no  \n",
       "4501 38  admin.        married  secondary no       4196   yes     no  \n",
       "4502 34  management    married  tertiary  no        297   yes     no  \n",
       "4503 42  services      married  secondary no        -91   yes     yes \n",
       "4504 60  self-employed married  primary   no        362   no      yes \n",
       "4505 42  blue-collar   single   secondary no       1080   yes     yes \n",
       "4506 32  admin.        single   secondary no        620   yes     no  \n",
       "4507 42  unemployed    divorced tertiary  no       -166   no      no  \n",
       "4508 33  services      married  secondary no        288   yes     no  \n",
       "4509 42  admin.        married  unknown   no        642   yes     yes \n",
       "4510 51  technician    married  tertiary  no       2506   no      no  \n",
       "4511 36  technician    divorced secondary no        566   yes     no  \n",
       "4512 46  blue-collar   married  secondary no        668   yes     no  \n",
       "4513 40  blue-collar   married  secondary no       1100   yes     no  \n",
       "4514 49  blue-collar   married  secondary no        322   no      no  \n",
       "4515 38  blue-collar   married  secondary no       1205   yes     no  \n",
       "4516 32  services      single   secondary no        473   yes     no  \n",
       "4517 33  services      married  secondary no       -333   yes     no  \n",
       "4518 57  self-employed married  tertiary  yes     -3313   yes     yes \n",
       "4519 57  technician    married  secondary no        295   no      no  \n",
       "4520 28  blue-collar   married  secondary no       1137   no      no  \n",
       "4521 44  entrepreneur  single   tertiary  no       1136   yes     yes \n",
       "     contact   day month duration campaign pdays previous poutcome y  \n",
       "1    cellular  19  oct    79      1         -1   0        unknown  no \n",
       "2    cellular  11  may   220      1        339   4        failure  no \n",
       "3    cellular  16  apr   185      1        330   1        failure  no \n",
       "4    unknown    3  jun   199      4         -1   0        unknown  no \n",
       "5    unknown    5  may   226      1         -1   0        unknown  no \n",
       "6    cellular  23  feb   141      2        176   3        failure  no \n",
       "7    cellular  14  may   341      1        330   2        other    no \n",
       "8    cellular   6  may   151      2         -1   0        unknown  no \n",
       "9    unknown   14  may    57      2         -1   0        unknown  no \n",
       "10   cellular  17  apr   313      1        147   2        failure  no \n",
       "11   unknown   20  may   273      1         -1   0        unknown  no \n",
       "12   cellular  17  apr   113      2         -1   0        unknown  no \n",
       "13   cellular  13  aug   328      2         -1   0        unknown  no \n",
       "14   cellular  30  apr   261      1         -1   0        unknown  yes\n",
       "15   cellular  29  jan    89      1        241   1        failure  no \n",
       "16   cellular  29  aug   189      2         -1   0        unknown  no \n",
       "17   cellular  27  aug   239      5         -1   0        unknown  no \n",
       "18   cellular  20  apr   114      1        152   2        failure  no \n",
       "19   unknown   23  may   250      1         -1   0        unknown  no \n",
       "20   cellular   7  jul   148      1        152   1        other    no \n",
       "21   cellular  18  nov    96      2         -1   0        unknown  no \n",
       "22   cellular  19  nov   140      3         -1   0        unknown  no \n",
       "23   unknown   12  jun   109      2         -1   0        unknown  no \n",
       "24   cellular   7  jul   125      2         -1   0        unknown  no \n",
       "25   cellular  30  jan   169      3         -1   0        unknown  no \n",
       "26   cellular  20  nov   182      2         -1   0        unknown  no \n",
       "27   unknown    5  may   247      1         -1   0        unknown  no \n",
       "28   telephone 17  aug   119      1        105   2        failure  no \n",
       "29   cellular  30  jul   149      2         -1   0        unknown  no \n",
       "30   cellular  21  aug    74      2         -1   0        unknown  no \n",
       "...  ...       ... ...   ...      ...      ...   ...      ...      ...\n",
       "4492 cellular  16  apr    169      1        -1   0        unknown  no \n",
       "4493 cellular  16  apr    346      1       234   3        failure  no \n",
       "4494 unknown    4  jun    205      6        -1   0        unknown  no \n",
       "4495 unknown   28  may    576      3        -1   0        unknown  yes\n",
       "4496 telephone 18  nov   1476      3        -1   0        unknown  no \n",
       "4497 cellular  28  jul    171      3        -1   0        unknown  no \n",
       "4498 cellular  20  nov    185      2        -1   0        unknown  no \n",
       "4499 unknown   27  may    676      6        -1   0        unknown  no \n",
       "4500 cellular  21  nov    362      1        -1   0        unknown  no \n",
       "4501 cellular  12  may    193      2        -1   0        unknown  no \n",
       "4502 cellular  26  aug     63      4        -1   0        unknown  no \n",
       "4503 cellular   5  feb     43      1        -1   0        unknown  no \n",
       "4504 cellular  29  jul    816      6        -1   0        unknown  yes\n",
       "4505 cellular  13  may    951      3       370   4        failure  yes\n",
       "4506 unknown   26  may   1234      3        -1   0        unknown  yes\n",
       "4507 cellular  29  aug     85      4        -1   0        unknown  no \n",
       "4508 cellular  17  apr    306      1        -1   0        unknown  no \n",
       "4509 unknown   16  may    509      2        -1   0        unknown  no \n",
       "4510 cellular  30  nov    210      3        -1   0        unknown  no \n",
       "4511 unknown   20  may    129      2        -1   0        unknown  no \n",
       "4512 unknown   15  may   1263      2        -1   0        unknown  yes\n",
       "4513 unknown   29  may    660      2        -1   0        unknown  no \n",
       "4514 cellular  14  aug    356      2        -1   0        unknown  no \n",
       "4515 cellular  20  apr     45      4       153   1        failure  no \n",
       "4516 cellular   7  jul    624      5        -1   0        unknown  no \n",
       "4517 cellular  30  jul    329      5        -1   0        unknown  no \n",
       "4518 unknown    9  may    153      1        -1   0        unknown  no \n",
       "4519 cellular  19  aug    151     11        -1   0        unknown  no \n",
       "4520 cellular   6  feb    129      4       211   3        other    no \n",
       "4521 cellular   3  apr    345      2       249   7        other    no "
      ]
     },
     "metadata": {},
     "output_type": "display_data"
    }
   ],
   "source": [
    "# Para descargar los datos del ejercicio 1 usa:\n",
    "download.file(url = \"https://raw.githubusercontent.com/jboscomendoza/r-principiantes-bookdown/master/datos/bank.csv\",destfile = \"bank.csv\")\n",
    "\n",
    "bank <- read.csv(file = \"bank.csv\", sep = \";\")\n",
    "bank"
   ]
  },
  {
   "cell_type": "code",
   "execution_count": 64,
   "metadata": {
    "vscode": {
     "languageId": "r"
    }
   },
   "outputs": [
    {
     "data": {
      "text/html": [
       "<table class=\"dataframe\">\n",
       "<caption>A data.frame: 4521 x 17</caption>\n",
       "<thead>\n",
       "\t<tr><th></th><th scope=col>age</th><th scope=col>job</th><th scope=col>marital</th><th scope=col>education</th><th scope=col>default</th><th scope=col>balance</th><th scope=col>housing</th><th scope=col>loan</th><th scope=col>contact</th><th scope=col>day</th><th scope=col>month</th><th scope=col>duration</th><th scope=col>campaign</th><th scope=col>pdays</th><th scope=col>previous</th><th scope=col>poutcome</th><th scope=col>y</th></tr>\n",
       "\t<tr><th></th><th scope=col>&lt;int&gt;</th><th scope=col>&lt;chr&gt;</th><th scope=col>&lt;chr&gt;</th><th scope=col>&lt;chr&gt;</th><th scope=col>&lt;chr&gt;</th><th scope=col>&lt;int&gt;</th><th scope=col>&lt;chr&gt;</th><th scope=col>&lt;chr&gt;</th><th scope=col>&lt;chr&gt;</th><th scope=col>&lt;int&gt;</th><th scope=col>&lt;chr&gt;</th><th scope=col>&lt;int&gt;</th><th scope=col>&lt;int&gt;</th><th scope=col>&lt;int&gt;</th><th scope=col>&lt;int&gt;</th><th scope=col>&lt;chr&gt;</th><th scope=col>&lt;chr&gt;</th></tr>\n",
       "</thead>\n",
       "<tbody>\n",
       "\t<tr><th scope=row>1</th><td>30</td><td>unemployed   </td><td>married </td><td>primary  </td><td>no</td><td>1787</td><td>no </td><td>no </td><td>cellular </td><td>19</td><td>oct</td><td> 79</td><td>1</td><td> -1</td><td>0</td><td>unknown</td><td>no </td></tr>\n",
       "\t<tr><th scope=row>2</th><td>33</td><td>services     </td><td>married </td><td>secondary</td><td>no</td><td>4789</td><td>yes</td><td>yes</td><td>cellular </td><td>11</td><td>may</td><td>220</td><td>1</td><td>339</td><td>4</td><td>failure</td><td>no </td></tr>\n",
       "\t<tr><th scope=row>3</th><td>35</td><td>management   </td><td>single  </td><td>tertiary </td><td>no</td><td>1350</td><td>yes</td><td>no </td><td>cellular </td><td>16</td><td>apr</td><td>185</td><td>1</td><td>330</td><td>1</td><td>failure</td><td>no </td></tr>\n",
       "\t<tr><th scope=row>4</th><td>30</td><td>management   </td><td>married </td><td>tertiary </td><td>no</td><td>1476</td><td>yes</td><td>yes</td><td>unknown  </td><td> 3</td><td>jun</td><td>199</td><td>4</td><td> -1</td><td>0</td><td>unknown</td><td>no </td></tr>\n",
       "\t<tr><th scope=row>5</th><td>59</td><td>blue-collar  </td><td>married </td><td>secondary</td><td>no</td><td>   0</td><td>yes</td><td>no </td><td>unknown  </td><td> 5</td><td>may</td><td>226</td><td>1</td><td> -1</td><td>0</td><td>unknown</td><td>no </td></tr>\n",
       "\t<tr><th scope=row>6</th><td>35</td><td>management   </td><td>single  </td><td>tertiary </td><td>no</td><td> 747</td><td>no </td><td>no </td><td>cellular </td><td>23</td><td>feb</td><td>141</td><td>2</td><td>176</td><td>3</td><td>failure</td><td>no </td></tr>\n",
       "\t<tr><th scope=row>7</th><td>36</td><td>self-employed</td><td>married </td><td>tertiary </td><td>no</td><td> 307</td><td>yes</td><td>no </td><td>cellular </td><td>14</td><td>may</td><td>341</td><td>1</td><td>330</td><td>2</td><td>other  </td><td>no </td></tr>\n",
       "\t<tr><th scope=row>8</th><td>39</td><td>technician   </td><td>married </td><td>secondary</td><td>no</td><td> 147</td><td>yes</td><td>no </td><td>cellular </td><td> 6</td><td>may</td><td>151</td><td>2</td><td> -1</td><td>0</td><td>unknown</td><td>no </td></tr>\n",
       "\t<tr><th scope=row>9</th><td>41</td><td>entrepreneur </td><td>married </td><td>tertiary </td><td>no</td><td> 221</td><td>yes</td><td>no </td><td>unknown  </td><td>14</td><td>may</td><td> 57</td><td>2</td><td> -1</td><td>0</td><td>unknown</td><td>no </td></tr>\n",
       "\t<tr><th scope=row>10</th><td>43</td><td>services     </td><td>married </td><td>primary  </td><td>no</td><td> -88</td><td>yes</td><td>yes</td><td>cellular </td><td>17</td><td>apr</td><td>313</td><td>1</td><td>147</td><td>2</td><td>failure</td><td>no </td></tr>\n",
       "\t<tr><th scope=row>11</th><td>39</td><td>services     </td><td>married </td><td>secondary</td><td>no</td><td>9374</td><td>yes</td><td>no </td><td>unknown  </td><td>20</td><td>may</td><td>273</td><td>1</td><td> -1</td><td>0</td><td>unknown</td><td>no </td></tr>\n",
       "\t<tr><th scope=row>12</th><td>43</td><td>admin.       </td><td>married </td><td>secondary</td><td>no</td><td> 264</td><td>yes</td><td>no </td><td>cellular </td><td>17</td><td>apr</td><td>113</td><td>2</td><td> -1</td><td>0</td><td>unknown</td><td>no </td></tr>\n",
       "\t<tr><th scope=row>13</th><td>36</td><td>technician   </td><td>married </td><td>tertiary </td><td>no</td><td>1109</td><td>no </td><td>no </td><td>cellular </td><td>13</td><td>aug</td><td>328</td><td>2</td><td> -1</td><td>0</td><td>unknown</td><td>no </td></tr>\n",
       "\t<tr><th scope=row>14</th><td>20</td><td>student      </td><td>single  </td><td>secondary</td><td>no</td><td> 502</td><td>no </td><td>no </td><td>cellular </td><td>30</td><td>apr</td><td>261</td><td>1</td><td> -1</td><td>0</td><td>unknown</td><td>yes</td></tr>\n",
       "\t<tr><th scope=row>15</th><td>31</td><td>blue-collar  </td><td>married </td><td>secondary</td><td>no</td><td> 360</td><td>yes</td><td>yes</td><td>cellular </td><td>29</td><td>jan</td><td> 89</td><td>1</td><td>241</td><td>1</td><td>failure</td><td>no </td></tr>\n",
       "\t<tr><th scope=row>16</th><td>40</td><td>management   </td><td>married </td><td>tertiary </td><td>no</td><td> 194</td><td>no </td><td>yes</td><td>cellular </td><td>29</td><td>aug</td><td>189</td><td>2</td><td> -1</td><td>0</td><td>unknown</td><td>no </td></tr>\n",
       "\t<tr><th scope=row>17</th><td>56</td><td>technician   </td><td>married </td><td>secondary</td><td>no</td><td>4073</td><td>no </td><td>no </td><td>cellular </td><td>27</td><td>aug</td><td>239</td><td>5</td><td> -1</td><td>0</td><td>unknown</td><td>no </td></tr>\n",
       "\t<tr><th scope=row>18</th><td>37</td><td>admin.       </td><td>single  </td><td>tertiary </td><td>no</td><td>2317</td><td>yes</td><td>no </td><td>cellular </td><td>20</td><td>apr</td><td>114</td><td>1</td><td>152</td><td>2</td><td>failure</td><td>no </td></tr>\n",
       "\t<tr><th scope=row>19</th><td>25</td><td>blue-collar  </td><td>single  </td><td>primary  </td><td>no</td><td>-221</td><td>yes</td><td>no </td><td>unknown  </td><td>23</td><td>may</td><td>250</td><td>1</td><td> -1</td><td>0</td><td>unknown</td><td>no </td></tr>\n",
       "\t<tr><th scope=row>20</th><td>31</td><td>services     </td><td>married </td><td>secondary</td><td>no</td><td> 132</td><td>no </td><td>no </td><td>cellular </td><td> 7</td><td>jul</td><td>148</td><td>1</td><td>152</td><td>1</td><td>other  </td><td>no </td></tr>\n",
       "\t<tr><th scope=row>21</th><td>38</td><td>management   </td><td>divorced</td><td>unknown  </td><td>no</td><td>   0</td><td>yes</td><td>no </td><td>cellular </td><td>18</td><td>nov</td><td> 96</td><td>2</td><td> -1</td><td>0</td><td>unknown</td><td>no </td></tr>\n",
       "\t<tr><th scope=row>22</th><td>42</td><td>management   </td><td>divorced</td><td>tertiary </td><td>no</td><td>  16</td><td>no </td><td>no </td><td>cellular </td><td>19</td><td>nov</td><td>140</td><td>3</td><td> -1</td><td>0</td><td>unknown</td><td>no </td></tr>\n",
       "\t<tr><th scope=row>23</th><td>44</td><td>services     </td><td>single  </td><td>secondary</td><td>no</td><td> 106</td><td>no </td><td>no </td><td>unknown  </td><td>12</td><td>jun</td><td>109</td><td>2</td><td> -1</td><td>0</td><td>unknown</td><td>no </td></tr>\n",
       "\t<tr><th scope=row>24</th><td>44</td><td>entrepreneur </td><td>married </td><td>secondary</td><td>no</td><td>  93</td><td>no </td><td>no </td><td>cellular </td><td> 7</td><td>jul</td><td>125</td><td>2</td><td> -1</td><td>0</td><td>unknown</td><td>no </td></tr>\n",
       "\t<tr><th scope=row>25</th><td>26</td><td>housemaid    </td><td>married </td><td>tertiary </td><td>no</td><td> 543</td><td>no </td><td>no </td><td>cellular </td><td>30</td><td>jan</td><td>169</td><td>3</td><td> -1</td><td>0</td><td>unknown</td><td>no </td></tr>\n",
       "\t<tr><th scope=row>26</th><td>41</td><td>management   </td><td>married </td><td>tertiary </td><td>no</td><td>5883</td><td>no </td><td>no </td><td>cellular </td><td>20</td><td>nov</td><td>182</td><td>2</td><td> -1</td><td>0</td><td>unknown</td><td>no </td></tr>\n",
       "\t<tr><th scope=row>27</th><td>55</td><td>blue-collar  </td><td>married </td><td>primary  </td><td>no</td><td> 627</td><td>yes</td><td>no </td><td>unknown  </td><td> 5</td><td>may</td><td>247</td><td>1</td><td> -1</td><td>0</td><td>unknown</td><td>no </td></tr>\n",
       "\t<tr><th scope=row>28</th><td>67</td><td>retired      </td><td>married </td><td>unknown  </td><td>no</td><td> 696</td><td>no </td><td>no </td><td>telephone</td><td>17</td><td>aug</td><td>119</td><td>1</td><td>105</td><td>2</td><td>failure</td><td>no </td></tr>\n",
       "\t<tr><th scope=row>29</th><td>56</td><td>self-employed</td><td>married </td><td>secondary</td><td>no</td><td> 784</td><td>no </td><td>yes</td><td>cellular </td><td>30</td><td>jul</td><td>149</td><td>2</td><td> -1</td><td>0</td><td>unknown</td><td>no </td></tr>\n",
       "\t<tr><th scope=row>30</th><td>53</td><td>admin.       </td><td>married </td><td>secondary</td><td>no</td><td> 105</td><td>no </td><td>yes</td><td>cellular </td><td>21</td><td>aug</td><td> 74</td><td>2</td><td> -1</td><td>0</td><td>unknown</td><td>no </td></tr>\n",
       "\t<tr><th scope=row>...</th><td>...</td><td>...</td><td>...</td><td>...</td><td>...</td><td>...</td><td>...</td><td>...</td><td>...</td><td>...</td><td>...</td><td>...</td><td>...</td><td>...</td><td>...</td><td>...</td><td>...</td></tr>\n",
       "\t<tr><th scope=row>4492</th><td>35</td><td>blue-collar  </td><td>single  </td><td>secondary</td><td>no </td><td>    0</td><td>yes</td><td>no </td><td>cellular </td><td>16</td><td>apr</td><td> 169</td><td> 1</td><td> -1</td><td>0</td><td>unknown</td><td>no </td></tr>\n",
       "\t<tr><th scope=row>4493</th><td>32</td><td>technician   </td><td>single  </td><td>secondary</td><td>no </td><td>  309</td><td>yes</td><td>yes</td><td>cellular </td><td>16</td><td>apr</td><td> 346</td><td> 1</td><td>234</td><td>3</td><td>failure</td><td>no </td></tr>\n",
       "\t<tr><th scope=row>4494</th><td>28</td><td>technician   </td><td>single  </td><td>tertiary </td><td>no </td><td>    0</td><td>yes</td><td>no </td><td>unknown  </td><td> 4</td><td>jun</td><td> 205</td><td> 6</td><td> -1</td><td>0</td><td>unknown</td><td>no </td></tr>\n",
       "\t<tr><th scope=row>4495</th><td>26</td><td>technician   </td><td>single  </td><td>secondary</td><td>no </td><td>  668</td><td>yes</td><td>no </td><td>unknown  </td><td>28</td><td>may</td><td> 576</td><td> 3</td><td> -1</td><td>0</td><td>unknown</td><td>yes</td></tr>\n",
       "\t<tr><th scope=row>4496</th><td>48</td><td>management   </td><td>married </td><td>tertiary </td><td>no </td><td> 1175</td><td>yes</td><td>no </td><td>telephone</td><td>18</td><td>nov</td><td>1476</td><td> 3</td><td> -1</td><td>0</td><td>unknown</td><td>no </td></tr>\n",
       "\t<tr><th scope=row>4497</th><td>30</td><td>blue-collar  </td><td>single  </td><td>secondary</td><td>no </td><td>  363</td><td>no </td><td>no </td><td>cellular </td><td>28</td><td>jul</td><td> 171</td><td> 3</td><td> -1</td><td>0</td><td>unknown</td><td>no </td></tr>\n",
       "\t<tr><th scope=row>4498</th><td>31</td><td>entrepreneur </td><td>single  </td><td>tertiary </td><td>no </td><td>   38</td><td>no </td><td>no </td><td>cellular </td><td>20</td><td>nov</td><td> 185</td><td> 2</td><td> -1</td><td>0</td><td>unknown</td><td>no </td></tr>\n",
       "\t<tr><th scope=row>4499</th><td>31</td><td>management   </td><td>married </td><td>tertiary </td><td>no </td><td> 1183</td><td>yes</td><td>no </td><td>unknown  </td><td>27</td><td>may</td><td> 676</td><td> 6</td><td> -1</td><td>0</td><td>unknown</td><td>no </td></tr>\n",
       "\t<tr><th scope=row>4500</th><td>45</td><td>blue-collar  </td><td>divorced</td><td>primary  </td><td>no </td><td>  942</td><td>no </td><td>no </td><td>cellular </td><td>21</td><td>nov</td><td> 362</td><td> 1</td><td> -1</td><td>0</td><td>unknown</td><td>no </td></tr>\n",
       "\t<tr><th scope=row>4501</th><td>38</td><td>admin.       </td><td>married </td><td>secondary</td><td>no </td><td> 4196</td><td>yes</td><td>no </td><td>cellular </td><td>12</td><td>may</td><td> 193</td><td> 2</td><td> -1</td><td>0</td><td>unknown</td><td>no </td></tr>\n",
       "\t<tr><th scope=row>4502</th><td>34</td><td>management   </td><td>married </td><td>tertiary </td><td>no </td><td>  297</td><td>yes</td><td>no </td><td>cellular </td><td>26</td><td>aug</td><td>  63</td><td> 4</td><td> -1</td><td>0</td><td>unknown</td><td>no </td></tr>\n",
       "\t<tr><th scope=row>4503</th><td>42</td><td>services     </td><td>married </td><td>secondary</td><td>no </td><td>  -91</td><td>yes</td><td>yes</td><td>cellular </td><td> 5</td><td>feb</td><td>  43</td><td> 1</td><td> -1</td><td>0</td><td>unknown</td><td>no </td></tr>\n",
       "\t<tr><th scope=row>4504</th><td>60</td><td>self-employed</td><td>married </td><td>primary  </td><td>no </td><td>  362</td><td>no </td><td>yes</td><td>cellular </td><td>29</td><td>jul</td><td> 816</td><td> 6</td><td> -1</td><td>0</td><td>unknown</td><td>yes</td></tr>\n",
       "\t<tr><th scope=row>4505</th><td>42</td><td>blue-collar  </td><td>single  </td><td>secondary</td><td>no </td><td> 1080</td><td>yes</td><td>yes</td><td>cellular </td><td>13</td><td>may</td><td> 951</td><td> 3</td><td>370</td><td>4</td><td>failure</td><td>yes</td></tr>\n",
       "\t<tr><th scope=row>4506</th><td>32</td><td>admin.       </td><td>single  </td><td>secondary</td><td>no </td><td>  620</td><td>yes</td><td>no </td><td>unknown  </td><td>26</td><td>may</td><td>1234</td><td> 3</td><td> -1</td><td>0</td><td>unknown</td><td>yes</td></tr>\n",
       "\t<tr><th scope=row>4507</th><td>42</td><td>unemployed   </td><td>divorced</td><td>tertiary </td><td>no </td><td> -166</td><td>no </td><td>no </td><td>cellular </td><td>29</td><td>aug</td><td>  85</td><td> 4</td><td> -1</td><td>0</td><td>unknown</td><td>no </td></tr>\n",
       "\t<tr><th scope=row>4508</th><td>33</td><td>services     </td><td>married </td><td>secondary</td><td>no </td><td>  288</td><td>yes</td><td>no </td><td>cellular </td><td>17</td><td>apr</td><td> 306</td><td> 1</td><td> -1</td><td>0</td><td>unknown</td><td>no </td></tr>\n",
       "\t<tr><th scope=row>4509</th><td>42</td><td>admin.       </td><td>married </td><td>unknown  </td><td>no </td><td>  642</td><td>yes</td><td>yes</td><td>unknown  </td><td>16</td><td>may</td><td> 509</td><td> 2</td><td> -1</td><td>0</td><td>unknown</td><td>no </td></tr>\n",
       "\t<tr><th scope=row>4510</th><td>51</td><td>technician   </td><td>married </td><td>tertiary </td><td>no </td><td> 2506</td><td>no </td><td>no </td><td>cellular </td><td>30</td><td>nov</td><td> 210</td><td> 3</td><td> -1</td><td>0</td><td>unknown</td><td>no </td></tr>\n",
       "\t<tr><th scope=row>4511</th><td>36</td><td>technician   </td><td>divorced</td><td>secondary</td><td>no </td><td>  566</td><td>yes</td><td>no </td><td>unknown  </td><td>20</td><td>may</td><td> 129</td><td> 2</td><td> -1</td><td>0</td><td>unknown</td><td>no </td></tr>\n",
       "\t<tr><th scope=row>4512</th><td>46</td><td>blue-collar  </td><td>married </td><td>secondary</td><td>no </td><td>  668</td><td>yes</td><td>no </td><td>unknown  </td><td>15</td><td>may</td><td>1263</td><td> 2</td><td> -1</td><td>0</td><td>unknown</td><td>yes</td></tr>\n",
       "\t<tr><th scope=row>4513</th><td>40</td><td>blue-collar  </td><td>married </td><td>secondary</td><td>no </td><td> 1100</td><td>yes</td><td>no </td><td>unknown  </td><td>29</td><td>may</td><td> 660</td><td> 2</td><td> -1</td><td>0</td><td>unknown</td><td>no </td></tr>\n",
       "\t<tr><th scope=row>4514</th><td>49</td><td>blue-collar  </td><td>married </td><td>secondary</td><td>no </td><td>  322</td><td>no </td><td>no </td><td>cellular </td><td>14</td><td>aug</td><td> 356</td><td> 2</td><td> -1</td><td>0</td><td>unknown</td><td>no </td></tr>\n",
       "\t<tr><th scope=row>4515</th><td>38</td><td>blue-collar  </td><td>married </td><td>secondary</td><td>no </td><td> 1205</td><td>yes</td><td>no </td><td>cellular </td><td>20</td><td>apr</td><td>  45</td><td> 4</td><td>153</td><td>1</td><td>failure</td><td>no </td></tr>\n",
       "\t<tr><th scope=row>4516</th><td>32</td><td>services     </td><td>single  </td><td>secondary</td><td>no </td><td>  473</td><td>yes</td><td>no </td><td>cellular </td><td> 7</td><td>jul</td><td> 624</td><td> 5</td><td> -1</td><td>0</td><td>unknown</td><td>no </td></tr>\n",
       "\t<tr><th scope=row>4517</th><td>33</td><td>services     </td><td>married </td><td>secondary</td><td>no </td><td> -333</td><td>yes</td><td>no </td><td>cellular </td><td>30</td><td>jul</td><td> 329</td><td> 5</td><td> -1</td><td>0</td><td>unknown</td><td>no </td></tr>\n",
       "\t<tr><th scope=row>4518</th><td>57</td><td>self-employed</td><td>married </td><td>tertiary </td><td>yes</td><td>-3313</td><td>yes</td><td>yes</td><td>unknown  </td><td> 9</td><td>may</td><td> 153</td><td> 1</td><td> -1</td><td>0</td><td>unknown</td><td>no </td></tr>\n",
       "\t<tr><th scope=row>4519</th><td>57</td><td>technician   </td><td>married </td><td>secondary</td><td>no </td><td>  295</td><td>no </td><td>no </td><td>cellular </td><td>19</td><td>aug</td><td> 151</td><td>11</td><td> -1</td><td>0</td><td>unknown</td><td>no </td></tr>\n",
       "\t<tr><th scope=row>4520</th><td>28</td><td>blue-collar  </td><td>married </td><td>secondary</td><td>no </td><td> 1137</td><td>no </td><td>no </td><td>cellular </td><td> 6</td><td>feb</td><td> 129</td><td> 4</td><td>211</td><td>3</td><td>other  </td><td>no </td></tr>\n",
       "\t<tr><th scope=row>4521</th><td>44</td><td>entrepreneur </td><td>single  </td><td>tertiary </td><td>no </td><td> 1136</td><td>yes</td><td>yes</td><td>cellular </td><td> 3</td><td>apr</td><td> 345</td><td> 2</td><td>249</td><td>7</td><td>other  </td><td>no </td></tr>\n",
       "</tbody>\n",
       "</table>\n"
      ],
      "text/latex": [
       "A data.frame: 4521 x 17\n",
       "\\begin{tabular}{r|lllllllllllllllll}\n",
       "  & age & job & marital & education & default & balance & housing & loan & contact & day & month & duration & campaign & pdays & previous & poutcome & y\\\\\n",
       "  & <int> & <chr> & <chr> & <chr> & <chr> & <int> & <chr> & <chr> & <chr> & <int> & <chr> & <int> & <int> & <int> & <int> & <chr> & <chr>\\\\\n",
       "\\hline\n",
       "\t1 & 30 & unemployed    & married  & primary   & no & 1787 & no  & no  & cellular  & 19 & oct &  79 & 1 &  -1 & 0 & unknown & no \\\\\n",
       "\t2 & 33 & services      & married  & secondary & no & 4789 & yes & yes & cellular  & 11 & may & 220 & 1 & 339 & 4 & failure & no \\\\\n",
       "\t3 & 35 & management    & single   & tertiary  & no & 1350 & yes & no  & cellular  & 16 & apr & 185 & 1 & 330 & 1 & failure & no \\\\\n",
       "\t4 & 30 & management    & married  & tertiary  & no & 1476 & yes & yes & unknown   &  3 & jun & 199 & 4 &  -1 & 0 & unknown & no \\\\\n",
       "\t5 & 59 & blue-collar   & married  & secondary & no &    0 & yes & no  & unknown   &  5 & may & 226 & 1 &  -1 & 0 & unknown & no \\\\\n",
       "\t6 & 35 & management    & single   & tertiary  & no &  747 & no  & no  & cellular  & 23 & feb & 141 & 2 & 176 & 3 & failure & no \\\\\n",
       "\t7 & 36 & self-employed & married  & tertiary  & no &  307 & yes & no  & cellular  & 14 & may & 341 & 1 & 330 & 2 & other   & no \\\\\n",
       "\t8 & 39 & technician    & married  & secondary & no &  147 & yes & no  & cellular  &  6 & may & 151 & 2 &  -1 & 0 & unknown & no \\\\\n",
       "\t9 & 41 & entrepreneur  & married  & tertiary  & no &  221 & yes & no  & unknown   & 14 & may &  57 & 2 &  -1 & 0 & unknown & no \\\\\n",
       "\t10 & 43 & services      & married  & primary   & no &  -88 & yes & yes & cellular  & 17 & apr & 313 & 1 & 147 & 2 & failure & no \\\\\n",
       "\t11 & 39 & services      & married  & secondary & no & 9374 & yes & no  & unknown   & 20 & may & 273 & 1 &  -1 & 0 & unknown & no \\\\\n",
       "\t12 & 43 & admin.        & married  & secondary & no &  264 & yes & no  & cellular  & 17 & apr & 113 & 2 &  -1 & 0 & unknown & no \\\\\n",
       "\t13 & 36 & technician    & married  & tertiary  & no & 1109 & no  & no  & cellular  & 13 & aug & 328 & 2 &  -1 & 0 & unknown & no \\\\\n",
       "\t14 & 20 & student       & single   & secondary & no &  502 & no  & no  & cellular  & 30 & apr & 261 & 1 &  -1 & 0 & unknown & yes\\\\\n",
       "\t15 & 31 & blue-collar   & married  & secondary & no &  360 & yes & yes & cellular  & 29 & jan &  89 & 1 & 241 & 1 & failure & no \\\\\n",
       "\t16 & 40 & management    & married  & tertiary  & no &  194 & no  & yes & cellular  & 29 & aug & 189 & 2 &  -1 & 0 & unknown & no \\\\\n",
       "\t17 & 56 & technician    & married  & secondary & no & 4073 & no  & no  & cellular  & 27 & aug & 239 & 5 &  -1 & 0 & unknown & no \\\\\n",
       "\t18 & 37 & admin.        & single   & tertiary  & no & 2317 & yes & no  & cellular  & 20 & apr & 114 & 1 & 152 & 2 & failure & no \\\\\n",
       "\t19 & 25 & blue-collar   & single   & primary   & no & -221 & yes & no  & unknown   & 23 & may & 250 & 1 &  -1 & 0 & unknown & no \\\\\n",
       "\t20 & 31 & services      & married  & secondary & no &  132 & no  & no  & cellular  &  7 & jul & 148 & 1 & 152 & 1 & other   & no \\\\\n",
       "\t21 & 38 & management    & divorced & unknown   & no &    0 & yes & no  & cellular  & 18 & nov &  96 & 2 &  -1 & 0 & unknown & no \\\\\n",
       "\t22 & 42 & management    & divorced & tertiary  & no &   16 & no  & no  & cellular  & 19 & nov & 140 & 3 &  -1 & 0 & unknown & no \\\\\n",
       "\t23 & 44 & services      & single   & secondary & no &  106 & no  & no  & unknown   & 12 & jun & 109 & 2 &  -1 & 0 & unknown & no \\\\\n",
       "\t24 & 44 & entrepreneur  & married  & secondary & no &   93 & no  & no  & cellular  &  7 & jul & 125 & 2 &  -1 & 0 & unknown & no \\\\\n",
       "\t25 & 26 & housemaid     & married  & tertiary  & no &  543 & no  & no  & cellular  & 30 & jan & 169 & 3 &  -1 & 0 & unknown & no \\\\\n",
       "\t26 & 41 & management    & married  & tertiary  & no & 5883 & no  & no  & cellular  & 20 & nov & 182 & 2 &  -1 & 0 & unknown & no \\\\\n",
       "\t27 & 55 & blue-collar   & married  & primary   & no &  627 & yes & no  & unknown   &  5 & may & 247 & 1 &  -1 & 0 & unknown & no \\\\\n",
       "\t28 & 67 & retired       & married  & unknown   & no &  696 & no  & no  & telephone & 17 & aug & 119 & 1 & 105 & 2 & failure & no \\\\\n",
       "\t29 & 56 & self-employed & married  & secondary & no &  784 & no  & yes & cellular  & 30 & jul & 149 & 2 &  -1 & 0 & unknown & no \\\\\n",
       "\t30 & 53 & admin.        & married  & secondary & no &  105 & no  & yes & cellular  & 21 & aug &  74 & 2 &  -1 & 0 & unknown & no \\\\\n",
       "\t... & ... & ... & ... & ... & ... & ... & ... & ... & ... & ... & ... & ... & ... & ... & ... & ... & ...\\\\\n",
       "\t4492 & 35 & blue-collar   & single   & secondary & no  &     0 & yes & no  & cellular  & 16 & apr &  169 &  1 &  -1 & 0 & unknown & no \\\\\n",
       "\t4493 & 32 & technician    & single   & secondary & no  &   309 & yes & yes & cellular  & 16 & apr &  346 &  1 & 234 & 3 & failure & no \\\\\n",
       "\t4494 & 28 & technician    & single   & tertiary  & no  &     0 & yes & no  & unknown   &  4 & jun &  205 &  6 &  -1 & 0 & unknown & no \\\\\n",
       "\t4495 & 26 & technician    & single   & secondary & no  &   668 & yes & no  & unknown   & 28 & may &  576 &  3 &  -1 & 0 & unknown & yes\\\\\n",
       "\t4496 & 48 & management    & married  & tertiary  & no  &  1175 & yes & no  & telephone & 18 & nov & 1476 &  3 &  -1 & 0 & unknown & no \\\\\n",
       "\t4497 & 30 & blue-collar   & single   & secondary & no  &   363 & no  & no  & cellular  & 28 & jul &  171 &  3 &  -1 & 0 & unknown & no \\\\\n",
       "\t4498 & 31 & entrepreneur  & single   & tertiary  & no  &    38 & no  & no  & cellular  & 20 & nov &  185 &  2 &  -1 & 0 & unknown & no \\\\\n",
       "\t4499 & 31 & management    & married  & tertiary  & no  &  1183 & yes & no  & unknown   & 27 & may &  676 &  6 &  -1 & 0 & unknown & no \\\\\n",
       "\t4500 & 45 & blue-collar   & divorced & primary   & no  &   942 & no  & no  & cellular  & 21 & nov &  362 &  1 &  -1 & 0 & unknown & no \\\\\n",
       "\t4501 & 38 & admin.        & married  & secondary & no  &  4196 & yes & no  & cellular  & 12 & may &  193 &  2 &  -1 & 0 & unknown & no \\\\\n",
       "\t4502 & 34 & management    & married  & tertiary  & no  &   297 & yes & no  & cellular  & 26 & aug &   63 &  4 &  -1 & 0 & unknown & no \\\\\n",
       "\t4503 & 42 & services      & married  & secondary & no  &   -91 & yes & yes & cellular  &  5 & feb &   43 &  1 &  -1 & 0 & unknown & no \\\\\n",
       "\t4504 & 60 & self-employed & married  & primary   & no  &   362 & no  & yes & cellular  & 29 & jul &  816 &  6 &  -1 & 0 & unknown & yes\\\\\n",
       "\t4505 & 42 & blue-collar   & single   & secondary & no  &  1080 & yes & yes & cellular  & 13 & may &  951 &  3 & 370 & 4 & failure & yes\\\\\n",
       "\t4506 & 32 & admin.        & single   & secondary & no  &   620 & yes & no  & unknown   & 26 & may & 1234 &  3 &  -1 & 0 & unknown & yes\\\\\n",
       "\t4507 & 42 & unemployed    & divorced & tertiary  & no  &  -166 & no  & no  & cellular  & 29 & aug &   85 &  4 &  -1 & 0 & unknown & no \\\\\n",
       "\t4508 & 33 & services      & married  & secondary & no  &   288 & yes & no  & cellular  & 17 & apr &  306 &  1 &  -1 & 0 & unknown & no \\\\\n",
       "\t4509 & 42 & admin.        & married  & unknown   & no  &   642 & yes & yes & unknown   & 16 & may &  509 &  2 &  -1 & 0 & unknown & no \\\\\n",
       "\t4510 & 51 & technician    & married  & tertiary  & no  &  2506 & no  & no  & cellular  & 30 & nov &  210 &  3 &  -1 & 0 & unknown & no \\\\\n",
       "\t4511 & 36 & technician    & divorced & secondary & no  &   566 & yes & no  & unknown   & 20 & may &  129 &  2 &  -1 & 0 & unknown & no \\\\\n",
       "\t4512 & 46 & blue-collar   & married  & secondary & no  &   668 & yes & no  & unknown   & 15 & may & 1263 &  2 &  -1 & 0 & unknown & yes\\\\\n",
       "\t4513 & 40 & blue-collar   & married  & secondary & no  &  1100 & yes & no  & unknown   & 29 & may &  660 &  2 &  -1 & 0 & unknown & no \\\\\n",
       "\t4514 & 49 & blue-collar   & married  & secondary & no  &   322 & no  & no  & cellular  & 14 & aug &  356 &  2 &  -1 & 0 & unknown & no \\\\\n",
       "\t4515 & 38 & blue-collar   & married  & secondary & no  &  1205 & yes & no  & cellular  & 20 & apr &   45 &  4 & 153 & 1 & failure & no \\\\\n",
       "\t4516 & 32 & services      & single   & secondary & no  &   473 & yes & no  & cellular  &  7 & jul &  624 &  5 &  -1 & 0 & unknown & no \\\\\n",
       "\t4517 & 33 & services      & married  & secondary & no  &  -333 & yes & no  & cellular  & 30 & jul &  329 &  5 &  -1 & 0 & unknown & no \\\\\n",
       "\t4518 & 57 & self-employed & married  & tertiary  & yes & -3313 & yes & yes & unknown   &  9 & may &  153 &  1 &  -1 & 0 & unknown & no \\\\\n",
       "\t4519 & 57 & technician    & married  & secondary & no  &   295 & no  & no  & cellular  & 19 & aug &  151 & 11 &  -1 & 0 & unknown & no \\\\\n",
       "\t4520 & 28 & blue-collar   & married  & secondary & no  &  1137 & no  & no  & cellular  &  6 & feb &  129 &  4 & 211 & 3 & other   & no \\\\\n",
       "\t4521 & 44 & entrepreneur  & single   & tertiary  & no  &  1136 & yes & yes & cellular  &  3 & apr &  345 &  2 & 249 & 7 & other   & no \\\\\n",
       "\\end{tabular}\n"
      ],
      "text/markdown": [
       "\n",
       "A data.frame: 4521 x 17\n",
       "\n",
       "| <!--/--> | age &lt;int&gt; | job &lt;chr&gt; | marital &lt;chr&gt; | education &lt;chr&gt; | default &lt;chr&gt; | balance &lt;int&gt; | housing &lt;chr&gt; | loan &lt;chr&gt; | contact &lt;chr&gt; | day &lt;int&gt; | month &lt;chr&gt; | duration &lt;int&gt; | campaign &lt;int&gt; | pdays &lt;int&gt; | previous &lt;int&gt; | poutcome &lt;chr&gt; | y &lt;chr&gt; |\n",
       "|---|---|---|---|---|---|---|---|---|---|---|---|---|---|---|---|---|---|\n",
       "| 1 | 30 | unemployed    | married  | primary   | no | 1787 | no  | no  | cellular  | 19 | oct |  79 | 1 |  -1 | 0 | unknown | no  |\n",
       "| 2 | 33 | services      | married  | secondary | no | 4789 | yes | yes | cellular  | 11 | may | 220 | 1 | 339 | 4 | failure | no  |\n",
       "| 3 | 35 | management    | single   | tertiary  | no | 1350 | yes | no  | cellular  | 16 | apr | 185 | 1 | 330 | 1 | failure | no  |\n",
       "| 4 | 30 | management    | married  | tertiary  | no | 1476 | yes | yes | unknown   |  3 | jun | 199 | 4 |  -1 | 0 | unknown | no  |\n",
       "| 5 | 59 | blue-collar   | married  | secondary | no |    0 | yes | no  | unknown   |  5 | may | 226 | 1 |  -1 | 0 | unknown | no  |\n",
       "| 6 | 35 | management    | single   | tertiary  | no |  747 | no  | no  | cellular  | 23 | feb | 141 | 2 | 176 | 3 | failure | no  |\n",
       "| 7 | 36 | self-employed | married  | tertiary  | no |  307 | yes | no  | cellular  | 14 | may | 341 | 1 | 330 | 2 | other   | no  |\n",
       "| 8 | 39 | technician    | married  | secondary | no |  147 | yes | no  | cellular  |  6 | may | 151 | 2 |  -1 | 0 | unknown | no  |\n",
       "| 9 | 41 | entrepreneur  | married  | tertiary  | no |  221 | yes | no  | unknown   | 14 | may |  57 | 2 |  -1 | 0 | unknown | no  |\n",
       "| 10 | 43 | services      | married  | primary   | no |  -88 | yes | yes | cellular  | 17 | apr | 313 | 1 | 147 | 2 | failure | no  |\n",
       "| 11 | 39 | services      | married  | secondary | no | 9374 | yes | no  | unknown   | 20 | may | 273 | 1 |  -1 | 0 | unknown | no  |\n",
       "| 12 | 43 | admin.        | married  | secondary | no |  264 | yes | no  | cellular  | 17 | apr | 113 | 2 |  -1 | 0 | unknown | no  |\n",
       "| 13 | 36 | technician    | married  | tertiary  | no | 1109 | no  | no  | cellular  | 13 | aug | 328 | 2 |  -1 | 0 | unknown | no  |\n",
       "| 14 | 20 | student       | single   | secondary | no |  502 | no  | no  | cellular  | 30 | apr | 261 | 1 |  -1 | 0 | unknown | yes |\n",
       "| 15 | 31 | blue-collar   | married  | secondary | no |  360 | yes | yes | cellular  | 29 | jan |  89 | 1 | 241 | 1 | failure | no  |\n",
       "| 16 | 40 | management    | married  | tertiary  | no |  194 | no  | yes | cellular  | 29 | aug | 189 | 2 |  -1 | 0 | unknown | no  |\n",
       "| 17 | 56 | technician    | married  | secondary | no | 4073 | no  | no  | cellular  | 27 | aug | 239 | 5 |  -1 | 0 | unknown | no  |\n",
       "| 18 | 37 | admin.        | single   | tertiary  | no | 2317 | yes | no  | cellular  | 20 | apr | 114 | 1 | 152 | 2 | failure | no  |\n",
       "| 19 | 25 | blue-collar   | single   | primary   | no | -221 | yes | no  | unknown   | 23 | may | 250 | 1 |  -1 | 0 | unknown | no  |\n",
       "| 20 | 31 | services      | married  | secondary | no |  132 | no  | no  | cellular  |  7 | jul | 148 | 1 | 152 | 1 | other   | no  |\n",
       "| 21 | 38 | management    | divorced | unknown   | no |    0 | yes | no  | cellular  | 18 | nov |  96 | 2 |  -1 | 0 | unknown | no  |\n",
       "| 22 | 42 | management    | divorced | tertiary  | no |   16 | no  | no  | cellular  | 19 | nov | 140 | 3 |  -1 | 0 | unknown | no  |\n",
       "| 23 | 44 | services      | single   | secondary | no |  106 | no  | no  | unknown   | 12 | jun | 109 | 2 |  -1 | 0 | unknown | no  |\n",
       "| 24 | 44 | entrepreneur  | married  | secondary | no |   93 | no  | no  | cellular  |  7 | jul | 125 | 2 |  -1 | 0 | unknown | no  |\n",
       "| 25 | 26 | housemaid     | married  | tertiary  | no |  543 | no  | no  | cellular  | 30 | jan | 169 | 3 |  -1 | 0 | unknown | no  |\n",
       "| 26 | 41 | management    | married  | tertiary  | no | 5883 | no  | no  | cellular  | 20 | nov | 182 | 2 |  -1 | 0 | unknown | no  |\n",
       "| 27 | 55 | blue-collar   | married  | primary   | no |  627 | yes | no  | unknown   |  5 | may | 247 | 1 |  -1 | 0 | unknown | no  |\n",
       "| 28 | 67 | retired       | married  | unknown   | no |  696 | no  | no  | telephone | 17 | aug | 119 | 1 | 105 | 2 | failure | no  |\n",
       "| 29 | 56 | self-employed | married  | secondary | no |  784 | no  | yes | cellular  | 30 | jul | 149 | 2 |  -1 | 0 | unknown | no  |\n",
       "| 30 | 53 | admin.        | married  | secondary | no |  105 | no  | yes | cellular  | 21 | aug |  74 | 2 |  -1 | 0 | unknown | no  |\n",
       "| ... | ... | ... | ... | ... | ... | ... | ... | ... | ... | ... | ... | ... | ... | ... | ... | ... | ... |\n",
       "| 4492 | 35 | blue-collar   | single   | secondary | no  |     0 | yes | no  | cellular  | 16 | apr |  169 |  1 |  -1 | 0 | unknown | no  |\n",
       "| 4493 | 32 | technician    | single   | secondary | no  |   309 | yes | yes | cellular  | 16 | apr |  346 |  1 | 234 | 3 | failure | no  |\n",
       "| 4494 | 28 | technician    | single   | tertiary  | no  |     0 | yes | no  | unknown   |  4 | jun |  205 |  6 |  -1 | 0 | unknown | no  |\n",
       "| 4495 | 26 | technician    | single   | secondary | no  |   668 | yes | no  | unknown   | 28 | may |  576 |  3 |  -1 | 0 | unknown | yes |\n",
       "| 4496 | 48 | management    | married  | tertiary  | no  |  1175 | yes | no  | telephone | 18 | nov | 1476 |  3 |  -1 | 0 | unknown | no  |\n",
       "| 4497 | 30 | blue-collar   | single   | secondary | no  |   363 | no  | no  | cellular  | 28 | jul |  171 |  3 |  -1 | 0 | unknown | no  |\n",
       "| 4498 | 31 | entrepreneur  | single   | tertiary  | no  |    38 | no  | no  | cellular  | 20 | nov |  185 |  2 |  -1 | 0 | unknown | no  |\n",
       "| 4499 | 31 | management    | married  | tertiary  | no  |  1183 | yes | no  | unknown   | 27 | may |  676 |  6 |  -1 | 0 | unknown | no  |\n",
       "| 4500 | 45 | blue-collar   | divorced | primary   | no  |   942 | no  | no  | cellular  | 21 | nov |  362 |  1 |  -1 | 0 | unknown | no  |\n",
       "| 4501 | 38 | admin.        | married  | secondary | no  |  4196 | yes | no  | cellular  | 12 | may |  193 |  2 |  -1 | 0 | unknown | no  |\n",
       "| 4502 | 34 | management    | married  | tertiary  | no  |   297 | yes | no  | cellular  | 26 | aug |   63 |  4 |  -1 | 0 | unknown | no  |\n",
       "| 4503 | 42 | services      | married  | secondary | no  |   -91 | yes | yes | cellular  |  5 | feb |   43 |  1 |  -1 | 0 | unknown | no  |\n",
       "| 4504 | 60 | self-employed | married  | primary   | no  |   362 | no  | yes | cellular  | 29 | jul |  816 |  6 |  -1 | 0 | unknown | yes |\n",
       "| 4505 | 42 | blue-collar   | single   | secondary | no  |  1080 | yes | yes | cellular  | 13 | may |  951 |  3 | 370 | 4 | failure | yes |\n",
       "| 4506 | 32 | admin.        | single   | secondary | no  |   620 | yes | no  | unknown   | 26 | may | 1234 |  3 |  -1 | 0 | unknown | yes |\n",
       "| 4507 | 42 | unemployed    | divorced | tertiary  | no  |  -166 | no  | no  | cellular  | 29 | aug |   85 |  4 |  -1 | 0 | unknown | no  |\n",
       "| 4508 | 33 | services      | married  | secondary | no  |   288 | yes | no  | cellular  | 17 | apr |  306 |  1 |  -1 | 0 | unknown | no  |\n",
       "| 4509 | 42 | admin.        | married  | unknown   | no  |   642 | yes | yes | unknown   | 16 | may |  509 |  2 |  -1 | 0 | unknown | no  |\n",
       "| 4510 | 51 | technician    | married  | tertiary  | no  |  2506 | no  | no  | cellular  | 30 | nov |  210 |  3 |  -1 | 0 | unknown | no  |\n",
       "| 4511 | 36 | technician    | divorced | secondary | no  |   566 | yes | no  | unknown   | 20 | may |  129 |  2 |  -1 | 0 | unknown | no  |\n",
       "| 4512 | 46 | blue-collar   | married  | secondary | no  |   668 | yes | no  | unknown   | 15 | may | 1263 |  2 |  -1 | 0 | unknown | yes |\n",
       "| 4513 | 40 | blue-collar   | married  | secondary | no  |  1100 | yes | no  | unknown   | 29 | may |  660 |  2 |  -1 | 0 | unknown | no  |\n",
       "| 4514 | 49 | blue-collar   | married  | secondary | no  |   322 | no  | no  | cellular  | 14 | aug |  356 |  2 |  -1 | 0 | unknown | no  |\n",
       "| 4515 | 38 | blue-collar   | married  | secondary | no  |  1205 | yes | no  | cellular  | 20 | apr |   45 |  4 | 153 | 1 | failure | no  |\n",
       "| 4516 | 32 | services      | single   | secondary | no  |   473 | yes | no  | cellular  |  7 | jul |  624 |  5 |  -1 | 0 | unknown | no  |\n",
       "| 4517 | 33 | services      | married  | secondary | no  |  -333 | yes | no  | cellular  | 30 | jul |  329 |  5 |  -1 | 0 | unknown | no  |\n",
       "| 4518 | 57 | self-employed | married  | tertiary  | yes | -3313 | yes | yes | unknown   |  9 | may |  153 |  1 |  -1 | 0 | unknown | no  |\n",
       "| 4519 | 57 | technician    | married  | secondary | no  |   295 | no  | no  | cellular  | 19 | aug |  151 | 11 |  -1 | 0 | unknown | no  |\n",
       "| 4520 | 28 | blue-collar   | married  | secondary | no  |  1137 | no  | no  | cellular  |  6 | feb |  129 |  4 | 211 | 3 | other   | no  |\n",
       "| 4521 | 44 | entrepreneur  | single   | tertiary  | no  |  1136 | yes | yes | cellular  |  3 | apr |  345 |  2 | 249 | 7 | other   | no  |\n",
       "\n"
      ],
      "text/plain": [
       "     age job           marital  education default balance housing loan\n",
       "1    30  unemployed    married  primary   no      1787    no      no  \n",
       "2    33  services      married  secondary no      4789    yes     yes \n",
       "3    35  management    single   tertiary  no      1350    yes     no  \n",
       "4    30  management    married  tertiary  no      1476    yes     yes \n",
       "5    59  blue-collar   married  secondary no         0    yes     no  \n",
       "6    35  management    single   tertiary  no       747    no      no  \n",
       "7    36  self-employed married  tertiary  no       307    yes     no  \n",
       "8    39  technician    married  secondary no       147    yes     no  \n",
       "9    41  entrepreneur  married  tertiary  no       221    yes     no  \n",
       "10   43  services      married  primary   no       -88    yes     yes \n",
       "11   39  services      married  secondary no      9374    yes     no  \n",
       "12   43  admin.        married  secondary no       264    yes     no  \n",
       "13   36  technician    married  tertiary  no      1109    no      no  \n",
       "14   20  student       single   secondary no       502    no      no  \n",
       "15   31  blue-collar   married  secondary no       360    yes     yes \n",
       "16   40  management    married  tertiary  no       194    no      yes \n",
       "17   56  technician    married  secondary no      4073    no      no  \n",
       "18   37  admin.        single   tertiary  no      2317    yes     no  \n",
       "19   25  blue-collar   single   primary   no      -221    yes     no  \n",
       "20   31  services      married  secondary no       132    no      no  \n",
       "21   38  management    divorced unknown   no         0    yes     no  \n",
       "22   42  management    divorced tertiary  no        16    no      no  \n",
       "23   44  services      single   secondary no       106    no      no  \n",
       "24   44  entrepreneur  married  secondary no        93    no      no  \n",
       "25   26  housemaid     married  tertiary  no       543    no      no  \n",
       "26   41  management    married  tertiary  no      5883    no      no  \n",
       "27   55  blue-collar   married  primary   no       627    yes     no  \n",
       "28   67  retired       married  unknown   no       696    no      no  \n",
       "29   56  self-employed married  secondary no       784    no      yes \n",
       "30   53  admin.        married  secondary no       105    no      yes \n",
       "...  ... ...           ...      ...       ...     ...     ...     ... \n",
       "4492 35  blue-collar   single   secondary no          0   yes     no  \n",
       "4493 32  technician    single   secondary no        309   yes     yes \n",
       "4494 28  technician    single   tertiary  no          0   yes     no  \n",
       "4495 26  technician    single   secondary no        668   yes     no  \n",
       "4496 48  management    married  tertiary  no       1175   yes     no  \n",
       "4497 30  blue-collar   single   secondary no        363   no      no  \n",
       "4498 31  entrepreneur  single   tertiary  no         38   no      no  \n",
       "4499 31  management    married  tertiary  no       1183   yes     no  \n",
       "4500 45  blue-collar   divorced primary   no        942   no      no  \n",
       "4501 38  admin.        married  secondary no       4196   yes     no  \n",
       "4502 34  management    married  tertiary  no        297   yes     no  \n",
       "4503 42  services      married  secondary no        -91   yes     yes \n",
       "4504 60  self-employed married  primary   no        362   no      yes \n",
       "4505 42  blue-collar   single   secondary no       1080   yes     yes \n",
       "4506 32  admin.        single   secondary no        620   yes     no  \n",
       "4507 42  unemployed    divorced tertiary  no       -166   no      no  \n",
       "4508 33  services      married  secondary no        288   yes     no  \n",
       "4509 42  admin.        married  unknown   no        642   yes     yes \n",
       "4510 51  technician    married  tertiary  no       2506   no      no  \n",
       "4511 36  technician    divorced secondary no        566   yes     no  \n",
       "4512 46  blue-collar   married  secondary no        668   yes     no  \n",
       "4513 40  blue-collar   married  secondary no       1100   yes     no  \n",
       "4514 49  blue-collar   married  secondary no        322   no      no  \n",
       "4515 38  blue-collar   married  secondary no       1205   yes     no  \n",
       "4516 32  services      single   secondary no        473   yes     no  \n",
       "4517 33  services      married  secondary no       -333   yes     no  \n",
       "4518 57  self-employed married  tertiary  yes     -3313   yes     yes \n",
       "4519 57  technician    married  secondary no        295   no      no  \n",
       "4520 28  blue-collar   married  secondary no       1137   no      no  \n",
       "4521 44  entrepreneur  single   tertiary  no       1136   yes     yes \n",
       "     contact   day month duration campaign pdays previous poutcome y  \n",
       "1    cellular  19  oct    79      1         -1   0        unknown  no \n",
       "2    cellular  11  may   220      1        339   4        failure  no \n",
       "3    cellular  16  apr   185      1        330   1        failure  no \n",
       "4    unknown    3  jun   199      4         -1   0        unknown  no \n",
       "5    unknown    5  may   226      1         -1   0        unknown  no \n",
       "6    cellular  23  feb   141      2        176   3        failure  no \n",
       "7    cellular  14  may   341      1        330   2        other    no \n",
       "8    cellular   6  may   151      2         -1   0        unknown  no \n",
       "9    unknown   14  may    57      2         -1   0        unknown  no \n",
       "10   cellular  17  apr   313      1        147   2        failure  no \n",
       "11   unknown   20  may   273      1         -1   0        unknown  no \n",
       "12   cellular  17  apr   113      2         -1   0        unknown  no \n",
       "13   cellular  13  aug   328      2         -1   0        unknown  no \n",
       "14   cellular  30  apr   261      1         -1   0        unknown  yes\n",
       "15   cellular  29  jan    89      1        241   1        failure  no \n",
       "16   cellular  29  aug   189      2         -1   0        unknown  no \n",
       "17   cellular  27  aug   239      5         -1   0        unknown  no \n",
       "18   cellular  20  apr   114      1        152   2        failure  no \n",
       "19   unknown   23  may   250      1         -1   0        unknown  no \n",
       "20   cellular   7  jul   148      1        152   1        other    no \n",
       "21   cellular  18  nov    96      2         -1   0        unknown  no \n",
       "22   cellular  19  nov   140      3         -1   0        unknown  no \n",
       "23   unknown   12  jun   109      2         -1   0        unknown  no \n",
       "24   cellular   7  jul   125      2         -1   0        unknown  no \n",
       "25   cellular  30  jan   169      3         -1   0        unknown  no \n",
       "26   cellular  20  nov   182      2         -1   0        unknown  no \n",
       "27   unknown    5  may   247      1         -1   0        unknown  no \n",
       "28   telephone 17  aug   119      1        105   2        failure  no \n",
       "29   cellular  30  jul   149      2         -1   0        unknown  no \n",
       "30   cellular  21  aug    74      2         -1   0        unknown  no \n",
       "...  ...       ... ...   ...      ...      ...   ...      ...      ...\n",
       "4492 cellular  16  apr    169      1        -1   0        unknown  no \n",
       "4493 cellular  16  apr    346      1       234   3        failure  no \n",
       "4494 unknown    4  jun    205      6        -1   0        unknown  no \n",
       "4495 unknown   28  may    576      3        -1   0        unknown  yes\n",
       "4496 telephone 18  nov   1476      3        -1   0        unknown  no \n",
       "4497 cellular  28  jul    171      3        -1   0        unknown  no \n",
       "4498 cellular  20  nov    185      2        -1   0        unknown  no \n",
       "4499 unknown   27  may    676      6        -1   0        unknown  no \n",
       "4500 cellular  21  nov    362      1        -1   0        unknown  no \n",
       "4501 cellular  12  may    193      2        -1   0        unknown  no \n",
       "4502 cellular  26  aug     63      4        -1   0        unknown  no \n",
       "4503 cellular   5  feb     43      1        -1   0        unknown  no \n",
       "4504 cellular  29  jul    816      6        -1   0        unknown  yes\n",
       "4505 cellular  13  may    951      3       370   4        failure  yes\n",
       "4506 unknown   26  may   1234      3        -1   0        unknown  yes\n",
       "4507 cellular  29  aug     85      4        -1   0        unknown  no \n",
       "4508 cellular  17  apr    306      1        -1   0        unknown  no \n",
       "4509 unknown   16  may    509      2        -1   0        unknown  no \n",
       "4510 cellular  30  nov    210      3        -1   0        unknown  no \n",
       "4511 unknown   20  may    129      2        -1   0        unknown  no \n",
       "4512 unknown   15  may   1263      2        -1   0        unknown  yes\n",
       "4513 unknown   29  may    660      2        -1   0        unknown  no \n",
       "4514 cellular  14  aug    356      2        -1   0        unknown  no \n",
       "4515 cellular  20  apr     45      4       153   1        failure  no \n",
       "4516 cellular   7  jul    624      5        -1   0        unknown  no \n",
       "4517 cellular  30  jul    329      5        -1   0        unknown  no \n",
       "4518 unknown    9  may    153      1        -1   0        unknown  no \n",
       "4519 cellular  19  aug    151     11        -1   0        unknown  no \n",
       "4520 cellular   6  feb    129      4       211   3        other    no \n",
       "4521 cellular   3  apr    345      2       249   7        other    no "
      ]
     },
     "metadata": {},
     "output_type": "display_data"
    }
   ],
   "source": [
    "bank2 <- na.omit(bank)\n",
    "bank2"
   ]
  },
  {
   "cell_type": "markdown",
   "metadata": {},
   "source": [
    "Convertimos la variable dependiente `y` a 0 (para 'no') y a 1 (para 'yes')"
   ]
  },
  {
   "cell_type": "code",
   "execution_count": 65,
   "metadata": {
    "vscode": {
     "languageId": "r"
    }
   },
   "outputs": [],
   "source": [
    "bank2$y <- ifelse(bank2$y == 'no', 0, 1)"
   ]
  },
  {
   "cell_type": "markdown",
   "metadata": {},
   "source": [
    "### Regresión logística"
   ]
  },
  {
   "cell_type": "code",
   "execution_count": 66,
   "metadata": {
    "vscode": {
     "languageId": "r"
    }
   },
   "outputs": [
    {
     "data": {
      "text/plain": [
       "\n",
       "Call:\n",
       "glm(formula = y[1:4000] ~ duration[1:4000], family = \"binomial\", \n",
       "    data = bank2)\n",
       "\n",
       "Coefficients:\n",
       "                   Estimate Std. Error z value Pr(>|z|)    \n",
       "(Intercept)      -3.2482488  0.0895556  -36.27   <2e-16 ***\n",
       "duration[1:4000]  0.0035329  0.0001824   19.37   <2e-16 ***\n",
       "---\n",
       "Signif. codes:  0 ‘***’ 0.001 ‘**’ 0.01 ‘*’ 0.05 ‘.’ 0.1 ‘ ’ 1\n",
       "\n",
       "(Dispersion parameter for binomial family taken to be 1)\n",
       "\n",
       "    Null deviance: 2846.6  on 3999  degrees of freedom\n",
       "Residual deviance: 2384.2  on 3998  degrees of freedom\n",
       "AIC: 2388.2\n",
       "\n",
       "Number of Fisher Scoring iterations: 5\n"
      ]
     },
     "metadata": {},
     "output_type": "display_data"
    }
   ],
   "source": [
    "fit <- glm(y[1:4000] ~ duration[1:4000], data = bank2, family = \"binomial\")\n",
    "# as.data.frame(x) si hay que convertir los datos a dataframe\n",
    "summary(fit)"
   ]
  },
  {
   "cell_type": "code",
   "execution_count": 81,
   "metadata": {
    "vscode": {
     "languageId": "r"
    }
   },
   "outputs": [],
   "source": [
    "newd <- data.frame(duration = bank2$duration[4000:4521], Suscripcion = bank2$y[4000:4521])"
   ]
  },
  {
   "cell_type": "code",
   "execution_count": 83,
   "metadata": {
    "vscode": {
     "languageId": "r"
    }
   },
   "outputs": [
    {
     "data": {
      "text/plain": [
       "         Actual\n",
       "Predicted    0    1\n",
       "      No  3486  387\n",
       "      Yes   56   71"
      ]
     },
     "metadata": {},
     "output_type": "display_data"
    }
   ],
   "source": [
    "predicciones_rl <- predict(fit, type='response')\n",
    "pred_clases <- ifelse(predicciones_rl > 0.5, \"Yes\", \"No\")\n",
    "table(Predicted = pred_clases, Actual = bank2$y[1:4000])\n"
   ]
  },
  {
   "cell_type": "markdown",
   "metadata": {},
   "source": [
    "### LDA y QDA"
   ]
  },
  {
   "cell_type": "code",
   "execution_count": 84,
   "metadata": {
    "vscode": {
     "languageId": "r"
    }
   },
   "outputs": [],
   "source": [
    "library(MASS)\n",
    "lda.fit <- lda(bank2$y[1:4000] ~ bank2$duration[1:4000])\n",
    "qda.fit <- qda(bank2$y[1:4000] ~ bank2$duration[1:4000])"
   ]
  },
  {
   "cell_type": "code",
   "execution_count": 87,
   "metadata": {
    "vscode": {
     "languageId": "r"
    }
   },
   "outputs": [
    {
     "data": {
      "text/plain": [
       "         Actual\n",
       "Predicted    0    1\n",
       "        0 3440  342\n",
       "        1  102  116"
      ]
     },
     "metadata": {},
     "output_type": "display_data"
    }
   ],
   "source": [
    "lda.pred2 <- predict(lda.fit)\n",
    "table(Predicted = lda.pred2$class, Actual = bank2$y[1:4000])"
   ]
  },
  {
   "cell_type": "code",
   "execution_count": 88,
   "metadata": {
    "vscode": {
     "languageId": "r"
    }
   },
   "outputs": [
    {
     "data": {
      "text/plain": [
       "         Actual\n",
       "Predicted    0    1\n",
       "        0 3428  335\n",
       "        1  114  123"
      ]
     },
     "metadata": {},
     "output_type": "display_data"
    }
   ],
   "source": [
    "qda.pred2 <- predict(qda.fit)\n",
    "table(Predicted = qda.pred2$class, Actual = bank2$y[1:4000])"
   ]
  },
  {
   "cell_type": "markdown",
   "metadata": {},
   "source": [
    "A partir de la tabla de contingencia vemos que para este caso el modelo más preciso resulta la regresión logística"
   ]
  },
  {
   "cell_type": "markdown",
   "metadata": {},
   "source": [
    "# Ejercicio 2"
   ]
  },
  {
   "cell_type": "code",
   "execution_count": 15,
   "metadata": {
    "vscode": {
     "languageId": "r"
    }
   },
   "outputs": [],
   "source": [
    "# Para cargar los datos del ejercicio 2 usa:\n",
    "library(ISLR)\n",
    "library(dplyr)\n",
    "library(glmnet)\n",
    "data(\"Hitters\")\n"
   ]
  },
  {
   "cell_type": "markdown",
   "metadata": {},
   "source": [
    "Eliminamos las variables que no podemos tratar como continuas para este análisis, es decir, `League`, `Division` y `NewLeague` "
   ]
  },
  {
   "cell_type": "code",
   "execution_count": 16,
   "metadata": {
    "vscode": {
     "languageId": "r"
    }
   },
   "outputs": [
    {
     "data": {
      "text/html": [
       "<table class=\"dataframe\">\n",
       "<caption>A data.frame: 6 x 17</caption>\n",
       "<thead>\n",
       "\t<tr><th></th><th scope=col>AtBat</th><th scope=col>Hits</th><th scope=col>HmRun</th><th scope=col>Runs</th><th scope=col>RBI</th><th scope=col>Walks</th><th scope=col>Years</th><th scope=col>CAtBat</th><th scope=col>CHits</th><th scope=col>CHmRun</th><th scope=col>CRuns</th><th scope=col>CRBI</th><th scope=col>CWalks</th><th scope=col>PutOuts</th><th scope=col>Assists</th><th scope=col>Errors</th><th scope=col>Salary</th></tr>\n",
       "\t<tr><th></th><th scope=col>&lt;int&gt;</th><th scope=col>&lt;int&gt;</th><th scope=col>&lt;int&gt;</th><th scope=col>&lt;int&gt;</th><th scope=col>&lt;int&gt;</th><th scope=col>&lt;int&gt;</th><th scope=col>&lt;int&gt;</th><th scope=col>&lt;int&gt;</th><th scope=col>&lt;int&gt;</th><th scope=col>&lt;int&gt;</th><th scope=col>&lt;int&gt;</th><th scope=col>&lt;int&gt;</th><th scope=col>&lt;int&gt;</th><th scope=col>&lt;int&gt;</th><th scope=col>&lt;int&gt;</th><th scope=col>&lt;int&gt;</th><th scope=col>&lt;dbl&gt;</th></tr>\n",
       "</thead>\n",
       "<tbody>\n",
       "\t<tr><th scope=row>-Alan Ashby</th><td>315</td><td> 81</td><td> 7</td><td>24</td><td>38</td><td>39</td><td>14</td><td>3449</td><td> 835</td><td> 69</td><td>321</td><td>414</td><td>375</td><td>632</td><td> 43</td><td>10</td><td>475.0</td></tr>\n",
       "\t<tr><th scope=row>-Alvin Davis</th><td>479</td><td>130</td><td>18</td><td>66</td><td>72</td><td>76</td><td> 3</td><td>1624</td><td> 457</td><td> 63</td><td>224</td><td>266</td><td>263</td><td>880</td><td> 82</td><td>14</td><td>480.0</td></tr>\n",
       "\t<tr><th scope=row>-Andre Dawson</th><td>496</td><td>141</td><td>20</td><td>65</td><td>78</td><td>37</td><td>11</td><td>5628</td><td>1575</td><td>225</td><td>828</td><td>838</td><td>354</td><td>200</td><td> 11</td><td> 3</td><td>500.0</td></tr>\n",
       "\t<tr><th scope=row>-Andres Galarraga</th><td>321</td><td> 87</td><td>10</td><td>39</td><td>42</td><td>30</td><td> 2</td><td> 396</td><td> 101</td><td> 12</td><td> 48</td><td> 46</td><td> 33</td><td>805</td><td> 40</td><td> 4</td><td> 91.5</td></tr>\n",
       "\t<tr><th scope=row>-Alfredo Griffin</th><td>594</td><td>169</td><td> 4</td><td>74</td><td>51</td><td>35</td><td>11</td><td>4408</td><td>1133</td><td> 19</td><td>501</td><td>336</td><td>194</td><td>282</td><td>421</td><td>25</td><td>750.0</td></tr>\n",
       "\t<tr><th scope=row>-Al Newman</th><td>185</td><td> 37</td><td> 1</td><td>23</td><td> 8</td><td>21</td><td> 2</td><td> 214</td><td>  42</td><td>  1</td><td> 30</td><td>  9</td><td> 24</td><td> 76</td><td>127</td><td> 7</td><td> 70.0</td></tr>\n",
       "</tbody>\n",
       "</table>\n"
      ],
      "text/latex": [
       "A data.frame: 6 x 17\n",
       "\\begin{tabular}{r|lllllllllllllllll}\n",
       "  & AtBat & Hits & HmRun & Runs & RBI & Walks & Years & CAtBat & CHits & CHmRun & CRuns & CRBI & CWalks & PutOuts & Assists & Errors & Salary\\\\\n",
       "  & <int> & <int> & <int> & <int> & <int> & <int> & <int> & <int> & <int> & <int> & <int> & <int> & <int> & <int> & <int> & <int> & <dbl>\\\\\n",
       "\\hline\n",
       "\t-Alan Ashby & 315 &  81 &  7 & 24 & 38 & 39 & 14 & 3449 &  835 &  69 & 321 & 414 & 375 & 632 &  43 & 10 & 475.0\\\\\n",
       "\t-Alvin Davis & 479 & 130 & 18 & 66 & 72 & 76 &  3 & 1624 &  457 &  63 & 224 & 266 & 263 & 880 &  82 & 14 & 480.0\\\\\n",
       "\t-Andre Dawson & 496 & 141 & 20 & 65 & 78 & 37 & 11 & 5628 & 1575 & 225 & 828 & 838 & 354 & 200 &  11 &  3 & 500.0\\\\\n",
       "\t-Andres Galarraga & 321 &  87 & 10 & 39 & 42 & 30 &  2 &  396 &  101 &  12 &  48 &  46 &  33 & 805 &  40 &  4 &  91.5\\\\\n",
       "\t-Alfredo Griffin & 594 & 169 &  4 & 74 & 51 & 35 & 11 & 4408 & 1133 &  19 & 501 & 336 & 194 & 282 & 421 & 25 & 750.0\\\\\n",
       "\t-Al Newman & 185 &  37 &  1 & 23 &  8 & 21 &  2 &  214 &   42 &   1 &  30 &   9 &  24 &  76 & 127 &  7 &  70.0\\\\\n",
       "\\end{tabular}\n"
      ],
      "text/markdown": [
       "\n",
       "A data.frame: 6 x 17\n",
       "\n",
       "| <!--/--> | AtBat &lt;int&gt; | Hits &lt;int&gt; | HmRun &lt;int&gt; | Runs &lt;int&gt; | RBI &lt;int&gt; | Walks &lt;int&gt; | Years &lt;int&gt; | CAtBat &lt;int&gt; | CHits &lt;int&gt; | CHmRun &lt;int&gt; | CRuns &lt;int&gt; | CRBI &lt;int&gt; | CWalks &lt;int&gt; | PutOuts &lt;int&gt; | Assists &lt;int&gt; | Errors &lt;int&gt; | Salary &lt;dbl&gt; |\n",
       "|---|---|---|---|---|---|---|---|---|---|---|---|---|---|---|---|---|---|\n",
       "| -Alan Ashby | 315 |  81 |  7 | 24 | 38 | 39 | 14 | 3449 |  835 |  69 | 321 | 414 | 375 | 632 |  43 | 10 | 475.0 |\n",
       "| -Alvin Davis | 479 | 130 | 18 | 66 | 72 | 76 |  3 | 1624 |  457 |  63 | 224 | 266 | 263 | 880 |  82 | 14 | 480.0 |\n",
       "| -Andre Dawson | 496 | 141 | 20 | 65 | 78 | 37 | 11 | 5628 | 1575 | 225 | 828 | 838 | 354 | 200 |  11 |  3 | 500.0 |\n",
       "| -Andres Galarraga | 321 |  87 | 10 | 39 | 42 | 30 |  2 |  396 |  101 |  12 |  48 |  46 |  33 | 805 |  40 |  4 |  91.5 |\n",
       "| -Alfredo Griffin | 594 | 169 |  4 | 74 | 51 | 35 | 11 | 4408 | 1133 |  19 | 501 | 336 | 194 | 282 | 421 | 25 | 750.0 |\n",
       "| -Al Newman | 185 |  37 |  1 | 23 |  8 | 21 |  2 |  214 |   42 |   1 |  30 |   9 |  24 |  76 | 127 |  7 |  70.0 |\n",
       "\n"
      ],
      "text/plain": [
       "                  AtBat Hits HmRun Runs RBI Walks Years CAtBat CHits CHmRun\n",
       "-Alan Ashby       315    81   7    24   38  39    14    3449    835   69   \n",
       "-Alvin Davis      479   130  18    66   72  76     3    1624    457   63   \n",
       "-Andre Dawson     496   141  20    65   78  37    11    5628   1575  225   \n",
       "-Andres Galarraga 321    87  10    39   42  30     2     396    101   12   \n",
       "-Alfredo Griffin  594   169   4    74   51  35    11    4408   1133   19   \n",
       "-Al Newman        185    37   1    23    8  21     2     214     42    1   \n",
       "                  CRuns CRBI CWalks PutOuts Assists Errors Salary\n",
       "-Alan Ashby       321   414  375    632      43     10     475.0 \n",
       "-Alvin Davis      224   266  263    880      82     14     480.0 \n",
       "-Andre Dawson     828   838  354    200      11      3     500.0 \n",
       "-Andres Galarraga  48    46   33    805      40      4      91.5 \n",
       "-Alfredo Griffin  501   336  194    282     421     25     750.0 \n",
       "-Al Newman         30     9   24     76     127      7      70.0 "
      ]
     },
     "metadata": {},
     "output_type": "display_data"
    }
   ],
   "source": [
    "Hitters2 <- na.omit(Hitters) %>% select(-League, -Division, -NewLeague)\n",
    "head(Hitters2)"
   ]
  },
  {
   "cell_type": "code",
   "execution_count": 11,
   "metadata": {
    "vscode": {
     "languageId": "r"
    }
   },
   "outputs": [],
   "source": [
    "x <- Hitters2 %>% select(-Salary)\n",
    "y <- Hitters2$Salary"
   ]
  },
  {
   "cell_type": "markdown",
   "metadata": {},
   "source": [
    "### Regresión LASSO con selección de parámetro"
   ]
  },
  {
   "cell_type": "code",
   "execution_count": 18,
   "metadata": {
    "vscode": {
     "languageId": "r"
    }
   },
   "outputs": [
    {
     "data": {
      "text/plain": [
       "17 x 1 sparse Matrix of class \"dgCMatrix\"\n",
       "                      s1\n",
       "(Intercept) 108.07151350\n",
       "AtBat        -2.06209366\n",
       "Hits          6.90988701\n",
       "HmRun         .         \n",
       "Runs         -0.40485410\n",
       "RBI           0.45828223\n",
       "Walks         5.41016823\n",
       "Years        -7.27322629\n",
       "CAtBat       -0.06299832\n",
       "CHits         .         \n",
       "CHmRun        0.31105502\n",
       "CRuns         1.10806543\n",
       "CRBI          0.49929619\n",
       "CWalks       -0.66727263\n",
       "PutOuts       0.29197854\n",
       "Assists       0.28896443\n",
       "Errors       -2.37947168"
      ]
     },
     "metadata": {},
     "output_type": "display_data"
    }
   ],
   "source": [
    "lam = seq(0, 10, by = 0.01)\n",
    "modelo_lasso <- cv.glmnet(as.matrix(x), y, alpha = 1, lambda = lam)\n",
    "coef(modelo_lasso, s = \"lambda.min\")"
   ]
  },
  {
   "cell_type": "markdown",
   "metadata": {},
   "source": [
    "De las 17 variables iniciales, vemos que la regresión Ridge nos elimina 2: `HmRun` y `CHits`, por lo que estas resultan las menos relevantes a la hora de predecir `Salary`. Además, la variable `CAtBat` tiene un valor muy cercano a cero, por lo que en caso de querer reducir aún más la diemnsión, podría eliminarse. "
   ]
  },
  {
   "cell_type": "markdown",
   "metadata": {},
   "source": [
    "### PCA"
   ]
  },
  {
   "cell_type": "code",
   "execution_count": 19,
   "metadata": {
    "vscode": {
     "languageId": "r"
    }
   },
   "outputs": [
    {
     "name": "stdout",
     "output_type": "stream",
     "text": [
      "Hitters                  package:ISLR                  R Documentation\n",
      "\n",
      "_\bB_\ba_\bs_\be_\bb_\ba_\bl_\bl _\bD_\ba_\bt_\ba\n",
      "\n",
      "_\bD_\be_\bs_\bc_\br_\bi_\bp_\bt_\bi_\bo_\bn:\n",
      "\n",
      "     Major League Baseball Data from the 1986 and 1987 seasons.\n",
      "\n",
      "_\bU_\bs_\ba_\bg_\be:\n",
      "\n",
      "     Hitters\n",
      "     \n",
      "_\bF_\bo_\br_\bm_\ba_\bt:\n",
      "\n",
      "     A data frame with 322 observations of major league players on the\n",
      "     following 20 variables.\n",
      "\n",
      "     ‘AtBat’ Number of times at bat in 1986\n",
      "\n",
      "     ‘Hits’ Number of hits in 1986\n",
      "\n",
      "     ‘HmRun’ Number of home runs in 1986\n",
      "\n",
      "     ‘Runs’ Number of runs in 1986\n",
      "\n",
      "     ‘RBI’ Number of runs batted in in 1986\n",
      "\n",
      "     ‘Walks’ Number of walks in 1986\n",
      "\n",
      "     ‘Years’ Number of years in the major leagues\n",
      "\n",
      "     ‘CAtBat’ Number of times at bat during his career\n",
      "\n",
      "     ‘CHits’ Number of hits during his career\n",
      "\n",
      "     ‘CHmRun’ Number of home runs during his career\n",
      "\n",
      "     ‘CRuns’ Number of runs during his career\n",
      "\n",
      "     ‘CRBI’ Number of runs batted in during his career\n",
      "\n",
      "     ‘CWalks’ Number of walks during his career\n",
      "\n",
      "     ‘League’ A factor with levels ‘A’ and ‘N’ indicating player's\n",
      "          league at the end of 1986\n",
      "\n",
      "     ‘Division’ A factor with levels ‘E’ and ‘W’ indicating player's\n",
      "          division at the end of 1986\n",
      "\n",
      "     ‘PutOuts’ Number of put outs in 1986\n",
      "\n",
      "     ‘Assists’ Number of assists in 1986\n",
      "\n",
      "     ‘Errors’ Number of errors in 1986\n",
      "\n",
      "     ‘Salary’ 1987 annual salary on opening day in thousands of dollars\n",
      "\n",
      "     ‘NewLeague’ A factor with levels ‘A’ and ‘N’ indicating player's\n",
      "          league at the beginning of 1987\n",
      "\n",
      "_\bS_\bo_\bu_\br_\bc_\be:\n",
      "\n",
      "     This dataset was taken from the StatLib library which is\n",
      "     maintained at Carnegie Mellon University. This is part of the data\n",
      "     that was used in the 1988 ASA Graphics Section Poster Session. The\n",
      "     salary data were originally from Sports Illustrated, April 20,\n",
      "     1987. The 1986 and career statistics were obtained from The 1987\n",
      "     Baseball Encyclopedia Update published by Collier Books, Macmillan\n",
      "     Publishing Company, New York.\n",
      "\n",
      "_\bR_\be_\bf_\be_\br_\be_\bn_\bc_\be_\bs:\n",
      "\n",
      "     James, G., Witten, D., Hastie, T., and Tibshirani, R. (2013) _An\n",
      "     Introduction to Statistical Learning with applications in R_,\n",
      "     <https://www.statlearning.com>, Springer-Verlag, New York\n",
      "\n",
      "_\bE_\bx_\ba_\bm_\bp_\bl_\be_\bs:\n",
      "\n",
      "     summary(Hitters)\n",
      "     lm(Salary~AtBat+Hits,data=Hitters)\n",
      "     "
     ]
    }
   ],
   "source": [
    "help(Hitters)"
   ]
  },
  {
   "cell_type": "markdown",
   "metadata": {},
   "source": [
    "Las variables aquí usadas son adimensionales, pero presentan distinta media y varianza, por ello usaremos la matriz de correlación muestral para estandarizar los datos. "
   ]
  },
  {
   "cell_type": "code",
   "execution_count": 21,
   "metadata": {
    "vscode": {
     "languageId": "r"
    }
   },
   "outputs": [
    {
     "data": {
      "text/plain": [
       "Importance of components:\n",
       "                          Comp.1    Comp.2    Comp.3    Comp.4     Comp.5\n",
       "Standard deviation     2.7733967 2.0302601 1.3148557 0.9575410 0.84109683\n",
       "Proportion of Variance 0.4524547 0.2424680 0.1016968 0.0539344 0.04161435\n",
       "Cumulative Proportion  0.4524547 0.6949227 0.7966195 0.8505539 0.89216822\n",
       "                           Comp.6     Comp.7     Comp.8     Comp.9     Comp.10\n",
       "Standard deviation     0.72374220 0.69841796 0.50090065 0.42525940 0.363901982\n",
       "Proportion of Variance 0.03081193 0.02869339 0.01475891 0.01063797 0.007789685\n",
       "Cumulative Proportion  0.92298014 0.95167354 0.96643244 0.97707042 0.984860104\n",
       "                           Comp.11     Comp.12     Comp.13     Comp.14\n",
       "Standard deviation     0.312011679 0.243641510 0.232044829 0.163510472\n",
       "Proportion of Variance 0.005726546 0.003491834 0.003167341 0.001572687\n",
       "Cumulative Proportion  0.990586651 0.994078485 0.997245826 0.998818513\n",
       "                            Comp.15      Comp.16      Comp.17\n",
       "Standard deviation     0.1186398422 0.0693395039 3.466841e-02\n",
       "Proportion of Variance 0.0008279654 0.0002828216 7.069994e-05\n",
       "Cumulative Proportion  0.9996464785 0.9999293001 1.000000e+00"
      ]
     },
     "metadata": {},
     "output_type": "display_data"
    }
   ],
   "source": [
    "pca_hitters_muestral <- princomp(Hitters2, cor=TRUE)\n",
    "summary(pca_hitters_muestral)"
   ]
  },
  {
   "cell_type": "markdown",
   "metadata": {},
   "source": [
    "Vamos a fijar el criterio en un 95% de la varianza explicada. En este caso nos deberiamos quedar con las 7 primeras componentes según el *summary*. Según un *screeplot*, tenemos un codo cerca de la sexta-séptima componente principal. Con estos dos criterios, usar las 7 primeras componentes principales sugiere una buena representación de la variabilidad de los datos."
   ]
  },
  {
   "cell_type": "code",
   "execution_count": 24,
   "metadata": {
    "vscode": {
     "languageId": "r"
    }
   },
   "outputs": [
    {
     "data": {
      "image/png": "[encoded data removed]",
      "text/plain": [
       "Plot with title “Screeplot de los autovalores”"
      ]
     },
     "metadata": {
      "image/png": {
       "height": 420,
       "width": 420
      }
     },
     "output_type": "display_data"
    }
   ],
   "source": [
    "screeplot(pca_hitters_muestral, type = \"lines\", main=\"Screeplot de los autovalores\")"
   ]
  }
 ],
 "metadata": {
  "kernelspec": {
   "display_name": "R",
   "language": "R",
   "name": "ir"
  },
  "language_info": {
   "codemirror_mode": "r",
   "file_extension": ".r",
   "mimetype": "text/x-r-source",
   "name": "R",
   "pygments_lexer": "r",
   "version": "4.4.1"
  }
 },
 "nbformat": 4,
 "nbformat_minor": 2
}
