{
 "cells": [
  {
   "cell_type": "code",
   "execution_count": 18,
   "metadata": {
    "colab": {},
    "colab_type": "code",
    "id": "uBo3vZboq6OV"
   },
   "outputs": [
    {
     "name": "stdout",
     "output_type": "stream",
     "text": [
      "      topic                                 docId  correctness  \\\n",
      "0         1  0113bb03-2a3a-4602-9394-d2fe911b624a            0   \n",
      "1         1  015c98bf-8632-4537-9038-7bc3e128cb97            0   \n",
      "2         1  01e198e3-ec00-432d-92f0-cca8251db33d            0   \n",
      "3         1  02700110-5195-4cee-b584-8fe6d870e2dd            0   \n",
      "4         1  02fb6095-115b-4418-bb34-8b76cc65059c            0   \n",
      "...     ...                                   ...          ...   \n",
      "3490     25  fade068e-5598-4a5b-b194-fb90885c84a2            0   \n",
      "3491     25  fb6a1e79-37cf-4cbd-ad3f-48fa25dcf9ab            1   \n",
      "3492     25  fe95c08a-a416-44e9-b564-612daff46542            0   \n",
      "3493     25  fef130d2-df1f-480b-9d0f-d34c6b247ab6            0   \n",
      "3494     25  ff9410d8-b0d0-4cb0-bf3c-6d5801a12075            0   \n",
      "\n",
      "                                                passage  \n",
      "0     Tyler Perry Reveals Role Vitamin D Plays In Fi...  \n",
      "1     This is why you should include Vitamin C and Z...  \n",
      "2     Supplements for Coronavirus Probably Won’t Hel...  \n",
      "3     Coronavirus: Top ways to protect yourself from...  \n",
      "4     Coronavirus: It’s Time to Debunk Claims That V...  \n",
      "...                                                 ...  \n",
      "3490  Would COVID-19 end in summer?: The DONG-A ILBO...  \n",
      "3491  Coronavirus MORE POWERFUL than first thought a...  \n",
      "3492  Good News: Chinese Scientists have Proven that...  \n",
      "3493  Don't Count on Warmer Weather to Curb COVID-19...  \n",
      "3494  Researchers look at humidity as a weapon in th...  \n",
      "\n",
      "[3495 rows x 4 columns]\n"
     ]
    }
   ],
   "source": [
    "import pandas as pd \n",
    "import numpy as np\n",
    "\n",
    "gt = pd.read_csv('training_data.csv', sep=' ')\n",
    "print(gt)"
   ]
  },
  {
   "cell_type": "code",
   "execution_count": 19,
   "metadata": {},
   "outputs": [
    {
     "name": "stdout",
     "output_type": "stream",
     "text": [
      "      topic                                 docId  correctness\n",
      "0         1  0113bb03-2a3a-4602-9394-d2fe911b624a            0\n",
      "1         1  015c98bf-8632-4537-9038-7bc3e128cb97            0\n",
      "2         1  01e198e3-ec00-432d-92f0-cca8251db33d            0\n",
      "3         1  02700110-5195-4cee-b584-8fe6d870e2dd            0\n",
      "4         1  02fb6095-115b-4418-bb34-8b76cc65059c            0\n",
      "...     ...                                   ...          ...\n",
      "3490     25  fade068e-5598-4a5b-b194-fb90885c84a2            0\n",
      "3491     25  fb6a1e79-37cf-4cbd-ad3f-48fa25dcf9ab            0\n",
      "3492     25  fe95c08a-a416-44e9-b564-612daff46542            0\n",
      "3493     25  fef130d2-df1f-480b-9d0f-d34c6b247ab6            0\n",
      "3494     25  ff9410d8-b0d0-4cb0-bf3c-6d5801a12075            0\n",
      "\n",
      "[3495 rows x 3 columns]\n"
     ]
    }
   ],
   "source": [
    "prediction_file=\"random_predictions_for_training_data.csv\"\n",
    "prediction_file=\"all_ones_predictions_for_training_data.csv\"\n",
    "prediction_file=\"all_zeroes_predictions_for_training_data.csv\"\n",
    "\n",
    "\n",
    "preds = pd.read_csv(prediction_file, sep=' ')\n",
    "print(preds)\n"
   ]
  },
  {
   "cell_type": "code",
   "execution_count": 20,
   "metadata": {},
   "outputs": [
    {
     "name": "stdout",
     "output_type": "stream",
     "text": [
      "True Positives: 0, True Negatives: 1896, False Positives: 0, False Negatives: 1599\n",
      "Accuracy: 0.542489270386266\n"
     ]
    }
   ],
   "source": [
    "tpos=0\n",
    "tneg=0\n",
    "fpos=0\n",
    "fneg=0\n",
    "\n",
    "\n",
    "for index, row in gt.iterrows():\n",
    "    #print(f\"Index: {index}\")\n",
    "    \n",
    "    gtID = row['docId']\n",
    "    gtlabel = row['correctness']\n",
    "    gttopic = row['topic']\n",
    "    \n",
    "    tpreds = preds.loc[preds['topic'] == gttopic] #focus on the current topic  \n",
    "\n",
    "   \n",
    "    #search for the ID in the prediction file\n",
    "    filtered_df = tpreds[tpreds['docId'].str.contains(gtID, case=False, na=False)]\n",
    "    \n",
    "    hits=len(filtered_df) \n",
    "      \n",
    "    if (hits != 1):\n",
    "        print(f\"Error, el fichero de predicciones contiene más de una fila (o ninguna) para algún identificador ({gtID} - {hits} hits)\")\n",
    "        break\n",
    "      \n",
    "    prediction_label = filtered_df.iloc[0]['correctness']\n",
    "\n",
    "    if (gtlabel == 1):\n",
    "        if (prediction_label == 1):\n",
    "            tpos += 1\n",
    "        else:\n",
    "            fneg += 1\n",
    "    else:\n",
    "        if (prediction_label == 1):\n",
    "            fpos += 1\n",
    "        else:\n",
    "            tneg += 1\n",
    "            \n",
    "    \n",
    "    \n",
    "print(f\"True Positives: {tpos}, True Negatives: {tneg}, False Positives: {fpos}, False Negatives: {fneg}\")  \n",
    "\n",
    "acc = (tpos+tneg)/(tpos+tneg+fpos+fneg)\n",
    "\n",
    "print(f\"Accuracy: {acc}\")  \n",
    "\n"
   ]
  },
  {
   "cell_type": "code",
   "execution_count": null,
   "metadata": {},
   "outputs": [],
   "source": []
  },
  {
   "cell_type": "code",
   "execution_count": null,
   "metadata": {},
   "outputs": [],
   "source": []
  }
 ],
 "metadata": {
  "colab": {
   "authorship_tag": "ABX9TyOd1cR6wgry2WT3LoChanQf",
   "collapsed_sections": [],
   "name": "Untitled0.ipynb",
   "provenance": []
  },
  "kernelspec": {
   "display_name": "Python 3 (ipykernel)",
   "language": "python",
   "name": "python3"
  },
  "language_info": {
   "codemirror_mode": {
    "name": "ipython",
    "version": 3
   },
   "file_extension": ".py",
   "mimetype": "text/x-python",
   "name": "python",
   "nbconvert_exporter": "python",
   "pygments_lexer": "ipython3",
   "version": "3.11.5"
  }
 },
 "nbformat": 4,
 "nbformat_minor": 1
}
