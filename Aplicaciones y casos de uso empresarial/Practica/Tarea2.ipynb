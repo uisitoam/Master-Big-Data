{
 "cells": [
  {
   "cell_type": "code",
   "execution_count": 19,
   "metadata": {
    "vscode": {
     "languageId": "r"
    }
   },
   "outputs": [
    {
     "data": {
      "text/html": [
       "<table class=\"dataframe\">\n",
       "<caption>A tibble: 2 x 11</caption>\n",
       "<thead>\n",
       "\t<tr><th scope=col>ID CLIENTE</th><th scope=col>Leche Pascual</th><th scope=col>Leche FROIZ</th><th scope=col>Pan</th><th scope=col>Mantequilla</th><th scope=col>Cerveza</th><th scope=col>Lechuga</th><th scope=col>Filetes Ternera (pack  1 kg)</th><th scope=col>Filetes Cerdo (pack 1 kg)</th><th scope=col>Pizza Tarradellas</th><th scope=col>Pizza FROIZ</th></tr>\n",
       "\t<tr><th scope=col>&lt;dbl&gt;</th><th scope=col>&lt;dbl&gt;</th><th scope=col>&lt;dbl&gt;</th><th scope=col>&lt;dbl&gt;</th><th scope=col>&lt;dbl&gt;</th><th scope=col>&lt;dbl&gt;</th><th scope=col>&lt;dbl&gt;</th><th scope=col>&lt;dbl&gt;</th><th scope=col>&lt;dbl&gt;</th><th scope=col>&lt;dbl&gt;</th><th scope=col>&lt;dbl&gt;</th></tr>\n",
       "</thead>\n",
       "<tbody>\n",
       "\t<tr><td>130</td><td>0</td><td>6</td><td>1</td><td>1</td><td>6</td><td>0</td><td>0</td><td>0</td><td>1</td><td>0</td></tr>\n",
       "\t<tr><td>160</td><td>6</td><td>0</td><td>2</td><td>0</td><td>0</td><td>1</td><td>1</td><td>0</td><td>4</td><td>0</td></tr>\n",
       "</tbody>\n",
       "</table>\n"
      ],
      "text/latex": [
       "A tibble: 2 x 11\n",
       "\\begin{tabular}{lllllllllll}\n",
       " ID CLIENTE & Leche Pascual & Leche FROIZ & Pan & Mantequilla & Cerveza & Lechuga & Filetes Ternera (pack  1 kg) & Filetes Cerdo (pack 1 kg) & Pizza Tarradellas & Pizza FROIZ\\\\\n",
       " <dbl> & <dbl> & <dbl> & <dbl> & <dbl> & <dbl> & <dbl> & <dbl> & <dbl> & <dbl> & <dbl>\\\\\n",
       "\\hline\n",
       "\t 130 & 0 & 6 & 1 & 1 & 6 & 0 & 0 & 0 & 1 & 0\\\\\n",
       "\t 160 & 6 & 0 & 2 & 0 & 0 & 1 & 1 & 0 & 4 & 0\\\\\n",
       "\\end{tabular}\n"
      ],
      "text/markdown": [
       "\n",
       "A tibble: 2 x 11\n",
       "\n",
       "| ID CLIENTE &lt;dbl&gt; | Leche Pascual &lt;dbl&gt; | Leche FROIZ &lt;dbl&gt; | Pan &lt;dbl&gt; | Mantequilla &lt;dbl&gt; | Cerveza &lt;dbl&gt; | Lechuga &lt;dbl&gt; | Filetes Ternera (pack  1 kg) &lt;dbl&gt; | Filetes Cerdo (pack 1 kg) &lt;dbl&gt; | Pizza Tarradellas &lt;dbl&gt; | Pizza FROIZ &lt;dbl&gt; |\n",
       "|---|---|---|---|---|---|---|---|---|---|---|\n",
       "| 130 | 0 | 6 | 1 | 1 | 6 | 0 | 0 | 0 | 1 | 0 |\n",
       "| 160 | 6 | 0 | 2 | 0 | 0 | 1 | 1 | 0 | 4 | 0 |\n",
       "\n"
      ],
      "text/plain": [
       "  ID CLIENTE Leche Pascual Leche FROIZ Pan Mantequilla Cerveza Lechuga\n",
       "1 130        0             6           1   1           6       0      \n",
       "2 160        6             0           2   0           0       1      \n",
       "  Filetes Ternera (pack  1 kg) Filetes Cerdo (pack 1 kg) Pizza Tarradellas\n",
       "1 0                            0                         1                \n",
       "2 1                            0                         4                \n",
       "  Pizza FROIZ\n",
       "1 0          \n",
       "2 0          "
      ]
     },
     "metadata": {},
     "output_type": "display_data"
    }
   ],
   "source": [
    "# Cargar las librerías necesarias\n",
    "library(readxl)\n",
    "library(dplyr)\n",
    "\n",
    "# 1. Lectura del dataset\n",
    "compras <- read_excel(\"./Datos/MO_dataset_compras.xlsx\")\n",
    "\n",
    "# eliminar columnas que contengan \"Precio\", \"ID\" o \"TIPO\"\n",
    "compras_filtradas <- compras %>% \n",
    "    select(-contains(\"Precio\"), -\"ID COMPRA\", -contains(\"TIPO\")) %>% \n",
    "    filter(`ID CLIENTE` %in% c(130, 160))\n",
    "\n",
    "\n",
    "head(compras_filtradas)"
   ]
  },
  {
   "cell_type": "code",
   "execution_count": 21,
   "metadata": {
    "vscode": {
     "languageId": "r"
    }
   },
   "outputs": [
    {
     "data": {
      "text/html": [
       "<table class=\"dataframe\">\n",
       "<caption>A tibble: 2 x 11</caption>\n",
       "<thead>\n",
       "\t<tr><th scope=col>ID CLIENTE</th><th scope=col>Leche Pascual</th><th scope=col>Leche FROIZ</th><th scope=col>Pan</th><th scope=col>Mantequilla</th><th scope=col>Cerveza</th><th scope=col>Lechuga</th><th scope=col>Filetes Ternera (pack  1 kg)</th><th scope=col>Filetes Cerdo (pack 1 kg)</th><th scope=col>Pizza Tarradellas</th><th scope=col>Pizza FROIZ</th></tr>\n",
       "\t<tr><th scope=col>&lt;dbl&gt;</th><th scope=col>&lt;dbl&gt;</th><th scope=col>&lt;dbl&gt;</th><th scope=col>&lt;dbl&gt;</th><th scope=col>&lt;dbl&gt;</th><th scope=col>&lt;dbl&gt;</th><th scope=col>&lt;dbl&gt;</th><th scope=col>&lt;dbl&gt;</th><th scope=col>&lt;dbl&gt;</th><th scope=col>&lt;dbl&gt;</th><th scope=col>&lt;dbl&gt;</th></tr>\n",
       "</thead>\n",
       "<tbody>\n",
       "\t<tr><td>130</td><td>0.0000000</td><td>0.4</td><td>0.06666667</td><td>0.06666667</td><td>0.4</td><td>0.00000000</td><td>0.00000000</td><td>0</td><td>0.06666667</td><td>0</td></tr>\n",
       "\t<tr><td>160</td><td>0.4285714</td><td>0.0</td><td>0.14285714</td><td>0.00000000</td><td>0.0</td><td>0.07142857</td><td>0.07142857</td><td>0</td><td>0.28571429</td><td>0</td></tr>\n",
       "</tbody>\n",
       "</table>\n"
      ],
      "text/latex": [
       "A tibble: 2 x 11\n",
       "\\begin{tabular}{lllllllllll}\n",
       " ID CLIENTE & Leche Pascual & Leche FROIZ & Pan & Mantequilla & Cerveza & Lechuga & Filetes Ternera (pack  1 kg) & Filetes Cerdo (pack 1 kg) & Pizza Tarradellas & Pizza FROIZ\\\\\n",
       " <dbl> & <dbl> & <dbl> & <dbl> & <dbl> & <dbl> & <dbl> & <dbl> & <dbl> & <dbl> & <dbl>\\\\\n",
       "\\hline\n",
       "\t 130 & 0.0000000 & 0.4 & 0.06666667 & 0.06666667 & 0.4 & 0.00000000 & 0.00000000 & 0 & 0.06666667 & 0\\\\\n",
       "\t 160 & 0.4285714 & 0.0 & 0.14285714 & 0.00000000 & 0.0 & 0.07142857 & 0.07142857 & 0 & 0.28571429 & 0\\\\\n",
       "\\end{tabular}\n"
      ],
      "text/markdown": [
       "\n",
       "A tibble: 2 x 11\n",
       "\n",
       "| ID CLIENTE &lt;dbl&gt; | Leche Pascual &lt;dbl&gt; | Leche FROIZ &lt;dbl&gt; | Pan &lt;dbl&gt; | Mantequilla &lt;dbl&gt; | Cerveza &lt;dbl&gt; | Lechuga &lt;dbl&gt; | Filetes Ternera (pack  1 kg) &lt;dbl&gt; | Filetes Cerdo (pack 1 kg) &lt;dbl&gt; | Pizza Tarradellas &lt;dbl&gt; | Pizza FROIZ &lt;dbl&gt; |\n",
       "|---|---|---|---|---|---|---|---|---|---|---|\n",
       "| 130 | 0.0000000 | 0.4 | 0.06666667 | 0.06666667 | 0.4 | 0.00000000 | 0.00000000 | 0 | 0.06666667 | 0 |\n",
       "| 160 | 0.4285714 | 0.0 | 0.14285714 | 0.00000000 | 0.0 | 0.07142857 | 0.07142857 | 0 | 0.28571429 | 0 |\n",
       "\n"
      ],
      "text/plain": [
       "  ID CLIENTE Leche Pascual Leche FROIZ Pan        Mantequilla Cerveza\n",
       "1 130        0.0000000     0.4         0.06666667 0.06666667  0.4    \n",
       "2 160        0.4285714     0.0         0.14285714 0.00000000  0.0    \n",
       "  Lechuga    Filetes Ternera (pack  1 kg) Filetes Cerdo (pack 1 kg)\n",
       "1 0.00000000 0.00000000                   0                        \n",
       "2 0.07142857 0.07142857                   0                        \n",
       "  Pizza Tarradellas Pizza FROIZ\n",
       "1 0.06666667        0          \n",
       "2 0.28571429        0          "
      ]
     },
     "metadata": {},
     "output_type": "display_data"
    }
   ],
   "source": [
    "compras_filtradas <- compras_filtradas %>%\n",
    "  # Calcular el total de la fila excluyendo \"ID CLIENTE\"\n",
    "  mutate(total = rowSums(select(., -`ID CLIENTE`), na.rm = TRUE)) %>%\n",
    "  # Dividir cada valor de los productos entre el total\n",
    "  mutate(across(-c(`ID CLIENTE`, total), ~ . / total)) %>%\n",
    "  select(-total)\n",
    "\n",
    "head(compras_filtradas)"
   ]
  },
  {
   "cell_type": "code",
   "execution_count": null,
   "metadata": {
    "vscode": {
     "languageId": "r"
    }
   },
   "outputs": [
    {
     "ename": "ERROR",
     "evalue": "\u001b[1m\u001b[33mError\u001b[39m in `filter()`:\u001b[22m\n\u001b[1m\u001b[22m\u001b[36mi\u001b[39m In argument: `Usuario %in% c(130, 160)`.\n\u001b[1mCaused by error:\u001b[22m\n\u001b[33m!\u001b[39m objeto 'Usuario' no encontrado\n",
     "output_type": "error",
     "traceback": [
      "\u001b[1m\u001b[33mError\u001b[39m in `filter()`:\u001b[22m\n\u001b[1m\u001b[22m\u001b[36mi\u001b[39m In argument: `Usuario %in% c(130, 160)`.\n\u001b[1mCaused by error:\u001b[22m\n\u001b[33m!\u001b[39m objeto 'Usuario' no encontrado\nTraceback:\n",
      "1. compras %>% filter(Usuario %in% c(130, 160))",
      "2. filter(., Usuario %in% c(130, 160))",
      "3. filter.data.frame(., Usuario %in% c(130, 160))",
      "4. filter_rows(.data, dots, by)",
      "5. filter_eval(dots, mask = mask, error_call = error_call, user_env = user_env)",
      "6. withCallingHandlers(mask$eval_all_filter(dots, env_filter), error = dplyr_error_handler(dots = dots, \n .     mask = mask, bullets = filter_bullets, error_call = error_call), \n .     warning = function(cnd) {\n .         local_error_context(dots, i, mask)\n .         warning_handler(cnd)\n .     }, `dplyr:::signal_filter_one_column_matrix` = function(e) {\n .         warn_filter_one_column_matrix(env = error_call, user_env = user_env)\n .     }, `dplyr:::signal_filter_across` = function(e) {\n .         warn_filter_across(env = error_call, user_env = user_env)\n .     }, `dplyr:::signal_filter_data_frame` = function(e) {\n .         warn_filter_data_frame(env = error_call, user_env = user_env)\n .     })",
      "7. mask$eval_all_filter(dots, env_filter)",
      "8. eval()",
      "9. Usuario %in% c(130, 160)",
      "10. .handleSimpleError(function (cnd) \n  . {\n  .     local_error_context(dots, i = frame[[i_sym]], mask = mask)\n  .     if (inherits(cnd, \"dplyr:::internal_error\")) {\n  .         parent <- error_cnd(message = bullets(cnd))\n  .     }\n  .     else {\n  .         parent <- cnd\n  .     }\n  .     message <- c(cnd_bullet_header(action), i = if (has_active_group_context(mask)) cnd_bullet_cur_group_label())\n  .     abort(message, class = error_class, parent = parent, call = error_call)\n  . }, \"objeto 'Usuario' no encontrado\", base::quote(NULL))",
      "11. h(simpleError(msg, call))",
      "12. abort(message, class = error_class, parent = parent, call = error_call)",
      "13. signal_abort(cnd, .file)"
     ]
    }
   ],
   "source": [
    "\n",
    "# Resumir el total comprado por categoría para cada usuario\n",
    "vector_preferencias <- usuarios_interes %>% \n",
    "  group_by(Usuario, Categoria) %>% \n",
    "  summarise(Total = sum(Cantidad, na.rm = TRUE)) %>% \n",
    "  arrange(Usuario, desc(Total))\n",
    "\n",
    "cat(\"Vector de preferencias de los usuarios 130 y 160:\\n\")\n",
    "print(vector_preferencias)\n",
    "\n",
    "# 3. Para cada usuario, se genera una oferta de descuento personalizada.\n",
    "# asumimos que se premiará con descuento la categoría que más compran.\n",
    "ofertas <- vector_preferencias %>% \n",
    "  group_by(Usuario) %>% \n",
    "  slice(1) %>%  # tomar la categoría con mayor cantidad\n",
    "  ungroup() %>% \n",
    "  mutate(Oferta = paste(\"Descuento especial del 10% en la categoría\", Categoria, \n",
    "                          \"- ¡Aprovecha en tu próxima compra!\"))\n",
    "\n",
    "cat(\"\\nOferta de descuento personalizada para cada usuario:\\n\")\n",
    "print(ofertas)"
   ]
  },
  {
   "cell_type": "markdown",
   "metadata": {},
   "source": [
    "4. Recomendaciones para la gerencia del supermercado:\n",
    "A partir del análisis de las preferencias, se podrían plantear las siguientes sugerencias:\n",
    "\n",
    "- Ubicar en un punto estratégico del supermercado los productos de las categorías con mayor demanda, para facilitar el acceso y aumentar las compras impulsivas.\n",
    "- Si se observan combinaciones frecuentes (por ejemplo, aquellos que compran \"Lácteos\" también compran \"Panadería\"), se debe considerar agrupar estas secciones para potenciar la venta cruzada.\n",
    "- Realizar campañas dirigidas, destacando en señalética o en promociones, aquellas categorías con mayor preferencia, aprovechando la lealtad de segmentos específicos.\n",
    "\n",
    "Se recomienda entregar esta información a la gerencia junto con gráficos y análisis visuales (por ejemplo, histogramas o mapas de calor) que respalden las decisiones de reubicación de productos."
   ]
  },
  {
   "cell_type": "code",
   "execution_count": null,
   "metadata": {
    "vscode": {
     "languageId": "r"
    }
   },
   "outputs": [],
   "source": [
    "cat(\"\\nRecomendaciones para la gerencia:\\n\")\n",
    "cat(\"1. Ubicar estratégicamente los productos de las categorías más demandadas, ya que estos\\n\")\n",
    "cat(\"   generan mayor volumen de compras y podrían incentivar la venta de productos complementarios.\\n\")\n",
    "cat(\"2. Considerar el agrupamiento de categorías que se compran de manera conjunta para\\n\")\n",
    "cat(\"   facilitar la experiencia de compra y aumentar el ticket promedio.\\n\")\n",
    "cat(\"3. Impulsar campañas promocionales sobre las categorías preferidas, aprovechando las\\n\")\n",
    "cat(\"   ofertas personalizadas para fidelizar clientes.\\n\")"
   ]
  }
 ],
 "metadata": {
  "kernelspec": {
   "display_name": "R",
   "language": "R",
   "name": "ir"
  },
  "language_info": {
   "codemirror_mode": "r",
   "file_extension": ".r",
   "mimetype": "text/x-r-source",
   "name": "R",
   "pygments_lexer": "r",
   "version": "4.4.1"
  }
 },
 "nbformat": 4,
 "nbformat_minor": 2
}
