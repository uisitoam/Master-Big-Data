{
 "cells": [
  {
   "cell_type": "code",
   "execution_count": 4,
   "metadata": {},
   "outputs": [
    {
     "name": "stdout",
     "output_type": "stream",
     "text": [
      "Similitud coseno: 0.8944271909999157, 0.44721359549995787, 0.8944271909999157\n",
      "Distancia euclídea: 0.6, 0.42857142857142855, 0.6\n"
     ]
    }
   ],
   "source": [
    "import numpy as np\n",
    "\n",
    "v1 = np.array([1, 0, 1, 0])\n",
    "v2 = np.array([0, 1, 0, 1])\n",
    "vn = np.array([1, 0, 1, 0])\n",
    "\n",
    "usuario = np.array([2/3, 1/3, 2/3, 1/3])\n",
    "\n",
    "def similitud_coseno(a, b):\n",
    "    return np.dot(a, b) / (np.linalg.norm(a) * np.linalg.norm(b))\n",
    "\n",
    "def similitud_euclidea(a, b):\n",
    "    return 1/(1 + np.linalg.norm(a - b))\n",
    "\n",
    "sim1 = similitud_coseno(v1, usuario)\n",
    "sim2 = similitud_coseno(v2, usuario)\n",
    "simn = similitud_coseno(vn, usuario)\n",
    "\n",
    "dist1 = similitud_euclidea(v1, usuario)\n",
    "dist2 = similitud_euclidea(v2, usuario)\n",
    "distn = similitud_euclidea(vn, usuario)\n",
    "\n",
    "print(f\"Similitud coseno: {sim1}, {sim2}, {simn}\")\n",
    "print(f\"Distancia euclídea: {dist1}, {dist2}, {distn}\")"
   ]
  },
  {
   "cell_type": "code",
   "execution_count": 2,
   "metadata": {},
   "outputs": [
    {
     "name": "stdout",
     "output_type": "stream",
     "text": [
      "Tabla de calificaciones:\n",
      "       Item1  Item2  Item3  Item4\n",
      "Alice      5      3      4      4\n",
      "User1      3      1      2      3\n",
      "User2      4      3      4      3\n",
      "User3      3      3      1      5\n",
      "User4      1      5      5      2\n",
      "\n",
      "Coeficiente de correlación de Pearson entre Alice y cada usuario:\n",
      "User1: 0.853\n",
      "User2: 0.707\n",
      "User3: 0.000\n",
      "User4: -0.792\n"
     ]
    }
   ],
   "source": [
    "import pandas as pd\n",
    "import numpy as np\n",
    "\n",
    "# Crear la tabla\n",
    "# En este ejemplo, se omite la fila duplicada \"Alice basda en usuarios\" y se considera solo una fila para Alice.\n",
    "# Se reemplaza la \"?\" por NaN (valor faltante)\n",
    "data = {\n",
    "    'Item1': [5, 3, 4, 3, 1],\n",
    "    'Item2': [3, 1, 3, 3, 5],\n",
    "    'Item3': [4, 2, 4, 1, 5],\n",
    "    'Item4': [4, 3, 3, 5, 2]\n",
    "}\n",
    "\n",
    "# Índices: la primera fila corresponde a Alice, las siguientes a User1, User2, User3 y User4\n",
    "df = pd.DataFrame(data, index=['Alice', 'User1', 'User2', 'User3', 'User4'])\n",
    "print(\"Tabla de calificaciones:\")\n",
    "print(df)\n",
    "\n",
    "\n",
    "# Calcular el coeficiente de correlación de Pearson entre Alice y cada usuario\n",
    "alice_ratings = df.loc['Alice', ['Item1', 'Item2', 'Item3', 'Item4']]\n",
    "\n",
    "# Crear una tabla para guardar las correlaciones\n",
    "correlations = {}\n",
    "\n",
    "for user in df.index[1:]:\n",
    "    user_ratings = df.loc[user, ['Item1', 'Item2', 'Item3', 'Item4']]\n",
    "    corr = alice_ratings.corr(user_ratings)\n",
    "    correlations[user] = corr\n",
    "\n",
    "print(\"\\nCoeficiente de correlación de Pearson entre Alice y cada usuario:\")\n",
    "for user, corr in correlations.items():\n",
    "    print(f\"{user}: {corr:.3f}\")"
   ]
  }
 ],
 "metadata": {
  "kernelspec": {
   "display_name": ".venv",
   "language": "python",
   "name": "python3"
  },
  "language_info": {
   "codemirror_mode": {
    "name": "ipython",
    "version": 3
   },
   "file_extension": ".py",
   "mimetype": "text/x-python",
   "name": "python",
   "nbconvert_exporter": "python",
   "pygments_lexer": "ipython3",
   "version": "3.11.9"
  }
 },
 "nbformat": 4,
 "nbformat_minor": 2
}
