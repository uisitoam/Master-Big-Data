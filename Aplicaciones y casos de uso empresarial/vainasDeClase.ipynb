{
 "cells": [
  {
   "cell_type": "code",
   "execution_count": 4,
   "metadata": {},
   "outputs": [
    {
     "name": "stdout",
     "output_type": "stream",
     "text": [
      "Similitud coseno: 0.8944271909999157, 0.44721359549995787, 0.8944271909999157\n",
      "Distancia euclídea: 0.6, 0.42857142857142855, 0.6\n"
     ]
    }
   ],
   "source": [
    "import numpy as np\n",
    "\n",
    "v1 = np.array([1, 0, 1, 0])\n",
    "v2 = np.array([0, 1, 0, 1])\n",
    "vn = np.array([1, 0, 1, 0])\n",
    "\n",
    "usuario = np.array([2/3, 1/3, 2/3, 1/3])\n",
    "\n",
    "def similitud_coseno(a, b):\n",
    "    return np.dot(a, b) / (np.linalg.norm(a) * np.linalg.norm(b))\n",
    "\n",
    "def similitud_euclidea(a, b):\n",
    "    return 1/(1 + np.linalg.norm(a - b))\n",
    "\n",
    "sim1 = similitud_coseno(v1, usuario)\n",
    "sim2 = similitud_coseno(v2, usuario)\n",
    "simn = similitud_coseno(vn, usuario)\n",
    "\n",
    "dist1 = similitud_euclidea(v1, usuario)\n",
    "dist2 = similitud_euclidea(v2, usuario)\n",
    "distn = similitud_euclidea(vn, usuario)\n",
    "\n",
    "print(f\"Similitud coseno: {sim1}, {sim2}, {simn}\")\n",
    "print(f\"Distancia euclídea: {dist1}, {dist2}, {distn}\")"
   ]
  }
 ],
 "metadata": {
  "kernelspec": {
   "display_name": ".venv",
   "language": "python",
   "name": "python3"
  },
  "language_info": {
   "codemirror_mode": {
    "name": "ipython",
    "version": 3
   },
   "file_extension": ".py",
   "mimetype": "text/x-python",
   "name": "python",
   "nbconvert_exporter": "python",
   "pygments_lexer": "ipython3",
   "version": "3.11.9"
  }
 },
 "nbformat": 4,
 "nbformat_minor": 2
}
