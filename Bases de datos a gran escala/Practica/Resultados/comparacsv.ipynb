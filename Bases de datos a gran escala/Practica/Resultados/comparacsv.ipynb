{
 "cells": [
  {
   "cell_type": "code",
   "execution_count": 5,
   "metadata": {},
   "outputs": [
    {
     "name": "stdout",
     "output_type": "stream",
     "text": [
      "todo okey maquina\n"
     ]
    }
   ],
   "source": [
    "import pandas as pd\n",
    "import numpy as np\n",
    "\n",
    "def comparar_csv(archivo1, archivo2):\n",
    "    try:\n",
    "        # Leer los archivos CSV\n",
    "        df1 = pd.read_csv(archivo1)\n",
    "        df2 = pd.read_csv(archivo2)\n",
    "        \n",
    "        # Verificar si tienen las mismas dimensiones\n",
    "        if df1.shape != df2.shape:\n",
    "            return f\"Los archivos tienen diferentes dimensiones:\\n{archivo1}: {df1.shape}\\n{archivo2}: {df2.shape}\"\n",
    "        \n",
    "        # Verificar si tienen las mismas columnas\n",
    "        if set(df1.columns) != set(df2.columns):\n",
    "            return f\"Los archivos tienen diferentes columnas:\\n{archivo1}: {list(df1.columns)}\\n{archivo2}: {list(df2.columns)}\"\n",
    "        \n",
    "        # Ordenar ambos DataFrames por todas las columnas\n",
    "        df1_sorted = df1.sort_values(by=list(df1.columns)).reset_index(drop=True)\n",
    "        df2_sorted = df2.sort_values(by=list(df2.columns)).reset_index(drop=True)\n",
    "        \n",
    "        # Comparar los DataFrames ordenados\n",
    "        diferencias = []\n",
    "        for columna in df1.columns:\n",
    "            mask = df1_sorted[columna] != df2_sorted[columna]\n",
    "            if mask.any():\n",
    "                for idx in mask[mask].index:\n",
    "                    diferencias.append(f\"Fila {idx}, Columna '{columna}':\\n\"\n",
    "                                    f\"{archivo1}: {df1_sorted.loc[idx, columna]}\\n\"\n",
    "                                    f\"{archivo2}: {df2_sorted.loc[idx, columna]}\")\n",
    "        \n",
    "        if diferencias:\n",
    "            return \"Diferencias encontradas:\\n\" + \"\\n\\n\".join(diferencias)\n",
    "        else:\n",
    "            return \"todo okey maquina\"\n",
    "            \n",
    "    except FileNotFoundError as e:\n",
    "        return f\"Error: No se encontró el archivo - {e}\"\n",
    "    except Exception as e:\n",
    "        return f\"Error inesperado: {e}\"\n",
    "\n",
    "if __name__ == \"__main__\":\n",
    "    archivo1 = '/Users/luisi/Documents/Master-Big-Data/Bases de datos a gran escala/Practica/Resultados/csvs/q5_relacional.csv'\n",
    "    archivo2 = '/Users/luisi/Documents/Master-Big-Data/Bases de datos a gran escala/Practica/Resultados/csvs/q5_neo4j.csv'\n",
    "    \n",
    "    resultado = comparar_csv(archivo1, archivo2)\n",
    "    print(resultado)"
   ]
  }
 ],
 "metadata": {
  "kernelspec": {
   "display_name": "Python 3",
   "language": "python",
   "name": "python3"
  },
  "language_info": {
   "codemirror_mode": {
    "name": "ipython",
    "version": 3
   },
   "file_extension": ".py",
   "mimetype": "text/x-python",
   "name": "python",
   "nbconvert_exporter": "python",
   "pygments_lexer": "ipython3",
   "version": "3.11.9"
  }
 },
 "nbformat": 4,
 "nbformat_minor": 2
}
