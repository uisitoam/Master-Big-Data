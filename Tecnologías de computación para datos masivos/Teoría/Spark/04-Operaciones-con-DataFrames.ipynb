{
 "cells": [
  {
   "cell_type": "markdown",
   "metadata": {},
   "source": [
    "## Operaciones con DataFrames\n",
    "Veremos distintas operaciones que se pueden hacer con los DataFrames:\n",
    "\n",
    "  - Filtrado de filas\n",
    "  - Ordenación y agrupamiento\n",
    "  - Joins\n",
    "  - Funciones escalares y agregados\n",
    "  - Manejo de tipos complejos\n",
    "  - Funciones de ventana\n",
    "  - Funciones definidas por el usuario\n",
    " \n",
    "Acabaremos viendo como usar consultas SQL sobre DataFrames\n",
    "  "
   ]
  },
  {
   "cell_type": "code",
   "execution_count": 21,
   "metadata": {},
   "outputs": [],
   "source": [
    "from pyspark import SparkContext\n",
    "from pyspark.sql import SparkSession\n",
    "import os\n",
    "\n",
    "# Elegir el máster de Spark dependiendo de si se ha definido la variable de entorno HADOOP_CONF_DIR o YARN_CONF_DIR\n",
    "SPARK_MASTER: str = 'local[*]'\n",
    "if 'HADOOP_CONF_DIR' in os.environ or 'YARN_CONF_DIR' in os.environ:\n",
    "  SPARK_MASTER = 'yarn'\n",
    "\n",
    "# Creamos un objeto SparkSession (o lo obtenemos si ya está creado)\n",
    "spark: SparkSession = SparkSession \\\n",
    "  .builder \\\n",
    "  .appName(\"Mi aplicacion\") \\\n",
    "  .config(\"spark.rdd.compress\", \"true\") \\\n",
    "  .config(\"spark.executor.memory\", \"3g\") \\\n",
    "  .config(\"spark.driver.memory\", \"3g\") \\\n",
    "  .master(SPARK_MASTER) \\\n",
    "  .getOrCreate()\n",
    "\n",
    "sc: SparkContext = spark.sparkContext"
   ]
  },
  {
   "cell_type": "code",
   "execution_count": 22,
   "metadata": {},
   "outputs": [
    {
     "name": "stderr",
     "output_type": "stream",
     "text": [
      "Clonando en '/tmp/tcdm-public'...\n"
     ]
    }
   ],
   "source": [
    "%%sh\n",
    "rm -rf /tmp/tcdm-public\n",
    "git clone -b 24-25 --single-branch --depth 1 https://github.com/dsevilla/tcdm-public.git /tmp/tcdm-public"
   ]
  },
  {
   "cell_type": "code",
   "execution_count": 23,
   "metadata": {
    "autoscroll": "auto"
   },
   "outputs": [
    {
     "name": "stderr",
     "output_type": "stream",
     "text": [
      "24/11/12 17:00:20 WARN CacheManager: Asked to cache already cached data.\n"
     ]
    },
    {
     "data": {
      "text/plain": [
       "DataFrame[Id: int, AcceptedAnswerId: int, AnswerCount: int, Body: string, ClosedDate: timestamp, CommentCount: int, CommunityOwnedDate: timestamp, ContentLicense: string, Fecha_de_creación: timestamp, FavoriteCount: int, LastActivityDate: timestamp, LastEditDate: timestamp, LastEditorDisplayName: string, LastEditorUserId: int, OwnerDisplayName: string, OwnerUserId: int, ParentId: int, PostTypeId: int, Score: int, Tags: string, Title: string, ViewCount: int]"
      ]
     },
     "execution_count": 23,
     "metadata": {},
     "output_type": "execute_result"
    }
   ],
   "source": [
    "# Recupero el DataFrame leyéndolo del formato parquet\n",
    "from pyspark.sql.dataframe import DataFrame\n",
    "\n",
    "dfSE: DataFrame = spark.read\\\n",
    "            .format(\"parquet\")\\\n",
    "            .option(\"mode\", \"FAILFAST\")\\\n",
    "            .load(\"/tmp/tcdm-public/datos/dfSE.parquet\")\n",
    "dfSE.cache()"
   ]
  },
  {
   "cell_type": "code",
   "execution_count": 24,
   "metadata": {
    "autoscroll": "auto"
   },
   "outputs": [
    {
     "name": "stdout",
     "output_type": "stream",
     "text": [
      "+------+----------------+-----------+--------------------+----------+------------+------------------+--------------+--------------------+-------------+--------------------+--------------------+---------------------+----------------+----------------+-----------+--------+----------+-----+--------------------+--------------------+---------+\n",
      "|    Id|AcceptedAnswerId|AnswerCount|                Body|ClosedDate|CommentCount|CommunityOwnedDate|ContentLicense|   Fecha_de_creación|FavoriteCount|    LastActivityDate|        LastEditDate|LastEditorDisplayName|LastEditorUserId|OwnerDisplayName|OwnerUserId|ParentId|PostTypeId|Score|                Tags|               Title|ViewCount|\n",
      "+------+----------------+-----------+--------------------+----------+------------+------------------+--------------+--------------------+-------------+--------------------+--------------------+---------------------+----------------+----------------+-----------+--------+----------+-----+--------------------+--------------------+---------+\n",
      "|379389|          379397|          1|<p>soy principian...|      NULL|           0|              NULL|  CC BY-SA 4.0|2020-08-03 19:45:...|         NULL|2020-08-03 20:41:...|                NULL|                 NULL|            NULL|            NULL|     146078|    NULL|         1|    0|      <array><ionic>|Array Angular - I...|      592|\n",
      "|379391|            NULL|          1|<p>Estoy tratando...|      NULL|           3|              NULL|  CC BY-SA 4.0|2020-08-03 19:57:...|         NULL|2020-08-04 10:44:...|2020-08-04 09:54:...|                 NULL|          156327|            NULL|     186742|    NULL|         1|    2|<javascript><html...|¿Cómo leo un arch...|     1434|\n",
      "|379392|            NULL|          0|<p>Hola buen día ...|      NULL|           3|              NULL|  CC BY-SA 4.0|2020-08-03 20:14:...|            0|2020-08-03 20:14:...|                NULL|                 NULL|            NULL|            NULL|     131115|    NULL|         1|    0|             <mysql>|Como sumar la can...|       18|\n",
      "|379393|            NULL|          0|<p>Estoy creando ...|      NULL|           2|              NULL|  CC BY-SA 4.0|2020-08-03 20:20:...|         NULL|2020-08-03 20:52:...|2020-08-03 20:52:...|                 NULL|          186748|            NULL|     186748|    NULL|         1|    0|<php><mysql><andr...|Enviar notificaci...|      500|\n",
      "|379394|            NULL|          0|<p>Si quieres pru...|      NULL|           1|              NULL|  CC BY-SA 4.0|2020-08-03 20:21:...|         NULL|2020-08-03 20:21:...|                NULL|                 NULL|            NULL|            NULL|     186734|  379383|         2|    0|                NULL|                NULL|        0|\n",
      "+------+----------------+-----------+--------------------+----------+------------+------------------+--------------+--------------------+-------------+--------------------+--------------------+---------------------+----------------+----------------+-----------+--------+----------+-----+--------------------+--------------------+---------+\n",
      "only showing top 5 rows\n",
      "\n",
      "root\n",
      " |-- Id: integer (nullable = true)\n",
      " |-- AcceptedAnswerId: integer (nullable = true)\n",
      " |-- AnswerCount: integer (nullable = true)\n",
      " |-- Body: string (nullable = true)\n",
      " |-- ClosedDate: timestamp (nullable = true)\n",
      " |-- CommentCount: integer (nullable = true)\n",
      " |-- CommunityOwnedDate: timestamp (nullable = true)\n",
      " |-- ContentLicense: string (nullable = true)\n",
      " |-- Fecha_de_creación: timestamp (nullable = true)\n",
      " |-- FavoriteCount: integer (nullable = true)\n",
      " |-- LastActivityDate: timestamp (nullable = true)\n",
      " |-- LastEditDate: timestamp (nullable = true)\n",
      " |-- LastEditorDisplayName: string (nullable = true)\n",
      " |-- LastEditorUserId: integer (nullable = true)\n",
      " |-- OwnerDisplayName: string (nullable = true)\n",
      " |-- OwnerUserId: integer (nullable = true)\n",
      " |-- ParentId: integer (nullable = true)\n",
      " |-- PostTypeId: integer (nullable = true)\n",
      " |-- Score: integer (nullable = true)\n",
      " |-- Tags: string (nullable = true)\n",
      " |-- Title: string (nullable = true)\n",
      " |-- ViewCount: integer (nullable = true)\n",
      "\n"
     ]
    }
   ],
   "source": [
    "dfSE.show(5)\n",
    "dfSE.printSchema()"
   ]
  },
  {
   "cell_type": "code",
   "execution_count": 25,
   "metadata": {},
   "outputs": [
    {
     "data": {
      "text/plain": [
       "410346"
      ]
     },
     "execution_count": 25,
     "metadata": {},
     "output_type": "execute_result"
    }
   ],
   "source": [
    "dfSE.count()"
   ]
  },
  {
   "cell_type": "markdown",
   "metadata": {},
   "source": [
    "## Operaciones de filtrado"
   ]
  },
  {
   "cell_type": "code",
   "execution_count": 26,
   "metadata": {
    "autoscroll": "auto"
   },
   "outputs": [
    {
     "name": "stdout",
     "output_type": "stream",
     "text": [
      "Número de posts con la palabra Italiano: 32\n",
      "\n",
      "Una de las filas\n"
     ]
    },
    {
     "data": {
      "text/plain": [
       "[Row(Id=396443, AcceptedAnswerId=396463, AnswerCount=1, Body='<p>Tengo un archivo que he creado, con el nombre <code>available_languages.php</code>. Este archivo está en el directorio <code>/config</code>, y su contenido es el siguiente:</p><br/><pre><code><?php<br/>    return [<br/>        \\'idiomas_disponibles\\' => [<br/>            \\'ca\\' => [<br/>                \\'code\\' => \\'ca\\',<br/>                \\'variable_name\\' => \\'Catalán\\',<br/>                \\'image_name\\' => \\'ca.jpg\\',<br/>            ],<br/>            \\'da\\' => [<br/>                \\'code\\' => \\'da\\',<br/>                \\'variable_name\\' => \\'Danés\\',<br/>                \\'image_name\\' => \\'da.jpg\\',<br/>            ],<br/>            \\'de\\' => [<br/>                \\'code\\' => \\'de\\',<br/>                \\'variable_name\\' => \\'Alemán\\',<br/>                \\'image_name\\' => \\'de.jpg\\',<br/>            ],<br/>            \\'en\\' => [<br/>                \\'code\\' => \\'en\\',<br/>                \\'variable_name\\' => \\'Inglés\\',<br/>                \\'image_name\\' => \\'en.jpg\\',<br/>            ],<br/>            \\'es\\' => [<br/>                \\'code\\' => \\'es\\',<br/>                \\'variable_name\\' => \\'Español\\',<br/>                \\'image_name\\' => \\'es.jpg\\',<br/>            ],<br/>            \\'eu\\' => [<br/>                \\'code\\' => \\'eu\\',<br/>                \\'variable_name\\' => \\'Euskera\\',<br/>                \\'image_name\\' => \\'eu.jpg\\',<br/>            ],<br/>            \\'fr\\' => [<br/>                \\'code\\' => \\'fr\\',<br/>                \\'variable_name\\' => \\'Francés\\',<br/>                \\'image_name\\' => \\'fr.jpg\\',<br/>            ],<br/>            \\'pt\\' => [<br/>                \\'code\\' => \\'pt\\',<br/>                \\'variable_name\\' => \\'Portugués\\',<br/>                \\'image_name\\' => \\'pt.jpg\\',<br/>            ],<br/>            \\'it\\' => [<br/>                \\'code\\' => \\'it\\',<br/>                \\'variable_name\\' => \\'Italiano\\',<br/>                \\'image_name\\' => \\'it.jpg\\',<br/>            ],<br/>            \\'ro\\' => [<br/>                \\'code\\' => \\'ro\\',<br/>                \\'variable_name\\' => \\'Rumano\\',<br/>                \\'image_name\\' => \\'ro.jpg\\',<br/>            ],<br/>        ],<br/>    ];<br/></code></pre><br/><p>Se supone que los archivos contenidos en <code>/config</code> se cargan al arranque de la aplicación, y están disponibles en cualquier parte, durante todo el ciclo de uso.</p><br/><p>El problema es que intento usar la matriz <code>$idiomas_disponibles</code> en una vista, y no me la encuentra, me da un error porque \"no existe\". Primero intenté usarla así:</p><br/><pre><code>@foreach($idiomas_disponibles as $idioma_disponible)<br/></code></pre><br/><p>Como no funciono, he intentado el helper <code>config()</code>, así:</p><br/><pre><code>@foreach(config($idiomas_disponibles) as $idioma_disponible)<br/></code></pre><br/><p>Tampoco la reconoce, pero al ser datos que están en <code>/config</code>, debería poder leerlos, no?</p><br/><p>Debo añadir que, antes de cada prueba he tecleado, en la consola lo siguiente:</p><br/><pre><code>php artisan config:cache<br/></code></pre><br/><p>Lo hice por si estaba la configuración anterior cacheada. Tampoco me ha dado resultado.</p><br/>', ClosedDate=None, CommentCount=1, CommunityOwnedDate=None, ContentLicense='CC BY-SA 4.0', Fecha_de_creación=datetime.datetime(2020, 10, 12, 13, 15, 3, 20000), FavoriteCount=None, LastActivityDate=datetime.datetime(2020, 10, 12, 15, 7, 45, 143000), LastEditDate=None, LastEditorDisplayName=None, LastEditorUserId=None, OwnerDisplayName=None, OwnerUserId=113854, ParentId=None, PostTypeId=1, Score=0, Tags='<laravel><blade><configuración><variables-de-configuración>', Title='Problema con el directorio config en Laravel', ViewCount=104)]"
      ]
     },
     "execution_count": 26,
     "metadata": {},
     "output_type": "execute_result"
    }
   ],
   "source": [
    "# Selecciona los post que tengan la palabra Italiano en su cuerpo\n",
    "from pyspark.sql.column import Column\n",
    "from pyspark.sql.dataframe import DataFrame\n",
    "from pyspark.sql.functions import col\n",
    "\n",
    "colCuerpo: Column = col(\"Body\")\n",
    "dfConItaliano: DataFrame = dfSE.filter(colCuerpo.like('%Italiano%'))\n",
    "\n",
    "print(\"Número de posts con la palabra Italiano: {0}\\n\"\\\n",
    "      .format(dfConItaliano.count()))\n",
    "\n",
    "print(\"Una de las filas\")\n",
    "dfConItaliano.take(1)"
   ]
  },
  {
   "cell_type": "code",
   "execution_count": 27,
   "metadata": {
    "autoscroll": "auto"
   },
   "outputs": [
    {
     "name": "stdout",
     "output_type": "stream",
     "text": [
      "Número de preguntas con respuesta aceptada: 82491\n"
     ]
    },
    {
     "name": "stderr",
     "output_type": "stream",
     "text": [
      "24/11/12 17:00:22 WARN CacheManager: Asked to cache already cached data.\n"
     ]
    },
    {
     "name": "stdout",
     "output_type": "stream",
     "text": [
      "+-----------------------+---------+----------------+\n",
      "|Fecha_de_creación      |Tipo Post|AcceptedAnswerId|\n",
      "+-----------------------+---------+----------------+\n",
      "|2020-08-03 19:45:29.76 |1        |379397          |\n",
      "|2020-08-03 20:38:32.387|1        |379500          |\n",
      "|2020-08-03 22:45:38.533|1        |379443          |\n",
      "|2020-08-03 22:52:19.433|1        |379436          |\n",
      "|2020-08-03 22:56:06.02 |1        |379442          |\n",
      "|2020-08-03 23:44:40.883|1        |379444          |\n",
      "|2020-08-04 01:11:28.32 |1        |379457          |\n",
      "|2020-08-04 02:55:40.433|1        |379477          |\n",
      "|2020-08-04 04:20:51.807|1        |379489          |\n",
      "|2020-08-04 04:41:24.703|1        |379486          |\n",
      "|2020-08-04 05:37:08.907|1        |379791          |\n",
      "|2020-08-04 06:54:14.673|1        |379507          |\n",
      "|2020-08-04 07:06:42.663|1        |379554          |\n",
      "|2020-08-04 07:19:01.563|1        |379538          |\n",
      "|2020-08-04 09:11:52.593|1        |379516          |\n",
      "|2020-08-04 09:33:21.117|1        |379624          |\n",
      "|2020-08-04 10:55:25.65 |1        |379536          |\n",
      "|2020-08-04 11:46:59.383|1        |379541          |\n",
      "|2020-08-04 12:05:20.233|1        |379540          |\n",
      "|2020-08-04 12:10:15.493|1        |379550          |\n",
      "+-----------------------+---------+----------------+\n",
      "only showing top 20 rows\n",
      "\n"
     ]
    }
   ],
   "source": [
    "# Obtenemos las preguntas (PostTypeId == 1) que tienen una respuesta aceptada (AcceptedAnswerId != null)\n",
    "# Nota: where() es un alias de filter()\n",
    "\n",
    "postTypeIdCol: Column = col(\"PostTypeId\")\n",
    "acceptedAnswerIdCol: Column = col(\"AcceptedAnswerId\")\n",
    "\n",
    "questionsWithAcceptedAnswersDf: DataFrame = (dfSE\n",
    "                    .where((postTypeIdCol == 1) & (acceptedAnswerIdCol.isNotNull()))\n",
    "                    .withColumnRenamed(\"CreationDate\", \"Fecha_de_creación\"))\n",
    "\n",
    "print(\"Número de preguntas con respuesta aceptada: {0}\"\\\n",
    "      .format(questionsWithAcceptedAnswersDf.count()))\n",
    "\n",
    "questionsWithAcceptedAnswersDf.cache()\n",
    "\n",
    "(questionsWithAcceptedAnswersDf\n",
    "        .select(\"Fecha_de_creación\", postTypeIdCol.alias(\"Tipo Post\"), acceptedAnswerIdCol)\n",
    "        .show(truncate=False))"
   ]
  },
  {
   "cell_type": "code",
   "execution_count": 28,
   "metadata": {
    "autoscroll": "auto"
   },
   "outputs": [
    {
     "name": "stdout",
     "output_type": "stream",
     "text": [
      "+-----------------------+----------+----------------+\n",
      "|Fecha_de_creación      |PostTypeId|AcceptedAnswerId|\n",
      "+-----------------------+----------+----------------+\n",
      "|2016-06-01 07:23:19.88 |1         |11532           |\n",
      "|2016-06-01 08:00:58.677|1         |11538           |\n",
      "|2016-06-01 08:43:45.403|1         |11544           |\n",
      "|2016-06-01 09:00:34.167|1         |11546           |\n",
      "|2016-06-01 13:26:14.547|1         |11566           |\n",
      "|2016-06-01 14:03:25.49 |1         |11570           |\n",
      "|2016-06-01 14:29:37.477|1         |11577           |\n",
      "|2016-06-01 17:00:45.003|1         |11601           |\n",
      "|2016-06-01 17:22:16.093|1         |11597           |\n",
      "|2016-06-01 18:05:49.507|1         |11615           |\n",
      "|2016-06-01 18:21:23.367|1         |11611           |\n",
      "|2016-06-01 18:27:23.233|1         |11613           |\n",
      "|2016-06-01 19:33:21.04 |1         |11663           |\n",
      "|2016-06-01 20:00:19.05 |1         |11639           |\n",
      "|2016-06-01 20:02:27.663|1         |11691           |\n",
      "|2016-06-01 20:25:06.643|1         |11634           |\n",
      "|2016-06-01 22:08:11.503|1         |11710           |\n",
      "|2016-06-01 22:37:59.09 |1         |11708           |\n",
      "|2016-06-01 22:40:50.163|1         |11648           |\n",
      "|2016-06-01 23:58:20.6  |1         |13503           |\n",
      "+-----------------------+----------+----------------+\n",
      "only showing top 20 rows\n",
      "\n"
     ]
    }
   ],
   "source": [
    "# Nos quedamos con las entradas correspondientes a junio de 2016\n",
    "from datetime import date\n",
    "\n",
    "fechaCreacionCol = col(\"Fecha_de_creación\")\n",
    "\n",
    "dfPregConRespAceptJun16: DataFrame = questionsWithAcceptedAnswersDf\\\n",
    "                    .filter((fechaCreacionCol >= date(2016,6,1)) &\n",
    "                            (fechaCreacionCol <= date(2016,6,30)))\n",
    "\n",
    "dfPregConRespAceptJun16.select(fechaCreacionCol, postTypeIdCol, acceptedAnswerIdCol)\\\n",
    "        .show(truncate=False)"
   ]
  },
  {
   "cell_type": "code",
   "execution_count": 29,
   "metadata": {
    "autoscroll": "auto"
   },
   "outputs": [
    {
     "name": "stdout",
     "output_type": "stream",
     "text": [
      "+-----------------------+---------+-----+------------------+\n",
      "|Fecha_de_creación      |ViewCount|Score|ratio             |\n",
      "+-----------------------+---------+-----+------------------+\n",
      "|2020-08-03 22:52:19.433|225      |1    |225.0             |\n",
      "|2020-08-04 01:11:28.32 |50       |1    |50.0              |\n",
      "|2020-08-04 07:06:42.663|109      |1    |109.0             |\n",
      "|2020-08-04 11:46:59.383|4651     |1    |4651.0            |\n",
      "|2020-08-04 12:05:20.233|85       |1    |85.0              |\n",
      "|2020-08-04 17:31:29.23 |348      |1    |348.0             |\n",
      "|2020-08-04 18:42:51.897|383      |2    |191.5             |\n",
      "|2020-08-04 18:56:22.563|358      |1    |358.0             |\n",
      "|2020-08-04 20:04:33.76 |232      |1    |232.0             |\n",
      "|2020-08-04 20:39:55.82 |146      |1    |146.0             |\n",
      "|2020-08-05 00:45:17.277|81       |1    |81.0              |\n",
      "|2020-08-05 04:28:38.203|1373     |1    |1373.0            |\n",
      "|2020-08-05 11:34:05.64 |60       |1    |60.0              |\n",
      "|2020-08-05 14:43:05.277|1422     |2    |711.0             |\n",
      "|2020-08-05 14:43:54.993|139      |1    |139.0             |\n",
      "|2020-08-05 14:58:54.557|89       |1    |89.0              |\n",
      "|2020-08-05 15:40:15.603|75       |2    |37.5              |\n",
      "|2020-08-05 17:00:04.977|478      |3    |159.33333333333334|\n",
      "|2020-08-05 17:11:46.38 |147      |1    |147.0             |\n",
      "|2020-08-05 17:19:25.743|1456     |4    |364.0             |\n",
      "+-----------------------+---------+-----+------------------+\n",
      "only showing top 20 rows\n",
      "\n"
     ]
    }
   ],
   "source": [
    "# Añadimos una columna que contenga el ratio entre el número de vistas y el score\n",
    "colNumVistas = col(\"ViewCount\")\n",
    "colPuntos = col(\"Score\")\n",
    "dfPregConRespAceptyRatio = questionsWithAcceptedAnswersDf.withColumn(\"ratio\", colNumVistas/colPuntos)\n",
    "\n",
    "# Muestra algunas columnas con ratio > 35\n",
    "colRatio = col(\"ratio\")\n",
    "(dfPregConRespAceptyRatio.filter(colRatio > 35)\n",
    "                        .select(fechaCreacionCol, colNumVistas, colPuntos, colRatio)\n",
    "                        .show(truncate=False))"
   ]
  },
  {
   "cell_type": "markdown",
   "metadata": {},
   "source": [
    "## Operaciones de ordenación y agrupamiento"
   ]
  },
  {
   "cell_type": "code",
   "execution_count": 30,
   "metadata": {
    "autoscroll": "auto"
   },
   "outputs": [
    {
     "name": "stdout",
     "output_type": "stream",
     "text": [
      "+-----------------------+---------+\n",
      "|Fecha_de_creación      |ViewCount|\n",
      "+-----------------------+---------+\n",
      "|2017-01-25 01:00:14.09 |496200   |\n",
      "|2015-12-21 22:11:08.127|400626   |\n",
      "|2016-05-23 18:34:19.627|334608   |\n",
      "|2017-02-10 14:57:10.55 |295361   |\n",
      "|2016-10-23 16:20:32.963|280218   |\n",
      "|2015-12-02 12:35:37.43 |256224   |\n",
      "|2016-07-25 07:58:15.75 |252099   |\n",
      "|2018-03-04 23:57:12.52 |247708   |\n",
      "|2016-12-29 11:04:12.557|238862   |\n",
      "|2016-11-11 22:42:23.697|232373   |\n",
      "+-----------------------+---------+\n",
      "only showing top 10 rows\n",
      "\n"
     ]
    }
   ],
   "source": [
    "# Ordenamos por viewCount\n",
    "questionsWithAcceptedAnswersDf.orderBy(colNumVistas.desc())\\\n",
    "                  .select(fechaCreacionCol, colNumVistas)\\\n",
    "                  .show(10, truncate=False)"
   ]
  },
  {
   "cell_type": "code",
   "execution_count": 31,
   "metadata": {
    "autoscroll": "auto"
   },
   "outputs": [
    {
     "name": "stdout",
     "output_type": "stream",
     "text": [
      "<class 'pyspark.sql.group.GroupedData'>\n"
     ]
    }
   ],
   "source": [
    "# Creamos una agrupación por la columna OwnerUserId\n",
    "from pyspark.sql.column import Column\n",
    "from pyspark.sql.group import GroupedData\n",
    "\n",
    "colUserId: Column = col(\"OwnerUserId\")\n",
    "grupoPorUsuario: GroupedData = questionsWithAcceptedAnswersDf.groupBy(colUserId)\n",
    "print(type(grupoPorUsuario))"
   ]
  },
  {
   "cell_type": "code",
   "execution_count": 32,
   "metadata": {
    "autoscroll": "auto"
   },
   "outputs": [
    {
     "name": "stdout",
     "output_type": "stream",
     "text": [
      "DataFrame con el número de posts por usuario\n",
      "root\n",
      " |-- OwnerUserId: integer (nullable = true)\n",
      " |-- count: long (nullable = false)\n",
      "\n",
      "+-----------------+---------------+\n",
      "|Número de usuario|Número de posts|\n",
      "+-----------------+---------------+\n",
      "|             NULL|           1546|\n",
      "|             2633|            271|\n",
      "|             2230|            251|\n",
      "|            95858|            235|\n",
      "|           131982|            204|\n",
      "|            38304|            197|\n",
      "|             4048|            184|\n",
      "|            22584|            173|\n",
      "|            29967|            163|\n",
      "|             5997|            162|\n",
      "+-----------------+---------------+\n",
      "only showing top 10 rows\n",
      "\n"
     ]
    }
   ],
   "source": [
    "print(\"DataFrame con el número de posts por usuario\")\n",
    "dfPostPorUsuario: DataFrame = grupoPorUsuario.count()\n",
    "dfPostPorUsuario.printSchema()\n",
    "\n",
    "colNPosts: Column = col(\"count\")\n",
    "dfPostPorUsuario.select(colUserId.alias(\"Número de usuario\"),\n",
    "                        colNPosts.alias(\"Número de posts\"))\\\n",
    "                .orderBy(colNPosts, ascending=False).show(10)"
   ]
  },
  {
   "cell_type": "code",
   "execution_count": 33,
   "metadata": {
    "autoscroll": "auto"
   },
   "outputs": [
    {
     "name": "stdout",
     "output_type": "stream",
     "text": [
      "DataFrame con la media de vistas por usuario\n",
      "+-----------+-----------------+\n",
      "|OwnerUserId|     Media_vistas|\n",
      "+-----------+-----------------+\n",
      "|      14311|         194210.0|\n",
      "|      58631|         184583.0|\n",
      "|      22731|         116308.5|\n",
      "|      38468|         106566.0|\n",
      "|      19586|         102870.0|\n",
      "|      19912|94980.66666666667|\n",
      "|      29298|          94209.0|\n",
      "|       2027|          93271.5|\n",
      "|       5350|          88564.0|\n",
      "|      34152|          87270.0|\n",
      "+-----------+-----------------+\n",
      "only showing top 10 rows\n",
      "\n"
     ]
    }
   ],
   "source": [
    "print(\"DataFrame con la media de vistas por usuario\")\n",
    "dfAvgPorUsuario: DataFrame = grupoPorUsuario.avg(\"ViewCount\")\\\n",
    "                    .withColumnRenamed(\"avg(ViewCount)\", \"Media_vistas\")\n",
    "dfAvgPorUsuario.orderBy(\"Media_vistas\", ascending=False).show(10)"
   ]
  },
  {
   "cell_type": "code",
   "execution_count": 34,
   "metadata": {
    "autoscroll": "auto"
   },
   "outputs": [
    {
     "name": "stdout",
     "output_type": "stream",
     "text": [
      "Obtenemos las tablas anteriores con una sola operación\n",
      "root\n",
      " |-- OwnerUserId: integer (nullable = true)\n",
      " |-- count(OwnerUserId): long (nullable = false)\n",
      " |-- avg(ViewCount): double (nullable = true)\n",
      "\n",
      "+-----------------+---------------+------------------+\n",
      "|Número de usuario|Número de posts|   Media de vistas|\n",
      "+-----------------+---------------+------------------+\n",
      "|             NULL|              0|1683.5103492884864|\n",
      "|               20|              2|            1737.0|\n",
      "|               21|             20|          12629.75|\n",
      "|               22|              7| 877.5714285714286|\n",
      "|               23|              7| 622.1428571428571|\n",
      "|               24|             18|            8439.0|\n",
      "|               25|             10|            7243.5|\n",
      "|               27|              1|             335.0|\n",
      "|               28|              1|             421.0|\n",
      "|               29|              3|             801.0|\n",
      "|               34|              1|            1926.0|\n",
      "|               35|              2|             229.0|\n",
      "|               37|              2|             188.5|\n",
      "|               39|              4|             168.0|\n",
      "|               56|              1|              61.0|\n",
      "|               65|             27| 8843.037037037036|\n",
      "|               73|              3|            7237.0|\n",
      "|               74|              3|2995.3333333333335|\n",
      "|               75|              2|             858.5|\n",
      "|               77|              1|           28980.0|\n",
      "+-----------------+---------------+------------------+\n",
      "only showing top 20 rows\n",
      "\n"
     ]
    }
   ],
   "source": [
    "# El método agg permite hacer varias operaciones de agrupamiento, expresadas como un diccionario {nombre_columna:operacion}\n",
    "print(\"Obtenemos las tablas anteriores con una sola operación\")\n",
    "dfCountyAvg: DataFrame = grupoPorUsuario.agg({\"OwnerUserId\":\"count\", \"ViewCount\":\"avg\"})\n",
    "dfCountyAvg.printSchema()\n",
    "\n",
    "colCount: Column = col(\"count(OwnerUserId)\")\n",
    "colMedia: Column = col(\"avg(ViewCount)\")\n",
    "dfCountyAvg.select(colUserId.alias(\"Número de usuario\"),\n",
    "                   colCount.alias(\"Número de posts\"),\n",
    "                   colMedia.alias(\"Media de vistas\"))\\\n",
    "                  .orderBy(colUserId).show()\n"
   ]
  },
  {
   "cell_type": "code",
   "execution_count": 35,
   "metadata": {
    "autoscroll": "auto"
   },
   "outputs": [
    {
     "name": "stdout",
     "output_type": "stream",
     "text": [
      "+-----------+----------+-----+\n",
      "|OwnerUserId|PostTypeId|count|\n",
      "+-----------+----------+-----+\n",
      "|       NULL|         6|    1|\n",
      "|       NULL|         5|   70|\n",
      "|       NULL|         4|   69|\n",
      "|       NULL|         2| 3394|\n",
      "|       NULL|         1| 2933|\n",
      "|         -1|         7|    4|\n",
      "|         -1|         5|  437|\n",
      "|         -1|         4|   99|\n",
      "|         20|         6|    1|\n",
      "|         20|         5|    3|\n",
      "|         20|         4|    7|\n",
      "|         20|         2|  248|\n",
      "|         20|         1|    3|\n",
      "|         21|         5|   17|\n",
      "|         21|         4|   14|\n",
      "|         21|         2| 1091|\n",
      "|         21|         1|   20|\n",
      "|         22|         5|    2|\n",
      "|         22|         4|    2|\n",
      "|         22|         2|    9|\n",
      "+-----------+----------+-----+\n",
      "only showing top 20 rows\n",
      "\n"
     ]
    }
   ],
   "source": [
    "# Agrupación sobre dos columnas\n",
    "dfSE.groupBy(colUserId, postTypeIdCol)\\\n",
    "    .count()\\\n",
    "    .orderBy(colUserId.asc(), postTypeIdCol.desc())\\\n",
    "    .show()"
   ]
  },
  {
   "cell_type": "markdown",
   "metadata": {},
   "source": [
    "Una descripción de las funciones que se pueden usar con GroupedData está en https://spark.apache.org/docs/latest/api/python/reference/pyspark.sql/api/pyspark.sql.GroupedData.html "
   ]
  },
  {
   "cell_type": "markdown",
   "metadata": {},
   "source": [
    "### Extensiones del groupBy\n",
    "\n",
    "Funciones `rollup` y `cube`"
   ]
  },
  {
   "cell_type": "markdown",
   "metadata": {},
   "source": [
    "#### Rollup\n",
    "\n",
    "Incluye filas adicionales con agregados por la primera columna"
   ]
  },
  {
   "cell_type": "code",
   "execution_count": 36,
   "metadata": {
    "autoscroll": "auto"
   },
   "outputs": [
    {
     "name": "stdout",
     "output_type": "stream",
     "text": [
      "<class 'pyspark.sql.group.GroupedData'>\n"
     ]
    }
   ],
   "source": [
    "# Contar para cada usuario el número de preguntas (PostTypeId = 1) y el número de respuestas (PostTypeId = 2)\n",
    "from pyspark.sql.group import GroupedData\n",
    "\n",
    "rollupPorUsuarioyTipoPost: GroupedData = dfSE.rollup(\"OwnerUserId\", \"PostTypeId\")\n",
    "print(type(rollupPorUsuarioyTipoPost))"
   ]
  },
  {
   "cell_type": "code",
   "execution_count": 37,
   "metadata": {
    "autoscroll": "auto"
   },
   "outputs": [
    {
     "name": "stdout",
     "output_type": "stream",
     "text": [
      "root\n",
      " |-- OwnerUserId: integer (nullable = true)\n",
      " |-- PostTypeId: integer (nullable = true)\n",
      " |-- count: long (nullable = false)\n",
      "\n",
      "+-----------------+------------+---------------+\n",
      "|Número de usuario|Tipo de post|Número de posts|\n",
      "+-----------------+------------+---------------+\n",
      "|             NULL|        NULL|           6467|\n",
      "|             NULL|        NULL|         410346|\n",
      "|             NULL|           1|           2933|\n",
      "|             NULL|           2|           3394|\n",
      "|             NULL|           4|             69|\n",
      "|             NULL|           5|             70|\n",
      "|             NULL|           6|              1|\n",
      "|               -1|        NULL|            540|\n",
      "|               -1|           4|             99|\n",
      "|               -1|           5|            437|\n",
      "|               -1|           7|              4|\n",
      "|               20|        NULL|            262|\n",
      "|               20|           1|              3|\n",
      "|               20|           2|            248|\n",
      "|               20|           4|              7|\n",
      "|               20|           5|              3|\n",
      "|               20|           6|              1|\n",
      "|               21|        NULL|           1142|\n",
      "|               21|           1|             20|\n",
      "|               21|           2|           1091|\n",
      "|               21|           4|             14|\n",
      "|               21|           5|             17|\n",
      "|               22|        NULL|             29|\n",
      "|               22|           1|             16|\n",
      "|               22|           2|              9|\n",
      "|               22|           4|              2|\n",
      "|               22|           5|              2|\n",
      "|               23|        NULL|             47|\n",
      "|               23|           1|              7|\n",
      "|               23|           2|             36|\n",
      "|               23|           4|              2|\n",
      "|               23|           5|              2|\n",
      "|               24|        NULL|            319|\n",
      "|               24|           1|             25|\n",
      "|               24|           2|            190|\n",
      "|               24|           4|             54|\n",
      "|               24|           5|             50|\n",
      "|               25|        NULL|            418|\n",
      "|               25|           1|             13|\n",
      "|               25|           2|            336|\n",
      "|               25|           4|             36|\n",
      "|               25|           5|             33|\n",
      "|               26|        NULL|            245|\n",
      "|               26|           2|            244|\n",
      "|               26|           4|              1|\n",
      "|               27|        NULL|              1|\n",
      "|               27|           1|              1|\n",
      "|               28|        NULL|            155|\n",
      "|               28|           1|              1|\n",
      "|               28|           2|            153|\n",
      "|               28|           4|              1|\n",
      "|               29|        NULL|              6|\n",
      "|               29|           1|              3|\n",
      "|               29|           2|              3|\n",
      "|               34|        NULL|             32|\n",
      "|               34|           1|              1|\n",
      "|               34|           2|             31|\n",
      "|               35|        NULL|              6|\n",
      "|               35|           1|              3|\n",
      "|               35|           2|              3|\n",
      "|               37|        NULL|              3|\n",
      "|               37|           1|              2|\n",
      "|               37|           2|              1|\n",
      "|               39|        NULL|             26|\n",
      "|               39|           1|              5|\n",
      "|               39|           2|             21|\n",
      "|               45|        NULL|            141|\n",
      "|               45|           1|              1|\n",
      "|               45|           2|            140|\n",
      "|               56|        NULL|              1|\n",
      "|               56|           1|              1|\n",
      "|               58|        NULL|              2|\n",
      "|               58|           2|              2|\n",
      "|               65|        NULL|            635|\n",
      "|               65|           1|             35|\n",
      "|               65|           2|            549|\n",
      "|               65|           4|             26|\n",
      "|               65|           5|             25|\n",
      "|               67|        NULL|              2|\n",
      "|               67|           2|              2|\n",
      "|               71|        NULL|              2|\n",
      "|               71|           2|              2|\n",
      "|               72|        NULL|              2|\n",
      "|               72|           1|              1|\n",
      "|               72|           2|              1|\n",
      "|               73|        NULL|           1059|\n",
      "|               73|           1|              4|\n",
      "|               73|           2|            961|\n",
      "|               73|           4|             47|\n",
      "|               73|           5|             47|\n",
      "|               74|        NULL|             26|\n",
      "|               74|           1|              3|\n",
      "|               74|           2|             23|\n",
      "|               75|        NULL|             10|\n",
      "|               75|           1|              4|\n",
      "|               75|           2|              6|\n",
      "|               77|        NULL|              2|\n",
      "|               77|           1|              1|\n",
      "|               77|           2|              1|\n",
      "|               78|        NULL|            175|\n",
      "+-----------------+------------+---------------+\n",
      "only showing top 100 rows\n",
      "\n"
     ]
    }
   ],
   "source": [
    "# DataFrame con el número de post por usuario y tipo pregunta\n",
    "# Los campos a null son de agregación, por ejemplo:\n",
    "# null null = todos los posts\n",
    "# 4    null = todos los posts del usuario con id 4\n",
    "# 4    1    = todos los post de tipo 1 del usuario 4\n",
    "# NOTA: aparecen posts con tipo 4 y 5, no se a que corresponden\n",
    "dfPostPorUsuarioyTipo: DataFrame = rollupPorUsuarioyTipoPost.count()\n",
    "dfPostPorUsuarioyTipo.printSchema()\n",
    "dfPostPorUsuarioyTipo.select(colUserId.alias(\"Número de usuario\"),\n",
    "                             postTypeIdCol.alias(\"Tipo de post\"),\n",
    "                             colNPosts.alias(\"Número de posts\"))\\\n",
    "                     .orderBy(colUserId,postTypeIdCol)\\\n",
    "                     .show(100)"
   ]
  },
  {
   "cell_type": "markdown",
   "metadata": {},
   "source": [
    "#### Cubes\n",
    "\n",
    "Similar al Rollups, pero recorriendo todas las dimensiones"
   ]
  },
  {
   "cell_type": "code",
   "execution_count": 38,
   "metadata": {
    "autoscroll": "auto"
   },
   "outputs": [
    {
     "name": "stdout",
     "output_type": "stream",
     "text": [
      "<class 'pyspark.sql.group.GroupedData'>\n"
     ]
    }
   ],
   "source": [
    "from pyspark.sql.group import GroupedData\n",
    "\n",
    "grupoPorUsuarioyTipoPost: GroupedData = dfSE.cube(\"OwnerUserId\", \"PostTypeId\")\n",
    "print(type(grupoPorUsuarioyTipoPost))"
   ]
  },
  {
   "cell_type": "code",
   "execution_count": 39,
   "metadata": {
    "autoscroll": "auto"
   },
   "outputs": [
    {
     "name": "stdout",
     "output_type": "stream",
     "text": [
      "root\n",
      " |-- OwnerUserId: integer (nullable = true)\n",
      " |-- PostTypeId: integer (nullable = true)\n",
      " |-- count: long (nullable = false)\n",
      "\n",
      "+-----------------+------------+---------------+\n",
      "|Número de usuario|Tipo de post|Número de posts|\n",
      "+-----------------+------------+---------------+\n",
      "|             NULL|        NULL|           6467|\n",
      "|             NULL|        NULL|         410346|\n",
      "|             NULL|           1|           2933|\n",
      "|             NULL|           1|         194788|\n",
      "|             NULL|           2|         211615|\n",
      "|             NULL|           2|           3394|\n",
      "|             NULL|           4|           1958|\n",
      "|             NULL|           4|             69|\n",
      "|             NULL|           5|           1958|\n",
      "|             NULL|           5|             70|\n",
      "|             NULL|           6|             23|\n",
      "|             NULL|           6|              1|\n",
      "|             NULL|           7|              4|\n",
      "|               -1|        NULL|            540|\n",
      "|               -1|           4|             99|\n",
      "|               -1|           5|            437|\n",
      "|               -1|           7|              4|\n",
      "|               20|        NULL|            262|\n",
      "|               20|           1|              3|\n",
      "|               20|           2|            248|\n",
      "|               20|           4|              7|\n",
      "|               20|           5|              3|\n",
      "|               20|           6|              1|\n",
      "|               21|        NULL|           1142|\n",
      "|               21|           1|             20|\n",
      "|               21|           2|           1091|\n",
      "|               21|           4|             14|\n",
      "|               21|           5|             17|\n",
      "|               22|        NULL|             29|\n",
      "|               22|           1|             16|\n",
      "|               22|           2|              9|\n",
      "|               22|           4|              2|\n",
      "|               22|           5|              2|\n",
      "|               23|        NULL|             47|\n",
      "|               23|           1|              7|\n",
      "|               23|           2|             36|\n",
      "|               23|           4|              2|\n",
      "|               23|           5|              2|\n",
      "|               24|        NULL|            319|\n",
      "|               24|           1|             25|\n",
      "|               24|           2|            190|\n",
      "|               24|           4|             54|\n",
      "|               24|           5|             50|\n",
      "|               25|        NULL|            418|\n",
      "|               25|           1|             13|\n",
      "|               25|           2|            336|\n",
      "|               25|           4|             36|\n",
      "|               25|           5|             33|\n",
      "|               26|        NULL|            245|\n",
      "|               26|           2|            244|\n",
      "|               26|           4|              1|\n",
      "|               27|        NULL|              1|\n",
      "|               27|           1|              1|\n",
      "|               28|        NULL|            155|\n",
      "|               28|           1|              1|\n",
      "|               28|           2|            153|\n",
      "|               28|           4|              1|\n",
      "|               29|        NULL|              6|\n",
      "|               29|           1|              3|\n",
      "|               29|           2|              3|\n",
      "|               34|        NULL|             32|\n",
      "|               34|           1|              1|\n",
      "|               34|           2|             31|\n",
      "|               35|        NULL|              6|\n",
      "|               35|           1|              3|\n",
      "|               35|           2|              3|\n",
      "|               37|        NULL|              3|\n",
      "|               37|           1|              2|\n",
      "|               37|           2|              1|\n",
      "|               39|        NULL|             26|\n",
      "|               39|           1|              5|\n",
      "|               39|           2|             21|\n",
      "|               45|        NULL|            141|\n",
      "|               45|           1|              1|\n",
      "|               45|           2|            140|\n",
      "|               56|        NULL|              1|\n",
      "|               56|           1|              1|\n",
      "|               58|        NULL|              2|\n",
      "|               58|           2|              2|\n",
      "|               65|        NULL|            635|\n",
      "|               65|           1|             35|\n",
      "|               65|           2|            549|\n",
      "|               65|           4|             26|\n",
      "|               65|           5|             25|\n",
      "|               67|        NULL|              2|\n",
      "|               67|           2|              2|\n",
      "|               71|        NULL|              2|\n",
      "|               71|           2|              2|\n",
      "|               72|        NULL|              2|\n",
      "|               72|           1|              1|\n",
      "|               72|           2|              1|\n",
      "|               73|        NULL|           1059|\n",
      "|               73|           1|              4|\n",
      "|               73|           2|            961|\n",
      "|               73|           4|             47|\n",
      "|               73|           5|             47|\n",
      "|               74|        NULL|             26|\n",
      "|               74|           1|              3|\n",
      "|               74|           2|             23|\n",
      "|               75|        NULL|             10|\n",
      "+-----------------+------------+---------------+\n",
      "only showing top 100 rows\n",
      "\n"
     ]
    }
   ],
   "source": [
    "# DataFrame con el número de post por usuario y tipo pregunta\n",
    "# Los campos a null son de agregación, por ejemplo:\n",
    "# null null = todas los posts\n",
    "# null 1    = todos los post de tipo 1\n",
    "# 4    null = todos los posts del usuario con id 4\n",
    "# 4    1    = todos los post de tipo 1 del usuario 4\n",
    "# NOTA: aparecen posts con tipo 4 y 5, no se a que corresponden\n",
    "dfPostPorUsuarioyTipo: DataFrame = grupoPorUsuarioyTipoPost.count()\n",
    "dfPostPorUsuarioyTipo.printSchema()\n",
    "dfPostPorUsuarioyTipo.select(colUserId.alias(\"Número de usuario\"),\n",
    "                             postTypeIdCol.alias(\"Tipo de post\"),\n",
    "                             colNPosts.alias(\"Número de posts\"))\\\n",
    "                     .orderBy(colUserId,postTypeIdCol)\\\n",
    "                     .show(100)"
   ]
  },
  {
   "cell_type": "markdown",
   "metadata": {},
   "source": [
    "## Joins\n",
    "Spark ofrece la posibilidad de realizar múltiples tipos de joins\n",
    "\n",
    "  - inner, outer, left outer, right outer, left semi, left anti, cross"
   ]
  },
  {
   "cell_type": "code",
   "execution_count": 40,
   "metadata": {
    "autoscroll": "auto"
   },
   "outputs": [
    {
     "name": "stdout",
     "output_type": "stream",
     "text": [
      "Número de preguntas con respuesta aceptada = 82491\n",
      "Número de respuestas = 211615\n"
     ]
    }
   ],
   "source": [
    "# Buscamos unir las preguntas con respuesta aceptada con la respuesta que se ha elegido como aceptada\n",
    "# Unimos el campo AcceptedAnswerId de las preguntas con el campo id de las respuestas\n",
    "dfPreguntas: DataFrame = questionsWithAcceptedAnswersDf\\\n",
    "                .select(colUserId, colCuerpo, acceptedAnswerIdCol)\\\n",
    "                .withColumnRenamed(\"OwnerUserId\", \"Usuario pregunta\")\\\n",
    "                .withColumnRenamed(\"Body\", \"Pregunta\")\\\n",
    "                .withColumnRenamed(\"AcceptedAnswerId\", \"ID Resp Aceptada\")\n",
    "\n",
    "colId: Column = col(\"id\")\n",
    "dfRespuestas: DataFrame = dfSE\\\n",
    "                .select(colId, colUserId, colCuerpo)\\\n",
    "                .where(postTypeIdCol == 2)\\\n",
    "                .withColumnRenamed(\"Id\", \"ID Respuesta\")\\\n",
    "                .withColumnRenamed(\"OwnerUserId\", \"Usuario respuesta\")\\\n",
    "                .withColumnRenamed(\"Body\", \"Respuesta\")\n",
    "\n",
    "nPreguntas = dfPreguntas.count()\n",
    "AnswerCount = dfRespuestas.count()\n",
    "print(\"Número de preguntas con respuesta aceptada = {0}\".format(nPreguntas))\n",
    "print(\"Número de respuestas = {0}\".format(AnswerCount))"
   ]
  },
  {
   "cell_type": "code",
   "execution_count": 41,
   "metadata": {
    "autoscroll": "auto"
   },
   "outputs": [],
   "source": [
    "# Expresión para el join\n",
    "joinExpression: Column = dfPreguntas[\"ID Resp Aceptada\"] == dfRespuestas[\"ID Respuesta\"]"
   ]
  },
  {
   "cell_type": "code",
   "execution_count": 42,
   "metadata": {
    "autoscroll": "auto"
   },
   "outputs": [
    {
     "name": "stdout",
     "output_type": "stream",
     "text": [
      "Número de filas = 82491\n"
     ]
    },
    {
     "name": "stderr",
     "output_type": "stream",
     "text": [
      "[Stage 90:==============>                                           (2 + 6) / 8]\r"
     ]
    },
    {
     "name": "stdout",
     "output_type": "stream",
     "text": [
      "+----------------+--------------------+----------------+------------+-----------------+--------------------+\n",
      "|Usuario pregunta|            Pregunta|ID Resp Aceptada|ID Respuesta|Usuario respuesta|           Respuesta|\n",
      "+----------------+--------------------+----------------+------------+-----------------+--------------------+\n",
      "|              29|<p>¿Cómo se hace ...|              31|          31|               37|<p>Podes cambiar ...|\n",
      "|             305|<p>En <a href=\"/q...|             137|         137|              305|<p>De acuerdo con...|\n",
      "|              83|<p>Supongamos que...|             192|         192|              320|<p>Fácil de escri...|\n",
      "|             100|<p>Estoy observan...|             243|         243|               83|<p><sub>Respondo ...|\n",
      "|             187|<p>Muchas veces u...|             412|         412|               24|<p>Segmentation f...|\n",
      "|             342|<p>Cuando corro u...|             458|         458|              342|<p>Ya lo pude res...|\n",
      "|             100|<p>Usando Python,...|             513|         513|              100|<p>Puedes usar <c...|\n",
      "|             288|<p>Tengo esta mat...|             587|         587|              273|<p>Una tabla hash...|\n",
      "|             366|<blockquote><br/>...|             593|         593|              366|<p>Cuando represe...|\n",
      "|             342|<p>He estado trab...|             623|         623|               22|<p>Si entiendo tu...|\n",
      "|              25|<p>Hoy encontré u...|             804|         804|               20|<p>Según la <a hr...|\n",
      "|             100|<p>Tengo el sigui...|             808|         808|             1144|<p>Puedes usar la...|\n",
      "|              83|<p>Estoy buscando...|             858|         858|              330|<p>Realmente, tod...|\n",
      "|             100|<h2>Contexto</h2>...|             879|         879|               28|<p>Si estás usand...|\n",
      "|              75|<p>Usando ReactJS...|             898|         898|               75|<p><a href=\"https...|\n",
      "|             729|<p>Deseo tomar el...|             908|         908|               28|<p>Intenta con el...|\n",
      "|             225|<p>Como primera o...|             970|         970|               28|<p>Para este caso...|\n",
      "|            1274|<p>Estoy aprendie...|            1031|        1031|              100|<p>La función <a ...|\n",
      "|             517|<p>¿Por qué si us...|            1133|        1133|               20|<p>Lo que pasa es...|\n",
      "|             729|<p>Recién he inst...|            1183|        1183|             1884|<p>Por favor no u...|\n",
      "|            1859|<p>Necesito obten...|            1198|        1198|               25|<p>No necesitas u...|\n",
      "|            1527|<p>En el código d...|            1212|        1212|               87|<p>El problema es...|\n",
      "|            1943|<p>¿Cuál es la di...|            1238|        1238|               21|<h2>Sincronizació...|\n",
      "|             629|<p>tengo esta fun...|            1322|        1322|               28|<p>MVC realiza el...|\n",
      "|            1943|<p>En mi aplicaci...|            1395|        1395|              301|<h1>Éstas son las...|\n",
      "|             301|<p>He visto en un...|            1496|        1496|              463|<p>En C++03 había...|\n",
      "|             399|<p>Estoy tratando...|            1507|        1507|              555|<p>Estuve tratand...|\n",
      "|              65|<h1>Pregunta</h1>...|            1510|        1510|               65|<h1>Respuesta cor...|\n",
      "|            2004|<p>He estado inve...|            1653|        1653|              398|<p>Un delegado es...|\n",
      "|            2238|<p>Quisiera saber...|            1745|        1745|             2027|<p>Puedes usar un...|\n",
      "|            2230|<p>No consigo pod...|            1808|        1808|             2230|<p><strong>Soluci...|\n",
      "|            1839|<p>Suponiendo que...|            1873|        1873|              100|<p>Puedes usar <a...|\n",
      "|            1119|<p>Quisiera poder...|            1877|        1877|             1119|<p>En Tableau Ser...|\n",
      "|            1839|<p>Suponiendo que...|            1889|        1889|              416|<p>Se puede leer ...|\n",
      "|            1005|<p>Tengo un esque...|            1890|        1890|              100|<p>Recuerda que <...|\n",
      "|            2346|<p>Estoy empezand...|            1955|        1955|              353|<p>Bueno no se qu...|\n",
      "|            2004|<p>Tengo una apli...|            2015|        2015|             2380|<p>OAuth (Open Au...|\n",
      "|            2379|<p>Que tal amigos...|            2018|        2018|              634|<p>Este parece se...|\n",
      "|             301|<p>Tengo que inst...|            2027|        2027|              634|<p><code>Interior...|\n",
      "|             870|<p>En la document...|            2198|        2198|              100|<p>La función <co...|\n",
      "|             430|<p>En <code>javas...|            2238|        2238|               23|<p>Al usar <code>...|\n",
      "|             345|<p>Estoy escribie...|            2322|        2322|               24|<p>No me gusta re...|\n",
      "|            2236|<p>Encontrar la p...|            2323|        2323|              100|<p>Podrías reduci...|\n",
      "|             870|<p>Estoy intentan...|            2342|        2342|              301|<p>A mi me funcio...|\n",
      "|            2236|<p>Comprobar que ...|            2392|        2392|              100|<p>Bueno, por lo ...|\n",
      "|            1596|<p>Tengo un métod...|            2393|        2393|             1596|<p>Despues de lee...|\n",
      "|            2652|<p>Estoy trabajan...|            2396|        2396|             2694|<p>El concepto de...|\n",
      "|            1466|<p>Buenos días. T...|            2443|        2443|             1596|<p>Cambie un poco...|\n",
      "|            2472|<p>Estoy intentan...|            2484|        2484|               20|<p>El constructor...|\n",
      "|            2759|<p>Estoy desarrol...|            2542|        2542|              100|<p>Podrías pasar ...|\n",
      "|            2645|<p>Mi consulta se...|            2572|        2572|               24|<p>Puede que modi...|\n",
      "|            2779|<p>Estoy comenzan...|            2601|        2601|               20|<p>Para eso exist...|\n",
      "|            1914|<p>Quiero armar u...|            2606|        2606|             2027|<p>Puedes ver <a ...|\n",
      "|              24|<p>Estoy tenenien...|            2610|        2610|               24|<p>Despues de ind...|\n",
      "|            2802|<p>Estoy llamando...|            2663|        2663|              801|<p>Hasta donde sé...|\n",
      "|              24|<p>Cuales son los...|            2678|        2678|               24|<h1>Para GNU/Linu...|\n",
      "|            2540|<p>Se entiende qu...|            2683|        2683|              630|<p>Creo que no en...|\n",
      "|            2230|<p>Estoy montando...|            2721|        2721|               25|<p>Algo así...</p...|\n",
      "|              75|<p>Intenté hacer ...|            2738|        2738|               25|<p>La forma es</p...|\n",
      "|             353|<p>En mi código t...|            2802|        2802|              822|<p>Te recomiendo ...|\n",
      "|            2133|<p>En un controla...|            2874|        2874|             2224|<p>El problema qu...|\n",
      "|            2230|<p>Recibo un JSON...|            2924|        2924|               25|<p>Antes de inten...|\n",
      "|            2539|<p>Dentro de <cod...|            2945|        2945|               25|<p>Declara la var...|\n",
      "|            2653|<p>Tengo un mapa ...|            2962|        2962|              250|<p>Una posible so...|\n",
      "|            2653|<p>Según he leido...|            2996|        2996|             2653|<p>He encontrado ...|\n",
      "|              78|<p>Usando la libr...|            3000|        3000|             2609|<p>Todo indica qu...|\n",
      "|            2920|<p>El código tal ...|            3013|        3013|              353|<p>Debes definir ...|\n",
      "|            2645|<p>Tengo que acci...|            3062|        3062|               24|<p>Puede usar <a ...|\n",
      "|             301|<p>Si tengo un ar...|            3069|        3069|              463|<p>Lo primero es ...|\n",
      "|            2955|<p>Estoy trabajan...|            3087|        3087|              517|<p>Depende del ti...|\n",
      "|             517|<p>Tengo una bbdd...|            3098|        3098|              250|<p>Una posible so...|\n",
      "|            1505|<p>Estoy trabajan...|            3124|        3124|             1505|<p>El problema es...|\n",
      "|            2004|<p>Comencé a usar...|            3149|        3149|             2958|<p>La única difer...|\n",
      "|            2975|<p>Que tal aún no...|            3151|        3151|              191|<p>Si lo que dese...|\n",
      "|            2230|<p>Tengo la url <...|            3166|        3166|               25|<p>Según <a href=...|\n",
      "|            2718|<p>Tengo creada u...|            3175|        3175|             2718|<p>Para agregar u...|\n",
      "|            2645|<p>Quiero agregar...|            3183|        3183|             1943|<p>Según la excep...|\n",
      "|              78|<p>Tengo un formu...|            3213|        3213|              250|<p>El problema es...|\n",
      "|            2152|<p>Estoy utilizan...|            3264|        3264|              116|<p>Antes que nada...|\n",
      "|            3008|<p>Amigos, estoy ...|            3387|        3387|             3008|<p>Laravel 4.2 al...|\n",
      "|            2230|<p>Estoy creando ...|            3436|        3436|               95|<p>Al realizar un...|\n",
      "|            1399|<p>Estoy trabajan...|            3631|        3631|             2600|<p>En el tag <cod...|\n",
      "|             389|<p>Tengo la sigui...|            3657|        3657|              630|<p>En la creación...|\n",
      "|            3199|<p>Estoy tratando...|            3691|        3691|              250|<p>Como bien dice...|\n",
      "|            3204|<p>Tengo un enlac...|            3725|        3725|              250|<p>Tu código está...|\n",
      "|             342|<p>Buen día. De v...|            3744|        3744|               95|<p>Me parece que ...|\n",
      "|            3257|<p>Quisiera crear...|            3795|        3795|               25|<p>Hasta donde yo...|\n",
      "|            2539|<p>Estoy tratando...|            3918|        3918|             NULL|<p>El problema es...|\n",
      "|            3130|<p>Estimados, ten...|            3941|        3941|             3130|<p>Encontré una n...|\n",
      "|            3327|<p>Buenos dias. E...|            3986|        3986|              519|<p>El scope dentr...|\n",
      "|            3336|<p>Necesito imple...|            3997|        3997|              100|<p>Puedes usar el...|\n",
      "|             870|<p>He visto que m...|            4036|        4036|              100|<h2>#!/usr/bin/en...|\n",
      "|            3393|<p>Estoy en un gr...|            4126|        4126|              353|<p>Prueba con est...|\n",
      "|            1575|<p>Estoy tratando...|            4199|        4199|               25|<p>Para comprobar...|\n",
      "|            3343|<p>En un método d...|            4229|        4229|             NULL|<p>Basado en <a h...|\n",
      "|            2282|<p>Despues del an...|            4256|        4256|             1882|<p>El problema qu...|\n",
      "|            3415|<p>Cuando yo paso...|            4259|        4259|             3468|<h2>Antes de nada...|\n",
      "|            2747|<p>Estoy trabajan...|            4291|        4291|             2004|<p>Puedes hacer l...|\n",
      "|            2675|<p>Tengo un probl...|            4354|        4354|               95|<p>Me parece que ...|\n",
      "|             822|<p>Tengo la sigui...|            4368|        4368|              158|<p>La clase <code...|\n",
      "+----------------+--------------------+----------------+------------+-----------------+--------------------+\n",
      "only showing top 100 rows\n",
      "\n"
     ]
    },
    {
     "name": "stderr",
     "output_type": "stream",
     "text": [
      "                                                                                \r"
     ]
    }
   ],
   "source": [
    "# Inner join\n",
    "# Solo se incluyen las filas para las que la joinExpression es true\n",
    "joinType = \"inner\"\n",
    "dfInner: DataFrame = dfPreguntas.join(dfRespuestas, joinExpression, joinType)\n",
    "nFilas = dfInner.count()\n",
    "print(\"Número de filas = {0}\".format(nFilas))\n",
    "dfInner.show(100)"
   ]
  },
  {
   "cell_type": "code",
   "execution_count": 43,
   "metadata": {
    "autoscroll": "auto"
   },
   "outputs": [
    {
     "name": "stdout",
     "output_type": "stream",
     "text": [
      "Número de filas = 211615\n"
     ]
    },
    {
     "name": "stderr",
     "output_type": "stream",
     "text": [
      "[Stage 104:>                                                        (0 + 8) / 8]\r"
     ]
    },
    {
     "name": "stdout",
     "output_type": "stream",
     "text": [
      "+----------------+--------------------+----------------+------------+-----------------+--------------------+\n",
      "|Usuario pregunta|            Pregunta|ID Resp Aceptada|ID Respuesta|Usuario respuesta|           Respuesta|\n",
      "+----------------+--------------------+----------------+------------+-----------------+--------------------+\n",
      "|              29|<p>¿Cómo se hace ...|              31|          31|               37|<p>Podes cambiar ...|\n",
      "|            NULL|                NULL|            NULL|          44|               25|<p>Así es como lo...|\n",
      "|            NULL|                NULL|            NULL|          76|               93|<p>Puedes usar <a...|\n",
      "|            NULL|                NULL|            NULL|          78|               72|<p>Usa <a href=\"h...|\n",
      "|            NULL|                NULL|            NULL|         108|              149|<p>Puedes aplicar...|\n",
      "|            NULL|                NULL|            NULL|         126|              326|<p>No es necesari...|\n",
      "|            NULL|                NULL|            NULL|         133|               83|<p>Se me ocurren ...|\n",
      "|             305|<p>En <a href=\"/q...|             137|         137|              305|<p>De acuerdo con...|\n",
      "|              83|<p>Supongamos que...|             192|         192|              320|<p>Fácil de escri...|\n",
      "|            NULL|                NULL|            NULL|         193|              258|<p>Tendrias que h...|\n",
      "|            NULL|                NULL|            NULL|         210|              481|<p>Al igual que e...|\n",
      "|            NULL|                NULL|            NULL|         211|              136|<p>Asocia el curs...|\n",
      "|            NULL|                NULL|            NULL|         236|               83|<p>Al parecer des...|\n",
      "|             100|<p>Estoy observan...|             243|         243|               83|<p><sub>Respondo ...|\n",
      "|            NULL|                NULL|            NULL|         251|              547|<p>Normalmente <s...|\n",
      "|            NULL|                NULL|            NULL|         255|              557|<p><a href=\"https...|\n",
      "|            NULL|                NULL|            NULL|         271|               95|<p>Es un vestigio...|\n",
      "|            NULL|                NULL|            NULL|         300|               95|<p>Traducido de l...|\n",
      "|            NULL|                NULL|            NULL|         321|              504|<p>A parte de lo ...|\n",
      "|            NULL|                NULL|            NULL|         322|              330|<p>Sin duda <a hr...|\n",
      "|            NULL|                NULL|            NULL|         332|               25|<h2>Utiliza media...|\n",
      "|            NULL|                NULL|            NULL|         384|               95|<p>Es un concepto...|\n",
      "|            NULL|                NULL|            NULL|         385|              302|<p>Una violacion ...|\n",
      "|            NULL|                NULL|            NULL|         392|              610|<p>La mejor opció...|\n",
      "|             187|<p>Muchas veces u...|             412|         412|               24|<p>Segmentation f...|\n",
      "|            NULL|                NULL|            NULL|         451|              729|<p>La mejor forma...|\n",
      "|             342|<p>Cuando corro u...|             458|         458|              342|<p>Ya lo pude res...|\n",
      "|            NULL|                NULL|            NULL|         463|               24|<p><strong>Autor ...|\n",
      "|             100|<p>Usando Python,...|             513|         513|              100|<p>Puedes usar <c...|\n",
      "|            NULL|                NULL|            NULL|         580|               95|<p>Complementando...|\n",
      "|             288|<p>Tengo esta mat...|             587|         587|              273|<p>Una tabla hash...|\n",
      "|             366|<blockquote><br/>...|             593|         593|              366|<p>Cuando represe...|\n",
      "|             342|<p>He estado trab...|             623|         623|               22|<p>Si entiendo tu...|\n",
      "|            NULL|                NULL|            NULL|         626|               20|<p>Lo primero que...|\n",
      "|            NULL|                NULL|            NULL|         772|              398|<p>Lo mejor en es...|\n",
      "|            NULL|                NULL|            NULL|         787|               24|<p>Puedes especif...|\n",
      "|            NULL|                NULL|            NULL|         796|              100|<p>Encontré una f...|\n",
      "|              25|<p>Hoy encontré u...|             804|         804|               20|<p>Según la <a hr...|\n",
      "|            NULL|                NULL|            NULL|         806|              225|<p>C y C++ maneja...|\n",
      "|             100|<p>Tengo el sigui...|             808|         808|             1144|<p>Puedes usar la...|\n",
      "|            NULL|                NULL|            NULL|         844|              100|<p>Me pasó alguna...|\n",
      "|              83|<p>Estoy buscando...|             858|         858|              330|<p>Realmente, tod...|\n",
      "|            NULL|                NULL|            NULL|         874|              154|<p>Una de las sol...|\n",
      "|            NULL|                NULL|            NULL|         876|              305|<p>De acuerdo con...|\n",
      "|             100|<h2>Contexto</h2>...|             879|         879|               28|<p>Si estás usand...|\n",
      "|              75|<p>Usando ReactJS...|             898|         898|               75|<p><a href=\"https...|\n",
      "|             729|<p>Deseo tomar el...|             908|         908|               28|<p>Intenta con el...|\n",
      "|            NULL|                NULL|            NULL|         950|              301|<h1>NO SIEMPRE</h...|\n",
      "|             225|<p>Como primera o...|             970|         970|               28|<p>Para este caso...|\n",
      "|            NULL|                NULL|            NULL|        1016|              517|<p>Puedes usar <a...|\n",
      "|            NULL|                NULL|            NULL|        1019|              531|<p>La diferencia ...|\n",
      "|            NULL|                NULL|            NULL|        1025|              629|<p><strong>ECMASc...|\n",
      "|            1274|<p>Estoy aprendie...|            1031|        1031|              100|<p>La función <a ...|\n",
      "|            NULL|                NULL|            NULL|        1034|             1291|<p>El <code>{% cs...|\n",
      "|            NULL|                NULL|            NULL|        1064|             1462|<p>La cantidad de...|\n",
      "|            NULL|                NULL|            NULL|        1084|              430|<p>Me parece que ...|\n",
      "|             517|<p>¿Por qué si us...|            1133|        1133|               20|<p>Lo que pasa es...|\n",
      "|            NULL|                NULL|            NULL|        1156|              729|<h3>Solución #1 -...|\n",
      "|            NULL|                NULL|            NULL|        1157|               83|<p>Tal y como se ...|\n",
      "|            NULL|                NULL|            NULL|        1160|               95|<p>Para un <code>...|\n",
      "|            NULL|                NULL|            NULL|        1163|              273|<p>Cuando uses <c...|\n",
      "|            NULL|                NULL|            NULL|        1165|             1839|<p>Si no quieres ...|\n",
      "|            NULL|                NULL|            NULL|        1175|              225|<p><code>chown</c...|\n",
      "|             729|<p>Recién he inst...|            1183|        1183|             1884|<p>Por favor no u...|\n",
      "|            1859|<p>Necesito obten...|            1198|        1198|               25|<p>No necesitas u...|\n",
      "|            NULL|                NULL|            NULL|        1201|               95|<p>Hay muchas opc...|\n",
      "|            1527|<p>En el código d...|            1212|        1212|               87|<p>El problema es...|\n",
      "|            NULL|                NULL|            NULL|        1223|              562|<p>Podrías usar e...|\n",
      "|            NULL|                NULL|            NULL|        1226|               93|<p>Puedes usar <a...|\n",
      "|            NULL|                NULL|            NULL|        1235|              353|<p>En realidad ne...|\n",
      "|            1943|<p>¿Cuál es la di...|            1238|        1238|               21|<h2>Sincronizació...|\n",
      "|            NULL|                NULL|            NULL|        1243|             1192|<p>Otra forma usa...|\n",
      "|            NULL|                NULL|            NULL|        1259|              500|<p>Los problemas ...|\n",
      "|            NULL|                NULL|            NULL|        1265|              398|<p>Insisto en que...|\n",
      "|            NULL|                NULL|            NULL|        1274|               75|<p>Lo que tenés q...|\n",
      "|            NULL|                NULL|            NULL|        1276|              116|<p>Esto implica r...|\n",
      "|            NULL|                NULL|            NULL|        1280|               95|<p>Uno de los obj...|\n",
      "|            NULL|                NULL|            NULL|        1294|             1986|<p>Pues necesitas...|\n",
      "|            NULL|                NULL|            NULL|        1303|             1900|<p>Lo siento pero...|\n",
      "|            NULL|                NULL|            NULL|        1307|             2025|<pre><code>Random...|\n",
      "|             629|<p>tengo esta fun...|            1322|        1322|               28|<p>MVC realiza el...|\n",
      "|            NULL|                NULL|            NULL|        1331|              344|<p>Creo que el pr...|\n",
      "|            NULL|                NULL|            NULL|        1344|             1958|<p>Cero que no me...|\n",
      "|            NULL|                NULL|            NULL|        1378|              273|<p><code>wait()</...|\n",
      "|            1943|<p>En mi aplicaci...|            1395|        1395|              301|<h1>Éstas son las...|\n",
      "|            NULL|                NULL|            NULL|        1404|              250|<p>Una solución r...|\n",
      "|            NULL|                NULL|            NULL|        1418|              398|<p>El campo en la...|\n",
      "|             301|<p>He visto en un...|            1496|        1496|              463|<p>En C++03 había...|\n",
      "|            NULL|                NULL|            NULL|        1500|             1596|<p>Puedes ir toma...|\n",
      "|             399|<p>Estoy tratando...|            1507|        1507|              555|<p>Estuve tratand...|\n",
      "|              65|<h1>Pregunta</h1>...|            1510|        1510|               65|<h1>Respuesta cor...|\n",
      "|            NULL|                NULL|            NULL|        1533|              100|<p>Significa que ...|\n",
      "|            NULL|                NULL|            NULL|        1618|              250|<p>Según la <a hr...|\n",
      "|            NULL|                NULL|            NULL|        1634|              398|<p>Puede ayuda pe...|\n",
      "|            2004|<p>He estado inve...|            1653|        1653|              398|<p>Un delegado es...|\n",
      "|            NULL|                NULL|            NULL|        1743|               87|<p>Mirando un poc...|\n",
      "|            2238|<p>Quisiera saber...|            1745|        1745|             2027|<p>Puedes usar un...|\n",
      "|            NULL|                NULL|            NULL|        1759|              301|<p><a href=\"https...|\n",
      "|            NULL|                NULL|            NULL|        1766|              301|<p>He podido reso...|\n",
      "|            NULL|                NULL|            NULL|        1771|             1399|<p>Xavier, primer...|\n",
      "+----------------+--------------------+----------------+------------+-----------------+--------------------+\n",
      "only showing top 100 rows\n",
      "\n"
     ]
    },
    {
     "name": "stderr",
     "output_type": "stream",
     "text": [
      "                                                                                \r"
     ]
    }
   ],
   "source": [
    "# Outer join\n",
    "# Incluye todas las filas de ambos DataFrames.\n",
    "# En el caso de que no haya equivalente el alguno de los DataFrame, se meten nulls\n",
    "joinType = \"outer\"\n",
    "dfOuter: DataFrame = dfPreguntas.join(dfRespuestas, joinExpression, joinType)\n",
    "nFilas = dfOuter.count()\n",
    "print(\"Número de filas = {0}\".format(nFilas))\n",
    "dfOuter.show(100)"
   ]
  },
  {
   "cell_type": "code",
   "execution_count": 44,
   "metadata": {
    "autoscroll": "auto"
   },
   "outputs": [
    {
     "name": "stdout",
     "output_type": "stream",
     "text": [
      "Número de filas = 82491\n"
     ]
    },
    {
     "name": "stderr",
     "output_type": "stream",
     "text": [
      "[Stage 118:=====================>                                   (3 + 5) / 8]\r"
     ]
    },
    {
     "name": "stdout",
     "output_type": "stream",
     "text": [
      "+----------------+--------------------+----------------+------------+-----------------+--------------------+\n",
      "|Usuario pregunta|            Pregunta|ID Resp Aceptada|ID Respuesta|Usuario respuesta|           Respuesta|\n",
      "+----------------+--------------------+----------------+------------+-----------------+--------------------+\n",
      "|              29|<p>¿Cómo se hace ...|              31|          31|               37|<p>Podes cambiar ...|\n",
      "|             305|<p>En <a href=\"/q...|             137|         137|              305|<p>De acuerdo con...|\n",
      "|              83|<p>Supongamos que...|             192|         192|              320|<p>Fácil de escri...|\n",
      "|             100|<p>Estoy observan...|             243|         243|               83|<p><sub>Respondo ...|\n",
      "|             187|<p>Muchas veces u...|             412|         412|               24|<p>Segmentation f...|\n",
      "|             342|<p>Cuando corro u...|             458|         458|              342|<p>Ya lo pude res...|\n",
      "|             399|<p>Estoy tratando...|            1507|        1507|              555|<p>Estuve tratand...|\n",
      "|             345|<p>Estoy escribie...|            2322|        2322|               24|<p>No me gusta re...|\n",
      "|           18682|<p>Tengo un probl...|           73789|       73789|            32716|<p>Asumiendo que ...|\n",
      "|           25813|<p>Bueno el error...|           73842|       73842|             4163|<p>¿Por qué no si...|\n",
      "|           43742|<p>Con <code>PREP...|           73862|       73862|            14311|<p>No, no se pued...|\n",
      "|           45089|<p>Tengo esta cla...|           73952|       73952|            41365|<p>Yo sufri el mi...|\n",
      "|           19610|<p>Estoy intentan...|           73967|       73967|            19610|<p>Vale. Ya está ...|\n",
      "|           15374|<p>Que tal amigos...|           74097|       74097|               95|<p>Necesitas únic...|\n",
      "|            NULL|<p>quiero utiliza...|           74114|       74114|            44434|<p>te recomiendo ...|\n",
      "|           25813|<p>Este es mi cód...|           74163|       74163|               95|<p>Puedes definir...|\n",
      "|           43380|<p>Este es mi cód...|           74166|       74166|            18369|<pre><code>functi...|\n",
      "|           43846|<p>Buenas,</p><br...|           74242|       74242|            12808|<p>El caso base e...|\n",
      "|           45174|<p>Necesito hacer...|           75412|       75412|            42443|<p>Hace falta un ...|\n",
      "|           18906|<p>He estado inve...|           96937|       96937|               95|<p>Hace varias ve...|\n",
      "|            2633|<p>Intenté aplica...|          148641|      148641|              630|<p>Siguiendo el c...|\n",
      "|           34425|<p>Estoy trabajan...|          148727|      148727|            18376|<p>Lo que quieres...|\n",
      "|           57233|<p>estoy replican...|          148782|      148782|             7123|<p>El código es p...|\n",
      "|           14963|<p>Mi problema co...|          148898|      148898|            69913|<p>Puedes utiliza...|\n",
      "|           66547|<p>el día de hoy,...|          148966|      148966|            66547|<p>Aparentemente ...|\n",
      "|            NULL|<p>Tengo una func...|          149014|      149014|             NULL|<p>Saludos con el...|\n",
      "|           31764|<p>Supongamos que...|          149022|      149022|            31764|<p>Lo que se me o...|\n",
      "|           50489|<p>Hola buenas te...|          149057|      149057|            18376|<p>Si te fijas, e...|\n",
      "|           80364|<p>Si tengo un se...|          149090|      149090|            80586|<p>Tendrias que h...|\n",
      "|           77714|<p>Estoy creando ...|          149105|      149105|            73136|<p>Considera la s...|\n",
      "|           80492|<blockquote><br/>...|          149117|      149117|             NULL|<p>De la document...|\n",
      "|           13759|<p>Tengo una vist...|          149131|      149131|            80607|<p>Eso ocurre por...|\n",
      "|           39328|<p>Estoy trabajan...|          149133|      149133|            47366|<p>Usando <code>t...|\n",
      "|           11132|<p>Cuando intento...|          168937|      168937|            11132|<p><strong>¿Causa...|\n",
      "|          106853|<p>Estoy intentan...|          225002|      225002|               95|<p>Si deseas usar...|\n",
      "|          112251|<p>Tengo una apli...|          225042|      225042|           110509|<p>Algo así deber...|\n",
      "|          106265|<p>¿Es necesario ...|          225045|      225045|             7123|<p>Depende de qué...|\n",
      "|          112252|<p>Me piden que c...|          225050|      225050|             7123|<p>Ya que es una ...|\n",
      "|          109237|<p>Quiero hacer u...|          225244|      225244|           107962|<p>dependiendo de...|\n",
      "|           65840|<p>Lo que quiero ...|          225253|      225253|            65840|<p>Ya lo he soluc...|\n",
      "|          106738|<p>Tengo una pági...|          225257|      225257|              250|<p>Los parámetros...|\n",
      "|          110559|<p>Tengo 3 tablas...|          225264|      225264|            31764|<p>Una forma senc...|\n",
      "|          112349|<p>Me encuentro h...|          225310|      225310|            18376|<p>A ver... hay d...|\n",
      "|           88625|<p>solo necesito ...|          225365|      225365|             3436|<p>He arreglado e...|\n",
      "|          112397|<p>Quisiera saber...|          225419|      225419|           112049|<p>Solo deberías ...|\n",
      "|           33627|<p>Estoy haciendo...|          225446|      225446|            88499|<p>Cuando quiero ...|\n",
      "|           98851|<p>estoy haciendo...|          225459|      225459|             2600|<p>Si el campo pe...|\n",
      "|           33466|<p>Tengo un menu ...|          225496|      225496|            11103|<p>Puedes hacer u...|\n",
      "|           19919|<p>Utilizo esta c...|          225664|      225664|             NULL|<p>Como desconozc...|\n",
      "|          101018|<p>Buenas tengo e...|          225672|      225672|            97355|<p>Te dejo un eje...|\n",
      "|          106028|<p>¿Por qué me ma...|          227051|      227051|           106028|<p>Resolvi el pro...|\n",
      "|          107280|<p>he estado busc...|          274128|      274128|              166|<p>Esto se hace c...|\n",
      "|           82144|<p>tengo un probl...|          301332|      301332|             3834|<p>Creo que estas...|\n",
      "|          145349|<p>Teniendo una A...|          301417|      301417|            77879|<p>Para resolverl...|\n",
      "|           71275|<p>Al ejecutar el...|          301572|      301572|            82862|<p>Con <code>meet...|\n",
      "|           56616|<p>Tengo un dicci...|          301611|      301611|            61388|<p>puedes hacerlo...|\n",
      "|           75090|<p>Estoy tratando...|          301634|      301634|            10398|<p>Te sugiero usa...|\n",
      "|           20709|<p>He creado una ...|          301644|      301644|             6095|<p>Puedes usar la...|\n",
      "|          142738|<p>Hola estoy emp...|          301664|      301664|            14567|<p>Amigo, por el ...|\n",
      "|          145572|<blockquote><br/>...|          301730|      301730|           136135|<p>En primer luga...|\n",
      "|           63247|<p>trabajo en un ...|          301766|      301766|            29967|<p>Si te interesa...|\n",
      "|          145598|<p>Quiero que tod...|          301799|      301799|            33305|<p>Puedes resolve...|\n",
      "|          145064|<p>las opciones s...|          301818|      301818|           144052|<p>Puedes colocar...|\n",
      "|          145657|<p>Hola  amigos b...|          301859|      301859|           145491|<p>espero ayudart...|\n",
      "|          143265|<p>Estoy bloquead...|          301877|      301877|            38103|<p>Puedes utiliza...|\n",
      "|          138399|<p>Tengo que acla...|          301974|      301974|            74710|<p>El problema pu...|\n",
      "|          145473|<p>Tengo esta cód...|          304388|      304388|           145473|<p>Me respondo a ...|\n",
      "|          138234|<p>tengo una cons...|          379442|      379442|           156982|<p>Quizás no le e...|\n",
      "|          152335|<p>estoy desarrol...|          379443|      379443|           156982|<blockquote><br/>...|\n",
      "|          151520|<p>-Buenas noches...|          379489|      379489|            32292|<p>Bastaria con u...|\n",
      "|          169804|<p>Estoy tratando...|          379536|      379536|            60103|<p>Tu PK <code>xu...|\n",
      "|          180042|<p>¿Cómo se haría...|          379541|      379541|             NULL|<blockquote><br/>...|\n",
      "|          131603|<p>si tengo por e...|          379623|      379623|           128299|<p>Aunque el ejem...|\n",
      "|          127031|<p>Tengo el sigui...|          379671|      379671|            31764|<p>Suponiendo un ...|\n",
      "|          181839|<p>Por favor su a...|          379681|      379681|            32292|<p>Para que el ef...|\n",
      "|           19610|<p>Estoy optimiza...|          379737|      379737|           156982|<p>Creo esto podr...|\n",
      "|          187018|<p>como puedo hac...|          379877|      379877|            54039|<p>No es recomend...|\n",
      "|          187048|<p>estaba teniedo...|          379938|      379938|            32292|<p>Para codigo HT...|\n",
      "|          187165|<p>(No tengo clar...|          380137|      380137|           184875|<p>Puedes usar:</...|\n",
      "|          117155|<p>Tengo un <code...|          380253|      380253|            31764|<p>Una forma senc...|\n",
      "|            5271|<p>De nuevo yo co...|          380257|      380257|            31764|<p>Si no te enten...|\n",
      "|          172589|<p>tengo el sigui...|          461139|      461139|           230131|<p>Por lo que veo...|\n",
      "|          226569|<p>El programa de...|          461203|      461203|           152765|<p>Tu metodo EDT ...|\n",
      "|          177130|<p>Buen día</p><b...|          461227|      461227|           180118|<p>Con comprensió...|\n",
      "|          233922|<p>Estoy realizan...|          461335|      461335|           199708|<p>El primer erro...|\n",
      "|          233881|<p><a href=\"https...|          461342|      461342|               21|<p>La idea básica...|\n",
      "|          215327|<p>Esto usando Da...|          461434|      461434|           184395|<p>Muy fácil, cop...|\n",
      "|          233886|<p>Tengo un probl...|          461569|      461569|           233886|<p>Al inicializar...|\n",
      "|          234038|<p>Tengo un archi...|          461622|      461622|           180118|<p>Una solución:<...|\n",
      "|          166389|<p>este diccionar...|          461696|      461696|               21|<p>En realidad tu...|\n",
      "|          209185|<p>Estoy buscando...|          461729|      461729|           226495|<p>Creo haber dad...|\n",
      "|          227259|<p>Estoy realizan...|          461740|      461740|           192192|<p>Lo que pasa am...|\n",
      "|          210565|<p>Tengo un probl...|          461782|      461782|               21|<p>El mensaje de ...|\n",
      "|          234172|<p>Buen dia/noche...|          461901|      461901|            98537|<p>Por lo que veo...|\n",
      "|          277991|<p>Tengo el sigui...|          545264|      545264|           294210|<br/><p>Se muestr...|\n",
      "|          294228|<p>No logro sacar...|          545343|      545343|             7123|<p>Partiendo de t...|\n",
      "|           38817|<p>Solicito de su...|          545384|      545384|           281271|<p>Intenta esto:<...|\n",
      "|          239578|<p>estoy haciendo...|          545408|      545408|           239578|<p>Al final logré...|\n",
      "|          106331|<p>Tengo una tabl...|          545561|      545561|           292130|<p>lo que necesit...|\n",
      "|          281271|<p>Saludos a la c...|          545562|      545562|           281271|<p>Solucionado. A...|\n",
      "+----------------+--------------------+----------------+------------+-----------------+--------------------+\n",
      "only showing top 100 rows\n",
      "\n"
     ]
    },
    {
     "name": "stderr",
     "output_type": "stream",
     "text": [
      "                                                                                \r"
     ]
    }
   ],
   "source": [
    "# Left Outer join\n",
    "# Incluye todas las filas del DataFrame de la izquierda (primer DataFrame)\n",
    "# Si no hay equivalencia en el de la derecha, se pone null.\n",
    "joinType = \"left_outer\"\n",
    "dfLOuter = dfPreguntas.join(dfRespuestas, joinExpression, joinType)\n",
    "nFilas = dfLOuter.count()\n",
    "print(\"Número de filas = {0}\".format(nFilas))\n",
    "dfLOuter.show(100)"
   ]
  },
  {
   "cell_type": "code",
   "execution_count": 45,
   "metadata": {
    "autoscroll": "auto"
   },
   "outputs": [
    {
     "name": "stdout",
     "output_type": "stream",
     "text": [
      "Número de filas = 211615\n",
      "+----------------+--------------------+----------------+------------+-----------------+--------------------+\n",
      "|Usuario pregunta|            Pregunta|ID Resp Aceptada|ID Respuesta|Usuario respuesta|           Respuesta|\n",
      "+----------------+--------------------+----------------+------------+-----------------+--------------------+\n",
      "|              29|<p>¿Cómo se hace ...|              31|          31|               37|<p>Podes cambiar ...|\n",
      "|            NULL|                NULL|            NULL|          44|               25|<p>Así es como lo...|\n",
      "|            NULL|                NULL|            NULL|          76|               93|<p>Puedes usar <a...|\n",
      "|            NULL|                NULL|            NULL|          78|               72|<p>Usa <a href=\"h...|\n",
      "|            NULL|                NULL|            NULL|         108|              149|<p>Puedes aplicar...|\n",
      "|            NULL|                NULL|            NULL|         126|              326|<p>No es necesari...|\n",
      "|            NULL|                NULL|            NULL|         133|               83|<p>Se me ocurren ...|\n",
      "|             305|<p>En <a href=\"/q...|             137|         137|              305|<p>De acuerdo con...|\n",
      "|              83|<p>Supongamos que...|             192|         192|              320|<p>Fácil de escri...|\n",
      "|            NULL|                NULL|            NULL|         193|              258|<p>Tendrias que h...|\n",
      "|            NULL|                NULL|            NULL|         210|              481|<p>Al igual que e...|\n",
      "|            NULL|                NULL|            NULL|         211|              136|<p>Asocia el curs...|\n",
      "|           37632|<p>Buenas tardes....|           73610|       73610|              463|<pre><code>Matriz...|\n",
      "|            NULL|                NULL|            NULL|       73614|            44986|<p>Esta tarea es ...|\n",
      "|            NULL|                NULL|            NULL|       73645|            23739|<p>TCL \"Tool Comm...|\n",
      "|            NULL|                NULL|            NULL|       73655|            44926|<p>En el Load del...|\n",
      "|            NULL|                NULL|            NULL|       73683|            30365|<p>Para añadir un...|\n",
      "|            NULL|                NULL|            NULL|       73705|             5401|<p>No entiendo tu...|\n",
      "|            NULL|                NULL|            NULL|       73776|             4163|<p>Imagino que lo...|\n",
      "|           18682|<p>Tengo un probl...|           73789|       73789|            32716|<p>Asumiendo que ...|\n",
      "|           29786|<p>He instalado e...|           73817|       73817|            29786|<p>¡Problema resu...|\n",
      "|           25813|<p>Bueno el error...|           73842|       73842|             4163|<p>¿Por qué no si...|\n",
      "|           32423|<p>Tengo el sigui...|           73856|       73856|            42844|<p>Usando el méto...|\n",
      "|           43742|<p>Con <code>PREP...|           73862|       73862|            14311|<p>No, no se pued...|\n",
      "|            NULL|                NULL|            NULL|      148586|            29967|<p>Por norma gene...|\n",
      "|            NULL|                NULL|            NULL|      148598|            24374|<p>Parece que te ...|\n",
      "|            NULL|                NULL|            NULL|      148599|            51380|<p>Sí hay una man...|\n",
      "|           22041|<p>Tengo un gran ...|          148635|      148635|            22041|<p><strong>SOLUCI...|\n",
      "|            2633|<p>Intenté aplica...|          148641|      148641|              630|<p>Siguiendo el c...|\n",
      "|            NULL|                NULL|            NULL|      148662|            27297|<p>Comparar caden...|\n",
      "|            NULL|                NULL|            NULL|      148676|            19610|<p>Fíjate bien en...|\n",
      "|            NULL|                NULL|            NULL|      148692|            48559|<p>Se me ocurre q...|\n",
      "|            NULL|                NULL|            NULL|      148709|            26469|<p>Puedes usar el...|\n",
      "|           34425|<p>Estoy trabajan...|          148727|      148727|            18376|<p>Lo que quieres...|\n",
      "|            NULL|                NULL|            NULL|      148741|            48081|<p>el problema es...|\n",
      "|            NULL|                NULL|            NULL|      148776|            54260|<p>Si el rut es u...|\n",
      "|           57233|<p>estoy replican...|          148782|      148782|             7123|<p>El código es p...|\n",
      "|            NULL|                NULL|            NULL|      224970|             7073|<p>La <a href=\"ht...|\n",
      "|            NULL|                NULL|            NULL|      224974|           112149|<p>El problema er...|\n",
      "|          106853|<p>Estoy intentan...|          225002|      225002|               95|<p>Si deseas usar...|\n",
      "|            NULL|                NULL|            NULL|      225004|            64106|<p>No cambia much...|\n",
      "|          112251|<p>Tengo una apli...|          225042|      225042|           110509|<p>Algo así deber...|\n",
      "|          106265|<p>¿Es necesario ...|          225045|      225045|             7123|<p>Depende de qué...|\n",
      "|          112252|<p>Me piden que c...|          225050|      225050|             7123|<p>Ya que es una ...|\n",
      "|            NULL|                NULL|            NULL|      225211|           100886|<p>puedes usar es...|\n",
      "|            NULL|                NULL|            NULL|      301232|           136962|<p><strong>Prueba...|\n",
      "|           82144|<p>tengo un probl...|          301332|      301332|             3834|<p>Creo que estas...|\n",
      "|            3115|<p>Tengo un error...|          301342|      301342|             3115|<p>Todos los meto...|\n",
      "|            NULL|                NULL|            NULL|      301347|            74710|<p>Solamente con ...|\n",
      "|            NULL|                NULL|            NULL|      301375|            96928|<p>Esta es una po...|\n",
      "|          145349|<p>Teniendo una A...|          301417|      301417|            77879|<p>Para resolverl...|\n",
      "|            NULL|                NULL|            NULL|      301419|             6798|<p>Todo indica qu...|\n",
      "|            NULL|                NULL|            NULL|      379401|             NULL|<p>Gracias por tu...|\n",
      "|          138234|<p>tengo una cons...|          379442|      379442|           156982|<p>Quizás no le e...|\n",
      "|          152335|<p>estoy desarrol...|          379443|      379443|           156982|<blockquote><br/>...|\n",
      "|            NULL|                NULL|            NULL|      379450|               95|<p>El problema en...|\n",
      "|            NULL|                NULL|            NULL|      379471|           144984|<p>cuando se apri...|\n",
      "|            NULL|                NULL|            NULL|      379487|           128299|<p>Veamos unos de...|\n",
      "|          151520|<p>-Buenas noches...|          379489|      379489|            32292|<p>Bastaria con u...|\n",
      "|            NULL|                NULL|            NULL|      379497|            29649|<p>El caso es que...|\n",
      "|            NULL|                NULL|            NULL|      379510|           156982|<p>Yo estoy con u...|\n",
      "|          169804|<p>Estoy tratando...|          379536|      379536|            60103|<p>Tu PK <code>xu...|\n",
      "|          180042|<p>¿Cómo se haría...|          379541|      379541|             NULL|<blockquote><br/>...|\n",
      "|            NULL|                NULL|            NULL|      379578|              295|<p>Has probado a ...|\n",
      "|            NULL|                NULL|            NULL|      379598|           173473|<p>Si ya has crea...|\n",
      "|          131603|<p>si tengo por e...|          379623|      379623|           128299|<p>Aunque el ejem...|\n",
      "|            NULL|                NULL|            NULL|      379644|           182188|<p>Ten en cuenta ...|\n",
      "|          127031|<p>Tengo el sigui...|          379671|      379671|            31764|<p>Suponiendo un ...|\n",
      "|            NULL|                NULL|            NULL|      461110|           131662|<p>Tal y como men...|\n",
      "|          172589|<p>tengo el sigui...|          461139|      461139|           230131|<p>Por lo que veo...|\n",
      "|            NULL|                NULL|            NULL|      461182|            99336|<p>la solucion fu...|\n",
      "|          226569|<p>El programa de...|          461203|      461203|           152765|<p>Tu metodo EDT ...|\n",
      "|          177130|<p>Buen día</p><b...|          461227|      461227|           180118|<p>Con comprensió...|\n",
      "|            NULL|                NULL|            NULL|      461290|           233901|<p>El tipo char s...|\n",
      "|          233922|<p>Estoy realizan...|          461335|      461335|           199708|<p>El primer erro...|\n",
      "|          233881|<p><a href=\"https...|          461342|      461342|               21|<p>La idea básica...|\n",
      "|            NULL|                NULL|            NULL|      461354|           226495|<p>Prueba con:</p...|\n",
      "|            NULL|                NULL|            NULL|      544976|            51552|<p>Mirando tu cod...|\n",
      "|            NULL|                NULL|            NULL|      544986|           294249|<p>Esto te puede ...|\n",
      "|          293981|<p>Me dispuse a d...|          545063|      545063|            85290|<p>El problema pa...|\n",
      "|            NULL|                NULL|            NULL|      545083|           293938|<p>En tu dockerfi...|\n",
      "|            NULL|                NULL|            NULL|      545086|           293938|<p>Yo usaría el s...|\n",
      "|            NULL|                NULL|            NULL|      545088|            69879|<p>Imagino que ya...|\n",
      "|            NULL|                NULL|            NULL|      545108|           293819|<p>Creo que el pr...|\n",
      "|            NULL|                NULL|            NULL|      545126|              386|<ol><br/><li>Desc...|\n",
      "|            NULL|                NULL|            NULL|      545134|            43088|<p>Has considerad...|\n",
      "|            NULL|                NULL|            NULL|      545190|              386|<p>Puede ser un p...|\n",
      "|            NULL|                NULL|            NULL|          52|               25|<p>Puedes hacerlo...|\n",
      "|              21|<p>Estoy realizan...|              91|          91|              172|<p>Puedes utiliza...|\n",
      "|            NULL|                NULL|            NULL|          93|               20|<p>El comando es ...|\n",
      "|             264|<p>Necesito reali...|             111|         111|              264|<p>La forma más s...|\n",
      "|              25|<p>Acabo de darme...|             122|         122|              258|<p>Tienes que hac...|\n",
      "|            NULL|                NULL|            NULL|         128|              182|<p>Simplemente añ...|\n",
      "|            NULL|                NULL|            NULL|         132|              124|<p>Como su nombre...|\n",
      "|             260|<p>Necesito obten...|             140|         140|              149|<p>Creo que lo má...|\n",
      "|            NULL|                NULL|            NULL|         152|               95|<p>Existen cierta...|\n",
      "|            NULL|                NULL|            NULL|         177|              342|<p>La verdad no c...|\n",
      "|            NULL|                NULL|            NULL|         209|              416|<p>Muchos lenguaj...|\n",
      "|            NULL|                NULL|            NULL|         212|               23|<p>La respuesta d...|\n",
      "|              83|<p>Hasta hace poc...|             223|         223|              100|<p>Al parecer <kb...|\n",
      "+----------------+--------------------+----------------+------------+-----------------+--------------------+\n",
      "only showing top 100 rows\n",
      "\n"
     ]
    }
   ],
   "source": [
    "# Right Outer join\n",
    "# Incluye todas las filas del DataFrame de la derecha (segundo DataFrame)\n",
    "# Si no hay equivalencia en el de la izquierda, se pone null.\n",
    "joinType = \"right_outer\"\n",
    "dfROuter = dfPreguntas.join(dfRespuestas, joinExpression, joinType)\n",
    "nFilas = dfROuter.count()\n",
    "print(\"Número de filas = {0}\".format(nFilas))\n",
    "dfROuter.show(100)"
   ]
  },
  {
   "cell_type": "code",
   "execution_count": 46,
   "metadata": {
    "autoscroll": "auto"
   },
   "outputs": [
    {
     "name": "stdout",
     "output_type": "stream",
     "text": [
      "Número de filas = 82491\n"
     ]
    },
    {
     "name": "stderr",
     "output_type": "stream",
     "text": [
      "                                                                                \r"
     ]
    },
    {
     "name": "stdout",
     "output_type": "stream",
     "text": [
      "+------------+-----------------+--------------------+\n",
      "|ID Respuesta|Usuario respuesta|           Respuesta|\n",
      "+------------+-----------------+--------------------+\n",
      "|      380922|           175611|<pre><code>let us...|\n",
      "|      381484|           105299|<p>El problema ra...|\n",
      "|      381549|           187973|<p>Parece como si...|\n",
      "|      381646|           163003|<p><strong>Prueba...|\n",
      "|      382301|           184974|<p>Lo que podes h...|\n",
      "|      382414|            44710|<p>El problema co...|\n",
      "|      384638|           152272|<p>A priori sin u...|\n",
      "|      384647|           103016|<p>Para el manejo...|\n",
      "|      384994|           189662|<p>revisa lo sigu...|\n",
      "|      385152|           133891|<p>Lo que está pa...|\n",
      "|      385528|           147278|<p>Lo solucione d...|\n",
      "|      386998|            62517|<p>Bien, he conse...|\n",
      "|      390030|            43816|<p>Si lo que te m...|\n",
      "|      391318|            55132|<p>Las variables ...|\n",
      "|      392298|            54039|<p>No ejecuta la ...|\n",
      "|      392791|           165037|<p>Teniendo insta...|\n",
      "|      392839|           119615|<p>Recuerda que u...|\n",
      "|      393664|           177597|<p>Tal y como lo ...|\n",
      "|      394664|           188830|<p>Si no puedes e...|\n",
      "|      395745|           194942|<pre><code>public...|\n",
      "|      398174|              324|<pre><code>public...|\n",
      "|      398491|             6798|<p>La solución es...|\n",
      "|      398675|             2742|<p>Esta serie es ...|\n",
      "|      400003|               83|<p>Quieres pedirl...|\n",
      "|      400440|           129314|<p>Yo antes de fi...|\n",
      "|      400612|           133891|<p>Según la docum...|\n",
      "|      400833|           192744|<p>Al parecer se ...|\n",
      "|      404966|           200423|<p>Este código fu...|\n",
      "|      405082|           180118|<p>Cuando intenta...|\n",
      "|      407209|           200127|<p>después de alg...|\n",
      "|      408870|           200483|<p>Bueno paso a e...|\n",
      "|      411841|            55132|<p>Para evitar el...|\n",
      "|      413073|            83920|<p>aunque este no...|\n",
      "|      414256|           189826|<pre><code>var x ...|\n",
      "|      415295|           167820|<p>Inicializamos ...|\n",
      "|      418147|           104912|<p>El error 404 e...|\n",
      "|      418812|            41772|<p>Simplemente ha...|\n",
      "|      424981|            22851|<p>Los campos de ...|\n",
      "|      425532|           211930|<p>Efectivamente ...|\n",
      "|      430666|              463|<p>Te estás compl...|\n",
      "|      432399|               21|<h2>TL;DR;</h2><b...|\n",
      "|      432875|            44653|<p>Te está dando ...|\n",
      "|      436175|            69545|<p>La forma corre...|\n",
      "|      436580|           206458|<p>Puedes usar <a...|\n",
      "|      441665|             4834|<p>Si utilizas XS...|\n",
      "|      442823|           114022|<p>Termine encont...|\n",
      "|      443065|            54039|<p>En el código q...|\n",
      "|      443446|           153371|<blockquote><br/>...|\n",
      "|      443881|            68802|<p>He conseguido ...|\n",
      "|      444048|            18376|<p>El error de la...|\n",
      "|      444697|           207196|<p>Ya lo solucion...|\n",
      "|      448431|             7123|<p>Se me ocurre e...|\n",
      "|      449125|            80870|<p>Python no reem...|\n",
      "|      449441|            54039|<p>Puedes simplif...|\n",
      "|      452010|            54039|<p>Hay diferencia...|\n",
      "|      452894|             2742|<p>Este código:</...|\n",
      "|      459946|           158880|<h3>Corrigiendo l...|\n",
      "|      460108|           214502|<p>No es que esté...|\n",
      "|      379443|           156982|<blockquote><br/>...|\n",
      "|      379671|            31764|<p>Suponiendo un ...|\n",
      "|      381617|           188017|<p>también podría...|\n",
      "|      382388|            54039|<p>No es necesari...|\n",
      "|      382803|               21|<p>Debes declarar...|\n",
      "|      383225|            44710|<p>El error está ...|\n",
      "|      384651|            78203|<p>Tenés 3 formas...|\n",
      "|      391466|           178712|<p>El error 15 si...|\n",
      "|      392046|            57794|<p>ok dejo esto p...|\n",
      "|      398493|           191679|<p>Te sugiero est...|\n",
      "|      398701|            22851|<p>El método logi...|\n",
      "|      398903|           108812|<p>Que te parece ...|\n",
      "|      399044|            55132|<p>Para el total ...|\n",
      "|      399936|           191520|<p>La soluciona e...|\n",
      "|      401135|           198486|<p>Debes tambien ...|\n",
      "|      401393|            54039|<p>Enviar <code>f...|\n",
      "|      402388|            32292|<p>Debes forzar a...|\n",
      "|      402935|           189054|<p><strong>ACTUAL...|\n",
      "|      404583|           165037|<p>Si deseas crea...|\n",
      "|      405009|            54039|<p>Para reducir l...|\n",
      "|      405222|            92278|<p>Estás insertan...|\n",
      "|      406243|           200851|<p>Quizás te sirv...|\n",
      "|      409113|            45880|<p>SOLUCIÓN</p><b...|\n",
      "|      409642|            55132|<p>El problema es...|\n",
      "|      410712|            81450|<p>El error que v...|\n",
      "|      411414|           203674|<p>Lo solucioné a...|\n",
      "|      412770|           202746|<p>Usa las propie...|\n",
      "|      415154|           204356|<p>En tu método p...|\n",
      "|      418615|            45793|<p>El error te es...|\n",
      "|      424956|            69545|<p>Lo que sucede ...|\n",
      "|      425061|           158880|<p>Tu error se en...|\n",
      "|      426379|            61076|<p>Vas bien, sólo...|\n",
      "|      429419|           202801|<p>El <code>Scrol...|\n",
      "|      434903|           133731|<p>Verán despues ...|\n",
      "|      435040|           160084|<p>Todo parece in...|\n",
      "|      435608|            22851|<p>Puedes usar <c...|\n",
      "|      436823|           175611|<p>Lo que hago aq...|\n",
      "|      437645|           153762|<p>Revisa la docu...|\n",
      "|      437756|           158487|<p>Tu error es el...|\n",
      "|      440078|            22851|<p>El problema es...|\n",
      "|      441231|            73584|<p>Puedes hacer u...|\n",
      "|      441948|               83|<p>Tienes que lim...|\n",
      "+------------+-----------------+--------------------+\n",
      "only showing top 100 rows\n",
      "\n"
     ]
    }
   ],
   "source": [
    "# Left Semi join\n",
    "# El resultado incluyen los valores del primer DataFrame que existen en el segundo\n",
    "joinType = \"left_semi\"\n",
    "dfLSemi = dfRespuestas.join(dfPreguntas, joinExpression, joinType)\n",
    "nFilas = dfLSemi.count()\n",
    "print(\"Número de filas = {0}\".format(nFilas))\n",
    "dfLSemi.show(100)"
   ]
  },
  {
   "cell_type": "code",
   "execution_count": 47,
   "metadata": {
    "autoscroll": "auto"
   },
   "outputs": [
    {
     "name": "stdout",
     "output_type": "stream",
     "text": [
      "Número de filas = 129124\n"
     ]
    },
    {
     "name": "stderr",
     "output_type": "stream",
     "text": [
      "[Stage 164:>                                                        (0 + 8) / 8]\r"
     ]
    },
    {
     "name": "stdout",
     "output_type": "stream",
     "text": [
      "+------------+-----------------+--------------------+\n",
      "|ID Respuesta|Usuario respuesta|           Respuesta|\n",
      "+------------+-----------------+--------------------+\n",
      "|      379773|           156639|<p>Si te vas a <a...|\n",
      "|      379892|           156982|<p>Creo que es po...|\n",
      "|      380065|           187136|<p>El mejor conse...|\n",
      "|      381626|            20709|<p><a href=\"https...|\n",
      "|      382223|           183657|<p>Aquí puedes ve...|\n",
      "|      382614|           188417|<p>Si quieres un ...|\n",
      "|      383675|           188830|<p>El error se de...|\n",
      "|      384113|           186392|<p>En lo personal...|\n",
      "|      385424|           190276|<p>Existen dos mó...|\n",
      "|      386599|           150924|<p>Lo que debería...|\n",
      "|      387467|            29123|<p>Ok,</p><br/><p...|\n",
      "|      388396|            73513|<p>Algo como esto...|\n",
      "|      388859|            54039|<p>Aplica el esti...|\n",
      "|      389131|           184983|<p>Te dejo este e...|\n",
      "|      389639|            61388|<p>puedes hacerlo...|\n",
      "|      390277|            81482|<p>Puedes utiliza...|\n",
      "|      390488|           179251|<p>En esa carpeta...|\n",
      "|      392119|           192866|<p>Una de muchas ...|\n",
      "|      393848|           146593|<p>Creo que lo he...|\n",
      "|      395321|           117337|<p>El problema es...|\n",
      "|      395996|           195224|<p>Lo solucioné p...|\n",
      "|      396253|           193460|<p>Podrías agrega...|\n",
      "|      398542|           106915|<p>No se de donde...|\n",
      "|      399757|           155580|<p>Basicamente te...|\n",
      "|      401778|           156639|<p>Necesitas usar...|\n",
      "|      403340|           199545|<p>Con jquery pod...|\n",
      "|      405115|           130913|<p>Tu código está...|\n",
      "|      406654|           182020|<p>Hola compañero...|\n",
      "|      408356|           148687|<p>Voy a crear un...|\n",
      "|      409125|           123330|<p>Buen dia,</p><...|\n",
      "|      410299|           203200|<p>Te voy a conta...|\n",
      "|      412113|           199636|<p>Ocupas una lín...|\n",
      "|      412494|           204406|<p>El primer prob...|\n",
      "|      413553|            87724|<p>Suma automátic...|\n",
      "|      414359|            22851|<p>Te falta \"esti...|\n",
      "|      414825|            84791|<p>Tal como Candi...|\n",
      "|      415982|             3543|<p>El comportamie...|\n",
      "|      416128|           153685|<p>Tu problema es...|\n",
      "|      417040|           206948|<p>Si el formato ...|\n",
      "|      417190|           178318|<p>Si estás carga...|\n",
      "|      417296|           178674|<p>Respuesta rapi...|\n",
      "|      418997|           208098|<p>tenemos los mi...|\n",
      "|      419094|           198326|<p>Este es un eje...|\n",
      "|      421052|             NULL|<p>como tu arrayl...|\n",
      "|      421627|           189826|<p>Te sale 0 pq a...|\n",
      "|      424293|           210240|<p>Te sugiero que...|\n",
      "|      424374|           201714|<p>Desde el dispo...|\n",
      "|      425085|              463|<p>Esto:</p><br/>...|\n",
      "|      425375|             6798|<p>Puede ser una ...|\n",
      "|      425639|            70975|<p>De acuerdo a l...|\n",
      "|      428330|            74003|<p>Primero que na...|\n",
      "|      429364|           108641|<p>en seleccion p...|\n",
      "|      430447|           214638|<p>Cambias el <co...|\n",
      "|      431136|            33391|<p>Crea una varia...|\n",
      "|      432078|            33305|<p>El proyecto es...|\n",
      "|      432224|            72052|<p>En el controla...|\n",
      "|      434691|            18608|<p>Lo mejor es it...|\n",
      "|      435033|            54039|<p>El filtro debe...|\n",
      "|      437936|           213943|<pre><code>string...|\n",
      "|      438386|           184474|<p>Segun la docum...|\n",
      "|      440722|           220989|<p>Yo cambiaría e...|\n",
      "|      441146|           221201|<p>Para mostrar l...|\n",
      "|      442773|           200804|<p>Para eso lo má...|\n",
      "|      443137|           182436|<p>para CI4<br/>C...|\n",
      "|      443261|           221500|<p>Dado a que tie...|\n",
      "|      445903|           177597|<ul><br/><li>Si t...|\n",
      "|      446043|           224335|<p>O lo que puede...|\n",
      "|      448704|             NULL|<p>Vale lo he obt...|\n",
      "|      448999|           226256|<pre><code>npm ca...|\n",
      "|      449227|           222248|<p>Ya que mencion...|\n",
      "|      450049|           223920|<p>Te recomiendo ...|\n",
      "|      452490|           184395|<p>Amigo usa jque...|\n",
      "|      452672|           226495|<p>te muestro un ...|\n",
      "|      453707|            29967|<p>¿<strong>Todos...|\n",
      "|      454087|           229047|<p>Por una cuesti...|\n",
      "|      455910|            61708|<p>Vale hay que h...|\n",
      "|      459762|            66588|<p>Deberias coloc...|\n",
      "|      380136|           170892|<p>Es simple. <co...|\n",
      "|      381247|            32292|<p>Parece ser un ...|\n",
      "|      381804|           147278|<p>Pido disculpas...|\n",
      "|      383358|           149406|<p>Podrías usar l...|\n",
      "|      384922|             NULL|<blockquote><br/>...|\n",
      "|      385404|           111863|<p>Lo solucione a...|\n",
      "|      386073|           178318|<p>Si estás usand...|\n",
      "|      386612|           178221|<pre><code>const ...|\n",
      "|      387719|               21|<p>Puedes simplem...|\n",
      "|      388283|           173473|<p>Internamente D...|\n",
      "|      390362|            31764|<p>Se me escapa u...|\n",
      "|      391177|            96928|<p>Puedes usar <a...|\n",
      "|      391484|            54039|<p>Tienes dos pro...|\n",
      "|      391696|           117337|<p>Si solo cambia...|\n",
      "|      391870|             NULL|<p>La función <a ...|\n",
      "|      393849|           189826|<p>Puedes usar un...|\n",
      "|      395472|           184989|<p>Seguramente pu...|\n",
      "|      396241|            19610|<p>Pues tu mismo ...|\n",
      "|      398280|           130195|<p>puedes iterar ...|\n",
      "|      399906|            33603|<p><code>json_dec...|\n",
      "|      400070|            22851|<p>Estás siempre ...|\n",
      "|      402298|            48512|<p>Puedes estable...|\n",
      "|      404585|           191690|<p>Veo el código ...|\n",
      "+------------+-----------------+--------------------+\n",
      "only showing top 100 rows\n",
      "\n"
     ]
    },
    {
     "name": "stderr",
     "output_type": "stream",
     "text": [
      "                                                                                \r"
     ]
    }
   ],
   "source": [
    "# Left Anti join\n",
    "# El resultado incluyen los valores del primer DataFrame que NO existen en el segundo\n",
    "joinType = \"left_anti\"\n",
    "dfLAnti = dfRespuestas.join(dfPreguntas, joinExpression, joinType)\n",
    "nFilas = dfLAnti.count()\n",
    "print(\"Número de filas = {0}\".format(nFilas))\n",
    "dfLAnti.show(100)"
   ]
  },
  {
   "cell_type": "code",
   "execution_count": 48,
   "metadata": {
    "autoscroll": "auto"
   },
   "outputs": [
    {
     "name": "stderr",
     "output_type": "stream",
     "text": [
      "                                                                                \r"
     ]
    },
    {
     "name": "stdout",
     "output_type": "stream",
     "text": [
      "Número de filas = 17456332965\n",
      "+------------+-----------------+--------------------+----------------+--------------------+----------------+\n",
      "|ID Respuesta|Usuario respuesta|           Respuesta|Usuario pregunta|            Pregunta|ID Resp Aceptada|\n",
      "+------------+-----------------+--------------------+----------------+--------------------+----------------+\n",
      "|      379394|           186734|<p>Si quieres pru...|          146078|<p>soy principian...|          379397|\n",
      "|      379394|           186734|<p>Si quieres pru...|          183610|<p>¿Alguien sabe ...|          379500|\n",
      "|      379394|           186734|<p>Si quieres pru...|          152335|<p>estoy desarrol...|          379443|\n",
      "|      379394|           186734|<p>Si quieres pru...|          117785|<p>Estudiando el ...|          379436|\n",
      "|      379394|           186734|<p>Si quieres pru...|          138234|<p>tengo una cons...|          379442|\n",
      "|      379394|           186734|<p>Si quieres pru...|          171228|<p>Necesito sumar...|          379444|\n",
      "|      379394|           186734|<p>Si quieres pru...|           37713|<p>Necesito elegi...|          379457|\n",
      "|      379394|           186734|<p>Si quieres pru...|          150344|<p>Tengo el códig...|          379477|\n",
      "|      379394|           186734|<p>Si quieres pru...|          151520|<p>-Buenas noches...|          379489|\n",
      "|      379394|           186734|<p>Si quieres pru...|          186421|<p>Estoy trabajan...|          379486|\n",
      "|      379394|           186734|<p>Si quieres pru...|          186813|<p>Tengo que escr...|          379791|\n",
      "|      379394|           186734|<p>Si quieres pru...|          172632|<p>he estado inte...|          379507|\n",
      "|      379394|           186734|<p>Si quieres pru...|          123613|<p>hace mucho ya ...|          379554|\n",
      "|      379394|           186734|<p>Si quieres pru...|          186819|<p>Hice un recorr...|          379538|\n",
      "|      379394|           186734|<p>Si quieres pru...|          178309|<p>Estaba viendo ...|          379516|\n",
      "|      379394|           186734|<p>Si quieres pru...|          106020|<p>Estoy haciendo...|          379624|\n",
      "|      379394|           186734|<p>Si quieres pru...|          169804|<p>Estoy tratando...|          379536|\n",
      "|      379394|           186734|<p>Si quieres pru...|          180042|<p>¿Cómo se haría...|          379541|\n",
      "|      379394|           186734|<p>Si quieres pru...|          186831|<p>Estoy escribie...|          379540|\n",
      "|      379394|           186734|<p>Si quieres pru...|          151520|<p>-Quisiera pode...|          379550|\n",
      "|      379394|           186734|<p>Si quieres pru...|           99104|<p>Quiero program...|          379556|\n",
      "|      379394|           186734|<p>Si quieres pru...|           81528|<p>Tengo un grupo...|          379698|\n",
      "|      379394|           186734|<p>Si quieres pru...|          127031|<p>Tengo el sigui...|          379671|\n",
      "|      379394|           186734|<p>Si quieres pru...|          186855|<p><a href=\"https...|          379601|\n",
      "|      379394|           186734|<p>Si quieres pru...|          174674|<p>estoy usando u...|          379575|\n",
      "|      379394|           186734|<p>Si quieres pru...|          177026|<p>estoy realizan...|          379603|\n",
      "|      379394|           186734|<p>Si quieres pru...|           85132|<p>¿podrían ayuda...|          380020|\n",
      "|      379394|           186734|<p>Si quieres pru...|          131603|<p>si tengo por e...|          379623|\n",
      "|      379394|           186734|<p>Si quieres pru...|           70779|<p>buen día.<br/>...|          390869|\n",
      "|      379394|           186734|<p>Si quieres pru...|          186889|<p>Tengo este cód...|          379653|\n",
      "|      379394|           186734|<p>Si quieres pru...|          181922|<p>Como puedo hac...|          379705|\n",
      "|      379394|           186734|<p>Si quieres pru...|          177026|<p>Estoy teniendo...|          379714|\n",
      "|      379394|           186734|<p>Si quieres pru...|          181839|<p>Por favor su a...|          379681|\n",
      "|      379394|           186734|<p>Si quieres pru...|          182899|<p>Hola buenas te...|          379682|\n",
      "|      379394|           186734|<p>Si quieres pru...|          118983|<p>estoy intentan...|          379706|\n",
      "|      379394|           186734|<p>Si quieres pru...|           85432|<p>Buenas gentem ...|          379713|\n",
      "|      379394|           186734|<p>Si quieres pru...|          166628|<p>tengo este peq...|          471219|\n",
      "|      379394|           186734|<p>Si quieres pru...|          186947|<p>ERROR -> Warni...|          379730|\n",
      "|      379394|           186734|<p>Si quieres pru...|          186955|<p>gracias a la a...|          379903|\n",
      "|      379394|           186734|<p>Si quieres pru...|           19610|<p>Estoy optimiza...|          379737|\n",
      "|      379394|           186734|<p>Si quieres pru...|          184003|<p>Espero que me ...|          379760|\n",
      "|      379394|           186734|<p>Si quieres pru...|          110030|<p>Estoy intentad...|          379762|\n",
      "|      379394|           186734|<p>Si quieres pru...|          186617|<p>Estoy trabajan...|          379764|\n",
      "|      379394|           186734|<p>Si quieres pru...|          186982|<p>En este simple...|          379777|\n",
      "|      379394|           186734|<p>Si quieres pru...|            5271|<p>Estoy realizan...|          379781|\n",
      "|      379394|           186734|<p>Si quieres pru...|          177013|<p>Tengo una pági...|          379820|\n",
      "|      379394|           186734|<p>Si quieres pru...|           80761|<p>Tengo el sigui...|          379814|\n",
      "|      379394|           186734|<p>Si quieres pru...|           90732|<p>tengo un probl...|          379817|\n",
      "|      379394|           186734|<p>Si quieres pru...|          180782|<p>estoy teniendo...|          379819|\n",
      "|      379394|           186734|<p>Si quieres pru...|           37713|<p>Recibo en mi c...|          379810|\n",
      "|      379394|           186734|<p>Si quieres pru...|          186999|<p>Al entrarle un...|          379831|\n",
      "|      379394|           186734|<p>Si quieres pru...|           96969|<p>estoy leyendo ...|          379827|\n",
      "|      379394|           186734|<p>Si quieres pru...|          167890|<p>Me gustaría sa...|          380046|\n",
      "|      379394|           186734|<p>Si quieres pru...|           78407|<p>Compañeros, So...|          379876|\n",
      "|      379394|           186734|<p>Si quieres pru...|          182899|<p>tengo una line...|          379856|\n",
      "|      379394|           186734|<p>Si quieres pru...|          187017|<p>Soy nuevo en S...|          379861|\n",
      "|      379394|           186734|<p>Si quieres pru...|          187018|<p>como puedo hac...|          379877|\n",
      "|      379394|           186734|<p>Si quieres pru...|           86618|<p>mi consulta se...|          379864|\n",
      "|      379394|           186734|<p>Si quieres pru...|           47164|<p>teniendo lo si...|          379871|\n",
      "|      379394|           186734|<p>Si quieres pru...|          186955|<p>estoy tratando...|          379979|\n",
      "|      379394|           186734|<p>Si quieres pru...|          187048|<p>estaba teniedo...|          379938|\n",
      "|      379394|           186734|<p>Si quieres pru...|           94099|<p>Tengo un div e...|          379939|\n",
      "|      379394|           186734|<p>Si quieres pru...|           37713|<p>Tengo un formu...|          379947|\n",
      "|      379394|           186734|<p>Si quieres pru...|          178309|<p>Tengo un probl...|          379934|\n",
      "|      379394|           186734|<p>Si quieres pru...|          156137|<p>Buen día, esto...|          379958|\n",
      "|      379394|           186734|<p>Si quieres pru...|          145901|<pre><code>import...|          380066|\n",
      "|      379394|           186734|<p>Si quieres pru...|          178309|<p>No puedo impri...|          379951|\n",
      "|      379394|           186734|<p>Si quieres pru...|           31322|<p>No sé si está ...|          380014|\n",
      "|      379394|           186734|<p>Si quieres pru...|          100046|<p>estoy aprendie...|          379980|\n",
      "|      379394|           186734|<p>Si quieres pru...|          186563|<p>He creado un a...|          380497|\n",
      "|      379394|           186734|<p>Si quieres pru...|          187081|<p>Tengo una apli...|          380050|\n",
      "|      379394|           186734|<p>Si quieres pru...|           83732|<p>Hola uso Visua...|          379990|\n",
      "|      379394|           186734|<p>Si quieres pru...|          187085|<p>Comunidad que ...|          380036|\n",
      "|      379394|           186734|<p>Si quieres pru...|          109189|<p>Teniendo en cu...|          380001|\n",
      "|      379394|           186734|<p>Si quieres pru...|          182593|<p>Quiero definir...|          380022|\n",
      "|      379394|           186734|<p>Si quieres pru...|          168173|<p>quiero hacer l...|          380031|\n",
      "|      379394|           186734|<p>Si quieres pru...|          169450|<p>Buen día,</p><...|          380047|\n",
      "|      379394|           186734|<p>Si quieres pru...|          182593|<p>Tengo un nodo ...|          382595|\n",
      "|      379394|           186734|<p>Si quieres pru...|          167846|<p>Tengo una func...|          380052|\n",
      "|      379394|           186734|<p>Si quieres pru...|          187122|<p>¡Buenas! Estoy...|          380054|\n",
      "|      379394|           186734|<p>Si quieres pru...|           19621|<p>Uso el código ...|          380120|\n",
      "|      379394|           186734|<p>Si quieres pru...|          186466|<pre><code>age = ...|          380173|\n",
      "|      379394|           186734|<p>Si quieres pru...|          187152|<p><strong>debo l...|          380129|\n",
      "|      379394|           186734|<p>Si quieres pru...|          187150|<p>Buenas quiero ...|          380102|\n",
      "|      379394|           186734|<p>Si quieres pru...|           93180|<p>Necesito saber...|          380959|\n",
      "|      379394|           186734|<p>Si quieres pru...|           94099|<p>Necesito recor...|          380139|\n",
      "|      379394|           186734|<p>Si quieres pru...|          187165|<p>(No tengo clar...|          380137|\n",
      "|      379394|           186734|<p>Si quieres pru...|           86618|<p>mi consulta es...|          380154|\n",
      "|      379394|           186734|<p>Si quieres pru...|          153056|<p>tengo dos arch...|          380446|\n",
      "|      379394|           186734|<p>Si quieres pru...|          186394|<p>Estoy agregand...|          380159|\n",
      "|      379394|           186734|<p>Si quieres pru...|          178712|<p>Estoy intentan...|          380158|\n",
      "|      379394|           186734|<p>Si quieres pru...|          147278|<p>mi duda es la ...|          380186|\n",
      "|      379394|           186734|<p>Si quieres pru...|          152842|<p>estoy usando m...|          380185|\n",
      "|      379394|           186734|<p>Si quieres pru...|          187202|<p>No puedo abrir...|          380249|\n",
      "|      379394|           186734|<p>Si quieres pru...|          180221|<p>Saben porque e...|          380333|\n",
      "|      379394|           186734|<p>Si quieres pru...|          155778|<p>Tengo una duda...|          380206|\n",
      "|      379394|           186734|<p>Si quieres pru...|          166673|<p>les agradezco ...|          380223|\n",
      "|      379394|           186734|<p>Si quieres pru...|          182637|<p>Estoy aprendie...|          380307|\n",
      "|      379394|           186734|<p>Si quieres pru...|            5271|<p>De nuevo yo co...|          380257|\n",
      "|      379394|           186734|<p>Si quieres pru...|          117155|<p>Tengo un <code...|          380253|\n",
      "+------------+-----------------+--------------------+----------------+--------------------+----------------+\n",
      "only showing top 100 rows\n",
      "\n"
     ]
    }
   ],
   "source": [
    "# Cross join\n",
    "# Producto cartesiano, une cada fila del primer DataFrame con todas las del segundo\n",
    "# NO DEBE USARSE, EXTREMADAMENTE COSTOSO\n",
    "dfCross = dfRespuestas.crossJoin(dfPreguntas)\n",
    "nFilas = dfCross.count()\n",
    "print(\"Número de filas = {0}\".format(nFilas))\n",
    "dfCross.show(100)"
   ]
  },
  {
   "cell_type": "markdown",
   "metadata": {},
   "source": [
    "## Funciones escalares y agregados\n",
    "\n",
    "Spark ofrece un ámplio abanico de funciones para operar con los DataFrames:\n",
    "- Funciones matemáticas: ``abs``, ``log``, ``hypot``, etc.\n",
    "- Operaciones con strings: ``lenght``, ``concat``, etc.\n",
    "- Operaciones con fechas: ``year``, ``date_add``, etc.\n",
    "- Operaciones de agregación: ``min``, ``max``, ``count``, ``avg``, ``sum``, ``sumDistinct``, ``stddev``, ``variance``, ``kurtosis``, ``skewness``, ``first``, ``last``, ``window``, etc.\n",
    "\n",
    "Una descripción de estas funciones se puede encontrar en <https://spark.apache.org/docs/latest/api/python/reference/pyspark.sql/functions.html>."
   ]
  },
  {
   "cell_type": "code",
   "execution_count": 49,
   "metadata": {
    "autoscroll": "auto"
   },
   "outputs": [
    {
     "name": "stdout",
     "output_type": "stream",
     "text": [
      "La pregunta \n",
      "\n",
      "<p>¿Cuál es la diferencia entre un <code>inner</code> y un <code>outer join</code>?</p><br/><p>Y ¿cuál es la función de los modificadores?</p><br/><ul><br/><li><code>left</code></li><br/><li><code>right</code></li><br/><li><code>full</code></li><br/></ul><br/>\n",
      "\n",
      "estuvo activa 2809 días\n"
     ]
    }
   ],
   "source": [
    "from pyspark.sql.functions import datediff, col\n",
    "colUltimaActividad = col(\"LastActivityDate\")\n",
    "fechaCreacionCol = col(\"Fecha_de_creación\")\n",
    "# Buscamos la pregunta con respuesta aceptada que estuvo más tiempo activa\n",
    "# (con la mayor diferencia entre los valores de LastActivityDate y Fecha de creacion)\n",
    "masActiva = questionsWithAcceptedAnswersDf\\\n",
    "            .withColumn(\"tiempoActiva\",\n",
    "                        datediff(colUltimaActividad,\n",
    "                                 fechaCreacionCol))\\\n",
    "            .orderBy(\"tiempoActiva\", ascending=False)\\\n",
    "            .head()\n",
    "print(\"La pregunta \\n\\n{0}\\n\\nestuvo activa {1} días\".\\\n",
    "      format(masActiva.Body.replace(\"&lt;\", \"<\").replace(\"&gt;\", \">\"), masActiva.tiempoActiva))"
   ]
  },
  {
   "cell_type": "code",
   "execution_count": 50,
   "metadata": {
    "autoscroll": "auto"
   },
   "outputs": [
    {
     "name": "stderr",
     "output_type": "stream",
     "text": [
      "[Stage 174:>                                                        (0 + 8) / 8]\r"
     ]
    },
    {
     "name": "stdout",
     "output_type": "stream",
     "text": [
      "+-----------+------------------------------------------+-----+\n",
      "|OwnerUserId|Semana                                    |count|\n",
      "+-----------+------------------------------------------+-----+\n",
      "|22584      |{2018-01-04 01:00:00, 2018-01-11 01:00:00}|18   |\n",
      "|NULL       |{2017-12-28 01:00:00, 2018-01-04 01:00:00}|17   |\n",
      "|NULL       |{2017-03-16 01:00:00, 2017-03-23 01:00:00}|16   |\n",
      "|38304      |{2017-09-21 02:00:00, 2017-09-28 02:00:00}|15   |\n",
      "|35888      |{2017-07-20 02:00:00, 2017-07-27 02:00:00}|14   |\n",
      "|NULL       |{2016-09-01 02:00:00, 2016-09-08 02:00:00}|13   |\n",
      "|NULL       |{2017-05-25 02:00:00, 2017-06-01 02:00:00}|13   |\n",
      "|22584      |{2017-12-28 01:00:00, 2018-01-04 01:00:00}|13   |\n",
      "|NULL       |{2017-11-02 01:00:00, 2017-11-09 01:00:00}|13   |\n",
      "|22620      |{2016-11-24 01:00:00, 2016-12-01 01:00:00}|12   |\n",
      "|24010      |{2017-04-13 02:00:00, 2017-04-20 02:00:00}|12   |\n",
      "|22620      |{2016-12-01 01:00:00, 2016-12-08 01:00:00}|12   |\n",
      "|22584      |{2017-05-11 02:00:00, 2017-05-18 02:00:00}|12   |\n",
      "|141718     |{2019-10-03 02:00:00, 2019-10-10 02:00:00}|12   |\n",
      "|NULL       |{2017-06-01 02:00:00, 2017-06-08 02:00:00}|12   |\n",
      "|41419      |{2017-10-26 02:00:00, 2017-11-02 01:00:00}|12   |\n",
      "|NULL       |{2021-04-22 02:00:00, 2021-04-29 02:00:00}|11   |\n",
      "|NULL       |{2022-02-24 01:00:00, 2022-03-03 01:00:00}|11   |\n",
      "|NULL       |{2020-05-14 02:00:00, 2020-05-21 02:00:00}|11   |\n",
      "|NULL       |{2021-06-10 02:00:00, 2021-06-17 02:00:00}|11   |\n",
      "+-----------+------------------------------------------+-----+\n",
      "only showing top 20 rows\n",
      "\n"
     ]
    },
    {
     "name": "stderr",
     "output_type": "stream",
     "text": [
      "                                                                                \r"
     ]
    }
   ],
   "source": [
    "from pyspark.sql.functions import window\n",
    "# Obtenemos el número de post por semana de cada usuario\n",
    "# Agrupamos por OwnerUserId y una ventana de fechas de creación de 1 semana\n",
    "questionsWithAcceptedAnswersDf.groupBy(\n",
    "                   colUserId, window(fechaCreacionCol, \"1 week\").alias(\"Semana\"))\\\n",
    "                  .count()\\\n",
    "                  .sort(\"count\", ascending=False)\\\n",
    "                  .show(20,False)"
   ]
  },
  {
   "cell_type": "code",
   "execution_count": 51,
   "metadata": {
    "autoscroll": "auto"
   },
   "outputs": [
    {
     "name": "stdout",
     "output_type": "stream",
     "text": [
      "+------------------+----------+------------+\n",
      "|        avg(Score)|max(Score)|count(Score)|\n",
      "+------------------+----------+------------+\n",
      "|0.9099808454328786|       232|      410346|\n",
      "+------------------+----------+------------+\n",
      "\n"
     ]
    }
   ],
   "source": [
    "import pyspark.sql.functions as F\n",
    "\n",
    "# Buscar la media y máximo de la columna \"Score\" de todas las filas y el número total del DataFrame completo.\n",
    "dfSE.select(F.avg(colPuntos), F.max(colPuntos), F.count(colPuntos)).show()"
   ]
  },
  {
   "cell_type": "code",
   "execution_count": 52,
   "metadata": {
    "autoscroll": "auto"
   },
   "outputs": [
    {
     "name": "stdout",
     "output_type": "stream",
     "text": [
      "+-------+------------------+\n",
      "|summary|             Score|\n",
      "+-------+------------------+\n",
      "|  count|            410346|\n",
      "|   mean|0.9099808454328786|\n",
      "| stddev| 2.193521393477432|\n",
      "|    min|               -28|\n",
      "|    max|               232|\n",
      "+-------+------------------+\n",
      "\n"
     ]
    }
   ],
   "source": [
    "# Otra forma usando describe\n",
    "dfSE.select(colPuntos).describe().show()"
   ]
  },
  {
   "cell_type": "markdown",
   "metadata": {},
   "source": [
    "## Tipos complejos\n",
    "\n",
    "Spark permite trabajar con tres tipos de datos complejos: `structs`, `arrays` y `maps`"
   ]
  },
  {
   "cell_type": "markdown",
   "metadata": {},
   "source": [
    "### Structs\n",
    "\n",
    "DataFrames dentro de DataFrames"
   ]
  },
  {
   "cell_type": "code",
   "execution_count": 53,
   "metadata": {
    "autoscroll": "auto"
   },
   "outputs": [
    {
     "name": "stdout",
     "output_type": "stream",
     "text": [
      "+------+---------+-----------+-----------------+\n",
      "|    id|ViewCount|AnswerCount|Vistas_Respuestas|\n",
      "+------+---------+-----------+-----------------+\n",
      "|379389|      592|          1|         {592, 1}|\n",
      "|379391|     1434|          1|        {1434, 1}|\n",
      "|379392|       18|          0|          {18, 0}|\n",
      "|379393|      500|          0|         {500, 0}|\n",
      "|379394|        0|          0|           {0, 0}|\n",
      "+------+---------+-----------+-----------------+\n",
      "only showing top 5 rows\n",
      "\n"
     ]
    }
   ],
   "source": [
    "from pyspark.sql.functions import struct,col\n",
    "# Creamos un nuevo DF con una columna que combina dos columnas existentes\n",
    "colId = col(\"id\")\n",
    "colNumVistas = col(\"ViewCount\")\n",
    "colNRespuestas = col(\"AnswerCount\")\n",
    "dfStruct = dfSE.select(colId, colNumVistas, colNRespuestas,\n",
    "                struct(colNumVistas, colNRespuestas)\\\n",
    "               .alias(\"Vistas_Respuestas\"))\n",
    "dfStruct.show(5)"
   ]
  },
  {
   "cell_type": "code",
   "execution_count": 54,
   "metadata": {
    "autoscroll": "auto"
   },
   "outputs": [
    {
     "name": "stdout",
     "output_type": "stream",
     "text": [
      "root\n",
      " |-- id: integer (nullable = true)\n",
      " |-- ViewCount: integer (nullable = true)\n",
      " |-- AnswerCount: integer (nullable = true)\n",
      " |-- Vistas_Respuestas: struct (nullable = false)\n",
      " |    |-- ViewCount: integer (nullable = true)\n",
      " |    |-- AnswerCount: integer (nullable = true)\n",
      "\n"
     ]
    }
   ],
   "source": [
    "dfStruct.printSchema()"
   ]
  },
  {
   "cell_type": "code",
   "execution_count": 55,
   "metadata": {
    "autoscroll": "auto"
   },
   "outputs": [
    {
     "name": "stdout",
     "output_type": "stream",
     "text": [
      "+---------------------------+\n",
      "|Vistas_Respuestas.ViewCount|\n",
      "+---------------------------+\n",
      "|                        592|\n",
      "|                       1434|\n",
      "|                         18|\n",
      "|                        500|\n",
      "|                          0|\n",
      "+---------------------------+\n",
      "only showing top 5 rows\n",
      "\n"
     ]
    }
   ],
   "source": [
    "# Obtenemos un campo de la columna compuesta\n",
    "dfStruct.select(col(\"Vistas_Respuestas\").getField(\"ViewCount\"))\\\n",
    "        .show(5)"
   ]
  },
  {
   "cell_type": "markdown",
   "metadata": {},
   "source": [
    "### Arrays\n",
    "\n",
    "Permiten trabajar con datos como si fuera un array Python"
   ]
  },
  {
   "cell_type": "markdown",
   "metadata": {},
   "source": [
    "*Ejemplo*\n",
    "\n",
    "Obtener el número de *tags* para cada pregunta con respuesta aceptada y eliminar los símbolos ``&lt;`` y ``&gt;``\n",
    "\n",
    "  - Las \"tags\" de cada pregunta se guardan concatenadas, separadas por < y >, codificados como ``&lt;`` y ``&gt;``\n",
    "\n",
    "`&lt;english-comparison&gt;&lt;translation&gt;&lt;phrase-request&gt;`"
   ]
  },
  {
   "cell_type": "code",
   "execution_count": 56,
   "metadata": {
    "autoscroll": "auto"
   },
   "outputs": [
    {
     "name": "stdout",
     "output_type": "stream",
     "text": [
      "+------+----------------+-----------+--------------------+----------+------------+------------------+--------------+--------------------+-------------+--------------------+--------------------+---------------------+----------------+----------------+-----------+--------+----------+-----+--------------------+--------------------+---------+\n",
      "|    Id|AcceptedAnswerId|AnswerCount|                Body|ClosedDate|CommentCount|CommunityOwnedDate|ContentLicense|   Fecha_de_creación|FavoriteCount|    LastActivityDate|        LastEditDate|LastEditorDisplayName|LastEditorUserId|OwnerDisplayName|OwnerUserId|ParentId|PostTypeId|Score|                Tags|               Title|ViewCount|\n",
      "+------+----------------+-----------+--------------------+----------+------------+------------------+--------------+--------------------+-------------+--------------------+--------------------+---------------------+----------------+----------------+-----------+--------+----------+-----+--------------------+--------------------+---------+\n",
      "|379389|          379397|          1|<p>soy principian...|      NULL|           0|              NULL|  CC BY-SA 4.0|2020-08-03 19:45:...|         NULL|2020-08-03 20:41:...|                NULL|                 NULL|            NULL|            NULL|     146078|    NULL|         1|    0|      <array><ionic>|Array Angular - I...|      592|\n",
      "|379391|            NULL|          1|<p>Estoy tratando...|      NULL|           3|              NULL|  CC BY-SA 4.0|2020-08-03 19:57:...|         NULL|2020-08-04 10:44:...|2020-08-04 09:54:...|                 NULL|          156327|            NULL|     186742|    NULL|         1|    2|<javascript><html...|¿Cómo leo un arch...|     1434|\n",
      "|379392|            NULL|          0|<p>Hola buen día ...|      NULL|           3|              NULL|  CC BY-SA 4.0|2020-08-03 20:14:...|            0|2020-08-03 20:14:...|                NULL|                 NULL|            NULL|            NULL|     131115|    NULL|         1|    0|             <mysql>|Como sumar la can...|       18|\n",
      "|379393|            NULL|          0|<p>Estoy creando ...|      NULL|           2|              NULL|  CC BY-SA 4.0|2020-08-03 20:20:...|         NULL|2020-08-03 20:52:...|2020-08-03 20:52:...|                 NULL|          186748|            NULL|     186748|    NULL|         1|    0|<php><mysql><andr...|Enviar notificaci...|      500|\n",
      "|379394|            NULL|          0|<p>Si quieres pru...|      NULL|           1|              NULL|  CC BY-SA 4.0|2020-08-03 20:21:...|         NULL|2020-08-03 20:21:...|                NULL|                 NULL|            NULL|            NULL|     186734|  379383|         2|    0|                NULL|                NULL|        0|\n",
      "|379396|          379500|          1|<p>¿Alguien sabe ...|      NULL|           2|              NULL|  CC BY-SA 4.0|2020-08-03 20:38:...|         NULL|2020-08-04 07:16:...|2020-08-04 07:16:...|                 NULL|            2742|            NULL|     183610|    NULL|         1|    0|                 <c>|Compartir variabl...|       96|\n",
      "|379397|            NULL|          0|<p>Pon la inicial...|      NULL|           0|              NULL|  CC BY-SA 4.0|2020-08-03 20:41:...|         NULL|2020-08-03 20:41:...|                NULL|                 NULL|            NULL|            NULL|      55132|  379389|         2|    1|                NULL|                NULL|        0|\n",
      "|379400|            NULL|          0|<p>Tienes un erro...|      NULL|           2|              NULL|  CC BY-SA 4.0|2020-08-03 20:53:...|         NULL|2020-08-03 20:53:...|                NULL|                 NULL|            NULL|            NULL|       3440|  379383|         2|    3|                NULL|                NULL|        0|\n",
      "|379401|            NULL|          0|<p>Gracias por tu...|      NULL|           0|              NULL|  CC BY-SA 4.0|2020-08-03 20:55:...|         NULL|2020-08-03 21:08:...|2020-08-03 21:08:...|           user186755|            NULL|      user186755|       NULL|  106237|         2|    0|                NULL|                NULL|        0|\n",
      "|379402|            NULL|          1|<p>Actualmente es...|      NULL|           2|              NULL|  CC BY-SA 4.0|2020-08-03 20:57:...|         NULL|2020-08-07 02:22:...|2020-08-04 16:39:...|                 NULL|          181212|            NULL|     181212|    NULL|         1|    0|<android-studio><...|Kotlin ¿Como impl...|      468|\n",
      "+------+----------------+-----------+--------------------+----------+------------+------------------+--------------+--------------------+-------------+--------------------+--------------------+---------------------+----------------+----------------+-----------+--------+----------+-----+--------------------+--------------------+---------+\n",
      "only showing top 10 rows\n",
      "\n",
      "+-----------------------------------------------+\n",
      "|Tags                                           |\n",
      "+-----------------------------------------------+\n",
      "|<array><ionic>                                 |\n",
      "|<javascript><html5><json><xml><api>            |\n",
      "|<mysql>                                        |\n",
      "|<php><mysql><android-studio><push-notification>|\n",
      "|<c>                                            |\n",
      "|<android-studio><kotlin><cache><android-glide> |\n",
      "|<java><spring-boot><java-8><cookies>           |\n",
      "|<php><html><jquery>                            |\n",
      "|<java><array>                                  |\n",
      "|<base-de-datos><modelorelacional>              |\n",
      "+-----------------------------------------------+\n",
      "only showing top 10 rows\n",
      "\n"
     ]
    }
   ],
   "source": [
    "# Obtenemos un DataFrame sin tags nulas\n",
    "dfSE.show(10)\n",
    "dfNoNullTags = dfSE.dropna(\"any\", subset=[\"Tags\"])\n",
    "dfNoNullTags.select(\"Tags\").show(10, False)"
   ]
  },
  {
   "cell_type": "code",
   "execution_count": 57,
   "metadata": {
    "autoscroll": "auto"
   },
   "outputs": [
    {
     "name": "stdout",
     "output_type": "stream",
     "text": [
      "+-------------------------------------------------+\n",
      "|tag_array                                        |\n",
      "+-------------------------------------------------+\n",
      "|[<array><ionic>]                                 |\n",
      "|[<javascript><html5><json><xml><api>]            |\n",
      "|[<mysql>]                                        |\n",
      "|[<php><mysql><android-studio><push-notification>]|\n",
      "|[<c>]                                            |\n",
      "|[<android-studio><kotlin><cache><android-glide>] |\n",
      "|[<java><spring-boot><java-8><cookies>]           |\n",
      "|[<php><html><jquery>]                            |\n",
      "|[<java><array>]                                  |\n",
      "|[<base-de-datos><modelorelacional>]              |\n",
      "+-------------------------------------------------+\n",
      "only showing top 10 rows\n",
      "\n"
     ]
    }
   ],
   "source": [
    "# Añado una columna con las etiquetas separadas\n",
    "from pyspark.sql.functions import split\n",
    "colTags = col(\"Tags\")\n",
    "dfTags = dfNoNullTags.withColumn(\"tag_array\", split(colTags, \"&gt;&lt;\"))\n",
    "dfTags.select(col(\"tag_array\")).show(10, False)"
   ]
  },
  {
   "cell_type": "code",
   "execution_count": 58,
   "metadata": {
    "autoscroll": "auto"
   },
   "outputs": [
    {
     "name": "stdout",
     "output_type": "stream",
     "text": [
      "root\n",
      " |-- Id: integer (nullable = true)\n",
      " |-- AcceptedAnswerId: integer (nullable = true)\n",
      " |-- AnswerCount: integer (nullable = true)\n",
      " |-- Body: string (nullable = true)\n",
      " |-- ClosedDate: timestamp (nullable = true)\n",
      " |-- CommentCount: integer (nullable = true)\n",
      " |-- CommunityOwnedDate: timestamp (nullable = true)\n",
      " |-- ContentLicense: string (nullable = true)\n",
      " |-- Fecha_de_creación: timestamp (nullable = true)\n",
      " |-- FavoriteCount: integer (nullable = true)\n",
      " |-- LastActivityDate: timestamp (nullable = true)\n",
      " |-- LastEditDate: timestamp (nullable = true)\n",
      " |-- LastEditorDisplayName: string (nullable = true)\n",
      " |-- LastEditorUserId: integer (nullable = true)\n",
      " |-- OwnerDisplayName: string (nullable = true)\n",
      " |-- OwnerUserId: integer (nullable = true)\n",
      " |-- ParentId: integer (nullable = true)\n",
      " |-- PostTypeId: integer (nullable = true)\n",
      " |-- Score: integer (nullable = true)\n",
      " |-- Tags: string (nullable = true)\n",
      " |-- Title: string (nullable = true)\n",
      " |-- ViewCount: integer (nullable = true)\n",
      " |-- tag_array: array (nullable = true)\n",
      " |    |-- element: string (containsNull = false)\n",
      "\n"
     ]
    }
   ],
   "source": [
    "dfTags.printSchema()"
   ]
  },
  {
   "cell_type": "code",
   "execution_count": 59,
   "metadata": {
    "autoscroll": "auto"
   },
   "outputs": [
    {
     "name": "stdout",
     "output_type": "stream",
     "text": [
      "+-------------------------------------------------+---------------+\n",
      "|tag_array                                        |size(tag_array)|\n",
      "+-------------------------------------------------+---------------+\n",
      "|[<array><ionic>]                                 |1              |\n",
      "|[<javascript><html5><json><xml><api>]            |1              |\n",
      "|[<mysql>]                                        |1              |\n",
      "|[<php><mysql><android-studio><push-notification>]|1              |\n",
      "|[<c>]                                            |1              |\n",
      "+-------------------------------------------------+---------------+\n",
      "only showing top 5 rows\n",
      "\n"
     ]
    }
   ],
   "source": [
    "from pyspark.sql.functions import size\n",
    "# Mostramos el número de etiquetas de cada entrada\n",
    "colTag_array = col(\"tag_array\")\n",
    "dfTags.select(colTag_array, size(colTag_array)).show(5, False)"
   ]
  },
  {
   "cell_type": "code",
   "execution_count": 60,
   "metadata": {
    "autoscroll": "auto"
   },
   "outputs": [
    {
     "name": "stdout",
     "output_type": "stream",
     "text": [
      "+-------------------------------------------------+------------+\n",
      "|tag_array                                        |tag_array[1]|\n",
      "+-------------------------------------------------+------------+\n",
      "|[<array><ionic>]                                 |NULL        |\n",
      "|[<javascript><html5><json><xml><api>]            |NULL        |\n",
      "|[<mysql>]                                        |NULL        |\n",
      "|[<php><mysql><android-studio><push-notification>]|NULL        |\n",
      "|[<c>]                                            |NULL        |\n",
      "+-------------------------------------------------+------------+\n",
      "only showing top 5 rows\n",
      "\n"
     ]
    }
   ],
   "source": [
    "# Mostramos la segunda etiqueta de cada entrada\n",
    "dfTags.selectExpr(\"tag_array\", \"tag_array[1]\").show(5, False)"
   ]
  },
  {
   "cell_type": "code",
   "execution_count": 61,
   "metadata": {
    "autoscroll": "auto"
   },
   "outputs": [
    {
     "name": "stdout",
     "output_type": "stream",
     "text": [
      "+-------------------------------------------------+---------+\n",
      "|tag_array                                        |Con_usage|\n",
      "+-------------------------------------------------+---------+\n",
      "|[<array><ionic>]                                 |false    |\n",
      "|[<javascript><html5><json><xml><api>]            |false    |\n",
      "|[<mysql>]                                        |false    |\n",
      "|[<php><mysql><android-studio><push-notification>]|false    |\n",
      "|[<c>]                                            |false    |\n",
      "+-------------------------------------------------+---------+\n",
      "only showing top 5 rows\n",
      "\n"
     ]
    }
   ],
   "source": [
    "from pyspark.sql.functions import array_contains\n",
    "# Miramos si en las tags aparece la palabra \"usage\"\n",
    "dfTags.withColumn(\"Con_usage\", array_contains(colTag_array, \"&lt;usage\"))\\\n",
    "      .select(colTag_array, col(\"Con_usage\")).show(5, False)"
   ]
  },
  {
   "cell_type": "code",
   "execution_count": 62,
   "metadata": {
    "autoscroll": "auto"
   },
   "outputs": [
    {
     "name": "stdout",
     "output_type": "stream",
     "text": [
      "+-----------------------------------------------+-----------------------------------------------+\n",
      "|Tags                                           |Tags2                                          |\n",
      "+-----------------------------------------------+-----------------------------------------------+\n",
      "|<array><ionic>                                 |<array><ionic>                                 |\n",
      "|<javascript><html5><json><xml><api>            |<javascript><html5><json><xml><api>            |\n",
      "|<mysql>                                        |<mysql>                                        |\n",
      "|<php><mysql><android-studio><push-notification>|<php><mysql><android-studio><push-notification>|\n",
      "|<c>                                            |<c>                                            |\n",
      "|<android-studio><kotlin><cache><android-glide> |<android-studio><kotlin><cache><android-glide> |\n",
      "|<java><spring-boot><java-8><cookies>           |<java><spring-boot><java-8><cookies>           |\n",
      "|<php><html><jquery>                            |<php><html><jquery>                            |\n",
      "|<java><array>                                  |<java><array>                                  |\n",
      "|<base-de-datos><modelorelacional>              |<base-de-datos><modelorelacional>              |\n",
      "+-----------------------------------------------+-----------------------------------------------+\n",
      "only showing top 10 rows\n",
      "\n"
     ]
    }
   ],
   "source": [
    "from pyspark.sql.functions import explode\n",
    "# Convertimos cada etiqueta en una fila\n",
    "dfTagsRows = dfTags.withColumn(\"Tags2\", explode(colTag_array))\n",
    "dfTagsRows.select(colTags, col(\"Tags2\")).show(10, False)"
   ]
  },
  {
   "cell_type": "code",
   "execution_count": 63,
   "metadata": {
    "autoscroll": "auto"
   },
   "outputs": [
    {
     "name": "stdout",
     "output_type": "stream",
     "text": [
      "+-----------------------------------------------+-----------------------------------------------+\n",
      "|Tags                                           |Tags_separadas                                 |\n",
      "+-----------------------------------------------+-----------------------------------------------+\n",
      "|<array><ionic>                                 |<array><ionic>                                 |\n",
      "|<javascript><html5><json><xml><api>            |<javascript><html5><json><xml><api>            |\n",
      "|<mysql>                                        |<mysql>                                        |\n",
      "|<php><mysql><android-studio><push-notification>|<php><mysql><android-studio><push-notification>|\n",
      "|<c>                                            |<c>                                            |\n",
      "|<android-studio><kotlin><cache><android-glide> |<android-studio><kotlin><cache><android-glide> |\n",
      "|<java><spring-boot><java-8><cookies>           |<java><spring-boot><java-8><cookies>           |\n",
      "|<php><html><jquery>                            |<php><html><jquery>                            |\n",
      "|<java><array>                                  |<java><array>                                  |\n",
      "|<base-de-datos><modelorelacional>              |<base-de-datos><modelorelacional>              |\n",
      "+-----------------------------------------------+-----------------------------------------------+\n",
      "only showing top 10 rows\n",
      "\n"
     ]
    }
   ],
   "source": [
    "# Elimina los símbolos &lt; y &gt;\n",
    "from pyspark.sql.functions import regexp_replace\n",
    "dfTags = dfTagsRows.withColumn(\"Tags_separadas\",\n",
    "            regexp_replace(\"Tags2\", \"&[l,g]t;\", \"\")).drop(\"Tags2\")\n",
    "dfTags.select(colTags, col(\"Tags_separadas\")).show(10, False)"
   ]
  },
  {
   "cell_type": "code",
   "execution_count": 64,
   "metadata": {
    "autoscroll": "auto"
   },
   "outputs": [
    {
     "name": "stderr",
     "output_type": "stream",
     "text": [
      "[Stage 193:>                                                        (0 + 8) / 8]\r"
     ]
    },
    {
     "name": "stdout",
     "output_type": "stream",
     "text": [
      "Número de entradas con la etiqueta word-choice = 0\n"
     ]
    },
    {
     "name": "stderr",
     "output_type": "stream",
     "text": [
      "                                                                                \r"
     ]
    }
   ],
   "source": [
    "# Número de entradas con la etiqueta word-choice\n",
    "print(\"Número de entradas con la etiqueta word-choice = {0}\"\n",
    "      .format(dfTags\n",
    "      .filter(col(\"Tags_separadas\") == \"word-choice\")\n",
    "      .count()))"
   ]
  },
  {
   "cell_type": "markdown",
   "metadata": {},
   "source": [
    "## Funciones de ventana\n",
    "\n",
    "Similares a las de funciones de agregación, permiten operar en grupos de filas devolviendo un único valor para cada fila. Esto permite, entre otras cosas:\n",
    "\n",
    "  - Obtener medias móviles\n",
    "  - Calcular sumas acumuladas\n",
    "  - Acceder a los valores de una fila por encima de la actual\n",
    "\n",
    "Básicamente, una función de ventana (window function) calcula un valor para cada fila de entrada de una tabla en base a un grupo de filas, denominado *frame*.\n",
    "\n",
    "Como funciones de ventana se puede usar las funciones de agregación ya comentadas y otras funciones adicionales (``cume_dist``, ``dense_rank``, ``lag``, ``lead``, ``ntile``, ``percent_rank``, ``rank``, ``row_number``) especificadas como *Window functions* en <https://spark.apache.org/docs/latest/api/python/reference/pyspark.sql/window.html>"
   ]
  },
  {
   "cell_type": "markdown",
   "metadata": {},
   "source": [
    "#### Ejemplo 1\n",
    "A partir del DataFrame ``dfPregConRespAcept``, mostrar la puntuación (columna \"Score\") máxima por usuario, y, para cada pregunta, la diferencia de su puntuación con el máximo del usuario.\n"
   ]
  },
  {
   "cell_type": "code",
   "execution_count": 65,
   "metadata": {
    "autoscroll": "auto"
   },
   "outputs": [
    {
     "name": "stdout",
     "output_type": "stream",
     "text": [
      "<class 'pyspark.sql.window.WindowSpec'>\n"
     ]
    }
   ],
   "source": [
    "from pyspark.sql.window import Window\n",
    "\n",
    "# Especificamos la ventana que particiona las filas por la columna OwnerUserId\n",
    "ventana = Window.partitionBy(colUserId)\n",
    "print(type(ventana))\n"
   ]
  },
  {
   "cell_type": "code",
   "execution_count": 66,
   "metadata": {
    "autoscroll": "auto"
   },
   "outputs": [
    {
     "name": "stdout",
     "output_type": "stream",
     "text": [
      "<class 'pyspark.sql.column.Column'>\n"
     ]
    }
   ],
   "source": [
    "# Creamos una columna con los máximos valores de Score por usuario\n",
    "colMaxPuntos = F.max(colPuntos).over(ventana)\n",
    "print(type(colMaxPuntos))"
   ]
  },
  {
   "cell_type": "code",
   "execution_count": 67,
   "metadata": {
    "autoscroll": "auto"
   },
   "outputs": [
    {
     "name": "stderr",
     "output_type": "stream",
     "text": [
      "[Stage 196:=======>                                                 (1 + 7) / 8]\r"
     ]
    },
    {
     "name": "stdout",
     "output_type": "stream",
     "text": [
      "+-----------+--------+-----+-------------+----------+\n",
      "|OwnerUserId|Pregunta|Score|maxPorUsuario|Diferencia|\n",
      "+-----------+--------+-----+-------------+----------+\n",
      "|       NULL|    1455|    5|           40|        35|\n",
      "|       NULL|    1493|   18|           40|        22|\n",
      "|       NULL|    1630|    5|           40|        35|\n",
      "|       NULL|    2046|    5|           40|        35|\n",
      "|       NULL|    2431|    3|           40|        37|\n",
      "|       NULL|    2441|    4|           40|        36|\n",
      "|       NULL|    2956|    3|           40|        37|\n",
      "|       NULL|    4713|    3|           40|        37|\n",
      "|       NULL|    5211|    2|           40|        38|\n",
      "|       NULL|    5790|    3|           40|        37|\n",
      "|       NULL|    6011|    0|           40|        40|\n",
      "|       NULL|    6041|    1|           40|        39|\n",
      "|       NULL|    6508|    5|           40|        35|\n",
      "|       NULL|    6872|    2|           40|        38|\n",
      "|       NULL|    7744|    0|           40|        40|\n",
      "|       NULL|    8135|    1|           40|        39|\n",
      "|       NULL|    8823|    3|           40|        37|\n",
      "|       NULL|    9128|    3|           40|        37|\n",
      "|       NULL|    9318|    0|           40|        40|\n",
      "|       NULL|    9708|    4|           40|        36|\n",
      "|       NULL|   10244|    1|           40|        39|\n",
      "|       NULL|   10296|    0|           40|        40|\n",
      "|       NULL|   10329|   -1|           40|        41|\n",
      "|       NULL|   12959|    2|           40|        38|\n",
      "|       NULL|   13204|    3|           40|        37|\n",
      "|       NULL|   13272|    6|           40|        34|\n",
      "|       NULL|   13535|    5|           40|        35|\n",
      "|       NULL|   13757|    1|           40|        39|\n",
      "|       NULL|   13873|    0|           40|        40|\n",
      "|       NULL|   13996|    0|           40|        40|\n",
      "+-----------+--------+-----+-------------+----------+\n",
      "only showing top 30 rows\n",
      "\n"
     ]
    },
    {
     "name": "stderr",
     "output_type": "stream",
     "text": [
      "                                                                                \r"
     ]
    }
   ],
   "source": [
    "# Obtenemos un nuevo DataFrame incluyendo la puntuación máxima por usuario\n",
    "# y la diferencia entre este máximo y la puntuación de cada pregunta\n",
    "questionsWithAcceptedAnswersDf.select(colUserId, colId.alias(\"Pregunta\"),\n",
    "                          colPuntos, colMaxPuntos.alias(\"maxPorUsuario\"))\\\n",
    "                  .withColumn(\"Diferencia\", colMaxPuntos-colPuntos)\\\n",
    "                  .orderBy(colUserId, colId)\\\n",
    "                  .show(30)"
   ]
  },
  {
   "cell_type": "markdown",
   "metadata": {},
   "source": [
    "#### Ejemplo 2\n",
    "Mostrar para cada usuario y pregunta del DataFrame ``dfPregConRespAcept`` el número de días que pasaron desde la anterior pregunta del usuario hasta la actual, y desde esta hasta la siguiente."
   ]
  },
  {
   "cell_type": "code",
   "execution_count": 68,
   "metadata": {
    "autoscroll": "auto"
   },
   "outputs": [],
   "source": [
    "# Especificamos la ventana que particiona las filas por la columna OwnerUserId y las ordena por fecha de creación\n",
    "from pyspark.sql.window import WindowSpec\n",
    "\n",
    "ventana: WindowSpec = Window.partitionBy(colUserId).orderBy(fechaCreacionCol)"
   ]
  },
  {
   "cell_type": "code",
   "execution_count": 69,
   "metadata": {
    "autoscroll": "auto"
   },
   "outputs": [
    {
     "name": "stdout",
     "output_type": "stream",
     "text": [
      "+-----------+-----+-----------------------+----------+----------+\n",
      "|OwnerUserId|id   |Fecha de creación      |Días desde|Días hasta|\n",
      "+-----------+-----+-----------------------+----------+----------+\n",
      "|NULL       |1455 |2015-12-21 15:36:13.263|NULL      |1         |\n",
      "|NULL       |1493 |2015-12-22 00:01:49.88 |1         |1         |\n",
      "|NULL       |1630 |2015-12-23 03:54:26.557|1         |12        |\n",
      "|NULL       |2046 |2016-01-04 18:09:54.537|12        |8         |\n",
      "|NULL       |2431 |2016-01-12 17:03:14.863|8         |0         |\n",
      "|NULL       |2441 |2016-01-12 19:35:58.44 |0         |9         |\n",
      "|NULL       |2956 |2016-01-21 22:46:57.103|9         |34        |\n",
      "|NULL       |4713 |2016-02-24 20:12:37.197|34        |9         |\n",
      "|NULL       |5211 |2016-03-04 17:41:42.637|9         |11        |\n",
      "|NULL       |5790 |2016-03-15 17:37:29.7  |11        |3         |\n",
      "|NULL       |6011 |2016-03-18 18:50:14.727|3         |1         |\n",
      "|NULL       |6041 |2016-03-19 12:13:42.133|1         |10        |\n",
      "|NULL       |6508 |2016-03-29 21:42:50.647|10        |5         |\n",
      "|NULL       |6872 |2016-04-03 05:26:23.063|5         |11        |\n",
      "|NULL       |7744 |2016-04-14 08:45:47.797|11        |6         |\n",
      "|NULL       |8135 |2016-04-20 16:44:41.477|6         |10        |\n",
      "|NULL       |8823 |2016-04-30 15:37:17.7  |10        |4         |\n",
      "|NULL       |9128 |2016-05-04 20:44:02.14 |4         |3         |\n",
      "|NULL       |9318 |2016-05-07 04:35:37.087|3         |4         |\n",
      "|NULL       |9708 |2016-05-11 23:47:54.73 |4         |7         |\n",
      "|NULL       |10244|2016-05-18 03:51:14.02 |7         |0         |\n",
      "|NULL       |10296|2016-05-18 15:47:18.833|0         |0         |\n",
      "|NULL       |10329|2016-05-18 18:25:01.897|0         |19        |\n",
      "|NULL       |12959|2016-06-06 08:25:44.193|19        |2         |\n",
      "|NULL       |13204|2016-06-08 11:55:35.937|2         |0         |\n",
      "|NULL       |13272|2016-06-08 19:20:02.763|0         |2         |\n",
      "|NULL       |13535|2016-06-10 14:29:59.15 |2         |3         |\n",
      "|NULL       |13757|2016-06-13 09:03:47.973|3         |1         |\n",
      "|NULL       |13873|2016-06-14 12:17:00.71 |1         |1         |\n",
      "|NULL       |13996|2016-06-15 05:44:00.547|1         |0         |\n",
      "+-----------+-----+-----------------------+----------+----------+\n",
      "only showing top 30 rows\n",
      "\n"
     ]
    }
   ],
   "source": [
    "# Creamos una columna que referencia a la pregunta anterior por fecha\n",
    "colAnterior: Column = F.lag(fechaCreacionCol, 1).over(ventana)\n",
    "# Creamos una columna que referencia a la pregunta posterior por fecha\n",
    "colPosterior: Column = F.lead(fechaCreacionCol, 1).over(ventana)\n",
    "\n",
    "# Mostramos para cada usuario y pregunta el id de la pregunta anterior y posterior\n",
    "questionsWithAcceptedAnswersDf.select(colUserId, colId, fechaCreacionCol.alias(\"Fecha de creación\"),\n",
    "                          F.datediff(fechaCreacionCol,colAnterior).alias(\"Días desde\"),\n",
    "                          F.datediff(colPosterior,fechaCreacionCol).alias(\"Días hasta\"))\\\n",
    "                  .orderBy(colUserId, colId)\\\n",
    "                  .show(30, truncate=False)"
   ]
  },
  {
   "cell_type": "markdown",
   "metadata": {},
   "source": [
    "## Funciones definidas por el usuario (UDFs)\n",
    "\n",
    "Si queremos una función que no está implementada, podemos crear nuestra propia función que opere sobre columnas.\n",
    "\n",
    "  - Las UDFs en Python pueden ser bastante ineficientes, debido a la serialización de datos a Python\n",
    "  - Preferible programarlas en Scala o Java (se pueden usar desde Python)\n"
   ]
  },
  {
   "cell_type": "markdown",
   "metadata": {},
   "source": [
    "#### Ejemplo\n",
    "\n",
    "Usar UDFs para obtener el número de *tags* para cada pregunta y cambiar los ``&lt;`` y ``&gt;`` por < y >\n",
    "\n",
    "  - Las \"tags\" de cada pregunta se guardan concatenadas, separadas por < y >, codificados como ``&lt;`` y ``&gt;``\n",
    "\n",
    "`&lt;english-comparison&gt;&lt;translation&gt;&lt;phrase-request&gt;`\n",
    "\n",
    "Para contar el número de tags, basta con contar el número de apariciones de ``&lt;`` en el string."
   ]
  },
  {
   "cell_type": "code",
   "execution_count": 70,
   "metadata": {
    "autoscroll": "auto"
   },
   "outputs": [],
   "source": [
    "colTags: Column = col(\"Tags\")\n",
    "# Obtenemos un DataFrame sin tags nulas\n",
    "dfNoNullTags: DataFrame = dfSE.dropna(\"any\", subset=[\"Tags\"])"
   ]
  },
  {
   "cell_type": "code",
   "execution_count": 71,
   "metadata": {
    "autoscroll": "auto"
   },
   "outputs": [],
   "source": [
    "from pyspark.sql.functions import udf\n",
    "from pyspark.sql.types import IntegerType\n",
    "\n",
    "# Se puede hacer de dos formas, o bien con una función o\n",
    "# con una anotación @udf\n",
    "\n",
    "# Definimos una función que devuelva el número de &lt; en un string\n",
    "@udf(returnType=IntegerType())\n",
    "def udfCuentaTags(tags):\n",
    "    return tags.count('&lt;')\n",
    "\n",
    "# Definimos una función que reemplace &lt y &gt por < y >\n",
    "def reemplazaTags(tags):\n",
    "    return tags.replace('&lt;', '<').replace('&gt;', '>')\n",
    "\n",
    "# Creamos udfs a partir de esta última función\n",
    "udfReemplazaTags = udf(reemplazaTags)"
   ]
  },
  {
   "cell_type": "code",
   "execution_count": 72,
   "metadata": {
    "autoscroll": "auto"
   },
   "outputs": [
    {
     "name": "stderr",
     "output_type": "stream",
     "text": [
      "[Stage 202:>                                                        (0 + 1) / 1]\r"
     ]
    },
    {
     "name": "stdout",
     "output_type": "stream",
     "text": [
      "+-----------------------------------------------+----------+\n",
      "|Etiquetas                                      |nEtiquetas|\n",
      "+-----------------------------------------------+----------+\n",
      "|<array><ionic>                                 |0         |\n",
      "|<javascript><html5><json><xml><api>            |0         |\n",
      "|<mysql>                                        |0         |\n",
      "|<php><mysql><android-studio><push-notification>|0         |\n",
      "|<c>                                            |0         |\n",
      "|<android-studio><kotlin><cache><android-glide> |0         |\n",
      "|<java><spring-boot><java-8><cookies>           |0         |\n",
      "|<php><html><jquery>                            |0         |\n",
      "|<java><array>                                  |0         |\n",
      "|<base-de-datos><modelorelacional>              |0         |\n",
      "|<php><javascript><jquery><laravel><eloquent>   |0         |\n",
      "|<oracle><oracle-sqldeveloper>                  |0         |\n",
      "|<angular>                                      |0         |\n",
      "|<javascript><html5>                            |0         |\n",
      "|<javascript>                                   |0         |\n",
      "|<c#><jquery><ajax>                             |0         |\n",
      "|<php><javascript><sql><ajax>                   |0         |\n",
      "|<mysql>                                        |0         |\n",
      "|<python><python-3.x><python-3.7>               |0         |\n",
      "|<mongodb><aws>                                 |0         |\n",
      "+-----------------------------------------------+----------+\n",
      "only showing top 20 rows\n",
      "\n"
     ]
    },
    {
     "name": "stderr",
     "output_type": "stream",
     "text": [
      "                                                                                \r"
     ]
    }
   ],
   "source": [
    "dfNoNullTags.select(udfReemplazaTags(colTags).alias(\"Etiquetas\"),\\\n",
    "                    udfCuentaTags(colTags).alias(\"nEtiquetas\"))\\\n",
    "                  .show(truncate=False)\n"
   ]
  },
  {
   "cell_type": "code",
   "execution_count": 73,
   "metadata": {
    "autoscroll": "auto"
   },
   "outputs": [],
   "source": [
    "# Llamo a las UDFs Scala usando una expresión (si estuvieran definidas en Scala)\n",
    "#dfNoNullTags.selectExpr(\"udfReemplazaTagsSc(Tags) AS Etiquetas\",\n",
    "#                              \"udfCuentaTagsSc(Tags) AS nEtiquetas\")\\\n",
    "#                  .show(truncate=False)"
   ]
  },
  {
   "cell_type": "markdown",
   "metadata": {},
   "source": [
    "## Uso de comandos SQL\n",
    "\n",
    "Los comandos SQL ejecutados desde Spark se trasladan a operaciones sobre DataFrames\n",
    "\n",
    " - Se pueden ejecutar comandos remotos a través del servidor JDBC/ODBC [Thrift](https://spark.apache.org/docs/latest/sql-programming-guide.html#distributed-sql-engine)\n",
    " - También puede trabajar con datos almacenados en [Apache Hive](https://spark.apache.org/docs/latest/sql-programming-guide.html#hive-tables)\n",
    "\n",
    "Para usar comandos SQL sobre un DataFrame, este tiene que registrarse como una *tabla* o *vista*\n",
    "\n",
    " - la vista puede crearse como temporal (desaparece al terminar la sesión) o global (se mantiene entre sesiones)\n"
   ]
  },
  {
   "cell_type": "code",
   "execution_count": 74,
   "metadata": {
    "autoscroll": "auto"
   },
   "outputs": [
    {
     "data": {
      "text/plain": [
       "DataFrame[]"
      ]
     },
     "execution_count": 74,
     "metadata": {},
     "output_type": "execute_result"
    }
   ],
   "source": [
    "# Registra el DataFrame dfPregConRespAcept como una vista temporal\n",
    "questionsWithAcceptedAnswersDf\\\n",
    "    .createOrReplaceTempView(\"tabla_PregConRespAcept\")\n",
    "\n",
    "# Crea una tabla con los datops guardados en Parquet\n",
    "spark.sql(\"\"\"CREATE TABLE tabla_SE\n",
    "             USING PARQUET OPTIONS (path '/tmp/tcdm-public/datos/dfSE.parquet')\"\"\")"
   ]
  },
  {
   "cell_type": "code",
   "execution_count": 75,
   "metadata": {
    "autoscroll": "auto"
   },
   "outputs": [
    {
     "name": "stdout",
     "output_type": "stream",
     "text": [
      "root\n",
      " |-- Id: integer (nullable = true)\n",
      " |-- AcceptedAnswerId: integer (nullable = true)\n",
      " |-- AnswerCount: integer (nullable = true)\n",
      " |-- Body: string (nullable = true)\n",
      " |-- ClosedDate: timestamp (nullable = true)\n",
      " |-- CommentCount: integer (nullable = true)\n",
      " |-- CommunityOwnedDate: timestamp (nullable = true)\n",
      " |-- ContentLicense: string (nullable = true)\n",
      " |-- Fecha_de_creación: timestamp (nullable = true)\n",
      " |-- FavoriteCount: integer (nullable = true)\n",
      " |-- LastActivityDate: timestamp (nullable = true)\n",
      " |-- LastEditDate: timestamp (nullable = true)\n",
      " |-- LastEditorDisplayName: string (nullable = true)\n",
      " |-- LastEditorUserId: integer (nullable = true)\n",
      " |-- OwnerDisplayName: string (nullable = true)\n",
      " |-- OwnerUserId: integer (nullable = true)\n",
      " |-- ParentId: integer (nullable = true)\n",
      " |-- PostTypeId: integer (nullable = true)\n",
      " |-- Score: integer (nullable = true)\n",
      " |-- Tags: string (nullable = true)\n",
      " |-- Title: string (nullable = true)\n",
      " |-- ViewCount: integer (nullable = true)\n",
      "\n"
     ]
    }
   ],
   "source": [
    "spark.sql(\"SELECT * FROM tabla_SE\").printSchema()\n"
   ]
  },
  {
   "cell_type": "code",
   "execution_count": 76,
   "metadata": {
    "autoscroll": "auto"
   },
   "outputs": [
    {
     "name": "stdout",
     "output_type": "stream",
     "text": [
      "+-----------+------+\n",
      "|OwnerUserId|    Id|\n",
      "+-----------+------+\n",
      "|     146078|379389|\n",
      "|     186742|379391|\n",
      "|     131115|379392|\n",
      "|     186748|379393|\n",
      "|     186734|379394|\n",
      "+-----------+------+\n",
      "only showing top 5 rows\n",
      "\n"
     ]
    }
   ],
   "source": [
    "# Ejecuta un comando SQL sobre la tabla\n",
    "dfUser100: DataFrame = spark.sql(\"\"\"SELECT OwnerUserId,Id FROM tabla_SE\n",
    "                         WHERE OwnerUserId >= 100\"\"\")\n",
    "dfUser100.show(5)"
   ]
  },
  {
   "cell_type": "code",
   "execution_count": 77,
   "metadata": {
    "autoscroll": "auto"
   },
   "outputs": [
    {
     "name": "stdout",
     "output_type": "stream",
     "text": [
      "+---------+--------------------+-----------+\n",
      "|namespace|           tableName|isTemporary|\n",
      "+---------+--------------------+-----------+\n",
      "|  default|            tabla_se|      false|\n",
      "|         |tabla_pregconresp...|       true|\n",
      "+---------+--------------------+-----------+\n",
      "\n"
     ]
    }
   ],
   "source": [
    "# Podemos ver las tablas creadas\n",
    "spark.sql(\"SHOW TABLES\").show()"
   ]
  },
  {
   "cell_type": "code",
   "execution_count": 78,
   "metadata": {
    "autoscroll": "auto"
   },
   "outputs": [
    {
     "name": "stdout",
     "output_type": "stream",
     "text": [
      "+------+----------------+-----------+--------------------+----------+------------+------------------+--------------+--------------------+-------------+--------------------+--------------------+---------------------+----------------+----------------+-----------+--------+----------+-----+-------------------+--------------------+---------+\n",
      "|    Id|AcceptedAnswerId|AnswerCount|                Body|ClosedDate|CommentCount|CommunityOwnedDate|ContentLicense|   Fecha_de_creación|FavoriteCount|    LastActivityDate|        LastEditDate|LastEditorDisplayName|LastEditorUserId|OwnerDisplayName|OwnerUserId|ParentId|PostTypeId|Score|               Tags|               Title|ViewCount|\n",
      "+------+----------------+-----------+--------------------+----------+------------+------------------+--------------+--------------------+-------------+--------------------+--------------------+---------------------+----------------+----------------+-----------+--------+----------+-----+-------------------+--------------------+---------+\n",
      "|379389|          379397|          1|<p>soy principian...|      NULL|           0|              NULL|  CC BY-SA 4.0|2020-08-03 19:45:...|         NULL|2020-08-03 20:41:...|                NULL|                 NULL|            NULL|            NULL|     146078|    NULL|         1|    0|     <array><ionic>|Array Angular - I...|      592|\n",
      "|379396|          379500|          1|<p>¿Alguien sabe ...|      NULL|           2|              NULL|  CC BY-SA 4.0|2020-08-03 20:38:...|         NULL|2020-08-04 07:16:...|2020-08-04 07:16:...|                 NULL|            2742|            NULL|     183610|    NULL|         1|    0|                <c>|Compartir variabl...|       96|\n",
      "|379420|          379443|          3|<p>estoy desarrol...|      NULL|           0|              NULL|  CC BY-SA 4.0|2020-08-03 22:45:...|         NULL|2023-05-23 19:16:...|                NULL|                 NULL|            NULL|            NULL|     152335|    NULL|         1|    0|<javascript><html5>|'addEventListener...|      573|\n",
      "|379425|          379436|          3|<p>Estudiando el ...|      NULL|           0|              NULL|  CC BY-SA 4.0|2020-08-03 22:52:...|         NULL|2020-08-04 01:25:...|                NULL|                 NULL|            NULL|            NULL|     117785|    NULL|         1|    1|       <javascript>|Funcionalidad del...|      225|\n",
      "|379426|          379442|          1|<p>tengo una cons...|      NULL|           0|              NULL|  CC BY-SA 4.0|2020-08-03 22:56:...|         NULL|2020-08-04 00:25:...|                NULL|                 NULL|            NULL|            NULL|     138234|    NULL|         1|    0| <c#><jquery><ajax>|¿Como obtener el ...|      654|\n",
      "+------+----------------+-----------+--------------------+----------+------------+------------------+--------------+--------------------+-------------+--------------------+--------------------+---------------------+----------------+----------------+-----------+--------+----------+-----+-------------------+--------------------+---------+\n",
      "only showing top 5 rows\n",
      "\n"
     ]
    }
   ],
   "source": [
    "# Podemos crear un nuevo DataFrame a partir de una de la tablas\n",
    "dfFromTable = spark.sql(\"SELECT * FROM tabla_PregConRespAcept\")\n",
    "dfFromTable.show(5)"
   ]
  },
  {
   "cell_type": "code",
   "execution_count": 79,
   "metadata": {
    "autoscroll": "auto"
   },
   "outputs": [
    {
     "name": "stdout",
     "output_type": "stream",
     "text": [
      "+---------+---------+-----------+\n",
      "|namespace|tableName|isTemporary|\n",
      "+---------+---------+-----------+\n",
      "+---------+---------+-----------+\n",
      "\n"
     ]
    }
   ],
   "source": [
    "spark.sql(\"DROP TABLE IF EXISTS tabla_PregConRespAcept\")\n",
    "spark.sql(\"DROP TABLE IF EXISTS tabla_SE\")\n",
    "\n",
    "spark.sql(\"SHOW TABLES\").show()"
   ]
  }
 ],
 "metadata": {
  "kernelspec": {
   "display_name": ".venv",
   "language": "python",
   "name": "python3"
  },
  "language_info": {
   "codemirror_mode": {
    "name": "ipython",
    "version": 3
   },
   "file_extension": ".py",
   "mimetype": "text/x-python",
   "name": "python",
   "nbconvert_exporter": "python",
   "pygments_lexer": "ipython3",
   "version": "3.11.9"
  }
 },
 "nbformat": 4,
 "nbformat_minor": 2
}
