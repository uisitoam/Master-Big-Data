{
 "cells": [
  {
   "cell_type": "markdown",
   "metadata": {},
   "source": [
    "# Introducción a los DataFrames\n",
    "\n",
    "En este tema veremos:\n",
    "\n",
    "  - Cómo crear un DataFrame\n",
    "  - Algunas operaciones básicas sobre DataFrames\n",
    "      - Mostrar filas\n",
    "      - Seleccionar columnas\n",
    "      - Renombrar, añadir y eliminar columnas\n",
    "      - Eliminar valores nulos y filas duplicadas\n",
    "      - Reemplazar valores\n",
    "  - Guardar los DataFrames en diferentes formatos "
   ]
  },
  {
   "cell_type": "markdown",
   "metadata": {},
   "source": [
    "## Creación de DataFrames\n",
    "Un DataFrame puede crearse de distintas formas:\n",
    "\n",
    "  - A partir de una secuencia de datos\n",
    "  - A partir de objetos de tipo Row\n",
    "  - A partir de un RDD o DataSet\n",
    "  - Leyendo los datos de un fichero\n",
    "      - Igual que Hadoop, Spark soporta diferentes filesystems: local, HDFS, Amazon S3\n",
    "          - En general, soporta cualquier fuente de datos que se pueda leer con Hadoop\n",
    "      - Spark puede acceder a diferentes tipos de ficheros: texto plano, CSV, JSON, [Parquet](https://parquet.apache.org/), [ORC](https://orc.apache.org/), Sequence, etc\n",
    "        -   Soporta ficheros comprimidos\n",
    "  - Accediendo a bases de datos relacionales o NoSQL\n",
    "    -   MySQL, Postgres, etc. mediante JDBC/ODBC\n",
    "    -   Hive, HBase, Cassandra, MongoDB, AWS Redshift, etc."
   ]
  },
  {
   "cell_type": "markdown",
   "metadata": {},
   "source": [
    "## Creando DataFrames a partir de una secuencia o lista de datos"
   ]
  },
  {
   "cell_type": "code",
   "execution_count": 1,
   "metadata": {},
   "outputs": [
    {
     "name": "stderr",
     "output_type": "stream",
     "text": [
      "24/11/12 16:07:11 WARN Utils: Your hostname, MacBook-Pro.local resolves to a loopback address: 127.0.0.1; using 172.18.17.35 instead (on interface en0)\n",
      "24/11/12 16:07:11 WARN Utils: Set SPARK_LOCAL_IP if you need to bind to another address\n",
      "Setting default log level to \"WARN\".\n",
      "To adjust logging level use sc.setLogLevel(newLevel). For SparkR, use setLogLevel(newLevel).\n",
      "24/11/12 16:07:13 WARN NativeCodeLoader: Unable to load native-hadoop library for your platform... using builtin-java classes where applicable\n"
     ]
    }
   ],
   "source": [
    "from pyspark import SparkContext\n",
    "from pyspark.sql import SparkSession\n",
    "import os\n",
    "\n",
    "# Elegir el máster de Spark dependiendo de si se ha definido la variable de entorno HADOOP_CONF_DIR o YARN_CONF_DIR\n",
    "SPARK_MASTER: str = 'local[*]'\n",
    "if 'HADOOP_CONF_DIR' in os.environ or 'YARN_CONF_DIR' in os.environ:\n",
    "  SPARK_MASTER = 'yarn'\n",
    "\n",
    "# Creamos un objeto SparkSession (o lo obtenemos si ya está creado)\n",
    "spark: SparkSession = SparkSession \\\n",
    "  .builder \\\n",
    "  .appName(\"Mi aplicacion\") \\\n",
    "  .config(\"spark.rdd.compress\", \"true\") \\\n",
    "  .config(\"spark.executor.memory\", \"3g\") \\\n",
    "  .config(\"spark.driver.memory\", \"3g\") \\\n",
    "  .master(SPARK_MASTER) \\\n",
    "  .getOrCreate()\n",
    "\n",
    "sc: SparkContext = spark.sparkContext"
   ]
  },
  {
   "cell_type": "code",
   "execution_count": 2,
   "metadata": {},
   "outputs": [
    {
     "data": {
      "text/plain": [
       "[('spark.driver.port', '52388'),\n",
       " ('spark.driver.extraJavaOptions',\n",
       "  '-Djava.net.preferIPv6Addresses=false -XX:+IgnoreUnrecognizedVMOptions --add-opens=java.base/java.lang=ALL-UNNAMED --add-opens=java.base/java.lang.invoke=ALL-UNNAMED --add-opens=java.base/java.lang.reflect=ALL-UNNAMED --add-opens=java.base/java.io=ALL-UNNAMED --add-opens=java.base/java.net=ALL-UNNAMED --add-opens=java.base/java.nio=ALL-UNNAMED --add-opens=java.base/java.util=ALL-UNNAMED --add-opens=java.base/java.util.concurrent=ALL-UNNAMED --add-opens=java.base/java.util.concurrent.atomic=ALL-UNNAMED --add-opens=java.base/jdk.internal.ref=ALL-UNNAMED --add-opens=java.base/sun.nio.ch=ALL-UNNAMED --add-opens=java.base/sun.nio.cs=ALL-UNNAMED --add-opens=java.base/sun.security.action=ALL-UNNAMED --add-opens=java.base/sun.util.calendar=ALL-UNNAMED --add-opens=java.security.jgss/sun.security.krb5=ALL-UNNAMED -Djdk.reflect.useDirectMethodHandle=false'),\n",
       " ('spark.executor.memory', '3g'),\n",
       " ('spark.app.submitTime', '1731424033377'),\n",
       " ('spark.driver.host', '172.18.17.35'),\n",
       " ('spark.executor.id', 'driver'),\n",
       " ('spark.rdd.compress', 'true'),\n",
       " ('spark.app.name', 'Mi aplicacion'),\n",
       " ('spark.driver.memory', '3g'),\n",
       " ('spark.executor.extraJavaOptions',\n",
       "  '-Djava.net.preferIPv6Addresses=false -XX:+IgnoreUnrecognizedVMOptions --add-opens=java.base/java.lang=ALL-UNNAMED --add-opens=java.base/java.lang.invoke=ALL-UNNAMED --add-opens=java.base/java.lang.reflect=ALL-UNNAMED --add-opens=java.base/java.io=ALL-UNNAMED --add-opens=java.base/java.net=ALL-UNNAMED --add-opens=java.base/java.nio=ALL-UNNAMED --add-opens=java.base/java.util=ALL-UNNAMED --add-opens=java.base/java.util.concurrent=ALL-UNNAMED --add-opens=java.base/java.util.concurrent.atomic=ALL-UNNAMED --add-opens=java.base/jdk.internal.ref=ALL-UNNAMED --add-opens=java.base/sun.nio.ch=ALL-UNNAMED --add-opens=java.base/sun.nio.cs=ALL-UNNAMED --add-opens=java.base/sun.security.action=ALL-UNNAMED --add-opens=java.base/sun.util.calendar=ALL-UNNAMED --add-opens=java.security.jgss/sun.security.krb5=ALL-UNNAMED -Djdk.reflect.useDirectMethodHandle=false'),\n",
       " ('spark.app.startTime', '1731424033608'),\n",
       " ('spark.serializer.objectStreamReset', '100'),\n",
       " ('spark.master', 'local[*]'),\n",
       " ('spark.submit.pyFiles', ''),\n",
       " ('spark.submit.deployMode', 'client'),\n",
       " ('spark.app.id', 'local-1731424035164'),\n",
       " ('spark.ui.showConsoleProgress', 'true')]"
      ]
     },
     "execution_count": 2,
     "metadata": {},
     "output_type": "execute_result"
    }
   ],
   "source": [
    "sc._conf.getAll()"
   ]
  },
  {
   "cell_type": "code",
   "execution_count": 3,
   "metadata": {
    "autoscroll": "auto"
   },
   "outputs": [
    {
     "name": "stderr",
     "output_type": "stream",
     "text": [
      "                                                                                \r"
     ]
    },
    {
     "name": "stdout",
     "output_type": "stream",
     "text": [
      "+---+\n",
      "|  n|\n",
      "+---+\n",
      "|  1|\n",
      "|  3|\n",
      "|  5|\n",
      "+---+\n",
      "\n",
      "+---+---+---+\n",
      "|  n| n1| n2|\n",
      "+---+---+---+\n",
      "|  1|  2|  4|\n",
      "|  3|  4|  8|\n",
      "|  5|  6| 12|\n",
      "+---+---+---+\n",
      "\n"
     ]
    }
   ],
   "source": [
    "from pyspark.sql.dataframe import DataFrame\n",
    "from pyspark.sql.functions import col\n",
    "\n",
    "# Creando un DataFrame desde un rango y añadiéndole dos columnas\n",
    "df: DataFrame = spark.range(1,7,2).toDF(\"n\")\n",
    "df.show()\n",
    "\n",
    "# Añadiendo dos columnas al DataFrame\n",
    "# La expresión para la columna puede incluir operadores.\n",
    "df.withColumn(\"n1\", col(\"n\")+1).withColumn(\"n2\", 2*col(\"n1\")).show()"
   ]
  },
  {
   "cell_type": "code",
   "execution_count": 4,
   "metadata": {
    "autoscroll": "auto"
   },
   "outputs": [
    {
     "name": "stderr",
     "output_type": "stream",
     "text": [
      "                                                                                \r"
     ]
    },
    {
     "name": "stdout",
     "output_type": "stream",
     "text": [
      "+------+----+--------+\n",
      "|Nombre|nota|     cal|\n",
      "+------+----+--------+\n",
      "|  Pepe| 5.1|Aprobado|\n",
      "|  Juan| 4.0|Suspenso|\n",
      "|Manuel|NULL|    NULL|\n",
      "+------+----+--------+\n",
      "\n",
      "root\n",
      " |-- Nombre: string (nullable = true)\n",
      " |-- nota: double (nullable = true)\n",
      " |-- cal: string (nullable = true)\n",
      "\n"
     ]
    }
   ],
   "source": [
    "# DataFrame a partir de una lista de tuplas\n",
    "l = [(\"Pepe\", 5.1, \"Aprobado\"),\n",
    "     (\"Juan\", 4.0, \"Suspenso\"),\n",
    "     (\"Manuel\", None, None)]\n",
    "dfNotas: DataFrame = spark.createDataFrame(l, schema=[\"Nombre\", \"nota\", \"cal\"])\n",
    "dfNotas.show()\n",
    "dfNotas.printSchema()"
   ]
  },
  {
   "cell_type": "markdown",
   "metadata": {},
   "source": [
    "## Creando DataFrames con esquema\n",
    "A la hora de crear un DataFrame, es conveniente especificar el esquema del mismo:\n",
    "\n",
    "  - El esquema define los nombres y tipos de datos de las columnas\n",
    "  - Se usa un objeto de tipo `StructType` para definir el nombre y tipo de las columnas, y un objeto de tipo `StructField` para definir el nombre y tipo de una columna\n",
    "  - Los tipos de datos que utiliza Spark están definidos en:\n",
    "      - Para PySpark: https://spark.apache.org/docs/latest/sql-ref-datatypes.html"
   ]
  },
  {
   "cell_type": "code",
   "execution_count": 5,
   "metadata": {
    "autoscroll": "auto"
   },
   "outputs": [
    {
     "name": "stdout",
     "output_type": "stream",
     "text": [
      "+------+----+--------+\n",
      "|Nombre|nota|     cal|\n",
      "+------+----+--------+\n",
      "|  Pepe| 5.1|Aprobado|\n",
      "|  Juan| 4.0|Suspenso|\n",
      "|Manuel|NULL|    NULL|\n",
      "+------+----+--------+\n",
      "\n",
      "root\n",
      " |-- Nombre: string (nullable = false)\n",
      " |-- nota: float (nullable = true)\n",
      " |-- cal: string (nullable = true)\n",
      "\n"
     ]
    }
   ],
   "source": [
    "from pyspark.sql.types import StructField, StructType, FloatType, StringType\n",
    "from pyspark.sql import Row\n",
    "\n",
    "# Definimos el esquema del DataFrame\n",
    "esquemaNotas = StructType(fields=[\n",
    "    StructField(name=\"Nombre\", dataType=StringType(), nullable=False),\n",
    "    StructField(name=\"nota\", dataType=FloatType(), nullable=True),\n",
    "    StructField(name=\"cal\", dataType=StringType(), nullable=True)\n",
    "    ])\n",
    "\n",
    "# Creamos el DataFrame a partir de una lista de objetos Row\n",
    "filas: list[Row] = [\n",
    "    Row(\"Pepe\", 5.1, \"Aprobado\"),\n",
    "    Row(\"Juan\", 4.0, \"Suspenso\"),\n",
    "    Row(\"Manuel\", None, None)\n",
    "    ]\n",
    "\n",
    "dfNotas = spark.createDataFrame(filas, schema=esquemaNotas)\n",
    "dfNotas.show()\n",
    "dfNotas.printSchema()"
   ]
  },
  {
   "cell_type": "markdown",
   "metadata": {},
   "source": [
    "## Creando DataFrames a partir de un fichero de texto\n",
    "\n",
    "Cada línea del fichero se guarda como una fila"
   ]
  },
  {
   "cell_type": "code",
   "execution_count": 6,
   "metadata": {
    "autoscroll": "auto"
   },
   "outputs": [
    {
     "name": "stdout",
     "output_type": "stream",
     "text": [
      "+---------------------------------------------------------------------------+\n",
      "|value                                                                      |\n",
      "+---------------------------------------------------------------------------+\n",
      "|The Project Gutenberg EBook of Don Quijote, by Miguel de Cervantes Saavedra|\n",
      "|                                                                           |\n",
      "|This eBook is for the use of anyone anywhere at no cost and with           |\n",
      "|almost no restrictions whatsoever.  You may copy it, give it away or       |\n",
      "|re-use it under the terms of the Project Gutenberg License included        |\n",
      "|with this eBook or online at www.gutenberg.net                             |\n",
      "|                                                                           |\n",
      "|                                                                           |\n",
      "|Title: Don Quijote                                                         |\n",
      "|                                                                           |\n",
      "|Author: Miguel de Cervantes Saavedra                                       |\n",
      "|                                                                           |\n",
      "|Posting Date: April 27, 2010 [EBook #2000]                                 |\n",
      "|Release Date: December, 1999                                               |\n",
      "|                                                                           |\n",
      "|Language: Spanish                                                          |\n",
      "|                                                                           |\n",
      "|                                                                           |\n",
      "|*** START OF THIS PROJECT GUTENBERG EBOOK DON QUIJOTE ***                  |\n",
      "|                                                                           |\n",
      "|                                                                           |\n",
      "|                                                                           |\n",
      "|                                                                           |\n",
      "|Produced by an anonymous Project Gutenberg volunteer. Text                 |\n",
      "|file corrections and new HTML file by Joaquin Cuenca Abela.                |\n",
      "|                                                                           |\n",
      "|                                                                           |\n",
      "|                                                                           |\n",
      "|                                                                           |\n",
      "|                                                                           |\n",
      "|                                                                           |\n",
      "|                                                                           |\n",
      "|                                                                           |\n",
      "|                                                                           |\n",
      "|                                                                           |\n",
      "|                                                                           |\n",
      "|El ingenioso hidalgo don Quijote de la Mancha                              |\n",
      "|                                                                           |\n",
      "|                                                                           |\n",
      "|TASA                                                                       |\n",
      "|                                                                           |\n",
      "|Yo, Juan Gallo de Andrada, escribano de Cámara del Rey nuestro señor, de   |\n",
      "|los que residen en su Consejo, certifico y doy fe que, habiendo visto por  |\n",
      "|los señores dél un libro intitulado El ingenioso hidalgo de la Mancha,     |\n",
      "|compuesto por Miguel de Cervantes Saavedra, tasaron cada pliego del dicho  |\n",
      "|libro a tres maravedís y medio; el cual tiene ochenta y tres pliegos, que  |\n",
      "|al dicho precio monta el dicho libro docientos y noventa maravedís y medio,|\n",
      "|en que se ha de vender en papel; y dieron licencia para que a este precio  |\n",
      "|se pueda vender, y mandaron que esta tasa se ponga al principio del dicho  |\n",
      "|libro, y no se pueda vender sin ella. Y, para que dello conste, di la      |\n",
      "+---------------------------------------------------------------------------+\n",
      "only showing top 50 rows\n",
      "\n"
     ]
    }
   ],
   "source": [
    "from pyspark import SparkFiles\n",
    "\n",
    "# Añadimos un archivo al contexto de Spark (los descarga en cada nodo)\n",
    "sc.addFile(\"https://raw.githubusercontent.com/dsevilla/tcdm-public/refs/heads/24-25/datos/quijote.txt.gz\")\n",
    "\n",
    "dfQuijote: DataFrame = spark.read.text(\"file://\" + SparkFiles.get(\"quijote.txt.gz\"))\n",
    "dfQuijote.show(50, truncate=False)"
   ]
  },
  {
   "cell_type": "markdown",
   "metadata": {},
   "source": [
    "## Creando DataFrames a partir de un fichero CSV\n",
    "\n",
    "Como ejemplo vamos a utilizar el fichero de preguntas y respuestas de Stack Overflow en Español, que hemos utilizado en otras asignaturas. Es un fichero CSV, con unos campos que son:\n",
    "\n",
    "- `Id`: integer: La identificación de la pregunta o respuesta\n",
    "- `AcceptedAnswerId`: integer: La identificación de la respuesta aceptada (si existe)\n",
    "- `AnswerCount`: integer: El número de respuestas\n",
    "- `Body`: string: El cuerpo de la pregunta o respuesta\n",
    "- `ClosedDate`: timestamp: Fecha de cierre de la pregunta (si está cerrada)\n",
    "- `CommentCount`: integer: Número de comentarios\n",
    "- `CommunityOwnedDate`: timestamp: (no se usará)  \n",
    "- `ContentLicense`: string: Licencia de contenido\n",
    "- `CreationDate`: timestamp: La fecha de creación\n",
    "- `FavoriteCount`: integer: Número de favoritos\n",
    "- `LastActivityDate`: timestamp: (no se usará)\n",
    "- `LastEditDate`: timestamp: (no se usará)\n",
    "- `LastEditorDisplayName`: string: (no se usará)\n",
    "- `LastEditorUserId`: integer: (no se usará)\n",
    "- `OwnerDisplayName`: string: El nombre del propietario (si se borró el usuario) \n",
    "- `OwnerUserId`: integer: El identificador del propietario\n",
    "- `ParentId`: integer: El identificador de la pregunta padre (si es una respuesta)\n",
    "- `PostTypeId`: integer: El tipo de post (1 = pregunta, 2 = respuesta, etc.)\n",
    "- `Score`: integer: La puntuación de la pregunta o respuesta\n",
    "- `Tags`: string: El conjunto de etiquetas\n",
    "- `Title`: string: El título de la pregunta\n",
    "- `ViewCount`: integer: El número de visitas\n",
    "\n",
    "Los campos se encuentran separados por el símbolo \";\", y el carácter de escape de comillas es el propio carácter de comillas."
   ]
  },
  {
   "cell_type": "markdown",
   "metadata": {},
   "source": [
    "### Leemos el fichero infiriendo el esquema"
   ]
  },
  {
   "cell_type": "code",
   "execution_count": 13,
   "metadata": {},
   "outputs": [],
   "source": [
    "%%sh\n",
    "wget -q https://github.com/dsevilla/bd2-data/raw/main/es.stackoverflow/es.stackoverflow.csv.7z.001 -O - > es.stackoverflow.csv.7z\n",
    "wget -q https://github.com/dsevilla/bd2-data/raw/main/es.stackoverflow/es.stackoverflow.csv.7z.002 -O - >> es.stackoverflow.csv.7z"
   ]
  },
  {
   "cell_type": "code",
   "execution_count": 14,
   "metadata": {},
   "outputs": [
    {
     "name": "stdout",
     "output_type": "stream",
     "text": [
      "\n",
      "7-Zip (a) [64] 17.05 : Copyright (c) 1999-2021 Igor Pavlov : 2017-08-28\n",
      "p7zip Version 17.05 (locale=utf8,Utf16=on,HugeFiles=on,64 bits,8 CPUs LE)\n",
      "\n",
      "Scanning the drive for archives:\n",
      "1 file, 200457538 bytes (192 MiB)\n",
      "\n",
      "Extracting archive: es.stackoverflow.csv.7z\n",
      "--\n",
      "Path = es.stackoverflow.csv.7z\n",
      "Type = 7z\n",
      "Physical Size = 200457538\n",
      "Headers Size = 248\n",
      "Method = LZMA2:24\n",
      "Solid = +\n",
      "Blocks = 1\n",
      "\n",
      "Everything is Ok\n",
      "\n",
      "Files: 2\n",
      "Size:       973100259\n",
      "Compressed: 200457538\n"
     ]
    }
   ],
   "source": [
    "%%sh\n",
    "7zr x -aoa es.stackoverflow.csv.7z Posts.csv\n",
    "rm es.stackoverflow.csv.7z"
   ]
  },
  {
   "cell_type": "code",
   "execution_count": 15,
   "metadata": {},
   "outputs": [],
   "source": [
    "if SPARK_MASTER == 'yarn':\n",
    "  !hdfs dfs -put Posts.csv /user/hdadmin/"
   ]
  },
  {
   "cell_type": "code",
   "execution_count": 16,
   "metadata": {
    "autoscroll": "auto"
   },
   "outputs": [
    {
     "name": "stderr",
     "output_type": "stream",
     "text": [
      "24/11/12 16:12:34 WARN CSVOptions: It is not recommended to set 'lineSep' with 2 characters due to the limitation of supporting multi-char 'lineSep' within quotes.\n",
      "                                                                                \r"
     ]
    }
   ],
   "source": [
    "dfSEInfered = spark.read.format(\"csv\")\\\n",
    "                    .option(\"mode\", \"FAILFAST\")\\\n",
    "                    .option(\"sep\", \",\")\\\n",
    "                    .option(\"escape\", \"\\\"\")\\\n",
    "                    .option(\"inferSchema\", \"true\")\\\n",
    "                    .option(\"lineSep\", \"\\r\\n\")\\\n",
    "                    .option(\"header\", \"true\")\\\n",
    "                    .option(\"nullValue\", \"\")\\\n",
    "                    .load(\"Posts.csv\")"
   ]
  },
  {
   "cell_type": "markdown",
   "metadata": {},
   "source": [
    "Algunas opciones:\n",
    "\n",
    "1. ``mode``: especifica qué hacer cuando se encuentra registros corruptos\n",
    "    - ``PERMISSIVE``: pone todos los campos a null cuando se encuentra un registro corrupto (valor por defecto)\n",
    "    - ``DROPMALFORMED``: elimina las filas con registros corruptos\n",
    "    - ``FAILFAST``: da un error cuando se encuentra un registro corrupto\n",
    "2. ``sep``: separador entre campos (por defecto \",\")\n",
    "3. ``inferSchema``: especifica si se deben inferir el tipo de las columnas (por defecto \"false\")\n",
    "4. ``header``: si \"true\" se toma la primera fila como cabecera (por defecto \"false\")\n",
    "5. ``nullValue``: carrácter o cadena que representa un NULL en el fichero (por defecto \"\")\n",
    "6. ``compression``: topo de compresión utilizada (por defecto \"none\")\n",
    "  \n",
    "Las opciones son similares para otros tipos de ficheros."
   ]
  },
  {
   "cell_type": "code",
   "execution_count": 17,
   "metadata": {
    "autoscroll": "auto"
   },
   "outputs": [
    {
     "name": "stderr",
     "output_type": "stream",
     "text": [
      "24/11/12 16:12:52 WARN CSVOptions: It is not recommended to set 'lineSep' with 2 characters due to the limitation of supporting multi-char 'lineSep' within quotes.\n",
      "24/11/12 16:12:52 WARN CSVOptions: It is not recommended to set 'lineSep' with 2 characters due to the limitation of supporting multi-char 'lineSep' within quotes.\n"
     ]
    },
    {
     "name": "stdout",
     "output_type": "stream",
     "text": [
      "+---+----------------+-----------+--------------------+----------+------------+------------------+--------------+--------------------+-------------+--------------------+--------------------+---------------------+----------------+----------------+-----------+--------+----------+-----+--------------------+--------------------+---------+\n",
      "| Id|AcceptedAnswerId|AnswerCount|                Body|ClosedDate|CommentCount|CommunityOwnedDate|ContentLicense|        CreationDate|FavoriteCount|    LastActivityDate|        LastEditDate|LastEditorDisplayName|LastEditorUserId|OwnerDisplayName|OwnerUserId|ParentId|PostTypeId|Score|                Tags|               Title|ViewCount|\n",
      "+---+----------------+-----------+--------------------+----------+------------+------------------+--------------+--------------------+-------------+--------------------+--------------------+---------------------+----------------+----------------+-----------+--------+----------+-----+--------------------+--------------------+---------+\n",
      "|  1|               2|          1|<p>Estoy creando ...|      NULL|           2|              NULL|  CC BY-SA 4.0|2015-10-29 15:56:...|         NULL|2021-03-12 17:49:...|2019-07-07 21:36:...|            user13558|            NULL|            NULL|         23|    NULL|         1|   40|<.net><asp.net-we...|La creación manua...|      780|\n",
      "|  2|            NULL|       NULL|<p>He encontrado ...|      NULL|           2|              NULL|  CC BY-SA 3.0|2015-10-29 19:14:...|         NULL|2015-10-29 19:14:...|                NULL|                 NULL|            NULL|            NULL|         23|       1|         2|   31|                NULL|                NULL|     NULL|\n",
      "|  3|               9|          3|<p>Luego de ver c...|      NULL|           1|              NULL|  CC BY-SA 3.0|2015-10-29 23:54:...|         NULL|2015-12-18 20:19:...|2015-12-03 16:24:...|                 NULL|              20|            NULL|         21|    NULL|         1|   20|            <delphi>|¿Es igual utiliza...|     1035|\n",
      "|  4|            NULL|       NULL|<p><code>.AsStrin...|      NULL|           0|              NULL|  CC BY-SA 3.0|2015-10-30 00:45:...|         NULL|2015-12-14 00:58:...|2015-12-14 00:58:...|                 NULL|              25|            NULL|         24|       3|         2|    6|                NULL|                NULL|     NULL|\n",
      "|  5|             208|          7|<p>¿Cuál es la fo...|      NULL|           1|              NULL|  CC BY-SA 3.0|2015-10-30 01:15:...|         NULL|2020-06-30 02:23:...|2016-09-27 17:46:...|                 NULL|             729|            NULL|         24|    NULL|         1|   37|       <c++><string>|¿Cómo separar las...|    37867|\n",
      "+---+----------------+-----------+--------------------+----------+------------+------------------+--------------+--------------------+-------------+--------------------+--------------------+---------------------+----------------+----------------+-----------+--------+----------+-----+--------------------+--------------------+---------+\n",
      "only showing top 5 rows\n",
      "\n"
     ]
    }
   ],
   "source": [
    "# Vemos 5 filas\n",
    "dfSEInfered.show(5)"
   ]
  },
  {
   "cell_type": "code",
   "execution_count": 19,
   "metadata": {
    "autoscroll": "auto"
   },
   "outputs": [
    {
     "data": {
      "text/plain": [
       "StructType([StructField('Id', IntegerType(), True), StructField('AcceptedAnswerId', IntegerType(), True), StructField('AnswerCount', IntegerType(), True), StructField('Body', StringType(), True), StructField('ClosedDate', TimestampType(), True), StructField('CommentCount', IntegerType(), True), StructField('CommunityOwnedDate', TimestampType(), True), StructField('ContentLicense', StringType(), True), StructField('CreationDate', TimestampType(), True), StructField('FavoriteCount', IntegerType(), True), StructField('LastActivityDate', TimestampType(), True), StructField('LastEditDate', TimestampType(), True), StructField('LastEditorDisplayName', StringType(), True), StructField('LastEditorUserId', IntegerType(), True), StructField('OwnerDisplayName', StringType(), True), StructField('OwnerUserId', IntegerType(), True), StructField('ParentId', IntegerType(), True), StructField('PostTypeId', IntegerType(), True), StructField('Score', IntegerType(), True), StructField('Tags', StringType(), True), StructField('Title', StringType(), True), StructField('ViewCount', IntegerType(), True)])"
      ]
     },
     "execution_count": 19,
     "metadata": {},
     "output_type": "execute_result"
    }
   ],
   "source": [
    "# Vemos como se ha inferido el esquema\n",
    "dfSEInfered.schema"
   ]
  },
  {
   "cell_type": "code",
   "execution_count": 20,
   "metadata": {
    "autoscroll": "auto"
   },
   "outputs": [
    {
     "name": "stdout",
     "output_type": "stream",
     "text": [
      "root\n",
      " |-- Id: integer (nullable = true)\n",
      " |-- AcceptedAnswerId: integer (nullable = true)\n",
      " |-- AnswerCount: integer (nullable = true)\n",
      " |-- Body: string (nullable = true)\n",
      " |-- ClosedDate: timestamp (nullable = true)\n",
      " |-- CommentCount: integer (nullable = true)\n",
      " |-- CommunityOwnedDate: timestamp (nullable = true)\n",
      " |-- ContentLicense: string (nullable = true)\n",
      " |-- CreationDate: timestamp (nullable = true)\n",
      " |-- FavoriteCount: integer (nullable = true)\n",
      " |-- LastActivityDate: timestamp (nullable = true)\n",
      " |-- LastEditDate: timestamp (nullable = true)\n",
      " |-- LastEditorDisplayName: string (nullable = true)\n",
      " |-- LastEditorUserId: integer (nullable = true)\n",
      " |-- OwnerDisplayName: string (nullable = true)\n",
      " |-- OwnerUserId: integer (nullable = true)\n",
      " |-- ParentId: integer (nullable = true)\n",
      " |-- PostTypeId: integer (nullable = true)\n",
      " |-- Score: integer (nullable = true)\n",
      " |-- Tags: string (nullable = true)\n",
      " |-- Title: string (nullable = true)\n",
      " |-- ViewCount: integer (nullable = true)\n",
      "\n"
     ]
    }
   ],
   "source": [
    "# Otra forma de verlo\n",
    "dfSEInfered.printSchema()"
   ]
  },
  {
   "cell_type": "markdown",
   "metadata": {},
   "source": [
    "### Leemos especificando el esquema"
   ]
  },
  {
   "cell_type": "markdown",
   "metadata": {},
   "source": [
    "El esquema inferido tiene ciertos fallos, como considerar algunos campos como strings cuando deberían ser enteros, o tipos Timestamp en vez de Date. Por ello, vamos a especificar el esquema."
   ]
  },
  {
   "cell_type": "code",
   "execution_count": 21,
   "metadata": {
    "autoscroll": "auto"
   },
   "outputs": [
    {
     "data": {
      "text/plain": [
       "DataFrame[Id: int, AcceptedAnswerId: int, AnswerCount: int, Body: string, ClosedDate: timestamp, CommentCount: int, CommunityOwnedDate: timestamp, ContentLicense: string, CreationDate: timestamp, FavoriteCount: int, LastActivityDate: timestamp, LastEditDate: timestamp, LastEditorDisplayName: string, LastEditorUserId: int, OwnerDisplayName: string, OwnerUserId: int, ParentId: int, PostTypeId: int, Score: int, Tags: string, Title: string, ViewCount: int]"
      ]
     },
     "execution_count": 21,
     "metadata": {},
     "output_type": "execute_result"
    }
   ],
   "source": [
    "from pyspark.sql.types import StructField, StructType, IntegerType, TimestampType, StringType\n",
    "\n",
    "# Defino el esquema para los elementos de la tabla\n",
    "# StructType -> Permite definir un esquema para el DF a partir de una lista de StructFields\n",
    "# StructField -> Definen el nombre y tipo de cada columna, así como si es nullable o no (campo True)\n",
    "dfSE_Schema = StructType([StructField('Id', IntegerType(), False),\n",
    "                          StructField('AcceptedAnswerId', IntegerType(), True),\n",
    "                          StructField('AnswerCount', IntegerType(), True),\n",
    "                          StructField('Body', StringType(), True),\n",
    "                          StructField('ClosedDate', TimestampType(), True),\n",
    "                          StructField('CommentCount', IntegerType(), True),\n",
    "                          StructField('CommunityOwnedDate', TimestampType(), True),\n",
    "                          StructField('ContentLicense', StringType(), True),\n",
    "                          StructField('CreationDate', TimestampType(), True),\n",
    "                          StructField('FavoriteCount', IntegerType(), True),\n",
    "                          StructField('LastActivityDate', TimestampType(), True),\n",
    "                          StructField('LastEditDate', TimestampType(), True),\n",
    "                          StructField('LastEditorDisplayName', StringType(), True),\n",
    "                          StructField('LastEditorUserId', IntegerType(), True),\n",
    "                          StructField('OwnerDisplayName', StringType(), True),\n",
    "                          StructField('OwnerUserId', IntegerType(), True),\n",
    "                          StructField('ParentId', IntegerType(), True),\n",
    "                          StructField('PostTypeId', IntegerType(), True),\n",
    "                          StructField('Score', IntegerType(), True),\n",
    "                          StructField('Tags', StringType(), True),\n",
    "                          StructField('Title', StringType(), True),\n",
    "                          StructField('ViewCount', IntegerType(), True)])\n",
    "\n",
    "# Creo el DataFrame con el esquema definido\n",
    "dfSE = spark.read.format(\"csv\")\\\n",
    "                    .option(\"mode\", \"FAILFAST\")\\\n",
    "                    .option(\"inferSchema\", \"false\")\\\n",
    "                    .option(\"sep\", \",\")\\\n",
    "                    .option(\"header\", \"true\")\\\n",
    "                    .option(\"nullValue\", \"\")\\\n",
    "                    .option(\"lineSep\", \"\\r\\n\")\\\n",
    "                    .option(\"escape\", \"\\\"\")\\\n",
    "                    .schema(dfSE_Schema)\\\n",
    "                    .load(\"Posts.csv\")\n",
    "dfSE.cache()"
   ]
  },
  {
   "cell_type": "code",
   "execution_count": 22,
   "metadata": {
    "autoscroll": "auto"
   },
   "outputs": [
    {
     "name": "stderr",
     "output_type": "stream",
     "text": [
      "24/11/12 16:15:32 WARN CSVOptions: It is not recommended to set 'lineSep' with 2 characters due to the limitation of supporting multi-char 'lineSep' within quotes.\n",
      "24/11/12 16:15:32 WARN CSVOptions: It is not recommended to set 'lineSep' with 2 characters due to the limitation of supporting multi-char 'lineSep' within quotes.\n",
      "                                                                                \r"
     ]
    },
    {
     "name": "stdout",
     "output_type": "stream",
     "text": [
      "+---+----------------+-----------+--------------------+----------+------------+------------------+--------------+--------------------+-------------+--------------------+--------------------+---------------------+----------------+----------------+-----------+--------+----------+-----+--------------------+--------------------+---------+\n",
      "| Id|AcceptedAnswerId|AnswerCount|                Body|ClosedDate|CommentCount|CommunityOwnedDate|ContentLicense|        CreationDate|FavoriteCount|    LastActivityDate|        LastEditDate|LastEditorDisplayName|LastEditorUserId|OwnerDisplayName|OwnerUserId|ParentId|PostTypeId|Score|                Tags|               Title|ViewCount|\n",
      "+---+----------------+-----------+--------------------+----------+------------+------------------+--------------+--------------------+-------------+--------------------+--------------------+---------------------+----------------+----------------+-----------+--------+----------+-----+--------------------+--------------------+---------+\n",
      "|  1|               2|          1|<p>Estoy creando ...|      NULL|           2|              NULL|  CC BY-SA 4.0|2015-10-29 15:56:...|         NULL|2021-03-12 17:49:...|2019-07-07 21:36:...|            user13558|            NULL|            NULL|         23|    NULL|         1|   40|<.net><asp.net-we...|La creación manua...|      780|\n",
      "|  2|            NULL|       NULL|<p>He encontrado ...|      NULL|           2|              NULL|  CC BY-SA 3.0|2015-10-29 19:14:...|         NULL|2015-10-29 19:14:...|                NULL|                 NULL|            NULL|            NULL|         23|       1|         2|   31|                NULL|                NULL|     NULL|\n",
      "|  3|               9|          3|<p>Luego de ver c...|      NULL|           1|              NULL|  CC BY-SA 3.0|2015-10-29 23:54:...|         NULL|2015-12-18 20:19:...|2015-12-03 16:24:...|                 NULL|              20|            NULL|         21|    NULL|         1|   20|            <delphi>|¿Es igual utiliza...|     1035|\n",
      "|  4|            NULL|       NULL|<p><code>.AsStrin...|      NULL|           0|              NULL|  CC BY-SA 3.0|2015-10-30 00:45:...|         NULL|2015-12-14 00:58:...|2015-12-14 00:58:...|                 NULL|              25|            NULL|         24|       3|         2|    6|                NULL|                NULL|     NULL|\n",
      "|  5|             208|          7|<p>¿Cuál es la fo...|      NULL|           1|              NULL|  CC BY-SA 3.0|2015-10-30 01:15:...|         NULL|2020-06-30 02:23:...|2016-09-27 17:46:...|                 NULL|             729|            NULL|         24|    NULL|         1|   37|       <c++><string>|¿Cómo separar las...|    37867|\n",
      "|  6|             654|          2|<p>¿Cómo estar se...|      NULL|           0|              NULL|  CC BY-SA 3.0|2015-10-30 01:36:...|         NULL|2018-12-13 13:36:...|2015-12-14 01:05:...|                 NULL|             100|            NULL|         24|    NULL|         1|   27|      <c++><casting>|¿Cuándo usar y es...|     3291|\n",
      "|  7|            NULL|       NULL|<p>Lo de eleganci...|      NULL|           0|              NULL|  CC BY-SA 3.0|2015-10-30 05:30:...|         NULL|2017-03-04 04:16:...|2017-03-04 04:16:...|                 NULL|           29967|            NULL|         25|       5|         2|   29|                NULL|                NULL|     NULL|\n",
      "|  8|             442|          1|<p>Para un proyec...|      NULL|           1|              NULL|  CC BY-SA 3.0|2015-10-30 10:26:...|         NULL|2016-09-30 07:45:...|2015-12-03 15:38:...|                 NULL|              95|            NULL|         23|    NULL|         1|   14|<google-maps><ang...|\"Unknown provider...|      320|\n",
      "|  9|            NULL|       NULL|<p>Antes de respo...|      NULL|           1|              NULL|  CC BY-SA 3.0|2015-10-30 13:59:...|         NULL|2015-10-30 13:59:...|                NULL|                 NULL|            NULL|            NULL|         21|       3|         2|   12|                NULL|                NULL|     NULL|\n",
      "| 10|              11|          1|<p>Dado el siguie...|      NULL|           0|              NULL|  CC BY-SA 3.0|2015-10-30 14:33:...|         NULL|2019-05-09 17:55:...|2019-05-09 17:55:...|                 NULL|              20|            NULL|         20|    NULL|         1|   28|        <typescript>|¿Cómo definir mét...|     3407|\n",
      "| 11|            NULL|       NULL|<p>En el primer c...|      NULL|           2|              NULL|  CC BY-SA 3.0|2015-10-30 14:43:...|         NULL|2015-12-14 01:05:...|2015-12-14 01:05:...|                 NULL|              25|            NULL|         23|      10|         2|   25|                NULL|                NULL|     NULL|\n",
      "| 12|              18|          2|<p>Hoy, en mi tra...|      NULL|           1|              NULL|  CC BY-SA 3.0|2015-10-30 15:37:...|         NULL|2016-08-30 13:52:...|2017-05-23 12:39:...|                 NULL|              -1|            NULL|         22|    NULL|         1|   28|       <array><perl>|\"splice() offset ...|      422|\n",
      "| 14|            NULL|       NULL|<p><strong>¿Qué e...|      NULL|           0|              NULL|  CC BY-SA 4.0|2015-10-30 16:53:...|         NULL|2023-02-24 19:14:...|2023-02-24 19:14:...|                 NULL|          169744|            NULL|         24|    NULL|         5|    0|                NULL|                NULL|     NULL|\n",
      "| 15|            NULL|       NULL|C ++ es un lengua...|      NULL|           0|              NULL|  CC BY-SA 3.0|2015-10-30 16:53:...|         NULL|2015-12-05 20:51:...|2015-12-05 20:51:...|                 NULL|              24|            NULL|         24|    NULL|         4|    0|                NULL|                NULL|     NULL|\n",
      "| 16|              17|          1|<p>Estoy tratando...|      NULL|           1|              NULL|  CC BY-SA 3.0|2015-10-30 19:42:...|         NULL|2015-12-29 12:25:...|2015-12-29 12:25:...|                 NULL|             100|            NULL|         37|    NULL|         1|   10|        <ios><xcode>|Error ios 8.4 sim...|      139|\n",
      "| 17|            NULL|       NULL|<p>Para realizar ...|      NULL|           0|              NULL|  CC BY-SA 3.0|2015-10-30 20:36:...|         NULL|2015-11-02 17:08:...|2015-11-02 17:08:...|                 NULL|              21|            NULL|         24|      16|         2|    5|                NULL|                NULL|     NULL|\n",
      "| 18|            NULL|       NULL|<p>Como ya mencio...|      NULL|           1|              NULL|  CC BY-SA 3.0|2015-10-31 01:15:...|         NULL|2015-12-15 22:22:...|2015-12-15 22:22:...|                 NULL|             264|            NULL|         24|      12|         2|   13|                NULL|                NULL|     NULL|\n",
      "| 19|            NULL|       NULL|<p>Delphi es un l...|      NULL|           0|              NULL|  CC BY-SA 3.0|2015-10-31 01:47:...|         NULL|2015-12-06 18:28:...|2015-12-06 18:28:...|                 NULL|              24|            NULL|         24|    NULL|         5|    0|                NULL|                NULL|     NULL|\n",
      "| 20|            NULL|       NULL|Delphi es un leng...|      NULL|           0|              NULL|  CC BY-SA 3.0|2015-10-31 01:47:...|         NULL|2015-12-06 04:14:...|2015-12-06 04:14:...|                 NULL|              24|            NULL|         24|    NULL|         4|    0|                NULL|                NULL|     NULL|\n",
      "| 21|            NULL|       NULL|<p><strong><em><a...|      NULL|           0|              NULL|  CC BY-SA 3.0|2015-10-31 02:13:...|         NULL|2018-03-17 15:36:...|2018-03-17 15:36:...|                 NULL|             127|            NULL|         24|    NULL|         5|    0|                NULL|                NULL|     NULL|\n",
      "+---+----------------+-----------+--------------------+----------+------------+------------------+--------------+--------------------+-------------+--------------------+--------------------+---------------------+----------------+----------------+-----------+--------+----------+-----+--------------------+--------------------+---------+\n",
      "only showing top 20 rows\n",
      "\n"
     ]
    }
   ],
   "source": [
    "dfSE.sort(\"Id\").show()"
   ]
  },
  {
   "cell_type": "code",
   "execution_count": 23,
   "metadata": {
    "autoscroll": "auto"
   },
   "outputs": [
    {
     "name": "stdout",
     "output_type": "stream",
     "text": [
      "root\n",
      " |-- Id: integer (nullable = true)\n",
      " |-- AcceptedAnswerId: integer (nullable = true)\n",
      " |-- AnswerCount: integer (nullable = true)\n",
      " |-- Body: string (nullable = true)\n",
      " |-- ClosedDate: timestamp (nullable = true)\n",
      " |-- CommentCount: integer (nullable = true)\n",
      " |-- CommunityOwnedDate: timestamp (nullable = true)\n",
      " |-- ContentLicense: string (nullable = true)\n",
      " |-- CreationDate: timestamp (nullable = true)\n",
      " |-- FavoriteCount: integer (nullable = true)\n",
      " |-- LastActivityDate: timestamp (nullable = true)\n",
      " |-- LastEditDate: timestamp (nullable = true)\n",
      " |-- LastEditorDisplayName: string (nullable = true)\n",
      " |-- LastEditorUserId: integer (nullable = true)\n",
      " |-- OwnerDisplayName: string (nullable = true)\n",
      " |-- OwnerUserId: integer (nullable = true)\n",
      " |-- ParentId: integer (nullable = true)\n",
      " |-- PostTypeId: integer (nullable = true)\n",
      " |-- Score: integer (nullable = true)\n",
      " |-- Tags: string (nullable = true)\n",
      " |-- Title: string (nullable = true)\n",
      " |-- ViewCount: integer (nullable = true)\n",
      "\n"
     ]
    }
   ],
   "source": [
    "dfSE.printSchema()"
   ]
  },
  {
   "cell_type": "markdown",
   "metadata": {},
   "source": [
    "# Operaciones básicas con DataFrames\n"
   ]
  },
  {
   "cell_type": "markdown",
   "metadata": {},
   "source": [
    "### Mostrar filas"
   ]
  },
  {
   "cell_type": "code",
   "execution_count": 24,
   "metadata": {
    "autoscroll": "auto"
   },
   "outputs": [
    {
     "name": "stdout",
     "output_type": "stream",
     "text": [
      "+---+----------------+-----------+--------------------+----------+------------+------------------+--------------+--------------------+-------------+--------------------+--------------------+---------------------+----------------+----------------+-----------+--------+----------+-----+--------------------+--------------------+---------+\n",
      "| Id|AcceptedAnswerId|AnswerCount|                Body|ClosedDate|CommentCount|CommunityOwnedDate|ContentLicense|        CreationDate|FavoriteCount|    LastActivityDate|        LastEditDate|LastEditorDisplayName|LastEditorUserId|OwnerDisplayName|OwnerUserId|ParentId|PostTypeId|Score|                Tags|               Title|ViewCount|\n",
      "+---+----------------+-----------+--------------------+----------+------------+------------------+--------------+--------------------+-------------+--------------------+--------------------+---------------------+----------------+----------------+-----------+--------+----------+-----+--------------------+--------------------+---------+\n",
      "|  1|               2|          1|<p>Estoy creando ...|      NULL|           2|              NULL|  CC BY-SA 4.0|2015-10-29 15:56:...|         NULL|2021-03-12 17:49:...|2019-07-07 21:36:...|            user13558|            NULL|            NULL|         23|    NULL|         1|   40|<.net><asp.net-we...|La creación manua...|      780|\n",
      "|  2|            NULL|       NULL|<p>He encontrado ...|      NULL|           2|              NULL|  CC BY-SA 3.0|2015-10-29 19:14:...|         NULL|2015-10-29 19:14:...|                NULL|                 NULL|            NULL|            NULL|         23|       1|         2|   31|                NULL|                NULL|     NULL|\n",
      "|  3|               9|          3|<p>Luego de ver c...|      NULL|           1|              NULL|  CC BY-SA 3.0|2015-10-29 23:54:...|         NULL|2015-12-18 20:19:...|2015-12-03 16:24:...|                 NULL|              20|            NULL|         21|    NULL|         1|   20|            <delphi>|¿Es igual utiliza...|     1035|\n",
      "|  4|            NULL|       NULL|<p><code>.AsStrin...|      NULL|           0|              NULL|  CC BY-SA 3.0|2015-10-30 00:45:...|         NULL|2015-12-14 00:58:...|2015-12-14 00:58:...|                 NULL|              25|            NULL|         24|       3|         2|    6|                NULL|                NULL|     NULL|\n",
      "|  5|             208|          7|<p>¿Cuál es la fo...|      NULL|           1|              NULL|  CC BY-SA 3.0|2015-10-30 01:15:...|         NULL|2020-06-30 02:23:...|2016-09-27 17:46:...|                 NULL|             729|            NULL|         24|    NULL|         1|   37|       <c++><string>|¿Cómo separar las...|    37867|\n",
      "+---+----------------+-----------+--------------------+----------+------------+------------------+--------------+--------------------+-------------+--------------------+--------------------+---------------------+----------------+----------------+-----------+--------+----------+-----+--------------------+--------------------+---------+\n",
      "only showing top 5 rows\n",
      "\n"
     ]
    }
   ],
   "source": [
    "# show(n) permite mostrar las primeras n filas (por defecto, n=20)\n",
    "dfSE.show(5)"
   ]
  },
  {
   "cell_type": "code",
   "execution_count": 25,
   "metadata": {
    "autoscroll": "auto"
   },
   "outputs": [
    {
     "name": "stdout",
     "output_type": "stream",
     "text": [
      "+---+----------------+-----------+------------------------------------------------------------------------------------------------------------------------------------------------------------------------------------------------------------------------------------------------------------------------------------------------------------------------------------------------------------------------------------------------------------------------------------------------------------------------------------------------------------------------------------------------------------------------------------------------------------------------------------------------------------------------------------------------------------------------------------------------------------------------------------------------------------------------------------------------------------------------------------------------------------------------------------------------------------------------------------------------------------------------------------------------------------------------------------------------------------------------------------------------------------------------------------------------------------------------------------------------------------------------------------------------------------------------------------------------------------------------------------------------------------------------------------------------------------------------------------------------------------------------------------------------------------------------------------------------------------------------------------------------------------------------------------------------------------------------------------------------------------------------------------------------------------------------------------------------------------------------------------------------------------------------------------------------------------------------------------------------------------------------------------------------------------------------------------------------------------------------------------------------------------------------------------------------------------------------------------------------------------------------------------------------------------------------------------------------------------------------------------------------------------------------------------------------------------------------------------------------------------------------------------------------------------------------------------------------------------------------------------------------------------------------------------------------------------------------------------------------------------------------------------------------------------------------------------------------------------------------------------------------------------------------------------------------------------------------------------------------------------------------------------------------------------------------------------------------------------------------------------------------------------------------------------------------------------------------------------------------------------------------------------------------------------------------------------------------------------------------------------------------------------------------------------------------------------------------------------------------------------------------------------------------------------------------------------------------------------------------------------------------------------------------------------------------------------------------------------------------------------------------------------------------------------------------------------------------------------------------------------------------------------------------------------------------------------------------------------------------------------------------------------------------------------------------------------------------------------------------------------------------------------------------------------------------------------------------------------------------------------------------------------------------------------------------------------------------------------------------------------------------------------------------------------------------------------------------------------------------------------+----------+------------+------------------+--------------+-----------------------+-------------+-----------------------+-----------------------+---------------------+----------------+----------------+-----------+--------+----------+-----+--------------------------------+---------------------------------------------------------------------------------------------------------------------------------------------------+---------+\n",
      "|Id |AcceptedAnswerId|AnswerCount|Body                                                                                                                                                                                                                                                                                                                                                                                                                                                                                                                                                                                                                                                                                                                                                                                                                                                                                                                                                                                                                                                                                                                                                                                                                                                                                                                                                                                                                                                                                                                                                                                                                                                                                                                                                                                                                                                                                                                                                                                                                                                                                                                                                                                                                                                                                                                                                                                                                                                                                                                                                                                                                                                                                                                                                                                                                                                                                                                                                                                                                                                                                                                                                                                                                                                                                                                                                                                                                                                                                                                                                                                                                                                                                                                                                                                                                                                                                                                                                                                                                                                                                                                                                                                                                                                                                                                                                                                                                                                                                                        |ClosedDate|CommentCount|CommunityOwnedDate|ContentLicense|CreationDate           |FavoriteCount|LastActivityDate       |LastEditDate           |LastEditorDisplayName|LastEditorUserId|OwnerDisplayName|OwnerUserId|ParentId|PostTypeId|Score|Tags                            |Title                                                                                                                                              |ViewCount|\n",
      "+---+----------------+-----------+------------------------------------------------------------------------------------------------------------------------------------------------------------------------------------------------------------------------------------------------------------------------------------------------------------------------------------------------------------------------------------------------------------------------------------------------------------------------------------------------------------------------------------------------------------------------------------------------------------------------------------------------------------------------------------------------------------------------------------------------------------------------------------------------------------------------------------------------------------------------------------------------------------------------------------------------------------------------------------------------------------------------------------------------------------------------------------------------------------------------------------------------------------------------------------------------------------------------------------------------------------------------------------------------------------------------------------------------------------------------------------------------------------------------------------------------------------------------------------------------------------------------------------------------------------------------------------------------------------------------------------------------------------------------------------------------------------------------------------------------------------------------------------------------------------------------------------------------------------------------------------------------------------------------------------------------------------------------------------------------------------------------------------------------------------------------------------------------------------------------------------------------------------------------------------------------------------------------------------------------------------------------------------------------------------------------------------------------------------------------------------------------------------------------------------------------------------------------------------------------------------------------------------------------------------------------------------------------------------------------------------------------------------------------------------------------------------------------------------------------------------------------------------------------------------------------------------------------------------------------------------------------------------------------------------------------------------------------------------------------------------------------------------------------------------------------------------------------------------------------------------------------------------------------------------------------------------------------------------------------------------------------------------------------------------------------------------------------------------------------------------------------------------------------------------------------------------------------------------------------------------------------------------------------------------------------------------------------------------------------------------------------------------------------------------------------------------------------------------------------------------------------------------------------------------------------------------------------------------------------------------------------------------------------------------------------------------------------------------------------------------------------------------------------------------------------------------------------------------------------------------------------------------------------------------------------------------------------------------------------------------------------------------------------------------------------------------------------------------------------------------------------------------------------------------------------------------------------------------------------------------+----------+------------+------------------+--------------+-----------------------+-------------+-----------------------+-----------------------+---------------------+----------------+----------------+-----------+--------+----------+-----+--------------------------------+---------------------------------------------------------------------------------------------------------------------------------------------------+---------+\n",
      "|1  |2               |1          |<p>Estoy creando un servicio usando <em>ASP.NET WebApi</em>. Quiero añadir soporte para la negociación del tipo de contenido basado en extensiones en el <em>URI</em>, así que he añadido lo siguiente al código de inicialización del servicio:</p><br/><br/><pre><code>public static class WebApiConfig<br/>{<br/>  public static void Register(HttpConfiguration config)<br/>  {<br/>    config.Formatters.JsonFormatter.AddUriPathExtensionMapping(\"json\", \"application/json\");<br/>    config.Formatters.XmlFormatter.AddUriPathExtensionMapping(\"xml\", \"application/xml\");<br/>  }<br/>}<br/></code></pre><br/><br/><p>Para que esto funcione necesito crear dos rutas para cada acción del controlador (estoy usando exclusivamente enrutamiento basado en atributos):</p><br/><br/><pre><code>[Route(\"item/{id}/details\")]<br/>[Route(\"item/{id}/details.{ext}\")]<br/>[HttpGet]<br/>public ItemDetail[] GetItemDetails(int id)<br/>{<br/>  return itemsService.GetItemDetails(id);<br/>}<br/><br/>[Route(\"item/{name}\")]<br/>[Route(\"item/{name}.{ext}\")]<br/>[HttpPost]<br/>public int CreateItem(string name)<br/>{<br/>  return itemsService.Create(name);<br/>}<br/></code></pre><br/><br/><p>Esto queda feo y hace que el código sea innecesariamente largo, así que investigué una forma de añadir la ruta con la extensión, automáticamente cuando se crea la ruta normal. Como resultado desarrollé una implementación personalizada de <code>IDirectRouteProvider</code> que puedo usar al registrar los atributos de ruta:</p><br/><br/><pre><code>config.MapHttpAttributeRoutes(new AutomaticExtensionRouteProvider());<br/></code></pre><br/><br/><p>El código del proveedor personalizado es:</p><br/><br/><pre><code>public class AutomaticExtensionRouteProvider : DefaultDirectRouteProvider<br/>{<br/>    protected override IReadOnlyList<RouteEntry> GetActionDirectRoutes(<br/>      HttpActionDescriptor actionDescriptor,<br/>      IReadOnlyList<IDirectRouteFactory> factories,<br/>      IInlineConstraintResolver constraintResolver)<br/>    {<br/>        var result = base.GetActionDirectRoutes(actionDescriptor, factories, constraintResolver);<br/>        var list = new List<RouteEntry>(result);<br/>        foreach(var route in result.Where(r => !r.Route.RouteTemplate.EndsWith(\".{ext}\")))<br/>        {<br/>            var newTemplate = route.Route.RouteTemplate + \".{ext}\";<br/>            if (!result.Any(r => r.Route.RouteTemplate == newTemplate))<br/>            {<br/>                var entry = new RouteEntry(null, new HttpRoute(newTemplate,<br/>                    new HttpRouteValueDictionary(route.Route.Defaults),<br/>                    new HttpRouteValueDictionary(route.Route.Constraints),<br/>                    new HttpRouteValueDictionary(route.Route.DataTokens)));<br/>                list.Add(entry);<br/>            }<br/>        }<br/>        return list.AsReadOnly();<br/>    }<br/>}<br/></code></pre><br/><br/><p>El problema es que esto funciona bien, pero falla en un caso: <strong>Cuando la última parte de la ruta es un parámetro sin restricciones</strong>. Así pues, en el ejemplo anterior, la creación de rutas para <code>GetItemDetails</code> funciona, pero para <code>CreateItem</code> lanza lo siguiente:</p><br/><br/><pre><code>System.InvalidOperationException: Multiple actions were found that match the request: <br/>CreateItem on type FooBar.Api.Controllers.ItemsController<br/>CreateItem on type FooBar.Api.Controllers.ItemsController<br/>   at System.Web.Http.Controllers.ApiControllerActionSelector.ActionSelectorCacheItem.SelectAction(HttpControllerContext controllerContext)<br/>   at System.Web.Http.Controllers.ApiControllerActionSelector.SelectAction(HttpControllerContext controllerContext)<br/></code></pre><br/><br/><p>Me imagino de dónde puede venir el problema: Una cadena arbitraria cumple los patrones <code>{name}</code> y <code>{name}.{ext}</code>, por lo que el motor de <em>WebApi</em> se confunde al intentar seleccionar la ruta adecuada. <strong>Pero entonces, ¿Por qué funciona cuando se especifican las dos rutas explícitamente en atributos?</strong> Por lo que yo entiendo, la ruta que yo creo en la clase <code>AutomaticExtensionRouteProvider</code> es idéntica a la que se crea explícitamente con un atributo (y si depuro veo que en efecto así es).</p><br/><br/><p>Así pues, ¿Qué está pasando aquí?</p><br/>|NULL      |2           |NULL              |CC BY-SA 4.0  |2015-10-29 15:56:52.933|NULL         |2021-03-12 17:49:40.687|2019-07-07 21:36:17.737|user13558            |NULL            |NULL            |23         |NULL    |1         |40   |<.net><asp.net-web-api><asp.net>|La creación manual de un alias de ruta con un DirectRouteProvider personalizado causa un error \"Multiple actions were found that match the request\"|780      |\n",
      "|2  |NULL            |NULL       |<p>He encontrado la solución.</p><br/><br/><p>Resulta que las rutas tienen asignada una <strong>precedencia</strong> numérica asignada, que el motor de enrutamiento de WebApi usa para decidir qué ruta usar en caso de conflicto. Las rutas creadas automáticamente para una misma acción siempre tienen una precedencia distinta, ¡pero la ruta que yo estaba creando manualmente tenía la misma precedencia que la ya existente!</p><br/><br/><p>Así pues la solución es añadir lo siguiente a <code>GetActionDirectRoutes</code>, inmediatamente después de <code>new RouteEntry</code>:</p><br/><br/><pre><code>entry.Route.DataTokens[\"precedence\"] = <br/>    ((decimal)route.Route.DataTokens[\"precedence\"]) - 0.1M;<br/></code></pre><br/>                                                                                                                                                                                                                                                                                                                                                                                                                                                                                                                                                                                                                                                                                                                                                                                                                                                                                                                                                                                                                                                                                                                                                                                                                                                                                                                                                                                                                                                                                                                                                                                                                                                                                                                                                                                                                                                                                                                                                                                                                                                                                                                                                                                                                                                                                                                                                                                                                                                                                                                                                                                                                                                                                                                                                                                                                                                                                                                                                                                                                                                                                                                                                                                                                                                                                                                                                                                                                                                                                                                                                                                                                                                                                                                                                        |NULL      |2           |NULL              |CC BY-SA 3.0  |2015-10-29 19:14:23.673|NULL         |2015-10-29 19:14:23.673|NULL                   |NULL                 |NULL            |NULL            |23         |1       |2         |31   |NULL                            |NULL                                                                                                                                               |NULL     |\n",
      "|3  |9               |3          |<p>Luego de ver cierto código, me he dado cuenta que utilizan este estilo:</p><br/><br/><pre><code>aStr:=tblAcct.FieldByName('Name').Text;<br/></code></pre><br/><br/><p>Parece trabajar bien, pero yo había utilizado hasta ahora:</p><br/><br/><pre><code>aStr:=tblAcct.FieldByName('Name').AsString;<br/></code></pre><br/><br/><p>He utilizado ambos al cargar un TMemo y no parece haber diferencia alguna.</p><br/><br/><pre><code>aMemo.Lines.Text:=tblAcct.FieldByName('History').Text;<br/>aMemo.Lines.Text:=tblAcct.FieldByName('History').AsString;<br/></code></pre><br/><br/><p>¿Hay alguna razón por la que deba utilizar una y no la otra? ¿Cuál es esa razón?</p><br/><br/><p>Normalmente, para un memo, utilizo:</p><br/><br/><pre><code>aMemo.Lines.Assign(tblAcct.FieldByName('History'))<br/></code></pre><br/><br/><p>Y esto trabaja bien también.</p><br/>                                                                                                                                                                                                                                                                                                                                                                                                                                                                                                                                                                                                                                                                                                                                                                                                                                                                                                                                                                                                                                                                                                                                                                                                                                                                                                                                                                                                                                                                                                                                                                                                                                                                                                                                                                                                                                                                                                                                                                                                                                                                                                                                                                                                                                                                                                                                                                                                                                                                                                                                                                                                                                                                                                                                                                                                                                                                                                                                                                                                                                                                                                                                                                                                                                                                                                                                                                                                                                                                                                                                                                                                                            |NULL      |1           |NULL              |CC BY-SA 3.0  |2015-10-29 23:54:31.947|NULL         |2015-12-18 20:19:25.133|2015-12-03 16:24:56.37 |NULL                 |20              |NULL            |21         |NULL    |1         |20   |<delphi>                        |¿Es igual utilizar .AsString que .Text para obtener el valor de un campo de un DataSet?                                                            |1035     |\n",
      "|4  |NULL            |NULL       |<p><code>.AsString</code> devuelve el mismo \"<em>string</em>\" que la propiedad <code>.Text</code> si no existe ningún controlador de eventos \"Event Handler\", <code>OnGetText</code>, pero de existir uno puede darse el caso de ser diferente, o quizás un descendiente en <code>TField</code> que no sea el estándar podría ocasionar que fuera diferente.</p><br/><br/><p>Saludos y espero ayude.</p><br/><br/><p>P.D: Sobre si hay una razón para usar una u otra no sabría decirle con total certeza eso dependería del uso que tenga previsto para el valor de retorno.</p><br/>                                                                                                                                                                                                                                                                                                                                                                                                                                                                                                                                                                                                                                                                                                                                                                                                                                                                                                                                                                                                                                                                                                                                                                                                                                                                                                                                                                                                                                                                                                                                                                                                                                                                                                                                                                                                                                                                                                                                                                                                                                                                                                                                                                                                                                                                                                                                                                                                                                                                                                                                                                                                                                                                                                                                                                                                                                                                                                                                                                                                                                                                                                                                                                                                                                                                                                                                                                                                                                                                                                                                                                                                                                                                                                                                                                                                                                                                                                                      |NULL      |0           |NULL              |CC BY-SA 3.0  |2015-10-30 00:45:47.64 |NULL         |2015-12-14 00:58:15.613|2015-12-14 00:58:15.613|NULL                 |25              |NULL            |24         |3       |2         |6    |NULL                            |NULL                                                                                                                                               |NULL     |\n",
      "|5  |208             |7          |<p>¿Cuál es la forma más eficiente de separar un string en <code>c++</code>? como el que se muestra en el código, el cual contiene espacios entre las palabras, este es el método que yo estoy usando actualmente.</p><br/><br/><pre><code>#include <iostream><br/>#include <sstream><br/><br/>int main(int argc, char** argv){<br/><br/>    std::string str(\"Texto para dividir\");<br/>    std::istringstream isstream(str);<br/><br/>    while(!isstream.eof()){<br/><br/>        std::string tempStr;<br/><br/>        isstream >> tempStr;<br/><br/>        std::cout << tempStr << std::endl;<br/>    }<br/><br/>    return 0;<br/>}<br/></code></pre><br/>                                                                                                                                                                                                                                                                                                                                                                                                                                                                                                                                                                                                                                                                                                                                                                                                                                                                                                                                                                                                                                                                                                                                                                                                                                                                                                                                                                                                                                                                                                                                                                                                                                                                                                                                                                                                                                                                                                                                                                                                                                                                                                                                                                                                                                                                                                                                                                                                                                                                                                                                                                                                                                                                                                                                                                                                                                                                                                                                                                                                                                                                                                                                                                                                                                                                                                                                                                                                                                                                                                                                                                                                                                                                                                                                                                                                                                            |NULL      |1           |NULL              |CC BY-SA 3.0  |2015-10-30 01:15:27.267|NULL         |2020-06-30 02:23:26.197|2016-09-27 17:46:24.9  |NULL                 |729             |NULL            |24         |NULL    |1         |37   |<c++><string>                   |¿Cómo separar las palabras que contiene un string en C++? 'Split '                                                                                 |37867    |\n",
      "+---+----------------+-----------+------------------------------------------------------------------------------------------------------------------------------------------------------------------------------------------------------------------------------------------------------------------------------------------------------------------------------------------------------------------------------------------------------------------------------------------------------------------------------------------------------------------------------------------------------------------------------------------------------------------------------------------------------------------------------------------------------------------------------------------------------------------------------------------------------------------------------------------------------------------------------------------------------------------------------------------------------------------------------------------------------------------------------------------------------------------------------------------------------------------------------------------------------------------------------------------------------------------------------------------------------------------------------------------------------------------------------------------------------------------------------------------------------------------------------------------------------------------------------------------------------------------------------------------------------------------------------------------------------------------------------------------------------------------------------------------------------------------------------------------------------------------------------------------------------------------------------------------------------------------------------------------------------------------------------------------------------------------------------------------------------------------------------------------------------------------------------------------------------------------------------------------------------------------------------------------------------------------------------------------------------------------------------------------------------------------------------------------------------------------------------------------------------------------------------------------------------------------------------------------------------------------------------------------------------------------------------------------------------------------------------------------------------------------------------------------------------------------------------------------------------------------------------------------------------------------------------------------------------------------------------------------------------------------------------------------------------------------------------------------------------------------------------------------------------------------------------------------------------------------------------------------------------------------------------------------------------------------------------------------------------------------------------------------------------------------------------------------------------------------------------------------------------------------------------------------------------------------------------------------------------------------------------------------------------------------------------------------------------------------------------------------------------------------------------------------------------------------------------------------------------------------------------------------------------------------------------------------------------------------------------------------------------------------------------------------------------------------------------------------------------------------------------------------------------------------------------------------------------------------------------------------------------------------------------------------------------------------------------------------------------------------------------------------------------------------------------------------------------------------------------------------------------------------------------------------------------------------------------------------------------------+----------+------------+------------------+--------------+-----------------------+-------------+-----------------------+-----------------------+---------------------+----------------+----------------+-----------+--------+----------+-----+--------------------------------+---------------------------------------------------------------------------------------------------------------------------------------------------+---------+\n",
      "only showing top 5 rows\n",
      "\n"
     ]
    }
   ],
   "source": [
    "# Podemos indicar que no trunque los campos largos\n",
    "dfSE.show(5, truncate=False)"
   ]
  },
  {
   "cell_type": "code",
   "execution_count": 26,
   "metadata": {
    "autoscroll": "auto"
   },
   "outputs": [
    {
     "name": "stdout",
     "output_type": "stream",
     "text": [
      "Row(Id=2, AcceptedAnswerId=None, AnswerCount=None, Body='<p>He encontrado la solución.</p><br/><br/><p>Resulta que las rutas tienen asignada una <strong>precedencia</strong> numérica asignada, que el motor de enrutamiento de WebApi usa para decidir qué ruta usar en caso de conflicto. Las rutas creadas automáticamente para una misma acción siempre tienen una precedencia distinta, ¡pero la ruta que yo estaba creando manualmente tenía la misma precedencia que la ya existente!</p><br/><br/><p>Así pues la solución es añadir lo siguiente a <code>GetActionDirectRoutes</code>, inmediatamente después de <code>new RouteEntry</code>:</p><br/><br/><pre><code>entry.Route.DataTokens[\"precedence\"] = <br/>    ((decimal)route.Route.DataTokens[\"precedence\"]) - 0.1M;<br/></code></pre><br/>', ClosedDate=None, CommentCount=2, CommunityOwnedDate=None, ContentLicense='CC BY-SA 3.0', CreationDate=datetime.datetime(2015, 10, 29, 19, 14, 23, 673000), FavoriteCount=None, LastActivityDate=datetime.datetime(2015, 10, 29, 19, 14, 23, 673000), LastEditDate=None, LastEditorDisplayName=None, LastEditorUserId=None, OwnerDisplayName=None, OwnerUserId=23, ParentId=1, PostTypeId=2, Score=31, Tags=None, Title=None, ViewCount=None)\n",
      "\n",
      "\n"
     ]
    }
   ],
   "source": [
    "# take(n) devuelve las n primeras filas como una lista Python de objetos Row\n",
    "lista = dfSE.take(5)\n",
    "print(lista[1])\n",
    "print(\"\\n\")\n",
    "# collect() devuelve todo el DataFrame como una lista Python de objetos Row\n",
    "# Si el DataFrame es muy grande podría colapsar al Driver\n",
    "#lista2 = dfSE.collect()\n",
    "#print(lista2[10])"
   ]
  },
  {
   "cell_type": "code",
   "execution_count": 50,
   "metadata": {
    "autoscroll": "auto"
   },
   "outputs": [
    {
     "name": "stdout",
     "output_type": "stream",
     "text": [
      "N de filas original = 410346; n de filas muestreadas = 40717\n"
     ]
    }
   ],
   "source": [
    "# sample(withReplacement, fraction, seed=None) devuelve un nuevo Dataframe con una fracción de las filas\n",
    "dfSESampled = dfSE.sample(False, 0.1, seed=None)\n",
    "print(\"N de filas original = {0}; n de filas muestreadas = {1}\".format(dfSE.count(), dfSESampled.count()))"
   ]
  },
  {
   "cell_type": "code",
   "execution_count": 28,
   "metadata": {
    "autoscroll": "auto"
   },
   "outputs": [
    {
     "name": "stdout",
     "output_type": "stream",
     "text": [
      "N de filas muestreadas = 10\n",
      "+---+----------------+-----------+--------------------+----------+------------+------------------+--------------+--------------------+-------------+--------------------+--------------------+---------------------+----------------+----------------+-----------+--------+----------+-----+--------------------+--------------------+---------+\n",
      "| Id|AcceptedAnswerId|AnswerCount|                Body|ClosedDate|CommentCount|CommunityOwnedDate|ContentLicense|        CreationDate|FavoriteCount|    LastActivityDate|        LastEditDate|LastEditorDisplayName|LastEditorUserId|OwnerDisplayName|OwnerUserId|ParentId|PostTypeId|Score|                Tags|               Title|ViewCount|\n",
      "+---+----------------+-----------+--------------------+----------+------------+------------------+--------------+--------------------+-------------+--------------------+--------------------+---------------------+----------------+----------------+-----------+--------+----------+-----+--------------------+--------------------+---------+\n",
      "|  2|            NULL|       NULL|<p>He encontrado ...|      NULL|           2|              NULL|  CC BY-SA 3.0|2015-10-29 19:14:...|         NULL|2015-10-29 19:14:...|                NULL|                 NULL|            NULL|            NULL|         23|       1|         2|   31|                NULL|                NULL|     NULL|\n",
      "| 18|            NULL|       NULL|<p>Como ya mencio...|      NULL|           1|              NULL|  CC BY-SA 3.0|2015-10-31 01:15:...|         NULL|2015-12-15 22:22:...|2015-12-15 22:22:...|                 NULL|             264|            NULL|         24|      12|         2|   13|                NULL|                NULL|     NULL|\n",
      "| 24|              25|          1|<p>Si defino un r...|      NULL|           0|              NULL|  CC BY-SA 3.0|2015-10-31 16:34:...|         NULL|2018-11-10 02:25:...|2016-08-30 13:57:...|                 NULL|            5465|            NULL|         37|    NULL|         1|   17|     <lista><elixir>|¿Cómo puedo conve...|      238|\n",
      "| 27|              31|          2|<p>¿Cómo se hace ...|      NULL|           1|              NULL|  CC BY-SA 3.0|2015-11-01 15:23:...|         NULL|2019-05-20 00:15:...|2016-08-31 11:56:...|                 NULL|            7242|            NULL|         29|    NULL|         1|   14|<ruby-on-rails><r...|¿Cómo mostrar una...|      941|\n",
      "| 34|              91|          1|<p>Estoy realizan...|      NULL|           3|              NULL|  CC BY-SA 3.0|2015-11-02 15:23:...|         NULL|2017-12-13 11:08:...|2017-12-13 11:08:...|              user227|              95|            NULL|         21|    NULL|         1|   16|<android><arduino...|¿Cómo usar Socket...|      555|\n",
      "| 35|              43|          3|<p>Debo guardar f...|      NULL|           4|              NULL|  CC BY-SA 3.0|2015-11-02 15:27:...|         NULL|2021-06-18 09:56:...|2015-12-06 16:32:...|                 NULL|              21|            NULL|         21|    NULL|         1|   39|<mysql><datetime>...|¿Debo utilizar un...|    82088|\n",
      "| 46|             130|          2|<p>Estaba practic...|      NULL|           3|              NULL|  CC BY-SA 4.0|2015-11-05 00:26:...|         NULL|2022-03-24 12:33:...|2022-03-24 12:33:...|                 NULL|          238991|            NULL|         24|    NULL|         1|   19|        <c++><c++11>|¿Es std::function...|      439|\n",
      "| 61|            NULL|       NULL|<p>El <code>check...|      NULL|           3|              NULL|  CC BY-SA 3.0|2015-11-18 18:06:...|         NULL|2015-11-18 20:02:...|2015-11-18 20:02:...|                 NULL|              20|            NULL|         20|      60|         2|    4|                NULL|                NULL|     NULL|\n",
      "| 76|            NULL|       NULL|<p>Puedes usar <a...|      NULL|           0|              NULL|  CC BY-SA 3.0|2015-12-01 17:04:...|         NULL|2015-12-01 17:04:...|                NULL|                 NULL|            NULL|            NULL|         93|       5|         2|   12|                NULL|                NULL|     NULL|\n",
      "| 77|            NULL|          1|<p>Tengo una list...|      NULL|           0|              NULL|  CC BY-SA 4.0|2015-12-01 17:05:...|         NULL|2019-07-07 23:03:...|2019-07-07 23:03:...|            user13558|            NULL|            NULL|         72|    NULL|         1|    5|                <c#>|¿Cómo comprobar s...|      201|\n",
      "+---+----------------+-----------+--------------------+----------+------------+------------------+--------------+--------------------+-------------+--------------------+--------------------+---------------------+----------------+----------------+-----------+--------+----------+-----+--------------------+--------------------+---------+\n",
      "\n"
     ]
    }
   ],
   "source": [
    "# limit(n) limita a n el número de filas obtenidas\n",
    "dfSE_10filas = dfSE.sample(False, 0.1, seed=None).limit(10)\n",
    "print(\"N de filas muestreadas = {0}\".format(dfSE_10filas.count()))\n",
    "dfSE_10filas.show()"
   ]
  },
  {
   "cell_type": "markdown",
   "metadata": {},
   "source": [
    "### Ejecutar una operación sobre cada una de las filas\n",
    "El método `foreach` aplica una función a cada una de las filas\n",
    "\n",
    "- El DataFrame no se modifica y no se crea ningún otro DataFrame\n",
    "- El `foreach`se ejecuta en los workers"
   ]
  },
  {
   "cell_type": "code",
   "execution_count": 29,
   "metadata": {
    "autoscroll": "auto"
   },
   "outputs": [
    {
     "name": "stderr",
     "output_type": "stream",
     "text": [
      "2\n",
      "18\n",
      "24\n",
      "27\n",
      "34\n",
      "35\n",
      "46\n",
      "61\n",
      "76\n",
      "77\n"
     ]
    }
   ],
   "source": [
    "def printid(f) -> None:\n",
    "    print(f[\"Id\"])\n",
    "\n",
    "# En teoría, deberían de imprimirse todos los valores de la columna id\n",
    "# Debido a la forma de gestionar las tareas del Zeppelin, no se ve\n",
    "# En un pyspark-shell si funciona\n",
    "dfSE_10filas.foreach(printid)"
   ]
  },
  {
   "cell_type": "markdown",
   "metadata": {},
   "source": [
    "### Seleccionar columnas"
   ]
  },
  {
   "cell_type": "code",
   "execution_count": 30,
   "metadata": {
    "autoscroll": "auto"
   },
   "outputs": [
    {
     "name": "stdout",
     "output_type": "stream",
     "text": [
      "+---+--------------------+\n",
      "| Id|                Body|\n",
      "+---+--------------------+\n",
      "|  1|<p>Estoy creando ...|\n",
      "|  2|<p>He encontrado ...|\n",
      "|  3|<p>Luego de ver c...|\n",
      "|  4|<p><code>.AsStrin...|\n",
      "|  5|<p>¿Cuál es la fo...|\n",
      "+---+--------------------+\n",
      "only showing top 5 rows\n",
      "\n",
      "El objeto dfIdCuerpo es de tipo <class 'pyspark.sql.dataframe.DataFrame'>\n"
     ]
    }
   ],
   "source": [
    "# Crea un nuevo DataFrame seleccionando columnas por nombre\n",
    "dfIdBody: DataFrame = dfSE.select(\"Id\", \"Body\")\n",
    "dfIdBody.show(5)\n",
    "\n",
    "print(\"El objeto dfIdCuerpo es de tipo {0}\".format(type(dfIdBody)))"
   ]
  },
  {
   "cell_type": "code",
   "execution_count": 31,
   "metadata": {
    "autoscroll": "auto"
   },
   "outputs": [
    {
     "name": "stdout",
     "output_type": "stream",
     "text": [
      "+---+--------------------+\n",
      "| Id|                Body|\n",
      "+---+--------------------+\n",
      "|  1|<p>Estoy creando ...|\n",
      "|  2|<p>He encontrado ...|\n",
      "|  3|<p>Luego de ver c...|\n",
      "|  4|<p><code>.AsStrin...|\n",
      "|  5|<p>¿Cuál es la fo...|\n",
      "+---+--------------------+\n",
      "only showing top 5 rows\n",
      "\n"
     ]
    }
   ],
   "source": [
    "# Otra forma de indicar a las columnas\n",
    "dfIdBody2: DataFrame = dfSE.select(dfSE.Id, dfSE.Body)\n",
    "dfIdBody2.show(5)"
   ]
  },
  {
   "cell_type": "code",
   "execution_count": 32,
   "metadata": {
    "autoscroll": "auto"
   },
   "outputs": [
    {
     "name": "stdout",
     "output_type": "stream",
     "text": [
      "El objeto colId es de tipo <class 'pyspark.sql.column.Column'>\n",
      "El objeto colCreaDate es de tipo <class 'pyspark.sql.column.Column'>\n"
     ]
    }
   ],
   "source": [
    "# También es posible indicar objetos de tipo Column\n",
    "from pyspark.sql.functions import col\n",
    "\n",
    "colId = col(\"Id\")\n",
    "colCreaDate = col(\"CreationDate\")\n",
    "print(\"El objeto colId es de tipo {0}\".format(type(colId)))\n",
    "print(\"El objeto colCreaDate es de tipo {0}\".format(type(colCreaDate)))"
   ]
  },
  {
   "cell_type": "code",
   "execution_count": 33,
   "metadata": {
    "autoscroll": "auto"
   },
   "outputs": [
    {
     "name": "stdout",
     "output_type": "stream",
     "text": [
      "+---+--------------------+--------------------+\n",
      "| Id|      Fecha_Creación|              Cuerpo|\n",
      "+---+--------------------+--------------------+\n",
      "|  1|2015-10-29 15:56:...|<p>Estoy creando ...|\n",
      "|  2|2015-10-29 19:14:...|<p>He encontrado ...|\n",
      "|  3|2015-10-29 23:54:...|<p>Luego de ver c...|\n",
      "|  4|2015-10-30 00:45:...|<p><code>.AsStrin...|\n",
      "|  5|2015-10-30 01:15:...|<p>¿Cuál es la fo...|\n",
      "+---+--------------------+--------------------+\n",
      "only showing top 5 rows\n",
      "\n"
     ]
    }
   ],
   "source": [
    "# Y crear un DataFrame a partir de objetos Column, renombrando columnas\n",
    "dfIdFechaCuerpo: DataFrame = dfSE.select(colId,\n",
    "                              colCreaDate.alias(\"Fecha_Creación\"),\n",
    "                              dfSE.Body.alias(\"Cuerpo\"))\n",
    "dfIdFechaCuerpo.show(5)"
   ]
  },
  {
   "cell_type": "code",
   "execution_count": 35,
   "metadata": {
    "autoscroll": "auto"
   },
   "outputs": [
    {
     "name": "stdout",
     "output_type": "stream",
     "text": [
      "+---+--------------------+--------------------+\n",
      "| ID|      Fecha_Creación|              Cuerpo|\n",
      "+---+--------------------+--------------------+\n",
      "|  1|2015-10-29 15:56:...|<p>Estoy creando ...|\n",
      "|  2|2015-10-29 19:14:...|<p>He encontrado ...|\n",
      "|  3|2015-10-29 23:54:...|<p>Luego de ver c...|\n",
      "|  4|2015-10-30 00:45:...|<p><code>.AsStrin...|\n",
      "|  5|2015-10-30 01:15:...|<p>¿Cuál es la fo...|\n",
      "+---+--------------------+--------------------+\n",
      "only showing top 5 rows\n",
      "\n"
     ]
    }
   ],
   "source": [
    "from pyspark.sql.functions import expr\n",
    "# El DataFrame anterior usando expresiones\n",
    "dfIdFechaCuerpoExpr: DataFrame = dfSE.select(\n",
    "                           expr(\"Id AS ID\"),\n",
    "                           expr('CreationDate AS `Fecha_Creación`'),\n",
    "                           expr(\"Body AS Cuerpo\"))\n",
    "dfIdFechaCuerpoExpr.show(5)\n"
   ]
  },
  {
   "cell_type": "code",
   "execution_count": 36,
   "metadata": {
    "autoscroll": "auto"
   },
   "outputs": [
    {
     "name": "stdout",
     "output_type": "stream",
     "text": [
      "+---+----------------+-----------+--------------------+----------+------------+------------------+--------------+--------------------+-------------+--------------------+--------------------+---------------------+----------------+----------------+-----------+--------+----------+-----+--------------------+--------------------+---------+---------------+\n",
      "| Id|AcceptedAnswerId|AnswerCount|                Body|ClosedDate|CommentCount|CommunityOwnedDate|ContentLicense|        CreationDate|FavoriteCount|    LastActivityDate|        LastEditDate|LastEditorDisplayName|LastEditorUserId|OwnerDisplayName|OwnerUserId|ParentId|PostTypeId|Score|                Tags|               Title|ViewCount|respuestaValida|\n",
      "+---+----------------+-----------+--------------------+----------+------------+------------------+--------------+--------------------+-------------+--------------------+--------------------+---------------------+----------------+----------------+-----------+--------+----------+-----+--------------------+--------------------+---------+---------------+\n",
      "|  1|               2|          1|<p>Estoy creando ...|      NULL|           2|              NULL|  CC BY-SA 4.0|2015-10-29 15:56:...|         NULL|2021-03-12 17:49:...|2019-07-07 21:36:...|            user13558|            NULL|            NULL|         23|    NULL|         1|   40|<.net><asp.net-we...|La creación manua...|      780|           true|\n",
      "|  2|            NULL|       NULL|<p>He encontrado ...|      NULL|           2|              NULL|  CC BY-SA 3.0|2015-10-29 19:14:...|         NULL|2015-10-29 19:14:...|                NULL|                 NULL|            NULL|            NULL|         23|       1|         2|   31|                NULL|                NULL|     NULL|          false|\n",
      "|  3|               9|          3|<p>Luego de ver c...|      NULL|           1|              NULL|  CC BY-SA 3.0|2015-10-29 23:54:...|         NULL|2015-12-18 20:19:...|2015-12-03 16:24:...|                 NULL|              20|            NULL|         21|    NULL|         1|   20|            <delphi>|¿Es igual utiliza...|     1035|           true|\n",
      "|  4|            NULL|       NULL|<p><code>.AsStrin...|      NULL|           0|              NULL|  CC BY-SA 3.0|2015-10-30 00:45:...|         NULL|2015-12-14 00:58:...|2015-12-14 00:58:...|                 NULL|              25|            NULL|         24|       3|         2|    6|                NULL|                NULL|     NULL|          false|\n",
      "|  5|             208|          7|<p>¿Cuál es la fo...|      NULL|           1|              NULL|  CC BY-SA 3.0|2015-10-30 01:15:...|         NULL|2020-06-30 02:23:...|2016-09-27 17:46:...|                 NULL|             729|            NULL|         24|    NULL|         1|   37|       <c++><string>|¿Cómo separar las...|    37867|           true|\n",
      "|  6|             654|          2|<p>¿Cómo estar se...|      NULL|           0|              NULL|  CC BY-SA 3.0|2015-10-30 01:36:...|         NULL|2018-12-13 13:36:...|2015-12-14 01:05:...|                 NULL|             100|            NULL|         24|    NULL|         1|   27|      <c++><casting>|¿Cuándo usar y es...|     3291|           true|\n",
      "|  7|            NULL|       NULL|<p>Lo de eleganci...|      NULL|           0|              NULL|  CC BY-SA 3.0|2015-10-30 05:30:...|         NULL|2017-03-04 04:16:...|2017-03-04 04:16:...|                 NULL|           29967|            NULL|         25|       5|         2|   29|                NULL|                NULL|     NULL|          false|\n",
      "|  8|             442|          1|<p>Para un proyec...|      NULL|           1|              NULL|  CC BY-SA 3.0|2015-10-30 10:26:...|         NULL|2016-09-30 07:45:...|2015-12-03 15:38:...|                 NULL|              95|            NULL|         23|    NULL|         1|   14|<google-maps><ang...|\"Unknown provider...|      320|           true|\n",
      "|  9|            NULL|       NULL|<p>Antes de respo...|      NULL|           1|              NULL|  CC BY-SA 3.0|2015-10-30 13:59:...|         NULL|2015-10-30 13:59:...|                NULL|                 NULL|            NULL|            NULL|         21|       3|         2|   12|                NULL|                NULL|     NULL|          false|\n",
      "| 10|              11|          1|<p>Dado el siguie...|      NULL|           0|              NULL|  CC BY-SA 3.0|2015-10-30 14:33:...|         NULL|2019-05-09 17:55:...|2019-05-09 17:55:...|                 NULL|              20|            NULL|         20|    NULL|         1|   28|        <typescript>|¿Cómo definir mét...|     3407|           true|\n",
      "| 11|            NULL|       NULL|<p>En el primer c...|      NULL|           2|              NULL|  CC BY-SA 3.0|2015-10-30 14:43:...|         NULL|2015-12-14 01:05:...|2015-12-14 01:05:...|                 NULL|              25|            NULL|         23|      10|         2|   25|                NULL|                NULL|     NULL|          false|\n",
      "| 12|              18|          2|<p>Hoy, en mi tra...|      NULL|           1|              NULL|  CC BY-SA 3.0|2015-10-30 15:37:...|         NULL|2016-08-30 13:52:...|2017-05-23 12:39:...|                 NULL|              -1|            NULL|         22|    NULL|         1|   28|       <array><perl>|\"splice() offset ...|      422|           true|\n",
      "| 14|            NULL|       NULL|<p><strong>¿Qué e...|      NULL|           0|              NULL|  CC BY-SA 4.0|2015-10-30 16:53:...|         NULL|2023-02-24 19:14:...|2023-02-24 19:14:...|                 NULL|          169744|            NULL|         24|    NULL|         5|    0|                NULL|                NULL|     NULL|          false|\n",
      "| 15|            NULL|       NULL|C ++ es un lengua...|      NULL|           0|              NULL|  CC BY-SA 3.0|2015-10-30 16:53:...|         NULL|2015-12-05 20:51:...|2015-12-05 20:51:...|                 NULL|              24|            NULL|         24|    NULL|         4|    0|                NULL|                NULL|     NULL|          false|\n",
      "| 16|              17|          1|<p>Estoy tratando...|      NULL|           1|              NULL|  CC BY-SA 3.0|2015-10-30 19:42:...|         NULL|2015-12-29 12:25:...|2015-12-29 12:25:...|                 NULL|             100|            NULL|         37|    NULL|         1|   10|        <ios><xcode>|Error ios 8.4 sim...|      139|           true|\n",
      "| 17|            NULL|       NULL|<p>Para realizar ...|      NULL|           0|              NULL|  CC BY-SA 3.0|2015-10-30 20:36:...|         NULL|2015-11-02 17:08:...|2015-11-02 17:08:...|                 NULL|              21|            NULL|         24|      16|         2|    5|                NULL|                NULL|     NULL|          false|\n",
      "| 18|            NULL|       NULL|<p>Como ya mencio...|      NULL|           1|              NULL|  CC BY-SA 3.0|2015-10-31 01:15:...|         NULL|2015-12-15 22:22:...|2015-12-15 22:22:...|                 NULL|             264|            NULL|         24|      12|         2|   13|                NULL|                NULL|     NULL|          false|\n",
      "| 19|            NULL|       NULL|<p>Delphi es un l...|      NULL|           0|              NULL|  CC BY-SA 3.0|2015-10-31 01:47:...|         NULL|2015-12-06 18:28:...|2015-12-06 18:28:...|                 NULL|              24|            NULL|         24|    NULL|         5|    0|                NULL|                NULL|     NULL|          false|\n",
      "| 20|            NULL|       NULL|Delphi es un leng...|      NULL|           0|              NULL|  CC BY-SA 3.0|2015-10-31 01:47:...|         NULL|2015-12-06 04:14:...|2015-12-06 04:14:...|                 NULL|              24|            NULL|         24|    NULL|         4|    0|                NULL|                NULL|     NULL|          false|\n",
      "| 21|            NULL|       NULL|<p><strong><em><a...|      NULL|           0|              NULL|  CC BY-SA 3.0|2015-10-31 02:13:...|         NULL|2018-03-17 15:36:...|2018-03-17 15:36:...|                 NULL|             127|            NULL|         24|    NULL|         5|    0|                NULL|                NULL|     NULL|          false|\n",
      "+---+----------------+-----------+--------------------+----------+------------+------------------+--------------+--------------------+-------------+--------------------+--------------------+---------------------+----------------+----------------+-----------+--------+----------+-----+--------------------+--------------------+---------+---------------+\n",
      "only showing top 20 rows\n",
      "\n"
     ]
    }
   ],
   "source": [
    "# Se pueden usar expresiones más complejas\n",
    "dfSE.selectExpr(\"*\", # Selecciona todas las columnas\n",
    "                \"(AnswerCount IS NOT NULL) as respuestaValida\").show()"
   ]
  },
  {
   "cell_type": "markdown",
   "metadata": {},
   "source": [
    "### Renombrar, añadir y eliminar columnas\n"
   ]
  },
  {
   "cell_type": "code",
   "execution_count": 37,
   "metadata": {
    "autoscroll": "auto"
   },
   "outputs": [
    {
     "name": "stdout",
     "output_type": "stream",
     "text": [
      "+-----------------------+----------------+-----+----------+\n",
      "|Fecha_de_creación      |Número_de_vistas|Score|PostTypeId|\n",
      "+-----------------------+----------------+-----+----------+\n",
      "|2015-10-29 15:56:52.933|780             |40   |1         |\n",
      "|2015-10-29 19:14:23.673|NULL            |31   |2         |\n",
      "|2015-10-29 23:54:31.947|1035            |20   |1         |\n",
      "|2015-10-30 00:45:47.64 |NULL            |6    |2         |\n",
      "|2015-10-30 01:15:27.267|37867           |37   |1         |\n",
      "|2015-10-30 01:36:21.21 |3291            |27   |1         |\n",
      "|2015-10-30 05:30:50.993|NULL            |29   |2         |\n",
      "|2015-10-30 10:26:44.223|320             |14   |1         |\n",
      "|2015-10-30 13:59:47.113|NULL            |12   |2         |\n",
      "|2015-10-30 14:33:50.523|3407            |28   |1         |\n",
      "|2015-10-30 14:43:43.737|NULL            |25   |2         |\n",
      "|2015-10-30 15:37:40.45 |422             |28   |1         |\n",
      "|2015-10-30 16:53:47.187|NULL            |0    |5         |\n",
      "|2015-10-30 16:53:47.187|NULL            |0    |4         |\n",
      "|2015-10-30 19:42:29.823|139             |10   |1         |\n",
      "|2015-10-30 20:36:12.323|NULL            |5    |2         |\n",
      "|2015-10-31 01:15:02.047|NULL            |13   |2         |\n",
      "|2015-10-31 01:47:38.807|NULL            |0    |5         |\n",
      "|2015-10-31 01:47:38.807|NULL            |0    |4         |\n",
      "|2015-10-31 02:13:17.22 |NULL            |0    |5         |\n",
      "+-----------------------+----------------+-----+----------+\n",
      "only showing top 20 rows\n",
      "\n"
     ]
    }
   ],
   "source": [
    "# Renombramos la columna creationDate\n",
    "dfSE: DataFrame = dfSE.withColumnRenamed(\"CreationDate\", \"Fecha_de_creación\")\n",
    "dfSE.select(\"Fecha_de_creación\",\n",
    "            dfSE.ViewCount.alias(\"Número_de_vistas\"),\n",
    "            \"Score\",\n",
    "            \"PostTypeId\")\\\n",
    "            .show(truncate=False)"
   ]
  },
  {
   "cell_type": "code",
   "execution_count": 38,
   "metadata": {
    "autoscroll": "auto"
   },
   "outputs": [
    {
     "name": "stdout",
     "output_type": "stream",
     "text": [
      "+---+----------------+-----------+--------------------+----------+------------+------------------+--------------+--------------------+-------------+--------------------+--------------------+---------------------+----------------+----------------+-----------+--------+----------+-----+--------------------+--------------------+---------+----+\n",
      "| Id|AcceptedAnswerId|AnswerCount|                Body|ClosedDate|CommentCount|CommunityOwnedDate|ContentLicense|   Fecha_de_creación|FavoriteCount|    LastActivityDate|        LastEditDate|LastEditorDisplayName|LastEditorUserId|OwnerDisplayName|OwnerUserId|ParentId|PostTypeId|Score|                Tags|               Title|ViewCount|unos|\n",
      "+---+----------------+-----------+--------------------+----------+------------+------------------+--------------+--------------------+-------------+--------------------+--------------------+---------------------+----------------+----------------+-----------+--------+----------+-----+--------------------+--------------------+---------+----+\n",
      "|  1|               2|          1|<p>Estoy creando ...|      NULL|           2|              NULL|  CC BY-SA 4.0|2015-10-29 15:56:...|         NULL|2021-03-12 17:49:...|2019-07-07 21:36:...|            user13558|            NULL|            NULL|         23|    NULL|         1|   40|<.net><asp.net-we...|La creación manua...|      780|   1|\n",
      "|  2|            NULL|       NULL|<p>He encontrado ...|      NULL|           2|              NULL|  CC BY-SA 3.0|2015-10-29 19:14:...|         NULL|2015-10-29 19:14:...|                NULL|                 NULL|            NULL|            NULL|         23|       1|         2|   31|                NULL|                NULL|     NULL|   1|\n",
      "|  3|               9|          3|<p>Luego de ver c...|      NULL|           1|              NULL|  CC BY-SA 3.0|2015-10-29 23:54:...|         NULL|2015-12-18 20:19:...|2015-12-03 16:24:...|                 NULL|              20|            NULL|         21|    NULL|         1|   20|            <delphi>|¿Es igual utiliza...|     1035|   1|\n",
      "|  4|            NULL|       NULL|<p><code>.AsStrin...|      NULL|           0|              NULL|  CC BY-SA 3.0|2015-10-30 00:45:...|         NULL|2015-12-14 00:58:...|2015-12-14 00:58:...|                 NULL|              25|            NULL|         24|       3|         2|    6|                NULL|                NULL|     NULL|   1|\n",
      "|  5|             208|          7|<p>¿Cuál es la fo...|      NULL|           1|              NULL|  CC BY-SA 3.0|2015-10-30 01:15:...|         NULL|2020-06-30 02:23:...|2016-09-27 17:46:...|                 NULL|             729|            NULL|         24|    NULL|         1|   37|       <c++><string>|¿Cómo separar las...|    37867|   1|\n",
      "+---+----------------+-----------+--------------------+----------+------------+------------------+--------------+--------------------+-------------+--------------------+--------------------+---------------------+----------------+----------------+-----------+--------+----------+-----+--------------------+--------------------+---------+----+\n",
      "only showing top 5 rows\n",
      "\n"
     ]
    }
   ],
   "source": [
    "# Añadimos una nueva columna con todos sus valores iguales a 1\n",
    "from pyspark.sql.functions import lit\n",
    "# lit convierte un literal en Python al formato interno de Spark\n",
    "# (en este ejemplo IntegerType)\n",
    "dfSE: DataFrame = dfSE.withColumn(\"unos\", lit(1))\n",
    "dfSE.show(5)"
   ]
  },
  {
   "cell_type": "code",
   "execution_count": 51,
   "metadata": {
    "autoscroll": "auto"
   },
   "outputs": [
    {
     "data": {
      "text/plain": [
       "['Id',\n",
       " 'AcceptedAnswerId',\n",
       " 'AnswerCount',\n",
       " 'Body',\n",
       " 'ClosedDate',\n",
       " 'CommentCount',\n",
       " 'CommunityOwnedDate',\n",
       " 'ContentLicense',\n",
       " 'Fecha_de_creación',\n",
       " 'FavoriteCount',\n",
       " 'LastActivityDate',\n",
       " 'LastEditDate',\n",
       " 'LastEditorDisplayName',\n",
       " 'LastEditorUserId',\n",
       " 'OwnerDisplayName',\n",
       " 'OwnerUserId',\n",
       " 'ParentId',\n",
       " 'PostTypeId',\n",
       " 'Score',\n",
       " 'Tags',\n",
       " 'Title',\n",
       " 'ViewCount']"
      ]
     },
     "execution_count": 51,
     "metadata": {},
     "output_type": "execute_result"
    }
   ],
   "source": [
    "# Elimina una columna con drop\n",
    "dfSE: DataFrame = dfSE.drop(col(\"unos\"))\n",
    "dfSE.columns"
   ]
  },
  {
   "cell_type": "markdown",
   "metadata": {},
   "source": [
    "### Eliminar valores nulos y duplicados"
   ]
  },
  {
   "cell_type": "code",
   "execution_count": 52,
   "metadata": {
    "autoscroll": "auto"
   },
   "outputs": [
    {
     "name": "stdout",
     "output_type": "stream",
     "text": [
      "Numero de filas inicial: 410346; número de filas sin null: 0\n"
     ]
    }
   ],
   "source": [
    "# Eliminamos todas las filas que tengan null en alguna de sus columnas\n",
    "dfNoNulls: DataFrame = dfSE.dropna(\"any\")\n",
    "print(\"Numero de filas inicial: {0}; número de filas sin null: {1}\"\n",
    "       .format(dfSE.count(), dfNoNulls.count()))"
   ]
  },
  {
   "cell_type": "code",
   "execution_count": 41,
   "metadata": {
    "autoscroll": "auto"
   },
   "outputs": [
    {
     "name": "stdout",
     "output_type": "stream",
     "text": [
      "Número de filas con todo a null: 0\n"
     ]
    }
   ],
   "source": [
    "# Elimina las filas que tengan null en todas sus columnas\n",
    "dfNingunNull = dfSE.dropna(\"all\")\n",
    "print(\"Número de filas con todo a null: {0}\"\n",
    "       .format(dfSE.count() - dfNingunNull.count()))"
   ]
  },
  {
   "cell_type": "code",
   "execution_count": 42,
   "metadata": {
    "autoscroll": "auto"
   },
   "outputs": [
    {
     "name": "stderr",
     "output_type": "stream",
     "text": [
      "24/11/12 16:19:33 WARN RowBasedKeyValueBatch: Calling spill() on RowBasedKeyValueBatch. Will not spill but return 0.\n",
      "24/11/12 16:19:33 WARN RowBasedKeyValueBatch: Calling spill() on RowBasedKeyValueBatch. Will not spill but return 0.\n",
      "24/11/12 16:19:33 WARN RowBasedKeyValueBatch: Calling spill() on RowBasedKeyValueBatch. Will not spill but return 0.\n",
      "24/11/12 16:19:33 WARN RowBasedKeyValueBatch: Calling spill() on RowBasedKeyValueBatch. Will not spill but return 0.\n",
      "24/11/12 16:19:33 WARN RowBasedKeyValueBatch: Calling spill() on RowBasedKeyValueBatch. Will not spill but return 0.\n",
      "24/11/12 16:19:33 WARN RowBasedKeyValueBatch: Calling spill() on RowBasedKeyValueBatch. Will not spill but return 0.\n",
      "24/11/12 16:19:33 WARN RowBasedKeyValueBatch: Calling spill() on RowBasedKeyValueBatch. Will not spill but return 0.\n",
      "24/11/12 16:19:33 WARN RowBasedKeyValueBatch: Calling spill() on RowBasedKeyValueBatch. Will not spill but return 0.\n",
      "24/11/12 16:19:33 WARN RowBasedKeyValueBatch: Calling spill() on RowBasedKeyValueBatch. Will not spill but return 0.\n",
      "24/11/12 16:19:33 WARN RowBasedKeyValueBatch: Calling spill() on RowBasedKeyValueBatch. Will not spill but return 0.\n",
      "24/11/12 16:19:33 WARN RowBasedKeyValueBatch: Calling spill() on RowBasedKeyValueBatch. Will not spill but return 0.\n",
      "24/11/12 16:19:40 WARN RowBasedKeyValueBatch: Calling spill() on RowBasedKeyValueBatch. Will not spill but return 0.\n",
      "24/11/12 16:19:40 WARN RowBasedKeyValueBatch: Calling spill() on RowBasedKeyValueBatch. Will not spill but return 0.\n",
      "24/11/12 16:19:41 WARN RowBasedKeyValueBatch: Calling spill() on RowBasedKeyValueBatch. Will not spill but return 0.\n",
      "24/11/12 16:19:41 WARN RowBasedKeyValueBatch: Calling spill() on RowBasedKeyValueBatch. Will not spill but return 0.\n",
      "24/11/12 16:19:42 WARN RowBasedKeyValueBatch: Calling spill() on RowBasedKeyValueBatch. Will not spill but return 0.\n",
      "24/11/12 16:19:42 WARN RowBasedKeyValueBatch: Calling spill() on RowBasedKeyValueBatch. Will not spill but return 0.\n",
      "24/11/12 16:19:42 WARN RowBasedKeyValueBatch: Calling spill() on RowBasedKeyValueBatch. Will not spill but return 0.\n",
      "24/11/12 16:19:42 WARN RowBasedKeyValueBatch: Calling spill() on RowBasedKeyValueBatch. Will not spill but return 0.\n",
      "24/11/12 16:19:42 WARN RowBasedKeyValueBatch: Calling spill() on RowBasedKeyValueBatch. Will not spill but return 0.\n",
      "24/11/12 16:19:42 WARN RowBasedKeyValueBatch: Calling spill() on RowBasedKeyValueBatch. Will not spill but return 0.\n",
      "24/11/12 16:19:42 WARN RowBasedKeyValueBatch: Calling spill() on RowBasedKeyValueBatch. Will not spill but return 0.\n",
      "24/11/12 16:19:42 WARN RowBasedKeyValueBatch: Calling spill() on RowBasedKeyValueBatch. Will not spill but return 0.\n",
      "24/11/12 16:19:42 WARN RowBasedKeyValueBatch: Calling spill() on RowBasedKeyValueBatch. Will not spill but return 0.\n",
      "24/11/12 16:19:42 WARN RowBasedKeyValueBatch: Calling spill() on RowBasedKeyValueBatch. Will not spill but return 0.\n",
      "24/11/12 16:19:42 WARN RowBasedKeyValueBatch: Calling spill() on RowBasedKeyValueBatch. Will not spill but return 0.\n",
      "24/11/12 16:19:42 WARN RowBasedKeyValueBatch: Calling spill() on RowBasedKeyValueBatch. Will not spill but return 0.\n",
      "[Stage 54:============>                                             (2 + 7) / 9]\r"
     ]
    },
    {
     "name": "stdout",
     "output_type": "stream",
     "text": [
      "Número de filas duplicadas: 0\n"
     ]
    },
    {
     "name": "stderr",
     "output_type": "stream",
     "text": [
      "                                                                                \r"
     ]
    }
   ],
   "source": [
    "# Elimina las filas duplicadas\n",
    "dfSinDuplicadas: DataFrame = dfSE.dropDuplicates()\n",
    "print(\"Número de filas duplicadas: {0}\"\n",
    "       .format(dfSE.count() - dfSinDuplicadas.count()))"
   ]
  },
  {
   "cell_type": "code",
   "execution_count": 43,
   "metadata": {
    "autoscroll": "auto"
   },
   "outputs": [
    {
     "name": "stderr",
     "output_type": "stream",
     "text": [
      "[Stage 58:>                                                         (0 + 8) / 8]\r"
     ]
    },
    {
     "name": "stdout",
     "output_type": "stream",
     "text": [
      "Número de usuarios únicos: 78685\n"
     ]
    },
    {
     "name": "stderr",
     "output_type": "stream",
     "text": [
      "                                                                                \r"
     ]
    }
   ],
   "source": [
    "# Elimina las filas duplicadas en alguna columna\n",
    "dfSinUserDuplicado: DataFrame = dfSE.dropDuplicates([\"OwnerUserId\"])\n",
    "print(\"Número de usuarios únicos: {0}\"\n",
    "       .format(dfSinUserDuplicado.count()))"
   ]
  },
  {
   "cell_type": "code",
   "execution_count": 44,
   "metadata": {
    "autoscroll": "auto"
   },
   "outputs": [
    {
     "name": "stdout",
     "output_type": "stream",
     "text": [
      "Número de filas con ViewCount y AcceptedAnswerId no nulo: 82491\n",
      "Número de filas con ViewCount o AcceptedAnswerId no nulo: 194788\n"
     ]
    }
   ],
   "source": [
    "# Otros ejemplos\n",
    "dfNoNullViewCountAcceptedAnswerId: DataFrame = dfSE\\\n",
    "        .dropna(\"any\", subset=[\"ViewCount\", \"AcceptedAnswerId\"])\n",
    "print(\"Número de filas con ViewCount y AcceptedAnswerId no nulo: {0}\"\n",
    "       .format(dfNoNullViewCountAcceptedAnswerId.count()))\n",
    "dfNoNullViewCountAcceptedAnswerId = dfSE\\\n",
    "        .dropna(\"all\", subset=[\"ViewCount\", \"AcceptedAnswerId\"])\n",
    "print(\"Número de filas con ViewCount o AcceptedAnswerId no nulo: {0}\"\n",
    "       .format(dfNoNullViewCountAcceptedAnswerId.count()))"
   ]
  },
  {
   "cell_type": "markdown",
   "metadata": {},
   "source": [
    "### Reemplazar valores"
   ]
  },
  {
   "cell_type": "code",
   "execution_count": 53,
   "metadata": {
    "autoscroll": "auto"
   },
   "outputs": [
    {
     "name": "stdout",
     "output_type": "stream",
     "text": [
      "+---------+-----------+\n",
      "|ViewCount|AnswerCount|\n",
      "+---------+-----------+\n",
      "|      780|          1|\n",
      "|     NULL|       NULL|\n",
      "|     1035|          3|\n",
      "|     NULL|       NULL|\n",
      "|    37867|          7|\n",
      "|     3291|          2|\n",
      "|     NULL|       NULL|\n",
      "|      320|          1|\n",
      "|     NULL|       NULL|\n",
      "|     3407|          1|\n",
      "+---------+-----------+\n",
      "only showing top 10 rows\n",
      "\n",
      "+---------+-----------+\n",
      "|ViewCount|AnswerCount|\n",
      "+---------+-----------+\n",
      "|      780|          1|\n",
      "|        0|          0|\n",
      "|     1035|          3|\n",
      "|        0|          0|\n",
      "|    37867|          7|\n",
      "|     3291|          2|\n",
      "|        0|          0|\n",
      "|      320|          1|\n",
      "|        0|          0|\n",
      "|     3407|          1|\n",
      "+---------+-----------+\n",
      "only showing top 10 rows\n",
      "\n"
     ]
    }
   ],
   "source": [
    "# Reemplazamos los null en los campos ViewCount y AnswerCount\n",
    "dfSE.select(\"ViewCount\", \"AnswerCount\").show(10)\n",
    "dfSE: DataFrame = dfSE.fillna(0, subset=[\"ViewCount\", \"AnswerCount\"])\n",
    "dfSE.select(\"ViewCount\", \"AnswerCount\").show(10)"
   ]
  },
  {
   "cell_type": "code",
   "execution_count": 54,
   "metadata": {
    "autoscroll": "auto"
   },
   "outputs": [
    {
     "name": "stdout",
     "output_type": "stream",
     "text": [
      "+---+----------------+\n",
      "| Id|AcceptedAnswerId|\n",
      "+---+----------------+\n",
      "|  1|               2|\n",
      "|  2|            NULL|\n",
      "|  3|               9|\n",
      "|  4|            NULL|\n",
      "|  5|             208|\n",
      "|  6|             654|\n",
      "|  7|            NULL|\n",
      "|  8|             442|\n",
      "|  9|            NULL|\n",
      "| 10|              11|\n",
      "+---+----------------+\n",
      "only showing top 10 rows\n",
      "\n",
      "+----+----------------+\n",
      "|  Id|AcceptedAnswerId|\n",
      "+----+----------------+\n",
      "|   1|               2|\n",
      "|   2|            NULL|\n",
      "|   3|            3000|\n",
      "|   4|            NULL|\n",
      "|   5|             208|\n",
      "|   6|             654|\n",
      "|   7|            NULL|\n",
      "|   8|             442|\n",
      "|3000|            NULL|\n",
      "|  10|              11|\n",
      "+----+----------------+\n",
      "only showing top 10 rows\n",
      "\n"
     ]
    }
   ],
   "source": [
    "# Reemplaza el valor 9 por 3000 en las columnas \"Id\" y \"AcceptedAnswerId\"\n",
    "dfSE.select(\"Id\", \"AcceptedAnswerId\").show(10)\n",
    "dfSE.replace(9, 3000, subset=[\"Id\", \"AcceptedAnswerId\"])\\\n",
    "    .select(\"Id\", \"AcceptedAnswerId\")\\\n",
    "    .show(10)"
   ]
  },
  {
   "cell_type": "markdown",
   "metadata": {},
   "source": [
    "# Guardando DataFrames\n",
    "\n",
    "Al igual que con la lectura, Spark puede guardar los DataFrames en múltiples formatos\n",
    "\n",
    "- CSV, JSON, Parquet, Hadoop...\n",
    "\n",
    "También puede escribir en bases de datos"
   ]
  },
  {
   "cell_type": "code",
   "execution_count": 55,
   "metadata": {
    "autoscroll": "auto"
   },
   "outputs": [
    {
     "name": "stderr",
     "output_type": "stream",
     "text": [
      "                                                                                \r"
     ]
    }
   ],
   "source": [
    "# Guardo el DataFrame dfSE en formato JSON\n",
    "dfSE.write.format(\"json\")\\\n",
    "    .mode(\"overwrite\")\\\n",
    "    .save(\"dfSE.json\")"
   ]
  },
  {
   "cell_type": "code",
   "execution_count": 56,
   "metadata": {
    "format": "text/plain",
    "vscode": {
     "languageId": "shellscript"
    }
   },
   "outputs": [
    {
     "name": "stdout",
     "output_type": "stream",
     "text": [
      "total 1842176\n",
      "-rw-r--r--  1 luisi  staff     0B Nov 12 16:37 _SUCCESS\n",
      "-rw-r--r--  1 luisi  staff   108M Nov 12 16:37 part-00000-4651a142-8d75-4646-82a7-7ff77757c3bf-c000.json\n",
      "-rw-r--r--  1 luisi  staff   107M Nov 12 16:37 part-00001-4651a142-8d75-4646-82a7-7ff77757c3bf-c000.json\n",
      "-rw-r--r--  1 luisi  staff   107M Nov 12 16:37 part-00002-4651a142-8d75-4646-82a7-7ff77757c3bf-c000.json\n",
      "-rw-r--r--  1 luisi  staff   107M Nov 12 16:37 part-00003-4651a142-8d75-4646-82a7-7ff77757c3bf-c000.json\n",
      "-rw-r--r--  1 luisi  staff   107M Nov 12 16:37 part-00004-4651a142-8d75-4646-82a7-7ff77757c3bf-c000.json\n",
      "-rw-r--r--  1 luisi  staff   107M Nov 12 16:37 part-00005-4651a142-8d75-4646-82a7-7ff77757c3bf-c000.json\n",
      "-rw-r--r--  1 luisi  staff   107M Nov 12 16:37 part-00006-4651a142-8d75-4646-82a7-7ff77757c3bf-c000.json\n",
      "-rw-r--r--  1 luisi  staff   102M Nov 12 16:37 part-00007-4651a142-8d75-4646-82a7-7ff77757c3bf-c000.json\n",
      "==> dfSE.json/part-00000-4651a142-8d75-4646-82a7-7ff77757c3bf-c000.json <==\n",
      "{\"Id\":1,\"AcceptedAnswerId\":2,\"AnswerCount\":1,\"Body\":\"<p>Estoy creando un servicio usando <em>ASP.NET WebApi</em>. Quiero añadir soporte para la negociación del tipo de contenido basado en extensiones en el <em>URI</em>, así que he añadido lo siguiente al código de inicialización del servicio:</p><br/><br/><pre><code>public static class WebApiConfig<br/>{<br/>  public static void Register(HttpConfiguration config)<br/>  {<br/>    config.Formatters.JsonFormatter.AddUriPathExtensionMapping(\\\"json\\\", \\\"application/json\\\");<br/>    config.Formatters.XmlFormatter.AddUriPathExtensionMapping(\\\"xml\\\", \\\"application/xml\\\");<br/>  }<br/>}<br/></code></pre><br/><br/><p>Para que esto funcione necesito crear dos rutas para cada acción del controlador (estoy usando exclusivamente enrutamiento basado en atributos):</p><br/><br/><pre><code>[Route(\\\"item/{id}/details\\\")]<br/>[Route(\\\"item/{id}/details.{ext}\\\")]<br/>[HttpGet]<br/>public ItemDetail[] GetItemDetails(int id)<br/>{<br/>  return itemsService.GetItemDetails(id);<br/>}<br/><br/>[Route(\\\"item/{name}\\\")]<br/>[Route(\\\"item/{name}.{ext}\\\")]<br/>[HttpPost]<br/>public int CreateItem(string name)<br/>{<br/>  return itemsService.Create(name);<br/>}<br/></code></pre><br/><br/><p>Esto queda feo y hace que el código sea innecesariamente largo, así que investigué una forma de añadir la ruta con la extensión, automáticamente cuando se crea la ruta normal. Como resultado desarrollé una implementación personalizada de <code>IDirectRouteProvider</code> que puedo usar al registrar los atributos de ruta:</p><br/><br/><pre><code>config.MapHttpAttributeRoutes(new AutomaticExtensionRouteProvider());<br/></code></pre><br/><br/><p>El código del proveedor personalizado es:</p><br/><br/><pre><code>public class AutomaticExtensionRouteProvider : DefaultDirectRouteProvider<br/>{<br/>    protected override IReadOnlyList<RouteEntry> GetActionDirectRoutes(<br/>      HttpActionDescriptor actionDescriptor,<br/>      IReadOnlyList<IDirectRouteFactory> factories,<br/>      IInlineConstraintResolver constraintResolver)<br/>    {<br/>        var result = base.GetActionDirectRoutes(actionDescriptor, factories, constraintResolver);<br/>        var list = new List<RouteEntry>(result);<br/>        foreach(var route in result.Where(r => !r.Route.RouteTemplate.EndsWith(\\\".{ext}\\\")))<br/>        {<br/>            var newTemplate = route.Route.RouteTemplate + \\\".{ext}\\\";<br/>            if (!result.Any(r => r.Route.RouteTemplate == newTemplate))<br/>            {<br/>                var entry = new RouteEntry(null, new HttpRoute(newTemplate,<br/>                    new HttpRouteValueDictionary(route.Route.Defaults),<br/>                    new HttpRouteValueDictionary(route.Route.Constraints),<br/>                    new HttpRouteValueDictionary(route.Route.DataTokens)));<br/>                list.Add(entry);<br/>            }<br/>        }<br/>        return list.AsReadOnly();<br/>    }<br/>}<br/></code></pre><br/><br/><p>El problema es que esto funciona bien, pero falla en un caso: <strong>Cuando la última parte de la ruta es un parámetro sin restricciones</strong>. Así pues, en el ejemplo anterior, la creación de rutas para <code>GetItemDetails</code> funciona, pero para <code>CreateItem</code> lanza lo siguiente:</p><br/><br/><pre><code>System.InvalidOperationException: Multiple actions were found that match the request: <br/>CreateItem on type FooBar.Api.Controllers.ItemsController<br/>CreateItem on type FooBar.Api.Controllers.ItemsController<br/>   at System.Web.Http.Controllers.ApiControllerActionSelector.ActionSelectorCacheItem.SelectAction(HttpControllerContext controllerContext)<br/>   at System.Web.Http.Controllers.ApiControllerActionSelector.SelectAction(HttpControllerContext controllerContext)<br/></code></pre><br/><br/><p>Me imagino de dónde puede venir el problema: Una cadena arbitraria cumple los patrones <code>{name}</code> y <code>{name}.{ext}</code>, por lo que el motor de <em>WebApi</em> se confunde al intentar seleccionar la ruta adecuada. <strong>Pero entonces, ¿Por qué funciona cuando se especifican las dos rutas explícitamente en atributos?</strong> Por lo que yo entiendo, la ruta que yo creo en la clase <code>AutomaticExtensionRouteProvider</code> es idéntica a la que se crea explícitamente con un atributo (y si depuro veo que en efecto así es).</p><br/><br/><p>Así pues, ¿Qué está pasando aquí?</p><br/>\",\"CommentCount\":2,\"ContentLicense\":\"CC BY-SA 4.0\",\"Fecha_de_creación\":\"2015-10-29T15:56:52.933+01:00\",\"LastActivityDate\":\"2021-03-12T17:49:40.687+01:00\",\"LastEditDate\":\"2019-07-07T21:36:17.737+02:00\",\"LastEditorDisplayName\":\"user13558\",\"OwnerUserId\":23,\"PostTypeId\":1,\"Score\":40,\"Tags\":\"<.net><asp.net-web-api><asp.net>\",\"Title\":\"La creación manual de un alias de ruta con un DirectRouteProvider personalizado causa un error \\\"Multiple actions were found that match the request\\\"\",\"ViewCount\":780}\n",
      "{\"Id\":2,\"AnswerCount\":0,\"Body\":\"<p>He encontrado la solución.</p><br/><br/><p>Resulta que las rutas tienen asignada una <strong>precedencia</strong> numérica asignada, que el motor de enrutamiento de WebApi usa para decidir qué ruta usar en caso de conflicto. Las rutas creadas automáticamente para una misma acción siempre tienen una precedencia distinta, ¡pero la ruta que yo estaba creando manualmente tenía la misma precedencia que la ya existente!</p><br/><br/><p>Así pues la solución es añadir lo siguiente a <code>GetActionDirectRoutes</code>, inmediatamente después de <code>new RouteEntry</code>:</p><br/><br/><pre><code>entry.Route.DataTokens[\\\"precedence\\\"] = <br/>    ((decimal)route.Route.DataTokens[\\\"precedence\\\"]) - 0.1M;<br/></code></pre><br/>\",\"CommentCount\":2,\"ContentLicense\":\"CC BY-SA 3.0\",\"Fecha_de_creación\":\"2015-10-29T19:14:23.673+01:00\",\"LastActivityDate\":\"2015-10-29T19:14:23.673+01:00\",\"OwnerUserId\":23,\"ParentId\":1,\"PostTypeId\":2,\"Score\":31,\"ViewCount\":0}\n",
      "{\"Id\":3,\"AcceptedAnswerId\":9,\"AnswerCount\":3,\"Body\":\"<p>Luego de ver cierto código, me he dado cuenta que utilizan este estilo:</p><br/><br/><pre><code>aStr:=tblAcct.FieldByName('Name').Text;<br/></code></pre><br/><br/><p>Parece trabajar bien, pero yo había utilizado hasta ahora:</p><br/><br/><pre><code>aStr:=tblAcct.FieldByName('Name').AsString;<br/></code></pre><br/><br/><p>He utilizado ambos al cargar un TMemo y no parece haber diferencia alguna.</p><br/><br/><pre><code>aMemo.Lines.Text:=tblAcct.FieldByName('History').Text;<br/>aMemo.Lines.Text:=tblAcct.FieldByName('History').AsString;<br/></code></pre><br/><br/><p>¿Hay alguna razón por la que deba utilizar una y no la otra? ¿Cuál es esa razón?</p><br/><br/><p>Normalmente, para un memo, utilizo:</p><br/><br/><pre><code>aMemo.Lines.Assign(tblAcct.FieldByName('History'))<br/></code></pre><br/><br/><p>Y esto trabaja bien también.</p><br/>\",\"CommentCount\":1,\"ContentLicense\":\"CC BY-SA 3.0\",\"Fecha_de_creación\":\"2015-10-29T23:54:31.947+01:00\",\"LastActivityDate\":\"2015-12-18T20:19:25.133+01:00\",\"LastEditDate\":\"2015-12-03T16:24:56.370+01:00\",\"LastEditorUserId\":20,\"OwnerUserId\":21,\"PostTypeId\":1,\"Score\":20,\"Tags\":\"<delphi>\",\"Title\":\"¿Es igual utilizar .AsString que .Text para obtener el valor de un campo de un DataSet?\",\"ViewCount\":1035}\n",
      "{\"Id\":4,\"AnswerCount\":0,\"Body\":\"<p><code>.AsString</code> devuelve el mismo \\\"<em>string</em>\\\" que la propiedad <code>.Text</code> si no existe ningún controlador de eventos \\\"Event Handler\\\", <code>OnGetText</code>, pero de existir uno puede darse el caso de ser diferente, o quizás un descendiente en <code>TField</code> que no sea el estándar podría ocasionar que fuera diferente.</p><br/><br/><p>Saludos y espero ayude.</p><br/><br/><p>P.D: Sobre si hay una razón para usar una u otra no sabría decirle con total certeza eso dependería del uso que tenga previsto para el valor de retorno.</p><br/>\",\"CommentCount\":0,\"ContentLicense\":\"CC BY-SA 3.0\",\"Fecha_de_creación\":\"2015-10-30T00:45:47.640+01:00\",\"LastActivityDate\":\"2015-12-14T00:58:15.613+01:00\",\"LastEditDate\":\"2015-12-14T00:58:15.613+01:00\",\"LastEditorUserId\":25,\"OwnerUserId\":24,\"ParentId\":3,\"PostTypeId\":2,\"Score\":6,\"ViewCount\":0}\n",
      "{\"Id\":5,\"AcceptedAnswerId\":208,\"AnswerCount\":7,\"Body\":\"<p>¿Cuál es la forma más eficiente de separar un string en <code>c++</code>? como el que se muestra en el código, el cual contiene espacios entre las palabras, este es el método que yo estoy usando actualmente.</p><br/><br/><pre><code>#include <iostream><br/>#include <sstream><br/><br/>int main(int argc, char** argv){<br/><br/>    std::string str(\\\"Texto para dividir\\\");<br/>    std::istringstream isstream(str);<br/><br/>    while(!isstream.eof()){<br/><br/>        std::string tempStr;<br/><br/>        isstream >> tempStr;<br/><br/>        std::cout << tempStr << std::endl;<br/>    }<br/><br/>    return 0;<br/>}<br/></code></pre><br/>\",\"CommentCount\":1,\"ContentLicense\":\"CC BY-SA 3.0\",\"Fecha_de_creación\":\"2015-10-30T01:15:27.267+01:00\",\"LastActivityDate\":\"2020-06-30T02:23:26.197+02:00\",\"LastEditDate\":\"2016-09-27T17:46:24.900+02:00\",\"LastEditorUserId\":729,\"OwnerUserId\":24,\"PostTypeId\":1,\"Score\":37,\"Tags\":\"<c++><string>\",\"Title\":\"¿Cómo separar las palabras que contiene un string en C++? 'Split '\",\"ViewCount\":37867}\n",
      "{\"Id\":6,\"AcceptedAnswerId\":654,\"AnswerCount\":2,\"Body\":\"<p>¿Cómo estar seguro o qué pautas seguir a la hora de usar los moldes explícitos  en <code>C++</code>?</p><br/><br/><p>Por lo que entiendo al usar los <code>moldes</code> le estamos pidiendo al compilador que pase de la comprobación de tipos, y eso no creo que sea muy bueno si uno no sabe exactamente qué molde usar. Por eso quería saber qué guías usan o cosas a tener en cuenta para decidirse por un tipo de molde u otro a la hora de modelar los datos, para determinadas situaciones, y así saber cuándo es seguro usar uno u otro.</p><br/><br/><ol><br/><li><code>const_cast</code></li><br/><li><code>static_cast</code></li><br/><li><code>dynamic_cast</code></li><br/><li><code>reinterpret_cast</code></li><br/></ol><br/>\",\"CommentCount\":0,\"ContentLicense\":\"CC BY-SA 3.0\",\"Fecha_de_creación\":\"2015-10-30T01:36:21.210+01:00\",\"LastActivityDate\":\"2018-12-13T13:36:25.260+01:00\",\"LastEditDate\":\"2015-12-14T01:05:54.117+01:00\",\"LastEditorUserId\":100,\"OwnerUserId\":24,\"PostTypeId\":1,\"Score\":27,\"Tags\":\"<c++><casting>\",\"Title\":\"¿Cuándo usar y es seguro emplear const_cast, static_cast, dynamic_cast, reinterpret_cast?\",\"ViewCount\":3291}\n",
      "{\"Id\":7,\"AnswerCount\":0,\"Body\":\"<p>Lo de elegancia es algo difícil de decir, es cuestión de gustos. Pero la legibilidad del código siempre es importante. Por eso, este código se puede simplificar así: (a mi me parece más legible)</p><br/><br/><pre><code>std::string tempStr;<br/>while(isstream >> tempStr) {<br/>    std::cout << tempStr << std::endl;<br/>}<br/></code></pre><br/><br/><p>Con lo cual, metiendo todo en una función quedaría algo así:</p><br/><br/><pre><code>std::vector<std::string> split_istringstream(std::string str) {<br/>    std::vector<std::string> resultado;<br/>    std::istringstream isstream(str);<br/>    std::string palabra;<br/><br/>    while(isstream >> palabra){<br/>        resultado.push_back(palabra);<br/>    }<br/><br/>    return resultado;<br/>}<br/></code></pre><br/><br/><p>Otra alternativa, que incluso permite definir el delimitador (el operador >> de <code>istringstream</code> solo divide la cadena por los espacios - ASCII 32) es utilizar <a href=\\\"http://es.cppreference.com/w/cpp/string/basic_string/getline\\\" rel=\\\"noreferrer\\\">std::getline</a>. </p><br/><br/><pre><code>std::vector<std::string> split_getline(std::string str, char delim) {<br/>    std::vector<std::string> resultado;<br/>    std::istringstream isstream(str);<br/>    std::string palabra;<br/><br/>    while(std::getline(isstream, palabra, delim)){<br/>        resultado.push_back(palabra);<br/>    }<br/><br/>    return resultado;<br/>}<br/></code></pre><br/><br/><p>Aquí abajo te dejo una comparativa entre ambas opciones, son prácticamente iguales en eficiencia, dejando de un lado los vectores, reservan prácticamente la misma memoria.</p><br/><br/><p><a href=\\\"http://cpp.sh/3jtw\\\" rel=\\\"noreferrer\\\">http://cpp.sh/3jtw</a></p><br/>\",\"CommentCount\":0,\"ContentLicense\":\"CC BY-SA 3.0\",\"Fecha_de_creación\":\"2015-10-30T05:30:50.993+01:00\",\"LastActivityDate\":\"2017-03-04T04:16:19.167+01:00\",\"LastEditDate\":\"2017-03-04T04:16:19.167+01:00\",\"LastEditorUserId\":29967,\"OwnerUserId\":25,\"ParentId\":5,\"PostTypeId\":2,\"Score\":29,\"ViewCount\":0}\n",
      "{\"Id\":8,\"AcceptedAnswerId\":442,\"AnswerCount\":1,\"Body\":\"<p>Para un proyecto web en el que estoy participando usamos el componente <a href=\\\"http://angular-ui.github.io/angular-google-maps\\\" rel=\\\"noreferrer\\\">Angular Google Maps</a>. Este es el código <code>JavaScript</code> que hace referencia al componente y lo inicializa:</p><br/><br/><pre><code>var configureGoogleMaps = function(uiGmapGoogleMapApiProvider) {<br/>    uiGmapGoogleMapApiProvider.configure({<br/>        libraries: 'geometry,visualization'<br/>    });<br/>}<br/>configureGoogleMaps.$inject = ['uiGmapGoogleMapApiProvider'];<br/><br/>angular<br/>    .module('shTools.Map', ['uiGmapgoogle-maps'])<br/>    .directive('map', mapDirective)<br/>    .config(configureGoogleMaps);<br/></code></pre><br/><br/><p>donde <code>mapDirective</code> define un elemento HTML que contiene el componente de Google Maps.</p><br/><br/><p>Esto está funcionando como se espera. El problema es que cuando ejecuto un simple test usando <code>Jasmine</code> con <code>Karma</code>, obtengo el error <code>Unknown provider: uiGmapGoogleMapApiProvider</code>. Por alguna razón no está siendo capaz de encontrar el proveedor.</p><br/><br/><p>He intentado crear un <code>mock</code> para forzar la creación de un proveedor con ese nombre, pero no ha funcionado:</p><br/><br/><pre><code>angular.module('uiGmapgoogle-maps', [])<br/>    .value('uiGmapGoogleMapApiProvider', {<br/>        configure: function() {}<br/>    });<br/></code></pre><br/><br/><p>¿Qué podría estar pasando aquí?</p><br/>\",\"CommentCount\":1,\"ContentLicense\":\"CC BY-SA 3.0\",\"Fecha_de_creación\":\"2015-10-30T10:26:44.223+01:00\",\"LastActivityDate\":\"2016-09-30T07:45:48.177+02:00\",\"LastEditDate\":\"2015-12-03T15:38:34.307+01:00\",\"LastEditorUserId\":95,\"OwnerUserId\":23,\"PostTypeId\":1,\"Score\":14,\"Tags\":\"<google-maps><angularjs><jasmine><karma-jasmine>\",\"Title\":\"\\\"Unknown provider: uiGmapGoogleMapApiProvider\\\" al probar con Jasmine código que usa el componente de Google Maps para AngularJS\",\"ViewCount\":320}\n",
      "{\"Id\":9,\"AnswerCount\":0,\"Body\":\"<p>Antes de responder directamente la respuesta, hablaremos de las propiedades relevantes de TField y sus descendientes.</p><br/><br/><h1><code>Text</code>/<code>DisplayText</code></h1><br/><br/><p>Ambas propiedades sirven para obtener una representación textual del valor del campo para su uso en la Interfaz de Usuario. <br/>El propósito de la propiedad <code>Text</code> es el de obtener una representación textual del campo cuándo está siendo editado en un control asociado a datos (Data Aware), en contraste con la propiedad <code>DisplayText</code> que proporciona el valor del campo con formato de visualización para el usuario, por ejemplo, puede contener caracteres de puntuación u otra decoración al valor plano. (1234.50 en contraste con 1,234.50).</p><br/><br/><p>En otras palabras, un <code>TdbEdit</code> o controles similares, mostrarán el valor de <code>DisplayText</code> cuándo no están siendo editados, y al recibir el foco, cambiarán el valor al de la propiedad <code>Text</code> y es este valor el que el usuario \\\"edita\\\". Un TdbLabel solamente tira de la propiedad <code>DisplayText</code>, ya que no es editable.</p><br/><br/><p>La documentación para <code>Text</code> dice:</p><br/><br/><blockquote><br/>  <p>Contains the string to display in a data-aware control when the field is in edit mode</p><br/></blockquote><br/><br/><p>Un ejemplo típico es un <code>TFloatField</code> con la propiedad <code>Currency</code> establecida a <code>True</code>. La propiedad DisplayText te devuelve el string con el número conteniendo separadores de miles, el separador decimal y el símbolo de la moneda. La propiedad Text, te devuelve una cadena que no contiene separadores de miles ni símbolo de moneda.</p><br/><br/><pre><code>begin<br/>  MyFloatField.Currency := True;<br/>  MyFloatField.AsFloat := 1234.56;<br/>  A := MyFloatField.Text; //'1234.56'<br/>  B := MyFloatField.DisplayText; //'$1,234.56', depends on your locale<br/>  ShowMessage(A + #13 + B);<br/>end;<br/></code></pre><br/><br/><p>El comportamiento de ambas propiedades puede ser personalizado escribiendo un manejador de eventos para <code>OnGetText</code>, dónde se puede escribir la lógica para convertir el valor del campo en una de ambas representaciones textuales. El parámetro booleano <code>DisplayText</code> indica si la cadena solicitada es para representar el valor en la interfaz de usuario o para edición. </p><br/><br/><p>De esta manera, podemos lograr que la representación en la interfaz de usuario para un campo entero con valor 1 sea 'uno', y su valor para edición sea 'one'</p><br/><br/><h1><code>AsString</code></h1><br/><br/><p>Por otro lado, la propiedad AsString utiliza una conversión plana entre el tipo de dato base del campo y una cadena de caracteres. Cada descendiente de <code>TField</code> implementa el método virtual <code>GetAsString</code> que típicamente utiliza funciones de la RTL para realizar la conversión. Siguiendo con el ejemplo de TFloatField, esta clase llama a la función FloatToStr() para realizar la conversión.</p><br/><br/><h1>La respuesta</h1><br/><br/><p>Dicho todo esto, la respuesta a la pregunta sería:</p><br/><br/><p>AsString retorna usualmente el mismo valor que retorna la propiedad Text, siempre que no haya un manejador de evento para OnGetText, pero la representación podría ser diferente si hubiese un manejador de evento o un descendiente no estándar de TField.</p><br/><br/><p>Con la información dada, no puede decirse cuál es más apropiado, ya que esto depende de cuál es el uso que se le dará al valor retornado. Si se está utilizando para mostrar valores en la Interfaz de usuario, como se muestra en los ejemplos de código proporcionados, mi consejo es que utilices la propiedad <code>DisplayText</code>.</p><br/>\",\"CommentCount\":1,\"ContentLicense\":\"CC BY-SA 3.0\",\"Fecha_de_creación\":\"2015-10-30T13:59:47.113+01:00\",\"LastActivityDate\":\"2015-10-30T13:59:47.113+01:00\",\"OwnerUserId\":21,\"ParentId\":3,\"PostTypeId\":2,\"Score\":12,\"ViewCount\":0}\n",
      "{\"Id\":10,\"AcceptedAnswerId\":11,\"AnswerCount\":1,\"Body\":\"<p>Dado el siguiente código en TypeScript</p><br/><br/><pre><code>class Persona {<br/>    constructor(public nombre: string, public apellido: string) {<br/>    }<br/><br/>    nombreCompleto1 = () => {<br/>        return this.nombre + \\\" \\\" + this.apellido;<br/>    }<br/><br/>    nombreCompleto2() {<br/>        return this.nombre + \\\" \\\" + this.apellido;<br/>    }<br/>}<br/><br/>var p = new Persona(\\\"Juan\\\", \\\"Pérez\\\");<br/><br/>console.log(p.nombreCompleto1());<br/>console.log(p.nombreCompleto2());<br/></code></pre><br/><br/><p>Como se puede ver los métodos <code>nombreCompleto1</code> y <code>nombreCompleto2</code> hacen lo mismo pero están declarados ligeramente diferente.</p><br/><br/><p>Al ejecutarlo en los dos casos se obtiene el resultado esperado:</p><br/><br/><pre><br/>Juan Pérez<br/>Juan Pérez<br/></pre><br/><br/><p>¿Cuál es la diferencia entre las dos declaraciones si los dos hacen los mismo y cuál es la forma adecuada de declararlo?</p><br/>\",\"CommentCount\":0,\"ContentLicense\":\"CC BY-SA 3.0\",\"Fecha_de_creación\":\"2015-10-30T14:33:50.523+01:00\",\"LastActivityDate\":\"2019-05-09T17:55:48.290+02:00\",\"LastEditDate\":\"2019-05-09T17:55:48.290+02:00\",\"LastEditorUserId\":20,\"OwnerUserId\":20,\"PostTypeId\":1,\"Score\":28,\"Tags\":\"<typescript>\",\"Title\":\"¿Cómo definir métodos correctamente en TypeScript?\",\"ViewCount\":3407}\n",
      "\n",
      "==> dfSE.json/part-00001-4651a142-8d75-4646-82a7-7ff77757c3bf-c000.json <==\n",
      "{\"Id\":73608,\"AnswerCount\":0,\"Body\":\"<p>Estoy trabajado en poder importar unas filas de un GridView a formato PDF<br><br/>Pero me sale este error:</p><br/><br/><blockquote><br/>  <p>CrystalDecisions.CrystalReports.Engine.ParameterFieldCurrentValueException</p><br/></blockquote><br/><br/><p>Según me dice que es por los parámetros, pero al ver lo que me pide en los parámetros del método le paso los correctos</p><br/><br/><p><a href=\\\"https://i.stack.imgur.com/k1uFa.png\\\" rel=\\\"nofollow noreferrer\\\"><img src=\\\"https://i.stack.imgur.com/k1uFa.png\\\" alt=\\\"introducir la descripción de la imagen aquí\\\"></a></p><br/><br/><p>Este es mi código:  </p><br/><br/><pre><code>foreach (int i in gvDispositivos.GetSelectedRows())<br/>{<br/>    string nombreHojaResguardo = System.IO.Path.GetTempPath() + Guid.NewGuid().ToString() + \\\".pdf\\\";<br/>    ReportDocument Rpt = ImprimirConsentrado(ObtieneConcentrado(i), sDepartamento, sPuesto, sNoEmpleado, sMacAddress);<br/>    Rpt.ExportToDisk(CrystalDecisions.Shared.ExportFormatType.PortableDocFormat, nombreHojaResguardo);<br/>}<br/></code></pre><br/><br/><p><code>gvDispositivos</code> es mi GridView y solo ocupo los renglones que estén seleccionados<br><br/><code>ObtieneConcentrado()</code> es un método que trae los datos del Grid en base a los seleccionados<br><br/><code>ImprimirConsentrado()</code> genera un DataSet con los datos de las filas seleccionadas del Grid</p><br/><br/><p>Y bueno, cuando llega a la parte de exportar me marca el error que menciono al principio</p><br/><br/><p>¿como se soluciona ese error?</p><br/>\",\"CommentCount\":2,\"ContentLicense\":\"CC BY-SA 3.0\",\"Fecha_de_creación\":\"2017-05-26T21:42:24.453+02:00\",\"LastActivityDate\":\"2017-05-26T21:42:24.453+02:00\",\"OwnerUserId\":38595,\"PostTypeId\":1,\"Score\":0,\"Tags\":\"<c#><gridview><crystal-reports>\",\"Title\":\"¿Cómo solucionar error en Crystal Report?\",\"ViewCount\":798}\n",
      "{\"Id\":73609,\"AcceptedAnswerId\":73709,\"AnswerCount\":1,\"Body\":\"<p>Esta pregunta la hago sobretodo para saber sobre decisiones de diseño al crear una librería o una api.</p><br/><br/><p>Me topé con <a href=\\\"https://stackoverflow.com/q/32391406/111110\\\">esta pregunta</a> y parece contraintuitivo para el diseño de la clase <code>SImpleDateFormat</code> porque va como sigue:</p><br/><br/><blockquote><br/>  <p>No arrojaré una IllegalArgumentException Si el formato de fecha que me<br/>  das no tiene letras. Eso significa que aceptaré cualquier cadena con<br/>  símbolos basura y te la retornaré. Si el formato de fecha tiene al<br/>  menos una letra veré si es válido.</p><br/></blockquote><br/><br/><p>Yo esperaría que <code>SimpleDateFormat</code> arrojara una <code>IllegalArgumentException</code> cada vez que un formato de fecha inválido se le pasa a su constructor.<br/>Este es mi código de ejemplo:</p><br/><br/><pre><code>try<br/>{<br/>   String s = new SimpleDateFormat(\\\"34343434\\\").format(new Date());<br/>   System.out.println(s);<br/>} <br/>catch (Exception e) <br/>{<br/>   // no exception<br/>}<br/><br/>try<br/>{<br/>   String s = new SimpleDateFormat(\\\"3434a3434\\\").format(new Date());<br/>   System.out.println(s);<br/>} <br/>catch (Exception e) <br/>{<br/>   // Exception, yay!<br/>}<br/></code></pre><br/><br/><p>¿Por qué <code>Oracle/Sun</code> hizo esta decisión en el diseño de la clase <code>SimpleDateFormat</code>? Es un diseño que parece propenso a generar errores.</p><br/><br/><p>Lo que quisiera saber son las razones detrás de una dunción que se comporta de forma diferente a lo que se esperaeía de forma intuitiva (pensemos el caso de que se está codificando funciones para una librería que se quiere vender).</p><br/><br/><p>Una de las razones podría ser no añadir más complejidad a una función sólo para manejar escenarios que podrían no ocurrir, lo cual significa menor tiempo de entrega.</p><br/>\",\"ClosedDate\":\"2017-05-29T03:41:02.017+02:00\",\"CommentCount\":2,\"ContentLicense\":\"CC BY-SA 3.0\",\"Fecha_de_creación\":\"2017-05-26T21:42:50.003+02:00\",\"LastActivityDate\":\"2017-05-27T14:42:27.830+02:00\",\"LastEditDate\":\"2017-05-27T14:42:27.830+02:00\",\"LastEditorUserId\":2019,\"OwnerUserId\":2019,\"PostTypeId\":1,\"Score\":0,\"Tags\":\"<java><diseño>\",\"Title\":\"¿Por qué SimpleDateFormat acepta cadenas sin letras como un formato de fecha válido?\",\"ViewCount\":100}\n",
      "{\"Id\":73610,\"AnswerCount\":0,\"Body\":\"<pre><code>Matriz p1[crea1][3];<br/></code></pre><br/><br/><p>Efectivamente esto no es legal en C++. Esta declaración se corresponde a un VLA (<strong>V</strong>ariable <strong>L</strong>ength <strong>A</strong>rray), característica contemplada en el estándar de C no así en el de C++.</p><br/><br/><p>Ahora bien, tu alternativa tiene una laguna importante</p><br/><br/><pre><code>double** p1;<br/>p1 = new double *[crea1];<br/>for (i = 0; i < 3; i++)<br/>//              ^ AQUI!!!!<br/>{<br/>    p1[i] = new double[3];<br/>}<br/></code></pre><br/><br/><p>Ese <code>3</code> debería ser <code>crea1</code> ya que como bien has indicado unas pocas líneas atras...</p><br/><br/><pre><code>++crea1; // 3+1=4 <<--- OJO 4, no 3!!!!<br/></code></pre><br/><br/><p>El no inicializar esa cuarta fila es lo que hace que el programa casque aquí:</p><br/><br/><pre><code>//ERROR salta en el compilador aqui<br/>for (i = 0; i<crea1; i++)<br/>{<br/>    escvec(i, DES, aux1);<br/>    sumavector(ptoi, aux1, aux1);<br/>    p1[i][0] = aux1[0]; // <<--- <br/>    p1[i][1] = aux1[1];<br/>    p1[i][2] = aux1[2];<br/>}<br/></code></pre><br/><br/><p>Ya que cuando <code>i==crea1-1==3</code> el programa intenta acceder a un puntero no válido.</p><br/>\",\"CommentCount\":0,\"ContentLicense\":\"CC BY-SA 3.0\",\"Fecha_de_creación\":\"2017-05-26T21:48:16.150+02:00\",\"LastActivityDate\":\"2017-05-26T21:48:16.150+02:00\",\"OwnerUserId\":463,\"ParentId\":73538,\"PostTypeId\":2,\"Score\":1,\"ViewCount\":0}\n",
      "{\"Id\":73611,\"AnswerCount\":0,\"Body\":\"<p>Aquí esta el código de la parte de cliente que te permite usar templates.</p><br/><br/><p>Para el ejemplo use JQuery y JSRender</p><br/><br/><p><div class=\\\"snippet\\\" data-lang=\\\"js\\\" data-hide=\\\"false\\\" data-console=\\\"true\\\" data-babel=\\\"false\\\"><br/><div class=\\\"snippet-code\\\"><br/><pre class=\\\"snippet-code-js lang-js prettyprint-override\\\"><code>var clientesRender = function(data) {<br/>  if (typeof data === \\\"undefined\\\") {<br/>    data = [{<br/>      nombre: 'Jorge',<br/>      telefono: '3057075510'<br/>    }];<br/>  }<br/><br/><br/>  $(\\\"#container\\\").html($(\\\"#templateClientes\\\").render({<br/>    detalle: data<br/>  }));<br/>};<br/><br/>clientesRender();</code></pre><br/><pre class=\\\"snippet-code-html lang-html prettyprint-override\\\"><code><html><br/><br/><head><br/>  <script src=\\\"https://code.jquery.com/jquery-3.2.1.min.js\\\" integrity=\\\"sha256-hwg4gsxgFZhOsEEamdOYGBf13FyQuiTwlAQgxVSNgt4=\\\" crossorigin=\\\"anonymous\\\"></script><br/><br/>  <script src=\\\"https://cdnjs.cloudflare.com/ajax/libs/jsrender/0.9.84/jsrender.min.js\\\"></script><br/></head><br/><br/><body><br/><br/>  <div id=\\\"container\\\"></div><br/><br/>  <script id=\\\"templateClientes\\\" type=\\\"text/x-jsrender\\\"><br/>    <table><br/>      {{for detalle}}<br/>      <tr><br/>        <td><br/>          {{:nombre}}<br/>        </td><br/>      </tr><br/>      <tr><br/>        <td><br/>          {{:telefono}}<br/>        </td><br/>      </tr><br/>      {{/for}}<br/>    </table><br/>  </script><br/></body><br/><br/></html></code></pre><br/></div><br/></div><br/></p><br/><br/><p>Para la parte de servidor implementas un proyecto como Codeigniter (un MVC muy sencillo para iniciar) o sencillamente creas los scripts que retornen la data en formato JSON;</p><br/><br/><p>Aquí te pongo un script de ejemplo en php:</p><br/><br/><pre><code>sql = \\\"SQL\\\" //ejemplo frutería: SELECT id_fruta,nombre_fruta,cantidad FROM tabla_fruta;<br/><br/>function connectDB(){<br/><br/>        $server = \\\"SERVER\\\";<br/>        $user = \\\"USER\\\";<br/>        $pass = \\\"PASS\\\";<br/>        $bd = \\\"BD\\\";<br/><br/>    $conexion = mysqli_connect($server, $user, $pass,$bd);<br/><br/>        if($conexion){<br/>            echo 'La conexion de la base de datos se ha hecho satisfactoriamente<br/>';<br/>        }else{<br/>            echo 'Ha sucedido un error inexperado en la conexion de la base de datos<br/>';<br/>        }<br/><br/>    return $conexion;<br/>}<br/><br/>function disconnectDB($conexion){<br/><br/>    $close = mysqli_close($conexion);<br/><br/>        if($close){<br/>            echo 'La desconexion de la base de datos se ha hecho satisfactoriamente<br/>';<br/>        }else{<br/>            echo 'Ha sucedido un error inexperado en la desconexion de la base de datos<br/>';<br/>        }   <br/><br/>    return $close;<br/>}<br/><br/>function getArraySQL($sql){<br/>    //Creamos la conexión con la función anterior<br/>    $conexion = connectDB();<br/><br/>    //generamos la consulta<br/><br/>        mysqli_set_charset($conexion, \\\"utf8\\\"); //formato de datos utf8<br/><br/>    if(!$result = mysqli_query($conexion, $sql)) die(); //si la conexión cancelar programa<br/><br/>    $rawdata = array(); //creamos un array<br/><br/>    //guardamos en un array multidimensional todos los datos de la consulta<br/>    $i=0;<br/><br/>    while($row = mysqli_fetch_array($result))<br/>    {<br/>        $rawdata[$i] = $row;<br/>        $i++;<br/>    }<br/><br/>    disconnectDB($conexion); //desconectamos la base de datos<br/><br/>    return $rawdata; //devolvemos el array<br/>}<br/><br/>        $myArray = getArraySQL($sql);<br/>        echo json_encode($myArray);<br/>?><br/></code></pre><br/><br/><p>Revisando esta información puedes hacer lo que quieres.</p><br/><br/><p>Saludos,</p><br/>\",\"CommentCount\":0,\"ContentLicense\":\"CC BY-SA 3.0\",\"Fecha_de_creación\":\"2017-05-26T21:50:48.467+02:00\",\"LastActivityDate\":\"2017-05-26T21:50:48.467+02:00\",\"OwnerUserId\":23739,\"ParentId\":73603,\"PostTypeId\":2,\"Score\":0,\"ViewCount\":0}\n",
      "{\"Id\":73612,\"AnswerCount\":0,\"Body\":\"<p>Como te entendí es que cuando tenga el valor de <code>\\\"\\\"</code> lo remplace por <code>\\\"No se encuentra el significado.\\\"</code> si es así puedes recorrer el arreglo y si encuentra uno que lo remplacé de esta forma:</p><br/><br/><pre><code>for ($i=0; $i < count($datos[\\\"significado\\\"]) ; $i++) {<br/>  if($datos[\\\"significado\\\"][$i]==\\\"\\\"){<br/>    $datos[\\\"significado\\\"][$i]=\\\"No se encuentra el significado.\\\";<br/>  }<br/>}<br/></code></pre><br/>\",\"CommentCount\":1,\"ContentLicense\":\"CC BY-SA 3.0\",\"Fecha_de_creación\":\"2017-05-26T21:56:53.040+02:00\",\"LastActivityDate\":\"2017-05-26T21:56:53.040+02:00\",\"OwnerUserId\":41695,\"ParentId\":73598,\"PostTypeId\":2,\"Score\":1,\"ViewCount\":0}\n",
      "{\"Id\":73613,\"AnswerCount\":0,\"Body\":\"<p>Para que el servidor acepte múltiples conexiones lo habitual es seguir una estructura como esta</p><br/><br/><pre><code>while (true) {<br/>   cs = ss.accept();<br/>   Thread hiloParaTratarElCliente = new HiloParaTratarElCliente(cs);<br/>   hiloParaTratarElCliente.start();<br/>}<br/></code></pre><br/><br/><p>Donde HiloParaTratarElCliente sería una clase que herede de Thread y que haga todo lo que tenga que hacer con el socket para tratar con el cliente.</p><br/><br/><pre><code>public class HiloParaTratarElCliente extends Thread {<br/>   Socket cs;<br/>   public HiloParaTratarElCliente (Socket cs) {<br/>       this.cs = cs;<br/>   }<br/>   public void run() {<br/>       salidaCliente = new DataOutputStream(cs.getOutputStream());<br/>       // y el resto de tu codigo<br/>   }<br/>}<br/></code></pre><br/>\",\"CommentCount\":0,\"ContentLicense\":\"CC BY-SA 3.0\",\"Fecha_de_creación\":\"2017-05-26T21:58:46.887+02:00\",\"LastActivityDate\":\"2017-05-26T21:58:46.887+02:00\",\"OwnerUserId\":16996,\"ParentId\":73590,\"PostTypeId\":2,\"Score\":2,\"ViewCount\":0}\n",
      "{\"Id\":73614,\"AnswerCount\":0,\"Body\":\"<p>Esta tarea es la ejecuto en <strong>Linux</strong> para hacer <code>backups</code>:</p><br/><br/><pre><code>#!/bin/bash<br/>directorio=\\\"ruta_del_diretorio\\\"<br/>if [ \\\"$(ls -A $directorio)\\\" ]; then<br/>cp /ruta/al/directorio/origen/* /ruta/al/directorio/destino<br/>fi<br/></code></pre><br/>\",\"CommentCount\":2,\"ContentLicense\":\"CC BY-SA 3.0\",\"Fecha_de_creación\":\"2017-05-26T21:59:50.247+02:00\",\"LastActivityDate\":\"2017-05-27T00:35:50.680+02:00\",\"LastEditDate\":\"2017-05-27T00:35:50.680+02:00\",\"LastEditorUserId\":14963,\"OwnerUserId\":44986,\"ParentId\":73585,\"PostTypeId\":2,\"Score\":-1,\"ViewCount\":0}\n",
      "{\"Id\":73616,\"AnswerCount\":0,\"Body\":\"<p>Lo puedes hacer de dos formas en cuanto a la forma de ejecución:</p><br/><br/><ol><br/><li>Hacer un ciclo que recorrar el array y lo cambie :</li><br/></ol><br/><br/><p><br/><br/><pre><code>    $datos = array(<br/>                                \\\"nombre\\\" => array(\\\"Juan Perez\\\",\\\"Pablo Manrique\\\",\\\"Nancy Peña\\\"),<br/>                                \\\"direccion\\\" => array(\\\"Cra. 45 # 45 -56\\\",\\\"Clle. 23 # 12 -19 Sur\\\",\\\"Av. 34 # 16 -12\\\"),<br/>                                \\\"telefono\\\" => array(\\\"3456789\\\",\\\"3214567\\\",\\\"2135423\\\"),<br/>                                \\\"fecha\\\" => array(\\\"23/12/1997\\\",\\\"12/10/1980\\\",\\\" 07/06/2000\\\"),<br/>                                \\\"color\\\" => array(\\\"Amarillo\\\",\\\"Verde\\\",\\\"Rojo\\\"),<br/>                                \\\"significado\\\" => array(\\\"Riqueza y alegría.\\\",\\\"\\\")<br/>                            );<br/><br/>    for ($i=0;$i<count($datos[\\\"significado\\\"]);++$i) {<br/>            if ($datos[\\\"significado\\\"][$i] == \\\"\\\") {<br/>               $datos[\\\"significado\\\"][$i] = \\\"No se encuentra el significado.\\\";<br/>            }<br/>        }<br/><br/><br/>var_dump($datos[\\\"significado\\\"]);<br/></code></pre><br/><br/><ol start=\\\"2\\\"><br/><li>Una función para cuando lo vayas a pintar, que valide si es blanco lo asigne por defecto.</li><br/></ol><br/><br/><p>Saludos,</p><br/>\",\"CommentCount\":0,\"ContentLicense\":\"CC BY-SA 3.0\",\"Fecha_de_creación\":\"2017-05-26T22:03:47.457+02:00\",\"LastActivityDate\":\"2017-05-26T22:03:47.457+02:00\",\"OwnerUserId\":23739,\"ParentId\":73598,\"PostTypeId\":2,\"Score\":1,\"ViewCount\":0}\n",
      "{\"Id\":73617,\"AnswerCount\":0,\"Body\":\"<p>Al final como nadie me ayudo jaja, no broma. Encontré la respuesta, aunque por lo que entendí hay un par de maneras para resolverlo.</p><br/><br/><p>Sin profundizar mucho, el problema de pasar un objecto de un Actividad a otra (1) a (2), es que se pasan por \\\"valor\\\" y no por \\\"referencia\\\". Es como si tuvieras duplicado el <strong>objeto</strong> y si puedes setear nuevos valores, <strong>pero</strong> solamente servirá para la Actividad android en la que estés.</p><br/><br/><p>Uno puede ocupar parcelable, serialize, crear tu propio hash en json, para pode pasar el objeto como tal y no campo por campo. Pero el problema es el mismo.</p><br/><br/><p>La manera que yo encontré para poder actualizar mi lista desde otra actividad fue:</p><br/><br/><p><strong>1.</strong> <em>En tu primera actividad ocupar <strong>startActivityForResult</em></strong></p><br/><br/><pre><code>Intent i = new Intent(getApplicationContext(), MyClassActivity.class);<br/>i.putExtra(\\\"myActivity\\\", myActivity);<br/>startActivityForResult(i,1);<br/></code></pre><br/><br/><p>Donde el primer parámetro es el intento y el segundo es un valor de <strong>petición</strong>, tu le dices a la segunda actividad android, en mi caso,  <strong>MyClassActivity</strong> que tiene una petición con valor 1, este valor debe ser entero y tu lo defines ej: 500, 6600, 2, 3, 4.</p><br/><br/><p><strong>2.</strong> <em>En tu segunda actividad, recibir el intento como siempre</em></p><br/><br/><pre><code>Intent i = getIntent();<br/>myActivity = i.getExtras().getParcelable(\\\"myActivity\\\");<br/></code></pre><br/><br/><p><strong>3.</strong> <em>En mi caso necesitaba devolver o setear el objeto de mi primera actividad, cuando retrocediera con el botón de volver del celular o de la app</em></p><br/><br/><pre><code>@Override<br/>public void onBackPressed()<br/>{<br/>    Intent intent = new Intent();<br/>    intent.putExtra(\\\"IsAccomplished\\\", myActivity.getIsAccomplished());<br/>    setResult(RESULT_OK, intent);<br/>    finish();<br/><br/>    super.onBackPressed();<br/>}<br/></code></pre><br/><br/><p>Creas un intento, le dices que vas a pasar un valor, en mi caso <strong>IsAccomplished</strong> y le digo que esta OK con <strong>RESULT_OK</strong></p><br/><br/><p><strong>4.</strong> <em>Por último recibir la respuesta en tu primera actividad</em></p><br/><br/><pre><code>// This method is called when the second activity finishes<br/>@Override<br/>protected void onActivityResult(int requestCode, int resultCode, Intent data) {<br/>    super.onActivityResult(requestCode, resultCode, data);<br/><br/>    // check that it is the SecondActivity with an OK result<br/>    if (requestCode == 1) {<br/>        if (resultCode == RESULT_OK) {<br/><br/>            // get String data from Intent<br/>            Integer IsAccomplished = data.getIntExtra(\\\"IsAccomplished\\\", 0);<br/><br/>            myActivity.setIsAccomplished(IsAccomplished);<br/>        }<br/>    }<br/>}<br/></code></pre><br/><br/><p>Resumiendo, <strong>requestCode</strong> es el valor 1 que pasamos en la primera actividad hacia la segunda.<br/><strong>resultCode</strong>, es el valor de respuesta que le damos.<br/><strong>data</strong>, tiene todos los valores agregados con putExtra, pueden ser uno o mas o ninguno.</p><br/><br/><p><em>Para mi problema en particular que yo quería actualizar una imagen en mi lista expandible, en la función <strong>onResume</strong> de mi primera actividad agregue lo siguiente:</em></p><br/><br/><pre><code>@Override<br/>public void onResume()<br/>{<br/>    super.onResume();<br/>    if( listAdapter != null )<br/>    {<br/>        listAdapter.notifyDataSetChanged();<br/>    }<br/>}<br/></code></pre><br/><br/><p>Con esto le dije, cuando exista el adaptador (se crea en onCreate), al volver de la segunda actividad a la primera (esta queda en background y se reanuda en onResume), le digo con <strong>notifyDataSetChanged</strong>, que si hay un cambio actualice.</p><br/><br/><p><em>Agregar a tu archivo de manifiesto:</em></p><br/><br/><pre><code><uses-permission android:name=\\\"android.permission.WRITE_EXTERNAL_STORAGE\\\" /><br/></code></pre><br/><br/><p>Ya que en algunas tablets y celulares, intentan acceder a memoria usb ya sea por SDcard u otro dispositivo y si no lo tienes, se cae la app.</p><br/><br/><p>Aca la documentación: <a href=\\\"https://developer.android.com/reference/android/Manifest.permission.html#WRITE_EXTERNAL_STORAGE\\\" rel=\\\"nofollow noreferrer\\\">https://developer.android.com/reference/android/Manifest.permission.html#WRITE_EXTERNAL_STORAGE</a></p><br/><br/><p>En mi adaptador cuando el campo IsAccomplished = 1, agrega una imagen con un \\\"check\\\", si es 0, agrega una imagen con un círculo SIN \\\"check\\\".</p><br/><br/><p>Vi varias soluciones posibles y esta se adapta a mis necesidades, sin tener que estudiar mucho, ocupo funciones que están en android y ademas si por alguna razón el dispositivo donde corra tu app ocupa muchos recursos, si la app necesita liberar memoria u otra cosa, este lo hace automáticamente sin que te arroje algún error, como te podría pasar si quisieras ocupar un modelo estático como \\\"objeto\\\".</p><br/><br/><p><strong>Si alguien quiere aportar mas, con gusto se editara la respuesta y se pueden agregar tips, ya que pase mucho tiempo en esto y no es divertido</strong></p><br/><br/><p>Para mas información pueden revisar buscando en stackoverflow con la palabra \\\"startActivityForResult\\\" y en la documentación de android<br/><a href=\\\"https://developer.android.com/training/basics/intents/result.html?hl=es\\\" rel=\\\"nofollow noreferrer\\\">https://developer.android.com/training/basics/intents/result.html?hl=es</a></p><br/>\",\"CommentCount\":0,\"ContentLicense\":\"CC BY-SA 3.0\",\"Fecha_de_creación\":\"2017-05-26T22:09:48.397+02:00\",\"LastActivityDate\":\"2017-05-26T22:20:32.420+02:00\",\"LastEditDate\":\"2017-05-26T22:20:32.420+02:00\",\"LastEditorUserId\":22876,\"OwnerUserId\":22876,\"ParentId\":73232,\"PostTypeId\":2,\"Score\":0,\"ViewCount\":0}\n",
      "{\"Id\":73618,\"AnswerCount\":0,\"Body\":\"<p>Tal vez te sirva el siguiente link:<br/><a href=\\\"https://www.speedguide.net/articles/how-to-backup-using-batch-files-1547\\\" rel=\\\"nofollow noreferrer\\\">https://www.speedguide.net/articles/how-to-backup-using-batch-files-1547</a></p><br/><br/><p>Tiene un ejemplo de código:</p><br/><br/><pre><code>@echo off<br/>:: variables<br/>set drive=G:\\\\Backup<br/>set backupcmd=xcopy /s /c /d /e /h /i /r /y<br/><br/>echo ### Backing up My Documents...<br/>%backupcmd% \\\"%USERPROFILE%\\\\My Documents\\\" \\\"%drive%\\\\My Documents\\\"<br/><br/>echo ### Backing up Favorites...<br/>%backupcmd% \\\"%USERPROFILE%\\\\Favorites\\\" \\\"%drive%\\\\Favorites\\\"<br/><br/>echo ### Backing up email and address book (Outlook Express)...<br/>%backupcmd% \\\"%USERPROFILE%\\\\Application Data\\\\Microsoft\\\\Address Book\\\" \\\"%drive%\\\\Address Book\\\"<br/>%backupcmd% \\\"%USERPROFILE%\\\\Local Settings\\\\Application Data\\\\Identities\\\" \\\"%drive%\\\\Outlook Express\\\"<br/><br/>echo ### Backing up email and contacts (MS Outlook)...<br/>%backupcmd% \\\"%USERPROFILE%\\\\Local Settings\\\\Application Data\\\\Microsoft\\\\Outlook\\\" \\\"%drive%\\\\Outlook\\\"<br/><br/>echo ### Backing up the Registry...<br/>if not exist \\\"%drive%\\\\Registry\\\" mkdir \\\"%drive%\\\\Registry\\\"<br/>if exist \\\"%drive%\\\\Registry\\\\regbackup.reg\\\" del \\\"%drive%\\\\Registry\\\\regbackup.reg\\\"<br/>regedit /e \\\"%drive%\\\\Registry\\\\regbackup.reg\\\"<br/><br/>:: use below syntax to backup other directories...<br/>:: %backupcmd% \\\"...source directory...\\\" \\\"%drive%\\\\...destination dir...\\\"<br/><br/>echo Backup Complete!<br/>@pause<br/></code></pre><br/>\",\"CommentCount\":0,\"ContentLicense\":\"CC BY-SA 3.0\",\"Fecha_de_creación\":\"2017-05-26T22:09:51.043+02:00\",\"LastActivityDate\":\"2017-05-26T22:09:51.043+02:00\",\"OwnerUserId\":43198,\"ParentId\":73585,\"PostTypeId\":2,\"Score\":1,\"ViewCount\":0}\n",
      "\n",
      "==> dfSE.json/part-00002-4651a142-8d75-4646-82a7-7ff77757c3bf-c000.json <==\n",
      "{\"Id\":148500,\"AnswerCount\":0,\"Body\":\"<p>En el siguiente código tienes dos hilos trabajando alternado, en ese ejemplo protegiendo un recurso compartido. <br/>Mas ejemplos y esa puedes encontrar en <br/><a href=\\\"http://www.impostorprogrammer.com/articles/modern_cpp/condition_variable_es.html\\\" rel=\\\"nofollow noreferrer\\\">mi articulo sobre condition_variable</a></p><br/><br/><pre><code>std::mutex alternateThreadsMutex;<br/>std::condition_variable runThread1condition;<br/>std::atomic<bool> runThread1 = false;<br/>std::atomic<bool> runThread2 = false;<br/>std::condition_variable runThread2condition;<br/>std::vector<int> threadWork;<br/><br/>void thread1()<br/>{<br/>    while (true)<br/>    {<br/>        std::unique_lock<std::mutex> lock(alternateThreadsMutex);<br/>        runThread1condition.wait(lock, []() { return runThread1.load(); });<br/>        auto workSize = threadWork.size();<br/>        if (workSize < 1000)<br/>            threadWork.push_back(1);<br/><br/>        runThread1 = false;<br/>        runThread2 = true;<br/>        lock.unlock();<br/><br/>        runThread2condition.notify_one();<br/>        if (++workSize >= 1000)<br/>        {<br/>            break;<br/>        }<br/>    }<br/>}<br/><br/>void thread2()<br/>{<br/>    while (true)<br/>    {<br/>        std::unique_lock<std::mutex> lock(alternateThreadsMutex);<br/>        runThread2condition.wait(lock, []() { return runThread2.load(); });<br/>        auto workSize = threadWork.size();<br/>        if (workSize < 1000)<br/>            threadWork.push_back(1);<br/><br/>        runThread2 = false;<br/>        runThread1 = true;<br/>        lock.unlock();<br/>        runThread1condition.notify_one();<br/>        if (++workSize >= 1000)<br/>        {<br/>            break;<br/>        }<br/>    }<br/>}<br/><br/><br/>void alternateThreads()<br/>{<br/>    std::thread t1(thread1);<br/>    std::thread t2(thread2);<br/><br/>    runThread2 = true;<br/>    runThread2condition.notify_one();<br/><br/>    t1.join();<br/>    t2.join();<br/><br/>    cout << threadWork.size() << el;<br/>}<br/></code></pre><br/>\",\"CommentCount\":0,\"ContentLicense\":\"CC BY-SA 3.0\",\"Fecha_de_creación\":\"2018-03-19T17:11:25.787+01:00\",\"LastActivityDate\":\"2018-03-19T17:11:25.787+01:00\",\"OwnerUserId\":80289,\"ParentId\":36028,\"PostTypeId\":2,\"Score\":1,\"ViewCount\":0}\n",
      "{\"Id\":148501,\"AcceptedAnswerId\":152571,\"AnswerCount\":2,\"Body\":\"<p>Quisiera saber como enviar parámetros/información entre dos o mas componentes. Por ejemplo, si en un componente se ejecutan una serie de operaciones aritméticas o que vaya retornar alguna petición sea cual sea, <code>POST, GET</code>, retornar dicho valor, para ser usado en otro componente y así sucesivamente.</p><br/><br/><p>En mi caso, las operaciones van a empezar en el componente hijo, el cual llame, <code>Componente_2</code>, los resultados de estos, deberán ser usados en el otro hijo, el cual llame <code>Componente_3</code>. </p><br/><br/><p>Según he investigado, pude saber, que en <code>React</code> existe muy bien definido el tema de herencia, o así lo comprendí, y debe ser respetado, ya que existe un padre, el cual se comunica con muchos hijos.</p><br/><br/><h3>Componente_1.jsx (Padre)</h3><br/><br/><pre><code>class componente1 extends Component{<br/>   //captura los valores iniciales<br/>   //por teclados o de una API<br/>   //los envia a los ficheros correspondiente<br/>}<br/></code></pre><br/><br/><h3>Componente_2.jsx (Hijo)</h3><br/><br/><pre><code>class componente2 extends Component{<br/>   //recibe los valores iniciales <br/>   //del componente 1<br/>   //resolverá alguna operación y <br/>   //deberá retornar dicho resultado<br/>   //al terminar la operacion<br/>}<br/></code></pre><br/><br/><h3>Componente_3.jsx (Hijo)</h3><br/><br/><pre><code>class componente3 extends Component{<br/>   //que exista la posibilidad de tomar los valores  <br/>   //retornados del componente 2 al componente 1<br/>   //para luego realizar una operación<br/>   //y retornarlos al terminar<br/>}<br/></code></pre><br/><br/><p><strong>Nota:</strong> Asumo que no importa si los ficheros están en la misma carpeta, ya que considero eso irrelevante en el tema del proceso.</p><br/>\",\"CommentCount\":2,\"ContentLicense\":\"CC BY-SA 3.0\",\"Fecha_de_creación\":\"2018-03-19T17:13:49.507+01:00\",\"LastActivityDate\":\"2018-04-05T01:58:20.690+02:00\",\"LastEditDate\":\"2018-04-05T01:58:20.690+02:00\",\"LastEditorUserId\":2896,\"OwnerUserId\":2896,\"PostTypeId\":1,\"Score\":2,\"Tags\":\"<javascript><reactjs>\",\"Title\":\"Como enviar/retornar parámetros entre dos o mas componentes\",\"ViewCount\":5095}\n",
      "{\"Id\":148502,\"AcceptedAnswerId\":148518,\"AnswerCount\":1,\"Body\":\"<p>tengo el siguiente problema, me aparece un signo de interrogación \\\"?\\\" en vez de \\\"/\\\" en mi link de la opción \\\"seguridad (security)\\\" del menu sidebar o url</p><br/><br/><p>URL<br/><a href=\\\"https://i.stack.imgur.com/TnXzi.jpg\\\" rel=\\\"nofollow noreferrer\\\"><img src=\\\"https://i.stack.imgur.com/TnXzi.jpg\\\" alt=\\\"introducir la descripción de la imagen aquí\\\"></a></p><br/><br/><p>Sidebar menu<br/><a href=\\\"https://i.stack.imgur.com/tfvsC.jpg\\\" rel=\\\"nofollow noreferrer\\\"><img src=\\\"https://i.stack.imgur.com/tfvsC.jpg\\\" alt=\\\"introducir la descripción de la imagen aquí\\\"></a></p><br/><br/><p>Rutas<br/><a href=\\\"https://i.stack.imgur.com/VoOI6.jpg\\\" rel=\\\"nofollow noreferrer\\\"><img src=\\\"https://i.stack.imgur.com/VoOI6.jpg\\\" alt=\\\"introducir la descripción de la imagen aquí\\\"></a></p><br/><br/><p>Controlador<br/><a href=\\\"https://i.stack.imgur.com/ac7qD.jpg\\\" rel=\\\"nofollow noreferrer\\\"><img src=\\\"https://i.stack.imgur.com/ac7qD.jpg\\\" alt=\\\"introducir la descripción de la imagen aquí\\\"></a></p><br/><br/><p>Router list<br/><a href=\\\"https://i.stack.imgur.com/yK47N.jpg\\\" rel=\\\"nofollow noreferrer\\\"><img src=\\\"https://i.stack.imgur.com/yK47N.jpg\\\" alt=\\\"introducir la descripción de la imagen aquí\\\"></a></p><br/><br/><p>Como puedo solucionar eso?</p><br/><br/><p>Gracias!</p><br/>\",\"CommentCount\":9,\"ContentLicense\":\"CC BY-SA 3.0\",\"Fecha_de_creación\":\"2018-03-19T17:15:01.023+01:00\",\"LastActivityDate\":\"2018-03-19T18:08:22.297+01:00\",\"LastEditDate\":\"2018-03-19T17:47:34.790+01:00\",\"LastEditorUserId\":62270,\"OwnerUserId\":62270,\"PostTypeId\":1,\"Score\":1,\"Tags\":\"<laravel><laravel-5>\",\"Title\":\"Rutas y Href en el sidebar menu\",\"ViewCount\":220}\n",
      "{\"Id\":148503,\"AnswerCount\":0,\"Body\":\"<p>Según tengo entendido no es posible aplicar reglas de estilos para editar los alert() o confirm().</p><br/><br/><p>Te recomiendo <strong>SweetAlert, Alertify o BootBox</strong></p><br/><br/><p><div class=\\\"snippet\\\" data-lang=\\\"js\\\" data-hide=\\\"false\\\" data-console=\\\"true\\\" data-babel=\\\"false\\\"><br/><div class=\\\"snippet-code\\\"><br/><pre class=\\\"snippet-code-js lang-js prettyprint-override\\\"><code>swal(<br/>    \\\"Buen trabajo!\\\",<br/>    \\\"El contacto ha sido registrado!\\\",<br/>    \\\"success\\\"<br/>   );</code></pre><br/><pre class=\\\"snippet-code-html lang-html prettyprint-override\\\"><code><link href=\\\"https://cdnjs.cloudflare.com/ajax/libs/limonte-sweetalert2/7.8.0/sweetalert2.min.css\\\" rel=\\\"stylesheet\\\" /><br/><script src=\\\"https://ajax.googleapis.com/ajax/libs/jquery/2.1.1/jquery.min.js\\\"></script><br/><script src=\\\"https://cdnjs.cloudflare.com/ajax/libs/limonte-sweetalert2/7.8.0/sweetalert2.min.js\\\"></script><br/><button id=\\\"btnSA\\\">Probar SweetAlert </button></code></pre><br/></div><br/></div><br/></p><br/><br/><p><a href=\\\"https://sweetalert.js.org/guides/\\\" rel=\\\"nofollow noreferrer\\\">Documentación Sweetalert</a></p><br/><br/><p><strong>Alertify</strong></p><br/><br/><p><div class=\\\"snippet\\\" data-lang=\\\"js\\\" data-hide=\\\"false\\\" data-console=\\\"true\\\" data-babel=\\\"false\\\"><br/><div class=\\\"snippet-code\\\"><br/><pre class=\\\"snippet-code-js lang-js prettyprint-override\\\"><code>alertify.alert('Buen trabajo!', \\\"El contacto ha sido registrado!\\\");</code></pre><br/><pre class=\\\"snippet-code-html lang-html prettyprint-override\\\"><code><script src=\\\"https://ajax.googleapis.com/ajax/libs/jquery/2.1.1/jquery.min.js\\\"></script><br/><!-- JavaScript --><br/><script src=\\\"//cdn.jsdelivr.net/npm/alertifyjs@1.11.0/build/alertify.min.js\\\"></script><br/><br/><!-- CSS --><br/><link rel=\\\"stylesheet\\\" href=\\\"//cdn.jsdelivr.net/npm/alertifyjs@1.11.0/build/css/alertify.min.css\\\"/><br/><!-- Default theme --><br/><link rel=\\\"stylesheet\\\" href=\\\"//cdn.jsdelivr.net/npm/alertifyjs@1.11.0/build/css/themes/default.min.css\\\"/></code></pre><br/></div><br/></div><br/></p><br/><br/><p><a href=\\\"http://alertifyjs.com/guide.html\\\" rel=\\\"nofollow noreferrer\\\">Documentación alertify</a></p><br/><br/><p><strong>BootBox</strong></p><br/><br/><p><div class=\\\"snippet\\\" data-lang=\\\"js\\\" data-hide=\\\"false\\\" data-console=\\\"true\\\" data-babel=\\\"false\\\"><br/><div class=\\\"snippet-code\\\"><br/><pre class=\\\"snippet-code-js lang-js prettyprint-override\\\"><code>bootbox.alert(\\\"El contacto ha sido registrado!\\\");</code></pre><br/><pre class=\\\"snippet-code-html lang-html prettyprint-override\\\"><code><script src=\\\"https://ajax.googleapis.com/ajax/libs/jquery/2.1.1/jquery.min.js\\\"></script><br/><link rel=\\\"stylesheet\\\" href=\\\"https://maxcdn.bootstrapcdn.com/bootstrap/3.3.7/css/bootstrap.min.css\\\" integrity=\\\"sha384-BVYiiSIFeK1dGmJRAkycuHAHRg32OmUcww7on3RYdg4Va+PmSTsz/K68vbdEjh4u\\\" crossorigin=\\\"anonymous\\\"><br/><script src=\\\"https://maxcdn.bootstrapcdn.com/bootstrap/3.3.7/js/bootstrap.min.js\\\" integrity=\\\"sha384-Tc5IQib027qvyjSMfHjOMaLkfuWVxZxUPnCJA7l2mCWNIpG9mGCD8wGNIcPD7Txa\\\" crossorigin=\\\"anonymous\\\"></script><br/><script src=\\\"https://cdnjs.cloudflare.com/ajax/libs/bootbox.js/4.4.0/bootbox.min.js\\\"></script></code></pre><br/></div><br/></div><br/></p><br/><br/><p><a href=\\\"http://bootboxjs.com/documentation.html#bb-alert-dialog\\\" rel=\\\"nofollow noreferrer\\\">Documentación BootBox</a></p><br/>\",\"CommentCount\":0,\"ContentLicense\":\"CC BY-SA 3.0\",\"Fecha_de_creación\":\"2018-03-19T17:15:56.883+01:00\",\"LastActivityDate\":\"2018-03-19T17:30:12.917+01:00\",\"LastEditDate\":\"2018-03-19T17:30:12.917+01:00\",\"LastEditorUserId\":24374,\"OwnerUserId\":24374,\"ParentId\":148495,\"PostTypeId\":2,\"Score\":5,\"ViewCount\":0}\n",
      "{\"Id\":148504,\"AnswerCount\":0,\"Body\":\"<p>El código que compartes tiene un par de problemas, pero se reducen básicamente al mismo: así no es cómo se asigna un array/arreglo de caracteres.</p><br/><br/><p>Tal y como lo estás haciendo ahora mismo, por un lado defines un arreglo de caracteres de tamaño 70 (<code>char Desc[70];</code>), lo cual es correcto, pero después al hacer la asignación todo falla porque estás usando una notación incorrecta:</p><br/><br/><pre><code>Desc[70]=\\\"Producto X\\\";<br/></code></pre><br/><br/><p>Los corchetes con el tamaño del array sólo hacen en la declaración, no en las asignaciones. De lo contrario sólo estarías asignando el valor a esa posición en concreto en lugar de a la variable completa. Lo cual va a ser un problema en sí, porque estarías asignando a una posición de memoria que no le correspondería a la variable (70 está fuera de los índices permitidos: 0..69) lo cual puede generar resultados inesperados más adelante.</p><br/><br/><p>Para asignar una cadena como esa, podrías usar la función <a href=\\\"https://www.tutorialspoint.com/c_standard_library/c_function_strncpy.htm\\\" rel=\\\"nofollow noreferrer\\\"><code>strncpy</code></a> que copiará una cadena a la variable especificada. Los parámetros de <code>strncpy</code> son la variable a la que quieres asignar el valor, la cadena que quieres asignar y el número de caracteres a copiar. Aplicado a tu código es:</p><br/><br/><pre><code>if (strcmp(clave,\\\"2SGL\\\")==0)<br/>{<br/>    tarifa = 30.00;<br/>    strncpy(Desc, \\\"Producto X\\\", 70);<br/>}<br/></code></pre><br/><br/><p>Aquí puedes ver una <a href=\\\"https://onlinegdb.com/H1vyb_pYf\\\" rel=\\\"nofollow noreferrer\\\">demo funcionando en OnlineGDB</a>.</p><br/>\",\"CommentCount\":0,\"ContentLicense\":\"CC BY-SA 3.0\",\"Fecha_de_creación\":\"2018-03-19T17:20:32.527+01:00\",\"LastActivityDate\":\"2018-03-19T17:20:32.527+01:00\",\"OwnerUserId\":250,\"ParentId\":148162,\"PostTypeId\":2,\"Score\":2,\"ViewCount\":0}\n",
      "{\"Id\":148509,\"AcceptedAnswerId\":148567,\"AnswerCount\":4,\"Body\":\"<p>El codigo para saber el salario de una persona que le pagan horas extras, despues de la hora 40 se paga así: ((pagoxhora*horastrabajadas)+pagoxhora/2+pagoxhora) osea que al empleado despues de la hora 41 le pagan como hora normal mas la mitad de una hora normal, no funciona no se cual sea el problema este es el codigo:</p><br/><pre><code>import java.util.Scanner;<br/>class horasextras {<br/><br/>/**<br/> * @param args<br/> */<br/>public static void main(String[] args) {<br/>    // TODO Auto-generated method stub<br/>    Scanner entrada= new Scanner(System.in);<br/>    long horasTrabajadas;<br/>    long pagoxhora;<br/>    long salario;<br/><br/>    System.out.print(\\\"Ingrese las horas trabajadas: \\\");<br/>    horasTrabajadas=entrada.nextLong();<br/>    System.out.print(\\\"Ingrese el pago por horas: \\\");<br/>    pagoxhora=entrada.nextLong();<br/>    <br/>    if(horasTrabajadas<=40){<br/>    pagoxhora=pagoxhora;<br/>    }<br/>    else{<br/>    pagoxhora= (pagoxhora/2)+pagoxhora;<br/>    }<br/>    salario= horasTrabajadas*pagoxhora;<br/>    System.out.println(\\\"El salario es de: \\\"+salario);<br/>}<br/><br/>}<br/></code></pre><br/><p>Esto me refleja en la consola:</p><br/><blockquote><br/><p>Ingrese las horas trabajadas: 41</p><br/><p>Ingrese el pago por horas: 10</p><br/><p>El salario es de: 425</p><br/></blockquote><br/><p><strong>tendria que ser: 415</strong></p><br/><p><a href=\\\"https://i.stack.imgur.com/MkIPg.png\\\" rel=\\\"nofollow noreferrer\\\"><img src=\\\"https://i.stack.imgur.com/MkIPg.png\\\" alt=\\\"este es el codigo y el resultado\\\" /></a></p><br/>\",\"CommentCount\":8,\"ContentLicense\":\"CC BY-SA 3.0\",\"Fecha_de_creación\":\"2018-03-19T17:36:20.977+01:00\",\"LastActivityDate\":\"2021-08-31T23:28:48.633+02:00\",\"LastEditDate\":\"2020-06-11T10:54:57.430+02:00\",\"LastEditorUserId\":-1,\"OwnerUserId\":80325,\"PostTypeId\":1,\"Score\":0,\"Tags\":\"<java>\",\"Title\":\"Programa para saber el salario de una persona que trabaja horas extras\",\"ViewCount\":15955}\n",
      "{\"Id\":148510,\"AnswerCount\":0,\"Body\":\"<p>El problema esta en este metodo <strong>pos_v</strong> que llamas al leer la altura en el metodo insertar_alt(), ya que se queda en un ciclo infinito, debido a que <strong>declaras la variable pos = -1</strong> al iniciar el método, <strong>luego en el while colocas en la condición pos == -1, y esto nunca va a cambiar repitiendose el ciclo infinitamente</strong></p><br/><br/><pre><code>public int pos_v(){ //metodo que busca la primera poscicion vacia<br/>   int pos;<br/>   pos = -1;<br/>   int i = 0;<br/>   while ((pos == -1) || (i<10)) { //Ciclo infinito: variable pos siempre sera igual a -1<br/>       if (0 == arre_altura[i]){<br/>           pos = i;<br/>       }<br/>   }<br/>    return pos;<br/>     }<br/></code></pre><br/>\",\"CommentCount\":1,\"ContentLicense\":\"CC BY-SA 3.0\",\"Fecha_de_creación\":\"2018-03-19T17:38:45.767+01:00\",\"LastActivityDate\":\"2018-03-19T17:43:54.427+01:00\",\"LastEditDate\":\"2018-03-19T17:43:54.427+01:00\",\"LastEditorUserId\":5135,\"OwnerUserId\":5135,\"ParentId\":148472,\"PostTypeId\":2,\"Score\":3,\"ViewCount\":0}\n",
      "{\"Id\":148512,\"AnswerCount\":0,\"Body\":\"<p>De igual manera te lo menciono aunque no lo preguntadste directamente, el código que muestras para dar el alta es altamente inseguro a inyección SQL y no deberías mandar data que no pase por un prepare antes; te dejo un ejemplo que pudieras revisar </p><br/><br/><pre><code><?php<br/>$mysqli = new mysqli(\\\"localhost\\\", \\\"root\\\", \\\"\\\", \\\"bdpersona\\\"); <br/><br/>        $sql = $mysqli->prepare(\\\"insert into tbcontactos (nombre, edad, direccion) values (?, ?, ?) \\\");<br/>        $sql->bind_param(\\\"sis\\\", $nom, $edad, $dir);<br/>        $nom = $_GET['nombre'];<br/>        $edad = $_GET['edad'];<br/>        $dir = $_GET['direccion'];<br/>        $sql->execute();<br/></code></pre><br/><br/><p>Como puedes notar antes de que se manden directamente los valores se enmascaran con signos de interrogación y después hacen una especie de interpolación cuando en bindParam se los doy a conocer además de eso le indico con <strong>s</strong> que lo que recibe son cadenas de texto y con <strong>i</strong> con será un entero</p><br/>\",\"CommentCount\":4,\"ContentLicense\":\"CC BY-SA 3.0\",\"Fecha_de_creación\":\"2018-03-19T17:40:06.487+01:00\",\"LastActivityDate\":\"2018-03-19T17:40:06.487+01:00\",\"OwnerDisplayName\":\"user75901\",\"ParentId\":148495,\"PostTypeId\":2,\"Score\":4,\"ViewCount\":0}\n",
      "{\"Id\":148514,\"AcceptedAnswerId\":148520,\"AnswerCount\":2,\"Body\":\"<p>Tengo un formulario en un modal, que al pulsar en botón submit, después de validar los campos,  lo envio a un php que inserta los datos en una base de datos. Seguidamente, se notifica una alerta en la pantalla.</p><br/><br/><p>Este el el form</p><br/><br/><pre><code><form action=\\\"insertar.php\\\" method=\\\"GET\\\" onsubmit=\\\"return validaCampos();\\\">                    <br/>                    <div class=\\\"form-group\\\"><br/>                        <label for=\\\"nombre\\\">Nombre:</label><br/>                        <input class=\\\"form-control\\\" id=\\\"nombre\\\" name=\\\"nombre\\\" type=\\\"text\\\" placeholder=\\\"Nombre\\\"></input><br/>                    </div><br/>                    <div class=\\\"form-group\\\"><br/>                        <label for=\\\"edad\\\">Edad:</label><br/>                        <input class=\\\"form-control\\\" id=\\\"edad\\\" name=\\\"edad\\\" type=\\\"text\\\" placeholder=\\\"Edad\\\"></input><br/>                    </div><br/>                    <div class=\\\"form-group\\\"><br/>                        <label for=\\\"direccion\\\">Direccion:</label><br/>                        <input class=\\\"form-control\\\" id=\\\"direccion\\\" name=\\\"direccion\\\" type=\\\"text\\\" placeholder=\\\"Direccion\\\"></input><br/>                    </div><br/><br/>                    <input type=\\\"submit\\\" class=\\\"btn btn-success\\\" value=\\\"Salvar\\\"><br/>               </form><br/></code></pre><br/><br/><p>Este es el insertar</p><br/><br/><pre><code>    <?php<br/><br/><br/>        $mysqli = new mysqli(\\\"localhost\\\", \\\"root\\\", \\\"\\\", \\\"bdpersona\\\"); <br/>        $nom = $_GET['nombre'];<br/>        $edad = $_GET['edad'];<br/>        $dir = $_GET['direccion'];                      <br/>        $sql = $mysqli->query(\\\"insert into tbcontactos (nombre, edad, direccion) values ('$nom', $edad, '$dir') \\\");         <br/><br/>?>  <br/><br/>        <SCRIPT LANGUAGE=\\\"javascript\\\"> <br/>        alert(\\\"Contacto Registrado\\\"); <br/>        </SCRIPT> <br/>        <META HTTP-EQUIV=\\\"Refresh\\\" CONTENT=\\\"0; URL=listar.php\\\"><br/></code></pre><br/><br/><p>De la siguiente forma:<br/><a href=\\\"https://i.stack.imgur.com/xBYVF.png\\\" rel=\\\"nofollow noreferrer\\\"><img src=\\\"https://i.stack.imgur.com/xBYVF.png\\\" alt=\\\"introducir la descripción de la imagen aquí\\\"></a></p><br/><br/><p>En un segundo plano se actualiza la lista y no vas a ella hasta pulsa el aceptar.</p><br/><br/><p>Gracias a la ayuda de vosotros sobre alertas:<br/>He quitado la alerta <em>alert</em> y he colocado un sweetalert con los links para las las librerías, pero no me funciona, no se ejecuta. Es como si no hubiera nada<br/>He puesto un retardo antes de redirigir a la página listar.php y ni eso.</p><br/><br/><p><strong>¿Porque no funciona la alerta?</strong></p><br/><br/><pre><code>    <?php<br/><br/><br/>        $mysqli = new mysqli(\\\"localhost\\\", \\\"root\\\", \\\"\\\", \\\"bdpersona\\\"); <br/>        $nom = $_GET['nombre'];<br/>        $edad = $_GET['edad'];<br/>        $dir = $_GET['direccion'];                      <br/>        $sql = $mysqli->query(\\\"insert into tbcontactos (nombre, edad, direccion) values ('$nom', $edad, '$dir') \\\");         <br/><br/>?>  <br/><br/>     <link href=\\\"https://cdnjs.cloudflare.com/ajax/libs/limonte-<br/>      sweetalert2/7.8.0/sweetalert2.min.css\\\" rel=\\\"stylesheet\\\" /><br/>     <script src=\\\"https://ajax.googleapis.com/ajax/libs/jquery/2.1.1/jquery.min.js\\\"><br/>   </script><br/>   <script src=\\\"https://cdnjs.cloudflare.com/ajax/libs/limonte-sweetalert2/7.8.0/sweetalert2.min.js\\\"></script><br/><br/>        <SCRIPT LANGUAGE=\\\"javascript\\\"> <br/>       swal(<br/>        \\\"Buen trabajo!\\\",<br/>        \\\"El contacto ha sido registrado!\\\",<br/>        \\\"success\\\"<br/>            );<br/>        </SCRIPT> <br/>        <META HTTP-EQUIV=\\\"Refresh\\\" CONTENT=\\\"0; URL=listar.php\\\"><br/></code></pre><br/><br/><p>Muchas gracias por la ayuda</p><br/>\",\"CommentCount\":2,\"ContentLicense\":\"CC BY-SA 3.0\",\"Fecha_de_creación\":\"2018-03-19T17:51:52.077+01:00\",\"LastActivityDate\":\"2018-05-30T15:13:19.167+02:00\",\"OwnerUserId\":66005,\"PostTypeId\":1,\"Score\":3,\"Tags\":\"<html><sweetalert>\",\"Title\":\"¿Por que no se me ve la alerta sweetalert?\",\"ViewCount\":6621}\n",
      "{\"Id\":148515,\"AnswerCount\":0,\"Body\":\"<p>para los que se les presente este problema, les comento que se debia a la configuracion del .htacces y la configuracion del virtualhost</p><br/><br/><p><strong>Archivo .htaccess</strong><br/><div class=\\\"snippet\\\" data-lang=\\\"js\\\" data-hide=\\\"false\\\" data-console=\\\"true\\\" data-babel=\\\"false\\\"><br/><div class=\\\"snippet-code\\\"><br/><pre class=\\\"snippet-code-js lang-js prettyprint-override\\\"><code><IfModule mod_rewrite.c><br/>        RewriteEngine On<br/>       <br/>        RewriteCond %{REQUEST_FILENAME} !-f<br/>        RewriteRule ^ index.php [QSA,L]<br/>       <br/></IfModule></code></pre><br/></div><br/></div><br/></p><br/><br/><p><strong>Virtual Host</strong></p><br/><br/><p><div class=\\\"snippet\\\" data-lang=\\\"js\\\" data-hide=\\\"false\\\" data-console=\\\"true\\\" data-babel=\\\"false\\\"><br/><div class=\\\"snippet-code\\\"><br/><pre class=\\\"snippet-code-js lang-js prettyprint-override\\\"><code><VirtualHost *:80><br/>    ServerAdmin correo@empresa.com<br/>    ServerName directorio<br/>    ServerAlias directorio<br/>    DocumentRoot /srv/www/htdocs/directorio<br/><br/>    # if not specified, the global error log is used<br/>    ErrorLog /var/log/apache2/directorio-error_log<br/>    CustomLog /var/log/apache2/directorio-access_log combined<br/><br/>    <Directory \\\"/srv/www/htdocs/directorio\\\"><br/>  Options Indexes FollowSymLinks MultiViews<br/>         AllowOverride All<br/>         Require all granted<br/>         #Allow from all ->> he aqui un problema<br/>    </Directory><br/></VirtualHost></code></pre><br/></div><br/></div><br/></p><br/>\",\"CommentCount\":0,\"ContentLicense\":\"CC BY-SA 3.0\",\"Fecha_de_creación\":\"2018-03-19T17:58:14.970+01:00\",\"LastActivityDate\":\"2018-03-19T17:58:14.970+01:00\",\"OwnerUserId\":77325,\"ParentId\":142803,\"PostTypeId\":2,\"Score\":0,\"ViewCount\":0}\n",
      "\n",
      "==> dfSE.json/part-00003-4651a142-8d75-4646-82a7-7ff77757c3bf-c000.json <==\n",
      "{\"Id\":224966,\"AcceptedAnswerId\":225002,\"AnswerCount\":2,\"Body\":\"<p>Estoy intentando eliminar elementos de un ListView manteniendo el click, lo cual funciona pero cuando salgo y entro de nuevo en la activity, <strong>me vuelven a aparecer</strong> los elementos que borré.</p><br/><br/><p>Creo que esto sucede porque no elimino el elemento también de la BaseDeDatos, ya que <strong>no se cómo hacerlo</strong>. Se me había ocurrido algo así pero en vez de borrarme sólo el elemento seleccionado, <strong>me borra de la BD todos los elementos de la ListView</strong>:</p><br/><br/><pre><code>        listaFavoritos.setLongClickable(true);<br/>    listaFavoritos.setOnItemLongClickListener(new AdapterView.OnItemLongClickListener() {<br/>        @Override<br/>        public boolean onItemLongClick(AdapterView<?> adapterView, View view, int i, long l) {<br/>            SQLiteDatabase db=conn.getWritableDatabase();<br/>            db.rawQuery(\\\"DELETE FROM favoritos\\\", null)<br/>                listaInfo.remove(i);<br/>                adaptador.notifyDataSetChanged();<br/>            return true;<br/>        }<br/><br/>    });<br/></code></pre><br/><br/><p>Mi clase BaseDeDatos:</p><br/><br/><pre><code>public class BaseDeDatos extends SQLiteOpenHelper {<br/><br/>public BaseDeDatos(Context context) {<br/>    super(context, \\\"libros.db\\\", null, 2);<br/>}<br/>private static final String tabla_favoritos = \\\"CREATE TABLE IF NOT EXISTS favoritos(titulo text)\\\";<br/><br/>@Override<br/>public void onCreate(SQLiteDatabase db) {<br/>    db.execSQL(\\\"CREATE TABLE IF NOT EXISTS libros (Id text, Titulo text, Autor text, Sinopsis text, FechaDePublicacion text, Editorial text, CantidadDePaginas text, Idioma text, Categorias text)\\\");<br/>    db.execSQL(\\\"insert into libros values('1', 'El Resplandor', 'Stephen King', '¿Qué ha sido de Danny Torrance? Descúbrelo al final de este volumen, que incluye el inicio de Doctor Sueño, la continuación de El resplandor. REDRUM. Esa es la palabra que Danny había visto en el espejo. Y, aunque no sabía leer, entendió que era un mensaje de horror. Tenía cinco años, y a esa edad pocos niños son conscientes de que los espejos invierten las imágenes, y menos aún diferencian entre realidad y fantasía. Pero Danny tenía pruebas de que sus fantasías relacionadas con el resplandor del espejo acabarían cumpliéndose.', '28-01-1977', 'Doubleday', '447', 'Ingles', 'Terror'), ('2', 'Forbidden', 'Tabitha Suzuma', 'No podemos. Si empezamos, ¿cómo vamos a pararlo? Lochan y Maya siempre se han sentido más amigos que hermanos. Ante la incapacidad de cuidarlos de su madre alcohólica y la ausencia de un padre que los abandonó, los dos jóvenes deben hacerse cargo de sus tres hermanos menores y esconder su situación a los servicios sociales, porque ninguno de los dos es mayor de edad. La responsabilidad que comparten y las dificultades a las que se enfrentan les unen, hasta empujarlos a enamorarse. Ambos saben que su relación está mal y que no debe continuar, pero al mismo tiempo no pueden controlar sus emociones y la atracción que los domina.', '10-05-2010', 'OZ', '387', 'Español', 'Ficción'),('3', 'Cazadores de Sombras', 'Harald Zwart', 'En la ciudad de Nueva York, una adolescente aparentemente común llamada Clary Fray descubre que ella desciende de una línea de guerreros, mitad ángeles, quienes protegen a la humanidad de los demonios. Después de que su madre desaparece, Clary une fuerzas con un grupo de cazadores de sombras e ingresa al Inframundo, un sitio peligroso y alterno lleno de demonios, brujos, vampiros, hombres lobo y criaturas sobrenaturales.', '22-07-2013', 'Simon & Schuster', '948', 'Español', 'Ficción'),('4', 'Beautiful Disaster', 'Jamie McGuire', 'La chica buena Abby no bebe, no se mete en líos y trabaja muy duro. Cree que ha enterrado su oscuro pasado, pero cuando llega a la universidad, un rompecorazones conocido por sis ligues de una noche pone en peligro su sueño de una nueva vida. El chico malo Travis Maddox , sexy, musculoso y cubierto de tatuajes, es justamente el tipo de chico que le atrae a Abby, justamente lo que quiere evitar. Dedica sus noches a ganar dinero en un club de lucha itinerante y sus dias a ser el estudiante ejemplar y el seductor mas popular del campus. Toda una mezcla explosiva. Intrigado por el rechazo de Abby, Travis intenta colarse en su vida proponiendole una apuesta que trastocará sus mundos y lo cambiará todo.', '26-05-2011', 'Simon & Schuster', '567', 'Ingles', 'Romance'),('5', 'Hush Hush', 'Becca Fitzpatrick', 'Cuando Patch se convierte en su nuevo compañero de laboratorio de biología, Nora siente a la vez atracción y repulsión hacia este extraño personaje que parece tener acceso a sus pensamientos. Luego se entera de que Patch es un ángel caído que quiere convertirse en humano.', '13-10-2009', 'Ediciones B', '647', 'Ingles', 'Romance'),('6', 'Los juegos del hambre', 'Collins Suzanne', 'En lo que alguna vez fue Norteamérica, la Capital de Panem mantiene sus 12 distritos obligándolos a seleccionar a un niño y a una niña, llamados Tributos, a competir en un evento televisado nacionalmente llamados Juegos del Hambre. Cada ciudadano debe ver pelear a muerte a los jóvenes. El Trbuto del Distrito 12, Katniss Everdeen sólo confía en sus habilidades de caza y buenos instintos en una arena en donde debe sobrevivir contra la humanidad.', '14-09-2008', 'Rba-Molino', '847', 'Español', 'Fantasía'),('7', 'Misery', 'Stephen King', 'Un autor se recupera de un accidente y es cuidado por una admiradora que le insiste escribir un libro sólo para ella.', '08-06-1987', 'Viking Press', '320', 'Ingles', 'Terror'),('8', 'Oscuros', 'Kate Lauren', 'La historia de Daniel y Luce, dos almas predestinadas a encontrarse y condenadas a perderse... Helstone, Inglaterra, 1854. Es noche cerrada y dos jóvenes conversan en una remota casa de campo. Se sienten irresistiblemente atraídos el uno por el otro, pero él insiste en que no pueden estar juntos.', '08-12-2009', 'Penguin Random House', '416', 'Ingles', 'Drama'),('9', 'Eleanor & Park', 'Rowell Rainbow', 'Dos chicos de un colegio, que se conocen por una situación fortuita en el autobús escolar, haciendo que de poco a poco su amistad vaya evolucionando en algo más. Pero no todo en la vida es fácil, al final, los dos protagonistas tendrán que luchar por mantenerse juntos, he impedir que el padrastro de Eleanor los separen para siempre.', '07-10-2012', 'Aguilar', '333', 'Ingles', 'Romance'),('10','El amante japones', 'Isabel Allende', 'La historia de amor entre la joven Alma Belasco y el jardinero japonés Ichimei conduce al lector por un recorrido a través de diversos escenarios que van desde la Polonia de la Segunda Guerra Mundial hasta el San Francisco de nuestros días «A los veintidós años, sospechando que tenían el tiempo contado, Ichimei y Alma se atragantaron de amor para consumirlo entero, pero mientras más intentaban agotarlo, más imprudente era el deseo, y quien diga que todo fuego se apaga solo tarde o temprano, se equivoca: hay pasiones que son incendios hasta que las ahoga el destino de un zarpazo y aun así quedan brasas calientes listas para arder apenas se les da oxígeno.', '22-05-2015', 'Plaza & Janés', '725', 'Español', 'Drama') \\\");<br/>    db.execSQL(tabla_favoritos);<br/>}<br/><br/>@Override<br/>public void onUpgrade(SQLiteDatabase db, int oldVersion, int newVersion) {<br/>    db.execSQL(\\\"DROP TABLE IF EXISTS libros\\\");<br/>    db.execSQL(\\\"CREATE TABLE IF NOT EXISTS libros (Id text, Titulo text, Autor text, Sinopsis text, FechaDePublicacion text, Editorial text, CantidadDePaginas text, Idioma text, Categorias text)\\\");<br/>    db.execSQL(\\\"insert into libros values('1', 'El Resplandor', 'Stephen King', '¿Qué ha sido de Danny Torrance? Descúbrelo al final de este volumen, que incluye el inicio de Doctor Sueño, la continuación de El resplandor. REDRUM. Esa es la palabra que Danny había visto en el espejo. Y, aunque no sabía leer, entendió que era un mensaje de horror. Tenía cinco años, y a esa edad pocos niños son conscientes de que los espejos invierten las imágenes, y menos aún diferencian entre realidad y fantasía. Pero Danny tenía pruebas de que sus fantasías relacionadas con el resplandor del espejo acabarían cumpliéndose.', '28-01-1977', 'Doubleday', '447', 'Ingles', 'Terror'), ('2', 'Forbidden', 'Tabitha Suzuma', 'No podemos. Si empezamos, ¿cómo vamos a pararlo? Lochan y Maya siempre se han sentido más amigos que hermanos. Ante la incapacidad de cuidarlos de su madre alcohólica y la ausencia de un padre que los abandonó, los dos jóvenes deben hacerse cargo de sus tres hermanos menores y esconder su situación a los servicios sociales, porque ninguno de los dos es mayor de edad. La responsabilidad que comparten y las dificultades a las que se enfrentan les unen, hasta empujarlos a enamorarse. Ambos saben que su relación está mal y que no debe continuar, pero al mismo tiempo no pueden controlar sus emociones y la atracción que los domina.', '10-05-2010', 'OZ', '387', 'Español', 'Ficción'),('3', 'Cazadores de Sombras', 'Harald Zwart', 'En la ciudad de Nueva York, una adolescente aparentemente común llamada Clary Fray descubre que ella desciende de una línea de guerreros, mitad ángeles, quienes protegen a la humanidad de los demonios. Después de que su madre desaparece, Clary une fuerzas con un grupo de cazadores de sombras e ingresa al Inframundo, un sitio peligroso y alterno lleno de demonios, brujos, vampiros, hombres lobo y criaturas sobrenaturales.', '22-07-2013', 'Simon & Schuster', '948', 'Español', 'Ficción'),('4', 'Beautiful Disaster', 'Jamie McGuire', 'La chica buena Abby no bebe, no se mete en líos y trabaja muy duro. Cree que ha enterrado su oscuro pasado, pero cuando llega a la universidad, un rompecorazones conocido por sis ligues de una noche pone en peligro su sueño de una nueva vida. El chico malo Travis Maddox , sexy, musculoso y cubierto de tatuajes, es justamente el tipo de chico que le atrae a Abby, justamente lo que quiere evitar. Dedica sus noches a ganar dinero en un club de lucha itinerante y sus dias a ser el estudiante ejemplar y el seductor mas popular del campus. Toda una mezcla explosiva. Intrigado por el rechazo de Abby, Travis intenta colarse en su vida proponiendole una apuesta que trastocará sus mundos y lo cambiará todo.', '26-05-2011', 'Simon & Schuster', '567', 'Ingles', 'Romance'),('5', 'Hush Hush', 'Becca Fitzpatrick', 'Cuando Patch se convierte en su nuevo compañero de laboratorio de biología, Nora siente a la vez atracción y repulsión hacia este extraño personaje que parece tener acceso a sus pensamientos. Luego se entera de que Patch es un ángel caído que quiere convertirse en humano.', '13-10-2009', 'Ediciones B', '647', 'Ingles', 'Romance'),('6', 'Los juegos del hambre', 'Collins Suzanne', 'En lo que alguna vez fue Norteamérica, la Capital de Panem mantiene sus 12 distritos obligándolos a seleccionar a un niño y a una niña, llamados Tributos, a competir en un evento televisado nacionalmente llamados Juegos del Hambre. Cada ciudadano debe ver pelear a muerte a los jóvenes. El Trbuto del Distrito 12, Katniss Everdeen sólo confía en sus habilidades de caza y buenos instintos en una arena en donde debe sobrevivir contra la humanidad.', '14-09-2008', 'Rba-Molino', '847', 'Español', 'Fantasía'),('7', 'Misery', 'Stephen King', 'Un autor se recupera de un accidente y es cuidado por una admiradora que le insiste escribir un libro sólo para ella.', '08-06-1987', 'Viking Press', '320', 'Ingles', 'Terror'),('8', 'Oscuros', 'Kate Lauren', 'La historia de Daniel y Luce, dos almas predestinadas a encontrarse y condenadas a perderse... Helstone, Inglaterra, 1854. Es noche cerrada y dos jóvenes conversan en una remota casa de campo. Se sienten irresistiblemente atraídos el uno por el otro, pero él insiste en que no pueden estar juntos.', '08-12-2009', 'Penguin Random House', '416', 'Ingles', 'Drama'),('9', 'Eleanor & Park', 'Rowell Rainbow', 'Dos chicos de un colegio, que se conocen por una situación fortuita en el autobús escolar, haciendo que de poco a poco su amistad vaya evolucionando en algo más. Pero no todo en la vida es fácil, al final, los dos protagonistas tendrán que luchar por mantenerse juntos, he impedir que el padrastro de Eleanor los separen para siempre.', '07-10-2012', 'Aguilar', '333', 'Ingles', 'Romance'),('10','El amante japones', 'Isabel Allende', 'La historia de amor entre la joven Alma Belasco y el jardinero japonés Ichimei conduce al lector por un recorrido a través de diversos escenarios que van desde la Polonia de la Segunda Guerra Mundial hasta el San Francisco de nuestros días «A los veintidós años, sospechando que tenían el tiempo contado, Ichimei y Alma se atragantaron de amor para consumirlo entero, pero mientras más intentaban agotarlo, más imprudente era el deseo, y quien diga que todo fuego se apaga solo tarde o temprano, se equivoca: hay pasiones que son incendios hasta que las ahoga el destino de un zarpazo y aun así quedan brasas calientes listas para arder apenas se les da oxígeno.', '22-05-2015', 'Plaza & Janés', '725', 'Español', 'Drama') \\\");<br/>    db.execSQL(tabla_favoritos);<br/>}<br/><br/>public void insertarLibro(String titulo) {<br/>    SQLiteDatabase bd = getWritableDatabase();<br/>    if(bd != null){<br/>        bd.execSQL(\\\"INSERT INTO favoritos VALUES('\\\"+titulo+\\\"')\\\");<br/>        bd.close();<br/>    }<br/>}<br/></code></pre><br/><br/><p>Mi clase completa donde elimino el elemento del ListView:</p><br/><br/><pre><code>public class ListaFavoritos extends AppCompatActivity implements ListView.OnItemClickListener {<br/><br/>ListView listaFavoritos;<br/>ArrayList<String> listaInfo;<br/>private ArrayAdapter<String> adaptador;<br/>ArrayList<Favoritos> listaLibros; <br/>BaseDeDatos conn;<br/><br/>@Override<br/>protected void onCreate(Bundle savedInstanceState) {<br/>    super.onCreate(savedInstanceState);<br/>    setContentView(R.layout.favoritos);<br/><br/>    conn = new BaseDeDatos(this);<br/><br/>    listaFavoritos = findViewById(R.id.lvFavoritos);<br/><br/>    consultarFav();<br/><br/>    listaFavoritos.setLongClickable(true);<br/>    listaFavoritos.setOnItemLongClickListener(new AdapterView.OnItemLongClickListener() {<br/>        @Override<br/>        public boolean onItemLongClick(AdapterView<?> adapterView, View view, int i, long l) {<br/>            SQLiteDatabase db=conn.getWritableDatabase();<br/>            db.rawQuery(\\\"DELETE FROM favoritos\\\", null)<br/>                listaInfo.remove(i);<br/>                adaptador.notifyDataSetChanged();<br/>            return true;<br/>        }<br/><br/>    });<br/><br/>    adaptador = new ArrayAdapter(this,android.R.layout.simple_list_item_1,listaInfo);<br/>    listaFavoritos.setOnItemClickListener(this);<br/>    listaFavoritos.setAdapter(adaptador);<br/>}<br/><br/>private void consultarFav() {<br/>    SQLiteDatabase db=conn.getReadableDatabase();<br/>    Favoritos fav = null;<br/>    listaLibros = new ArrayList<Favoritos>();<br/>    Cursor cursor=db.rawQuery(\\\"SELECT * FROM favoritos\\\" ,null );<br/><br/>    while (cursor.moveToNext()) {<br/>        fav = new Favoritos();<br/>        fav.setTitulo(cursor.getString(0));<br/>        listaLibros.add(fav);<br/>    }<br/>    obtenerLista();<br/>}<br/><br/>private void obtenerLista() {<br/>    listaInfo = new ArrayList<String>();<br/>    for (int i=0; i<listaLibros.size();i++){<br/>        listaInfo.add(listaLibros.get(i).getTitulo()+\\\"\\\");<br/>    }<br/>}<br/><br/>@Override<br/>public void onItemClick(AdapterView<?> parent, View view, int position, long id) {<br/>}<br/>}<br/></code></pre><br/>\",\"CommentCount\":2,\"ContentLicense\":\"CC BY-SA 4.0\",\"Fecha_de_creación\":\"2018-12-21T13:04:07.630+01:00\",\"LastActivityDate\":\"2019-02-01T19:29:21.787+01:00\",\"LastEditDate\":\"2019-02-01T19:29:21.787+01:00\",\"LastEditorUserId\":28,\"OwnerUserId\":106853,\"PostTypeId\":1,\"Score\":2,\"Tags\":\"<android-studio><listview><base-de-datos>\",\"Title\":\"Eliminar un elemento de ListView y DB SQLite con OnItemLongClickListener\",\"ViewCount\":1377}\n",
      "{\"Id\":224967,\"AcceptedAnswerId\":225064,\"AnswerCount\":1,\"Body\":\"<p>Es lo mismo usar un formulario en el cual tendré un <code>listbox</code> con datos cargados:</p><br/><br/><pre><code>Private Sub USerform_Initialize()<br/>End Sub<br/></code></pre><br/><br/><p>Que el mismo formulario con:</p><br/><br/><pre><code>Private Sub Userform_Activate()<br/>End Sub<br/></code></pre><br/>\",\"CommentCount\":0,\"ContentLicense\":\"CC BY-SA 4.0\",\"Fecha_de_creación\":\"2018-12-21T13:05:45.477+01:00\",\"LastActivityDate\":\"2019-12-11T22:11:35.353+01:00\",\"LastEditDate\":\"2018-12-21T13:06:38.057+01:00\",\"LastEditorDisplayName\":\"user75901\",\"OwnerUserId\":111923,\"PostTypeId\":1,\"Score\":1,\"Tags\":\"<excel><vba><macros>\",\"Title\":\"¿Cuál es la diferencia entre el evento Activate y el evento Initialize? Excel VBA\",\"ViewCount\":4868}\n",
      "{\"Id\":224968,\"AnswerCount\":0,\"Body\":\"<p>Estoy intentando ejecutar un método de una librería externa dentro de otro metodo de Vue (no sé si debería hacerlo en una computed property), pero solamente consigo obtener el resultado del mismo si lo ejecuto así:</p><br/><br/><pre><code>console.log(Metodo(number));<br/></code></pre><br/><br/><p>Entonces puedo ver en la consola el resultado correcto.</p><br/><br/><p>El método de Vue en el que intento ejecutarlo simplemente comprueba si el input no está vacío y después pretendo devolver el resultado de la entrada de dicho input.</p><br/><br/><pre><code>methods: {<br/>         isFormValid: function () {<br/><br/>             // console.log(Easter(this.last_year));   <br/>             if(this.last_year != \\\"\\\"){<br/>                    var when = Easter(this.last_year)<br/>                    return when;<br/>             }<br/>         },<br/>}<br/></code></pre><br/><br/><p>Posiblemente esté haciendo algo incorrecto dentro del método... </p><br/><br/><pre><code><button type=\\\"submit\\\" class=\\\"btn btn-primary\\\"<br/>            :disabled=\\\"!isFormValid()\\\">Continuar</button><br/></code></pre><br/><br/><p>Gracias de antemano.</p><br/><br/><pre><code><div v-else><br/>        <h2>Bienvenido, {{ last_year }}</h2><br/>        {{ isFormValid() }}<br/></div><br/></code></pre><br/><br/><p>++++</p><br/><br/><pre><code>submitForm: function () {<br/>       if (!this.isFormValid())<br/>            return;<br/>       this.formSubmitted = true;<br/>}<br/></code></pre><br/>\",\"CommentCount\":12,\"ContentLicense\":\"CC BY-SA 4.0\",\"Fecha_de_creación\":\"2018-12-21T13:09:50.323+01:00\",\"LastActivityDate\":\"2018-12-21T13:52:04.667+01:00\",\"LastEditDate\":\"2018-12-21T13:52:04.667+01:00\",\"LastEditorUserId\":93167,\"OwnerUserId\":93167,\"PostTypeId\":1,\"Score\":1,\"Tags\":\"<javascript><vue.js>\",\"Title\":\"Ejecutar método de un fichero externo en un método de Vue.js\",\"ViewCount\":138}\n",
      "{\"Id\":224969,\"AnswerCount\":0,\"Body\":\"<p>El problema se da porque no estas \\\"guardando\\\" el valor de la coordenada <code>y</code> que resulta tras imprimir el texto con <code>MultiCell</code> (<em>como ya sabes, agrega saltos de linea cuando el texto no entra en la línea</em>)</p><br/><br/><h2>Solución:</h2><br/><br/><p>Tras imprimir la \\\"descripcion\\\" del producto, guarda la coordenada <code>y</code> (ej: <code>$yFin</code>). Luego, al finalizar la impresión de los datos del producto, usa el valor guardado en <code>$yFin</code> para indicar la coordenada <code>y</code> donde debe empezar el próximo producto.</p><br/><br/><p>Ejemplo:</p><br/><br/><pre><code>while ($reg_recep=mysqli_fetch_array($res)) {<br/>    $det_cantidad=$reg_recep['det_cantidad'];<br/>    $descripcion=$reg_recep['art_descripcion'];<br/>    $pu=$reg_recep['det_precio'];<br/>    $importe=$reg_recep['det_precio'];<br/>    $total=$total+$importe;<br/>    $CANT=$CANT+1;<br/><br/>    $y = $pdf->GetY(); // Guardamos la coord Y donde COMIENZA la linea<br/>    $pdf-> cell(10,6,$det_cantidad,0,0,'R');<br/><br/>    $pdf-> Multicell(50,6,utf8_decode($descripcion),0,'L',0);<br/>    $yFin = $pdf->GetY(); // Guardamos la coord Y donde TERMINA la linea<br/><br/>    $pdf->SetXY(62,$y); // Pisamos la coord Y con el valor donde COMIENZA la linea<br/>    $pdf->cell(16,6,'$'.$pu,0,0,'R',0);<br/>    $pdf->cell(16,6,'$'.$importe,0,1,'R',0);<br/><br/>    $pdf->SetY($yFin); // Pisamos la coord Y con el valor donde TERMINA la linea<br/>}<br/></code></pre><br/>\",\"CommentCount\":1,\"ContentLicense\":\"CC BY-SA 4.0\",\"Fecha_de_creación\":\"2018-12-21T13:13:24.290+01:00\",\"LastActivityDate\":\"2018-12-21T13:13:24.290+01:00\",\"OwnerUserId\":16597,\"ParentId\":224960,\"PostTypeId\":2,\"Score\":2,\"ViewCount\":0}\n",
      "{\"Id\":224970,\"AnswerCount\":0,\"Body\":\"<p>La <a href=\\\"https://www.datacamp.com/community/tutorials/joining-dataframes-pandas\\\" rel=\\\"nofollow noreferrer\\\">solución</a> no era tan complicada después de todo.</p><br/><br/><pre><code>df = pd.merge(df_A, df_B, on='Fecha', how='outer')<br/>df.sort_values(by='Fecha', inplace=True)<br/>df[['Fecha', 'Datos_A', 'Datos_B']]<br/><br/>    Fecha       Datos_A Datos_B<br/>0   2018-12-15      1.0     7.0<br/>1   2018-12-16      5.0     5.0<br/>3   2018-12-17      NaN     3.0<br/>2   2018-12-18      9.0     NaN<br/>4   2018-12-19      NaN     4.0<br/></code></pre><br/><br/><p><strong>Editado el 22.12.2018</strong></p><br/><br/><p>A petición de @shadow voy a explicar la solución.</p><br/><br/><p>En la primera línea de código se fusionan las dos <code>DataFrames</code> <code>df_A</code> y <code>df_B</code>, siendo <code>Fecha</code> la columna a unir e indicando en <code>how='outer'</code> que se use la unión de las <code>keys</code> de ambas <code>frames</code>. Para más información ver la documentación de <a href=\\\"https://pandas.pydata.org/pandas-docs/stable/generated/pandas.DataFrame.merge.html\\\" rel=\\\"nofollow noreferrer\\\">pandas</a>.</p><br/><br/><p>La segunda línea de código ordena los valores por <code>Fecha</code> y sustituye el resultado en <code>df</code>. Más info <a href=\\\"https://pandas.pydata.org/pandas-docs/stable/generated/pandas.DataFrame.sort_values.html\\\" rel=\\\"nofollow noreferrer\\\">aquí</a>.</p><br/><br/><p>La tercera línea de código muestra la nueva <code>df</code> ordenando las columnas según <code>Fecha</code>, <code>Datos_A</code> y <code>Datos_B</code>.</p><br/><br/><p>A posteriori me he dado cuenta que esta solución es solo válida para dos <code>DataFrames</code>. Si alguien tiene una solución mejor para más de dos <code>DataFrames</code>que no dude en exponerla.</p><br/>\",\"CommentCount\":4,\"ContentLicense\":\"CC BY-SA 4.0\",\"Fecha_de_creación\":\"2018-12-21T13:20:03.313+01:00\",\"LastActivityDate\":\"2018-12-22T18:48:41.887+01:00\",\"LastEditDate\":\"2018-12-22T18:48:41.887+01:00\",\"LastEditorUserId\":7073,\"OwnerUserId\":7073,\"ParentId\":224963,\"PostTypeId\":2,\"Score\":1,\"ViewCount\":0}\n",
      "{\"Id\":224972,\"AcceptedAnswerId\":224976,\"AnswerCount\":1,\"Body\":\"<p>Tengo un problema al usar el siguiente codigo html en mi pagina web hecha en wordpress</p><br/><br/><pre><code><li><a href=\\\"www.twitter.com\\\" class=\\\"icoTwitter\\\" title=\\\"Twitter\\\"><i class=\\\"fa fa-twitter\\\"></i></a><br/></li><br/></code></pre><br/><br/><p>Lo que pienso es hacer un redireccionamiento a la pagina de twitter pero cuando le doy al boton me envia a mipaginaweb/www.twitter.com y me sale la siguiente pantalla:</p><br/><br/><p><a href=\\\"https://i.stack.imgur.com/QK7OL.png\\\" rel=\\\"nofollow noreferrer\\\"><img src=\\\"https://i.stack.imgur.com/QK7OL.png\\\" alt=\\\"introducir la descripción de la imagen aquí\\\"></a></p><br/><br/><p>¿por qué sucede ésto?</p><br/>\",\"CommentCount\":0,\"ContentLicense\":\"CC BY-SA 4.0\",\"Fecha_de_creación\":\"2018-12-21T13:50:01.870+01:00\",\"LastActivityDate\":\"2018-12-21T13:57:34.387+01:00\",\"OwnerUserId\":73625,\"PostTypeId\":1,\"Score\":2,\"Tags\":\"<html><html5><wordpress><redirección>\",\"Title\":\"Problema en el redireccionamiento usando wodrpress\",\"ViewCount\":29}\n",
      "{\"Id\":224974,\"AnswerCount\":0,\"Body\":\"<p>El problema era que tenía otro listener que hacía algo cuando se selecciona un item de la tabla. con <code>textfield.isFocused()</code> puedo comprobar si el textbox se está escribiendo y así anulo el evento de selección de un item</p><br/>\",\"CommentCount\":0,\"ContentLicense\":\"CC BY-SA 4.0\",\"Fecha_de_creación\":\"2018-12-21T13:54:27.773+01:00\",\"LastActivityDate\":\"2018-12-21T13:54:27.773+01:00\",\"OwnerUserId\":112149,\"ParentId\":224764,\"PostTypeId\":2,\"Score\":0,\"ViewCount\":0}\n",
      "{\"Id\":224976,\"AnswerCount\":0,\"Body\":\"<p>Tienes un error sencillo, para poder colocar un enlace fuera de tu web debes colocarle el </p><br/><br/><blockquote><br/>  <p>https:// </p><br/></blockquote><br/><br/><p>entonces quedaría de la siguiente manera: </p><br/><br/><p><div class=\\\"snippet\\\" data-lang=\\\"js\\\" data-hide=\\\"false\\\" data-console=\\\"true\\\" data-babel=\\\"false\\\"><br/><div class=\\\"snippet-code\\\"><br/><pre class=\\\"snippet-code-html lang-html prettyprint-override\\\"><code><li><a href=\\\"https://twitter.com\\\" class=\\\"icoTwitter\\\" title=\\\"Twitter\\\"><i class=\\\"fa fa-twitter\\\"></i></a><br/></li></code></pre><br/></div><br/></div><br/></p><br/>\",\"CommentCount\":0,\"ContentLicense\":\"CC BY-SA 4.0\",\"Fecha_de_creación\":\"2018-12-21T13:57:34.387+01:00\",\"LastActivityDate\":\"2018-12-21T13:57:34.387+01:00\",\"OwnerUserId\":112100,\"ParentId\":224972,\"PostTypeId\":2,\"Score\":8,\"ViewCount\":0}\n",
      "{\"Id\":224979,\"AcceptedAnswerId\":225045,\"AnswerCount\":2,\"Body\":\"<p>¿Es necesario usar un init.py para que una carpeta sea considerada un paquete en Python 3.7?</p><br/>\",\"CommentCount\":1,\"ContentLicense\":\"CC BY-SA 4.0\",\"Fecha_de_creación\":\"2018-12-21T14:03:31.353+01:00\",\"LastActivityDate\":\"2018-12-21T18:05:57.023+01:00\",\"LastEditDate\":\"2018-12-21T14:21:31.677+01:00\",\"LastEditorUserId\":83,\"OwnerUserId\":106265,\"PostTypeId\":1,\"Score\":3,\"Tags\":\"<python><python-3.x>\",\"Title\":\"¿Es necesario usar init.py para los paquetes en Python 3?\",\"ViewCount\":2685}\n",
      "{\"Id\":224983,\"AnswerCount\":0,\"Body\":\"<p>Te dejo una manera de cómo se podría hacer con posición absoluta, acá canvas será el contenedor donde se dibujaran todos los elementos, no se como estás guardando los datos en la base de datos pero de todas maneras supongo que es recorrer el listado de elementos, por lo que creé un objeto data con un array de los mismos. De resto no mucho, crear el elemento igual que lo haces tu pero abstraído en un función y luego asignar el left y top al elemento creado en el canvas.</p><br/><br/><p>Espero te sirva, saludos!.</p><br/><br/><p><div class=\\\"snippet\\\" data-lang=\\\"js\\\" data-hide=\\\"false\\\" data-console=\\\"true\\\" data-babel=\\\"false\\\"><br/><div class=\\\"snippet-code\\\"><br/><pre class=\\\"snippet-code-js lang-js prettyprint-override\\\"><code>// elementos viene en el objeto data<br/>var data = {<br/> elements : [<br/>   {<br/>     id: 1,<br/>     type: 'text_cont',<br/>     top: 100,<br/>      left: 100<br/>    },<br/>    {<br/>     id: 2,<br/>     type: 'text_cont',<br/>     top: 70,<br/>      left: 200<br/>    },<br/>    {<br/>     id: 3,<br/>     type: 'text_cont',<br/>     top: 0,<br/>      left: 5<br/>    },<br/>    {<br/>     id: 4,<br/>     type: 'img_content',<br/>     top: 20,<br/>      left: 100<br/>    }<br/>  ]<br/>}<br/><br/>//se recorren todos los elementos<br/>data.elements.forEach(function(element){<br/> $('#canvas').append(createElement(element));<br/>  $('#'+element.id).css({top: element.top, left: element.left});<br/>});<br/><br/>function createElement(element){<br/> var htmlElement = '<div id=\\\"'+element.id+'\\\" class=\\\"element\\\"><div class=\\\"'+element.type+'\\\">hola</div></div>';<br/>  return htmlElement;<br/>}</code></pre><br/><pre class=\\\"snippet-code-css lang-css prettyprint-override\\\"><code>#canvas{<br/>  margin-top: 50px;<br/>  height: 400px;<br/>  width: 400px;<br/>  background-color: yellow;<br/>  border: solid black 1px;<br/>  position: relative;<br/>}<br/><br/>.element{<br/>  position: absolute;<br/>  border: solid black 1px;<br/>  padding: 5px;<br/>  background-color: green;<br/>}<br/><br/>.text_cont{<br/>  color: white;<br/>  background-color: black;<br/>}<br/><br/>.img_content {<br/>  color: black;<br/>  background-color: aqua;<br/>}</code></pre><br/><pre class=\\\"snippet-code-html lang-html prettyprint-override\\\"><code><script src=\\\"https://cdnjs.cloudflare.com/ajax/libs/jquery/3.3.1/jquery.min.js\\\"></script><br/><div><br/>  <div id=\\\"canvas\\\"><br/>  <br/>  </div><br/></div></code></pre><br/></div><br/></div><br/></p><br/>\",\"CommentCount\":0,\"ContentLicense\":\"CC BY-SA 4.0\",\"Fecha_de_creación\":\"2018-12-21T14:24:21.953+01:00\",\"LastActivityDate\":\"2018-12-21T14:24:21.953+01:00\",\"OwnerUserId\":60645,\"ParentId\":224923,\"PostTypeId\":2,\"Score\":1,\"ViewCount\":0}\n",
      "\n",
      "==> dfSE.json/part-00004-4651a142-8d75-4646-82a7-7ff77757c3bf-c000.json <==\n",
      "{\"Id\":301159,\"AnswerCount\":1,\"Body\":\"<p>En la creación del  un método <strong>upload</strong> de <strong>PostController</strong>.  Se produce un error el el <strong>JWT</strong>.<br/>No solo en este método, sino en otros  como <strong>getPostBySubCategory</strong> de <strong>SubCategoryController</strong>.</p><br/><br/><p>Por que  a veces ignora el <strong>try</strong> y pasa directamente al</p><br/><br/><pre><code>if($getIdentity){<br/><br/>            return $decoded;<br/><br/>}<br/></code></pre><br/><br/><p>y otras no ?</p><br/><br/><p>Creo que no depende del controlador, sino mas específicamente del método o alguna configuración JWT, ya que en la gran mayoría no he tenido problemas.</p><br/><br/><p><strong>JWT</strong></p><br/><br/><pre><code>public function checkToken($jwt, $getIdentity=false){<br/>    $auth = false;<br/><br/>    try{<br/>        $jwt = str_replace('\\\"','',$jwt);<br/>        $decoded = JWT::decode($jwt, $this->key, ['HS256']);               <br/>    } catch (\\\\UnexpectedValueException $e) {<br/>        $auth = false;<br/>    }<br/>      catch (\\\\DomainException $e) {<br/>        $auth = false;<br/>    }<br/><br/>    if(!empty($decoded) && is_object($decoded) && isset ($decoded->sub)){<br/>        $auth = true;<br/>    }<br/>    else{<br/>        $auth = false;<br/>    }<br/><br/>    if($getIdentity){<br/>        return $decoded;<br/>    }<br/>    return $auth;<br/>}<br/></code></pre><br/><br/><p><strong>Método 1</strong></p><br/><br/><pre><code>    public function upload(Request $request) {       <br/>    // Recoger la imagen de la petición<br/>    $image = $request->file('file0');<br/>    // Validar imagen<br/>    $validate = \\\\Validator::make($request->all(), [<br/>                'file0' => 'required|image|mimes:jpg,jpeg,png,gif'<br/>    ]);<br/><br/>    // Guardar imagen<br/>    if (!$image || $validate->fails()) {<br/>        $data = [<br/>            'code' => 400,<br/>            'status' => 'erroe',<br/>            'message' => 'Error al subir la imagen'<br/>        ];<br/>    } else {<br/>        $image_name = time() . $image->getClientOriginalName();<br/><br/>        \\\\Storage::disc('image')->put($image_name, \\\\File::get($image));<br/><br/>        $data = [<br/>            'code' => 200,<br/>            'status' => 'success',<br/>            'image' => $image_name<br/>        ];<br/>    }<br/>    // Devolver imagen<br/>    return response()->json($data, $data['code']);<br/>}<br/></code></pre><br/><br/><p><strong>Método 2</strong></p><br/><br/><pre><code>    public function getSubCategoryByCategory($id) {<br/>    $sub_category = Sub_Category::where('category_id', $id)->get();<br/><br/>    return response() -> json([<br/>                'status' => 'success',<br/>                'sub_category' => $sub_category<br/>                    ], 200);<br/>}<br/></code></pre><br/>\",\"CommentCount\":1,\"ContentLicense\":\"CC BY-SA 4.0\",\"Fecha_de_creación\":\"2019-10-15T21:31:58.180+02:00\",\"LastActivityDate\":\"2019-10-16T16:22:20.653+02:00\",\"LastEditDate\":\"2019-10-16T00:55:14.290+02:00\",\"LastEditorUserId\":145164,\"OwnerUserId\":145164,\"PostTypeId\":1,\"Score\":1,\"Tags\":\"<php><mysql><laravel><jwt>\",\"Title\":\"Laravel ---- ERROR Undefined variable: decoded ---- En JWT\",\"ViewCount\":118}\n",
      "{\"Id\":301160,\"AnswerCount\":1,\"Body\":\"<p>Mi intención inicial es diseñar una forma de \\\"amaestrar\\\" las promesas para poder pedir un resultado a una función asíncrona y asegurar que al volver de la llamada, el resultado esté resuelto.</p><br/><br/><p>Estoy tratando de usar esta función para obtener un objeto con el cual manipular una BD Mongo:</p><br/><br/><pre><code>async function abreMongo() {<br/>    console.log(\\\"abre Mongo\\\")<br/>    var MongoClient = require('mongodb').MongoClient, Server = <br/>    require('mongodb').Server;<br/><br/>    var cliente = new MongoClient(new Server('localhost', 27017));<br/><br/>    try {<br/>        //var mongo = await cliente.open();<br/>        console.log(\\\"1. Aguaita connect\\\")<br/>        var mongo = await cliente.connect()<br/>        console.log(\\\"Tipo de respuesta: \\\"+mongo)<br/>        console.log(\\\"   Conectó\\\")<br/>        console.log(\\\"2. Inicializo bdMng\\\")<br/>        bdMng = mongo.db(\\\"Asistencia\\\");<br/>        console.log(\\\"   Inicializó bdMng\\\")<br/>        console.log(\\\"3. Cierra el cliente\\\")<br/>        cliente.close();<br/>        console.log(\\\"Retorna Mongo\\\")<br/>        return mongo;<br/>    } catch (e) {<br/>        console.error(e);<br/>        process.exit(-1);<br/>    }<br/>}<br/></code></pre><br/><br/><p>El caso es que en cuanto ejecuto esperaría que los tres primeros mensajes fueran:<br/>1. Aguaita connect<br/>Tipo de respuesta: << tipo >><br/>   Conectó</p><br/><br/><p>(Puse lo de \\\"tipo de respuesta\\\" por si connect retornaba una promesa)</p><br/><br/><p>Lo que recibo como respuesta es esto:</p><br/><br/><pre><code>Va a Abre Mongo<br/>abre Mongo<br/>1. Aguaita connect<br/>Retornó de Abre Mongo<br/><br/><< Mensajes de código posterior a la llamada a \\\"abreMongo\\\" >><br/><br/>   Tipo de respuesta: [object Object]<br/>   Conectó<br/>2. Inicializo bdMng<br/>   Inicializó bdMng<br/>3. Cierra el cliente<br/>Retorna Mongo<br/></code></pre><br/><br/><p>Es evidente que el await para connect no está funcionando según la teoría.</p><br/><br/><p>¿Sabe alguien qué estoy haciendo mal o si ese es el comportamiento esperado?</p><br/>\",\"CommentCount\":0,\"ContentLicense\":\"CC BY-SA 4.0\",\"Fecha_de_creación\":\"2019-10-15T21:39:41.527+02:00\",\"FavoriteCount\":0,\"LastActivityDate\":\"2019-10-17T05:33:37.270+02:00\",\"LastEditDate\":\"2019-10-16T18:28:18.990+02:00\",\"LastEditorUserId\":112837,\"OwnerUserId\":51544,\"PostTypeId\":1,\"Score\":1,\"Tags\":\"<javascript><mongodb><promesas>\",\"Title\":\"await no espera con mongo.connect\",\"ViewCount\":152}\n",
      "{\"Id\":301161,\"AnswerCount\":0,\"Body\":\"<p>Tengo mi código en el Controller:</p><br/><br/><pre><code>public function results(Request $request, $idCategory = 0)<br/>    {<br/><br/>        $category = $this->frontService->categoryById($idCategory);<br/><br/>        if($category){<br/><br/>            $products = $this->frontService->results($idCategory);<br/>            $subcategories = $this->frontService->subcategories($category->parent_id);<br/><br/>            $params = [<br/>                \\\"category\\\" => $category,<br/>                \\\"parent\\\" => $category->parent,<br/>                \\\"subcategories\\\" => $subcategories,<br/>                \\\"products\\\" => $products[\\\"products\\\"],<br/>                \\\"hasMorePages\\\" => $products['pagination']['hasMorePages']<br/>            ];<br/><br/>            return view('front.products.results', $params);<br/>        }else{<br/>            return view('front.404');<br/>        }<br/><br/>    }<br/></code></pre><br/><br/><p>En la URL aparece<br/><a href=\\\"http://www.gemetytec.com/productos/3/tablets\\\" rel=\\\"nofollow noreferrer\\\">http://www.gemetytec.com/productos/3/tablets</a></p><br/><br/><p>y debería ser:<br/><a href=\\\"http://www.gemetytec.com/productos/tablets\\\" rel=\\\"nofollow noreferrer\\\">http://www.gemetytec.com/productos/tablets</a></p><br/>\",\"CommentCount\":2,\"ContentLicense\":\"CC BY-SA 4.0\",\"Fecha_de_creación\":\"2019-10-15T21:41:18.183+02:00\",\"LastActivityDate\":\"2019-10-16T00:33:59.177+02:00\",\"LastEditDate\":\"2019-10-16T00:33:59.177+02:00\",\"LastEditorUserId\":128299,\"OwnerUserId\":95086,\"PostTypeId\":1,\"Score\":0,\"Tags\":\"<laravel><controller>\",\"Title\":\"Laravel. Listar productos por nombre\",\"ViewCount\":107}\n",
      "{\"Id\":301163,\"AnswerCount\":0,\"Body\":\"<p>Sí tienes claro el tipo de propiedades de cada objeto que contendrá el array puedes definir un \\\"type\\\" específico. En el caso de tu código:</p><br/><br/><pre><code>type dataObject = {<br/>    name: string;<br/>    list: Array<any>;  // o Array<string> sí sólo va a contener cadenas de texto<br/>}<br/><br/>var array: dataObject[] = []<br/></code></pre><br/><br/><p>En este caso sí intentas añadir una propiedad no definida en el tipo, recibirás el error pertinente. Por ejemplo, si tratas de añadir:</p><br/><br/><pre><code>array.push({<br/>    'name': 'hola',<br/>    'surname': 'adios',<br/>    'list': []<br/>})<br/></code></pre><br/><br/><p>Verás el error (vscode en mi caso): </p><br/><br/><blockquote><br/>  <p>Argument of type '{ 'name': string; 'surname': string; 'list': undefined[]; }' is not assignable to parameter of type 'dataObject'.<br/>    Object literal may only specify known properties, and ''surname'' does not exist in type 'dataObject'.</p><br/></blockquote><br/><br/><p>Y en este caso tienes la opción de definirlo como 'opcional' de la siguiente forma: </p><br/><br/><pre><code>type dataObject = {<br/>    name: string;<br/>    surname?: string;<br/>    list: Array<any>;<br/>}<br/></code></pre><br/><br/><p>Espero que te sea de ayuda.</p><br/>\",\"CommentCount\":0,\"ContentLicense\":\"CC BY-SA 4.0\",\"Fecha_de_creación\":\"2019-10-15T21:44:54.623+02:00\",\"LastActivityDate\":\"2019-10-15T21:44:54.623+02:00\",\"OwnerUserId\":3411,\"ParentId\":301138,\"PostTypeId\":2,\"Score\":2,\"ViewCount\":0}\n",
      "{\"Id\":301164,\"AnswerCount\":0,\"Body\":\"<p>Intenta con un poco de JavaScript si te sirve :</p><br/><br/><p><div class=\\\"snippet\\\" data-lang=\\\"js\\\" data-hide=\\\"false\\\" data-console=\\\"true\\\" data-babel=\\\"false\\\"><br/><div class=\\\"snippet-code\\\"><br/><pre class=\\\"snippet-code-html lang-html prettyprint-override\\\"><code><input type=\\\"number\\\"  required name=\\\"price\\\" onkeyup=\\\"/^\\\\d+(?:\\\\.\\\\d{1,2})?$/.test(this.value)?'inherit':this.value=''\\\"></code></pre><br/></div><br/></div><br/></p><br/><br/><p>En este ejemplo solo acepta dos decimales si deseas mas modifica la expresión regular y pon el numero que desees donde esta el numero 2</p><br/>\",\"CommentCount\":0,\"ContentLicense\":\"CC BY-SA 4.0\",\"Fecha_de_creación\":\"2019-10-15T21:48:24.720+02:00\",\"LastActivityDate\":\"2019-10-15T21:48:24.720+02:00\",\"OwnerUserId\":136643,\"ParentId\":301153,\"PostTypeId\":2,\"Score\":0,\"ViewCount\":0}\n",
      "{\"Id\":301165,\"AnswerCount\":0,\"Body\":\"<p>Si quieres hacer la suma de <code>Transacciones</code>. Puedes hacerlo de la siguiente manera:</p><br/><br/><pre><code>df = pd.DataFrame({'cliente':[30,30,40,40,40,50,50,50,50],<br/>                   'piezas':[1,2,1,2,3,2,4,5,6],<br/>                   'transacciones':[16,2,10,2,24,2,2,3,1],<br/>                   'cumSum':[18,18,36,36,36,8,8,8,8]})<br/><br/><br/>df.groupby('cliente')['transacciones'].sum()<br/></code></pre><br/><br/><p>La salida será asi :</p><br/><br/><pre><code>cliente<br/>30    18<br/>40    36<br/>50     8<br/>Name: transacciones, dtype: int64<br/></code></pre><br/><br/><p>Eso que te esta mostrando es una <code>serie</code>. Si quieres verlo como un <code>DataFrame</code> , basta con aplanar los indices, con <code>reset_index()</code></p><br/><br/><pre><code>df.groupby('cliente')['transacciones'].sum().reset_index()<br/></code></pre><br/><br/><p>y la salida sera asi:</p><br/><br/><pre><code>cliente transacciones<br/>  30        18<br/>  40        36<br/>  50        8<br/></code></pre><br/><br/><p>En tu publicación hiciste el groupby con <code>clientes</code> y <code>piezas</code>. Si lo quieres hacer con esos dos campos, solo tienes que enviarlos como una lista, tal cual lo realizaste en tu ejemplo. : </p><br/><br/><pre><code>df.groupby(['cliente'.'piezas'])['transacciones'].sum()<br/></code></pre><br/>\",\"CommentCount\":0,\"ContentLicense\":\"CC BY-SA 4.0\",\"Fecha_de_creación\":\"2019-10-15T21:51:05.960+02:00\",\"LastActivityDate\":\"2019-10-15T21:51:05.960+02:00\",\"OwnerUserId\":117155,\"ParentId\":301117,\"PostTypeId\":2,\"Score\":3,\"ViewCount\":0}\n",
      "{\"Id\":301166,\"AnswerCount\":0,\"Body\":\"<p>Intenta con esto en el .htaccess de la que estará en mantenimiento</p><br/><br/><pre><code>RewriteEngine On<br/>RewriteRule ^(.*)$ http://otrodominio.com/ [R=301]<br/></code></pre><br/>\",\"CommentCount\":3,\"ContentLicense\":\"CC BY-SA 4.0\",\"Fecha_de_creación\":\"2019-10-15T21:52:50.513+02:00\",\"LastActivityDate\":\"2019-10-15T21:52:50.513+02:00\",\"OwnerUserId\":9188,\"ParentId\":301148,\"PostTypeId\":2,\"Score\":1,\"ViewCount\":0}\n",
      "{\"Id\":301168,\"AnswerCount\":0,\"Body\":\"<p>en su momento lidie y mucho con subprocces y libreofficce, espero que esta linea te ayude:</p><br/><br/><pre><code>crea_xlt = subprocess.Popen(['soffice', '--headless', '--convert-to', 'xlt:MS Excel 97 Vorlage/Template', '--outdir', archivo_destino, archivo_origen])<br/></code></pre><br/><br/><p>como puedes ver cada elemento de la linea va en una lista, ignoro porque no me funcionaba por mas que escribía la linea completa pero lo que te he puesto funciona</p><br/>\",\"CommentCount\":1,\"ContentLicense\":\"CC BY-SA 4.0\",\"Fecha_de_creación\":\"2019-10-15T21:58:09.477+02:00\",\"LastActivityDate\":\"2019-10-15T21:58:09.477+02:00\",\"OwnerUserId\":84466,\"ParentId\":300895,\"PostTypeId\":2,\"Score\":2,\"ViewCount\":0}\n",
      "{\"Id\":301170,\"AnswerCount\":0,\"Body\":\"<p>Al parecer estas accediendo mal a <code>$_POST[\\\"status\\\"]</code> y te faltan comillas en <code>fecha2</code> ademas creo que el primer filtro esta de mas. trata de verificar si tus datos llegan para evitar y tener control sobre los errores</p><br/><br/><p>Ejemplo:</p><br/><br/><pre><code>$status = (isset($_POST['status']))?$_POST['status']:\\\"\\\";<br/>$fecha1 = (isset($_POST['fecha1']))?$_POST['fecha1']:\\\"\\\";<br/>$fecha2 = (isset($_POST['fecha2']))?$_POST['fecha2']:\\\"\\\";<br/>    ///FILTROS<br/>    if (isset($_POST['filtrar'])){<br/>        //if ($status === \\\"Todos\\\"){ <br/>        // $where = \\\"WHERE TR_APOYOS.FECHA_REGISTRO BETWEEN '\\\".$fecha1.\\\"' AND '\\\".$fecha2.\\\"'\\\";<br/>        //} else <br/>        if($status){<br/>          $Where = \\\"WHERE TC_ESTATUS_APOYOS.NOMBRE LIKE '\\\".$status.\\\"%'\\\";<br/>        }else if($fecha1&&$fecha2){<br/>          $Where = \\\"WHERE  TR_APOYOS.FECHA_REGISTRO BETWEEN '\\\".$fecha1.\\\"' AND '\\\".$fecha2.\\\"'\\\";<br/>        }<br/>    } <br/>    // end FILTROS<br/>?><br/></code></pre><br/>\",\"CommentCount\":0,\"ContentLicense\":\"CC BY-SA 4.0\",\"Fecha_de_creación\":\"2019-10-15T22:01:49.050+02:00\",\"LastActivityDate\":\"2019-10-15T22:08:04.887+02:00\",\"LastEditDate\":\"2019-10-15T22:08:04.887+02:00\",\"LastEditorUserId\":99297,\"OwnerUserId\":99297,\"ParentId\":301090,\"PostTypeId\":2,\"Score\":0,\"ViewCount\":0}\n",
      "{\"Id\":301171,\"AnswerCount\":1,\"Body\":\"<p>Buen día gente, hice un programa que convierte un número decimal ya sea a binario, octal o hexadecimal, pero necesito que mi función <code>convertir</code> sea recursiva.</p><br/><br/><p>Mi código es el siguiente:</p><br/><br/><pre class=\\\"lang-c prettyprint-override\\\"><code>#include<stdio.h><br/>#include<conio.h><br/>#include<windows.h><br/><br/>void convertir(int num, int base);<br/><br/>main()<br/>{<br/>    int opc=0,num=0,base=0;<br/><br/>    do{<br/>        system(\\\"cls\\\");<br/>        printf(\\\"1.Binario\\\\n\\\");<br/>        printf(\\\"2.Octal\\\\n\\\");<br/>        printf(\\\"3.Hexa\\\\n\\\");<br/>        printf(\\\"4.Salir\\\\n\\\");<br/>        printf(\\\"Opcion: \\\");<br/>        scanf(\\\"%d\\\",&opc);<br/>        printf(\\\"Numero: \\\");<br/>        scanf(\\\"%d\\\",&num);<br/>        switch(opc)<br/>        {<br/>            case 1:convertir(num,2); break;//las operaciones dentro de la función se harán con 2<br/>            case 2:convertir(num,8);break; //las operaciones dentro de la función se harán con 8<br/>            case 3:convertir(num,16);break; //las operaciones dentro de la función se harán con 16<br/>            case 4:break;<br/>            default: printf(\\\"No valido\\\\n\\\"); break;<br/><br/>        }<br/>        getch();        <br/>    }while(opc!=4);<br/>}<br/><br/>void convertir(int num, int base)<br/>{<br/>    int res=0,coc=0;<br/>    printf(\\\"        \\\");<br/>        do{<br/>            res=num%base;<br/>            coc=num/base;<br/>            if(coc!=0) return 0;<br/>            if(res<10)printf(\\\"\\\\b\\\\b%d\\\",res);<br/>            else printf(\\\"\\\\b\\\\b%c\\\",res+55);   //para imprimir las letras si es en base hexadecimal    <br/>            num=coc;    <br/>        }while(coc!=0);<br/><br/>}<br/><br/><br/></code></pre><br/><br/><p>Mi problema es que no sé como aplicar la recursión, en esta ocasión sé que necesito poner un caso base, pero una de mis dudas es sobre eso.</p><br/><br/><p>En mi función <code>convertir</code>el ciclo se repite siempre y cuando <code>coc</code>es diferente de 0, no sé si esto será mi caso base o deba ser otra instrucción.</p><br/><br/><p>Además no me convierte el número a la base que yo le indique.</p><br/><br/><p>Sinceramente estoy perdida en cuanto a eso, estoy tratando de mejorar mi lógica al programar y quiero entender cuales son mis errores.</p><br/><br/><p>Espero me puedan dar algunos consejos que me puedan ayudar, se los agradecería bastante, si hay algunos errores de redacción, disculpen, es mi primera pregunta aquí.</p><br/>\",\"CommentCount\":0,\"ContentLicense\":\"CC BY-SA 4.0\",\"Fecha_de_creación\":\"2019-10-15T22:02:04.547+02:00\",\"LastActivityDate\":\"2019-10-16T07:27:45.647+02:00\",\"OwnerUserId\":142090,\"PostTypeId\":1,\"Score\":2,\"Tags\":\"<c><recursión>\",\"Title\":\"Conversión de números con recursión en (C)\",\"ViewCount\":1559}\n",
      "\n",
      "==> dfSE.json/part-00005-4651a142-8d75-4646-82a7-7ff77757c3bf-c000.json <==\n",
      "{\"Id\":379389,\"AcceptedAnswerId\":379397,\"AnswerCount\":1,\"Body\":\"<p>soy principiante esto y estoy intentado que al pulsar un botón me devuelva los registros de base de datos (firebase) la cuestion es que la primera vez que pulso el botón me dice que :</p><br/><pre><code>core.js:6241 ERROR Error: Uncaught (in promise): TypeError: miarray is not iterable<br/>TypeError: miarray is not iterable<br/></code></pre><br/><p>En el HTML tengo el botón que llama a esta función :</p><br/><pre><code>  async prueba(email, password){<br/> const loading = await this.LoadingController.create({<br/>    message: 'Loading.....'<br/>});<br/>await loading.present();<br/>this.userService.getTodos().subscribe( res => {loading.dismiss(); this.pruebas = res;});<br/>  let  miarray = this.pruebas;<br/>  if (miarray) <br/>  console.log(miarray);<br/>  for (let prueba of miarray){<br/>    console.log(prueba);<br/>    }<br/>  }<br/></code></pre><br/><p>Lo que pasa es que la segunda,tercera,... vez que pulso el botón si me devuelve bien el array, que debería hacer? Deberia iniciarlo en el ngOnInit ?  A continuacion os indico como he creado los arrays de pruebas y miarray que son de tipo UsersI, una interface.</p><br/><pre><code>pruebas: UsersI[];<br/>miarray: UsersI[];<br/></code></pre><br/>\",\"CommentCount\":0,\"ContentLicense\":\"CC BY-SA 4.0\",\"Fecha_de_creación\":\"2020-08-03T19:45:29.760+02:00\",\"LastActivityDate\":\"2020-08-03T20:41:45.943+02:00\",\"OwnerUserId\":146078,\"PostTypeId\":1,\"Score\":0,\"Tags\":\"<array><ionic>\",\"Title\":\"Array Angular - IONIC\",\"ViewCount\":592}\n",
      "{\"Id\":379391,\"AnswerCount\":1,\"Body\":\"<p>Estoy tratando de leer datos de un archivo .json  que codifiqué usando javascript, sin embargo no logro que me muestre algo... Probé imprimirlo en texto plano y ahí sí funciona.<br/>Estoy usando WAMP como servidor de pruebas.<br/>Acá el código del javascript</p><br/><pre><code>var xhttp = new XMLHttpRequest();<br/>xhttp.onreadystatechange = function() {<br/>  if (this.readyState == 4 && this.status == 200) {<br/>    var respuesta = JSON.parse(xhttp.responseText);<br/>    var personas = respuesta.personas;<br/>    var salida = '';<br/>    for (var i = 0; i < personas.lenght; i++) {<br/>      salida = \\\"<li>\\\" + personas[i].nombre + \\\"</li>\\\";<br/><br/>    }<br/>    document.getElementById(\\\"personas\\\").innerHTML = salida;<br/>  }<br/>}<br/>xhttp.open(\\\"GET\\\", \\\"personas.json\\\", true);<br/>xhttp.send();<br/></code></pre><br/><p>Acá el código del json</p><br/><pre><code>{<br/>    \\\"personas\\\":[<br/>        {\\\"nombre\\\":\\\"Jose De Marzo\\\",\\\"edad\\\":19,\\\"estudiante\\\":true,\\\"edo_civil\\\":\\\"soltero\\\"},<br/>        {\\\"nombre\\\":\\\"Nelson Carrasco\\\",\\\"edad\\\":19,\\\"estudiante\\\":false,\\\"edo_civil\\\":\\\"casado\\\"},<br/>        {\\\"nombre\\\":\\\"Marlyn Montero\\\",\\\"edad\\\":39,\\\"estudiante\\\":false,\\\"edo_civil\\\":\\\"soltera\\\"}<br/>    ]<br/>}<br/></code></pre><br/><p>No muestra nada en pantalla, sin embargo sin pasarlo a json sí lee el texto plano.</p><br/>\",\"CommentCount\":3,\"ContentLicense\":\"CC BY-SA 4.0\",\"Fecha_de_creación\":\"2020-08-03T19:57:26.517+02:00\",\"LastActivityDate\":\"2020-08-04T10:44:06.830+02:00\",\"LastEditDate\":\"2020-08-04T09:54:11.510+02:00\",\"LastEditorUserId\":156327,\"OwnerUserId\":186742,\"PostTypeId\":1,\"Score\":2,\"Tags\":\"<javascript><html5><json><xml><api>\",\"Title\":\"¿Cómo leo un archivo JSON con Javascript?\",\"ViewCount\":1434}\n",
      "{\"Id\":379392,\"AnswerCount\":0,\"Body\":\"<p>Hola buen día quisiera por favor saber si hay alguna manera en la que pueda sumar la columna \\\"cantidad\\\" de mi tabla \\\"entregas_herramientas\\\".</p><br/><p>Adjunto una captura para mejor entendimiento:</p><br/><p><a href=\\\"https://i.stack.imgur.com/EJuCG.png\\\" rel=\\\"nofollow noreferrer\\\"><img src=\\\"https://i.stack.imgur.com/EJuCG.png\\\" alt=\\\"introducir la descripción de la imagen aquí\\\" /></a></p><br/><p>Como se puede observar en la imagen tengo el id_herramienta, lo que quiero es que en \\\"cantidad\\\" me de la sumatoria de las herramientas que tienen el mismo id, por ejemplo la herramienta con id_herramienta 3, debería sumarse con la otra que también tiene id_herramienta 3, la columna observación no me interesa en realidad, solo necesito la sumatoria de cada herramienta en \\\"cantidad\\\".</p><br/><p>Gracias de antemano la ayuda.</p><br/>\",\"CommentCount\":3,\"ContentLicense\":\"CC BY-SA 4.0\",\"Fecha_de_creación\":\"2020-08-03T20:14:10.843+02:00\",\"FavoriteCount\":0,\"LastActivityDate\":\"2020-08-03T20:14:10.843+02:00\",\"OwnerUserId\":131115,\"PostTypeId\":1,\"Score\":0,\"Tags\":\"<mysql>\",\"Title\":\"Como sumar la cantidad de cada herramienta mysql\",\"ViewCount\":18}\n",
      "{\"Id\":379393,\"AnswerCount\":0,\"Body\":\"<p>Estoy creando una app y necesito que después en mi response de volley envie notificación a otro usuario registrado en una base de datos mysql, que ya se activo su cuenta. Estoy utilizando scrip de php para hacer consultas query a mysql.Aqui se muestra el response en donde al finalizar el registro esta pueda enviar una notificacion a ese usuario, todo con mysql, php, y android studio</p><br/><pre><code>public void actualizar(String id,String op,String fi,String ff)<br/>{<br/><br/>    StringRequest stringRequest1=new StringRequest(Request.Method.POST,host+\\\"/webservice/archivos/ejemploBDRemota/opadm.php?\\\", new Response.Listener<String>() {<br/>        @Override<br/>        public void onResponse(String response) {<br/><br/>            Toast.makeText(getContext(),\\\"Se registro\\\",Toast.LENGTH_SHORT).show();<br/>        }<br/>    },new Response.ErrorListener()<br/>    {<br/>        @Override<br/>        public void onErrorResponse(VolleyError error) {<br/>            Toast.makeText(getContext(),\\\"NO se puedo registrar\\\"+error.toString(),Toast.LENGTH_SHORT).show();<br/>        }<br/>    })<br/>    {<br/>        @RequiresApi(api = Build.VERSION_CODES.N)<br/>        @Override<br/>    protected Map<String, String> getParams() throws AuthFailureError {<br/>        //--------------------<br/><br/>        Map<String, String> params=new HashMap<>();<br/>        params.put(\\\"id\\\",id);<br/>        params.put(\\\"opcion\\\",op);<br/>        params.put(\\\"fechainicial\\\",fi);<br/>        params.put(\\\"fechafinal\\\",ff);<br/><br/><br/>        return params;<br/>    }};<br/>    request.add(stringRequest1);<br/>}<br/></code></pre><br/>\",\"CommentCount\":2,\"ContentLicense\":\"CC BY-SA 4.0\",\"Fecha_de_creación\":\"2020-08-03T20:20:01.403+02:00\",\"LastActivityDate\":\"2020-08-03T20:52:00.617+02:00\",\"LastEditDate\":\"2020-08-03T20:52:00.617+02:00\",\"LastEditorUserId\":186748,\"OwnerUserId\":186748,\"PostTypeId\":1,\"Score\":0,\"Tags\":\"<php><mysql><android-studio><push-notification>\",\"Title\":\"Enviar notificaciones con mysql,php y android studio\",\"ViewCount\":500}\n",
      "{\"Id\":379394,\"AnswerCount\":0,\"Body\":\"<p>Si quieres prueba de esta forma, saludos!</p><br/><p><div class=\\\"snippet\\\" data-lang=\\\"js\\\" data-hide=\\\"false\\\" data-console=\\\"true\\\" data-babel=\\\"false\\\"><br/><div class=\\\"snippet-code\\\"><br/><pre class=\\\"snippet-code-js lang-js prettyprint-override\\\"><code>// SI quisieras que el nombre  este definido <br/>var Prueba = \\\"Juan\\\"<br/><br/>if(Prueba === \\\"Juan\\\"){<br/>    console.log('Hola ' + Prueba);<br/>}<br/><br/>// Si no quieres que Prueba(nombre este definido)<br/><br/>var Prueba = \\\"\\\";<br/><br/>if(Prueba === String){<br/>    console.log('Hola' + Prueba);<br/>}</code></pre><br/></div><br/></div><br/></p><br/>\",\"CommentCount\":1,\"ContentLicense\":\"CC BY-SA 4.0\",\"Fecha_de_creación\":\"2020-08-03T20:21:19.403+02:00\",\"LastActivityDate\":\"2020-08-03T20:21:19.403+02:00\",\"OwnerUserId\":186734,\"ParentId\":379383,\"PostTypeId\":2,\"Score\":0,\"ViewCount\":0}\n",
      "{\"Id\":379396,\"AcceptedAnswerId\":379500,\"AnswerCount\":1,\"Body\":\"<p>¿Alguien sabe cómo hago para mostrar <code>pos1</code> y <code>pos2</code> pero en la otra función? ¿Qué parámetros tendría que usar? a todo esto, tiene que ser <code>void</code> si o si la función.</p><br/><pre><code>void encontrarMinimoMatriz(float m[][MESES], int cant,int pos1, int pos2){<br/>    int minimo = m[0][0];<br/>    for (int i=0;i<cant;i++){<br/>        for (int j=0;j<MESES;j++){<br/>            if(m[i][j] < minimo){<br/>                minimo = m[i][j];<br/>                pos1 = i;<br/>                pos2 = j;<br/>            }<br/>        }<br/>    }<br/>}<br/><br/>void mostrarMinimo(float m[][MESES], int cant,int pos1, int pos2){<br/>    printf(\\\"\\\\n-------------------------------\\\\n\\\");<br/>    printf(\\\"el minimo esta en: \\\\n %d %d\\\",pos1,pos2);<br/>}<br/></code></pre><br/>\",\"CommentCount\":2,\"ContentLicense\":\"CC BY-SA 4.0\",\"Fecha_de_creación\":\"2020-08-03T20:38:32.387+02:00\",\"LastActivityDate\":\"2020-08-04T07:16:43.953+02:00\",\"LastEditDate\":\"2020-08-04T07:16:43.953+02:00\",\"LastEditorUserId\":2742,\"OwnerUserId\":183610,\"PostTypeId\":1,\"Score\":0,\"Tags\":\"<c>\",\"Title\":\"Compartir variables entre funciones\",\"ViewCount\":96}\n",
      "{\"Id\":379397,\"AnswerCount\":0,\"Body\":\"<p>Pon la inicialización de <code>miarray</code> dentro del bloque del subscribe:</p><br/><pre><code>this.userService.getTodos().subscribe( res => {<br/>       loading.dismiss(); <br/>       this.pruebas = res;<br/>        let  miarray = this.pruebas;<br/>        if (miarray) <br/>          console.log(miarray);<br/>        for (let prueba of miarray){<br/>          console.log(prueba);<br/>        }<br/>      }<br/>    });<br/>     <br/></code></pre><br/>\",\"CommentCount\":0,\"ContentLicense\":\"CC BY-SA 4.0\",\"Fecha_de_creación\":\"2020-08-03T20:41:45.943+02:00\",\"LastActivityDate\":\"2020-08-03T20:41:45.943+02:00\",\"OwnerUserId\":55132,\"ParentId\":379389,\"PostTypeId\":2,\"Score\":1,\"ViewCount\":0}\n",
      "{\"Id\":379400,\"AnswerCount\":0,\"Body\":\"<p>Tienes un error al cerrar la etiqueta <code><title></code></p><br/><p>Fíjate que el título de la web es: <code>\\\"Hola mundo </html><script>...</code>\\\" y evidentemente esto nos dice que el título no está bien cerrado, en vez de un \\\"<code></title></code>\\\" usaste un \\\"<code></html></code>\\\" de manera que el navegador entiende que la página termino, así que no continua cargando.<br/>Así que, efectivamente no conoce la función \\\"<code>saludo()</code>\\\".</p><br/><p>Por cierto, el parámetro que le indiques en la consola debería contener un string, así que en vez de <code>saludo(Franco)</code> deberías poner <code>saludo(\\\"Franco\\\")</code>.</p><br/>\",\"CommentCount\":2,\"ContentLicense\":\"CC BY-SA 4.0\",\"Fecha_de_creación\":\"2020-08-03T20:53:14.520+02:00\",\"LastActivityDate\":\"2020-08-03T20:53:14.520+02:00\",\"OwnerUserId\":3440,\"ParentId\":379383,\"PostTypeId\":2,\"Score\":3,\"ViewCount\":0}\n",
      "{\"Id\":379401,\"AnswerCount\":0,\"Body\":\"<p>Gracias por tu aporte Dimas es de mucha ayuda...Hice algunos cambios al codigo primero no instale el programa jasperreport studio que pesa como unos 500mb, otro es que ya no necesitas pasarle la direccion relativa ya que le estas enviando la direccion de la imagen en el path como parametro</p><br/><pre><code>`<imageExpression><![CDATA[$P{path} + \\\"/imagenes/cabecera.png\\\"]]></imageExpression>`<br/></code></pre><br/><p>En fin la expresion queda asi</p><br/><pre><code>`<imageExpression><![CDATA[$P{path}]]></imageExpression>`<br/></code></pre><br/><p>Ademas, yo he cambiado el lenguaje del jrxml de \\\"groovy\\\" a \\\"java\\\" para enviar una lista de parametros al reporte.</p><br/>\",\"CommentCount\":0,\"ContentLicense\":\"CC BY-SA 4.0\",\"Fecha_de_creación\":\"2020-08-03T20:55:18.597+02:00\",\"LastActivityDate\":\"2020-08-03T21:08:24.843+02:00\",\"LastEditDate\":\"2020-08-03T21:08:24.843+02:00\",\"LastEditorDisplayName\":\"user186755\",\"OwnerDisplayName\":\"user186755\",\"ParentId\":106237,\"PostTypeId\":2,\"Score\":0,\"ViewCount\":0}\n",
      "{\"Id\":379402,\"AnswerCount\":1,\"Body\":\"<p>Actualmente estoy usando <strong>Glide</strong> para cargar imagenes en mi app. Funciona bien hasta que tengo que cargar una imagen en un <strong>CustomInfoWindow</strong>. Me sale una advertencia que tiene que ver con el problema, ademas creo que tiene algo que ver con el cache disponible.<p><br/><b>Advertencia:</b><p><br/>Logcat:</p><br/><pre><code>W/Glide: Failed to find GeneratedAppGlideModule. You should include an annotationProcessor compile dependency on com.github.bumptech.glide:compiler in your application and a @GlideModule annotated AppGlideModule implementation or LibraryGlideModules will be silently ignored<br/></code></pre><br/><p>Otros Logcat:</p><br/><pre><code>W/DynamiteModule: Local module descriptor class for com.google.android.gms.googlecertificates not found.<br/>I/DynamiteModule: Considering local module com.google.android.gms.googlecertificates:0 and remote module com.google.android.gms.googlecertificates:5<br/>I/DynamiteModule: Selected remote version of com.google.android.gms.googlecertificates, version >= 5<br/>W/zygote: Skipping duplicate class check due to unrecognized classloader<br/>I/zygote: Do full code cache collection, code=508KB, data=376KB<br/>I/zygote: After code cache collection, code=402KB, data=275KB<br/></code></pre><br/><p>Import, build.gradle y clase donde llamo a Glide dentro de del infoWindow:</p><br/><pre><code>import android.Manifest<br/>import android.annotation.SuppressLint<br/>import android.app.Activity<br/>import android.content.Context<br/>import android.content.Intent<br/>import android.content.pm.PackageManager<br/>import android.graphics.Bitmap<br/>import android.graphics.Point<br/>import android.location.Location<br/>import android.location.LocationManager<br/>import android.net.Uri<br/>import android.os.Build<br/>import android.os.Bundle<br/>import android.os.Environment<br/>import android.provider.MediaStore<br/>import android.util.Log<br/>import android.view.View<br/>import android.widget.AdapterView<br/>import android.widget.ArrayAdapter<br/>import android.widget.ImageView<br/>import android.widget.Toast<br/>import androidx.appcompat.app.ActionBarDrawerToggle<br/>import androidx.appcompat.app.AlertDialog<br/>import androidx.appcompat.app.AppCompatActivity<br/>import androidx.core.app.ActivityCompat<br/>import androidx.core.content.ContextCompat<br/>import androidx.core.view.GravityCompat<br/>import androidx.core.view.isGone<br/>import androidx.core.view.isVisible<br/>import com.bumptech.glide.Glide<br/>import com.bumptech.glide.annotation.GlideModule  (Me aparece sin uso: Unused import directive )<br/>import com.example.mappet001.reports.ReportPet<br/>import com.google.android.gms.location.FusedLocationProviderClient<br/>import com.google.android.gms.location.LocationServices<br/>import com.google.android.gms.maps.*<br/>import com.google.android.gms.maps.model.*<br/>import com.google.android.gms.tasks.OnCompleteListener<br/>import com.google.firebase.Timestamp<br/>import com.google.firebase.auth.FirebaseAuth<br/>import com.google.firebase.firestore.FieldValue<br/>import com.google.firebase.firestore.FirebaseFirestore<br/>import com.google.firebase.firestore.GeoPoint<br/>import com.google.firebase.storage.FirebaseStorage<br/>import kotlinx.android.synthetic.main.activity_maps.*<br/>import kotlinx.android.synthetic.main.content_main.*<br/>import kotlinx.android.synthetic.main.form_report.*<br/>import kotlinx.android.synthetic.main.reportvisor_maps.*<br/>import kotlinx.android.synthetic.main.reportvisor_maps.view.*<br/>import java.io.ByteArrayOutputStream<br/>import java.io.File<br/>import java.text.SimpleDateFormat<br/>import java.util.*<br/>import kotlin.collections.ArrayList<br/>import kotlin.math.cos<br/>import kotlin.math.sin<br/></code></pre><br/><p>Build.gradle:</p><br/><pre><code>apply plugin: 'com.android.application'<br/>apply plugin: 'kotlin-android'<br/>apply plugin: 'kotlin-android-extensions'<br/>apply plugin: 'com.google.gms.google-services'<br/><br/>android {<br/>    compileSdkVersion 30<br/>    buildToolsVersion \\\"30.0.0\\\"<br/><br/>    defaultConfig {<br/>        applicationId \\\"com.example.mappet001\\\"<br/>        minSdkVersion 21<br/>        targetSdkVersion 30<br/>        versionCode 2<br/>        versionName \\\"1.0\\\"<br/><br/>        testInstrumentationRunner \\\"androidx.test.runner.AndroidJUnitRunner\\\"<br/>    }<br/><br/>    buildTypes {<br/>        release {<br/>            minifyEnabled false<br/>            proguardFiles getDefaultProguardFile('proguard-android-optimize.txt'), 'proguard-rules.pro'<br/>        }<br/>    }<br/>    compileOptions {<br/>        sourceCompatibility JavaVersion.VERSION_1_8<br/>        targetCompatibility JavaVersion.VERSION_1_8<br/>    }<br/>    kotlinOptions {<br/>        jvmTarget = '1.8'<br/>    }<br/>}<br/><br/>dependencies {<br/>    implementation fileTree(dir: \\\"libs\\\", include: [\\\"*.jar\\\"])<br/>    implementation \\\"org.jetbrains.kotlin:kotlin-stdlib:$kotlin_version\\\"<br/>    implementation 'androidx.core:core-ktx:1.3.1'<br/>    implementation 'androidx.appcompat:appcompat:1.1.0'<br/>    implementation 'androidx.constraintlayout:constraintlayout:2.0.0-rc1'<br/>    implementation 'androidx.constraintlayout:constraintlayout:1.1.3'<br/>    implementation 'com.google.firebase:firebase-analytics:17.4.4'<br/>    implementation 'com.google.firebase:firebase-auth-ktx:19.3.2'<br/>    implementation 'androidx.legacy:legacy-support-v4:1.0.0'<br/>    implementation 'com.google.android.material:material:1.1.0'<br/>    implementation 'androidx.navigation:navigation-fragment:2.3.0'<br/>    implementation 'androidx.navigation:navigation-ui:2.3.0'<br/>    implementation 'androidx.lifecycle:lifecycle-extensions:2.2.0'<br/>    implementation 'androidx.navigation:navigation-fragment-ktx:2.3.0'<br/>    implementation 'androidx.navigation:navigation-ui-ktx:2.3.0'<br/>    implementation 'com.android.support:appcompat-v7'<br/>    implementation 'com.google.firebase:firebase-auth:19.3.2'<br/>    implementation 'com.google.android.gms:play-services-location:17.0.0'<br/>    implementation 'com.google.android.gms:play-services-maps:17.0.0'<br/>    implementation 'com.google.android.gms:play-services-auth:18.1.0'<br/>    implementation 'com.google.firebase:firebase-firestore:21.5.0'<br/>    implementation 'com.google.firebase:firebase-storage-ktx:19.1.1'<br/>    implementation 'androidx.lifecycle:lifecycle-viewmodel-ktx:2.2.0'<br/>    implementation 'com.google.firebase:firebase-core:17.4.4'<br/>    implementation 'com.google.firebase:firebase-auth:19.3.2'<br/>    implementation 'com.google.firebase:firebase-storage-ktx:19.1.1'<br/>    implementation 'com.google.firebase:firebase-database-ktx:19.3.1'<br/>    implementation 'com.google.firebase:firebase-messaging:20.2.3'<br/>    implementation 'com.firebaseui:firebase-ui-storage:6.2.0'<br/>    testImplementation 'junit:junit:4.12'<br/>    androidTestImplementation 'androidx.test.ext:junit:1.1.1'<br/>    androidTestImplementation 'androidx.test.espresso:espresso-core:3.2.0'<br/>    implementation 'pl.droidsonroids.gif:android-gif-drawable:1.2.19'<br/>}<br/><br/></code></pre><br/><pre><code>inner class CustomInfoWindowGoogleMap(val context: Context) : GoogleMap.InfoWindowAdapter {<br/><br/>        override fun getInfoContents(p0: Marker?): View? {<br/>            return null<br/>        }<br/><br/>        @SuppressLint(\\\"InflateParams\\\")<br/>        override fun getInfoWindow(p0: Marker?): View? {<br/>            val mInfoView = (context as Activity).layoutInflater.inflate(R.layout.reportvisor_maps, null)<br/>            val mInfoWindow: ReportPet? = p0?.tag as ReportPet?<br/><br/>            mInfoView.title_window.text = mInfoWindow?.mTitleReport<br/>            mInfoView.date_ReportVisor.text = mInfoWindow?.mDate<br/>            mInfoView.description_ReportVisor.text = mInfoWindow?.mdescriptionReport<br/>            mInfoView.type_ReportVisor.text = mInfoWindow?.mTypeReport<br/>            try {<br/>                val imageReportVisor = mInfoView.findViewById<ImageView>(R.id.image_ReportVisor)<br/>                Glide.with(context).load(mInfoWindow?.mImageReport).into(imageReportVisor) // image<br/>            }catch (e: Exception){<br/>                Log.d(\\\"ERRORGLIDE\\\",\\\"e: ${e.message}\\\")<br/>            }<br/>            return mInfoView<br/>        }<br/>    }<br/></code></pre><br/><p>Recalcar que no entra al catch().Si ejecuta las ordenes dentro del try. Si alguien fuera tan amable de explicarme como se implementa correctamente el modulo de Glide le estaría muy agradecido.</p><br/><p>pd: Se que en github esta este link:<a href=\\\"http://bumptech.github.io/glide/doc/configuration.html#avoid-appglidemodule-in-libraries\\\" rel=\\\"nofollow noreferrer\\\">GlideModule v4: Configuración </a> pero no se por donde empezar.</p><br/>\",\"CommentCount\":2,\"ContentLicense\":\"CC BY-SA 4.0\",\"Fecha_de_creación\":\"2020-08-03T20:57:11.510+02:00\",\"LastActivityDate\":\"2020-08-07T02:22:33.660+02:00\",\"LastEditDate\":\"2020-08-04T16:39:56.990+02:00\",\"LastEditorUserId\":181212,\"OwnerUserId\":181212,\"PostTypeId\":1,\"Score\":0,\"Tags\":\"<android-studio><kotlin><cache><android-glide>\",\"Title\":\"Kotlin ¿Como implementar correctamente GlideModule?\",\"ViewCount\":468}\n",
      "\n",
      "==> dfSE.json/part-00006-4651a142-8d75-4646-82a7-7ff77757c3bf-c000.json <==\n",
      "{\"Id\":461102,\"AnswerCount\":1,\"Body\":\"<p>Buen dia, estoy creando una grafica de barras usando la libreria amchart para mostrar datos estadisticos y necesito definir los valores del eje Y para que lleguen hasta 100 y no 80.</p><br/><p>por el momento solo llega a 80 y estoy tratando que los valores de la linea vertical lleguen a 100 y no a 80.</p><br/><p>este es el codigo que estoy usando, pero no tengo idea de como definir esos valores o si es posible con la libreria(amchart)</p><br/><p><div class=\\\"snippet\\\" data-lang=\\\"js\\\" data-hide=\\\"false\\\" data-console=\\\"true\\\" data-babel=\\\"false\\\"><br/><div class=\\\"snippet-code\\\"><br/><pre class=\\\"snippet-code-js lang-js prettyprint-override\\\"><code>function render_grafico(datos, tipo_grafico, escala, eje) {<br/><br/>            am4core.useTheme(am4themes_animated);<br/><br/>            if (tipo_grafico == \\\"barras\\\") {<br/>                var chart = am4core.create(\\\"chartdiv\\\", am4charts.XYChart);<br/><br/>                chart.data = datos;<br/>                chart.responsive.enabled = true;<br/>                if (escala == \\\"A\\\")<br/>                    chart.numberFormatter.numberFormat = \\\"#.0\\\";<br/><br/>                var categoryAxis = chart.xAxes.push(new am4charts.CategoryAxis());<br/>                categoryAxis.dataFields.category = \\\"parametro\\\";<br/>                categoryAxis.renderer.grid.template.location = 0;<br/><br/>                categoryAxis.renderer.minGridDistance = 30;<br/><br/>                var axis = chart.yAxes.push(new am4charts.ValueAxis());<br/><br/>                axis.title.text = eje == undefined ? \\\"Frecuencia %\\\" : eje;<br/>                axis.title.rotation = -90;<br/>                axis.title.align = \\\"center\\\";<br/>                axis.title.valign = \\\"middle\\\";<br/>                //axis.title.dy = -40;<br/>                axis.title.fontWeight = 600;<br/><br/>                // Create series<br/>                var series = chart.series.push(new am4charts.ColumnSeries());<br/>                series.dataFields.valueY = \\\"valor\\\";<br/>                series.dataFields.categoryX = \\\"parametro\\\";<br/><br/>                series.name = \\\"valor\\\";<br/>                series.columns.template.tooltipText = \\\"{categoryX}: [bold]{valueY}\\\" + (escala == undefined || escala == 'P' ? \\\"%\\\" : \\\"\\\") + \\\"[/]\\\";<br/>                series.columns.template.fillOpacity = 1;<br/>                series.columns.template.fill = am4core.color(\\\"#00395e\\\"); <br/>                series.columns.template.width = 100;<br/>                series.stacked = true;<br/><br/><br/>                var columnTemplate = series.columns.template;<br/>                columnTemplate.strokeWidth = 1;<br/>                columnTemplate.strokeOpacity = 1;<br/><br/>                var valueLabel = series.bullets.push(new am4charts.LabelBullet());<br/>                valueLabel.label.text = \\\"{valueY}\\\" + (escala == undefined || escala == 'P' ? \\\"%\\\" : \\\"\\\");<br/>                valueLabel.label.fontSize = 20;<br/>                valueLabel.label.verticalCenter = \\\"top\\\";<br/>                valueLabel.label.dy = 10;<br/>                valueLabel.label.fill = am4core.color(\\\"#fff\\\");<br/><br/><br/>            } else {<br/>                var chart = am4core.create(\\\"chartdiv\\\", am4charts.PieChart);<br/>                // Add data<br/>                chart.data = datos;<br/>                chart.numberFormatter.numberFormat = \\\"#.0\\\";<br/>                chart.responsive.enabled = true;<br/><br/>                // Add and configure Series<br/>                var pieSeries = chart.series.push(new am4charts.PieSeries());<br/>                pieSeries.dataFields.value = \\\"valor\\\";<br/>                pieSeries.dataFields.category = \\\"parametro\\\";<br/><br/>                //pieSeries.tooltipText = \\\"{dataFields.category}: {dataFields.value}\\\";<br/>                pieSeries.labels.template.text = \\\"{category}: {value.value}%\\\";<br/>                pieSeries.slices.template.tooltipText = \\\"{category}: [bold]{value.value}%[/]\\\";<br/><br/>                pieSeries.colors.list = [<br/>                    am4core.color(\\\"#00395e\\\"),<br/>                    am4core.color(\\\"#878786\\\"),<br/>                    am4core.color(\\\"#075990\\\"),<br/>                    am4core.color(\\\"#338fce\\\"),<br/>                    am4core.color(\\\"#b7b7b5\\\"),<br/>                    am4core.color(\\\"#656563\\\"),<br/>                    am4core.color(\\\"#F7B334\\\")<br/>                ];<br/><br/>            }<br/><br/>            chart.exporting.menu = new am4core.ExportMenu();<br/>        }</code></pre><br/></div><br/></div><br/></p><br/><p>y este es el resultado<br/><a href=\\\"https://i.stack.imgur.com/ZWHQH.jpg\\\" rel=\\\"nofollow noreferrer\\\"><img src=\\\"https://i.stack.imgur.com/ZWHQH.jpg\\\" alt=\\\"introducir la descripción de la imagen aquí\\\" /></a></p><br/><p>y quiero cambiar los valores del lado izquierdo a algo como esto.<br/><a href=\\\"https://i.stack.imgur.com/6y1yt.jpg\\\" rel=\\\"nofollow noreferrer\\\"><img src=\\\"https://i.stack.imgur.com/6y1yt.jpg\\\" alt=\\\"introducir la descripción de la imagen aquí\\\" /></a></p><br/>\",\"CommentCount\":0,\"ContentLicense\":\"CC BY-SA 4.0\",\"Fecha_de_creación\":\"2021-06-10T21:39:36.073+02:00\",\"LastActivityDate\":\"2021-12-17T18:33:07.130+01:00\",\"OwnerUserId\":156137,\"PostTypeId\":1,\"Score\":0,\"Tags\":\"<javascript><css><html5><amcharts>\",\"Title\":\"Definir valores por default en eje Y amchart\",\"ViewCount\":269}\n",
      "{\"Id\":461103,\"AnswerCount\":0,\"Body\":\"<p>Después de instalar webshot y phantomjs</p><br/><pre><code><br/>install.packages(\\\"webshot\\\")<br/>webshot::install_phantomjs()<br/><br/></code></pre><br/><p>al intentar generar generar el documento en formato .pdf desde un archivo .rmd con <code>knitr</code> se produce este error</p><br/><pre><code><br/>x create process 'C:\\\\Users\\\\JosÃ©Carlos\\\\AppData\\\\Roaming/PhantomJS/phantomjs.exe' (system error 267, El nombre del directorio no es válido.<br/><br/>) @win/processx.c:1040 (processx_exec)<br/><br/></code></pre><br/><p>El mismo error se produce cuando realizo la instalación de phantomjs descargando y guardando el ejecutable <code>phantomjs.exe</code> en un directorio, y añadiendo una variable de entorno que apunta al mismo.</p><br/><p>Cuando elimino la carpeta phantomjs, ya sea instalada desde la consola de R o de RStudio, o bien, descargando y guardando en un directorio, y ejecuto knit/knit to PDF puedo obtener el documento .pdf aunque hay gráficos que no se incorporan y el documento muestra este error:</p><br/><pre><code><br/>PhantomJS not found. You can install it with webshot::install_phantomjs(). If it is installed, please make sure the phantomjs executable can be found via the PATH variable.<br/><br/></code></pre><br/><p>No sé si es posible encontrar la solución a este problema, sería lo deseable, o plantear una alternativa a <code>webshot</code> y <code>phantomjs</code>. Para completar la explicación, que espero sea suficiente para que se pueda aportar una solución, indicar que las tablas knitr/kable se generan bien y se incorporan al informe .pdf, son los gráficos generados con highcharts los que producen el error.</p><br/><p>Y estos son los datos de la sessionInfo() desde RStudio</p><br/><pre><code><br/>> sessionInfo()<br/>R version 4.0.5 (2021-03-31)<br/>Platform: x86_64-w64-mingw32/x64 (64-bit)<br/>Running under: Windows 10 x64 (build 19043)<br/><br/>Matrix products: default<br/><br/>locale:<br/>[1] LC_COLLATE=Spanish_Spain.1252  LC_CTYPE=Spanish_Spain.1252   <br/>[3] LC_MONETARY=Spanish_Spain.1252 LC_NUMERIC=C                  <br/>[5] LC_TIME=Spanish_Spain.1252    <br/><br/>attached base packages:<br/>[1] stats     graphics  grDevices utils     datasets  methods  <br/>[7] base     <br/><br/>loaded via a namespace (and not attached):<br/> [1] compiler_4.0.5    magrittr_2.0.1    htmltools_0.5.1.1<br/> [4] tools_4.0.5       yaml_2.2.1        rmarkdown_2.8    <br/> [7] knitr_1.33        webshot_0.5.2     xfun_0.23        <br/>[10] digest_0.6.27     jsonlite_1.7.2    rlang_0.4.11     <br/>[13] evaluate_0.14    <br/><br/></code></pre><br/>\",\"CommentCount\":6,\"ContentLicense\":\"CC BY-SA 4.0\",\"Fecha_de_creación\":\"2021-06-10T21:43:13.760+02:00\",\"LastActivityDate\":\"2021-06-12T23:34:20.393+02:00\",\"LastEditDate\":\"2021-06-10T21:55:48.070+02:00\",\"LastEditorUserId\":157214,\"OwnerUserId\":157214,\"PostTypeId\":1,\"Score\":4,\"Tags\":\"<r><rstudio><windows10><r-markdown>\",\"Title\":\"Error al generar pdf con knitr después de instalar phantomjs\",\"ViewCount\":344}\n",
      "{\"Id\":461104,\"AcceptedAnswerId\":461111,\"AnswerCount\":3,\"Body\":\"<p>Lo que quiero es mostrar todos los registros de una tabla <code>(SQL)</code> en <code>PHP</code> por medio de una tabla.</p><br/><p>Esta es la tabla:</p><br/><pre><code><div class=\\\"col-md-8\\\"><br/>    <table class=\\\"table\\\"><br/>        <thead class=\\\"table-success table-striped\\\"><br/>            <tr><br/>                <th>Id</th><br/>                <th>Nombre</th><br/>                <th>Apellido</th><br/>                <th>Edad</th><br/>                <th>Fecha de nacimiento</th><br/>            </tr><br/>        </thead><br/>        <tbody><br/>            <?php<br/>            while ($row = mysqli_fetch_array($query)) {<br/>            ?><br/>                <tr><br/>                    <th><?php echo $row['id'] ?></th><br/>                    <th><?php echo $row['nombre'] ?></th><br/>                    <th><?php echo $row['apellido'] ?></th><br/>                    <th><?php echo $row['edad'] ?></th><br/>                    <th><?php echo $row['fecha_de_nacimiento'] ?></th><br/>                </tr><br/>            <?php<br/>            }<br/>            ?><br/>        </tbody><br/>    </table><br/></div><br/></code></pre><br/><p>este es el codigo <code>PHP</code> con el que llamo a los registros</p><br/><pre><code><?php <br/>include(\\\"funcionalidad/conexion.php\\\");<br/>$conn = conectar();<br/><br/>$sql = \\\"SELECT *  FROM usuario\\\";<br/>$query = mysqli_query($conn,$sql);<br/><br/>$row = mysqli_fetch_array($query);<br/>?><br/></code></pre><br/><p>lo raro es que si funciona, pero no como me lo esperaba ya que tengo 2 registros en la base de datos<br><br/><a href=\\\"https://i.stack.imgur.com/twObb.png\\\" rel=\\\"nofollow noreferrer\\\"><img src=\\\"https://i.stack.imgur.com/twObb.png\\\" alt=\\\"introducir la descripción de la imagen aquí\\\" /></a></p><br/><p>pero solo me muestra uno en el <code>PHP</code><br/><a href=\\\"https://i.stack.imgur.com/fC4e0.png\\\" rel=\\\"nofollow noreferrer\\\"><img src=\\\"https://i.stack.imgur.com/fC4e0.png\\\" alt=\\\"introducir la descripción de la imagen aquí\\\" /></a></p><br/>\",\"CommentCount\":1,\"ContentLicense\":\"CC BY-SA 4.0\",\"Fecha_de_creación\":\"2021-06-10T21:46:18.807+02:00\",\"LastActivityDate\":\"2021-06-10T22:48:46.083+02:00\",\"LastEditDate\":\"2021-06-10T21:48:25.283+02:00\",\"LastEditorUserId\":131662,\"OwnerUserId\":34270,\"PostTypeId\":1,\"Score\":1,\"Tags\":\"<php><mysql><html5><tablas>\",\"Title\":\"Mostrar todos los datos en una tabla PHP y MYSQL\",\"ViewCount\":2345}\n",
      "{\"Id\":461105,\"AnswerCount\":0,\"Body\":\"<p>estoy haciendo un carrito de compras, como es solo una prueba, los productos los genero aleatoriamente a traves de javascript. Mi problema radica en lo siguiente, al seleccionar 'Agregar' los datos de este articulo (precio, codigo, nombre) los coloco en un elemento que se va a crear y creara una lista de los que vaya agregando, cada uno de los elementos de esta lista tienen un elemento <code>tr</code>  <code>class: item</code> y tambien en el precio tengo un icono de una basura para eliminarlo... Bien, yo quiero tomar todos los elementos que sean mi basura para entonces añadirles el evento para borrar el elemento que este en esa posicion, el problema radica que no me lo esta tomando y no tengo idea de porque, necesito ayuda por favor</p><br/><pre><code>function agregarArticulos () {<br/><br/>    let item;<br/>    <br/><br/>        agregarBtns.forEach(function(btn, posicion) {<br/>      <br/>        btn.addEventListener(\\\"click\\\", () => {<br/><br/>            alert.classList.add(\\\"hidden\\\");<br/><br/>            if (listaArticulos.length > 4) {<br/>            alert.classList.remove(\\\"hidden\\\");<br/>            return;<br/>            } <br/>                <br/>           <br/>            <br/><br/><br/>            item = document.createElement(\\\"tr\\\");<br/>            item.className = `item item${posicion}`<br/>            item.innerHTML = `    <td class=\\\"name-title name\\\">`+ names[posicion].textContent +`</td><br/>            <td class=\\\"code-title code\\\">`+ codes[posicion].textContent +`</td><br/>            <td class=\\\"price-title title-first price-item\\\">`+ prices[posicion].textContent +` <span class=\\\"fas fa-trash btn-trash\\\"></>  </td>`<br/>            table.appendChild(item);<br/>        <br/>            listaArticulos.push(item);  <br/><br/>            <br/>            if(listaArticulos.length > 0) {<br/>                <br/>                carritoBtn.classList.remove(\\\"hidden\\\");<br/><br/>            }<br/><br/>         <br/>            <br/>                <br/>        });<br/>    <br/>    }); <br/><br/>};<br/><br/>// no los toma<br/><br/>let itemList = document.querySelectorAll(\\\".item\\\");<br/><br/>console.log(itemList)<br/><br/>let btnsEliminar = document.querySelectorAll(\\\".price-title .fa-trash\\\");<br/>             console.log(btnsEliminar)<br/></code></pre><br/>\",\"CommentCount\":5,\"ContentLicense\":\"CC BY-SA 4.0\",\"Fecha_de_creación\":\"2021-06-10T21:46:53.397+02:00\",\"LastActivityDate\":\"2021-06-10T21:46:53.397+02:00\",\"OwnerUserId\":213664,\"PostTypeId\":1,\"Score\":0,\"Tags\":\"<javascript>\",\"Title\":\"querySelectorAll no me toma ningun item\",\"ViewCount\":87}\n",
      "{\"Id\":461106,\"AnswerCount\":0,\"Body\":\"<p>Quisiera generar un informe a travez de un \\\"Form\\\" de windows, Generar un informe utilizando el mismo diseñador de formulario del Visual Studio, y de esta forma imprimir un informe, con labels, textbox y listview. Deacuerdo a al siguiente informe<br/><a href=\\\"https://docs.microsoft.com/en-us/dotnet/desktop/winforms/advanced/how-to-print-a-windows-form?view=netframeworkdesktop-4.8\\\" rel=\\\"nofollow noreferrer\\\">Como imprimir un formulario</a><br/>El problema con esta idea es que no sé cómo generar el tamaño exacto a realizar del formulario.<br/>El tamaño de hoja legal o Oficio en Píxeles es el siguiente (816, 1344), pero al intentar poner este tamaño en el formulario, no puedo generar el tamaño anteriormente dicho.</p><br/><p><strong>Actualizacion</strong></p><br/><p>Estoy utilizando Un Usercontrol, que si me deja modificar el tamaño al anteriomente dicho, pero al intentar imprimir, hace una capura de pantalla y no hace una impresion de dicho componente.</p><br/><p>Intento llamar al usercontrol, desde un form, sin realizar un \\\"show\\\", y utilizol la siguiente funcion:</p><br/><pre><code>private Bitmap ControlaImagen(System.Windows.Forms.Control theControl)<br/>{<br/>    <br/>    Bitmap bm = new Bitmap(theControl.Width, theControl.Height);<br/>    theControl.DrawToBitmap(bm, new Rectangle(0, 0, theControl.Width, theControl.Height));<br/>    return bm;           <br/>}<br/></code></pre><br/><p>Simplemente asigno a una variable el Usercontrol y luego lo paso por la funcion anterior<br/>Y luego lo intento imprimir con el siguiente evento de printpage, de un PrintDocument</p><br/><pre><code>private void Cuponaimprimir_PrintPage(object sender, PrintPageEventArgs e)<br/>        {<br/>            e.Graphics.DrawImage(ControlaImagen(New cupon()), 0, 0);}<br/></code></pre><br/><p>Porque puede ser que no redenrisa el formulario y lo envia a imagen ?<br/>He intentado con Refresh, Update, Voids de Usercontrol, y nada</p><br/><p>Alguien tiene alguna sugerencia?, gracias</p><br/>\",\"CommentCount\":5,\"ContentLicense\":\"CC BY-SA 4.0\",\"Fecha_de_creación\":\"2021-06-10T21:48:12.340+02:00\",\"LastActivityDate\":\"2021-06-22T16:43:49.647+02:00\",\"LastEditDate\":\"2021-06-22T16:43:49.647+02:00\",\"LastEditorUserId\":54596,\"OwnerUserId\":54596,\"PostTypeId\":1,\"Score\":0,\"Tags\":\"<c#><print>\",\"Title\":\"Imprimir un formulario c# con un tamaño de hoja (abierto)\",\"ViewCount\":341}\n",
      "{\"Id\":461107,\"AnswerCount\":0,\"Body\":\"<p>Puedes usar la funcion filter de dplyr</p><br/><pre><code> library(dplyr)<br/><br/> df %>% <br/>    filter(Region == \\\"Arica y Parinacota\\\" & Categoria == \\\"Casos acumulados\\\")<br/></code></pre><br/>\",\"CommentCount\":0,\"ContentLicense\":\"CC BY-SA 4.0\",\"Fecha_de_creación\":\"2021-06-10T21:48:50.367+02:00\",\"LastActivityDate\":\"2021-06-10T21:48:50.367+02:00\",\"OwnerUserId\":142796,\"ParentId\":461070,\"PostTypeId\":2,\"Score\":0,\"ViewCount\":0}\n",
      "{\"Id\":461108,\"AnswerCount\":0,\"Body\":\"<p>Lo que pasa es que estas usando un formato incorrecto. En lugar de <code>%.2f</code> tienes<br/>que usar <code>%f</code>.</p><br/><pre><code>#include <iostream><br/>#include <stdlib.h><br/>#include <string.h><br/><br/>int main() {<br/>    int alumno;<br/>    float nota;<br/>    char  nombre[20];<br/>    printf(\\\"\\\\t\\\\t SISTEMA DE CALIFICACIONES\\\\n\\\\n\\\");<br/>    printf(\\\"Indicar la cantidad de alumnos: \\\");<br/>    scanf(\\\"%d\\\", &alumno);<br/>    for (int i = 0; i < alumno; i++) {<br/>        printf(\\\"Ingresar nombre del alumno: \\\");<br/>        fflush(stdin);<br/>        gets(nombre);<br/>        printf(\\\"Ingresar calificacion: \\\");<br/>        scanf(\\\"%f\\\", &nota);<br/>        if (nota < 4) {<br/>            printf(\\\"Aplazado \\\\n\\\");<br/>        } else {<br/>            printf(\\\"Aprobado \\\\n\\\");<br/>        }<br/>    }<br/>    system(\\\"pause\\\");<br/>    return 0;<br/>}<br/></code></pre><br/>\",\"CommentCount\":0,\"ContentLicense\":\"CC BY-SA 4.0\",\"Fecha_de_creación\":\"2021-06-10T21:52:55.163+02:00\",\"LastActivityDate\":\"2021-06-10T21:52:55.163+02:00\",\"OwnerUserId\":153685,\"ParentId\":461071,\"PostTypeId\":2,\"Score\":0,\"ViewCount\":0}\n",
      "{\"Id\":461110,\"AnswerCount\":0,\"Body\":\"<p>Tal y como menciono, no estás generando el html dinamico.<br><br/>Estás siempre mandando el último registro, por lo que no se insertan nuevos datos.</p><br/><p>Lo que debes cambiar, es esta parte del <code>tbody</code>, a lo sgte:</p><br/><pre><code><tbody><br/>    <?php<br/>    foreach($row = mysqli_fetch_array($query)) {<br/>        echo \\\"<tr>\\\";<br/>        echo \\\"<th>\\\" . $row['id'] . \\\"</th>\\\";<br/>        echo \\\"<th>\\\" . $row['nombre'] . \\\"</th>\\\";<br/>        echo \\\"<th>\\\" . $row['apellido'] . \\\"</th>\\\";<br/>        echo \\\"<th>\\\" . $row['edad'] . \\\"</th>\\\";<br/>        echo \\\"<th>\\\" . $row['fecha_de_nacimiento'] . \\\"</th>\\\";<br/>        echo \\\"</tr>\\\";<br/>    }<br/>    ?><br/></tbody><br/></code></pre><br/>\",\"CommentCount\":0,\"ContentLicense\":\"CC BY-SA 4.0\",\"Fecha_de_creación\":\"2021-06-10T21:54:02.573+02:00\",\"LastActivityDate\":\"2021-06-10T21:54:02.573+02:00\",\"OwnerUserId\":131662,\"ParentId\":461104,\"PostTypeId\":2,\"Score\":1,\"ViewCount\":0}\n",
      "{\"Id\":461111,\"AnswerCount\":0,\"Body\":\"<p>Te recomendaría hacerlo con foreach amigo, con while solo envías un dato.</p><br/><pre><code><tbody><br/>    <?php<br/>    foreach ($query as $row) {<br/>    ?><br/>        <tr><br/>            <th><?php echo $row['id'] ?></th><br/>            <th><?php echo $row['nombre'] ?></th><br/>            <th><?php echo $row['apellido'] ?></th><br/>            <th><?php echo $row['edad'] ?></th><br/>            <th><?php echo $row['fecha_de_nacimiento'] ?></th><br/>        </tr><br/>    <?php<br/>    }<br/>    ?><br/></tbody><br/></code></pre><br/>\",\"CommentCount\":0,\"ContentLicense\":\"CC BY-SA 4.0\",\"Fecha_de_creación\":\"2021-06-10T21:54:21.377+02:00\",\"LastActivityDate\":\"2021-06-10T21:57:55.523+02:00\",\"LastEditDate\":\"2021-06-10T21:57:55.523+02:00\",\"LastEditorUserId\":131662,\"OwnerUserId\":218167,\"ParentId\":461104,\"PostTypeId\":2,\"Score\":1,\"ViewCount\":0}\n",
      "{\"Id\":461112,\"AnswerCount\":0,\"Body\":\"<p>La manera correcta y moderna seria la siguiente almacenar primero todo y luego expones el html.</p><br/><p>Separa lo mas que puedas el html de la logica en php ayuda a poder darle un mejor mantenimiento y si tu logica falla se rompera tu codigo php y no tu html, cuando llegues a usar plantillas lo agradeceras.</p><br/><pre><code><?php<br/>//esto normalmente esta en una clase que maneja consultas Genericas a la base de datos:<br/>function getTable($tabla){<br/>    include(\\\"funcionalidad/conexion.php\\\");<br/>    $conn = conectar();<br/>    $sql = \\\"SELECT *  FROM $tabla\\\";<br/>    return mysqli_query($conn,$sql);<br/>}<br/><br/>//esto esta en una capa/clase que se encarga de tomar datos y acomodarlos<br/>function iterateDataToTable($data){<br/>    $lines='';<br/>    while($row = mysqli_fetch_array($data)) {<br/>        $lines.='<tr><br/>                <td>'.$row['id'].'</td><br/>                <td>'.$row['nombre'].'</td><br/>                <td>'.$row['apellido'].'</td><br/>                <td>'.$row['edad'].'</td><br/>                <td>'.$row['fecha_de_nacimiento'].'</td><br/>            </tr>'; <br/>    }<br/>    return $lines;<br/>}<br/><br/>$data=getTable('usuario');<br/>$lines=iterateDataToTable($data);<br/><br/>?><br/><br/><br/><div class=\\\"col-md-8\\\"><br/>    <table class=\\\"table\\\"><br/>        <thead class=\\\"table-success table-striped\\\"><br/>            <tr><br/>                <th>Id</th><br/>                <th>Nombre</th><br/>                <th>Apellido</th><br/>                <th>Edad</th><br/>                <th>Fecha de nacimiento</th><br/>            </tr><br/>        </thead><br/>        <tbody><br/>            <?php<br/>                echo $lines;<br/>            ?><br/>        </tbody><br/>    </table><br/></div><br/></code></pre><br/>\",\"CommentCount\":0,\"ContentLicense\":\"CC BY-SA 4.0\",\"Fecha_de_creación\":\"2021-06-10T21:58:31.953+02:00\",\"LastActivityDate\":\"2021-06-10T22:48:46.083+02:00\",\"LastEditDate\":\"2021-06-10T22:48:46.083+02:00\",\"LastEditorDisplayName\":\"user46896\",\"OwnerDisplayName\":\"user46896\",\"ParentId\":461104,\"PostTypeId\":2,\"Score\":3,\"ViewCount\":0}\n",
      "\n",
      "==> dfSE.json/part-00007-4651a142-8d75-4646-82a7-7ff77757c3bf-c000.json <==\n",
      "{\"Id\":544916,\"AcceptedAnswerId\":544934,\"AnswerCount\":1,\"Body\":\"<p>Tengo una función \\\"search\\\" que busca textos dentro de un array.<br/>Ahora mismo funciona perfectamente cuando encuentra los objetos, pero de no hacerlo, no consigo que me muestre el texto \\\"Mensaje no encontrado\\\".<br/>Los resultados se muestran en un alert en ambos casos.</p><br/><p>Os paso el código:</p><br/><pre><code>function search() {<br/>  let results = '';<br/>  let value = document.getElementById(\\\"input_busqueda\\\").value;<br/>  let listaMensajes = channels[currentChannel].messages;<br/>  for (let messageItem of listaMensajes) {<br/>    if (messageItem.mensaje.includes(value)) {<br/>      //results.push(messageItem);<br/>      results += '-' + messageItem.usuario + ': ' + messageItem.mensaje + ', ' + messageItem.fecha + '\\\\n'<br/>    }else{messageItem.mensaje.includes(\\\"Mensaje no encontrado\\\")}<br/>  }<br/><br/><br/>  alert(results);<br/><br/>  console.log('resultados', results);<br/>}<br/></code></pre><br/><p>Gracias!!</p><br/>\",\"CommentCount\":0,\"ContentLicense\":\"CC BY-SA 4.0\",\"Fecha_de_creación\":\"2022-07-06T15:56:35.773+02:00\",\"LastActivityDate\":\"2022-07-06T16:42:29.763+02:00\",\"OwnerUserId\":287494,\"PostTypeId\":1,\"Score\":1,\"Tags\":\"<javascript>\",\"Title\":\"Mi aplicación no muestra \\\"Mensaje no encontrado\\\"\",\"ViewCount\":17}\n",
      "{\"Id\":544917,\"AnswerCount\":0,\"Body\":\"<p>Estoy tratando de agregar productos al carrito pero solo logro agregar un solo producto, lo que quiero es segun el numero del counter, que se agregan x cantidad de productos al carrito.</p><br/><p>Este es mi state del carrito</p><br/><pre><code>const [shoppingCart, setShoppingCart] = useState([]);<br/></code></pre><br/><p>Este es el contador`</p><br/><pre><code>export const Counter = ({ stock, cardDate, shoppingCart, setShoppingCart }) => {<br/>  const [numCounter, setNumCounter] = useState(0);<br/>  const [btnAddProduct, setBtnAddProduct] = useState(false); //Estado del boton para agregar al carrito<br/><br/>  const addProduct = () => {<br/>    if (numCounter < stock) {<br/>      setNumCounter(numCounter + 1);<br/>    }<br/>  };<br/><br/>  const SubtractProduct = () => {<br/>    if (numCounter > 0) {<br/>      setNumCounter(numCounter - 1);<br/>    }<br/>  };<br/><br/>  return (<br/>    <CounterContainer><br/>      {!btnAddProduct ? (<br/>        <CounterWrapper stock={stock}><br/>          <CounterIcon Icon={<GrSubtract onClick={SubtractProduct} />} /><br/>          <h4>{numCounter}</h4><br/>          <CounterIcon Icon={<GrAdd onClick={addProduct} />} /><br/>        </CounterWrapper><br/>      ) : (<br/>        \\\"\\\"<br/>      )}<br/><br/>      <AddProduct<br/>        cardDate={cardDate}<br/>        stock={stock}<br/>        numCounter={numCounter} //state<br/>        btnAddProduct={btnAddProduct} //setState<br/>        setBtnAddProduct={setBtnAddProduct} //setState<br/>        shoppingCart={shoppingCart} //state<br/>        setShoppingCart={setShoppingCart} //setState<br/>      /><br/>      <p className=\\\"stock\\\">Stock disponible: {stock}</p><br/>    </CounterContainer><br/>  );<br/>};<br/></code></pre><br/><p>Y esta es la logica que uso para cuando hago click en el boton agregar al carrito , se agrega.</p><br/><pre><code>const addproductsCart = () => {<br/>    setShoppingCart([...shoppingCart, { cardDate }]);<br/>  };<br/><br/></code></pre><br/>\",\"CommentCount\":3,\"ContentLicense\":\"CC BY-SA 4.0\",\"Fecha_de_creación\":\"2022-07-06T15:57:28.003+02:00\",\"LastActivityDate\":\"2022-07-06T15:57:28.003+02:00\",\"OwnerUserId\":294203,\"PostTypeId\":1,\"Score\":1,\"Tags\":\"<reactjs>\",\"Title\":\"Como agregar productos al carrito según el numero del contador\",\"ViewCount\":218}\n",
      "{\"Id\":544918,\"AnswerCount\":0,\"Body\":\"<p>Luego de mucho investigar pude resolverlo, la única manera de enviar un parámetro como el id es añadiéndolo a la URL del endpoint, en mi caso el endpoint es el siguiente:</p><br/><pre><code> const endpoint = 'http://192.168.100.2:7000/search/user/id'<br/></code></pre><br/><p>para enviar el id, en este caso el 87, seria de la siguiente manera:</p><br/><pre><code>const endpoint = 'http://192.168.100.2:7000/search/user/id/?id=87';<br/></code></pre><br/><p>Desconozco si se puede pasar mas de un parámetro.</p><br/>\",\"CommentCount\":0,\"ContentLicense\":\"CC BY-SA 4.0\",\"Fecha_de_creación\":\"2022-07-06T15:57:58.993+02:00\",\"LastActivityDate\":\"2022-07-06T15:57:58.993+02:00\",\"OwnerUserId\":258348,\"ParentId\":544909,\"PostTypeId\":2,\"Score\":0,\"ViewCount\":0}\n",
      "{\"Id\":544919,\"AnswerCount\":1,\"Body\":\"<p>Tengo una llamada desde php a python de la siguiente forma:</p><br/><p>PHP</p><br/><pre><code>    $command = \\\"python3 /var/www/html/py/setup.py '\\\";<br/>    $command .=$json;<br/>    $command .=\\\"'\\\";<br/>    echo shell_exec($command);<br/></code></pre><br/><p>El problema es que dentro de setup.py hago una llamada a otro script python que logea todas las peticiones y este es el misterio.<br/>Si la llamada a setup.py la hago desde php, la llamada desde setup.py a logger.py no funciona, pero si lanzo la misma petición desde consola a setup.py, logger.py se ejecuta y logea sin problema.</p><br/><p>setup.py</p><br/><pre><code>     subprocess.check_output(\\\"python3 /var/www/html/py/logger.py 'peticion: \\\"+sys.argv[1]+\\\"'\\\", shell=True)<br/>    <br/></code></pre><br/>\",\"CommentCount\":0,\"ContentLicense\":\"CC BY-SA 4.0\",\"Fecha_de_creación\":\"2022-07-06T15:58:15.917+02:00\",\"LastActivityDate\":\"2022-07-07T08:40:04.043+02:00\",\"OwnerUserId\":28030,\"PostTypeId\":1,\"Score\":0,\"Tags\":\"<php><python>\",\"Title\":\"llamada php a python\",\"ViewCount\":16}\n",
      "{\"Id\":544920,\"AcceptedAnswerId\":544943,\"AnswerCount\":1,\"Body\":\"<p>Tengo la tabla fixtures asi:<br/><a href=\\\"https://i.stack.imgur.com/FHlHq.png\\\" rel=\\\"nofollow noreferrer\\\"><img src=\\\"https://i.stack.imgur.com/FHlHq.png\\\" alt=\\\"tabla fictures\\\" /></a></p><br/><p>y tengo la tabla teams asi:</p><br/><p><a href=\\\"https://i.stack.imgur.com/hr4Mt.png\\\" rel=\\\"nofollow noreferrer\\\"><img src=\\\"https://i.stack.imgur.com/hr4Mt.png\\\" alt=\\\"tabla teams\\\" /></a></p><br/><p>En fixtures las columnas local y visit corresponden a la columna teams_id de la tabla teams.<br/>Lo que quiero es generar una vista (SELECT) que muestre fixtures pero en vez de mostrar el codigo del equipo (local, visit) mostrar sus correspondientes logos, simpre y cuando la ronda sea xxx (WHERE round=xxx)</p><br/>\",\"CommentCount\":0,\"ContentLicense\":\"CC BY-SA 4.0\",\"Fecha_de_creación\":\"2022-07-06T16:01:38.567+02:00\",\"LastActivityDate\":\"2022-07-08T08:57:26.913+02:00\",\"OwnerUserId\":294195,\"PostTypeId\":1,\"Score\":0,\"Tags\":\"<mysql><select><join>\",\"Title\":\"Como crear una vista con JOIN reemplazando dos columnas en MySQL\",\"ViewCount\":43}\n",
      "{\"Id\":544922,\"AnswerCount\":1,\"Body\":\"<p>Estoy intentando llamar un método de Vue (definido en el objeto methods del export del componente) desde una función de JQuery definida en el mounted() del mismo export del componente.<br/>Mi código es el siguiente:</p><br/><p><strong>Método:</strong> <code>this.Cliente</code> hace referencia a una variable Cliente creada en data().</p><br/><pre><code>// Metodos de Vue.<br/>   methods: {<br/>      async ObtenerClienteRUT(ParamRutCliente) {<br/>         const api = new ApiEtc()<br/>         const consulta = await api.getClienteRUT(ParamRutCliente)<br/>         this.Cliente = consulta<br/>      }<br/>   },<br/></code></pre><br/><p><strong>Función JQuery:</strong> Extracto. Todo está dentro de un <code>$(document).ready(function () {</code></p><br/><pre><code>// Si es válido permitir paso a siguiente paso.<br/>   if (isValid) {<br/>      var RutCliente = $('#inputRUT').val();<br/>      var cliente = this.ObtenerClienteRUT(RutCliente)<br/>      console.log(cliente)<br/>      nextStepWizard.removeAttr('disabled').trigger('click');<br/>   }<br/></code></pre><br/><p>El problema que tengo actualmente, es que al llamar la función, me da error mediante consola indicándome que <strong>this.ObtenerClienteRUT no es una función.</strong></p><br/><p>Lo que he intentado hasta ahora:</p><br/><ul><br/><li>Crear la misma función dentro del mismo mounted() donde se encuentra la función de JQuery y llamarla directamente, pero esto me retorna un objeto promesa donde no logro obtener solo el valor de PromiseResult que necesito.</li><br/></ul><br/><p>¿Alguna idea para solucionar esto? Necesito 1) llamar a la función this.ObtenerClienteRUT del Methods o 2) al llamar a la función directamente poder obtener los resultados no la promesa como objeto.</p><br/><p>¿Qué me recomiendan? ¿Es posible realizar lo que quiero hacer (form wizard) sin utilizar JQuery solamente con VUE? Desde ya muchas gracias :D</p><br/>\",\"CommentCount\":1,\"ContentLicense\":\"CC BY-SA 4.0\",\"Fecha_de_creación\":\"2022-07-06T16:04:27.727+02:00\",\"LastActivityDate\":\"2022-07-06T16:55:01.300+02:00\",\"LastEditDate\":\"2022-07-06T16:07:32.200+02:00\",\"LastEditorUserId\":285174,\"OwnerUserId\":285174,\"PostTypeId\":1,\"Score\":0,\"Tags\":\"<javascript><jquery><vue.js>\",\"Title\":\"Llamar un método de Vue3 desde JQuery\",\"ViewCount\":112}\n",
      "{\"Id\":544923,\"AnswerCount\":0,\"Body\":\"<p>El puerto debe está abierto en el firewall; y se debe colocar en la url, de no querer usar el 8181, cambia a 443, ya no sería necesario colocarlo en le URL<br/>saludos</p><br/>\",\"CommentCount\":1,\"ContentLicense\":\"CC BY-SA 4.0\",\"Fecha_de_creación\":\"2022-07-06T16:04:31.813+02:00\",\"LastActivityDate\":\"2022-07-06T16:05:00.200+02:00\",\"LastEditDate\":\"2022-07-06T16:05:00.200+02:00\",\"LastEditorUserId\":294206,\"OwnerUserId\":294206,\"ParentId\":298192,\"PostTypeId\":2,\"Score\":0,\"ViewCount\":0}\n",
      "{\"Id\":544928,\"AnswerCount\":1,\"Body\":\"<p>Al hacer render a la aplicacion obtengo este error  me señala la linea 17... no entiendo porque</p><br/><pre><code> 15 |     <App /><br/>  16 |   </React.StrictMode>,<br/>> 17 |   document.getElementById('root')<br/>     |  ^<br/>  18 | );<br/>  19 | <br/>  20 | const Home: NextPage = () => {<br/></code></pre><br/>\",\"CommentCount\":1,\"ContentLicense\":\"CC BY-SA 4.0\",\"Fecha_de_creación\":\"2022-07-06T16:25:29.390+02:00\",\"LastActivityDate\":\"2022-08-09T04:46:58.353+02:00\",\"OwnerUserId\":35539,\"PostTypeId\":1,\"Score\":0,\"Tags\":\"<reactjs><nextjs>\",\"Title\":\"Server Error ReferenceError: document is not defined\",\"ViewCount\":21}\n",
      "{\"Id\":544930,\"AnswerCount\":2,\"Body\":\"<p>Estoy intentando hacer un formulario en el que tengo un campo para poner la fecha, como el siguiente:</p><br/><pre><code> <p><br/>       <label for = \\\"nacimiento\\\">Fecha de nacimiento</label><br/>       <input type = \\\"date\\\" id = \\\"fechaP\\\" name = \\\"nacimiento\\\" ><br/> </p><br/></code></pre><br/><p>Pero claro, al pulsar sobre este campo, sale un calendario para elegir la fecha y me gustaría que el usuario pueda introducir la fecha a mano, es decir los número (ej. 06/07/2022). Y que al introducirlo, tenga un formato predeterminado, es decir dd/mm/aaa.<br/>Estoy intentando buscar la forma, pero no se me ocurre nada.</p><br/>\",\"CommentCount\":1,\"ContentLicense\":\"CC BY-SA 4.0\",\"Fecha_de_creación\":\"2022-07-06T16:35:58.420+02:00\",\"LastActivityDate\":\"2022-07-06T17:25:36.307+02:00\",\"OwnerUserId\":273256,\"PostTypeId\":1,\"Score\":0,\"Tags\":\"<javascript><html><html5><css3><formularios>\",\"Title\":\"Como poner el campo fecha en un formulario, pero sin que salga el calendario \\\"típico\\\"\",\"ViewCount\":489}\n",
      "{\"Id\":544931,\"AnswerCount\":0,\"Body\":\"<p>Lo arreglé agregando sintactico.error = \\\"\\\" justo antes de la última línea, dentro del bucle for. Supongo que eso permite que sintactico.error se actualice como debe.</p><br/>\",\"CommentCount\":0,\"ContentLicense\":\"CC BY-SA 4.0\",\"Fecha_de_creación\":\"2022-07-06T16:36:48.950+02:00\",\"LastActivityDate\":\"2022-07-06T16:36:48.950+02:00\",\"OwnerUserId\":268371,\"ParentId\":544889,\"PostTypeId\":2,\"Score\":0,\"ViewCount\":0}\n"
     ]
    }
   ],
   "source": [
    "%%sh\n",
    "ls -lh dfSE.json\n",
    "head dfSE.json/part-*.json"
   ]
  },
  {
   "cell_type": "code",
   "execution_count": 57,
   "metadata": {
    "autoscroll": "auto"
   },
   "outputs": [
    {
     "name": "stderr",
     "output_type": "stream",
     "text": [
      "                                                                                \r"
     ]
    }
   ],
   "source": [
    "# Guardo el DataFrame usando Parquet\n",
    "dfSE.write.format(\"parquet\")\\\n",
    "    .mode(\"overwrite\")\\\n",
    "    .option(\"compression\", \"gzip\")\\\n",
    "    .save(\"dfSE.parquet\")"
   ]
  },
  {
   "cell_type": "code",
   "execution_count": 58,
   "metadata": {
    "autoscroll": "auto"
   },
   "outputs": [
    {
     "name": "stdout",
     "output_type": "stream",
     "text": [
      "8\n"
     ]
    }
   ],
   "source": [
    "print(dfSE.rdd.getNumPartitions())"
   ]
  },
  {
   "cell_type": "code",
   "execution_count": 59,
   "metadata": {
    "format": "text/plain",
    "vscode": {
     "languageId": "shellscript"
    }
   },
   "outputs": [
    {
     "name": "stdout",
     "output_type": "stream",
     "text": [
      "total 445440\n",
      "-rw-r--r--  1 luisi  staff     0B Nov 12 16:37 _SUCCESS\n",
      "-rw-r--r--  1 luisi  staff    27M Nov 12 16:37 part-00000-8cca6956-dabb-4049-9a57-28d2aa70001b-c000.gz.parquet\n",
      "-rw-r--r--  1 luisi  staff    26M Nov 12 16:37 part-00001-8cca6956-dabb-4049-9a57-28d2aa70001b-c000.gz.parquet\n",
      "-rw-r--r--  1 luisi  staff    26M Nov 12 16:37 part-00002-8cca6956-dabb-4049-9a57-28d2aa70001b-c000.gz.parquet\n",
      "-rw-r--r--  1 luisi  staff    27M Nov 12 16:37 part-00003-8cca6956-dabb-4049-9a57-28d2aa70001b-c000.gz.parquet\n",
      "-rw-r--r--  1 luisi  staff    27M Nov 12 16:37 part-00004-8cca6956-dabb-4049-9a57-28d2aa70001b-c000.gz.parquet\n",
      "-rw-r--r--  1 luisi  staff    27M Nov 12 16:37 part-00005-8cca6956-dabb-4049-9a57-28d2aa70001b-c000.gz.parquet\n",
      "-rw-r--r--  1 luisi  staff    27M Nov 12 16:37 part-00006-8cca6956-dabb-4049-9a57-28d2aa70001b-c000.gz.parquet\n",
      "-rw-r--r--  1 luisi  staff    26M Nov 12 16:37 part-00007-8cca6956-dabb-4049-9a57-28d2aa70001b-c000.gz.parquet\n"
     ]
    }
   ],
   "source": [
    "%%sh\n",
    "# Parquet usa por defecto formato comprimido snappy\n",
    "ls -lh dfSE.parquet"
   ]
  },
  {
   "cell_type": "markdown",
   "metadata": {},
   "source": [
    "Se crean tantos ficheros como particiones tenga el DataFrame"
   ]
  },
  {
   "cell_type": "code",
   "execution_count": 60,
   "metadata": {
    "autoscroll": "auto"
   },
   "outputs": [
    {
     "name": "stderr",
     "output_type": "stream",
     "text": [
      "                                                                                \r"
     ]
    }
   ],
   "source": [
    "dfSE2 = dfSE.repartition(2)\n",
    "# Guardo el DataFrame  usando Parquet, con compresión gzip\n",
    "dfSE2.write.format(\"parquet\")\\\n",
    "     .mode(\"overwrite\")\\\n",
    "     .option(\"compression\", \"gzip\")\\\n",
    "     .save(\"dfSE2.parquet\")"
   ]
  },
  {
   "cell_type": "code",
   "execution_count": 61,
   "metadata": {
    "format": "text/plain"
   },
   "outputs": [
    {
     "name": "stdout",
     "output_type": "stream",
     "text": [
      "total 459008\n",
      "-rw-r--r--  1 luisi  staff     0B Nov 12 16:39 _SUCCESS\n",
      "-rw-r--r--  1 luisi  staff   112M Nov 12 16:39 part-00000-11f17a8b-d8ea-453b-a904-d60b39cf3137-c000.gz.parquet\n",
      "-rw-r--r--  1 luisi  staff   111M Nov 12 16:39 part-00001-11f17a8b-d8ea-453b-a904-d60b39cf3137-c000.gz.parquet\n"
     ]
    }
   ],
   "source": [
    "%%sh\n",
    "ls -lh dfSE2.parquet"
   ]
  },
  {
   "cell_type": "markdown",
   "metadata": {},
   "source": [
    "#### Particionado\n",
    "Permite particionar los ficheros guardados por el valor de una columna\n",
    "\n",
    "- Se crea un directorio por cada valor diferente en la columna de particionado\n",
    "    - Todos los datos asociados a ese valor se guardan en ese directorio\n",
    "- Permite simplificar el acceso a los valores asociados a una clave\n"
   ]
  },
  {
   "cell_type": "code",
   "execution_count": 62,
   "metadata": {
    "autoscroll": "auto"
   },
   "outputs": [
    {
     "name": "stderr",
     "output_type": "stream",
     "text": [
      "                                                                                \r"
     ]
    }
   ],
   "source": [
    "# Guardo el DataFrame particionado por el PostTypeId (usando Parquet)\n",
    "dfSE.write.format(\"parquet\")\\\n",
    "    .mode(\"overwrite\")\\\n",
    "    .partitionBy(\"PostTypeId\")\\\n",
    "    .save(\"dfSE-particionado.parquet\")"
   ]
  },
  {
   "cell_type": "code",
   "execution_count": 63,
   "metadata": {
    "format": "text/plain",
    "vscode": {
     "languageId": "shellscript"
    }
   },
   "outputs": [
    {
     "name": "stdout",
     "output_type": "stream",
     "text": [
      "\u001b[34mPostTypeId=1\u001b[m\u001b[m\n",
      "\u001b[34mPostTypeId=2\u001b[m\u001b[m\n",
      "\u001b[34mPostTypeId=4\u001b[m\u001b[m\n",
      "\u001b[34mPostTypeId=5\u001b[m\u001b[m\n",
      "\u001b[34mPostTypeId=6\u001b[m\u001b[m\n",
      "\u001b[34mPostTypeId=7\u001b[m\u001b[m\n",
      "_SUCCESS\n",
      "total 302080\n",
      "-rw-r--r--  1 luisi  staff    21M Nov 12 16:39 part-00000-d2a30cf6-dd00-4fce-8015-4978d288a55d.c000.snappy.parquet\n",
      "-rw-r--r--  1 luisi  staff    19M Nov 12 16:39 part-00001-d2a30cf6-dd00-4fce-8015-4978d288a55d.c000.snappy.parquet\n",
      "-rw-r--r--  1 luisi  staff    18M Nov 12 16:39 part-00002-d2a30cf6-dd00-4fce-8015-4978d288a55d.c000.snappy.parquet\n",
      "-rw-r--r--  1 luisi  staff    18M Nov 12 16:39 part-00003-d2a30cf6-dd00-4fce-8015-4978d288a55d.c000.snappy.parquet\n",
      "-rw-r--r--  1 luisi  staff    18M Nov 12 16:39 part-00004-d2a30cf6-dd00-4fce-8015-4978d288a55d.c000.snappy.parquet\n",
      "-rw-r--r--  1 luisi  staff    18M Nov 12 16:39 part-00005-d2a30cf6-dd00-4fce-8015-4978d288a55d.c000.snappy.parquet\n",
      "-rw-r--r--  1 luisi  staff    17M Nov 12 16:39 part-00006-d2a30cf6-dd00-4fce-8015-4978d288a55d.c000.snappy.parquet\n",
      "-rw-r--r--  1 luisi  staff    14M Nov 12 16:39 part-00007-d2a30cf6-dd00-4fce-8015-4978d288a55d.c000.snappy.parquet\n"
     ]
    }
   ],
   "source": [
    "%%sh\n",
    "ls dfSE-particionado.parquet\n",
    "ls -lh dfSE-particionado.parquet/PostTypeId=2\n",
    "rm -rf dfSE-particionado.parquet"
   ]
  }
 ],
 "metadata": {
  "kernelspec": {
   "display_name": ".venv",
   "language": "python",
   "name": "python3"
  },
  "language_info": {
   "codemirror_mode": {
    "name": "ipython",
    "version": 3
   },
   "file_extension": ".py",
   "mimetype": "text/x-python",
   "name": "python",
   "nbconvert_exporter": "python",
   "pygments_lexer": "ipython3",
   "version": "3.11.9"
  }
 },
 "nbformat": 4,
 "nbformat_minor": 4
}
