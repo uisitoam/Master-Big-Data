{
 "cells": [
  {
   "cell_type": "markdown",
   "id": "3c917bfa",
   "metadata": {},
   "source": [
    "# Evaluación de modelos\n",
    "\n",
    "En esta sesión vamos a hablar de la evaluación de modelos y de diferentes métodos empleados para valorar la calidad de un algoritmo de ML.\n",
    "\n",
    "## Métricas de rendimiento en clasificación\n",
    "\n",
    "Existen múltiples métricas para la evaluación del rendimiento de modelos de clasificación.\n",
    "La mayoría de las métricas de rendimiento en problemas de clasificación se basan en el analisis de los resultados de la **matriz de confusión**: la matriz que muestra el numero de predicciones correctas e incorrectas realizadas por el modelo."
   ]
  },
  {
   "cell_type": "markdown",
   "id": "d96495d0",
   "metadata": {},
   "source": [
    "![confusion matrix](data:image/jpeg;base64,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)"
   ]
  },
  {
   "cell_type": "markdown",
   "id": "34091b91",
   "metadata": {},
   "source": [
    "Así, la primera columna muestra el numero de aciertos al clasificar instancias positivas como positivas (TP) y el numero de errores resultado de clasificar como negativas instancias que realmente eran positivas (**errores de tipo II**). En la segunda columna encontraremos, a su vez, el numero de errores cometidos al clasificar como positivas observaciones que eran negativas (**errores de tipo I**) y el numero de aciertos al clasificar como negativas instancias originalmente negativas.\n",
    "\n",
    "A partir de esta matriz podemos definir algunas de las métricas mas empleadas en problemas de clasificación. \n",
    "\n",
    "* **Accuracy**: mide el porcentaje de instancias correctamente clasificadas. \n",
    "$$ accuracy = \\frac{TP + TN}{TP+TN+FP+FN} $$\n",
    "\n",
    "* **Precision**: mide el porcentaje de clasificaciones positivas correctas. Intuitivamente representa la habilidad del modelo para no cometer errores de tipo I.\n",
    "$$ precision = \\frac{TP}{TP+FP} $$\n",
    "\n",
    "* **Recall**: mide el porcentaje de observaciones positivas correctamente clasificadas. Intuitivamente nos permite evaluar la habilidad del modelo para clasificar correctamente todas las observaciones positivas.\n",
    "$$ recall = \\frac{TP}{TP+FN} $$\n",
    "\n",
    "* **F1 score**: unifica los resultados de *recall* y *precision* en una única métrica aplicando una media harmónica.\n",
    "$$ F1 = 2*\\frac{precision*recall}{precision+recall} = \\frac{2 * TP}{2*TP+FP+FN}$$\n",
    "\n",
    "Todas estas metricas toman valores en el intervalo [0, 1], siendo 0 el peor valor y 1 el mejor.\n",
    "\n",
    "En python podemos emplear la libreria `scikit-learn` para calcular fácilmente estas métricas. A continuación emplearemos el dataset de cáncer de mama para demostrar como calcular estas métricas."
   ]
  },
  {
   "cell_type": "code",
   "execution_count": 2,
   "id": "471113ec",
   "metadata": {},
   "outputs": [
    {
     "name": "stdout",
     "output_type": "stream",
     "text": [
      "<class 'pandas.core.frame.DataFrame'>\n",
      "RangeIndex: 569 entries, 0 to 568\n",
      "Data columns (total 30 columns):\n",
      " #   Column                   Non-Null Count  Dtype  \n",
      "---  ------                   --------------  -----  \n",
      " 0   mean radius              569 non-null    float64\n",
      " 1   mean texture             569 non-null    float64\n",
      " 2   mean perimeter           569 non-null    float64\n",
      " 3   mean area                569 non-null    float64\n",
      " 4   mean smoothness          569 non-null    float64\n",
      " 5   mean compactness         569 non-null    float64\n",
      " 6   mean concavity           569 non-null    float64\n",
      " 7   mean concave points      569 non-null    float64\n",
      " 8   mean symmetry            569 non-null    float64\n",
      " 9   mean fractal dimension   569 non-null    float64\n",
      " 10  radius error             569 non-null    float64\n",
      " 11  texture error            569 non-null    float64\n",
      " 12  perimeter error          569 non-null    float64\n",
      " 13  area error               569 non-null    float64\n",
      " 14  smoothness error         569 non-null    float64\n",
      " 15  compactness error        569 non-null    float64\n",
      " 16  concavity error          569 non-null    float64\n",
      " 17  concave points error     569 non-null    float64\n",
      " 18  symmetry error           569 non-null    float64\n",
      " 19  fractal dimension error  569 non-null    float64\n",
      " 20  worst radius             569 non-null    float64\n",
      " 21  worst texture            569 non-null    float64\n",
      " 22  worst perimeter          569 non-null    float64\n",
      " 23  worst area               569 non-null    float64\n",
      " 24  worst smoothness         569 non-null    float64\n",
      " 25  worst compactness        569 non-null    float64\n",
      " 26  worst concavity          569 non-null    float64\n",
      " 27  worst concave points     569 non-null    float64\n",
      " 28  worst symmetry           569 non-null    float64\n",
      " 29  worst fractal dimension  569 non-null    float64\n",
      "dtypes: float64(30)\n",
      "memory usage: 133.5 KB\n"
     ]
    },
    {
     "data": {
      "text/plain": [
       "target\n",
       "1    357\n",
       "0    212\n",
       "Name: count, dtype: int64"
      ]
     },
     "execution_count": 2,
     "metadata": {},
     "output_type": "execute_result"
    }
   ],
   "source": [
    "import pandas as pd\n",
    "import numpy as np\n",
    "from sklearn import datasets\n",
    "\n",
    "cancer = datasets.load_breast_cancer(as_frame=True)\n",
    "\n",
    "X = cancer.data\n",
    "y = cancer.target\n",
    "\n",
    "X.info()\n",
    "\n",
    "y.value_counts()"
   ]
  },
  {
   "cell_type": "markdown",
   "id": "806ad9b0",
   "metadata": {},
   "source": [
    "La variable predictora `y` contiene un `1` cuando el cáncer de mama es benigno y un `0` cuando es maligno. Hay un total de 212 registros con la etiqueta de maligno y 357 registros con la etiqueta de benigno. Procedamos a entrenar un modelo de clasificación sobre los datos, en este caso una maquina de soporte vectorial. Para ello antes realizaremos una estandarización de los datos."
   ]
  },
  {
   "cell_type": "code",
   "execution_count": 3,
   "id": "509a6237",
   "metadata": {},
   "outputs": [
    {
     "data": {
      "text/html": [
       "<style>#sk-container-id-1 {\n",
       "  /* Definition of color scheme common for light and dark mode */\n",
       "  --sklearn-color-text: #000;\n",
       "  --sklearn-color-text-muted: #666;\n",
       "  --sklearn-color-line: gray;\n",
       "  /* Definition of color scheme for unfitted estimators */\n",
       "  --sklearn-color-unfitted-level-0: #fff5e6;\n",
       "  --sklearn-color-unfitted-level-1: #f6e4d2;\n",
       "  --sklearn-color-unfitted-level-2: #ffe0b3;\n",
       "  --sklearn-color-unfitted-level-3: chocolate;\n",
       "  /* Definition of color scheme for fitted estimators */\n",
       "  --sklearn-color-fitted-level-0: #f0f8ff;\n",
       "  --sklearn-color-fitted-level-1: #d4ebff;\n",
       "  --sklearn-color-fitted-level-2: #b3dbfd;\n",
       "  --sklearn-color-fitted-level-3: cornflowerblue;\n",
       "\n",
       "  /* Specific color for light theme */\n",
       "  --sklearn-color-text-on-default-background: var(--sg-text-color, var(--theme-code-foreground, var(--jp-content-font-color1, black)));\n",
       "  --sklearn-color-background: var(--sg-background-color, var(--theme-background, var(--jp-layout-color0, white)));\n",
       "  --sklearn-color-border-box: var(--sg-text-color, var(--theme-code-foreground, var(--jp-content-font-color1, black)));\n",
       "  --sklearn-color-icon: #696969;\n",
       "\n",
       "  @media (prefers-color-scheme: dark) {\n",
       "    /* Redefinition of color scheme for dark theme */\n",
       "    --sklearn-color-text-on-default-background: var(--sg-text-color, var(--theme-code-foreground, var(--jp-content-font-color1, white)));\n",
       "    --sklearn-color-background: var(--sg-background-color, var(--theme-background, var(--jp-layout-color0, #111)));\n",
       "    --sklearn-color-border-box: var(--sg-text-color, var(--theme-code-foreground, var(--jp-content-font-color1, white)));\n",
       "    --sklearn-color-icon: #878787;\n",
       "  }\n",
       "}\n",
       "\n",
       "#sk-container-id-1 {\n",
       "  color: var(--sklearn-color-text);\n",
       "}\n",
       "\n",
       "#sk-container-id-1 pre {\n",
       "  padding: 0;\n",
       "}\n",
       "\n",
       "#sk-container-id-1 input.sk-hidden--visually {\n",
       "  border: 0;\n",
       "  clip: rect(1px 1px 1px 1px);\n",
       "  clip: rect(1px, 1px, 1px, 1px);\n",
       "  height: 1px;\n",
       "  margin: -1px;\n",
       "  overflow: hidden;\n",
       "  padding: 0;\n",
       "  position: absolute;\n",
       "  width: 1px;\n",
       "}\n",
       "\n",
       "#sk-container-id-1 div.sk-dashed-wrapped {\n",
       "  border: 1px dashed var(--sklearn-color-line);\n",
       "  margin: 0 0.4em 0.5em 0.4em;\n",
       "  box-sizing: border-box;\n",
       "  padding-bottom: 0.4em;\n",
       "  background-color: var(--sklearn-color-background);\n",
       "}\n",
       "\n",
       "#sk-container-id-1 div.sk-container {\n",
       "  /* jupyter's `normalize.less` sets `[hidden] { display: none; }`\n",
       "     but bootstrap.min.css set `[hidden] { display: none !important; }`\n",
       "     so we also need the `!important` here to be able to override the\n",
       "     default hidden behavior on the sphinx rendered scikit-learn.org.\n",
       "     See: https://github.com/scikit-learn/scikit-learn/issues/21755 */\n",
       "  display: inline-block !important;\n",
       "  position: relative;\n",
       "}\n",
       "\n",
       "#sk-container-id-1 div.sk-text-repr-fallback {\n",
       "  display: none;\n",
       "}\n",
       "\n",
       "div.sk-parallel-item,\n",
       "div.sk-serial,\n",
       "div.sk-item {\n",
       "  /* draw centered vertical line to link estimators */\n",
       "  background-image: linear-gradient(var(--sklearn-color-text-on-default-background), var(--sklearn-color-text-on-default-background));\n",
       "  background-size: 2px 100%;\n",
       "  background-repeat: no-repeat;\n",
       "  background-position: center center;\n",
       "}\n",
       "\n",
       "/* Parallel-specific style estimator block */\n",
       "\n",
       "#sk-container-id-1 div.sk-parallel-item::after {\n",
       "  content: \"\";\n",
       "  width: 100%;\n",
       "  border-bottom: 2px solid var(--sklearn-color-text-on-default-background);\n",
       "  flex-grow: 1;\n",
       "}\n",
       "\n",
       "#sk-container-id-1 div.sk-parallel {\n",
       "  display: flex;\n",
       "  align-items: stretch;\n",
       "  justify-content: center;\n",
       "  background-color: var(--sklearn-color-background);\n",
       "  position: relative;\n",
       "}\n",
       "\n",
       "#sk-container-id-1 div.sk-parallel-item {\n",
       "  display: flex;\n",
       "  flex-direction: column;\n",
       "}\n",
       "\n",
       "#sk-container-id-1 div.sk-parallel-item:first-child::after {\n",
       "  align-self: flex-end;\n",
       "  width: 50%;\n",
       "}\n",
       "\n",
       "#sk-container-id-1 div.sk-parallel-item:last-child::after {\n",
       "  align-self: flex-start;\n",
       "  width: 50%;\n",
       "}\n",
       "\n",
       "#sk-container-id-1 div.sk-parallel-item:only-child::after {\n",
       "  width: 0;\n",
       "}\n",
       "\n",
       "/* Serial-specific style estimator block */\n",
       "\n",
       "#sk-container-id-1 div.sk-serial {\n",
       "  display: flex;\n",
       "  flex-direction: column;\n",
       "  align-items: center;\n",
       "  background-color: var(--sklearn-color-background);\n",
       "  padding-right: 1em;\n",
       "  padding-left: 1em;\n",
       "}\n",
       "\n",
       "\n",
       "/* Toggleable style: style used for estimator/Pipeline/ColumnTransformer box that is\n",
       "clickable and can be expanded/collapsed.\n",
       "- Pipeline and ColumnTransformer use this feature and define the default style\n",
       "- Estimators will overwrite some part of the style using the `sk-estimator` class\n",
       "*/\n",
       "\n",
       "/* Pipeline and ColumnTransformer style (default) */\n",
       "\n",
       "#sk-container-id-1 div.sk-toggleable {\n",
       "  /* Default theme specific background. It is overwritten whether we have a\n",
       "  specific estimator or a Pipeline/ColumnTransformer */\n",
       "  background-color: var(--sklearn-color-background);\n",
       "}\n",
       "\n",
       "/* Toggleable label */\n",
       "#sk-container-id-1 label.sk-toggleable__label {\n",
       "  cursor: pointer;\n",
       "  display: flex;\n",
       "  width: 100%;\n",
       "  margin-bottom: 0;\n",
       "  padding: 0.5em;\n",
       "  box-sizing: border-box;\n",
       "  text-align: center;\n",
       "  align-items: start;\n",
       "  justify-content: space-between;\n",
       "  gap: 0.5em;\n",
       "}\n",
       "\n",
       "#sk-container-id-1 label.sk-toggleable__label .caption {\n",
       "  font-size: 0.6rem;\n",
       "  font-weight: lighter;\n",
       "  color: var(--sklearn-color-text-muted);\n",
       "}\n",
       "\n",
       "#sk-container-id-1 label.sk-toggleable__label-arrow:before {\n",
       "  /* Arrow on the left of the label */\n",
       "  content: \"▸\";\n",
       "  float: left;\n",
       "  margin-right: 0.25em;\n",
       "  color: var(--sklearn-color-icon);\n",
       "}\n",
       "\n",
       "#sk-container-id-1 label.sk-toggleable__label-arrow:hover:before {\n",
       "  color: var(--sklearn-color-text);\n",
       "}\n",
       "\n",
       "/* Toggleable content - dropdown */\n",
       "\n",
       "#sk-container-id-1 div.sk-toggleable__content {\n",
       "  max-height: 0;\n",
       "  max-width: 0;\n",
       "  overflow: hidden;\n",
       "  text-align: left;\n",
       "  /* unfitted */\n",
       "  background-color: var(--sklearn-color-unfitted-level-0);\n",
       "}\n",
       "\n",
       "#sk-container-id-1 div.sk-toggleable__content.fitted {\n",
       "  /* fitted */\n",
       "  background-color: var(--sklearn-color-fitted-level-0);\n",
       "}\n",
       "\n",
       "#sk-container-id-1 div.sk-toggleable__content pre {\n",
       "  margin: 0.2em;\n",
       "  border-radius: 0.25em;\n",
       "  color: var(--sklearn-color-text);\n",
       "  /* unfitted */\n",
       "  background-color: var(--sklearn-color-unfitted-level-0);\n",
       "}\n",
       "\n",
       "#sk-container-id-1 div.sk-toggleable__content.fitted pre {\n",
       "  /* unfitted */\n",
       "  background-color: var(--sklearn-color-fitted-level-0);\n",
       "}\n",
       "\n",
       "#sk-container-id-1 input.sk-toggleable__control:checked~div.sk-toggleable__content {\n",
       "  /* Expand drop-down */\n",
       "  max-height: 200px;\n",
       "  max-width: 100%;\n",
       "  overflow: auto;\n",
       "}\n",
       "\n",
       "#sk-container-id-1 input.sk-toggleable__control:checked~label.sk-toggleable__label-arrow:before {\n",
       "  content: \"▾\";\n",
       "}\n",
       "\n",
       "/* Pipeline/ColumnTransformer-specific style */\n",
       "\n",
       "#sk-container-id-1 div.sk-label input.sk-toggleable__control:checked~label.sk-toggleable__label {\n",
       "  color: var(--sklearn-color-text);\n",
       "  background-color: var(--sklearn-color-unfitted-level-2);\n",
       "}\n",
       "\n",
       "#sk-container-id-1 div.sk-label.fitted input.sk-toggleable__control:checked~label.sk-toggleable__label {\n",
       "  background-color: var(--sklearn-color-fitted-level-2);\n",
       "}\n",
       "\n",
       "/* Estimator-specific style */\n",
       "\n",
       "/* Colorize estimator box */\n",
       "#sk-container-id-1 div.sk-estimator input.sk-toggleable__control:checked~label.sk-toggleable__label {\n",
       "  /* unfitted */\n",
       "  background-color: var(--sklearn-color-unfitted-level-2);\n",
       "}\n",
       "\n",
       "#sk-container-id-1 div.sk-estimator.fitted input.sk-toggleable__control:checked~label.sk-toggleable__label {\n",
       "  /* fitted */\n",
       "  background-color: var(--sklearn-color-fitted-level-2);\n",
       "}\n",
       "\n",
       "#sk-container-id-1 div.sk-label label.sk-toggleable__label,\n",
       "#sk-container-id-1 div.sk-label label {\n",
       "  /* The background is the default theme color */\n",
       "  color: var(--sklearn-color-text-on-default-background);\n",
       "}\n",
       "\n",
       "/* On hover, darken the color of the background */\n",
       "#sk-container-id-1 div.sk-label:hover label.sk-toggleable__label {\n",
       "  color: var(--sklearn-color-text);\n",
       "  background-color: var(--sklearn-color-unfitted-level-2);\n",
       "}\n",
       "\n",
       "/* Label box, darken color on hover, fitted */\n",
       "#sk-container-id-1 div.sk-label.fitted:hover label.sk-toggleable__label.fitted {\n",
       "  color: var(--sklearn-color-text);\n",
       "  background-color: var(--sklearn-color-fitted-level-2);\n",
       "}\n",
       "\n",
       "/* Estimator label */\n",
       "\n",
       "#sk-container-id-1 div.sk-label label {\n",
       "  font-family: monospace;\n",
       "  font-weight: bold;\n",
       "  display: inline-block;\n",
       "  line-height: 1.2em;\n",
       "}\n",
       "\n",
       "#sk-container-id-1 div.sk-label-container {\n",
       "  text-align: center;\n",
       "}\n",
       "\n",
       "/* Estimator-specific */\n",
       "#sk-container-id-1 div.sk-estimator {\n",
       "  font-family: monospace;\n",
       "  border: 1px dotted var(--sklearn-color-border-box);\n",
       "  border-radius: 0.25em;\n",
       "  box-sizing: border-box;\n",
       "  margin-bottom: 0.5em;\n",
       "  /* unfitted */\n",
       "  background-color: var(--sklearn-color-unfitted-level-0);\n",
       "}\n",
       "\n",
       "#sk-container-id-1 div.sk-estimator.fitted {\n",
       "  /* fitted */\n",
       "  background-color: var(--sklearn-color-fitted-level-0);\n",
       "}\n",
       "\n",
       "/* on hover */\n",
       "#sk-container-id-1 div.sk-estimator:hover {\n",
       "  /* unfitted */\n",
       "  background-color: var(--sklearn-color-unfitted-level-2);\n",
       "}\n",
       "\n",
       "#sk-container-id-1 div.sk-estimator.fitted:hover {\n",
       "  /* fitted */\n",
       "  background-color: var(--sklearn-color-fitted-level-2);\n",
       "}\n",
       "\n",
       "/* Specification for estimator info (e.g. \"i\" and \"?\") */\n",
       "\n",
       "/* Common style for \"i\" and \"?\" */\n",
       "\n",
       ".sk-estimator-doc-link,\n",
       "a:link.sk-estimator-doc-link,\n",
       "a:visited.sk-estimator-doc-link {\n",
       "  float: right;\n",
       "  font-size: smaller;\n",
       "  line-height: 1em;\n",
       "  font-family: monospace;\n",
       "  background-color: var(--sklearn-color-background);\n",
       "  border-radius: 1em;\n",
       "  height: 1em;\n",
       "  width: 1em;\n",
       "  text-decoration: none !important;\n",
       "  margin-left: 0.5em;\n",
       "  text-align: center;\n",
       "  /* unfitted */\n",
       "  border: var(--sklearn-color-unfitted-level-1) 1pt solid;\n",
       "  color: var(--sklearn-color-unfitted-level-1);\n",
       "}\n",
       "\n",
       ".sk-estimator-doc-link.fitted,\n",
       "a:link.sk-estimator-doc-link.fitted,\n",
       "a:visited.sk-estimator-doc-link.fitted {\n",
       "  /* fitted */\n",
       "  border: var(--sklearn-color-fitted-level-1) 1pt solid;\n",
       "  color: var(--sklearn-color-fitted-level-1);\n",
       "}\n",
       "\n",
       "/* On hover */\n",
       "div.sk-estimator:hover .sk-estimator-doc-link:hover,\n",
       ".sk-estimator-doc-link:hover,\n",
       "div.sk-label-container:hover .sk-estimator-doc-link:hover,\n",
       ".sk-estimator-doc-link:hover {\n",
       "  /* unfitted */\n",
       "  background-color: var(--sklearn-color-unfitted-level-3);\n",
       "  color: var(--sklearn-color-background);\n",
       "  text-decoration: none;\n",
       "}\n",
       "\n",
       "div.sk-estimator.fitted:hover .sk-estimator-doc-link.fitted:hover,\n",
       ".sk-estimator-doc-link.fitted:hover,\n",
       "div.sk-label-container:hover .sk-estimator-doc-link.fitted:hover,\n",
       ".sk-estimator-doc-link.fitted:hover {\n",
       "  /* fitted */\n",
       "  background-color: var(--sklearn-color-fitted-level-3);\n",
       "  color: var(--sklearn-color-background);\n",
       "  text-decoration: none;\n",
       "}\n",
       "\n",
       "/* Span, style for the box shown on hovering the info icon */\n",
       ".sk-estimator-doc-link span {\n",
       "  display: none;\n",
       "  z-index: 9999;\n",
       "  position: relative;\n",
       "  font-weight: normal;\n",
       "  right: .2ex;\n",
       "  padding: .5ex;\n",
       "  margin: .5ex;\n",
       "  width: min-content;\n",
       "  min-width: 20ex;\n",
       "  max-width: 50ex;\n",
       "  color: var(--sklearn-color-text);\n",
       "  box-shadow: 2pt 2pt 4pt #999;\n",
       "  /* unfitted */\n",
       "  background: var(--sklearn-color-unfitted-level-0);\n",
       "  border: .5pt solid var(--sklearn-color-unfitted-level-3);\n",
       "}\n",
       "\n",
       ".sk-estimator-doc-link.fitted span {\n",
       "  /* fitted */\n",
       "  background: var(--sklearn-color-fitted-level-0);\n",
       "  border: var(--sklearn-color-fitted-level-3);\n",
       "}\n",
       "\n",
       ".sk-estimator-doc-link:hover span {\n",
       "  display: block;\n",
       "}\n",
       "\n",
       "/* \"?\"-specific style due to the `<a>` HTML tag */\n",
       "\n",
       "#sk-container-id-1 a.estimator_doc_link {\n",
       "  float: right;\n",
       "  font-size: 1rem;\n",
       "  line-height: 1em;\n",
       "  font-family: monospace;\n",
       "  background-color: var(--sklearn-color-background);\n",
       "  border-radius: 1rem;\n",
       "  height: 1rem;\n",
       "  width: 1rem;\n",
       "  text-decoration: none;\n",
       "  /* unfitted */\n",
       "  color: var(--sklearn-color-unfitted-level-1);\n",
       "  border: var(--sklearn-color-unfitted-level-1) 1pt solid;\n",
       "}\n",
       "\n",
       "#sk-container-id-1 a.estimator_doc_link.fitted {\n",
       "  /* fitted */\n",
       "  border: var(--sklearn-color-fitted-level-1) 1pt solid;\n",
       "  color: var(--sklearn-color-fitted-level-1);\n",
       "}\n",
       "\n",
       "/* On hover */\n",
       "#sk-container-id-1 a.estimator_doc_link:hover {\n",
       "  /* unfitted */\n",
       "  background-color: var(--sklearn-color-unfitted-level-3);\n",
       "  color: var(--sklearn-color-background);\n",
       "  text-decoration: none;\n",
       "}\n",
       "\n",
       "#sk-container-id-1 a.estimator_doc_link.fitted:hover {\n",
       "  /* fitted */\n",
       "  background-color: var(--sklearn-color-fitted-level-3);\n",
       "}\n",
       "</style><div id=\"sk-container-id-1\" class=\"sk-top-container\"><div class=\"sk-text-repr-fallback\"><pre>SVC(C=10.0, kernel=&#x27;linear&#x27;, random_state=42)</pre><b>In a Jupyter environment, please rerun this cell to show the HTML representation or trust the notebook. <br />On GitHub, the HTML representation is unable to render, please try loading this page with nbviewer.org.</b></div><div class=\"sk-container\" hidden><div class=\"sk-item\"><div class=\"sk-estimator fitted sk-toggleable\"><input class=\"sk-toggleable__control sk-hidden--visually\" id=\"sk-estimator-id-1\" type=\"checkbox\" checked><label for=\"sk-estimator-id-1\" class=\"sk-toggleable__label fitted sk-toggleable__label-arrow\"><div><div>SVC</div></div><div><a class=\"sk-estimator-doc-link fitted\" rel=\"noreferrer\" target=\"_blank\" href=\"https://scikit-learn.org/1.6/modules/generated/sklearn.svm.SVC.html\">?<span>Documentation for SVC</span></a><span class=\"sk-estimator-doc-link fitted\">i<span>Fitted</span></span></div></label><div class=\"sk-toggleable__content fitted\"><pre>SVC(C=10.0, kernel=&#x27;linear&#x27;, random_state=42)</pre></div> </div></div></div></div>"
      ],
      "text/plain": [
       "SVC(C=10.0, kernel='linear', random_state=42)"
      ]
     },
     "execution_count": 3,
     "metadata": {},
     "output_type": "execute_result"
    }
   ],
   "source": [
    "from sklearn.preprocessing import StandardScaler\n",
    "from sklearn.svm import SVC\n",
    "\n",
    "sc = StandardScaler()\n",
    "X_std = sc.fit_transform(X)\n",
    "\n",
    "svc = SVC(kernel='linear', C=10.0, random_state=42)\n",
    "svc.fit(X_std, y)"
   ]
  },
  {
   "cell_type": "markdown",
   "id": "f5436f5b",
   "metadata": {},
   "source": [
    "Realicemos ahora las predicciones y calculemos la matriz de confusión: "
   ]
  },
  {
   "cell_type": "code",
   "execution_count": 4,
   "id": "a67ef195",
   "metadata": {},
   "outputs": [
    {
     "name": "stdout",
     "output_type": "stream",
     "text": [
      "La matriz de confusión obtenida por el SVM: \n",
      "[[212   0]\n",
      " [357   0]]\n"
     ]
    },
    {
     "name": "stderr",
     "output_type": "stream",
     "text": [
      "/home/uisito/Documentos/Master-Big-Data/Minería de datos/.venv/lib/python3.12/site-packages/sklearn/utils/validation.py:2732: UserWarning: X has feature names, but SVC was fitted without feature names\n",
      "  warnings.warn(\n"
     ]
    }
   ],
   "source": [
    "from sklearn.metrics import confusion_matrix\n",
    "\n",
    "y_pred = svc.predict(X)\n",
    "conf_matrix = confusion_matrix(y_true=y, y_pred=y_pred)\n",
    "\n",
    "print('La matriz de confusión obtenida por el SVM: \\n{}'.format(conf_matrix))"
   ]
  },
  {
   "cell_type": "markdown",
   "id": "ca991021",
   "metadata": {},
   "source": [
    "Una vez tenemos los valores reales de la clase y su prediccion, podemos obtener los valores de *accuracy*, precisión, *recall* y *F1* del modelo. Para ello, podemos aplicar manualmente las ecuaciones vistas previamente, o podemos hacer uso de las funciones proporcionadas por `scikit-learn`:"
   ]
  },
  {
   "cell_type": "code",
   "execution_count": 5,
   "id": "82c7af24",
   "metadata": {},
   "outputs": [
    {
     "name": "stdout",
     "output_type": "stream",
     "text": [
      "La accuracy del modelo es 0.373\n",
      "La precisión del modelo es 0.000\n",
      "El recall del modelo es 0.000\n",
      "El F1-score del modelo es 0.000\n"
     ]
    },
    {
     "name": "stderr",
     "output_type": "stream",
     "text": [
      "/home/uisito/Documentos/Master-Big-Data/Minería de datos/.venv/lib/python3.12/site-packages/sklearn/metrics/_classification.py:1565: UndefinedMetricWarning: Precision is ill-defined and being set to 0.0 due to no predicted samples. Use `zero_division` parameter to control this behavior.\n",
      "  _warn_prf(average, modifier, f\"{metric.capitalize()} is\", len(result))\n"
     ]
    }
   ],
   "source": [
    "from sklearn.metrics import precision_score, recall_score, f1_score, accuracy_score\n",
    "\n",
    "accuracy = accuracy_score(y, y_pred)\n",
    "precision = precision_score(y, y_pred)\n",
    "recall = recall_score(y, y_pred)\n",
    "f1 = f1_score(y, y_pred)\n",
    "\n",
    "print(f'La accuracy del modelo es {accuracy:.3f}')\n",
    "print(f'La precisión del modelo es {precision:.3f}')\n",
    "print(f'El recall del modelo es {recall:.3f}')\n",
    "print(f'El F1-score del modelo es {f1:.3f}')"
   ]
  },
  {
   "cell_type": "markdown",
   "id": "eabd8f45",
   "metadata": {},
   "source": [
    "Además de estas métricas, podemos emplear una **curva ROC** para visualizar el rendimiento del modelo a medida que variamos el umbral de clasificación. Esta curva representa el ratio de TP frente al ratio de FP. Cuanto más arriba a la izquierda esté la gráfica mejor será el modelo."
   ]
  },
  {
   "cell_type": "code",
   "execution_count": 6,
   "id": "a0e4f828",
   "metadata": {},
   "outputs": [
    {
     "data": {
      "image/png": "[encoded data removed]",
      "text/plain": [
       "<Figure size 1200x1000 with 1 Axes>"
      ]
     },
     "metadata": {},
     "output_type": "display_data"
    }
   ],
   "source": [
    "from sklearn.metrics import roc_curve\n",
    "import matplotlib.pyplot as plt\n",
    "\n",
    "fpr_svm, tpr_svm, thresholds = roc_curve(y, y_pred, pos_label=1)\n",
    "\n",
    "fig = plt.figure(figsize=(12,10))\n",
    "ax = fig.add_subplot(111)\n",
    "ax.set_xlim([0.0, 1.0])\n",
    "ax.set_ylim([0.0, 1.0])\n",
    "\n",
    "ax.plot([0, 1], [0, 1], ls=\"--\", label=\"Random\")\n",
    "ax.plot(fpr_svm, tpr_svm, label = \"SVM\")\n",
    "\n",
    "ax.set_xlabel('Ratio de Falsos Positivos')\n",
    "ax.set_ylabel('Ratio de Verdaderos Positivos')\n",
    "ax.set_title('Curva ROC')\n",
    "\n",
    "ax.legend(loc=\"lower right\")\n",
    "plt.show()"
   ]
  },
  {
   "cell_type": "markdown",
   "id": "a34bf5ac",
   "metadata": {},
   "source": [
    "La interpretación visual de la curva ROC puede resumirse tambien numéricamente empleando el concepto de **area bajo la curva (AUC)**. Cuanto mayor sea el valor del AUC, mejor será el modelo. Así, cuando un modelo tenga un $ AUC = 1 $, diremos que el modelo es perfecto, mientras que un modelo con $ AUC = 0.5 $ tendrá el mismo rendimiento que un modelo aleatorio."
   ]
  },
  {
   "cell_type": "code",
   "execution_count": 7,
   "id": "b70f01dc",
   "metadata": {},
   "outputs": [
    {
     "name": "stdout",
     "output_type": "stream",
     "text": [
      "El valor de AUC para el modelo SVM es: 0.500\n"
     ]
    }
   ],
   "source": [
    "from sklearn.metrics import auc\n",
    "\n",
    "auc_svm = auc(fpr_svm, tpr_svm)\n",
    "\n",
    "print(f\"El valor de AUC para el modelo SVM es: {auc_svm:.3f}\")"
   ]
  },
  {
   "cell_type": "markdown",
   "id": "f704c09c",
   "metadata": {},
   "source": [
    "<div class=\"alert alert-info\">\n",
    "\n",
    "**Ejercicio**\n",
    "\n",
    "Empleando el dataset de cancer de mama, entrena los siguientes modelos: `RandomForest`, `GradientBoosting`, `ExtraTrees`, `KNN`, `DecisionTree` y `SVM`. \n",
    "\n",
    "Para cada uno de ellos, obtén las métricas anteriores y representalas gráficamente. \n",
    "Representa tambien todas las curvas ROC.\n",
    "\n",
    "¿Cuál es el mejor modelo?\n",
    "\n",
    "</div> "
   ]
  },
  {
   "cell_type": "markdown",
   "id": "76a5e483",
   "metadata": {},
   "source": [
    "Primero, definimos los modelos, dejando los hiperparámetros por defecto"
   ]
  },
  {
   "cell_type": "code",
   "execution_count": 8,
   "id": "3136a45e",
   "metadata": {},
   "outputs": [],
   "source": [
    "from sklearn.ensemble import RandomForestClassifier, GradientBoostingClassifier, ExtraTreesClassifier\n",
    "from sklearn.neighbors import KNeighborsClassifier\n",
    "from sklearn.tree import DecisionTreeClassifier\n",
    "from sklearn.svm import SVC\n",
    "\n",
    "\n",
    "models_clasif = {\n",
    "    'RandomForest': RandomForestClassifier(random_state=42),\n",
    "    'GradientBoosting': GradientBoostingClassifier(random_state=42),\n",
    "    'ExtraTrees': ExtraTreesClassifier(random_state=42),\n",
    "    'KNN': KNeighborsClassifier(), # 5 vecinos por defecto\n",
    "    'DecisionTree': DecisionTreeClassifier(random_state=42),\n",
    "    'SVM': SVC(probability=True, random_state=42)\n",
    "}"
   ]
  },
  {
   "cell_type": "markdown",
   "id": "3508b6d2",
   "metadata": {},
   "source": [
    "Entrenamos y predecimos con los modelos, evaluando `accuracy`, `precision`, `recall`, `F1` y `AUC`. "
   ]
  },
  {
   "cell_type": "code",
   "execution_count": 9,
   "id": "f752e085",
   "metadata": {},
   "outputs": [
    {
     "name": "stdout",
     "output_type": "stream",
     "text": [
      "\n",
      "Métricas:\n",
      "                  Accuracy  Precision  Recall  F1 Score\n",
      "Modelo                                                 \n",
      "RandomForest         1.000      1.000   1.000     1.000\n",
      "GradientBoosting     1.000      1.000   1.000     1.000\n",
      "ExtraTrees           1.000      1.000   1.000     1.000\n",
      "KNN                  0.981      0.973   0.997     0.985\n",
      "DecisionTree         1.000      1.000   1.000     1.000\n",
      "SVM                  0.988      0.981   1.000     0.990\n"
     ]
    },
    {
     "data": {
      "text/plain": [
       "('RandomForest',\n",
       " {'fpr': array([0., 0., 1.]),\n",
       "  'tpr': array([0., 1., 1.]),\n",
       "  'auc': np.float64(1.0)})"
      ]
     },
     "execution_count": 9,
     "metadata": {},
     "output_type": "execute_result"
    }
   ],
   "source": [
    "results_clasif = [[0] * 5 for _ in range(len(models_clasif))] \n",
    "roc_data = {}\n",
    "\n",
    "for i, (name, model) in enumerate(models_clasif.items()):\n",
    "    model.fit(X_std, y)\n",
    "    y_pred = model.predict(X_std)\n",
    "\n",
    "    # evaluamos las métricas\n",
    "    accuracy = accuracy_score(y, y_pred)\n",
    "    precision = precision_score(y, y_pred)\n",
    "    recall = recall_score(y, y_pred)\n",
    "    f1 = f1_score(y, y_pred)\n",
    "    \n",
    "    results_clasif[i] = [name, accuracy, precision, recall, f1]\n",
    "\n",
    "    # curva roc\n",
    "    fpr, tpr, _ = roc_curve(y, y_pred, pos_label=1)\n",
    "    auc_score = auc(fpr, tpr)\n",
    "    roc_data[name] = {'fpr': fpr, 'tpr': tpr, 'auc': auc_score}\n",
    "\n",
    "results = pd.DataFrame(results_clasif, columns=['Modelo', 'Accuracy', 'Precision', 'Recall', 'F1 Score'])\n",
    "\n",
    "print(\"\\nMétricas:\")\n",
    "print(results.set_index('Modelo').round(3))\n",
    "\n",
    "best_model = max(roc_data.items(), key=lambda x: x[1]['auc'])\n",
    "best_model"
   ]
  },
  {
   "cell_type": "markdown",
   "id": "735be9f8",
   "metadata": {},
   "source": [
    "Hacemos un gráfico de barras para las métricas, y un gráfico de curvas ROC para cada modelo."
   ]
  },
  {
   "cell_type": "code",
   "execution_count": 10,
   "id": "26f787ed",
   "metadata": {},
   "outputs": [
    {
     "data": {
      "image/png": "[encoded data removed]",
      "text/plain": [
       "<Figure size 1200x800 with 1 Axes>"
      ]
     },
     "metadata": {},
     "output_type": "display_data"
    },
    {
     "data": {
      "image/png": "[encoded data removed]",
      "text/plain": [
       "<Figure size 1200x1000 with 1 Axes>"
      ]
     },
     "metadata": {},
     "output_type": "display_data"
    }
   ],
   "source": [
    "import seaborn as sns # trabaja bien con dataframes de pandas \n",
    "\n",
    "fig, ax = plt.subplots(figsize=(12, 8))\n",
    "metrics = ['Accuracy', 'Precision', 'Recall', 'F1 Score']\n",
    "results_long = pd.melt(results, id_vars=['Modelo'], value_vars=metrics, var_name='Métrica', value_name='Score')\n",
    "\n",
    "sns.barplot(data=results_long, x='Modelo', y='Score', hue='Métrica', ax=ax)\n",
    "plt.title('Métricas de rendimiento por modelo', fontsize=16)\n",
    "plt.ylabel('Valor', fontsize=12)\n",
    "plt.xlabel('Modelo', fontsize=12)\n",
    "plt.xticks(rotation=45)\n",
    "plt.legend(title='Métricas')\n",
    "plt.tight_layout()\n",
    "plt.show()\n",
    "\n",
    "plt.figure(figsize=(12, 10))\n",
    "\n",
    "for name, data in roc_data.items():\n",
    "    plt.plot(data['fpr'], data['tpr'], label=f\"{name} (AUC = {data['auc']:.3f})\")\n",
    "\n",
    "plt.plot([0, 1], [0, 1], 'k--', label='Random')\n",
    "plt.xlabel('Ratio de Falsos Positivos', fontsize=12)\n",
    "plt.ylabel('Ratio de Verdaderos Positivos', fontsize=12)\n",
    "plt.title('Curvas ROC', fontsize=16)\n",
    "plt.legend(loc='lower right')\n",
    "plt.show()"
   ]
  },
  {
   "cell_type": "markdown",
   "id": "67a29915",
   "metadata": {},
   "source": [
    "## Metricas de rendimiento en regresión\n",
    "\n",
    "En problemas de regresión, al contrario que en los de clasificación, no podemos definir una matriz de confusión a partir de la cual calcular las métricas anteriores. Por el contrario, en estos casos se suelen emplear métricas que indican lo cerca o lejos que los valores predichos por un modelo están de los valores reales.\n",
    "\n",
    "Algunas de las métricas más comunes empleadas a la hora de evaluar modelos de regresión son:\n",
    "\n",
    "* **Error absoluto medio (MAE)**: mide la \"distancia\" absoluta entre los valores reales y los predichos por el modelo. Se expresa en la misma unidad que el valor que se está prediciendo. Este error no está acotado por arriba, por lo que toma valores en el rango $[0, \\inf)$. Cuanto más cercano a 0 sea el valor del MAE, mejores serán las predicciones del modelo.\n",
    "\n",
    "$$ MAE = \\frac{1}{n_{samples}} \\sum_{i=0}^{n_{samples} - 1} |{y}_i - \\hat{y}_i| $$\n",
    "\n",
    "* **Error cuadrático medio (MSE)**: mide la \"distancia\" entre los valores reales y los predichos por el modelo, pero empleando los cuadrados para evitar que estas se anulen entre si. Al usar los cuadrados, da mayor importancia a los errores grandes. Al igual que el MAE, no está acotado por arriba, por lo que toma valores en el intervalo $[0, \\inf)$, siendo mejor el modelo cuanto mas cercano a 0 sea el valor de la metrica.\n",
    "\n",
    "$$ MSE = \\frac{1}{n_{samples}} \\sum_{i=0}^{n_{samples} - 1} ({y}_i - \\hat{y}_i) ^2 $$\n",
    "\n",
    "* **Coeficiente de determinación $R^2$**: mide la proporcion de la varianza de $y$ explicada por los terminos independientes del modelo. Sus valores estan en el rango $(-\\inf, 1]$, indicando 1 un ajuste perfecto, 0 que el modelo no explica ninguna variabilidad y valores negativos que el modelo se ajusta peor que un modelo que siempre prediga la media. \n",
    "\n",
    "$$ R^2 = 1 - \\frac{\\sum_{i=1}^{n} ({y}_i - \\hat{y}_i) ^2}{\\sum_{i=1}^{n} ({y}_i - \\bar{y}) ^2} $$\n",
    "\n",
    "A continuación emplearemos el dataset de diabetes para demostrar como calcular estas métricas."
   ]
  },
  {
   "cell_type": "code",
   "execution_count": 11,
   "id": "36bff92a",
   "metadata": {},
   "outputs": [
    {
     "name": "stdout",
     "output_type": "stream",
     "text": [
      "<class 'pandas.core.frame.DataFrame'>\n",
      "RangeIndex: 442 entries, 0 to 441\n",
      "Data columns (total 10 columns):\n",
      " #   Column  Non-Null Count  Dtype  \n",
      "---  ------  --------------  -----  \n",
      " 0   age     442 non-null    float64\n",
      " 1   sex     442 non-null    float64\n",
      " 2   bmi     442 non-null    float64\n",
      " 3   bp      442 non-null    float64\n",
      " 4   s1      442 non-null    float64\n",
      " 5   s2      442 non-null    float64\n",
      " 6   s3      442 non-null    float64\n",
      " 7   s4      442 non-null    float64\n",
      " 8   s5      442 non-null    float64\n",
      " 9   s6      442 non-null    float64\n",
      "dtypes: float64(10)\n",
      "memory usage: 34.7 KB\n"
     ]
    }
   ],
   "source": [
    "import pandas as pd\n",
    "import numpy as np\n",
    "from sklearn import datasets\n",
    "\n",
    "diabetes = datasets.load_diabetes(as_frame=True)\n",
    "\n",
    "X = diabetes.data\n",
    "y = diabetes.target\n",
    "\n",
    "X.info()"
   ]
  },
  {
   "cell_type": "markdown",
   "id": "cd81db53",
   "metadata": {},
   "source": [
    "Procedamos a entrenar un modelo de regresion sobre los datos, nuevamente una maquina de soporte vectorial. Previamente estandarizaremos los datos."
   ]
  },
  {
   "cell_type": "code",
   "execution_count": 12,
   "id": "4030c167",
   "metadata": {},
   "outputs": [
    {
     "data": {
      "text/html": [
       "<style>#sk-container-id-2 {\n",
       "  /* Definition of color scheme common for light and dark mode */\n",
       "  --sklearn-color-text: #000;\n",
       "  --sklearn-color-text-muted: #666;\n",
       "  --sklearn-color-line: gray;\n",
       "  /* Definition of color scheme for unfitted estimators */\n",
       "  --sklearn-color-unfitted-level-0: #fff5e6;\n",
       "  --sklearn-color-unfitted-level-1: #f6e4d2;\n",
       "  --sklearn-color-unfitted-level-2: #ffe0b3;\n",
       "  --sklearn-color-unfitted-level-3: chocolate;\n",
       "  /* Definition of color scheme for fitted estimators */\n",
       "  --sklearn-color-fitted-level-0: #f0f8ff;\n",
       "  --sklearn-color-fitted-level-1: #d4ebff;\n",
       "  --sklearn-color-fitted-level-2: #b3dbfd;\n",
       "  --sklearn-color-fitted-level-3: cornflowerblue;\n",
       "\n",
       "  /* Specific color for light theme */\n",
       "  --sklearn-color-text-on-default-background: var(--sg-text-color, var(--theme-code-foreground, var(--jp-content-font-color1, black)));\n",
       "  --sklearn-color-background: var(--sg-background-color, var(--theme-background, var(--jp-layout-color0, white)));\n",
       "  --sklearn-color-border-box: var(--sg-text-color, var(--theme-code-foreground, var(--jp-content-font-color1, black)));\n",
       "  --sklearn-color-icon: #696969;\n",
       "\n",
       "  @media (prefers-color-scheme: dark) {\n",
       "    /* Redefinition of color scheme for dark theme */\n",
       "    --sklearn-color-text-on-default-background: var(--sg-text-color, var(--theme-code-foreground, var(--jp-content-font-color1, white)));\n",
       "    --sklearn-color-background: var(--sg-background-color, var(--theme-background, var(--jp-layout-color0, #111)));\n",
       "    --sklearn-color-border-box: var(--sg-text-color, var(--theme-code-foreground, var(--jp-content-font-color1, white)));\n",
       "    --sklearn-color-icon: #878787;\n",
       "  }\n",
       "}\n",
       "\n",
       "#sk-container-id-2 {\n",
       "  color: var(--sklearn-color-text);\n",
       "}\n",
       "\n",
       "#sk-container-id-2 pre {\n",
       "  padding: 0;\n",
       "}\n",
       "\n",
       "#sk-container-id-2 input.sk-hidden--visually {\n",
       "  border: 0;\n",
       "  clip: rect(1px 1px 1px 1px);\n",
       "  clip: rect(1px, 1px, 1px, 1px);\n",
       "  height: 1px;\n",
       "  margin: -1px;\n",
       "  overflow: hidden;\n",
       "  padding: 0;\n",
       "  position: absolute;\n",
       "  width: 1px;\n",
       "}\n",
       "\n",
       "#sk-container-id-2 div.sk-dashed-wrapped {\n",
       "  border: 1px dashed var(--sklearn-color-line);\n",
       "  margin: 0 0.4em 0.5em 0.4em;\n",
       "  box-sizing: border-box;\n",
       "  padding-bottom: 0.4em;\n",
       "  background-color: var(--sklearn-color-background);\n",
       "}\n",
       "\n",
       "#sk-container-id-2 div.sk-container {\n",
       "  /* jupyter's `normalize.less` sets `[hidden] { display: none; }`\n",
       "     but bootstrap.min.css set `[hidden] { display: none !important; }`\n",
       "     so we also need the `!important` here to be able to override the\n",
       "     default hidden behavior on the sphinx rendered scikit-learn.org.\n",
       "     See: https://github.com/scikit-learn/scikit-learn/issues/21755 */\n",
       "  display: inline-block !important;\n",
       "  position: relative;\n",
       "}\n",
       "\n",
       "#sk-container-id-2 div.sk-text-repr-fallback {\n",
       "  display: none;\n",
       "}\n",
       "\n",
       "div.sk-parallel-item,\n",
       "div.sk-serial,\n",
       "div.sk-item {\n",
       "  /* draw centered vertical line to link estimators */\n",
       "  background-image: linear-gradient(var(--sklearn-color-text-on-default-background), var(--sklearn-color-text-on-default-background));\n",
       "  background-size: 2px 100%;\n",
       "  background-repeat: no-repeat;\n",
       "  background-position: center center;\n",
       "}\n",
       "\n",
       "/* Parallel-specific style estimator block */\n",
       "\n",
       "#sk-container-id-2 div.sk-parallel-item::after {\n",
       "  content: \"\";\n",
       "  width: 100%;\n",
       "  border-bottom: 2px solid var(--sklearn-color-text-on-default-background);\n",
       "  flex-grow: 1;\n",
       "}\n",
       "\n",
       "#sk-container-id-2 div.sk-parallel {\n",
       "  display: flex;\n",
       "  align-items: stretch;\n",
       "  justify-content: center;\n",
       "  background-color: var(--sklearn-color-background);\n",
       "  position: relative;\n",
       "}\n",
       "\n",
       "#sk-container-id-2 div.sk-parallel-item {\n",
       "  display: flex;\n",
       "  flex-direction: column;\n",
       "}\n",
       "\n",
       "#sk-container-id-2 div.sk-parallel-item:first-child::after {\n",
       "  align-self: flex-end;\n",
       "  width: 50%;\n",
       "}\n",
       "\n",
       "#sk-container-id-2 div.sk-parallel-item:last-child::after {\n",
       "  align-self: flex-start;\n",
       "  width: 50%;\n",
       "}\n",
       "\n",
       "#sk-container-id-2 div.sk-parallel-item:only-child::after {\n",
       "  width: 0;\n",
       "}\n",
       "\n",
       "/* Serial-specific style estimator block */\n",
       "\n",
       "#sk-container-id-2 div.sk-serial {\n",
       "  display: flex;\n",
       "  flex-direction: column;\n",
       "  align-items: center;\n",
       "  background-color: var(--sklearn-color-background);\n",
       "  padding-right: 1em;\n",
       "  padding-left: 1em;\n",
       "}\n",
       "\n",
       "\n",
       "/* Toggleable style: style used for estimator/Pipeline/ColumnTransformer box that is\n",
       "clickable and can be expanded/collapsed.\n",
       "- Pipeline and ColumnTransformer use this feature and define the default style\n",
       "- Estimators will overwrite some part of the style using the `sk-estimator` class\n",
       "*/\n",
       "\n",
       "/* Pipeline and ColumnTransformer style (default) */\n",
       "\n",
       "#sk-container-id-2 div.sk-toggleable {\n",
       "  /* Default theme specific background. It is overwritten whether we have a\n",
       "  specific estimator or a Pipeline/ColumnTransformer */\n",
       "  background-color: var(--sklearn-color-background);\n",
       "}\n",
       "\n",
       "/* Toggleable label */\n",
       "#sk-container-id-2 label.sk-toggleable__label {\n",
       "  cursor: pointer;\n",
       "  display: flex;\n",
       "  width: 100%;\n",
       "  margin-bottom: 0;\n",
       "  padding: 0.5em;\n",
       "  box-sizing: border-box;\n",
       "  text-align: center;\n",
       "  align-items: start;\n",
       "  justify-content: space-between;\n",
       "  gap: 0.5em;\n",
       "}\n",
       "\n",
       "#sk-container-id-2 label.sk-toggleable__label .caption {\n",
       "  font-size: 0.6rem;\n",
       "  font-weight: lighter;\n",
       "  color: var(--sklearn-color-text-muted);\n",
       "}\n",
       "\n",
       "#sk-container-id-2 label.sk-toggleable__label-arrow:before {\n",
       "  /* Arrow on the left of the label */\n",
       "  content: \"▸\";\n",
       "  float: left;\n",
       "  margin-right: 0.25em;\n",
       "  color: var(--sklearn-color-icon);\n",
       "}\n",
       "\n",
       "#sk-container-id-2 label.sk-toggleable__label-arrow:hover:before {\n",
       "  color: var(--sklearn-color-text);\n",
       "}\n",
       "\n",
       "/* Toggleable content - dropdown */\n",
       "\n",
       "#sk-container-id-2 div.sk-toggleable__content {\n",
       "  max-height: 0;\n",
       "  max-width: 0;\n",
       "  overflow: hidden;\n",
       "  text-align: left;\n",
       "  /* unfitted */\n",
       "  background-color: var(--sklearn-color-unfitted-level-0);\n",
       "}\n",
       "\n",
       "#sk-container-id-2 div.sk-toggleable__content.fitted {\n",
       "  /* fitted */\n",
       "  background-color: var(--sklearn-color-fitted-level-0);\n",
       "}\n",
       "\n",
       "#sk-container-id-2 div.sk-toggleable__content pre {\n",
       "  margin: 0.2em;\n",
       "  border-radius: 0.25em;\n",
       "  color: var(--sklearn-color-text);\n",
       "  /* unfitted */\n",
       "  background-color: var(--sklearn-color-unfitted-level-0);\n",
       "}\n",
       "\n",
       "#sk-container-id-2 div.sk-toggleable__content.fitted pre {\n",
       "  /* unfitted */\n",
       "  background-color: var(--sklearn-color-fitted-level-0);\n",
       "}\n",
       "\n",
       "#sk-container-id-2 input.sk-toggleable__control:checked~div.sk-toggleable__content {\n",
       "  /* Expand drop-down */\n",
       "  max-height: 200px;\n",
       "  max-width: 100%;\n",
       "  overflow: auto;\n",
       "}\n",
       "\n",
       "#sk-container-id-2 input.sk-toggleable__control:checked~label.sk-toggleable__label-arrow:before {\n",
       "  content: \"▾\";\n",
       "}\n",
       "\n",
       "/* Pipeline/ColumnTransformer-specific style */\n",
       "\n",
       "#sk-container-id-2 div.sk-label input.sk-toggleable__control:checked~label.sk-toggleable__label {\n",
       "  color: var(--sklearn-color-text);\n",
       "  background-color: var(--sklearn-color-unfitted-level-2);\n",
       "}\n",
       "\n",
       "#sk-container-id-2 div.sk-label.fitted input.sk-toggleable__control:checked~label.sk-toggleable__label {\n",
       "  background-color: var(--sklearn-color-fitted-level-2);\n",
       "}\n",
       "\n",
       "/* Estimator-specific style */\n",
       "\n",
       "/* Colorize estimator box */\n",
       "#sk-container-id-2 div.sk-estimator input.sk-toggleable__control:checked~label.sk-toggleable__label {\n",
       "  /* unfitted */\n",
       "  background-color: var(--sklearn-color-unfitted-level-2);\n",
       "}\n",
       "\n",
       "#sk-container-id-2 div.sk-estimator.fitted input.sk-toggleable__control:checked~label.sk-toggleable__label {\n",
       "  /* fitted */\n",
       "  background-color: var(--sklearn-color-fitted-level-2);\n",
       "}\n",
       "\n",
       "#sk-container-id-2 div.sk-label label.sk-toggleable__label,\n",
       "#sk-container-id-2 div.sk-label label {\n",
       "  /* The background is the default theme color */\n",
       "  color: var(--sklearn-color-text-on-default-background);\n",
       "}\n",
       "\n",
       "/* On hover, darken the color of the background */\n",
       "#sk-container-id-2 div.sk-label:hover label.sk-toggleable__label {\n",
       "  color: var(--sklearn-color-text);\n",
       "  background-color: var(--sklearn-color-unfitted-level-2);\n",
       "}\n",
       "\n",
       "/* Label box, darken color on hover, fitted */\n",
       "#sk-container-id-2 div.sk-label.fitted:hover label.sk-toggleable__label.fitted {\n",
       "  color: var(--sklearn-color-text);\n",
       "  background-color: var(--sklearn-color-fitted-level-2);\n",
       "}\n",
       "\n",
       "/* Estimator label */\n",
       "\n",
       "#sk-container-id-2 div.sk-label label {\n",
       "  font-family: monospace;\n",
       "  font-weight: bold;\n",
       "  display: inline-block;\n",
       "  line-height: 1.2em;\n",
       "}\n",
       "\n",
       "#sk-container-id-2 div.sk-label-container {\n",
       "  text-align: center;\n",
       "}\n",
       "\n",
       "/* Estimator-specific */\n",
       "#sk-container-id-2 div.sk-estimator {\n",
       "  font-family: monospace;\n",
       "  border: 1px dotted var(--sklearn-color-border-box);\n",
       "  border-radius: 0.25em;\n",
       "  box-sizing: border-box;\n",
       "  margin-bottom: 0.5em;\n",
       "  /* unfitted */\n",
       "  background-color: var(--sklearn-color-unfitted-level-0);\n",
       "}\n",
       "\n",
       "#sk-container-id-2 div.sk-estimator.fitted {\n",
       "  /* fitted */\n",
       "  background-color: var(--sklearn-color-fitted-level-0);\n",
       "}\n",
       "\n",
       "/* on hover */\n",
       "#sk-container-id-2 div.sk-estimator:hover {\n",
       "  /* unfitted */\n",
       "  background-color: var(--sklearn-color-unfitted-level-2);\n",
       "}\n",
       "\n",
       "#sk-container-id-2 div.sk-estimator.fitted:hover {\n",
       "  /* fitted */\n",
       "  background-color: var(--sklearn-color-fitted-level-2);\n",
       "}\n",
       "\n",
       "/* Specification for estimator info (e.g. \"i\" and \"?\") */\n",
       "\n",
       "/* Common style for \"i\" and \"?\" */\n",
       "\n",
       ".sk-estimator-doc-link,\n",
       "a:link.sk-estimator-doc-link,\n",
       "a:visited.sk-estimator-doc-link {\n",
       "  float: right;\n",
       "  font-size: smaller;\n",
       "  line-height: 1em;\n",
       "  font-family: monospace;\n",
       "  background-color: var(--sklearn-color-background);\n",
       "  border-radius: 1em;\n",
       "  height: 1em;\n",
       "  width: 1em;\n",
       "  text-decoration: none !important;\n",
       "  margin-left: 0.5em;\n",
       "  text-align: center;\n",
       "  /* unfitted */\n",
       "  border: var(--sklearn-color-unfitted-level-1) 1pt solid;\n",
       "  color: var(--sklearn-color-unfitted-level-1);\n",
       "}\n",
       "\n",
       ".sk-estimator-doc-link.fitted,\n",
       "a:link.sk-estimator-doc-link.fitted,\n",
       "a:visited.sk-estimator-doc-link.fitted {\n",
       "  /* fitted */\n",
       "  border: var(--sklearn-color-fitted-level-1) 1pt solid;\n",
       "  color: var(--sklearn-color-fitted-level-1);\n",
       "}\n",
       "\n",
       "/* On hover */\n",
       "div.sk-estimator:hover .sk-estimator-doc-link:hover,\n",
       ".sk-estimator-doc-link:hover,\n",
       "div.sk-label-container:hover .sk-estimator-doc-link:hover,\n",
       ".sk-estimator-doc-link:hover {\n",
       "  /* unfitted */\n",
       "  background-color: var(--sklearn-color-unfitted-level-3);\n",
       "  color: var(--sklearn-color-background);\n",
       "  text-decoration: none;\n",
       "}\n",
       "\n",
       "div.sk-estimator.fitted:hover .sk-estimator-doc-link.fitted:hover,\n",
       ".sk-estimator-doc-link.fitted:hover,\n",
       "div.sk-label-container:hover .sk-estimator-doc-link.fitted:hover,\n",
       ".sk-estimator-doc-link.fitted:hover {\n",
       "  /* fitted */\n",
       "  background-color: var(--sklearn-color-fitted-level-3);\n",
       "  color: var(--sklearn-color-background);\n",
       "  text-decoration: none;\n",
       "}\n",
       "\n",
       "/* Span, style for the box shown on hovering the info icon */\n",
       ".sk-estimator-doc-link span {\n",
       "  display: none;\n",
       "  z-index: 9999;\n",
       "  position: relative;\n",
       "  font-weight: normal;\n",
       "  right: .2ex;\n",
       "  padding: .5ex;\n",
       "  margin: .5ex;\n",
       "  width: min-content;\n",
       "  min-width: 20ex;\n",
       "  max-width: 50ex;\n",
       "  color: var(--sklearn-color-text);\n",
       "  box-shadow: 2pt 2pt 4pt #999;\n",
       "  /* unfitted */\n",
       "  background: var(--sklearn-color-unfitted-level-0);\n",
       "  border: .5pt solid var(--sklearn-color-unfitted-level-3);\n",
       "}\n",
       "\n",
       ".sk-estimator-doc-link.fitted span {\n",
       "  /* fitted */\n",
       "  background: var(--sklearn-color-fitted-level-0);\n",
       "  border: var(--sklearn-color-fitted-level-3);\n",
       "}\n",
       "\n",
       ".sk-estimator-doc-link:hover span {\n",
       "  display: block;\n",
       "}\n",
       "\n",
       "/* \"?\"-specific style due to the `<a>` HTML tag */\n",
       "\n",
       "#sk-container-id-2 a.estimator_doc_link {\n",
       "  float: right;\n",
       "  font-size: 1rem;\n",
       "  line-height: 1em;\n",
       "  font-family: monospace;\n",
       "  background-color: var(--sklearn-color-background);\n",
       "  border-radius: 1rem;\n",
       "  height: 1rem;\n",
       "  width: 1rem;\n",
       "  text-decoration: none;\n",
       "  /* unfitted */\n",
       "  color: var(--sklearn-color-unfitted-level-1);\n",
       "  border: var(--sklearn-color-unfitted-level-1) 1pt solid;\n",
       "}\n",
       "\n",
       "#sk-container-id-2 a.estimator_doc_link.fitted {\n",
       "  /* fitted */\n",
       "  border: var(--sklearn-color-fitted-level-1) 1pt solid;\n",
       "  color: var(--sklearn-color-fitted-level-1);\n",
       "}\n",
       "\n",
       "/* On hover */\n",
       "#sk-container-id-2 a.estimator_doc_link:hover {\n",
       "  /* unfitted */\n",
       "  background-color: var(--sklearn-color-unfitted-level-3);\n",
       "  color: var(--sklearn-color-background);\n",
       "  text-decoration: none;\n",
       "}\n",
       "\n",
       "#sk-container-id-2 a.estimator_doc_link.fitted:hover {\n",
       "  /* fitted */\n",
       "  background-color: var(--sklearn-color-fitted-level-3);\n",
       "}\n",
       "</style><div id=\"sk-container-id-2\" class=\"sk-top-container\"><div class=\"sk-text-repr-fallback\"><pre>SVR(C=10.0, kernel=&#x27;linear&#x27;)</pre><b>In a Jupyter environment, please rerun this cell to show the HTML representation or trust the notebook. <br />On GitHub, the HTML representation is unable to render, please try loading this page with nbviewer.org.</b></div><div class=\"sk-container\" hidden><div class=\"sk-item\"><div class=\"sk-estimator fitted sk-toggleable\"><input class=\"sk-toggleable__control sk-hidden--visually\" id=\"sk-estimator-id-2\" type=\"checkbox\" checked><label for=\"sk-estimator-id-2\" class=\"sk-toggleable__label fitted sk-toggleable__label-arrow\"><div><div>SVR</div></div><div><a class=\"sk-estimator-doc-link fitted\" rel=\"noreferrer\" target=\"_blank\" href=\"https://scikit-learn.org/1.6/modules/generated/sklearn.svm.SVR.html\">?<span>Documentation for SVR</span></a><span class=\"sk-estimator-doc-link fitted\">i<span>Fitted</span></span></div></label><div class=\"sk-toggleable__content fitted\"><pre>SVR(C=10.0, kernel=&#x27;linear&#x27;)</pre></div> </div></div></div></div>"
      ],
      "text/plain": [
       "SVR(C=10.0, kernel='linear')"
      ]
     },
     "execution_count": 12,
     "metadata": {},
     "output_type": "execute_result"
    }
   ],
   "source": [
    "from sklearn.preprocessing import StandardScaler\n",
    "from sklearn.svm import SVR\n",
    "\n",
    "sc = StandardScaler()\n",
    "X_std = sc.fit_transform(X)\n",
    "\n",
    "svr = SVR(kernel=\"linear\", C=10.0)\n",
    "svr.fit(X, y)"
   ]
  },
  {
   "cell_type": "markdown",
   "id": "9699113e",
   "metadata": {},
   "source": [
    "Realicemos ahora las predicciones y calculemos las métricas: "
   ]
  },
  {
   "cell_type": "code",
   "execution_count": 13,
   "id": "941d556a",
   "metadata": {},
   "outputs": [
    {
     "name": "stdout",
     "output_type": "stream",
     "text": [
      "El MAE del modelo es 57.840\n",
      "El MSE del modelo es 4806.076\n",
      "El R2 del modelo es 0.190\n"
     ]
    }
   ],
   "source": [
    "from sklearn.metrics import mean_absolute_error, mean_squared_error, r2_score\n",
    "\n",
    "y_pred = svr.predict(X)\n",
    "\n",
    "mae = mean_absolute_error(y, y_pred)\n",
    "mse = mean_squared_error(y, y_pred)\n",
    "r2 = r2_score(y, y_pred)\n",
    "\n",
    "print(f'El MAE del modelo es {mae:.3f}')\n",
    "print(f'El MSE del modelo es {mse:.3f}')\n",
    "print(f'El R2 del modelo es {r2:.3f}')"
   ]
  },
  {
   "cell_type": "markdown",
   "id": "f9d8a59c",
   "metadata": {},
   "source": [
    "<div class=\"alert alert-info\">\n",
    "\n",
    "**Ejercicio**\n",
    "\n",
    "Empleando el dataset de diabetes, entrena los siguientes modelos: `RandomForest`, `GradientBoosting`, `ExtraTrees`, `KNN`, `DecisionTree` y `SVM con kernel rbf`. \n",
    "\n",
    "Para cada uno de ellos, obtén las métricas anteriores y representalas gráficamente. \n",
    "\n",
    "¿Cuál es el mejor modelo?\n",
    "\n",
    "</div> "
   ]
  },
  {
   "cell_type": "markdown",
   "id": "d62231f1",
   "metadata": {},
   "source": [
    "Primero, definimos los modelos, dejando los hiperparámetros por defecto"
   ]
  },
  {
   "cell_type": "code",
   "execution_count": 14,
   "id": "a3b576af",
   "metadata": {},
   "outputs": [],
   "source": [
    "from sklearn.ensemble import RandomForestRegressor, GradientBoostingRegressor, ExtraTreesRegressor\n",
    "from sklearn.neighbors import KNeighborsRegressor\n",
    "from sklearn.tree import DecisionTreeRegressor\n",
    "from sklearn.svm import SVR\n",
    "\n",
    "models_reg = {\n",
    "    'RandomForest': RandomForestRegressor(random_state=42),\n",
    "    'GradientBoosting': GradientBoostingRegressor(random_state=42),\n",
    "    'ExtraTrees': ExtraTreesRegressor(random_state=42),\n",
    "    'KNN': KNeighborsRegressor(),\n",
    "    'DecisionTree': DecisionTreeRegressor(random_state=42),\n",
    "    'SVM (rbf)': SVR(kernel='rbf')\n",
    "}"
   ]
  },
  {
   "cell_type": "markdown",
   "id": "ee9b2f57",
   "metadata": {},
   "source": [
    "Entrenamos y predecimos con los modelos, evaluando `MAE`, `MSE`, y `R²`. "
   ]
  },
  {
   "cell_type": "code",
   "execution_count": 15,
   "id": "152843c7",
   "metadata": {},
   "outputs": [
    {
     "name": "stdout",
     "output_type": "stream",
     "text": [
      "\n",
      "Métricas de rendimiento:\n",
      "                     MAE       MSE     R2\n",
      "Modelo                                   \n",
      "RandomForest      17.666   476.754  0.920\n",
      "GradientBoosting  27.841  1191.674  0.799\n",
      "ExtraTrees         0.000     0.000  1.000\n",
      "KNN               37.587  2342.556  0.605\n",
      "DecisionTree       0.000     0.000  1.000\n",
      "SVM (rbf)         56.895  4701.345  0.207\n"
     ]
    }
   ],
   "source": [
    "results_reg = [[0] * 4 for _ in range(len(models_reg))] \n",
    "\n",
    "for i, (name, model) in enumerate(models_reg.items()):\n",
    "    model.fit(X_std, y)\n",
    "    y_pred = model.predict(X_std)\n",
    "    \n",
    "    # evaluamos las métricas\n",
    "    mae = mean_absolute_error(y, y_pred)\n",
    "    mse = mean_squared_error(y, y_pred)\n",
    "    r2 = r2_score(y, y_pred)\n",
    "\n",
    "    results_reg[i] = [name, mae, mse, r2]\n",
    "\n",
    "results = pd.DataFrame(results_reg, columns=['Modelo', 'MAE', 'MSE', 'R2'])\n",
    "\n",
    "\n",
    "print(\"\\nMétricas de rendimiento:\")\n",
    "print(results.set_index('Modelo').round(3))"
   ]
  },
  {
   "cell_type": "markdown",
   "id": "f450e58d",
   "metadata": {},
   "source": [
    "Hacemos un gráfico de barras para las métricas."
   ]
  },
  {
   "cell_type": "code",
   "execution_count": 16,
   "id": "ce47a00e",
   "metadata": {},
   "outputs": [
    {
     "data": {
      "image/png": "[encoded data removed]",
      "text/plain": [
       "<Figure size 1600x600 with 3 Axes>"
      ]
     },
     "metadata": {},
     "output_type": "display_data"
    }
   ],
   "source": [
    "fig, axes = plt.subplots(1, 3, figsize=(16, 6))\n",
    "\n",
    "# MAE\n",
    "sns.barplot(x='Modelo', y='MAE', data=results, ax=axes[0], hue='Modelo', palette='Blues_d', legend=False)\n",
    "axes[0].set_title('Error Absoluto Medio (MAE) por modelo', fontsize=14)\n",
    "axes[0].set_ylabel('MAE', fontsize=12)\n",
    "axes[0].set_xlabel('Modelo', fontsize=12)\n",
    "axes[0].tick_params(axis='x', rotation=45)\n",
    "\n",
    "# MSE\n",
    "sns.barplot(x='Modelo', y='MSE', data=results, ax=axes[1], hue='Modelo', palette='Reds_d', legend=False)\n",
    "axes[1].set_title('Error Cuadrático Medio (MSE) por modelo', fontsize=14)\n",
    "axes[1].set_ylabel('MSE', fontsize=12)\n",
    "axes[1].set_xlabel('Modelo', fontsize=12)\n",
    "axes[1].tick_params(axis='x', rotation=45)\n",
    "\n",
    "sns.barplot(x='Modelo', y='R2', data=results, hue='Modelo', palette='Greens_d', legend=False)\n",
    "axes[2].set_title(r'Coeficiente $R^2$ por modelo', fontsize=14)\n",
    "axes[2].set_ylabel(r'$R^2$', fontsize=12)\n",
    "axes[2].set_xlabel('Modelo', fontsize=12)\n",
    "axes[2].tick_params(axis='x', rotation=45)\n",
    "\n",
    "plt.tight_layout()\n",
    "plt.show()"
   ]
  },
  {
   "cell_type": "markdown",
   "id": "2c8dfe00",
   "metadata": {},
   "source": [
    "Buscamos ahora el mejor de esos modelos"
   ]
  },
  {
   "cell_type": "code",
   "execution_count": 17,
   "id": "504f1e58",
   "metadata": {},
   "outputs": [
    {
     "name": "stdout",
     "output_type": "stream",
     "text": [
      "Mejor modelo según MAE: ExtraTrees\n",
      "Mejor modelo según MSE: ExtraTrees\n",
      "Mejor modelo según R2: ExtraTrees\n",
      "\n",
      "Clasificación de modelos:\n",
      "             Modelo     Score\n",
      "2        ExtraTrees  0.000000\n",
      "4      DecisionTree  0.000000\n",
      "0      RandomForest  0.171108\n",
      "1  GradientBoosting  0.332096\n",
      "3               KNN  0.552395\n",
      "5         SVM (rbf)  1.000000\n",
      "\n",
      "El mejor modelo general es: ExtraTrees\n"
     ]
    }
   ],
   "source": [
    "best_mae = results.loc[results['MAE'].idxmin()]['Modelo']\n",
    "best_mse = results.loc[results['MSE'].idxmin()]['Modelo']\n",
    "best_r2 = results.loc[results['R2'].idxmax()]['Modelo']\n",
    "\n",
    "print(f\"Mejor modelo según MAE: {best_mae}\")\n",
    "print(f\"Mejor modelo según MSE: {best_mse}\")\n",
    "print(f\"Mejor modelo según R2: {best_r2}\")\n",
    "\n",
    "# normalizamos las métricas para que todas tengan la misma escala (0-1)\n",
    "results['MAE_norm'] = (results['MAE'] - results['MAE'].min()) / (results['MAE'].max() - results['MAE'].min())\n",
    "results['MSE_norm'] = (results['MSE'] - results['MSE'].min()) / (results['MSE'].max() - results['MSE'].min())\n",
    "results['R2_norm'] = 1 - (results['R2'] - results['R2'].min()) / (results['R2'].max() - results['R2'].min())\n",
    "\n",
    "\n",
    "results['Score'] = (results['MAE_norm'] + results['MSE_norm'] + results['R2_norm']) / 3\n",
    "\n",
    "print(\"\\nClasificación de modelos:\")\n",
    "print(results[['Modelo', 'Score']].sort_values('Score'))\n",
    "\n",
    "final_best = results.loc[results['Score'].idxmin()]['Modelo']\n",
    "print(f\"\\nEl mejor modelo general es: {final_best}\")"
   ]
  },
  {
   "cell_type": "markdown",
   "id": "847f3619",
   "metadata": {},
   "source": [
    "## Evaluación de modelos\n",
    "\n",
    "Hasta ahora hemos visto como calcular métricas de rendimiento dado un modelo. No obstante, hemos estado \"haciendo trampas\": los datos que hemos empleado para entrenar y para evaluar el modelo han sido los mismos. Esto usualmente no es así. Por el contrario, existen distintos métodos para separar los datos en entrenamiento y evaluación, de forma que nuestra evaluación sea lo más justa posible. \n",
    "\n",
    "Todos los ejemplos a continuación los haremos empleando el dataset de IRIS, por lo que podemos cargarlo."
   ]
  },
  {
   "cell_type": "code",
   "execution_count": 18,
   "id": "401a0f8d",
   "metadata": {},
   "outputs": [
    {
     "name": "stdout",
     "output_type": "stream",
     "text": [
      "(150, 4) (150,)\n"
     ]
    }
   ],
   "source": [
    "from sklearn import datasets\n",
    "\n",
    "X, y = datasets.load_iris(as_frame=True, return_X_y=True)\n",
    "\n",
    "print(X.shape, y.shape)"
   ]
  },
  {
   "cell_type": "markdown",
   "id": "007a7f2e",
   "metadata": {},
   "source": [
    "### Hold-out\n",
    "La forma más sencilla de particionar nuestros datos de entrenamiento y evaluación es a través de un *hold-out*. Este método divide nuestros datos en dos particiones: entrenamiento y evaluación, de forma que los datos que empleemos para entrenar nuestro modelo no se emplearán para evaluarlo, y viceversa.\n",
    "\n",
    "El método de `scikit-learn` llamado `train_test_split` nos proporciona esta funcionalidad. Este método recibe como parámetros los conjuntos a particionar, además del parámetro `test_size` con el que establece el porcentaje de datos que formarán parte del conjunto de prueba."
   ]
  },
  {
   "cell_type": "code",
   "execution_count": 19,
   "id": "f9938a7a",
   "metadata": {},
   "outputs": [
    {
     "name": "stdout",
     "output_type": "stream",
     "text": [
      "(100, 4) (100,)\n",
      "(50, 4) (50,)\n"
     ]
    }
   ],
   "source": [
    "from sklearn.model_selection import train_test_split\n",
    "\n",
    "X_train, X_test, y_train, y_test = train_test_split(X, y, test_size=1/3, random_state=0)\n",
    "\n",
    "print(X_train.shape, y_train.shape)\n",
    "print(X_test.shape, y_test.shape)"
   ]
  },
  {
   "cell_type": "markdown",
   "id": "e9747b68",
   "metadata": {},
   "source": [
    "Con estos datos ya podemos entrenar nuestro modelo, empleando los datos de entrenamiento para entrenar y los de evaluación para evaluar. En este caso entrenamos una máquina de soporte vectorial (SVM):"
   ]
  },
  {
   "cell_type": "code",
   "execution_count": 20,
   "id": "5f3a0118",
   "metadata": {},
   "outputs": [
    {
     "name": "stdout",
     "output_type": "stream",
     "text": [
      "0.98\n"
     ]
    }
   ],
   "source": [
    "from sklearn.svm import SVC\n",
    "\n",
    "clf = SVC(kernel='linear', C=1.0).fit(X_train, y_train)\n",
    "\n",
    "print(clf.score(X_test, y_test))"
   ]
  },
  {
   "cell_type": "markdown",
   "id": "55f43714",
   "metadata": {},
   "source": [
    "Aun así, hay que ser cuidadosos cuando ajustamos diferentes hiperparámetros para los predictores, como el hiperparámetro C de la SVM, pues sigue existiendo un riesgo de sobreajuste al conjunto de evaluación. De este modo, el conocimiento sobre el conjunto de evaluación puede \"filtrarse\" en el modelo y las métricas de evaluación ya no informan sobre el rendimiento de la generalización. Para resolver este problema, se puede reservar otra parte del conjunto de datos, a la cual se llama \"conjunto de validación\": el entrenamiento se lleva a cabo en el conjunto de entrenamiento, después se realiza la evaluación en el conjunto de validación y, cuando el experimento parece tener éxito, se puede realizar la evaluación final en el conjunto de evaluación.\n",
    "\n",
    "Sin embargo, al dividir los datos disponibles en tres conjuntos, reducimos drásticamente el número de muestras que pueden utilizarse para el aprendizaje del modelo, y los resultados pueden depender de una elección aleatoria concreta para el par de conjuntos (entrenamiento, validación).\n",
    "\n",
    "### Cross-validation\n",
    "\n",
    "Una solución a este problema es un procedimiento denominado validación cruzada (CV). \n",
    "En este procedimiento el conjunto de evaluación sigue utilizándose para la evaluación final, pero el conjunto de validación deja de ser necesario. \n",
    "En el enfoque básico, denominado validación cruzada en $k$-pliegues ($k$-fold cross-validation), el conjunto de entrenamiento se divide en $k$ subconjuntos, y, para cada uno de los subconjuntos se sigue el siguiente procedimiento:\n",
    "\n",
    "1) Se entrena un modelo utilizando $k-1$ pliegues como datos de entrenamiento.\n",
    "2) El modelo resultante se valida con los datos del pliegue restante.\n",
    "3) Se repite el procedimiento para cada pliegue.\n",
    "\n",
    "La medida de rendimiento obtenida mediante la validación cruzada en $k$-pliegues es la media de los valores calculados en el bucle. Este método puede ser costoso desde el punto de vista computacional, pero no desperdicia demasiados datos (como ocurre cuando se fija un conjunto de validación arbitrario), lo que supone una gran ventaja en problemas en los que el número de muestras es pequeño.\n",
    "\n",
    "La forma más sencilla de utilizar la validación cruzada es llamar a la función `cross_val_score` sobre el modelo y el conjunto de datos. Esta funcion recibe el modelo, los datos y el numero de pliegues, y nos devuelve una lista con el valor de la métrica para cada pliegue. Si queremos obtener el valor medio de las métricas basta con calcular la media de dicha lista.\n"
   ]
  },
  {
   "cell_type": "code",
   "execution_count": 21,
   "id": "463140ae",
   "metadata": {},
   "outputs": [
    {
     "name": "stdout",
     "output_type": "stream",
     "text": [
      "[0.96969697 1.         0.96969697 0.96969697 1.        ]\n",
      "La CV obtuvo una accuracy media de 0.982 con desviación estándar igual a 0.015\n"
     ]
    }
   ],
   "source": [
    "from sklearn.model_selection import cross_val_score\n",
    "from sklearn.metrics import make_scorer, precision_score\n",
    "\n",
    "clf = SVC(kernel='linear', C=1, random_state=42)\n",
    "scores = cross_val_score(clf, X, y, cv=5)\n",
    "\n",
    "# Tambien podemos especificar la métrica de evaluación que queremos usar empleando la funcion make_scorer\n",
    "scores = cross_val_score(clf, X, y, scoring=make_scorer(precision_score, average=\"macro\"), cv=5)\n",
    "\n",
    "print(scores)\n",
    "\n",
    "print(f\"La CV obtuvo una accuracy media de {scores.mean():.3f} con desviación estándar igual a {scores.std():.3f}\")"
   ]
  },
  {
   "cell_type": "markdown",
   "id": "6d556dc1",
   "metadata": {},
   "source": [
    "<div class=\"alert alert-info\">\n",
    "\n",
    "**Ejercicio**\n",
    "\n",
    "Calcula el recall, el accuracy, la precision y el F1 empleando el SVM de arriba y los mismos parámetros de validación cruzada.\n",
    "\n",
    "</div> "
   ]
  },
  {
   "cell_type": "code",
   "execution_count": 22,
   "id": "5787992e",
   "metadata": {},
   "outputs": [
    {
     "name": "stdout",
     "output_type": "stream",
     "text": [
      "Accuracy scores: [0.97, 1.0, 0.97, 0.97, 1.0]\n",
      "Accuracy medio: 0.98 ± 0.02\n",
      "\n",
      "Precision scores: [0.97, 1.0, 0.97, 0.97, 1.0]\n",
      "Precision medio: 0.98 ± 0.01\n",
      "\n",
      "Recall scores: [0.97, 1.0, 0.97, 0.97, 1.0]\n",
      "Recall medio: 0.98 ± 0.02\n",
      "\n",
      "F1 Score scores: [0.97, 1.0, 0.97, 0.97, 1.0]\n",
      "F1 Score medio: 0.98 ± 0.02\n",
      "\n"
     ]
    }
   ],
   "source": [
    "from sklearn.metrics import make_scorer, recall_score, accuracy_score, precision_score, f1_score\n",
    "\n",
    "clf = SVC(kernel='linear', C=1, random_state=42)\n",
    "\n",
    "metrics = {\n",
    "    'Accuracy': make_scorer(accuracy_score),\n",
    "    'Precision': make_scorer(precision_score, average='macro'),\n",
    "    'Recall': make_scorer(recall_score, average='macro'),\n",
    "    'F1 Score': make_scorer(f1_score, average='macro')\n",
    "}\n",
    "\n",
    "# validación cruzada con 5 folds\n",
    "results = {}\n",
    "for metric_name, scorer in metrics.items():\n",
    "    scores = cross_val_score(clf, X, y, scoring=scorer, cv=5)\n",
    "    results[metric_name] = {'scores': scores, 'mean': scores.mean(), 'std': scores.std()}\n",
    "    print(f\"{metric_name} scores: {[float(round(score, 2)) for score in scores]}\")\n",
    "    print(f\"{metric_name} medio: {scores.mean():.2f} ± {scores.std():.2f}\\n\")"
   ]
  },
  {
   "cell_type": "markdown",
   "id": "149f7a83",
   "metadata": {},
   "source": [
    "Una alternativa más completa a la función `cross_val_score` es la función `cross_validate`, que difiere de en dos aspectos principalmente:\n",
    "\n",
    "1) Permite especificar múltiples métricas para la evaluación.\n",
    "2) Devuelve un diccionario con metadatos como los tiempos de ajuste, tiempos de evaluación... así como la puntuación de la prueba.\n",
    "\n",
    "Se puede conservar el estimador ajustado en cada conjunto de entrenamiento estableciendo el parámetro `return_estimator=True`."
   ]
  },
  {
   "cell_type": "code",
   "execution_count": 23,
   "id": "61aa2d26",
   "metadata": {},
   "outputs": [
    {
     "name": "stdout",
     "output_type": "stream",
     "text": [
      "{'fit_time': array([0.00173688, 0.00150704, 0.00129128, 0.00152612, 0.00146699]), 'score_time': array([0.0051074 , 0.00291514, 0.00323105, 0.00308061, 0.00321031]), 'test_precision': array([0.96969697, 1.        , 0.96969697, 0.96969697, 1.        ]), 'test_recall': array([0.96666667, 1.        , 0.96666667, 0.96666667, 1.        ])}\n"
     ]
    }
   ],
   "source": [
    "from sklearn.model_selection import cross_validate\n",
    "from sklearn.metrics import recall_score\n",
    "\n",
    "scores = cross_validate(\n",
    "    clf, \n",
    "    X, \n",
    "    y, \n",
    "    scoring={\n",
    "        \"precision\": make_scorer(precision_score, average=\"macro\"), \n",
    "        \"recall\": make_scorer(recall_score, average=\"macro\")\n",
    "    }, \n",
    "    cv=5\n",
    ")\n",
    "\n",
    "print(scores)"
   ]
  },
  {
   "cell_type": "markdown",
   "id": "3b2b8457",
   "metadata": {},
   "source": [
    "Si queremos ajustar aun más nuestra validación cruzada podemos personalizar la forma en la que `scikit-learn`hace las particiones de los datos. Para ello, tendremos que indicar una estrategia de partición con sus parámetros en lugar del numero de particiones al parámetro `cv`. Además, estas estrategias puende ser utiles cuando estamos empleando un clasificador no compatible con `scikit-learn` pero aun así queremos usar este para particionar los datos."
   ]
  },
  {
   "cell_type": "markdown",
   "id": "6c99f7a0",
   "metadata": {},
   "source": [
    "#### KFold\n",
    "\n",
    "`KFold` divide el conjunto de muestras en grupos, llamados pliegues, de igual tamaño (si es posible). La función de predicción se aprende utilizando $k-1$ pliegues, y el pliegue que queda fuera se utiliza para la prueba.\n",
    "\n",
    "A continuación mostramos un ejemplo de validación cruzada de 2 pliegues en un conjunto de datos con 4 muestras. Cada pliegue está constituido por dos matrices de índices: la primera con los elementos del conjunto de entrenamiento y la segunda con los del conjunto de prueba."
   ]
  },
  {
   "cell_type": "code",
   "execution_count": 24,
   "id": "acf1410a",
   "metadata": {},
   "outputs": [
    {
     "name": "stdout",
     "output_type": "stream",
     "text": [
      "[2 3] [0 1]\n",
      "[0 1] [2 3]\n"
     ]
    }
   ],
   "source": [
    "from sklearn.model_selection import KFold\n",
    "\n",
    "X = [\"a\", \"b\", \"c\", \"d\"]\n",
    "kf = KFold(n_splits=2)\n",
    "splits = kf.split(X)\n",
    "\n",
    "for train, test in splits:\n",
    "    print(f'{train} {test}')"
   ]
  },
  {
   "cell_type": "markdown",
   "id": "e987a5dc",
   "metadata": {},
   "source": [
    "#### Stratified KFold\n",
    "\n",
    "`StratifiedKFold` es una variación de `KFold` que devuelve pliegues estratificados: cada conjunto mantiene aproximadamente el mismo porcentaje de muestras de cada clase objetivo comparado con el conjunto completo.\n",
    "\n",
    "A continuación se muestra un ejemplo de validación cruzada estratificada con 3 pliegues en un conjunto de datos con 50 muestras de dos clases desequilibradas. Se muestra el número de muestras de cada clase y se compara con KFold."
   ]
  },
  {
   "cell_type": "code",
   "execution_count": 25,
   "id": "cddaf3f1",
   "metadata": {},
   "outputs": [
    {
     "name": "stdout",
     "output_type": "stream",
     "text": [
      "Stratified KFold:\n",
      "train -  [30  3]   |   test -  [15  2]\n",
      "train -  [30  3]   |   test -  [15  2]\n",
      "train -  [30  4]   |   test -  [15  1]\n",
      "KFold:\n",
      "train -  [28  5]   |   test -  [17]\n",
      "train -  [28  5]   |   test -  [17]\n",
      "train -  [34]   |   test -  [11  5]\n"
     ]
    }
   ],
   "source": [
    "from sklearn.model_selection import StratifiedKFold\n",
    "\n",
    "X, y = np.ones((50, 1)), np.hstack(([0] * 45, [1] * 5))\n",
    "\n",
    "print('Stratified KFold:')\n",
    "skf = StratifiedKFold(n_splits=3)\n",
    "for train, test in skf.split(X, y):\n",
    "    print(f'train -  {np.bincount(y[train])}   |   test -  {np.bincount(y[test])}')\n",
    "\n",
    "print('KFold:')\n",
    "kf = KFold(n_splits=3)\n",
    "for train, test in kf.split(X, y):\n",
    "    print(f'train -  {np.bincount(y[train])}   |   test -  {np.bincount(y[test])}')"
   ]
  },
  {
   "cell_type": "markdown",
   "id": "8f947017",
   "metadata": {},
   "source": [
    "#### RepeatedKFold y RepeatedStratifiedKFold\n",
    "\n",
    "`RepeatedKFold` y `RepeatedStratifiedKFold` repiten el `KFold` y el `StratifiedKFold` $n$ veces, respectivamente. Se pueden utilizar cuando se requiere ejecutar la estrategia base $n$ veces produciendo diferentes divisiones en cada repetición.\n",
    "\n",
    "Ejemplo de `KFold` repetido 2 veces:"
   ]
  },
  {
   "cell_type": "code",
   "execution_count": 26,
   "id": "d3ee5774",
   "metadata": {},
   "outputs": [
    {
     "name": "stdout",
     "output_type": "stream",
     "text": [
      "train: [0 1] test: [2 3]\n",
      "train: [2 3] test: [0 1]\n",
      "train: [1 3] test: [0 2]\n",
      "train: [0 2] test: [1 3]\n"
     ]
    }
   ],
   "source": [
    "from sklearn.model_selection import RepeatedKFold\n",
    "\n",
    "X = np.array([[10, 11], [20, 21], [30, 31], [40, 41]])\n",
    "\n",
    "rkf = RepeatedKFold(n_splits=2, n_repeats=2, random_state=0)\n",
    "\n",
    "for train, test in rkf.split(X):\n",
    "    print(f'train: {train} test: {test}')"
   ]
  },
  {
   "cell_type": "markdown",
   "id": "11ef9f64",
   "metadata": {},
   "source": [
    "#### LeaveOneOut \n",
    "\n",
    "`LeaveOneOut` es una validación cruzada simple. Cada conjunto de aprendizaje se crea tomando todas las muestras excepto una, siendo el conjunto de prueba la muestra dejada fuera. Así, para $n$ muestras, tenemos $n$ conjuntos de entrenamiento diferentes y $n$ conjuntos de prueba diferentes."
   ]
  },
  {
   "cell_type": "code",
   "execution_count": 27,
   "id": "294f0903",
   "metadata": {},
   "outputs": [
    {
     "name": "stdout",
     "output_type": "stream",
     "text": [
      "train: [1 2 3] test: [0]\n",
      "train: [0 2 3] test: [1]\n",
      "train: [0 1 3] test: [2]\n",
      "train: [0 1 2] test: [3]\n"
     ]
    }
   ],
   "source": [
    "from sklearn.model_selection import LeaveOneOut\n",
    "\n",
    "X = [1, 2, 3, 4]\n",
    "\n",
    "loo = LeaveOneOut()\n",
    "\n",
    "for train, test in loo.split(X):\n",
    "    print(f'train: {train} test: {test}')"
   ]
  },
  {
   "cell_type": "markdown",
   "id": "41b6e494",
   "metadata": {},
   "source": [
    "#### GroupKFold, StratifiedGroupKFold y LeaveOneGroupOut\n",
    "\n",
    "`GroupKFold` y `StratifiedGroupKFold` son variaciones de `KFold` y `StratifiedKFold` que garantizan que el mismo grupo no esté representado tanto en los conjuntos de prueba como en los de entrenamiento. \n",
    "\n",
    "Por ejemplo, si los datos se obtienen de diferentes sujetos con varias muestras por sujeto y si el modelo es lo suficientemente flexible como para aprender de características muy específicas de la persona, podría fallar a la hora de generalizar a nuevos sujetos. `GroupKFold` permite detectar este tipo de situaciones de sobreajuste.\n",
    "\n",
    "Imagina que tienes tres sujetos, cada uno con un número asociado del 1 al 3:"
   ]
  },
  {
   "cell_type": "code",
   "execution_count": 28,
   "id": "432d1383",
   "metadata": {},
   "outputs": [
    {
     "name": "stdout",
     "output_type": "stream",
     "text": [
      "train: [0 1 2 3 4 5] test: [6 7 8 9]\n",
      "train: [0 1 2 6 7 8 9] test: [3 4 5]\n",
      "train: [3 4 5 6 7 8 9] test: [0 1 2]\n"
     ]
    }
   ],
   "source": [
    "from sklearn.model_selection import GroupKFold, LeaveOneGroupOut\n",
    "\n",
    "X = [0.1, 0.2, 2.2, 2.4, 2.3, 4.55, 5.8, 8.8, 9, 10]\n",
    "y = [\"a\", \"b\", \"b\", \"b\", \"c\", \"c\", \"c\", \"d\", \"d\", \"d\"]\n",
    "groups = [1, 1, 1, 2, 2, 2, 3, 3, 3, 3]\n",
    "\n",
    "gkf = GroupKFold(n_splits=3)\n",
    "for train, test in gkf.split(X, y, groups=groups):\n",
    "    print(f'train: {train} test: {test}')"
   ]
  },
  {
   "cell_type": "markdown",
   "id": "eabd1068",
   "metadata": {},
   "source": [
    "Al aplicar el `GroupKFold` vemos que las observaciones relativas a cada sujeto están en un pliegue de prueba diferente, y el mismo sujeto nunca está tanto en el de prueba como en el de entrenamiento.\n",
    "Observa que los pliegues no tienen exactamente el mismo tamaño debido al desequilibrio de los datos.\n",
    "\n",
    "La misma estrategia es aplicable al leave-one-out empleando la clase `LeaveOneGroupOut`."
   ]
  },
  {
   "cell_type": "code",
   "execution_count": 29,
   "id": "5e5ce409",
   "metadata": {},
   "outputs": [
    {
     "name": "stdout",
     "output_type": "stream",
     "text": [
      "train: [3 4 5 6 7 8 9] test: [0 1 2]\n",
      "train: [0 1 2 6 7 8 9] test: [3 4 5]\n",
      "train: [0 1 2 3 4 5] test: [6 7 8 9]\n"
     ]
    }
   ],
   "source": [
    "logo = LeaveOneGroupOut()\n",
    "\n",
    "for train, test in logo.split(X, y, groups=groups):\n",
    "    print(f'train: {train} test: {test}')"
   ]
  },
  {
   "cell_type": "markdown",
   "id": "177cc696",
   "metadata": {},
   "source": [
    "#### ShuffleSplit\n",
    "\n",
    "`ShuffleSplit` genera particiones independientes para validacion y entrenamiento bajarando las observaciones y luego partiendolas en dos subconjuntos. A diferencia de todos los métodos anteriores, `ShuffleSplit` no garantiza que los conjuntos sean diferentes entre pliegues."
   ]
  },
  {
   "cell_type": "code",
   "execution_count": 30,
   "id": "e212a6c7",
   "metadata": {},
   "outputs": [
    {
     "name": "stdout",
     "output_type": "stream",
     "text": [
      "train: [2 3 4 5 1 0 9] test: [6 8 7]\n",
      "train: [9 4 0 7 3 2 5] test: [6 1 8]\n",
      "train: [1 6 7 5 4 9 8] test: [0 2 3]\n",
      "train: [7 4 9 3 5 8 1] test: [6 0 2]\n",
      "train: [9 4 5 1 8 2 0] test: [7 6 3]\n"
     ]
    }
   ],
   "source": [
    "from sklearn.model_selection import ShuffleSplit\n",
    "\n",
    "X = np.arange(10)\n",
    "\n",
    "ss = ShuffleSplit(n_splits=5, test_size=1/4)\n",
    "\n",
    "for train, test in ss.split(X):\n",
    "    print(f\"train: {train} test: {test}\")"
   ]
  },
  {
   "cell_type": "markdown",
   "id": "5128ec5c",
   "metadata": {},
   "source": [
    "<div class=\"alert alert-info\">\n",
    "\n",
    "**Ejercicio**\n",
    "\n",
    "Entrena un `RandomForest` sobre el dataset IRIS, empleando validación cruzada con diferentes estrategias de particionado, y calcula las métricas de calidad del modelo para cada estrategia.\n",
    "\n",
    "Como varían los resultados? Que significa esa variación?\n",
    "</div> "
   ]
  },
  {
   "cell_type": "code",
   "execution_count": 36,
   "id": "34dafbc8",
   "metadata": {},
   "outputs": [
    {
     "name": "stdout",
     "output_type": "stream",
     "text": [
      "Evaluando KFold(5)...\n",
      "Evaluando StratifiedKFold(5)...\n",
      "Evaluando RepeatedKFold(5, 3)...\n",
      "Evaluando RepeatedStratifiedKFold...\n",
      "Evaluando ShuffleSplit(10, test_size=0.3)...\n",
      "Evaluando GroupkFold...\n",
      "Evaluando StratifiedGroupKFold...\n",
      "Evaluando LeaveOneGroupOut...\n",
      "\n",
      "Resumen:\n"
     ]
    },
    {
     "data": {
      "text/html": [
       "<div>\n",
       "<style scoped>\n",
       "    .dataframe tbody tr th:only-of-type {\n",
       "        vertical-align: middle;\n",
       "    }\n",
       "\n",
       "    .dataframe tbody tr th {\n",
       "        vertical-align: top;\n",
       "    }\n",
       "\n",
       "    .dataframe thead th {\n",
       "        text-align: right;\n",
       "    }\n",
       "</style>\n",
       "<table border=\"1\" class=\"dataframe\">\n",
       "  <thead>\n",
       "    <tr style=\"text-align: right;\">\n",
       "      <th>Metric</th>\n",
       "      <th>accuracy</th>\n",
       "      <th>f1_macro</th>\n",
       "      <th>precision_macro</th>\n",
       "      <th>recall_macro</th>\n",
       "    </tr>\n",
       "    <tr>\n",
       "      <th>Strategy</th>\n",
       "      <th></th>\n",
       "      <th></th>\n",
       "      <th></th>\n",
       "      <th></th>\n",
       "    </tr>\n",
       "  </thead>\n",
       "  <tbody>\n",
       "    <tr>\n",
       "      <th>GroupkFold</th>\n",
       "      <td>0.9658 ± 0.0051</td>\n",
       "      <td>0.9643 ± 0.0060</td>\n",
       "      <td>0.9666 ± 0.0096</td>\n",
       "      <td>0.9658 ± 0.0076</td>\n",
       "    </tr>\n",
       "    <tr>\n",
       "      <th>KFold(5)</th>\n",
       "      <td>0.9600 ± 0.0249</td>\n",
       "      <td>0.9589 ± 0.0258</td>\n",
       "      <td>0.9628 ± 0.0243</td>\n",
       "      <td>0.9594 ± 0.0243</td>\n",
       "    </tr>\n",
       "    <tr>\n",
       "      <th>LeaveOneGroupOut</th>\n",
       "      <td>0.9658 ± 0.0051</td>\n",
       "      <td>0.9643 ± 0.0060</td>\n",
       "      <td>0.9666 ± 0.0096</td>\n",
       "      <td>0.9658 ± 0.0076</td>\n",
       "    </tr>\n",
       "    <tr>\n",
       "      <th>RepeatedKFold(5, 3)</th>\n",
       "      <td>0.9556 ± 0.0416</td>\n",
       "      <td>0.9544 ± 0.0416</td>\n",
       "      <td>0.9598 ± 0.0393</td>\n",
       "      <td>0.9568 ± 0.0389</td>\n",
       "    </tr>\n",
       "    <tr>\n",
       "      <th>RepeatedStratifiedKFold</th>\n",
       "      <td>0.9556 ± 0.0314</td>\n",
       "      <td>0.9554 ± 0.0315</td>\n",
       "      <td>0.9586 ± 0.0308</td>\n",
       "      <td>0.9556 ± 0.0314</td>\n",
       "    </tr>\n",
       "    <tr>\n",
       "      <th>ShuffleSplit(10, test_size=0.3)</th>\n",
       "      <td>0.9489 ± 0.0330</td>\n",
       "      <td>0.9523 ± 0.0287</td>\n",
       "      <td>0.9532 ± 0.0294</td>\n",
       "      <td>0.9536 ± 0.0267</td>\n",
       "    </tr>\n",
       "    <tr>\n",
       "      <th>StratifiedGroupKFold</th>\n",
       "      <td>0.9658 ± 0.0051</td>\n",
       "      <td>0.9643 ± 0.0060</td>\n",
       "      <td>0.9666 ± 0.0096</td>\n",
       "      <td>0.9658 ± 0.0076</td>\n",
       "    </tr>\n",
       "    <tr>\n",
       "      <th>StratifiedKFold(5)</th>\n",
       "      <td>0.9467 ± 0.0267</td>\n",
       "      <td>0.9464 ± 0.0268</td>\n",
       "      <td>0.9512 ± 0.0263</td>\n",
       "      <td>0.9467 ± 0.0267</td>\n",
       "    </tr>\n",
       "  </tbody>\n",
       "</table>\n",
       "</div>"
      ],
      "text/plain": [
       "Metric                                  accuracy         f1_macro  \\\n",
       "Strategy                                                            \n",
       "GroupkFold                       0.9658 ± 0.0051  0.9643 ± 0.0060   \n",
       "KFold(5)                         0.9600 ± 0.0249  0.9589 ± 0.0258   \n",
       "LeaveOneGroupOut                 0.9658 ± 0.0051  0.9643 ± 0.0060   \n",
       "RepeatedKFold(5, 3)              0.9556 ± 0.0416  0.9544 ± 0.0416   \n",
       "RepeatedStratifiedKFold          0.9556 ± 0.0314  0.9554 ± 0.0315   \n",
       "ShuffleSplit(10, test_size=0.3)  0.9489 ± 0.0330  0.9523 ± 0.0287   \n",
       "StratifiedGroupKFold             0.9658 ± 0.0051  0.9643 ± 0.0060   \n",
       "StratifiedKFold(5)               0.9467 ± 0.0267  0.9464 ± 0.0268   \n",
       "\n",
       "Metric                           precision_macro     recall_macro  \n",
       "Strategy                                                           \n",
       "GroupkFold                       0.9666 ± 0.0096  0.9658 ± 0.0076  \n",
       "KFold(5)                         0.9628 ± 0.0243  0.9594 ± 0.0243  \n",
       "LeaveOneGroupOut                 0.9666 ± 0.0096  0.9658 ± 0.0076  \n",
       "RepeatedKFold(5, 3)              0.9598 ± 0.0393  0.9568 ± 0.0389  \n",
       "RepeatedStratifiedKFold          0.9586 ± 0.0308  0.9556 ± 0.0314  \n",
       "ShuffleSplit(10, test_size=0.3)  0.9532 ± 0.0294  0.9536 ± 0.0267  \n",
       "StratifiedGroupKFold             0.9666 ± 0.0096  0.9658 ± 0.0076  \n",
       "StratifiedKFold(5)               0.9512 ± 0.0263  0.9467 ± 0.0267  "
      ]
     },
     "execution_count": 36,
     "metadata": {},
     "output_type": "execute_result"
    }
   ],
   "source": [
    "from sklearn.datasets import load_iris\n",
    "from sklearn.model_selection import RepeatedStratifiedKFold, StratifiedGroupKFold\n",
    "\n",
    "iris = load_iris()\n",
    "X = iris.data\n",
    "y = iris.target\n",
    "feature_names = iris.feature_names\n",
    "target_names = iris.target_names\n",
    "\n",
    "# grupos para GroupKFold, StratifiedGroupKFold y LeaveOneGroupOut\n",
    "np.random.seed(42)\n",
    "groups = np.random.randint(0, 5, size=len(y))\n",
    "\n",
    "rf = RandomForestClassifier(n_estimators=100, random_state=42)\n",
    "\n",
    "cv_strategies = {\n",
    "    \"KFold(5)\": KFold(n_splits=5, shuffle=True, random_state=42),\n",
    "    \"StratifiedKFold(5)\": StratifiedKFold(n_splits=5, shuffle=True, random_state=42),\n",
    "    \"RepeatedKFold(5, 3)\": RepeatedKFold(n_splits=5, n_repeats=3, random_state=42),\n",
    "    \"RepeatedStratifiedKFold\": RepeatedStratifiedKFold(n_splits=5, n_repeats=3, random_state=42),\n",
    "    #\"LeaveOneOut\": LeaveOneOut(),\n",
    "    \"ShuffleSplit(10, test_size=0.3)\": ShuffleSplit(n_splits=10, test_size=0.3, random_state=42),\n",
    "    \"GroupkFold\": GroupKFold(n_splits=5),\n",
    "    \"StratifiedGroupKFold\": StratifiedGroupKFold(n_splits=5, shuffle=True, random_state=42),\n",
    "    \"LeaveOneGroupOut\": LeaveOneGroupOut()\n",
    "}\n",
    "\n",
    "scoring = {\n",
    "    'accuracy': 'accuracy',\n",
    "    'precision_macro': 'precision_macro',\n",
    "    'recall_macro': 'recall_macro',\n",
    "    'f1_macro': 'f1_macro'\n",
    "}\n",
    "\n",
    "results = []\n",
    "\n",
    "for strategy_name, cv in cv_strategies.items():\n",
    "    print(f\"Evaluando {strategy_name}...\") \n",
    "    \n",
    "    if 'Group' in strategy_name:\n",
    "        cv_results = cross_validate(rf, X, y, cv=cv, scoring=scoring, \n",
    "                                    return_train_score=True, groups=groups)\n",
    "    else:\n",
    "        cv_results = cross_validate(rf, X, y, cv=cv, scoring=scoring, \n",
    "                                    return_train_score=True)\n",
    "\n",
    "    for metric_key in scoring.keys():\n",
    "        test_scores = cv_results[f'test_{metric_key}']\n",
    "        mean = test_scores.mean()\n",
    "        std = test_scores.std()\n",
    "\n",
    "        results.append([strategy_name, metric_key, f\"{mean:.4f} ± {std:.4f}\"])\n",
    "\n",
    "resultados = pd.DataFrame(results, columns=['Strategy', 'Metric', 'Mean ± Std'])\n",
    "resultados = resultados.pivot(index='Strategy', columns='Metric', values='Mean ± Std')\n",
    "\n",
    "print(\"\\nResumen:\")\n",
    "resultados"
   ]
  },
  {
   "cell_type": "markdown",
   "id": "98b49f6b",
   "metadata": {},
   "source": [
    "Veamos la variabilidad de forma gráfica"
   ]
  },
  {
   "cell_type": "code",
   "execution_count": 38,
   "id": "85df2600",
   "metadata": {},
   "outputs": [
    {
     "data": {
      "image/png": "[encoded data removed]",
      "text/plain": [
       "<Figure size 1000x600 with 1 Axes>"
      ]
     },
     "metadata": {},
     "output_type": "display_data"
    },
    {
     "name": "stdout",
     "output_type": "stream",
     "text": [
      "Estrategia más estable: GroupkFold (std=0.0071)\n",
      "Estrategia menos estable: RepeatedKFold(5, 3) (std=0.0403)\n"
     ]
    }
   ],
   "source": [
    "import re\n",
    "\n",
    "def extract_std(value):\n",
    "    try:\n",
    "        std = re.search(r'±\\s*([\\d.]+)', value).group(1)\n",
    "        return float(std)\n",
    "    except:\n",
    "        return None\n",
    "\n",
    "std_df = resultados.copy()\n",
    "for idx in std_df.index:\n",
    "    for col in std_df.columns:\n",
    "        std_df.loc[idx, col] = extract_std(std_df.loc[idx, col])\n",
    "\n",
    "variability = std_df.mean(axis=1).sort_values(ascending=False)\n",
    "\n",
    "# Visualizar\n",
    "plt.figure(figsize=(10, 6))\n",
    "sns.barplot(x=variability.index, y=variability.values, color='crimson')\n",
    "plt.title('Variabilidad Media por Estrategia de CV', fontsize=16)\n",
    "plt.xlabel('Estrategia', fontsize=14)\n",
    "plt.ylabel('Desviación Estándar Media', fontsize=14)\n",
    "plt.xticks(rotation=45, ha='right', fontsize=12)\n",
    "plt.tight_layout()\n",
    "plt.show()\n",
    "\n",
    "print(f\"Estrategia más estable: {variability.idxmin()} (std={variability.min():.4f})\")\n",
    "print(f\"Estrategia menos estable: {variability.idxmax()} (std={variability.max():.4f})\")"
   ]
  },
  {
   "cell_type": "markdown",
   "id": "c44253dc",
   "metadata": {},
   "source": [
    "Que las estrategias basadas en gripos tengan una menor variabilidad indica que los grupos generados son relativamente homogéneos, haciendo que no exista mucha diferencia entre los folds. \n",
    "\n",
    "Que los métodos con repetición sean los que mayor variabilidad presentan indica que al realizar el método base $n$ veces sobre particiones distintas, se están generando particiones muy diferentes entre sí.\n",
    "\n",
    "Las estrategias estratificadas, al mantener la proporción de clases en las particiones, reducen la variabilidad del método base, lo que vemos con `RepeatedStratifiedKFold` y `StratifiedGroupKFold` respecto a `RepeatedKFold` y `GroupKFold`, pero no con `StratifiedKFold` respecto a `KFold`.\n",
    "\n",
    "El método aleatorio `ShuffleSplit` nos queda en un punto medio, al hacer particiones aleatorias. Esto no nos garantiza que las particiones sean homogéneas, pero tampoco que sean muy diferentes entre sí.\n",
    "\n",
    "Vemos que si con las particiones se consigue mantener la estructura/distribución de los datos originales de forma consistente, tendremos por lo general una variabilidad menor."
   ]
  },
  {
   "cell_type": "markdown",
   "id": "56a65d54",
   "metadata": {},
   "source": [
    "Multiclase: una unica etiqueta con distintos valores.\n",
    "Multilabel: una misma muestra con varias clases."
   ]
  }
 ],
 "metadata": {
  "kernelspec": {
   "display_name": ".venv",
   "language": "python",
   "name": "python3"
  },
  "language_info": {
   "codemirror_mode": {
    "name": "ipython",
    "version": 3
   },
   "file_extension": ".py",
   "mimetype": "text/x-python",
   "name": "python",
   "nbconvert_exporter": "python",
   "pygments_lexer": "ipython3",
   "version": "3.12.3"
  }
 },
 "nbformat": 4,
 "nbformat_minor": 5
}
