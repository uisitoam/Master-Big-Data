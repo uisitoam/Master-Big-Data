{
 "cells": [
  {
   "cell_type": "code",
   "execution_count": 1,
   "metadata": {},
   "outputs": [],
   "source": [
    "import pandas as pd\n",
    "import numpy as np"
   ]
  },
  {
   "cell_type": "code",
   "execution_count": 44,
   "metadata": {},
   "outputs": [
    {
     "data": {
      "application/vnd.microsoft.datawrangler.viewer.v0+json": {
       "columns": [
        {
         "name": "index",
         "rawType": "int64",
         "type": "integer"
        },
        {
         "name": "ID",
         "rawType": "Int64",
         "type": "integer"
        },
        {
         "name": "Price",
         "rawType": "Int64",
         "type": "integer"
        },
        {
         "name": "Levy",
         "rawType": "Int64",
         "type": "integer"
        },
        {
         "name": "Manufacturer",
         "rawType": "string",
         "type": "string"
        },
        {
         "name": "Model",
         "rawType": "string",
         "type": "string"
        },
        {
         "name": "Prod. year",
         "rawType": "Int64",
         "type": "integer"
        },
        {
         "name": "Category",
         "rawType": "string",
         "type": "string"
        },
        {
         "name": "Leather interior",
         "rawType": "string",
         "type": "string"
        },
        {
         "name": "Fuel type",
         "rawType": "string",
         "type": "string"
        },
        {
         "name": "Engine volume",
         "rawType": "float64",
         "type": "float"
        },
        {
         "name": "Mileage",
         "rawType": "int64",
         "type": "integer"
        },
        {
         "name": "Cylinders",
         "rawType": "Int64",
         "type": "integer"
        },
        {
         "name": "Gear box type",
         "rawType": "string",
         "type": "string"
        },
        {
         "name": "Drive wheels",
         "rawType": "string",
         "type": "string"
        },
        {
         "name": "Doors",
         "rawType": "string",
         "type": "string"
        },
        {
         "name": "Wheel",
         "rawType": "string",
         "type": "string"
        },
        {
         "name": "Color",
         "rawType": "string",
         "type": "string"
        },
        {
         "name": "Airbags",
         "rawType": "Int64",
         "type": "integer"
        }
       ],
       "conversionMethod": "pd.DataFrame",
       "ref": "7a96c970-312a-4477-bf12-e6fe4ab9277c",
       "rows": [
        [
         "0",
         "45654403",
         "13328",
         "1399",
         "LEXUS",
         "RX 450",
         "2010",
         "Jeep",
         "Yes",
         "Hybrid",
         "3.5",
         "186005",
         "6",
         "Automatic",
         "4x4",
         "04-May",
         "Left wheel",
         "Silver",
         "12"
        ],
        [
         "1",
         "44731507",
         "16621",
         "1018",
         "CHEVROLET",
         "Equinox",
         "2011",
         "Jeep",
         "No",
         "Petrol",
         "3.0",
         "192000",
         "6",
         "Tiptronic",
         "4x4",
         "04-May",
         "Left wheel",
         "Black",
         "8"
        ],
        [
         "2",
         "45774419",
         "8467",
         null,
         "HONDA",
         "FIT",
         "2006",
         "Hatchback",
         "No",
         "Petrol",
         "1.3",
         "200000",
         "4",
         "Variator",
         "Front",
         "04-May",
         "Right-hand drive",
         "Black",
         "2"
        ],
        [
         "3",
         "45769185",
         "3607",
         "862",
         "FORD",
         "Escape",
         "2011",
         "Jeep",
         "Yes",
         "Hybrid",
         "2.5",
         "168966",
         "4",
         "Automatic",
         "4x4",
         "04-May",
         "Left wheel",
         "White",
         "0"
        ],
        [
         "4",
         "45809263",
         "11726",
         "446",
         "HONDA",
         "FIT",
         "2014",
         "Hatchback",
         "Yes",
         "Petrol",
         "1.3",
         "91901",
         "4",
         "Automatic",
         "Front",
         "04-May",
         "Left wheel",
         "Silver",
         "4"
        ]
       ],
       "shape": {
        "columns": 18,
        "rows": 5
       }
      },
      "text/html": [
       "<div>\n",
       "<style scoped>\n",
       "    .dataframe tbody tr th:only-of-type {\n",
       "        vertical-align: middle;\n",
       "    }\n",
       "\n",
       "    .dataframe tbody tr th {\n",
       "        vertical-align: top;\n",
       "    }\n",
       "\n",
       "    .dataframe thead th {\n",
       "        text-align: right;\n",
       "    }\n",
       "</style>\n",
       "<table border=\"1\" class=\"dataframe\">\n",
       "  <thead>\n",
       "    <tr style=\"text-align: right;\">\n",
       "      <th></th>\n",
       "      <th>ID</th>\n",
       "      <th>Price</th>\n",
       "      <th>Levy</th>\n",
       "      <th>Manufacturer</th>\n",
       "      <th>Model</th>\n",
       "      <th>Prod. year</th>\n",
       "      <th>Category</th>\n",
       "      <th>Leather interior</th>\n",
       "      <th>Fuel type</th>\n",
       "      <th>Engine volume</th>\n",
       "      <th>Mileage</th>\n",
       "      <th>Cylinders</th>\n",
       "      <th>Gear box type</th>\n",
       "      <th>Drive wheels</th>\n",
       "      <th>Doors</th>\n",
       "      <th>Wheel</th>\n",
       "      <th>Color</th>\n",
       "      <th>Airbags</th>\n",
       "    </tr>\n",
       "  </thead>\n",
       "  <tbody>\n",
       "    <tr>\n",
       "      <th>0</th>\n",
       "      <td>45654403</td>\n",
       "      <td>13328</td>\n",
       "      <td>1399</td>\n",
       "      <td>LEXUS</td>\n",
       "      <td>RX 450</td>\n",
       "      <td>2010</td>\n",
       "      <td>Jeep</td>\n",
       "      <td>Yes</td>\n",
       "      <td>Hybrid</td>\n",
       "      <td>3.5</td>\n",
       "      <td>186005</td>\n",
       "      <td>6</td>\n",
       "      <td>Automatic</td>\n",
       "      <td>4x4</td>\n",
       "      <td>04-May</td>\n",
       "      <td>Left wheel</td>\n",
       "      <td>Silver</td>\n",
       "      <td>12</td>\n",
       "    </tr>\n",
       "    <tr>\n",
       "      <th>1</th>\n",
       "      <td>44731507</td>\n",
       "      <td>16621</td>\n",
       "      <td>1018</td>\n",
       "      <td>CHEVROLET</td>\n",
       "      <td>Equinox</td>\n",
       "      <td>2011</td>\n",
       "      <td>Jeep</td>\n",
       "      <td>No</td>\n",
       "      <td>Petrol</td>\n",
       "      <td>3.0</td>\n",
       "      <td>192000</td>\n",
       "      <td>6</td>\n",
       "      <td>Tiptronic</td>\n",
       "      <td>4x4</td>\n",
       "      <td>04-May</td>\n",
       "      <td>Left wheel</td>\n",
       "      <td>Black</td>\n",
       "      <td>8</td>\n",
       "    </tr>\n",
       "    <tr>\n",
       "      <th>2</th>\n",
       "      <td>45774419</td>\n",
       "      <td>8467</td>\n",
       "      <td>&lt;NA&gt;</td>\n",
       "      <td>HONDA</td>\n",
       "      <td>FIT</td>\n",
       "      <td>2006</td>\n",
       "      <td>Hatchback</td>\n",
       "      <td>No</td>\n",
       "      <td>Petrol</td>\n",
       "      <td>1.3</td>\n",
       "      <td>200000</td>\n",
       "      <td>4</td>\n",
       "      <td>Variator</td>\n",
       "      <td>Front</td>\n",
       "      <td>04-May</td>\n",
       "      <td>Right-hand drive</td>\n",
       "      <td>Black</td>\n",
       "      <td>2</td>\n",
       "    </tr>\n",
       "    <tr>\n",
       "      <th>3</th>\n",
       "      <td>45769185</td>\n",
       "      <td>3607</td>\n",
       "      <td>862</td>\n",
       "      <td>FORD</td>\n",
       "      <td>Escape</td>\n",
       "      <td>2011</td>\n",
       "      <td>Jeep</td>\n",
       "      <td>Yes</td>\n",
       "      <td>Hybrid</td>\n",
       "      <td>2.5</td>\n",
       "      <td>168966</td>\n",
       "      <td>4</td>\n",
       "      <td>Automatic</td>\n",
       "      <td>4x4</td>\n",
       "      <td>04-May</td>\n",
       "      <td>Left wheel</td>\n",
       "      <td>White</td>\n",
       "      <td>0</td>\n",
       "    </tr>\n",
       "    <tr>\n",
       "      <th>4</th>\n",
       "      <td>45809263</td>\n",
       "      <td>11726</td>\n",
       "      <td>446</td>\n",
       "      <td>HONDA</td>\n",
       "      <td>FIT</td>\n",
       "      <td>2014</td>\n",
       "      <td>Hatchback</td>\n",
       "      <td>Yes</td>\n",
       "      <td>Petrol</td>\n",
       "      <td>1.3</td>\n",
       "      <td>91901</td>\n",
       "      <td>4</td>\n",
       "      <td>Automatic</td>\n",
       "      <td>Front</td>\n",
       "      <td>04-May</td>\n",
       "      <td>Left wheel</td>\n",
       "      <td>Silver</td>\n",
       "      <td>4</td>\n",
       "    </tr>\n",
       "  </tbody>\n",
       "</table>\n",
       "</div>"
      ],
      "text/plain": [
       "         ID  Price  Levy Manufacturer    Model  Prod. year   Category  \\\n",
       "0  45654403  13328  1399        LEXUS   RX 450        2010       Jeep   \n",
       "1  44731507  16621  1018    CHEVROLET  Equinox        2011       Jeep   \n",
       "2  45774419   8467  <NA>        HONDA      FIT        2006  Hatchback   \n",
       "3  45769185   3607   862         FORD   Escape        2011       Jeep   \n",
       "4  45809263  11726   446        HONDA      FIT        2014  Hatchback   \n",
       "\n",
       "  Leather interior Fuel type  Engine volume  Mileage  Cylinders Gear box type  \\\n",
       "0              Yes    Hybrid            3.5   186005          6     Automatic   \n",
       "1               No    Petrol            3.0   192000          6     Tiptronic   \n",
       "2               No    Petrol            1.3   200000          4      Variator   \n",
       "3              Yes    Hybrid            2.5   168966          4     Automatic   \n",
       "4              Yes    Petrol            1.3    91901          4     Automatic   \n",
       "\n",
       "  Drive wheels   Doors             Wheel   Color  Airbags  \n",
       "0          4x4  04-May        Left wheel  Silver       12  \n",
       "1          4x4  04-May        Left wheel   Black        8  \n",
       "2        Front  04-May  Right-hand drive   Black        2  \n",
       "3          4x4  04-May        Left wheel   White        0  \n",
       "4        Front  04-May        Left wheel  Silver        4  "
      ]
     },
     "execution_count": 44,
     "metadata": {},
     "output_type": "execute_result"
    }
   ],
   "source": [
    "ruta = './Datos/car_price_prediction.csv'\n",
    "df = pd.read_csv(ruta, na_values='-').convert_dtypes()\n",
    "df[\"Mileage\"] = df[\"Mileage\"].str.replace(\"km\", \"\")\n",
    "df[\"Engine volume\"] = df[\"Engine volume\"].str.replace(\"Turbo\", \"\")\n",
    "df[\"Mileage\"] = df[\"Mileage\"].astype(\"int\")\n",
    "df[\"Engine volume\"] = df[\"Engine volume\"].astype(\"float\")\n",
    "df.head()"
   ]
  },
  {
   "cell_type": "markdown",
   "metadata": {},
   "source": [
    "### Cales dos seguintes bins son xenerados ao discretizar o ano de fabricación en 5 bins, seguindo a estratexia de cuantís"
   ]
  },
  {
   "cell_type": "code",
   "execution_count": 45,
   "metadata": {},
   "outputs": [
    {
     "name": "stdout",
     "output_type": "stream",
     "text": [
      "Límites de los bins:\n",
      "[1939. 2008. 2011. 2013. 2015. 2020.]\n"
     ]
    }
   ],
   "source": [
    "from sklearn.preprocessing import KBinsDiscretizer\n",
    "import matplotlib.pyplot as plt\n",
    "\n",
    "kbins = KBinsDiscretizer(n_bins=5, encode='ordinal', strategy='quantile')\n",
    "\n",
    "df['Prod. year'] = kbins.fit_transform(df[['Prod. year']])\n",
    "\n",
    "bin_edges = kbins.bin_edges_[0]\n",
    "print(\"Límites de los bins:\")\n",
    "print(bin_edges)"
   ]
  },
  {
   "cell_type": "markdown",
   "metadata": {},
   "source": [
    "### Cantos fabricantes diferentes aparecen no dataset?"
   ]
  },
  {
   "cell_type": "code",
   "execution_count": 13,
   "metadata": {},
   "outputs": [
    {
     "data": {
      "text/plain": [
       "65"
      ]
     },
     "execution_count": 13,
     "metadata": {},
     "output_type": "execute_result"
    }
   ],
   "source": [
    "len(df['Manufacturer'].unique())"
   ]
  },
  {
   "cell_type": "markdown",
   "metadata": {},
   "source": [
    "### Cales das seguintes son as mellores variables empregando o criterio de selección de información mutua para regresión? "
   ]
  },
  {
   "cell_type": "code",
   "execution_count": 64,
   "metadata": {},
   "outputs": [
    {
     "data": {
      "image/png": "[encoded data removed]",
      "text/plain": [
       "<Figure size 1000x600 with 1 Axes>"
      ]
     },
     "metadata": {},
     "output_type": "display_data"
    }
   ],
   "source": [
    "from sklearn.feature_selection import mutual_info_regression\n",
    "\n",
    "if isinstance(df['Leather interior'][0], str):\n",
    "    df['Leather interior'] = df['Leather interior'].map({'No': 0, 'Yes': 1})\n",
    "\n",
    "variables = ['Engine volume', 'Mileage', 'Cylinders', 'Prod. year', 'Airbags', 'Leather interior']\n",
    "X_seleccion = df[variables]\n",
    "\n",
    "target = df['Price'] \n",
    "\n",
    "mi_scores = mutual_info_regression(X_seleccion, target)\n",
    "\n",
    "plt.figure(figsize=(10, 6))\n",
    "plt.barh(variables, mi_scores, color='crimson')\n",
    "plt.xlabel('Puntuación de Información Mutua')\n",
    "plt.title('Selección de características Info Mutua')\n",
    "plt.tight_layout()\n",
    "plt.show()"
   ]
  },
  {
   "cell_type": "markdown",
   "metadata": {},
   "source": [
    "### Cantos datos faltan en total ficheiro de datos?"
   ]
  },
  {
   "cell_type": "code",
   "execution_count": 9,
   "metadata": {},
   "outputs": [
    {
     "name": "stdout",
     "output_type": "stream",
     "text": [
      "Total de valores faltantes: 5819\n"
     ]
    }
   ],
   "source": [
    "print(\"Total de valores faltantes:\", df.isna().sum().sum())"
   ]
  },
  {
   "cell_type": "markdown",
   "metadata": {},
   "source": [
    "### Selecciona as 3 columnas con maior varianza de entre as seguintes (sin estandarizar)"
   ]
  },
  {
   "cell_type": "code",
   "execution_count": 58,
   "metadata": {},
   "outputs": [
    {
     "name": "stdout",
     "output_type": "stream",
     "text": [
      "Mileage              2342934570887396.0\n",
      "ID                  877203493261.106079\n",
      "Price                36321220354.369019\n",
      "Levy                       213321.17302\n",
      "Airbags                       18.663855\n",
      "Prod. year                     2.106615\n",
      "Cylinders                       1.43984\n",
      "Engine volume                  0.770541\n",
      "Leather interior               0.199217\n",
      "dtype: Float64\n"
     ]
    }
   ],
   "source": [
    "import pandas as pd\n",
    "import numpy as np\n",
    "\n",
    "varianzas = df.select_dtypes(include=[np.number]).var()\n",
    "columnas_mayor_varianza = varianzas.sort_values(ascending=False)\n",
    "print(columnas_mayor_varianza)"
   ]
  },
  {
   "cell_type": "markdown",
   "metadata": {},
   "source": [
    "### A regresión Lasso, a regresión Ridge ou os algoritmos baseados en arbores de decisión seleccionan automáticamente as mellores variables para a predicción durante o proceso de adestramento do modelo.\n",
    "\n",
    "Verdadero"
   ]
  },
  {
   "cell_type": "markdown",
   "metadata": {},
   "source": [
    "### O criterio de información mútua unicamente captura dependencias lineais entre as variables. \n",
    "\n",
    "Falso, no captura únicamente eso."
   ]
  },
  {
   "cell_type": "markdown",
   "metadata": {},
   "source": [
    "### SMOTE é unha técnica de downsampling que se emprega para equilibrar as variables predictoras dun dataset desbalanceado.\n",
    "\n",
    "Falso, es de upsampling"
   ]
  },
  {
   "cell_type": "markdown",
   "metadata": {},
   "source": [
    "### Cal/cales dos seguintes codigos empregarias para contar cantos valores distintos ten unha columna categorica?"
   ]
  },
  {
   "cell_type": "code",
   "execution_count": 18,
   "metadata": {},
   "outputs": [
    {
     "ename": "AttributeError",
     "evalue": "'Series' object has no attribute 'options'",
     "output_type": "error",
     "traceback": [
      "\u001b[0;31m---------------------------------------------------------------------------\u001b[0m",
      "\u001b[0;31mAttributeError\u001b[0m                            Traceback (most recent call last)",
      "\u001b[0;32m/var/folders/cx/qn6km0h17314hbjnc7y0wdy40000gn/T/ipykernel_3996/2651209956.py\u001b[0m in \u001b[0;36m?\u001b[0;34m()\u001b[0m\n\u001b[0;32m----> 1\u001b[0;31m \u001b[0mprint\u001b[0m\u001b[0;34m(\u001b[0m\u001b[0mdf\u001b[0m\u001b[0;34m[\u001b[0m\u001b[0;34m'Manufacturer'\u001b[0m\u001b[0;34m]\u001b[0m\u001b[0;34m.\u001b[0m\u001b[0moptions\u001b[0m\u001b[0;34m)\u001b[0m\u001b[0;34m\u001b[0m\u001b[0;34m\u001b[0m\u001b[0m\n\u001b[0m",
      "\u001b[0;32m~/Documents/Master-Big-Data/Minería de datos/.venv/lib/python3.11/site-packages/pandas/core/generic.py\u001b[0m in \u001b[0;36m?\u001b[0;34m(self, name)\u001b[0m\n\u001b[1;32m   6295\u001b[0m             \u001b[0;32mand\u001b[0m \u001b[0mname\u001b[0m \u001b[0;32mnot\u001b[0m \u001b[0;32min\u001b[0m \u001b[0mself\u001b[0m\u001b[0;34m.\u001b[0m\u001b[0m_accessors\u001b[0m\u001b[0;34m\u001b[0m\u001b[0;34m\u001b[0m\u001b[0m\n\u001b[1;32m   6296\u001b[0m             \u001b[0;32mand\u001b[0m \u001b[0mself\u001b[0m\u001b[0;34m.\u001b[0m\u001b[0m_info_axis\u001b[0m\u001b[0;34m.\u001b[0m\u001b[0m_can_hold_identifiers_and_holds_name\u001b[0m\u001b[0;34m(\u001b[0m\u001b[0mname\u001b[0m\u001b[0;34m)\u001b[0m\u001b[0;34m\u001b[0m\u001b[0;34m\u001b[0m\u001b[0m\n\u001b[1;32m   6297\u001b[0m         ):\n\u001b[1;32m   6298\u001b[0m             \u001b[0;32mreturn\u001b[0m \u001b[0mself\u001b[0m\u001b[0;34m[\u001b[0m\u001b[0mname\u001b[0m\u001b[0;34m]\u001b[0m\u001b[0;34m\u001b[0m\u001b[0;34m\u001b[0m\u001b[0m\n\u001b[0;32m-> 6299\u001b[0;31m         \u001b[0;32mreturn\u001b[0m \u001b[0mobject\u001b[0m\u001b[0;34m.\u001b[0m\u001b[0m__getattribute__\u001b[0m\u001b[0;34m(\u001b[0m\u001b[0mself\u001b[0m\u001b[0;34m,\u001b[0m \u001b[0mname\u001b[0m\u001b[0;34m)\u001b[0m\u001b[0;34m\u001b[0m\u001b[0;34m\u001b[0m\u001b[0m\n\u001b[0m",
      "\u001b[0;31mAttributeError\u001b[0m: 'Series' object has no attribute 'options'"
     ]
    }
   ],
   "source": [
    "print(df['Manufacturer'].options)"
   ]
  },
  {
   "cell_type": "code",
   "execution_count": 19,
   "metadata": {},
   "outputs": [
    {
     "ename": "AttributeError",
     "evalue": "'Series' object has no attribute 'type'",
     "output_type": "error",
     "traceback": [
      "\u001b[0;31m---------------------------------------------------------------------------\u001b[0m",
      "\u001b[0;31mAttributeError\u001b[0m                            Traceback (most recent call last)",
      "\u001b[0;32m/var/folders/cx/qn6km0h17314hbjnc7y0wdy40000gn/T/ipykernel_3996/538416676.py\u001b[0m in \u001b[0;36m?\u001b[0;34m()\u001b[0m\n\u001b[0;32m----> 1\u001b[0;31m \u001b[0mprint\u001b[0m\u001b[0;34m(\u001b[0m\u001b[0mdf\u001b[0m\u001b[0;34m[\u001b[0m\u001b[0;34m'Manufacturer'\u001b[0m\u001b[0;34m]\u001b[0m\u001b[0;34m.\u001b[0m\u001b[0mtype\u001b[0m\u001b[0;34m.\u001b[0m\u001b[0mallowed_values\u001b[0m\u001b[0;34m)\u001b[0m\u001b[0;34m\u001b[0m\u001b[0;34m\u001b[0m\u001b[0m\n\u001b[0m",
      "\u001b[0;32m~/Documents/Master-Big-Data/Minería de datos/.venv/lib/python3.11/site-packages/pandas/core/generic.py\u001b[0m in \u001b[0;36m?\u001b[0;34m(self, name)\u001b[0m\n\u001b[1;32m   6295\u001b[0m             \u001b[0;32mand\u001b[0m \u001b[0mname\u001b[0m \u001b[0;32mnot\u001b[0m \u001b[0;32min\u001b[0m \u001b[0mself\u001b[0m\u001b[0;34m.\u001b[0m\u001b[0m_accessors\u001b[0m\u001b[0;34m\u001b[0m\u001b[0;34m\u001b[0m\u001b[0m\n\u001b[1;32m   6296\u001b[0m             \u001b[0;32mand\u001b[0m \u001b[0mself\u001b[0m\u001b[0;34m.\u001b[0m\u001b[0m_info_axis\u001b[0m\u001b[0;34m.\u001b[0m\u001b[0m_can_hold_identifiers_and_holds_name\u001b[0m\u001b[0;34m(\u001b[0m\u001b[0mname\u001b[0m\u001b[0;34m)\u001b[0m\u001b[0;34m\u001b[0m\u001b[0;34m\u001b[0m\u001b[0m\n\u001b[1;32m   6297\u001b[0m         ):\n\u001b[1;32m   6298\u001b[0m             \u001b[0;32mreturn\u001b[0m \u001b[0mself\u001b[0m\u001b[0;34m[\u001b[0m\u001b[0mname\u001b[0m\u001b[0;34m]\u001b[0m\u001b[0;34m\u001b[0m\u001b[0;34m\u001b[0m\u001b[0m\n\u001b[0;32m-> 6299\u001b[0;31m         \u001b[0;32mreturn\u001b[0m \u001b[0mobject\u001b[0m\u001b[0;34m.\u001b[0m\u001b[0m__getattribute__\u001b[0m\u001b[0;34m(\u001b[0m\u001b[0mself\u001b[0m\u001b[0;34m,\u001b[0m \u001b[0mname\u001b[0m\u001b[0;34m)\u001b[0m\u001b[0;34m\u001b[0m\u001b[0;34m\u001b[0m\u001b[0m\n\u001b[0m",
      "\u001b[0;31mAttributeError\u001b[0m: 'Series' object has no attribute 'type'"
     ]
    }
   ],
   "source": [
    "print(df['Manufacturer'].type.allowed_values)"
   ]
  },
  {
   "cell_type": "code",
   "execution_count": 59,
   "metadata": {},
   "outputs": [
    {
     "name": "stdout",
     "output_type": "stream",
     "text": [
      "65\n"
     ]
    }
   ],
   "source": [
    "df['Manufacturer'] = df['Manufacturer'].astype('category')\n",
    "print(len(df['Manufacturer'].dtype.categories)) # solo funciona si la columna es tipo 'category'."
   ]
  },
  {
   "cell_type": "code",
   "execution_count": 23,
   "metadata": {},
   "outputs": [
    {
     "name": "stdout",
     "output_type": "stream",
     "text": [
      "65\n"
     ]
    }
   ],
   "source": [
    "print(len(df['Manufacturer'].unique()))"
   ]
  },
  {
   "cell_type": "markdown",
   "metadata": {},
   "source": [
    "### 10. Emparella as diferentes tecnicas de imputación coa sua definición:\n",
    "\n",
    "- SimpleImputer(strategy='most_frequent' -> Remplaza os valores faltantes polo valor máis frecuente\n",
    "- SimpleImputer(strategy='mean') -> Remplaza os valores faltantes pola media\n",
    "- KNNImputer() -> Calcula os valores faltantes consultando os veciños máis próximos\n",
    "- IterativeImputer() -> Calcula os valores faltantes empregando modelos de regresión"
   ]
  }
 ],
 "metadata": {
  "kernelspec": {
   "display_name": ".venv",
   "language": "python",
   "name": "python3"
  },
  "language_info": {
   "codemirror_mode": {
    "name": "ipython",
    "version": 3
   },
   "file_extension": ".py",
   "mimetype": "text/x-python",
   "name": "python",
   "nbconvert_exporter": "python",
   "pygments_lexer": "ipython3",
   "version": "3.11.9"
  }
 },
 "nbformat": 4,
 "nbformat_minor": 2
}
