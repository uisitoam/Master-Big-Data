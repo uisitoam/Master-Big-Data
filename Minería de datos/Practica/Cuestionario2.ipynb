{
 "cells": [
  {
   "cell_type": "code",
   "execution_count": 1,
   "metadata": {},
   "outputs": [],
   "source": [
    "import pandas as pd"
   ]
  },
  {
   "cell_type": "markdown",
   "metadata": {},
   "source": [
    "### 1. Que o p-valor dun test estadístico sexa superior a un valor dado α quere decir que, con probabilidade 1-α, podemos aceptar a hipótese alternativa.  \n",
    "\n",
    "Falso"
   ]
  },
  {
   "cell_type": "markdown",
   "metadata": {},
   "source": [
    "### 2. Carga o dataset de fogares de California (sklearn.datasets.fetch_california_housing). \n",
    "\n",
    "Estandariza os datos e adestra un SVM lineal empregando un KFold de 5 particións.\n",
    "\n",
    "Cal é o valor medio do R2 (con 4 decimais)?"
   ]
  },
  {
   "cell_type": "code",
   "execution_count": 15,
   "metadata": {},
   "outputs": [],
   "source": [
    "from sklearn import datasets \n",
    "from sklearn.preprocessing import StandardScaler\n",
    "from sklearn.metrics import r2_score\n",
    "from sklearn.model_selection import cross_val_score\n",
    "from sklearn.svm import SVR\n",
    "\n",
    "california = datasets.fetch_california_housing()\n",
    "X = california.data\n",
    "y = california.target"
   ]
  },
  {
   "cell_type": "code",
   "execution_count": null,
   "metadata": {},
   "outputs": [
    {
     "name": "stdout",
     "output_type": "stream",
     "text": [
      "[-0.31390259  0.42759364  0.52806672  0.48714627 -8.02078187]\n",
      "La CV obtuvo un r2 medio de -1.3784 con desviación estándar igual a 3.3356\n"
     ]
    }
   ],
   "source": [
    "from sklearn.metrics import make_scorer\n",
    "sc = StandardScaler()\n",
    "X_std = sc.fit_transform(X)\n",
    "\n",
    "clf = SVR(kernel='linear')\n",
    "\n",
    "scores = cross_val_score(clf, X_std, y, scoring=make_scorer(r2_score), cv=5)\n",
    "\n",
    "print(scores)\n",
    "print(f\"La CV obtuvo un r2 medio de {scores.mean():.4f} con desviación estándar igual a {scores.std():.4f}\")"
   ]
  },
  {
   "cell_type": "markdown",
   "metadata": {},
   "source": [
    "### 3. Cales dos seguintes son requisitos para poder aplicar un test T de Student?\n",
    "\n",
    "b. Os datos a comparar deben seguir unha distribución normal\n",
    "\n",
    "e. As varianzas dos datos comparados deben ser iguais"
   ]
  },
  {
   "cell_type": "markdown",
   "metadata": {},
   "source": [
    "### 4. O test de Friedman é o equivalente paramétrico ao test ANOVA\n",
    "\n",
    "Falso"
   ]
  },
  {
   "cell_type": "markdown",
   "metadata": {},
   "source": [
    "### 5. A precisión mide a porcentaxe de observacions clasificadas como positivas que son correctas\n",
    "\n",
    "Verdadeiro"
   ]
  },
  {
   "cell_type": "markdown",
   "metadata": {},
   "source": [
    "### 6. Carga o dataset de fogares de California (sklearn.datasets.fetch_california_housing). \n",
    "\n",
    "Estandariza os datos e adestra un SVM lineal sen particionar os datos en adestramento e test.\n",
    "\n",
    "Cal é o valor do MAE (con 4 decimais)?"
   ]
  },
  {
   "cell_type": "code",
   "execution_count": 19,
   "metadata": {},
   "outputs": [
    {
     "name": "stdout",
     "output_type": "stream",
     "text": [
      "El valor del MAE es: 0.5108\n"
     ]
    }
   ],
   "source": [
    "from sklearn.metrics import mean_absolute_error\n",
    "\n",
    "clf = SVR(kernel='linear')\n",
    "clf.fit(X_std, y)\n",
    "\n",
    "# Calcular el MAE en los mismos datos (sin partición)\n",
    "y_pred = clf.predict(X_std)\n",
    "mae = mean_absolute_error(y, y_pred)\n",
    "\n",
    "# Mostrar el valor del MAE con 4 decimales\n",
    "print(f\"El valor del MAE es: {mae:.4f}\")"
   ]
  },
  {
   "cell_type": "markdown",
   "metadata": {},
   "source": [
    "### 7. O recall mide a porcentaxe de erros debidos a falsos positivos.\n",
    "\n",
    "Falso"
   ]
  },
  {
   "cell_type": "markdown",
   "metadata": {},
   "source": [
    "### 8. O test de Shapiro-Wilk empregase para comprobar a normalidade dos datos cando temos miles de observacións\n",
    "\n",
    "Falso"
   ]
  },
  {
   "cell_type": "markdown",
   "metadata": {},
   "source": [
    "### 9. Carga o dataset de fogares de California (sklearn.datasets.fetch_california_housing). \n",
    "\n",
    "Estandariza os datos e adestra un SVM lineal e un RandomForest (random_state=42) empregando un KFold de 5 particións.\n",
    "\n",
    "Compara os resultados aplicando os test estadísticos que correspondan. \n",
    "\n",
    "Que p-valor obtes (con 4 decimais)?"
   ]
  },
  {
   "cell_type": "code",
   "execution_count": 38,
   "metadata": {},
   "outputs": [
    {
     "name": "stdout",
     "output_type": "stream",
     "text": [
      "### Test de normalidad Shapiro\n",
      "### estadístico = 0.6095, p-value = 0.0008\n"
     ]
    }
   ],
   "source": [
    "import numpy as np\n",
    "from sklearn.ensemble import RandomForestRegressor\n",
    "from sklearn.model_selection import KFold, cross_val_score\n",
    "from pingouin import normality\n",
    "\n",
    "np.random.seed(42)\n",
    "\n",
    "svm = SVR(kernel='linear')\n",
    "rf = RandomForestRegressor(random_state=42)\n",
    "\n",
    "kf = KFold(n_splits=5)\n",
    "\n",
    "svm_scores = cross_val_score(svm, X_std, y, cv=kf)\n",
    "rf_scores = cross_val_score(rf, X_std, y, cv=kf)\n",
    "\n",
    "shapiro = normality(svm_scores - rf_scores, method='shapiro')\n",
    "\n",
    "print('### Test de normalidad Shapiro')\n",
    "print(f'### estadístico = {shapiro.W.values[0]:.4f}, p-value = {shapiro.pval.values[0]:.4f}')"
   ]
  },
  {
   "cell_type": "code",
   "execution_count": 39,
   "metadata": {},
   "outputs": [
    {
     "data": {
      "text/html": [
       "<div>\n",
       "<style scoped>\n",
       "    .dataframe tbody tr th:only-of-type {\n",
       "        vertical-align: middle;\n",
       "    }\n",
       "\n",
       "    .dataframe tbody tr th {\n",
       "        vertical-align: top;\n",
       "    }\n",
       "\n",
       "    .dataframe thead th {\n",
       "        text-align: right;\n",
       "    }\n",
       "</style>\n",
       "<table border=\"1\" class=\"dataframe\">\n",
       "  <thead>\n",
       "    <tr style=\"text-align: right;\">\n",
       "      <th></th>\n",
       "      <th>svm</th>\n",
       "      <th>rf</th>\n",
       "    </tr>\n",
       "  </thead>\n",
       "  <tbody>\n",
       "    <tr>\n",
       "      <th>0</th>\n",
       "      <td>-0.313903</td>\n",
       "      <td>0.513811</td>\n",
       "    </tr>\n",
       "    <tr>\n",
       "      <th>1</th>\n",
       "      <td>0.427594</td>\n",
       "      <td>0.702863</td>\n",
       "    </tr>\n",
       "    <tr>\n",
       "      <th>2</th>\n",
       "      <td>0.528067</td>\n",
       "      <td>0.743474</td>\n",
       "    </tr>\n",
       "    <tr>\n",
       "      <th>3</th>\n",
       "      <td>0.487146</td>\n",
       "      <td>0.629063</td>\n",
       "    </tr>\n",
       "    <tr>\n",
       "      <th>4</th>\n",
       "      <td>-8.020782</td>\n",
       "      <td>0.682174</td>\n",
       "    </tr>\n",
       "  </tbody>\n",
       "</table>\n",
       "</div>"
      ],
      "text/plain": [
       "        svm        rf\n",
       "0 -0.313903  0.513811\n",
       "1  0.427594  0.702863\n",
       "2  0.528067  0.743474\n",
       "3  0.487146  0.629063\n",
       "4 -8.020782  0.682174"
      ]
     },
     "execution_count": 39,
     "metadata": {},
     "output_type": "execute_result"
    }
   ],
   "source": [
    "results = pd.DataFrame({'svm': svm_scores, 'rf': rf_scores})\n",
    "results"
   ]
  },
  {
   "cell_type": "code",
   "execution_count": 37,
   "metadata": {},
   "outputs": [
    {
     "name": "stdout",
     "output_type": "stream",
     "text": [
      "### Test de signos de Wilcoxon\n",
      "### estadistico = 0.0000, p-value = 0.0625\n"
     ]
    }
   ],
   "source": [
    "from pingouin import wilcoxon\n",
    "\n",
    "wil = wilcoxon(results['svm'], results['rf'])\n",
    "\n",
    "print('### Test de signos de Wilcoxon')\n",
    "print(f\"### estadistico = {wil['W-val'].values[0]:.4f}, p-value = {wil['p-val'].values[0]:.4f}\")"
   ]
  },
  {
   "cell_type": "markdown",
   "metadata": {},
   "source": [
    "### 10. Nunha matriz de confusión, que representan os seguintes termos?\n",
    "\n",
    "- Falsos positivos (FP): Son as observacións que non presentan a clase pero son identificadas como se si a presentasen\n",
    "- Verdadeiros positivos (TP): Son as observacións que presentan a clase e son correctamente identificadas\n",
    "- Verdadeiros negativos (TN): Son as observacións que non presentan a clase e son correctamente identificadas\n",
    "- Falsos negativos (FN): Son as observacións que presentan a clase pero son identificadas como se non a tiveran"
   ]
  }
 ],
 "metadata": {
  "kernelspec": {
   "display_name": ".venv",
   "language": "python",
   "name": "python3"
  },
  "language_info": {
   "codemirror_mode": {
    "name": "ipython",
    "version": 3
   },
   "file_extension": ".py",
   "mimetype": "text/x-python",
   "name": "python",
   "nbconvert_exporter": "python",
   "pygments_lexer": "ipython3",
   "version": "3.11.9"
  }
 },
 "nbformat": 4,
 "nbformat_minor": 2
}
