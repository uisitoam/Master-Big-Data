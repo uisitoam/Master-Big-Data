{
 "cells": [
  {
   "attachments": {},
   "cell_type": "markdown",
   "metadata": {},
   "source": [
    "# Comparación de modelos\n",
    "\n",
    "En la sesión anterior vimos como evaluar la calidad de un modelo empleando diferentes tipos de métricas. En esta sesión vamos a ver como realizar comparaciones estadísticas entre predictores en diferentes situaciones. \n",
    "\n"
   ]
  },
  {
   "cell_type": "code",
   "execution_count": 34,
   "metadata": {
    "vscode": {
     "languageId": "bat"
    }
   },
   "outputs": [
    {
     "name": "stdout",
     "output_type": "stream",
     "text": [
      "Requirement already satisfied: numpy in /Users/luisi/Documents/Master-Big-Data/Minería de datos/.venv/lib/python3.11/site-packages (2.2.2)\n",
      "Requirement already satisfied: pandas in /Users/luisi/Documents/Master-Big-Data/Minería de datos/.venv/lib/python3.11/site-packages (2.2.3)\n",
      "Requirement already satisfied: scikit-learn in /Users/luisi/Documents/Master-Big-Data/Minería de datos/.venv/lib/python3.11/site-packages (1.6.1)\n",
      "Requirement already satisfied: statsmodels in /Users/luisi/Documents/Master-Big-Data/Minería de datos/.venv/lib/python3.11/site-packages (0.14.4)\n",
      "Requirement already satisfied: pingouin in /Users/luisi/Documents/Master-Big-Data/Minería de datos/.venv/lib/python3.11/site-packages (0.5.5)\n",
      "Requirement already satisfied: python-dateutil>=2.8.2 in /Users/luisi/Documents/Master-Big-Data/Minería de datos/.venv/lib/python3.11/site-packages (from pandas) (2.9.0.post0)\n",
      "Requirement already satisfied: pytz>=2020.1 in /Users/luisi/Documents/Master-Big-Data/Minería de datos/.venv/lib/python3.11/site-packages (from pandas) (2025.1)\n",
      "Requirement already satisfied: tzdata>=2022.7 in /Users/luisi/Documents/Master-Big-Data/Minería de datos/.venv/lib/python3.11/site-packages (from pandas) (2025.1)\n",
      "Requirement already satisfied: scipy>=1.6.0 in /Users/luisi/Documents/Master-Big-Data/Minería de datos/.venv/lib/python3.11/site-packages (from scikit-learn) (1.15.1)\n",
      "Requirement already satisfied: joblib>=1.2.0 in /Users/luisi/Documents/Master-Big-Data/Minería de datos/.venv/lib/python3.11/site-packages (from scikit-learn) (1.4.2)\n",
      "Requirement already satisfied: threadpoolctl>=3.1.0 in /Users/luisi/Documents/Master-Big-Data/Minería de datos/.venv/lib/python3.11/site-packages (from scikit-learn) (3.5.0)\n",
      "Requirement already satisfied: patsy>=0.5.6 in /Users/luisi/Documents/Master-Big-Data/Minería de datos/.venv/lib/python3.11/site-packages (from statsmodels) (1.0.1)\n",
      "Requirement already satisfied: packaging>=21.3 in /Users/luisi/Documents/Master-Big-Data/Minería de datos/.venv/lib/python3.11/site-packages (from statsmodels) (24.2)\n",
      "Requirement already satisfied: matplotlib in /Users/luisi/Documents/Master-Big-Data/Minería de datos/.venv/lib/python3.11/site-packages (from pingouin) (3.10.1)\n",
      "Requirement already satisfied: pandas-flavor in /Users/luisi/Documents/Master-Big-Data/Minería de datos/.venv/lib/python3.11/site-packages (from pingouin) (0.6.0)\n",
      "Requirement already satisfied: seaborn in /Users/luisi/Documents/Master-Big-Data/Minería de datos/.venv/lib/python3.11/site-packages (from pingouin) (0.13.2)\n",
      "Requirement already satisfied: tabulate in /Users/luisi/Documents/Master-Big-Data/Minería de datos/.venv/lib/python3.11/site-packages (from pingouin) (0.9.0)\n",
      "Requirement already satisfied: six>=1.5 in /Users/luisi/Documents/Master-Big-Data/Minería de datos/.venv/lib/python3.11/site-packages (from python-dateutil>=2.8.2->pandas) (1.17.0)\n",
      "Requirement already satisfied: contourpy>=1.0.1 in /Users/luisi/Documents/Master-Big-Data/Minería de datos/.venv/lib/python3.11/site-packages (from matplotlib->pingouin) (1.3.1)\n",
      "Requirement already satisfied: cycler>=0.10 in /Users/luisi/Documents/Master-Big-Data/Minería de datos/.venv/lib/python3.11/site-packages (from matplotlib->pingouin) (0.12.1)\n",
      "Requirement already satisfied: fonttools>=4.22.0 in /Users/luisi/Documents/Master-Big-Data/Minería de datos/.venv/lib/python3.11/site-packages (from matplotlib->pingouin) (4.56.0)\n",
      "Requirement already satisfied: kiwisolver>=1.3.1 in /Users/luisi/Documents/Master-Big-Data/Minería de datos/.venv/lib/python3.11/site-packages (from matplotlib->pingouin) (1.4.8)\n",
      "Requirement already satisfied: pillow>=8 in /Users/luisi/Documents/Master-Big-Data/Minería de datos/.venv/lib/python3.11/site-packages (from matplotlib->pingouin) (11.1.0)\n",
      "Requirement already satisfied: pyparsing>=2.3.1 in /Users/luisi/Documents/Master-Big-Data/Minería de datos/.venv/lib/python3.11/site-packages (from matplotlib->pingouin) (3.2.1)\n",
      "Requirement already satisfied: xarray in /Users/luisi/Documents/Master-Big-Data/Minería de datos/.venv/lib/python3.11/site-packages (from pandas-flavor->pingouin) (2025.1.2)\n",
      "Note: you may need to restart the kernel to use updated packages.\n"
     ]
    }
   ],
   "source": [
    "pip install numpy pandas scikit-learn statsmodels pingouin"
   ]
  },
  {
   "cell_type": "markdown",
   "metadata": {},
   "source": [
    "## 1. Dos predictores en un dominio\n",
    "\n",
    "A continuación veremos como comparar dos modelos en un único dominio. Es decir, veremos cómo determinar si los resultados de dos modelos diferentes resolviendo exactamente el mismo problema son significativamente diferentes.\n",
    "\n",
    "### 1.1. Caso paramétrico\n",
    "Imaginaos que para un determinado conjunto de datos hemos probado dos clasificadores diferentes: un árbol C50 y una red neuronal. Cada clasificador se ha evaluado utilizando una validación cruzada con 10 pliegues. En el fichero `ejemplo1.dat` podeis encontrar el índice Kappa para cada uno de los pliegues. Con estos datos ¿qué clasificador funciona mejor?"
   ]
  },
  {
   "cell_type": "code",
   "execution_count": 1,
   "metadata": {},
   "outputs": [
    {
     "data": {
      "text/html": [
       "<div>\n",
       "<style scoped>\n",
       "    .dataframe tbody tr th:only-of-type {\n",
       "        vertical-align: middle;\n",
       "    }\n",
       "\n",
       "    .dataframe tbody tr th {\n",
       "        vertical-align: top;\n",
       "    }\n",
       "\n",
       "    .dataframe thead th {\n",
       "        text-align: right;\n",
       "    }\n",
       "</style>\n",
       "<table border=\"1\" class=\"dataframe\">\n",
       "  <thead>\n",
       "    <tr style=\"text-align: right;\">\n",
       "      <th></th>\n",
       "      <th>nnet</th>\n",
       "      <th>C50</th>\n",
       "    </tr>\n",
       "  </thead>\n",
       "  <tbody>\n",
       "    <tr>\n",
       "      <th>0</th>\n",
       "      <td>0.814815</td>\n",
       "      <td>0.666667</td>\n",
       "    </tr>\n",
       "    <tr>\n",
       "      <th>1</th>\n",
       "      <td>0.589744</td>\n",
       "      <td>0.764706</td>\n",
       "    </tr>\n",
       "    <tr>\n",
       "      <th>2</th>\n",
       "      <td>0.600000</td>\n",
       "      <td>0.818182</td>\n",
       "    </tr>\n",
       "    <tr>\n",
       "      <th>3</th>\n",
       "      <td>0.179487</td>\n",
       "      <td>0.294118</td>\n",
       "    </tr>\n",
       "    <tr>\n",
       "      <th>4</th>\n",
       "      <td>0.814815</td>\n",
       "      <td>1.000000</td>\n",
       "    </tr>\n",
       "    <tr>\n",
       "      <th>5</th>\n",
       "      <td>0.000000</td>\n",
       "      <td>-0.111111</td>\n",
       "    </tr>\n",
       "    <tr>\n",
       "      <th>6</th>\n",
       "      <td>0.000000</td>\n",
       "      <td>0.333333</td>\n",
       "    </tr>\n",
       "    <tr>\n",
       "      <th>7</th>\n",
       "      <td>0.764706</td>\n",
       "      <td>0.764706</td>\n",
       "    </tr>\n",
       "    <tr>\n",
       "      <th>8</th>\n",
       "      <td>0.818182</td>\n",
       "      <td>0.818182</td>\n",
       "    </tr>\n",
       "    <tr>\n",
       "      <th>9</th>\n",
       "      <td>0.000000</td>\n",
       "      <td>-0.111111</td>\n",
       "    </tr>\n",
       "  </tbody>\n",
       "</table>\n",
       "</div>"
      ],
      "text/plain": [
       "       nnet       C50\n",
       "0  0.814815  0.666667\n",
       "1  0.589744  0.764706\n",
       "2  0.600000  0.818182\n",
       "3  0.179487  0.294118\n",
       "4  0.814815  1.000000\n",
       "5  0.000000 -0.111111\n",
       "6  0.000000  0.333333\n",
       "7  0.764706  0.764706\n",
       "8  0.818182  0.818182\n",
       "9  0.000000 -0.111111"
      ]
     },
     "execution_count": 1,
     "metadata": {},
     "output_type": "execute_result"
    }
   ],
   "source": [
    "import pandas as pd\n",
    "import numpy as np\n",
    "\n",
    "results = pd.read_csv('./Datos/data/ejemplo1.dat')\n",
    "results"
   ]
  },
  {
   "attachments": {},
   "cell_type": "markdown",
   "metadata": {},
   "source": [
    "Como podemos observar estamos comparando dos clasificadores en un mismo dominio, para lo que podemos usar un test **T de Student**. Pero antes debemos comprobar si se cumplen las **condiciones** necesarias para realizar dicho test con medidas pareadas: **normalidad** y homogeneidad de las varianzas (**homocedasticidad**). \n",
    "\n",
    "Para comprobar la normalidad podemos varios tests: el test de Shapiro-Wilk, el test de Kolmogorov-Smirnov con la corrección Lilliefors, el test de Jarque-Bera. El test de **Shapiro-Wilk** se recomienda cuando el **número de muestras es pequeño (<50)**. Para muestras más grandes es mejor emplear los otros tests. El test de **Jarque-Bera está recomendado solo para muestras muy grandes (>1000)**.\n",
    "\n",
    "Recordad que **la normalidad hay que comprobarla sobre las diferencias entre las medidas** obtenidas en cada pliegue, ya que lo que queremos comprobar es si existen diferencias significativas entre las medias del rendimiento entre las dos clasificadores. En nuestro caso el test intenta comprobar estas hipótesis:\n",
    "\n",
    "$$ H_0: X \\sim N(\\mu, \\sigma^2) $$\n",
    "$$ H_1: X \\nsim N(\\mu, \\sigma^2) $$"
   ]
  },
  {
   "cell_type": "code",
   "execution_count": 2,
   "metadata": {},
   "outputs": [
    {
     "name": "stdout",
     "output_type": "stream",
     "text": [
      "### Test de normalidad Shapiro-Wilk\n",
      "### estadístico = 0.9353, p-value = 0.5018\n",
      "### Test de normalidad omnibus\n",
      "### estadístico = 1.1442, p-value = 0.5644\n",
      "### Test de normalidad Jaque-Bera\n",
      "### estadístico = 0.6761, p-value = 0.7132\n"
     ]
    },
    {
     "name": "stderr",
     "output_type": "stream",
     "text": [
      "/Users/luisi/Documents/Master-Big-Data/Minería de datos/.venv/lib/python3.11/site-packages/scipy/stats/_axis_nan_policy.py:430: UserWarning: `kurtosistest` p-value may be inaccurate with fewer than 20 observations; only n=10 observations were given.\n",
      "  return hypotest_fun_in(*args, **kwds)\n"
     ]
    }
   ],
   "source": [
    "from pingouin import normality\n",
    "\n",
    "shapiro = normality(results['nnet'] - results['C50'], method='shapiro')\n",
    "\n",
    "print('### Test de normalidad Shapiro-Wilk')\n",
    "print(f'### estadístico = {shapiro.W.values[0]:.4f}, p-value = {shapiro.pval.values[0]:.4f}')\n",
    "\n",
    "normtest = normality(results['nnet'] - results['C50'], method='normaltest')\n",
    "\n",
    "print('### Test de normalidad omnibus')\n",
    "print(f'### estadístico = {normtest.W.values[0]:.4f}, p-value = {normtest.pval.values[0]:.4f}')\n",
    "\n",
    "jaquebera = normality(results['nnet'] - results['C50'], method='jarque_bera')\n",
    "\n",
    "print('### Test de normalidad Jaque-Bera')\n",
    "print(f'### estadístico = {jaquebera.W.values[0]:.4f}, p-value = {jaquebera.pval.values[0]:.4f}')"
   ]
  },
  {
   "attachments": {},
   "cell_type": "markdown",
   "metadata": {},
   "source": [
    "Como podemos ver, **no podemos rechazar la hipótesis nula** (la muestra procede de una distribución normal) con un 95% de confianza en ninguno de los casos puesto que todos los **p-valores son mayores que 0.05**. \n",
    "Recordad que en este caso sólo nos habría hecho falta aplicar el test de Shapiro-Wilk al ser la muestra menor que 50 observaciones.\n",
    "\n",
    "Una vez comprobada la normalidad, hay que proceder con la comprobación de **la homocedasticidad** (homogeneidad de las varianzas). Para ello tenemos dos test: el **test de Levene** y el **test de Bartlett**. Este último es más potente en el caso de que se pueda asumir la normalidad, como es nuestro caso."
   ]
  },
  {
   "cell_type": "code",
   "execution_count": null,
   "metadata": {},
   "outputs": [
    {
     "name": "stdout",
     "output_type": "stream",
     "text": [
      "### Test de Levene para la homogeneidad de las varianzas\n",
      "### estadístico = 0.0017, p-value = 0.9672\n",
      "### Test de Bartlett para la homogeneidad de las varianzas\n",
      "### estadístico = 0.0530, p-value = 0.8179\n"
     ]
    }
   ],
   "source": [
    "from pingouin import homoscedasticity\n",
    "\n",
    "levene = homoscedasticity(results[['nnet', 'C50']], method='levene')\n",
    "\n",
    "print('### Test de Levene para la homogeneidad de las varianzas')\n",
    "print(f'### estadístico = {levene.W.values[0]:.4f}, p-value = {levene.pval.values[0]:.4f}')\n",
    "\n",
    "bartlett = homoscedasticity(results[['nnet', 'C50']], method='bartlett')\n",
    "\n",
    "print('### Test de Bartlett para la homogeneidad de las varianzas')\n",
    "print(f\"### estadístico = {bartlett['T'].values[0]:.4f}, p-value = {bartlett.pval.values[0]:.4f}\")"
   ]
  },
  {
   "attachments": {},
   "cell_type": "markdown",
   "metadata": {},
   "source": [
    "Igual que en el caso anterior, **no podemos rechazar la hipótesis nula** de que las varianzas en las medidas obtenidas en cada clasificador sean homogéneas.\n",
    "\n",
    "Al cumplirse las condiciones de aplicabilidad del test T de Student con medidas pareadas, podemos comprobar si las diferencias detectadas en los clasificadores es significativa o no. Es decir, las hipótesis que intenta comprobar el test se pueden expresar de la siguiente manera:\n",
    "\n",
    "$$ H_0: \\mu_{C50} − \\mu_{nnet} = 0 $$\n",
    "$$ H_q: \\mu_{C50} − \\mu_{nnet} \\neq 0 $$"
   ]
  },
  {
   "cell_type": "code",
   "execution_count": 4,
   "metadata": {},
   "outputs": [
    {
     "name": "stdout",
     "output_type": "stream",
     "text": [
      "### Test T de medias pareadas\n",
      "### estadistico = -1.2692, p-value = 0.2362\n"
     ]
    }
   ],
   "source": [
    "from pingouin import ttest\n",
    "\n",
    "t = ttest(results['nnet'], results['C50'], paired=True)\n",
    "\n",
    "print('### Test T de medias pareadas')\n",
    "print(f\"### estadistico = {t['T'].values[0]:.4f}, p-value = {t['p-val'].values[0]:.4f}\")"
   ]
  },
  {
   "attachments": {},
   "cell_type": "markdown",
   "metadata": {},
   "source": [
    "Observando estos resultados, vemos que **no podemos rechazar $H_0$** (la diferencia de medias es igual a 0), por lo que podemos concluir que con el **95% de confianza** que **no existen diferencias significativas entre los dos clasificadores** con el conjunto de datos utilizado. \n",
    "\n",
    "En este caso, tambien se podría haber aplicado un test T de Student para una muestra con la diferencia de medias, probando esa diferencia sea 0:"
   ]
  },
  {
   "cell_type": "code",
   "execution_count": 5,
   "metadata": {},
   "outputs": [
    {
     "name": "stdout",
     "output_type": "stream",
     "text": [
      "### Test T de medias pareadas\n",
      "### estadistico = -1.2692, p-value = 0.2362\n"
     ]
    }
   ],
   "source": [
    "from pingouin import ttest\n",
    "\n",
    "t = ttest(results['nnet'] - results['C50'], 0)\n",
    "\n",
    "print('### Test T de medias pareadas')\n",
    "print(f\"### estadistico = {t['T'].values[0]:.4f}, p-value = {t['p-val'].values[0]:.4f}\")"
   ]
  },
  {
   "attachments": {},
   "cell_type": "markdown",
   "metadata": {},
   "source": [
    "### 1.2. Caso no paramétrico\n",
    "\n",
    "Supongamos ahora que queremos comparar otros dos clasificadores, en este caso una máquina de soporte vectorial (SMV) y un análisis lineal discriminante (LDA). Siguiendo el esquema del caso anterior, los modelos se han entrenado y evaluado mediante una validación cruzada con 10 pliegues. En el fichero `ejemplo2.dat` podeis encontrar los valores para la precisión para cada uno de los pliegues:"
   ]
  },
  {
   "cell_type": "code",
   "execution_count": 6,
   "metadata": {},
   "outputs": [
    {
     "data": {
      "text/html": [
       "<div>\n",
       "<style scoped>\n",
       "    .dataframe tbody tr th:only-of-type {\n",
       "        vertical-align: middle;\n",
       "    }\n",
       "\n",
       "    .dataframe tbody tr th {\n",
       "        vertical-align: top;\n",
       "    }\n",
       "\n",
       "    .dataframe thead th {\n",
       "        text-align: right;\n",
       "    }\n",
       "</style>\n",
       "<table border=\"1\" class=\"dataframe\">\n",
       "  <thead>\n",
       "    <tr style=\"text-align: right;\">\n",
       "      <th></th>\n",
       "      <th>SVM</th>\n",
       "      <th>LDA</th>\n",
       "    </tr>\n",
       "  </thead>\n",
       "  <tbody>\n",
       "    <tr>\n",
       "      <th>0</th>\n",
       "      <td>0.933333</td>\n",
       "      <td>0.933333</td>\n",
       "    </tr>\n",
       "    <tr>\n",
       "      <th>1</th>\n",
       "      <td>0.875000</td>\n",
       "      <td>0.875000</td>\n",
       "    </tr>\n",
       "    <tr>\n",
       "      <th>2</th>\n",
       "      <td>0.812500</td>\n",
       "      <td>0.875000</td>\n",
       "    </tr>\n",
       "    <tr>\n",
       "      <th>3</th>\n",
       "      <td>0.812500</td>\n",
       "      <td>0.875000</td>\n",
       "    </tr>\n",
       "    <tr>\n",
       "      <th>4</th>\n",
       "      <td>0.933333</td>\n",
       "      <td>0.933333</td>\n",
       "    </tr>\n",
       "    <tr>\n",
       "      <th>5</th>\n",
       "      <td>0.800000</td>\n",
       "      <td>0.800000</td>\n",
       "    </tr>\n",
       "    <tr>\n",
       "      <th>6</th>\n",
       "      <td>0.600000</td>\n",
       "      <td>0.533333</td>\n",
       "    </tr>\n",
       "    <tr>\n",
       "      <th>7</th>\n",
       "      <td>0.937500</td>\n",
       "      <td>0.937500</td>\n",
       "    </tr>\n",
       "    <tr>\n",
       "      <th>8</th>\n",
       "      <td>0.750000</td>\n",
       "      <td>0.937500</td>\n",
       "    </tr>\n",
       "    <tr>\n",
       "      <th>9</th>\n",
       "      <td>0.800000</td>\n",
       "      <td>0.733333</td>\n",
       "    </tr>\n",
       "  </tbody>\n",
       "</table>\n",
       "</div>"
      ],
      "text/plain": [
       "        SVM       LDA\n",
       "0  0.933333  0.933333\n",
       "1  0.875000  0.875000\n",
       "2  0.812500  0.875000\n",
       "3  0.812500  0.875000\n",
       "4  0.933333  0.933333\n",
       "5  0.800000  0.800000\n",
       "6  0.600000  0.533333\n",
       "7  0.937500  0.937500\n",
       "8  0.750000  0.937500\n",
       "9  0.800000  0.733333"
      ]
     },
     "execution_count": 6,
     "metadata": {},
     "output_type": "execute_result"
    }
   ],
   "source": [
    "results = pd.read_csv('./Datos/data/ejemplo2.dat')\n",
    "results"
   ]
  },
  {
   "cell_type": "markdown",
   "metadata": {},
   "source": [
    "Igual que en el caso anterior, lo primero que haremos será **comprobar las condiciones de aplicabilidad del test T de Student** con medidas pareadas. Primero comprobamos la normalidad de la muestra:"
   ]
  },
  {
   "cell_type": "code",
   "execution_count": 7,
   "metadata": {},
   "outputs": [
    {
     "name": "stdout",
     "output_type": "stream",
     "text": [
      "### Test de normalidad Shapiro-Wilk\n",
      "### estadístico = 0.8363, p-value = 0.0399\n"
     ]
    }
   ],
   "source": [
    "from pingouin import normality\n",
    "\n",
    "shapiro = normality(results['SVM'] - results['LDA'], method='shapiro')\n",
    "\n",
    "print('### Test de normalidad Shapiro-Wilk')\n",
    "print(f\"### estadístico = {shapiro.W.values[0]:.4f}, p-value = {shapiro.pval.values[0]:.4f}\")"
   ]
  },
  {
   "attachments": {},
   "cell_type": "markdown",
   "metadata": {},
   "source": [
    "Puesto que el **p-valor obtenido es < 0.05**, podemos afirmar que las muestras no proceden de una distribución normal con el 95% de confianza. Es decir, **podemos rechazar la hipótesis nula** de que la muestra proviene de una distribución normal. Por lo tanto, **no podemos aplicar el test T de Student** para muestras pareadas (o su versión para una muestra). En este caso tenemos que aplicar los **test no paramétricos** como el test de McNemar o el test de la suma de rangos de Wilcoxon para muestras pareadas.\n",
    "\n",
    "Empecemos por el **test de McNemar**, que necesita como datos la **matriz de confusión** para los dos métodos considerados. Teneis disponible dicha matriz en el fichero `matrizConfEjemplo2.dat`:"
   ]
  },
  {
   "cell_type": "code",
   "execution_count": 8,
   "metadata": {},
   "outputs": [
    {
     "data": {
      "text/html": [
       "<div>\n",
       "<style scoped>\n",
       "    .dataframe tbody tr th:only-of-type {\n",
       "        vertical-align: middle;\n",
       "    }\n",
       "\n",
       "    .dataframe tbody tr th {\n",
       "        vertical-align: top;\n",
       "    }\n",
       "\n",
       "    .dataframe thead th {\n",
       "        text-align: right;\n",
       "    }\n",
       "</style>\n",
       "<table border=\"1\" class=\"dataframe\">\n",
       "  <thead>\n",
       "    <tr style=\"text-align: right;\">\n",
       "      <th></th>\n",
       "      <th>FALLECE</th>\n",
       "      <th>VIVE</th>\n",
       "    </tr>\n",
       "  </thead>\n",
       "  <tbody>\n",
       "    <tr>\n",
       "      <th>FALLECE</th>\n",
       "      <td>31</td>\n",
       "      <td>11</td>\n",
       "    </tr>\n",
       "    <tr>\n",
       "      <th>VIVE</th>\n",
       "      <td>17</td>\n",
       "      <td>136</td>\n",
       "    </tr>\n",
       "  </tbody>\n",
       "</table>\n",
       "</div>"
      ],
      "text/plain": [
       "         FALLECE  VIVE\n",
       "FALLECE       31    11\n",
       "VIVE          17   136"
      ]
     },
     "execution_count": 8,
     "metadata": {},
     "output_type": "execute_result"
    }
   ],
   "source": [
    "matrix = pd.read_csv('./Datos/data/matrizConfEjemplo2.dat', index_col=0)\n",
    "matrix"
   ]
  },
  {
   "attachments": {},
   "cell_type": "markdown",
   "metadata": {},
   "source": [
    "**El test de McNemar** comprueba si las **proporciones de error son iguales**, es decir:\n",
    "$$ H_0: p_{FP}=p_{FN} $$\n",
    "$$ H_1: p_{FP} \\neq p_{FN} $$"
   ]
  },
  {
   "cell_type": "code",
   "execution_count": 9,
   "metadata": {},
   "outputs": [
    {
     "name": "stdout",
     "output_type": "stream",
     "text": [
      "### Test de McNemar\n",
      "### estadistico = 0.8929, p-value = 0.3449\n"
     ]
    }
   ],
   "source": [
    "from statsmodels.stats.contingency_tables import mcnemar\n",
    "from pingouin import chi2_mcnemar, read_dataset\n",
    "\n",
    "observed = pd.DataFrame([{\"actual\": 0,\"predicted\": 0}] * matrix['FALLECE']['FALLECE'] + [{\"actual\": 0,\"predicted\": 1}] * matrix['FALLECE']['VIVE'] + [{\"actual\": 1,\"predicted\": 0}] * matrix['VIVE']['FALLECE'] + [{\"actual\": 1,\"predicted\": 1}] * matrix['VIVE']['VIVE'])\n",
    "\n",
    "mcnemar = chi2_mcnemar(observed, \"predicted\", \"actual\")\n",
    "\n",
    "print('### Test de McNemar')\n",
    "print(f\"### estadistico = {mcnemar[1].chi2.values[0]:.4f}, p-value = {mcnemar[1]['p-exact'].values[0]:.4f}\")"
   ]
  },
  {
   "attachments": {},
   "cell_type": "markdown",
   "metadata": {},
   "source": [
    "En este caso **no podemos rechazar la hipotesis nula**, es decir, no podemos afirmar, con el 95% de confianza, que las proporciones de error sean distintas ni que se aprecien diferencias significativas entre los modelos.\n",
    "\n",
    "Tambien podríamos haber usado el **test de Wilcoxon**, que compara las medianas de las dos muestras en vez de las medias. Las hipótesis que comprueba este test se pueden expresar de la siguiente manera:\n",
    "\n",
    "$$ H0: \\eta_{SVM} = \\eta_{LDA} $$\n",
    "$$ H1: \\eta_{SVM} \\neq \\eta_{LDA} $$"
   ]
  },
  {
   "cell_type": "code",
   "execution_count": 10,
   "metadata": {},
   "outputs": [
    {
     "name": "stdout",
     "output_type": "stream",
     "text": [
      "### Test de signos de Wilcoxon\n",
      "### estadistico = 7.0000, p-value = 1.0000\n"
     ]
    }
   ],
   "source": [
    "from pingouin import wilcoxon\n",
    "\n",
    "wil = wilcoxon(results['SVM'], results['LDA'])\n",
    "\n",
    "print('### Test de signos de Wilcoxon')\n",
    "print(f\"### estadistico = {wil['W-val'].values[0]:.4f}, p-value = {wil['p-val'].values[0]:.4f}\")"
   ]
  },
  {
   "attachments": {},
   "cell_type": "markdown",
   "metadata": {},
   "source": [
    "Analizando los resultados, podemos afirmar que **no podemos rechazar la hipótesis nula** de que las medianas de las muestras sean iguales con un 95% de confianza. Es decir, **las diferencias entre los dos modelos no son estadísticamente significativas**."
   ]
  },
  {
   "attachments": {},
   "cell_type": "markdown",
   "metadata": {},
   "source": [
    "## 2. Dos predictores en múltiples dominios\n",
    "\n",
    "Hasta ahora hemos estado evaluando dos predictores sobre un único dominio. Pero muchas veces nos interesa dos  predictores sobre diferentes dominios. Es decir, comparar dos modelos a la hora de resolver mas de un problema. En este ejemplo, dos predictores se han utilizado con 10 conjuntos de datos. Concretamente, se ha calculado la precisión de una máquina de soporte vectorial (SVM) con kernel lineal y un árbol C50 en cada uno de los 10 conjuntos de datos. Podeis encontrar los resultados de las evaluaciones en el fichero `ejemplo3.dat`:"
   ]
  },
  {
   "cell_type": "code",
   "execution_count": 11,
   "metadata": {},
   "outputs": [
    {
     "data": {
      "text/html": [
       "<div>\n",
       "<style scoped>\n",
       "    .dataframe tbody tr th:only-of-type {\n",
       "        vertical-align: middle;\n",
       "    }\n",
       "\n",
       "    .dataframe tbody tr th {\n",
       "        vertical-align: top;\n",
       "    }\n",
       "\n",
       "    .dataframe thead th {\n",
       "        text-align: right;\n",
       "    }\n",
       "</style>\n",
       "<table border=\"1\" class=\"dataframe\">\n",
       "  <thead>\n",
       "    <tr style=\"text-align: right;\">\n",
       "      <th></th>\n",
       "      <th>Dataset</th>\n",
       "      <th>SVMLinear</th>\n",
       "      <th>C50</th>\n",
       "    </tr>\n",
       "  </thead>\n",
       "  <tbody>\n",
       "    <tr>\n",
       "      <th>0</th>\n",
       "      <td>hepatitis</td>\n",
       "      <td>0.844167</td>\n",
       "      <td>0.862917</td>\n",
       "    </tr>\n",
       "    <tr>\n",
       "      <th>1</th>\n",
       "      <td>iris</td>\n",
       "      <td>0.960000</td>\n",
       "      <td>0.946667</td>\n",
       "    </tr>\n",
       "    <tr>\n",
       "      <th>2</th>\n",
       "      <td>cox2</td>\n",
       "      <td>0.805042</td>\n",
       "      <td>0.835291</td>\n",
       "    </tr>\n",
       "    <tr>\n",
       "      <th>3</th>\n",
       "      <td>oil</td>\n",
       "      <td>0.969167</td>\n",
       "      <td>0.959798</td>\n",
       "    </tr>\n",
       "    <tr>\n",
       "      <th>4</th>\n",
       "      <td>dhfr</td>\n",
       "      <td>0.926136</td>\n",
       "      <td>0.910701</td>\n",
       "    </tr>\n",
       "    <tr>\n",
       "      <th>5</th>\n",
       "      <td>German</td>\n",
       "      <td>0.747000</td>\n",
       "      <td>0.756000</td>\n",
       "    </tr>\n",
       "    <tr>\n",
       "      <th>6</th>\n",
       "      <td>Seg</td>\n",
       "      <td>0.803320</td>\n",
       "      <td>0.845929</td>\n",
       "    </tr>\n",
       "    <tr>\n",
       "      <th>7</th>\n",
       "      <td>Breast</td>\n",
       "      <td>0.964244</td>\n",
       "      <td>0.961407</td>\n",
       "    </tr>\n",
       "    <tr>\n",
       "      <th>8</th>\n",
       "      <td>Pima</td>\n",
       "      <td>0.773445</td>\n",
       "      <td>0.757861</td>\n",
       "    </tr>\n",
       "    <tr>\n",
       "      <th>9</th>\n",
       "      <td>Sonar</td>\n",
       "      <td>0.745606</td>\n",
       "      <td>0.832078</td>\n",
       "    </tr>\n",
       "  </tbody>\n",
       "</table>\n",
       "</div>"
      ],
      "text/plain": [
       "     Dataset  SVMLinear       C50\n",
       "0  hepatitis   0.844167  0.862917\n",
       "1       iris   0.960000  0.946667\n",
       "2       cox2   0.805042  0.835291\n",
       "3        oil   0.969167  0.959798\n",
       "4       dhfr   0.926136  0.910701\n",
       "5     German   0.747000  0.756000\n",
       "6        Seg   0.803320  0.845929\n",
       "7     Breast   0.964244  0.961407\n",
       "8       Pima   0.773445  0.757861\n",
       "9      Sonar   0.745606  0.832078"
      ]
     },
     "execution_count": 11,
     "metadata": {},
     "output_type": "execute_result"
    }
   ],
   "source": [
    "results = pd.read_csv('./Datos/data/ejemplo3.dat')\n",
    "results"
   ]
  },
  {
   "attachments": {},
   "cell_type": "markdown",
   "metadata": {},
   "source": [
    "Para comparar dos modelos empleando múltiples dominios la recomendación es utilizar el **test de la suma de rangos de Wilcoxon para muestras pareadas** (o su versión de una muestra, calculando la diferencia en las metricas obtenida en cada dataset)."
   ]
  },
  {
   "cell_type": "code",
   "execution_count": 12,
   "metadata": {},
   "outputs": [
    {
     "name": "stdout",
     "output_type": "stream",
     "text": [
      "### Test de signos de Wilcoxon\n",
      "### estadistico = 19.0000, p-value = 0.4316\n"
     ]
    }
   ],
   "source": [
    "from pingouin import wilcoxon\n",
    "\n",
    "wil = wilcoxon(results['SVMLinear'], results['C50'])\n",
    "\n",
    "print('### Test de signos de Wilcoxon')\n",
    "print(f\"### estadistico = {wil['W-val'].values[0]:.4f}, p-value = {wil['p-val'].values[0]:.4f}\")"
   ]
  },
  {
   "attachments": {},
   "cell_type": "markdown",
   "metadata": {},
   "source": [
    "Viendo el p-valor, **no podemos rechazar la hipotesis nula**, por lo que no podemos decir que existan diferencias significativas entre la precisión de los dos clasificadores sobre los conjuntos de datos seleccionados."
   ]
  },
  {
   "attachments": {},
   "cell_type": "markdown",
   "metadata": {},
   "source": [
    "## 3. Múltiples predictores en múltiples dominios\n",
    "\n",
    "Hasta ahora nos hemos limitado a comparar 2 métodos en uno o múltiples dominios y a ver si hay diferencias significativas entre ellos. A continuación veremos como podemos extender estas técnicas para comparar múltiples modelos en multiples dominios.\n",
    "\n",
    "### 3.1. Caso paramétrico\n",
    "\n",
    "En el fichero `ejemplo4.dat` tenemos los resultados de precisión de tres clasificadores para 10 conjuntos de datos diferentes. Nuestro objetivo será determinar si existen diferencias significativas entre los distintos clasificadores en dichos conjunto de datos."
   ]
  },
  {
   "cell_type": "code",
   "execution_count": 13,
   "metadata": {},
   "outputs": [
    {
     "data": {
      "text/html": [
       "<div>\n",
       "<style scoped>\n",
       "    .dataframe tbody tr th:only-of-type {\n",
       "        vertical-align: middle;\n",
       "    }\n",
       "\n",
       "    .dataframe tbody tr th {\n",
       "        vertical-align: top;\n",
       "    }\n",
       "\n",
       "    .dataframe thead th {\n",
       "        text-align: right;\n",
       "    }\n",
       "</style>\n",
       "<table border=\"1\" class=\"dataframe\">\n",
       "  <thead>\n",
       "    <tr style=\"text-align: right;\">\n",
       "      <th></th>\n",
       "      <th>dataset</th>\n",
       "      <th>Classifier A</th>\n",
       "      <th>Classifier B</th>\n",
       "      <th>Classifier C</th>\n",
       "    </tr>\n",
       "  </thead>\n",
       "  <tbody>\n",
       "    <tr>\n",
       "      <th>0</th>\n",
       "      <td>1</td>\n",
       "      <td>0.8583</td>\n",
       "      <td>0.7586</td>\n",
       "      <td>0.8419</td>\n",
       "    </tr>\n",
       "    <tr>\n",
       "      <th>1</th>\n",
       "      <td>2</td>\n",
       "      <td>0.8591</td>\n",
       "      <td>0.7318</td>\n",
       "      <td>0.8590</td>\n",
       "    </tr>\n",
       "    <tr>\n",
       "      <th>2</th>\n",
       "      <td>3</td>\n",
       "      <td>0.8612</td>\n",
       "      <td>0.6908</td>\n",
       "      <td>0.8383</td>\n",
       "    </tr>\n",
       "    <tr>\n",
       "      <th>3</th>\n",
       "      <td>4</td>\n",
       "      <td>0.8582</td>\n",
       "      <td>0.7405</td>\n",
       "      <td>0.8511</td>\n",
       "    </tr>\n",
       "    <tr>\n",
       "      <th>4</th>\n",
       "      <td>5</td>\n",
       "      <td>0.8628</td>\n",
       "      <td>0.7471</td>\n",
       "      <td>0.8638</td>\n",
       "    </tr>\n",
       "    <tr>\n",
       "      <th>5</th>\n",
       "      <td>6</td>\n",
       "      <td>0.8642</td>\n",
       "      <td>0.6590</td>\n",
       "      <td>0.8120</td>\n",
       "    </tr>\n",
       "    <tr>\n",
       "      <th>6</th>\n",
       "      <td>7</td>\n",
       "      <td>0.8591</td>\n",
       "      <td>0.7625</td>\n",
       "      <td>0.8638</td>\n",
       "    </tr>\n",
       "    <tr>\n",
       "      <th>7</th>\n",
       "      <td>8</td>\n",
       "      <td>0.8610</td>\n",
       "      <td>0.7510</td>\n",
       "      <td>0.8675</td>\n",
       "    </tr>\n",
       "    <tr>\n",
       "      <th>8</th>\n",
       "      <td>9</td>\n",
       "      <td>0.8595</td>\n",
       "      <td>0.7050</td>\n",
       "      <td>0.8803</td>\n",
       "    </tr>\n",
       "    <tr>\n",
       "      <th>9</th>\n",
       "      <td>10</td>\n",
       "      <td>0.8612</td>\n",
       "      <td>0.7395</td>\n",
       "      <td>0.8718</td>\n",
       "    </tr>\n",
       "  </tbody>\n",
       "</table>\n",
       "</div>"
      ],
      "text/plain": [
       "   dataset  Classifier A  Classifier B  Classifier C\n",
       "0        1        0.8583        0.7586        0.8419\n",
       "1        2        0.8591        0.7318        0.8590\n",
       "2        3        0.8612        0.6908        0.8383\n",
       "3        4        0.8582        0.7405        0.8511\n",
       "4        5        0.8628        0.7471        0.8638\n",
       "5        6        0.8642        0.6590        0.8120\n",
       "6        7        0.8591        0.7625        0.8638\n",
       "7        8        0.8610        0.7510        0.8675\n",
       "8        9        0.8595        0.7050        0.8803\n",
       "9       10        0.8612        0.7395        0.8718"
      ]
     },
     "execution_count": 13,
     "metadata": {},
     "output_type": "execute_result"
    }
   ],
   "source": [
    "data = pd.read_csv('./Datos/data/ejemplo4.dat', header=0)\n",
    "data.columns = ['dataset', 'Classifier A', 'Classifier B', 'Classifier C']\n",
    "\n",
    "data"
   ]
  },
  {
   "attachments": {},
   "cell_type": "markdown",
   "metadata": {},
   "source": [
    "Para comparar múltiples clasificadores en múltiples dominios aplicaremos el **test ANOVA de una vía para medidas pareadas** o su equivalente no paramétrico, el **test de Friedman**. \n",
    "\n",
    "Antes de aplicar el test, comprobemos de forma descriptiva cómo se distribuyen los datos. Para ello, primero transformaremos el conjunto de datos a un [formato de tabla larga](https://pingouin-stats.org/build/html/faq.html#what-s-the-difference-between-wide-format-and-long-format-data-and-how-can-i-convert-my-data-from-one-to-the-other): "
   ]
  },
  {
   "cell_type": "code",
   "execution_count": 14,
   "metadata": {},
   "outputs": [
    {
     "data": {
      "text/html": [
       "<div>\n",
       "<style scoped>\n",
       "    .dataframe tbody tr th:only-of-type {\n",
       "        vertical-align: middle;\n",
       "    }\n",
       "\n",
       "    .dataframe tbody tr th {\n",
       "        vertical-align: top;\n",
       "    }\n",
       "\n",
       "    .dataframe thead th {\n",
       "        text-align: right;\n",
       "    }\n",
       "</style>\n",
       "<table border=\"1\" class=\"dataframe\">\n",
       "  <thead>\n",
       "    <tr style=\"text-align: right;\">\n",
       "      <th></th>\n",
       "      <th>dataset</th>\n",
       "      <th>Method</th>\n",
       "      <th>Precision</th>\n",
       "    </tr>\n",
       "  </thead>\n",
       "  <tbody>\n",
       "    <tr>\n",
       "      <th>0</th>\n",
       "      <td>1</td>\n",
       "      <td>Classifier A</td>\n",
       "      <td>0.8583</td>\n",
       "    </tr>\n",
       "    <tr>\n",
       "      <th>1</th>\n",
       "      <td>2</td>\n",
       "      <td>Classifier A</td>\n",
       "      <td>0.8591</td>\n",
       "    </tr>\n",
       "    <tr>\n",
       "      <th>2</th>\n",
       "      <td>3</td>\n",
       "      <td>Classifier A</td>\n",
       "      <td>0.8612</td>\n",
       "    </tr>\n",
       "    <tr>\n",
       "      <th>3</th>\n",
       "      <td>4</td>\n",
       "      <td>Classifier A</td>\n",
       "      <td>0.8582</td>\n",
       "    </tr>\n",
       "    <tr>\n",
       "      <th>4</th>\n",
       "      <td>5</td>\n",
       "      <td>Classifier A</td>\n",
       "      <td>0.8628</td>\n",
       "    </tr>\n",
       "    <tr>\n",
       "      <th>5</th>\n",
       "      <td>6</td>\n",
       "      <td>Classifier A</td>\n",
       "      <td>0.8642</td>\n",
       "    </tr>\n",
       "    <tr>\n",
       "      <th>6</th>\n",
       "      <td>7</td>\n",
       "      <td>Classifier A</td>\n",
       "      <td>0.8591</td>\n",
       "    </tr>\n",
       "    <tr>\n",
       "      <th>7</th>\n",
       "      <td>8</td>\n",
       "      <td>Classifier A</td>\n",
       "      <td>0.8610</td>\n",
       "    </tr>\n",
       "    <tr>\n",
       "      <th>8</th>\n",
       "      <td>9</td>\n",
       "      <td>Classifier A</td>\n",
       "      <td>0.8595</td>\n",
       "    </tr>\n",
       "    <tr>\n",
       "      <th>9</th>\n",
       "      <td>10</td>\n",
       "      <td>Classifier A</td>\n",
       "      <td>0.8612</td>\n",
       "    </tr>\n",
       "    <tr>\n",
       "      <th>10</th>\n",
       "      <td>1</td>\n",
       "      <td>Classifier B</td>\n",
       "      <td>0.7586</td>\n",
       "    </tr>\n",
       "    <tr>\n",
       "      <th>11</th>\n",
       "      <td>2</td>\n",
       "      <td>Classifier B</td>\n",
       "      <td>0.7318</td>\n",
       "    </tr>\n",
       "    <tr>\n",
       "      <th>12</th>\n",
       "      <td>3</td>\n",
       "      <td>Classifier B</td>\n",
       "      <td>0.6908</td>\n",
       "    </tr>\n",
       "    <tr>\n",
       "      <th>13</th>\n",
       "      <td>4</td>\n",
       "      <td>Classifier B</td>\n",
       "      <td>0.7405</td>\n",
       "    </tr>\n",
       "    <tr>\n",
       "      <th>14</th>\n",
       "      <td>5</td>\n",
       "      <td>Classifier B</td>\n",
       "      <td>0.7471</td>\n",
       "    </tr>\n",
       "    <tr>\n",
       "      <th>15</th>\n",
       "      <td>6</td>\n",
       "      <td>Classifier B</td>\n",
       "      <td>0.6590</td>\n",
       "    </tr>\n",
       "    <tr>\n",
       "      <th>16</th>\n",
       "      <td>7</td>\n",
       "      <td>Classifier B</td>\n",
       "      <td>0.7625</td>\n",
       "    </tr>\n",
       "    <tr>\n",
       "      <th>17</th>\n",
       "      <td>8</td>\n",
       "      <td>Classifier B</td>\n",
       "      <td>0.7510</td>\n",
       "    </tr>\n",
       "    <tr>\n",
       "      <th>18</th>\n",
       "      <td>9</td>\n",
       "      <td>Classifier B</td>\n",
       "      <td>0.7050</td>\n",
       "    </tr>\n",
       "    <tr>\n",
       "      <th>19</th>\n",
       "      <td>10</td>\n",
       "      <td>Classifier B</td>\n",
       "      <td>0.7395</td>\n",
       "    </tr>\n",
       "    <tr>\n",
       "      <th>20</th>\n",
       "      <td>1</td>\n",
       "      <td>Classifier C</td>\n",
       "      <td>0.8419</td>\n",
       "    </tr>\n",
       "    <tr>\n",
       "      <th>21</th>\n",
       "      <td>2</td>\n",
       "      <td>Classifier C</td>\n",
       "      <td>0.8590</td>\n",
       "    </tr>\n",
       "    <tr>\n",
       "      <th>22</th>\n",
       "      <td>3</td>\n",
       "      <td>Classifier C</td>\n",
       "      <td>0.8383</td>\n",
       "    </tr>\n",
       "    <tr>\n",
       "      <th>23</th>\n",
       "      <td>4</td>\n",
       "      <td>Classifier C</td>\n",
       "      <td>0.8511</td>\n",
       "    </tr>\n",
       "    <tr>\n",
       "      <th>24</th>\n",
       "      <td>5</td>\n",
       "      <td>Classifier C</td>\n",
       "      <td>0.8638</td>\n",
       "    </tr>\n",
       "    <tr>\n",
       "      <th>25</th>\n",
       "      <td>6</td>\n",
       "      <td>Classifier C</td>\n",
       "      <td>0.8120</td>\n",
       "    </tr>\n",
       "    <tr>\n",
       "      <th>26</th>\n",
       "      <td>7</td>\n",
       "      <td>Classifier C</td>\n",
       "      <td>0.8638</td>\n",
       "    </tr>\n",
       "    <tr>\n",
       "      <th>27</th>\n",
       "      <td>8</td>\n",
       "      <td>Classifier C</td>\n",
       "      <td>0.8675</td>\n",
       "    </tr>\n",
       "    <tr>\n",
       "      <th>28</th>\n",
       "      <td>9</td>\n",
       "      <td>Classifier C</td>\n",
       "      <td>0.8803</td>\n",
       "    </tr>\n",
       "    <tr>\n",
       "      <th>29</th>\n",
       "      <td>10</td>\n",
       "      <td>Classifier C</td>\n",
       "      <td>0.8718</td>\n",
       "    </tr>\n",
       "  </tbody>\n",
       "</table>\n",
       "</div>"
      ],
      "text/plain": [
       "    dataset        Method  Precision\n",
       "0         1  Classifier A     0.8583\n",
       "1         2  Classifier A     0.8591\n",
       "2         3  Classifier A     0.8612\n",
       "3         4  Classifier A     0.8582\n",
       "4         5  Classifier A     0.8628\n",
       "5         6  Classifier A     0.8642\n",
       "6         7  Classifier A     0.8591\n",
       "7         8  Classifier A     0.8610\n",
       "8         9  Classifier A     0.8595\n",
       "9        10  Classifier A     0.8612\n",
       "10        1  Classifier B     0.7586\n",
       "11        2  Classifier B     0.7318\n",
       "12        3  Classifier B     0.6908\n",
       "13        4  Classifier B     0.7405\n",
       "14        5  Classifier B     0.7471\n",
       "15        6  Classifier B     0.6590\n",
       "16        7  Classifier B     0.7625\n",
       "17        8  Classifier B     0.7510\n",
       "18        9  Classifier B     0.7050\n",
       "19       10  Classifier B     0.7395\n",
       "20        1  Classifier C     0.8419\n",
       "21        2  Classifier C     0.8590\n",
       "22        3  Classifier C     0.8383\n",
       "23        4  Classifier C     0.8511\n",
       "24        5  Classifier C     0.8638\n",
       "25        6  Classifier C     0.8120\n",
       "26        7  Classifier C     0.8638\n",
       "27        8  Classifier C     0.8675\n",
       "28        9  Classifier C     0.8803\n",
       "29       10  Classifier C     0.8718"
      ]
     },
     "execution_count": 14,
     "metadata": {},
     "output_type": "execute_result"
    }
   ],
   "source": [
    "data = data.melt(id_vars='dataset', value_vars=['Classifier A', 'Classifier B', 'Classifier C'], var_name='Method', value_name='Precision')\n",
    "\n",
    "data"
   ]
  },
  {
   "cell_type": "markdown",
   "metadata": {},
   "source": [
    "Hagamos primero un análisis descriptivo y gráfico: "
   ]
  },
  {
   "cell_type": "code",
   "execution_count": 15,
   "metadata": {},
   "outputs": [
    {
     "data": {
      "image/png": "[encoded data removed]",
      "text/plain": [
       "<Figure size 640x480 with 1 Axes>"
      ]
     },
     "metadata": {},
     "output_type": "display_data"
    }
   ],
   "source": [
    "import matplotlib.pyplot as plt\n",
    "import seaborn as sns\n",
    "\n",
    "ax = sns.boxplot(x='Method', y='Precision', data=data)\n",
    "ax = sns.swarmplot(x='Method', y='Precision', data=data)\n",
    "plt.show()"
   ]
  },
  {
   "cell_type": "code",
   "execution_count": 16,
   "metadata": {},
   "outputs": [
    {
     "name": "stdout",
     "output_type": "stream",
     "text": [
      "Precision media y desviación típica por método:\n"
     ]
    },
    {
     "data": {
      "text/html": [
       "<div>\n",
       "<style scoped>\n",
       "    .dataframe tbody tr th:only-of-type {\n",
       "        vertical-align: middle;\n",
       "    }\n",
       "\n",
       "    .dataframe tbody tr th {\n",
       "        vertical-align: top;\n",
       "    }\n",
       "\n",
       "    .dataframe thead th {\n",
       "        text-align: right;\n",
       "    }\n",
       "</style>\n",
       "<table border=\"1\" class=\"dataframe\">\n",
       "  <thead>\n",
       "    <tr style=\"text-align: right;\">\n",
       "      <th></th>\n",
       "      <th>mean</th>\n",
       "      <th>std</th>\n",
       "    </tr>\n",
       "    <tr>\n",
       "      <th>Method</th>\n",
       "      <th></th>\n",
       "      <th></th>\n",
       "    </tr>\n",
       "  </thead>\n",
       "  <tbody>\n",
       "    <tr>\n",
       "      <th>Classifier A</th>\n",
       "      <td>0.86046</td>\n",
       "      <td>0.001979</td>\n",
       "    </tr>\n",
       "    <tr>\n",
       "      <th>Classifier B</th>\n",
       "      <td>0.72858</td>\n",
       "      <td>0.033323</td>\n",
       "    </tr>\n",
       "    <tr>\n",
       "      <th>Classifier C</th>\n",
       "      <td>0.85495</td>\n",
       "      <td>0.019900</td>\n",
       "    </tr>\n",
       "  </tbody>\n",
       "</table>\n",
       "</div>"
      ],
      "text/plain": [
       "                 mean       std\n",
       "Method                         \n",
       "Classifier A  0.86046  0.001979\n",
       "Classifier B  0.72858  0.033323\n",
       "Classifier C  0.85495  0.019900"
      ]
     },
     "execution_count": 16,
     "metadata": {},
     "output_type": "execute_result"
    }
   ],
   "source": [
    "print('Precision media y desviación típica por método:')\n",
    "data.groupby('Method')['Precision'].agg(['mean', 'std'])"
   ]
  },
  {
   "attachments": {},
   "cell_type": "markdown",
   "metadata": {},
   "source": [
    "Aunque a simple vista se puede comprobar que no tienen la misma media, realizaremos dicha comprobación a través del **test de ANOVA**. \n",
    "Para ello debemos de comprobar las **condiciones de aplicabilidad**: normalidad y esfericidad (el equivalente a la homocedasticidad para el ANOVA de medidas pareadas).\n",
    "\n",
    "En el caso del test ANOVA de una vía para medidas pareadas se comprueba si las medias entre los diferentes clasificadores son iguales, es decir:\n",
    "\n",
    "$$ H0: \\mu_1 = \\mu_2 = \\dots = \\mu_n $$\n",
    "$$ H1: \\text{las medias no son iguales} $$\n",
    "\n",
    "Para la condición de normalidad, debemos comprobar que la muestra de cada uno de los grupos procede de una población con distribución normal. Como hemos comentado anteriormente, esto se puede realizar mediante el test de Shapiro-Wilks:"
   ]
  },
  {
   "cell_type": "code",
   "execution_count": 17,
   "metadata": {},
   "outputs": [
    {
     "name": "stdout",
     "output_type": "stream",
     "text": [
      "### Test de normalidad Shapiro-Wilk para el clasificador A\n",
      "### estadístico = 0.9189, p-value = 0.3477\n",
      "### Test de normalidad Shapiro-Wilk para el clasificador B\n",
      "### estadístico = 0.8741, p-value = 0.1114\n",
      "### Test de normalidad Shapiro-Wilk para el clasificador C\n",
      "### estadístico = 0.9258, p-value = 0.4083\n"
     ]
    }
   ],
   "source": [
    "from pingouin import normality\n",
    "\n",
    "shapiro_a = normality(data.loc[data[\"Method\"] == \"Classifier A\"]['Precision'], method='shapiro')\n",
    "shapiro_b = normality(data.loc[data[\"Method\"] == \"Classifier B\"]['Precision'], method='shapiro')\n",
    "shapiro_c = normality(data.loc[data[\"Method\"] == \"Classifier C\"]['Precision'], method='shapiro')\n",
    "\n",
    "print('### Test de normalidad Shapiro-Wilk para el clasificador A')\n",
    "print(f'### estadístico = {shapiro_a.W.values[0]:.4f}, p-value = {shapiro_a.pval.values[0]:.4f}')\n",
    "\n",
    "print('### Test de normalidad Shapiro-Wilk para el clasificador B')\n",
    "print(f'### estadístico = {shapiro_b.W.values[0]:.4f}, p-value = {shapiro_b.pval.values[0]:.4f}')\n",
    "\n",
    "print('### Test de normalidad Shapiro-Wilk para el clasificador C')\n",
    "print(f'### estadístico = {shapiro_c.W.values[0]:.4f}, p-value = {shapiro_c.pval.values[0]:.4f}')"
   ]
  },
  {
   "attachments": {},
   "cell_type": "markdown",
   "metadata": {},
   "source": [
    "Como se puede deducir de los datos, las precisiones obtenidas por cada clasificador en cada uno de los conjuntos de datos **proceden de una distribución normal con un 95% de confianza**. \n",
    "\n",
    "El siguiente paso es comprobar la **homogeneidad de las varianzas**, que en el caso de un ANOVA con medidas repetidas se traduce en comprobar la **esfericidad** de la matriz de covarianzas. "
   ]
  },
  {
   "cell_type": "code",
   "execution_count": 18,
   "metadata": {},
   "outputs": [
    {
     "name": "stdout",
     "output_type": "stream",
     "text": [
      "Estadistico: inf p-value: 1.0000\n"
     ]
    },
    {
     "name": "stderr",
     "output_type": "stream",
     "text": [
      "/Users/luisi/Documents/Master-Big-Data/Minería de datos/.venv/lib/python3.11/site-packages/pingouin/distribution.py:1004: RuntimeWarning: divide by zero encountered in scalar divide\n",
      "  W = np.prod(eig) / (eig.sum() / d) ** d\n"
     ]
    }
   ],
   "source": [
    "from pingouin import sphericity\n",
    "\n",
    "esfericidad = sphericity(data = data, dv = 'Precision', within = 'Method', subject = 'dataset', alpha = 0.05)\n",
    "\n",
    "print(f'Estadistico: {esfericidad.W:.3f} p-value: {esfericidad.pval:.4f}')"
   ]
  },
  {
   "attachments": {},
   "cell_type": "markdown",
   "metadata": {},
   "source": [
    "Como podemos ver que, con el 95% de confianza, **no podemos rechazar la hipótesis nula** de que la matriz de covarianzas cumple la propiedad de esfericidad.\n",
    "\n",
    "Una vez comprobadas las condiciones de aplicabilidad, podemos proceder a realizar el **test ANOVA** de una via para muestras pareadas: "
   ]
  },
  {
   "cell_type": "code",
   "execution_count": 19,
   "metadata": {},
   "outputs": [
    {
     "data": {
      "text/html": [
       "<div>\n",
       "<style scoped>\n",
       "    .dataframe tbody tr th:only-of-type {\n",
       "        vertical-align: middle;\n",
       "    }\n",
       "\n",
       "    .dataframe tbody tr th {\n",
       "        vertical-align: top;\n",
       "    }\n",
       "\n",
       "    .dataframe thead th {\n",
       "        text-align: right;\n",
       "    }\n",
       "</style>\n",
       "<table border=\"1\" class=\"dataframe\">\n",
       "  <thead>\n",
       "    <tr style=\"text-align: right;\">\n",
       "      <th></th>\n",
       "      <th>Source</th>\n",
       "      <th>SS</th>\n",
       "      <th>DF</th>\n",
       "      <th>MS</th>\n",
       "      <th>F</th>\n",
       "      <th>p-unc</th>\n",
       "      <th>np2</th>\n",
       "    </tr>\n",
       "  </thead>\n",
       "  <tbody>\n",
       "    <tr>\n",
       "      <th>0</th>\n",
       "      <td>Method</td>\n",
       "      <td>0.111307</td>\n",
       "      <td>2</td>\n",
       "      <td>0.055653</td>\n",
       "      <td>110.54354</td>\n",
       "      <td>9.914135e-14</td>\n",
       "      <td>0.891167</td>\n",
       "    </tr>\n",
       "    <tr>\n",
       "      <th>1</th>\n",
       "      <td>Within</td>\n",
       "      <td>0.013593</td>\n",
       "      <td>27</td>\n",
       "      <td>0.000503</td>\n",
       "      <td>NaN</td>\n",
       "      <td>NaN</td>\n",
       "      <td>NaN</td>\n",
       "    </tr>\n",
       "  </tbody>\n",
       "</table>\n",
       "</div>"
      ],
      "text/plain": [
       "   Source        SS  DF        MS          F         p-unc       np2\n",
       "0  Method  0.111307   2  0.055653  110.54354  9.914135e-14  0.891167\n",
       "1  Within  0.013593  27  0.000503        NaN           NaN       NaN"
      ]
     },
     "execution_count": 19,
     "metadata": {},
     "output_type": "execute_result"
    }
   ],
   "source": [
    "from pingouin import anova\n",
    "\n",
    "anova = anova(data = data, dv = 'Precision', between = 'Method', detailed = True)\n",
    "\n",
    "anova"
   ]
  },
  {
   "cell_type": "markdown",
   "metadata": {},
   "source": [
    "Con los resultados del test podemos, con un 95% de confianza, **rechazar la hipotesis nula** de que los tres modelos tengan la misma media. \n",
    "\n",
    "El proceso de comprobar la esfericidad de los datos y a continuación realizar el test ANOVA podemos resumirlos tambien en un único paso empleando la función `rm_anova`:"
   ]
  },
  {
   "cell_type": "code",
   "execution_count": 20,
   "metadata": {},
   "outputs": [
    {
     "name": "stderr",
     "output_type": "stream",
     "text": [
      "/Users/luisi/Documents/Master-Big-Data/Minería de datos/.venv/lib/python3.11/site-packages/pingouin/distribution.py:1004: RuntimeWarning: divide by zero encountered in scalar divide\n",
      "  W = np.prod(eig) / (eig.sum() / d) ** d\n"
     ]
    },
    {
     "data": {
      "text/html": [
       "<div>\n",
       "<style scoped>\n",
       "    .dataframe tbody tr th:only-of-type {\n",
       "        vertical-align: middle;\n",
       "    }\n",
       "\n",
       "    .dataframe tbody tr th {\n",
       "        vertical-align: top;\n",
       "    }\n",
       "\n",
       "    .dataframe thead th {\n",
       "        text-align: right;\n",
       "    }\n",
       "</style>\n",
       "<table border=\"1\" class=\"dataframe\">\n",
       "  <thead>\n",
       "    <tr style=\"text-align: right;\">\n",
       "      <th></th>\n",
       "      <th>Source</th>\n",
       "      <th>SS</th>\n",
       "      <th>DF</th>\n",
       "      <th>MS</th>\n",
       "      <th>F</th>\n",
       "      <th>p-unc</th>\n",
       "      <th>p-GG-corr</th>\n",
       "      <th>ng2</th>\n",
       "      <th>eps</th>\n",
       "      <th>sphericity</th>\n",
       "      <th>W-spher</th>\n",
       "      <th>p-spher</th>\n",
       "    </tr>\n",
       "  </thead>\n",
       "  <tbody>\n",
       "    <tr>\n",
       "      <th>0</th>\n",
       "      <td>Method</td>\n",
       "      <td>0.111307</td>\n",
       "      <td>2</td>\n",
       "      <td>0.055653</td>\n",
       "      <td>142.418041</td>\n",
       "      <td>9.259424e-12</td>\n",
       "      <td>2.290742e-09</td>\n",
       "      <td>0.891167</td>\n",
       "      <td>0.757005</td>\n",
       "      <td>True</td>\n",
       "      <td>inf</td>\n",
       "      <td>1.0</td>\n",
       "    </tr>\n",
       "    <tr>\n",
       "      <th>1</th>\n",
       "      <td>Error</td>\n",
       "      <td>0.007034</td>\n",
       "      <td>18</td>\n",
       "      <td>0.000391</td>\n",
       "      <td>NaN</td>\n",
       "      <td>NaN</td>\n",
       "      <td>NaN</td>\n",
       "      <td>NaN</td>\n",
       "      <td>NaN</td>\n",
       "      <td>NaN</td>\n",
       "      <td>NaN</td>\n",
       "      <td>NaN</td>\n",
       "    </tr>\n",
       "  </tbody>\n",
       "</table>\n",
       "</div>"
      ],
      "text/plain": [
       "   Source        SS  DF        MS           F         p-unc     p-GG-corr  \\\n",
       "0  Method  0.111307   2  0.055653  142.418041  9.259424e-12  2.290742e-09   \n",
       "1   Error  0.007034  18  0.000391         NaN           NaN           NaN   \n",
       "\n",
       "        ng2       eps sphericity  W-spher  p-spher  \n",
       "0  0.891167  0.757005       True      inf      1.0  \n",
       "1       NaN       NaN        NaN      NaN      NaN  "
      ]
     },
     "execution_count": 20,
     "metadata": {},
     "output_type": "execute_result"
    }
   ],
   "source": [
    "from pingouin import rm_anova\n",
    "\n",
    "rm_anova(data = data, dv = 'Precision', within = 'Method', subject = 'dataset', detailed = True, correction = True)"
   ]
  },
  {
   "attachments": {},
   "cell_type": "markdown",
   "metadata": {},
   "source": [
    "Las columnas sphericity y p-spher  (p-valor) se corresponden con el test de Mauchly para la esfericidad, que nos indica que no podemos rechazar la hipótesis de que la matriz de covarianzas cumpla esta propiedad. Las columnas eps (Greenhouse-Geisser epsilon factor) y p-GG-corr (p-valor) muestran el resultado de aplicar un procedimiento que permite corregir la desviación producida por cumplir con la esfericidad a los resultados de test ANOVA anteriormente realizados.\n",
    "\n",
    "Una vez sabemos que los predictores no son iguales podemos proceder a identificar donde están las diferencias. Para eso emplearemos el **test de Tukey**."
   ]
  },
  {
   "cell_type": "code",
   "execution_count": 21,
   "metadata": {},
   "outputs": [
    {
     "data": {
      "text/html": [
       "<div>\n",
       "<style scoped>\n",
       "    .dataframe tbody tr th:only-of-type {\n",
       "        vertical-align: middle;\n",
       "    }\n",
       "\n",
       "    .dataframe tbody tr th {\n",
       "        vertical-align: top;\n",
       "    }\n",
       "\n",
       "    .dataframe thead th {\n",
       "        text-align: right;\n",
       "    }\n",
       "</style>\n",
       "<table border=\"1\" class=\"dataframe\">\n",
       "  <thead>\n",
       "    <tr style=\"text-align: right;\">\n",
       "      <th></th>\n",
       "      <th>A</th>\n",
       "      <th>B</th>\n",
       "      <th>mean(A)</th>\n",
       "      <th>mean(B)</th>\n",
       "      <th>diff</th>\n",
       "      <th>se</th>\n",
       "      <th>T</th>\n",
       "      <th>p-tukey</th>\n",
       "      <th>hedges</th>\n",
       "    </tr>\n",
       "  </thead>\n",
       "  <tbody>\n",
       "    <tr>\n",
       "      <th>0</th>\n",
       "      <td>Classifier A</td>\n",
       "      <td>Classifier B</td>\n",
       "      <td>0.86046</td>\n",
       "      <td>0.72858</td>\n",
       "      <td>0.13188</td>\n",
       "      <td>0.010034</td>\n",
       "      <td>13.142699</td>\n",
       "      <td>8.925083e-13</td>\n",
       "      <td>5.351003</td>\n",
       "    </tr>\n",
       "    <tr>\n",
       "      <th>1</th>\n",
       "      <td>Classifier A</td>\n",
       "      <td>Classifier C</td>\n",
       "      <td>0.86046</td>\n",
       "      <td>0.85495</td>\n",
       "      <td>0.00551</td>\n",
       "      <td>0.010034</td>\n",
       "      <td>0.549107</td>\n",
       "      <td>8.478002e-01</td>\n",
       "      <td>0.373185</td>\n",
       "    </tr>\n",
       "    <tr>\n",
       "      <th>2</th>\n",
       "      <td>Classifier B</td>\n",
       "      <td>Classifier C</td>\n",
       "      <td>0.72858</td>\n",
       "      <td>0.85495</td>\n",
       "      <td>-0.12637</td>\n",
       "      <td>0.010034</td>\n",
       "      <td>-12.593592</td>\n",
       "      <td>2.422618e-12</td>\n",
       "      <td>-4.409946</td>\n",
       "    </tr>\n",
       "  </tbody>\n",
       "</table>\n",
       "</div>"
      ],
      "text/plain": [
       "              A             B  mean(A)  mean(B)     diff        se          T  \\\n",
       "0  Classifier A  Classifier B  0.86046  0.72858  0.13188  0.010034  13.142699   \n",
       "1  Classifier A  Classifier C  0.86046  0.85495  0.00551  0.010034   0.549107   \n",
       "2  Classifier B  Classifier C  0.72858  0.85495 -0.12637  0.010034 -12.593592   \n",
       "\n",
       "        p-tukey    hedges  \n",
       "0  8.925083e-13  5.351003  \n",
       "1  8.478002e-01  0.373185  \n",
       "2  2.422618e-12 -4.409946  "
      ]
     },
     "execution_count": 21,
     "metadata": {},
     "output_type": "execute_result"
    }
   ],
   "source": [
    "from pingouin import pairwise_tukey\n",
    "\n",
    "comparative = pairwise_tukey(data = data, dv = 'Precision', between = 'Method')\n",
    "\n",
    "comparative"
   ]
  },
  {
   "attachments": {},
   "cell_type": "markdown",
   "metadata": {},
   "source": [
    "Como se pueden ver en los resultados, existen **diferencias altamente significativas** entre el **clasificador A** y el **clasificador B** (p-value = 8.959e-13 ) y el entre el **clasificador B** y el **clasificador C** (p-value = 2.426e-12). En ambos casos, los datos estimados para la media de las diferencias indican que, teniendo en cuenta la precisión, **el B es peor que el resto de los clasificadores**. En cambio, **no podemos establecer diferencias significativas** entre el **clasificador A** y el **clasificador C** (p-value= 0.8478). "
   ]
  },
  {
   "attachments": {},
   "cell_type": "markdown",
   "metadata": {},
   "source": [
    "### 3.2. Caso no paramétrico\n",
    "\n",
    "Supongamos ahora que queremos comprobar la eficacia de una SVM con kernel lineal, un árbol C5.0 y una red neuronal en diferentes conjuntos de datos. \n",
    "\n",
    "Para ello, hemos entrenado cada uno de los clasificadores en cada uno de los conjuntos de datos obteniendo el índice Kappa en cada evaluación. Podeis cargar los datos del fichero `ejemplo5.dat`:"
   ]
  },
  {
   "cell_type": "code",
   "execution_count": 22,
   "metadata": {},
   "outputs": [
    {
     "data": {
      "text/html": [
       "<div>\n",
       "<style scoped>\n",
       "    .dataframe tbody tr th:only-of-type {\n",
       "        vertical-align: middle;\n",
       "    }\n",
       "\n",
       "    .dataframe tbody tr th {\n",
       "        vertical-align: top;\n",
       "    }\n",
       "\n",
       "    .dataframe thead th {\n",
       "        text-align: right;\n",
       "    }\n",
       "</style>\n",
       "<table border=\"1\" class=\"dataframe\">\n",
       "  <thead>\n",
       "    <tr style=\"text-align: right;\">\n",
       "      <th></th>\n",
       "      <th>Dataset</th>\n",
       "      <th>SVMLinear</th>\n",
       "      <th>C50</th>\n",
       "      <th>NNET</th>\n",
       "    </tr>\n",
       "  </thead>\n",
       "  <tbody>\n",
       "    <tr>\n",
       "      <th>0</th>\n",
       "      <td>hepatitis</td>\n",
       "      <td>0.458175</td>\n",
       "      <td>0.523767</td>\n",
       "      <td>0.441098</td>\n",
       "    </tr>\n",
       "    <tr>\n",
       "      <th>1</th>\n",
       "      <td>iris</td>\n",
       "      <td>0.940000</td>\n",
       "      <td>0.920000</td>\n",
       "      <td>0.950000</td>\n",
       "    </tr>\n",
       "    <tr>\n",
       "      <th>2</th>\n",
       "      <td>cox2</td>\n",
       "      <td>0.356839</td>\n",
       "      <td>0.392446</td>\n",
       "      <td>0.427785</td>\n",
       "    </tr>\n",
       "    <tr>\n",
       "      <th>3</th>\n",
       "      <td>oil</td>\n",
       "      <td>0.957299</td>\n",
       "      <td>0.946611</td>\n",
       "      <td>0.982979</td>\n",
       "    </tr>\n",
       "    <tr>\n",
       "      <th>4</th>\n",
       "      <td>dhfr</td>\n",
       "      <td>0.842190</td>\n",
       "      <td>0.809820</td>\n",
       "      <td>0.843982</td>\n",
       "    </tr>\n",
       "    <tr>\n",
       "      <th>5</th>\n",
       "      <td>German</td>\n",
       "      <td>0.357970</td>\n",
       "      <td>0.378608</td>\n",
       "      <td>0.388413</td>\n",
       "    </tr>\n",
       "    <tr>\n",
       "      <th>6</th>\n",
       "      <td>Seg</td>\n",
       "      <td>0.567466</td>\n",
       "      <td>0.664388</td>\n",
       "      <td>0.578170</td>\n",
       "    </tr>\n",
       "    <tr>\n",
       "      <th>7</th>\n",
       "      <td>Breast</td>\n",
       "      <td>0.920248</td>\n",
       "      <td>0.914644</td>\n",
       "      <td>0.931243</td>\n",
       "    </tr>\n",
       "    <tr>\n",
       "      <th>8</th>\n",
       "      <td>Pima</td>\n",
       "      <td>0.476974</td>\n",
       "      <td>0.457351</td>\n",
       "      <td>0.485749</td>\n",
       "    </tr>\n",
       "    <tr>\n",
       "      <th>9</th>\n",
       "      <td>Sonar</td>\n",
       "      <td>0.489955</td>\n",
       "      <td>0.661162</td>\n",
       "      <td>0.698528</td>\n",
       "    </tr>\n",
       "  </tbody>\n",
       "</table>\n",
       "</div>"
      ],
      "text/plain": [
       "     Dataset  SVMLinear       C50      NNET\n",
       "0  hepatitis   0.458175  0.523767  0.441098\n",
       "1       iris   0.940000  0.920000  0.950000\n",
       "2       cox2   0.356839  0.392446  0.427785\n",
       "3        oil   0.957299  0.946611  0.982979\n",
       "4       dhfr   0.842190  0.809820  0.843982\n",
       "5     German   0.357970  0.378608  0.388413\n",
       "6        Seg   0.567466  0.664388  0.578170\n",
       "7     Breast   0.920248  0.914644  0.931243\n",
       "8       Pima   0.476974  0.457351  0.485749\n",
       "9      Sonar   0.489955  0.661162  0.698528"
      ]
     },
     "execution_count": 22,
     "metadata": {},
     "output_type": "execute_result"
    }
   ],
   "source": [
    "data = pd.read_csv('./Datos/data/ejemplo5.dat')\n",
    "data.columns = ['Dataset', 'SVMLinear', 'C50', 'NNET']\n",
    "\n",
    "data"
   ]
  },
  {
   "cell_type": "markdown",
   "metadata": {},
   "source": [
    "Como en el caso anterior, tenemos que **elegir** entre un **test ANOVA de una vía para medidas pareadas** o su equivalente no paramétrico el **test de Friedman**, **dependiendo si se cumplen los supuestos** para el test ANOVA. Como en el caso anterior, resulta más cómodo transformar la tabla, con la información sobre las agrupaciones en una columna."
   ]
  },
  {
   "cell_type": "code",
   "execution_count": 23,
   "metadata": {},
   "outputs": [
    {
     "data": {
      "text/html": [
       "<div>\n",
       "<style scoped>\n",
       "    .dataframe tbody tr th:only-of-type {\n",
       "        vertical-align: middle;\n",
       "    }\n",
       "\n",
       "    .dataframe tbody tr th {\n",
       "        vertical-align: top;\n",
       "    }\n",
       "\n",
       "    .dataframe thead th {\n",
       "        text-align: right;\n",
       "    }\n",
       "</style>\n",
       "<table border=\"1\" class=\"dataframe\">\n",
       "  <thead>\n",
       "    <tr style=\"text-align: right;\">\n",
       "      <th></th>\n",
       "      <th>Dataset</th>\n",
       "      <th>Method</th>\n",
       "      <th>Kappa</th>\n",
       "    </tr>\n",
       "  </thead>\n",
       "  <tbody>\n",
       "    <tr>\n",
       "      <th>0</th>\n",
       "      <td>hepatitis</td>\n",
       "      <td>SVMLinear</td>\n",
       "      <td>0.458175</td>\n",
       "    </tr>\n",
       "    <tr>\n",
       "      <th>1</th>\n",
       "      <td>iris</td>\n",
       "      <td>SVMLinear</td>\n",
       "      <td>0.940000</td>\n",
       "    </tr>\n",
       "    <tr>\n",
       "      <th>2</th>\n",
       "      <td>cox2</td>\n",
       "      <td>SVMLinear</td>\n",
       "      <td>0.356839</td>\n",
       "    </tr>\n",
       "    <tr>\n",
       "      <th>3</th>\n",
       "      <td>oil</td>\n",
       "      <td>SVMLinear</td>\n",
       "      <td>0.957299</td>\n",
       "    </tr>\n",
       "    <tr>\n",
       "      <th>4</th>\n",
       "      <td>dhfr</td>\n",
       "      <td>SVMLinear</td>\n",
       "      <td>0.842190</td>\n",
       "    </tr>\n",
       "    <tr>\n",
       "      <th>5</th>\n",
       "      <td>German</td>\n",
       "      <td>SVMLinear</td>\n",
       "      <td>0.357970</td>\n",
       "    </tr>\n",
       "    <tr>\n",
       "      <th>6</th>\n",
       "      <td>Seg</td>\n",
       "      <td>SVMLinear</td>\n",
       "      <td>0.567466</td>\n",
       "    </tr>\n",
       "    <tr>\n",
       "      <th>7</th>\n",
       "      <td>Breast</td>\n",
       "      <td>SVMLinear</td>\n",
       "      <td>0.920248</td>\n",
       "    </tr>\n",
       "    <tr>\n",
       "      <th>8</th>\n",
       "      <td>Pima</td>\n",
       "      <td>SVMLinear</td>\n",
       "      <td>0.476974</td>\n",
       "    </tr>\n",
       "    <tr>\n",
       "      <th>9</th>\n",
       "      <td>Sonar</td>\n",
       "      <td>SVMLinear</td>\n",
       "      <td>0.489955</td>\n",
       "    </tr>\n",
       "    <tr>\n",
       "      <th>10</th>\n",
       "      <td>hepatitis</td>\n",
       "      <td>C50</td>\n",
       "      <td>0.523767</td>\n",
       "    </tr>\n",
       "    <tr>\n",
       "      <th>11</th>\n",
       "      <td>iris</td>\n",
       "      <td>C50</td>\n",
       "      <td>0.920000</td>\n",
       "    </tr>\n",
       "    <tr>\n",
       "      <th>12</th>\n",
       "      <td>cox2</td>\n",
       "      <td>C50</td>\n",
       "      <td>0.392446</td>\n",
       "    </tr>\n",
       "    <tr>\n",
       "      <th>13</th>\n",
       "      <td>oil</td>\n",
       "      <td>C50</td>\n",
       "      <td>0.946611</td>\n",
       "    </tr>\n",
       "    <tr>\n",
       "      <th>14</th>\n",
       "      <td>dhfr</td>\n",
       "      <td>C50</td>\n",
       "      <td>0.809820</td>\n",
       "    </tr>\n",
       "    <tr>\n",
       "      <th>15</th>\n",
       "      <td>German</td>\n",
       "      <td>C50</td>\n",
       "      <td>0.378608</td>\n",
       "    </tr>\n",
       "    <tr>\n",
       "      <th>16</th>\n",
       "      <td>Seg</td>\n",
       "      <td>C50</td>\n",
       "      <td>0.664388</td>\n",
       "    </tr>\n",
       "    <tr>\n",
       "      <th>17</th>\n",
       "      <td>Breast</td>\n",
       "      <td>C50</td>\n",
       "      <td>0.914644</td>\n",
       "    </tr>\n",
       "    <tr>\n",
       "      <th>18</th>\n",
       "      <td>Pima</td>\n",
       "      <td>C50</td>\n",
       "      <td>0.457351</td>\n",
       "    </tr>\n",
       "    <tr>\n",
       "      <th>19</th>\n",
       "      <td>Sonar</td>\n",
       "      <td>C50</td>\n",
       "      <td>0.661162</td>\n",
       "    </tr>\n",
       "    <tr>\n",
       "      <th>20</th>\n",
       "      <td>hepatitis</td>\n",
       "      <td>NNET</td>\n",
       "      <td>0.441098</td>\n",
       "    </tr>\n",
       "    <tr>\n",
       "      <th>21</th>\n",
       "      <td>iris</td>\n",
       "      <td>NNET</td>\n",
       "      <td>0.950000</td>\n",
       "    </tr>\n",
       "    <tr>\n",
       "      <th>22</th>\n",
       "      <td>cox2</td>\n",
       "      <td>NNET</td>\n",
       "      <td>0.427785</td>\n",
       "    </tr>\n",
       "    <tr>\n",
       "      <th>23</th>\n",
       "      <td>oil</td>\n",
       "      <td>NNET</td>\n",
       "      <td>0.982979</td>\n",
       "    </tr>\n",
       "    <tr>\n",
       "      <th>24</th>\n",
       "      <td>dhfr</td>\n",
       "      <td>NNET</td>\n",
       "      <td>0.843982</td>\n",
       "    </tr>\n",
       "    <tr>\n",
       "      <th>25</th>\n",
       "      <td>German</td>\n",
       "      <td>NNET</td>\n",
       "      <td>0.388413</td>\n",
       "    </tr>\n",
       "    <tr>\n",
       "      <th>26</th>\n",
       "      <td>Seg</td>\n",
       "      <td>NNET</td>\n",
       "      <td>0.578170</td>\n",
       "    </tr>\n",
       "    <tr>\n",
       "      <th>27</th>\n",
       "      <td>Breast</td>\n",
       "      <td>NNET</td>\n",
       "      <td>0.931243</td>\n",
       "    </tr>\n",
       "    <tr>\n",
       "      <th>28</th>\n",
       "      <td>Pima</td>\n",
       "      <td>NNET</td>\n",
       "      <td>0.485749</td>\n",
       "    </tr>\n",
       "    <tr>\n",
       "      <th>29</th>\n",
       "      <td>Sonar</td>\n",
       "      <td>NNET</td>\n",
       "      <td>0.698528</td>\n",
       "    </tr>\n",
       "  </tbody>\n",
       "</table>\n",
       "</div>"
      ],
      "text/plain": [
       "      Dataset     Method     Kappa\n",
       "0   hepatitis  SVMLinear  0.458175\n",
       "1        iris  SVMLinear  0.940000\n",
       "2        cox2  SVMLinear  0.356839\n",
       "3         oil  SVMLinear  0.957299\n",
       "4        dhfr  SVMLinear  0.842190\n",
       "5      German  SVMLinear  0.357970\n",
       "6         Seg  SVMLinear  0.567466\n",
       "7      Breast  SVMLinear  0.920248\n",
       "8        Pima  SVMLinear  0.476974\n",
       "9       Sonar  SVMLinear  0.489955\n",
       "10  hepatitis        C50  0.523767\n",
       "11       iris        C50  0.920000\n",
       "12       cox2        C50  0.392446\n",
       "13        oil        C50  0.946611\n",
       "14       dhfr        C50  0.809820\n",
       "15     German        C50  0.378608\n",
       "16        Seg        C50  0.664388\n",
       "17     Breast        C50  0.914644\n",
       "18       Pima        C50  0.457351\n",
       "19      Sonar        C50  0.661162\n",
       "20  hepatitis       NNET  0.441098\n",
       "21       iris       NNET  0.950000\n",
       "22       cox2       NNET  0.427785\n",
       "23        oil       NNET  0.982979\n",
       "24       dhfr       NNET  0.843982\n",
       "25     German       NNET  0.388413\n",
       "26        Seg       NNET  0.578170\n",
       "27     Breast       NNET  0.931243\n",
       "28       Pima       NNET  0.485749\n",
       "29      Sonar       NNET  0.698528"
      ]
     },
     "execution_count": 23,
     "metadata": {},
     "output_type": "execute_result"
    }
   ],
   "source": [
    "data = data.melt(id_vars='Dataset', value_vars=['SVMLinear', 'C50', 'NNET'], var_name='Method', value_name='Kappa')\n",
    "\n",
    "data"
   ]
  },
  {
   "cell_type": "markdown",
   "metadata": {},
   "source": [
    "Comprobamos la normalidad en cada grupo:"
   ]
  },
  {
   "cell_type": "code",
   "execution_count": 24,
   "metadata": {},
   "outputs": [
    {
     "name": "stdout",
     "output_type": "stream",
     "text": [
      "### Test de normalidad Shapiro-Wilk para el SVMLinear\n",
      "### estadístico = 0.8372, p-value = 0.0409\n",
      "### Test de normalidad Shapiro-Wilk para el C50\n",
      "### estadístico = 0.8956, p-value = 0.1958\n",
      "### Test de normalidad Shapiro-Wilk para el NNET\n",
      "### estadístico = 0.8746, p-value = 0.1130\n"
     ]
    }
   ],
   "source": [
    "from pingouin import normality\n",
    "\n",
    "shapiro_a = normality(data.loc[data[\"Method\"] == \"SVMLinear\"]['Kappa'], method='shapiro')\n",
    "shapiro_b = normality(data.loc[data[\"Method\"] == \"C50\"]['Kappa'], method='shapiro')\n",
    "shapiro_c = normality(data.loc[data[\"Method\"] == \"NNET\"]['Kappa'], method='shapiro')\n",
    "\n",
    "print('### Test de normalidad Shapiro-Wilk para el SVMLinear')\n",
    "print(f'### estadístico = {shapiro_a.W.values[0]:.4f}, p-value = {shapiro_a.pval.values[0]:.4f}')\n",
    "\n",
    "print('### Test de normalidad Shapiro-Wilk para el C50')\n",
    "print(f'### estadístico = {shapiro_b.W.values[0]:.4f}, p-value = {shapiro_b.pval.values[0]:.4f}')\n",
    "\n",
    "print('### Test de normalidad Shapiro-Wilk para el NNET')\n",
    "print(f'### estadístico = {shapiro_c.W.values[0]:.4f}, p-value = {shapiro_c.pval.values[0]:.4f}')"
   ]
  },
  {
   "attachments": {},
   "cell_type": "markdown",
   "metadata": {},
   "source": [
    "Como podemos ver **la muestra obtenida para el clasificador SVM no cumple la normalidad**, con lo que debemos proceder a aplicar el **test de Friedman**. En este caso se comprueba si las medianas entre los diferentes clasificadores son iguales, es decir:\n",
    "\n",
    "$$ H0: \\eta_1 = \\eta_2 = \\dots = \\eta_n $$\n",
    "$$ H1: \\text{las medianas no son iguales} $$"
   ]
  },
  {
   "cell_type": "code",
   "execution_count": 25,
   "metadata": {},
   "outputs": [
    {
     "name": "stdout",
     "output_type": "stream",
     "text": [
      "### Test de Friedman\n",
      "### estadistico = 0.3700 p-value = 0.0247\n"
     ]
    }
   ],
   "source": [
    "from pingouin import friedman\n",
    "\n",
    "friedman = friedman(data = data, dv = 'Kappa', within = 'Method', subject = 'Dataset')\n",
    "\n",
    "print('### Test de Friedman')\n",
    "print(f'### estadistico = {friedman.W.values[0]:.4f} p-value = {friedman[\"p-unc\"].values[0]:.4f}')"
   ]
  },
  {
   "cell_type": "markdown",
   "metadata": {},
   "source": [
    "Como podemos observar, **podemos afirmar con una confianza del 95% que existen diferencias significativas en los índices Kappas** obtenidos por los tres clasificadores en los conjuntos de datos utilizados. Una vez confirmado la existencia de diferencias entre los clasificadores, podemos aplicar un **test de pares no parametrico** para comprobar donde está la diferencia."
   ]
  },
  {
   "cell_type": "code",
   "execution_count": 26,
   "metadata": {},
   "outputs": [
    {
     "data": {
      "text/html": [
       "<div>\n",
       "<style scoped>\n",
       "    .dataframe tbody tr th:only-of-type {\n",
       "        vertical-align: middle;\n",
       "    }\n",
       "\n",
       "    .dataframe tbody tr th {\n",
       "        vertical-align: top;\n",
       "    }\n",
       "\n",
       "    .dataframe thead th {\n",
       "        text-align: right;\n",
       "    }\n",
       "</style>\n",
       "<table border=\"1\" class=\"dataframe\">\n",
       "  <thead>\n",
       "    <tr style=\"text-align: right;\">\n",
       "      <th></th>\n",
       "      <th>Contrast</th>\n",
       "      <th>A</th>\n",
       "      <th>B</th>\n",
       "      <th>mean(A)</th>\n",
       "      <th>std(A)</th>\n",
       "      <th>mean(B)</th>\n",
       "      <th>std(B)</th>\n",
       "      <th>Paired</th>\n",
       "      <th>Parametric</th>\n",
       "      <th>W-val</th>\n",
       "      <th>alternative</th>\n",
       "      <th>p-unc</th>\n",
       "      <th>hedges</th>\n",
       "    </tr>\n",
       "  </thead>\n",
       "  <tbody>\n",
       "    <tr>\n",
       "      <th>0</th>\n",
       "      <td>Method</td>\n",
       "      <td>C50</td>\n",
       "      <td>NNET</td>\n",
       "      <td>0.666880</td>\n",
       "      <td>0.222854</td>\n",
       "      <td>0.672795</td>\n",
       "      <td>0.237661</td>\n",
       "      <td>True</td>\n",
       "      <td>False</td>\n",
       "      <td>19.0</td>\n",
       "      <td>two-sided</td>\n",
       "      <td>0.431641</td>\n",
       "      <td>-0.024590</td>\n",
       "    </tr>\n",
       "    <tr>\n",
       "      <th>1</th>\n",
       "      <td>Method</td>\n",
       "      <td>C50</td>\n",
       "      <td>SVMLinear</td>\n",
       "      <td>0.666880</td>\n",
       "      <td>0.222854</td>\n",
       "      <td>0.636712</td>\n",
       "      <td>0.248802</td>\n",
       "      <td>True</td>\n",
       "      <td>False</td>\n",
       "      <td>16.0</td>\n",
       "      <td>two-sided</td>\n",
       "      <td>0.275391</td>\n",
       "      <td>0.122334</td>\n",
       "    </tr>\n",
       "    <tr>\n",
       "      <th>2</th>\n",
       "      <td>Method</td>\n",
       "      <td>NNET</td>\n",
       "      <td>SVMLinear</td>\n",
       "      <td>0.672795</td>\n",
       "      <td>0.237661</td>\n",
       "      <td>0.636712</td>\n",
       "      <td>0.248802</td>\n",
       "      <td>True</td>\n",
       "      <td>False</td>\n",
       "      <td>6.0</td>\n",
       "      <td>two-sided</td>\n",
       "      <td>0.027344</td>\n",
       "      <td>0.142043</td>\n",
       "    </tr>\n",
       "  </tbody>\n",
       "</table>\n",
       "</div>"
      ],
      "text/plain": [
       "  Contrast     A          B   mean(A)    std(A)   mean(B)    std(B)  Paired  \\\n",
       "0   Method   C50       NNET  0.666880  0.222854  0.672795  0.237661    True   \n",
       "1   Method   C50  SVMLinear  0.666880  0.222854  0.636712  0.248802    True   \n",
       "2   Method  NNET  SVMLinear  0.672795  0.237661  0.636712  0.248802    True   \n",
       "\n",
       "   Parametric  W-val alternative     p-unc    hedges  \n",
       "0       False   19.0   two-sided  0.431641 -0.024590  \n",
       "1       False   16.0   two-sided  0.275391  0.122334  \n",
       "2       False    6.0   two-sided  0.027344  0.142043  "
      ]
     },
     "execution_count": 26,
     "metadata": {},
     "output_type": "execute_result"
    }
   ],
   "source": [
    "from pingouin import pairwise_tests\n",
    "\n",
    "pairwise_tests(data = data, dv = 'Kappa', within = 'Method', subject = 'Dataset', parametric = False, marginal = True, return_desc=True)"
   ]
  },
  {
   "cell_type": "markdown",
   "metadata": {},
   "source": [
    "Con estos resultados, podemos ver que hay **diferencias significativas entre el método NNET y el SVMLinear**, mientras que no se hayan diferencias significativas con C50. Si repetimos la gráfica del apartado anterior confirmamos los resultados obtenidos en el test."
   ]
  },
  {
   "cell_type": "code",
   "execution_count": 27,
   "metadata": {},
   "outputs": [
    {
     "data": {
      "image/png": "[encoded data removed]",
      "text/plain": [
       "<Figure size 640x480 with 1 Axes>"
      ]
     },
     "metadata": {},
     "output_type": "display_data"
    }
   ],
   "source": [
    "import matplotlib.pyplot as plt\n",
    "import seaborn as sns\n",
    "\n",
    "ax = sns.boxplot(x='Method', y='Kappa', data=data)\n",
    "ax = sns.swarmplot(x='Method', y='Kappa', data=data)\n",
    "plt.show()"
   ]
  },
  {
   "cell_type": "markdown",
   "metadata": {},
   "source": [
    "<div class=\"alert alert-info\">\n",
    "\n",
    "**Ejercicio:**\n",
    "\n",
    "Carga el dataset de IRIS de `scikit-learn.datasets` y entrena un `RandomForest` y un `KNN` con todos los parámetros por defecto. Emplea una validación cruzada de 20 pliegues. Son las diferencias entre los modelos estadisticamente significativas? \n",
    "\n",
    "</div>"
   ]
  },
  {
   "cell_type": "code",
   "execution_count": 28,
   "metadata": {},
   "outputs": [],
   "source": [
    "from sklearn.datasets import load_iris\n",
    "from sklearn.ensemble import RandomForestClassifier\n",
    "from sklearn.neighbors import KNeighborsClassifier\n",
    "from sklearn.model_selection import cross_val_score\n",
    "\n",
    "iris = load_iris()\n",
    "X = iris.data\n",
    "y = iris.target\n",
    "\n",
    "rf_model = RandomForestClassifier(random_state=42)\n",
    "knn_model = KNeighborsClassifier()\n",
    "\n",
    "n_folds = 20\n",
    "rf_scores = cross_val_score(rf_model, X, y, cv=n_folds, scoring='accuracy')\n",
    "knn_scores = cross_val_score(knn_model, X, y, cv=n_folds, scoring='accuracy')"
   ]
  },
  {
   "cell_type": "markdown",
   "metadata": {},
   "source": [
    "Calculamos las diferencias y comprobamos la normalidad de las mismas"
   ]
  },
  {
   "cell_type": "code",
   "execution_count": 29,
   "metadata": {},
   "outputs": [
    {
     "name": "stdout",
     "output_type": "stream",
     "text": [
      "\n",
      "###Test de normalidad de las diferencias (Shapiro-Wilk)\n",
      "         W          pval  normal\n",
      "0  0.44816  1.116343e-07   False\n",
      "Las diferencias NO siguen una distribución normal\n"
     ]
    }
   ],
   "source": [
    "# verificar normalidad de las diferencias (para test pareado)\n",
    "print(\"\\n###Test de normalidad de las diferencias (Shapiro-Wilk)\")\n",
    "norm_test = normality(rf_scores - knn_scores)\n",
    "print(norm_test)\n",
    "\n",
    "es_normal = norm_test['normal'].values[0]\n",
    "print(f\"Las diferencias {'SÍ' if es_normal else 'NO'} siguen una distribución normal\")"
   ]
  },
  {
   "cell_type": "markdown",
   "metadata": {},
   "source": [
    "Hacemos un test estadístico adecuado según si las diferencias son o no normales"
   ]
  },
  {
   "cell_type": "code",
   "execution_count": 30,
   "metadata": {},
   "outputs": [
    {
     "name": "stdout",
     "output_type": "stream",
     "text": [
      "Usando test de Wilcoxon (datos no normales):\n",
      "          W-val alternative  p-val       RBC    CLES\n",
      "Wilcoxon    1.0   two-sided    1.0 -0.333333  0.4775\n",
      "\n",
      "No podemos decir que exista una diferencia estadísticamente significativa entre RandomForest y KNN (p=1.0000 ≥ 0.05)\n"
     ]
    }
   ],
   "source": [
    "if es_normal:\n",
    "    # si es normal, usamos t-test pareado\n",
    "    print(\"Usando t-test pareado (datos normales):\")\n",
    "    resultados_test = ttest(rf_scores, knn_scores, paired=True)\n",
    "    \n",
    "else:\n",
    "    # si no es normal, usamos test de Wilcoxon\n",
    "    print(\"Usando test de Wilcoxon (datos no normales):\")\n",
    "    resultados_test = wilcoxon(rf_scores, knn_scores)\n",
    "\n",
    "print(resultados_test)\n",
    "p_value = resultados_test['p-val'].values[0]\n",
    "\n",
    "\n",
    "if p_value < 0.05:\n",
    "    print(f\"\\nHay una diferencia estadísticamente significativa entre RandomForest y KNN (p={p_value:.4f} < 0.05)\")\n",
    "else:\n",
    "    print(f\"\\nNo podemos decir que exista una diferencia estadísticamente significativa entre RandomForest y KNN (p={p_value:.4f} ≥ 0.05)\")"
   ]
  },
  {
   "cell_type": "markdown",
   "metadata": {},
   "source": [
    "<div class=\"alert alert-info\">\n",
    "\n",
    "**Ejercicio:**\n",
    "\n",
    "Carga los datasets IRIS, Digits, Wine y BreastCancer de `scikit-learn.datasets` y entrena un `RandomForest`, un `KNN` y un `SVM linear` con todos los parámetros por defecto. Son las diferencias entre los modelos estadisticamente significativas? \n",
    "\n",
    "</div>"
   ]
  },
  {
   "cell_type": "markdown",
   "metadata": {},
   "source": [
    "Primero, cargamos los datasets y entrenamos los modelos"
   ]
  },
  {
   "cell_type": "code",
   "execution_count": 31,
   "metadata": {},
   "outputs": [],
   "source": [
    "from sklearn.datasets import load_iris, load_digits, load_wine, load_breast_cancer\n",
    "from sklearn.svm import SVC\n",
    "\n",
    "\n",
    "def load_dataset(name):\n",
    "    if name == 'iris':\n",
    "        return load_iris()\n",
    "    elif name == 'digits':\n",
    "        return load_digits()\n",
    "    elif name == 'wine':\n",
    "        return load_wine()\n",
    "    elif name == 'breast_cancer':\n",
    "        return load_breast_cancer()\n",
    "\n",
    "datasets = ['iris', 'digits', 'wine', 'breast_cancer']\n",
    "models = {\n",
    "    'RandomForest': RandomForestClassifier(random_state=42),\n",
    "    'KNN': KNeighborsClassifier(),\n",
    "    'SVM': SVC(kernel='linear', random_state=42)\n",
    "}\n",
    "\n",
    "results = pd.DataFrame()\n",
    "\n",
    "# entrenamos todos los modelos para cada dataset\n",
    "for dataset_name in datasets:\n",
    "    dataset = load_dataset(dataset_name)\n",
    "    X, y = dataset.data, dataset.target\n",
    "    \n",
    "    for model_name, model in models.items():\n",
    "        scores = cross_val_score(model, X, y, cv=10, scoring='accuracy')\n",
    "\n",
    "        results = pd.concat([results, pd.DataFrame({'dataset': dataset_name, 'model': model_name, \n",
    "                                                    'accuracy': np.mean(scores)}, index=[0])], ignore_index=True)"
   ]
  },
  {
   "cell_type": "markdown",
   "metadata": {},
   "source": [
    "Hacemos un test de normalidad y  de esfericidad"
   ]
  },
  {
   "cell_type": "code",
   "execution_count": 32,
   "metadata": {},
   "outputs": [
    {
     "name": "stdout",
     "output_type": "stream",
     "text": [
      "### Test de normalidad Shapiro-Wilk para el RandomForest\n",
      "### estadístico = 0.9425, p-value = 0.6694\n",
      "### Test de normalidad Shapiro-Wilk para el KNN\n",
      "### estadístico = 0.7318, p-value = 0.0257\n",
      "### Test de normalidad Shapiro-Wilk para el SVM\n",
      "### estadístico = 0.8509, p-value = 0.2292\n"
     ]
    }
   ],
   "source": [
    "shapiro_a = normality(results.loc[results[\"model\"] == \"RandomForest\"]['accuracy'], method='shapiro')\n",
    "shapiro_b = normality(results.loc[results[\"model\"] == \"KNN\"]['accuracy'], method='shapiro')\n",
    "shapiro_c = normality(results.loc[results[\"model\"] == \"SVM\"]['accuracy'], method='shapiro')\n",
    "\n",
    "print('### Test de normalidad Shapiro-Wilk para el RandomForest')\n",
    "print(f'### estadístico = {shapiro_a.W.values[0]:.4f}, p-value = {shapiro_a.pval.values[0]:.4f}')\n",
    "\n",
    "print('### Test de normalidad Shapiro-Wilk para el KNN')\n",
    "print(f'### estadístico = {shapiro_b.W.values[0]:.4f}, p-value = {shapiro_b.pval.values[0]:.4f}')\n",
    "\n",
    "print('### Test de normalidad Shapiro-Wilk para el SVM')\n",
    "print(f'### estadístico = {shapiro_c.W.values[0]:.4f}, p-value = {shapiro_c.pval.values[0]:.4f}')"
   ]
  },
  {
   "cell_type": "markdown",
   "metadata": {},
   "source": [
    "Hacemos un test no paramétrico para medidas repetidas (Friedman). El subject deberá identificar lo que tiene mediciones repetidas; en validación cruzada, generalmente es el fold."
   ]
  },
  {
   "cell_type": "code",
   "execution_count": 33,
   "metadata": {},
   "outputs": [
    {
     "name": "stdout",
     "output_type": "stream",
     "text": [
      "### Test de Friedman\n",
      "### estadistico = 0.0625 p-value = 0.7788\n",
      "No hay diferencias estadísticamente significativas entre los modelos.\n",
      "\n"
     ]
    }
   ],
   "source": [
    "from pingouin import friedman\n",
    "\n",
    "friedman_result = friedman(data=results, dv='accuracy', within='model', subject='dataset')\n",
    "\n",
    "print('### Test de Friedman')\n",
    "print(f'### estadistico = {friedman_result.W.values[0]:.4f} p-value = {friedman_result[\"p-unc\"].values[0]:.4f}')\n",
    "\n",
    "hay_diferencias = friedman_result['p-unc'].values[0] < 0.05\n",
    "\n",
    "if hay_diferencias:\n",
    "    print(\"Hay diferencias estadísticamente significativas entre los modelos.\\n\")\n",
    "    print(f\"{pairwise_tests(data = results, dv = 'accuracy', within = 'model', subject = 'fold', parametric = False, return_desc=True)}\\n\")\n",
    "\n",
    "else:\n",
    "    print(\"No hay diferencias estadísticamente significativas entre los modelos.\\n\")"
   ]
  },
  {
   "cell_type": "markdown",
   "metadata": {},
   "source": [
    "No podemos rechazar la hipótesis nula de que las medianas de los aciertos obtenidos por cada modelo son iguales."
   ]
  },
  {
   "cell_type": "markdown",
   "metadata": {},
   "source": [
    "La homocedasticidad es un concepto más general sobre igualdad de varianzas, mientras que la esfericidad es un requisito específico para ANOVA de medidas repetidas relacionado con la varianza de las diferencias entre pares de mediciones."
   ]
  }
 ],
 "metadata": {
  "kernelspec": {
   "display_name": ".venv",
   "language": "python",
   "name": "python3"
  },
  "language_info": {
   "codemirror_mode": {
    "name": "ipython",
    "version": 3
   },
   "file_extension": ".py",
   "mimetype": "text/x-python",
   "name": "python",
   "nbconvert_exporter": "python",
   "pygments_lexer": "ipython3",
   "version": "3.11.9"
  },
  "orig_nbformat": 4
 },
 "nbformat": 4,
 "nbformat_minor": 2
}
